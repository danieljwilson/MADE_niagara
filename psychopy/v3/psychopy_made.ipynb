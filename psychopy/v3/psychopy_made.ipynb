{
 "cells": [
  {
   "cell_type": "markdown",
   "metadata": {
    "toc": true
   },
   "source": [
    "<h1>Table of Contents<span class=\"tocSkip\"></span></h1>\n",
    "<div class=\"toc\"><ul class=\"toc-item\"></ul></div>"
   ]
  },
  {
   "cell_type": "code",
   "execution_count": 2,
   "metadata": {
    "collapsed": true
   },
   "outputs": [],
   "source": [
    "import pandas as pd\n",
    "import numpy as np\n",
    "import matplotlib.pyplot as plt\n",
    "from collections import namedtuple \n",
    "import random\n",
    "from itertools import permutations \n",
    "from collections import Counter"
   ]
  },
  {
   "cell_type": "code",
   "execution_count": 248,
   "metadata": {},
   "outputs": [],
   "source": [
    "expInfo = {'subject':999, 'left':'house', 'face_version':9, 'house_version':9}"
   ]
  },
  {
   "cell_type": "code",
   "execution_count": 249,
   "metadata": {},
   "outputs": [],
   "source": [
    "expInfo['face_version'] = 0\n",
    "expInfo['house_version'] = 0"
   ]
  },
  {
   "cell_type": "code",
   "execution_count": 250,
   "metadata": {},
   "outputs": [],
   "source": [
    "num = range(0,101)"
   ]
  },
  {
   "cell_type": "code",
   "execution_count": 251,
   "metadata": {},
   "outputs": [],
   "source": [
    "if expInfo['face_version'] in range(0,2) and expInfo['house_version'] in range(0,2): # test for valid value\n",
    "    # create namedtuple\n",
    "    Stimuli = namedtuple('Stimuli', 'face face_val house house_val') \n",
    "    \n",
    "    # load list of stimuli\n",
    "    Stimuli.face = ['faceMorph' + (\"{:03}\".format(num[i])) + '.jpg' for i in num]\n",
    "    Stimuli.house = ['houseMorph' + (\"{:03}\".format(num[i])) + '.jpg' for i in num]\n",
    "    \n",
    "    # list of stimuli values\n",
    "    stim_values = np.linspace(-1,1,101)\n",
    "    # set good/bad face and house\n",
    "    face_flip = expInfo['face_version']\n",
    "    house_flip = expInfo['house_version']\n",
    "    \n",
    "    # set stimuli values based on good/bad face and house\n",
    "    Stimuli.face_val = stim_values * (1 - (2 * face_flip))\n",
    "    Stimuli.house_val = stim_values * (1 - (2 * house_flip))"
   ]
  },
  {
   "cell_type": "code",
   "execution_count": 252,
   "metadata": {},
   "outputs": [],
   "source": [
    "# randomize\n",
    "rand_face = list(num) * 4 # mult by 4 gives 404 trials\n",
    "np.random.shuffle(rand_face)\n",
    "rand_house = list(num) * 4 # mult by 4 gives 404 trials\n",
    "np.random.shuffle(rand_house)"
   ]
  },
  {
   "cell_type": "code",
   "execution_count": 253,
   "metadata": {},
   "outputs": [],
   "source": [
    "Rand_Stimuli = namedtuple('Rand_Stimuli', 'face face_val face_weight house house_val house_weight') "
   ]
  },
  {
   "cell_type": "code",
   "execution_count": 254,
   "metadata": {},
   "outputs": [],
   "source": [
    "Rand_Stimuli.face = [Stimuli.face[i] for i in rand_face]\n",
    "Rand_Stimuli.face_val = [Stimuli.face_val[i] for i in rand_face]\n",
    "Rand_Stimuli.house = [Stimuli.house[i] for i in rand_house]\n",
    "Rand_Stimuli.house_val = [Stimuli.house_val[i] for i in rand_house]"
   ]
  },
  {
   "cell_type": "code",
   "execution_count": 255,
   "metadata": {},
   "outputs": [
    {
     "data": {
      "text/plain": [
       "'faceMorph016.jpg'"
      ]
     },
     "execution_count": 255,
     "metadata": {},
     "output_type": "execute_result"
    }
   ],
   "source": [
    "Rand_Stimuli.face[10]"
   ]
  },
  {
   "cell_type": "code",
   "execution_count": 256,
   "metadata": {},
   "outputs": [
    {
     "data": {
      "text/plain": [
       "-0.6799999999999999"
      ]
     },
     "execution_count": 256,
     "metadata": {},
     "output_type": "execute_result"
    }
   ],
   "source": [
    "Rand_Stimuli.face_val[10]"
   ]
  },
  {
   "cell_type": "code",
   "execution_count": 45,
   "metadata": {},
   "outputs": [],
   "source": [
    "# A Rand weights 1,2,3\n",
    "\n",
    "# B Rand weights 0.1, 0.33, 0.5, 1, 2, 3 10"
   ]
  },
  {
   "cell_type": "code",
   "execution_count": null,
   "metadata": {},
   "outputs": [],
   "source": [
    "#A \n",
    "#1/2 = [1,1]\n",
    "#1/2 = [1,2],[2,1],[2,2],[2,2],[2,3],[3,2],[3,3],[3,3]\n",
    "\n",
    "#B\n",
    "#1/3 = [1,1]\n",
    "#2/3 = "
   ]
  },
  {
   "cell_type": "code",
   "execution_count": 58,
   "metadata": {},
   "outputs": [],
   "source": [
    "from itertools import permutations "
   ]
  },
  {
   "cell_type": "code",
   "execution_count": null,
   "metadata": {},
   "outputs": [],
   "source": []
  },
  {
   "cell_type": "code",
   "execution_count": 178,
   "metadata": {},
   "outputs": [],
   "source": [
    "# 10 elements * 20 = 200 (non [1,1] elements)\n",
    "weights_a = (list(permutations([1, 2, 3], 2)) + 2 * [(2,2),(3,3)]) * 20"
   ]
  },
  {
   "cell_type": "code",
   "execution_count": 155,
   "metadata": {},
   "outputs": [],
   "source": [
    "# 54 elements * 5 = 270 (non [1,1] elements)\n",
    "weights_b = (list(permutations([0.1, 0.33, 0.5, 1, 2, 3, 10], 2))\\\n",
    "                            + 2 * [(0.1,0.1),(0.33,0.33),(0.5,0.5),(2,2),(3,3),(10,10)]) * 5"
   ]
  },
  {
   "cell_type": "code",
   "execution_count": 208,
   "metadata": {},
   "outputs": [],
   "source": [
    "weights_non_ones = np.array(weights_b)"
   ]
  },
  {
   "cell_type": "code",
   "execution_count": 209,
   "metadata": {},
   "outputs": [],
   "source": [
    "weights_ones = np.tile((1,1), (404 - len(weights_non_ones),1))"
   ]
  },
  {
   "cell_type": "code",
   "execution_count": 210,
   "metadata": {},
   "outputs": [],
   "source": [
    "weights = np.concatenate((weights_non_ones, weights_ones))"
   ]
  },
  {
   "cell_type": "code",
   "execution_count": 211,
   "metadata": {},
   "outputs": [
    {
     "data": {
      "text/plain": [
       "Counter({(0.1, 0.33): 5,\n",
       "         (0.1, 0.5): 5,\n",
       "         (0.1, 1.0): 5,\n",
       "         (0.1, 2.0): 5,\n",
       "         (0.1, 3.0): 5,\n",
       "         (0.1, 10.0): 5,\n",
       "         (0.33, 0.1): 5,\n",
       "         (0.33, 0.5): 5,\n",
       "         (0.33, 1.0): 5,\n",
       "         (0.33, 2.0): 5,\n",
       "         (0.33, 3.0): 5,\n",
       "         (0.33, 10.0): 5,\n",
       "         (0.5, 0.1): 5,\n",
       "         (0.5, 0.33): 5,\n",
       "         (0.5, 1.0): 5,\n",
       "         (0.5, 2.0): 5,\n",
       "         (0.5, 3.0): 5,\n",
       "         (0.5, 10.0): 5,\n",
       "         (1.0, 0.1): 5,\n",
       "         (1.0, 0.33): 5,\n",
       "         (1.0, 0.5): 5,\n",
       "         (1.0, 2.0): 5,\n",
       "         (1.0, 3.0): 5,\n",
       "         (1.0, 10.0): 5,\n",
       "         (2.0, 0.1): 5,\n",
       "         (2.0, 0.33): 5,\n",
       "         (2.0, 0.5): 5,\n",
       "         (2.0, 1.0): 5,\n",
       "         (2.0, 3.0): 5,\n",
       "         (2.0, 10.0): 5,\n",
       "         (3.0, 0.1): 5,\n",
       "         (3.0, 0.33): 5,\n",
       "         (3.0, 0.5): 5,\n",
       "         (3.0, 1.0): 5,\n",
       "         (3.0, 2.0): 5,\n",
       "         (3.0, 10.0): 5,\n",
       "         (10.0, 0.1): 5,\n",
       "         (10.0, 0.33): 5,\n",
       "         (10.0, 0.5): 5,\n",
       "         (10.0, 1.0): 5,\n",
       "         (10.0, 2.0): 5,\n",
       "         (10.0, 3.0): 5,\n",
       "         (0.1, 0.1): 10,\n",
       "         (0.33, 0.33): 10,\n",
       "         (0.5, 0.5): 10,\n",
       "         (2.0, 2.0): 10,\n",
       "         (3.0, 3.0): 10,\n",
       "         (10.0, 10.0): 10,\n",
       "         (1.0, 1.0): 134})"
      ]
     },
     "execution_count": 211,
     "metadata": {},
     "output_type": "execute_result"
    }
   ],
   "source": [
    "from collections import Counter\n",
    "# Use this to check occurences of each weight combo\n",
    "Counter(map(tuple, weights))"
   ]
  },
  {
   "cell_type": "code",
   "execution_count": 213,
   "metadata": {},
   "outputs": [],
   "source": [
    "np.random.shuffle(weights) # inplace"
   ]
  },
  {
   "cell_type": "code",
   "execution_count": 241,
   "metadata": {},
   "outputs": [],
   "source": [
    "Rand_Stimuli.face_weight = [val for val in weights[:,0]]\n",
    "Rand_Stimuli.house_weight = [val for val in weights[:,1]]"
   ]
  },
  {
   "cell_type": "code",
   "execution_count": 3,
   "metadata": {},
   "outputs": [
    {
     "data": {
      "text/plain": [
       "array([0, 1, 2, 3, 4, 5, 6, 7, 8, 9])"
      ]
     },
     "execution_count": 3,
     "metadata": {},
     "output_type": "execute_result"
    }
   ],
   "source": [
    "np.arange(10)"
   ]
  },
  {
   "cell_type": "code",
   "execution_count": 6,
   "metadata": {},
   "outputs": [],
   "source": [
    "x = ['1']"
   ]
  },
  {
   "cell_type": "code",
   "execution_count": 7,
   "metadata": {},
   "outputs": [
    {
     "data": {
      "text/plain": [
       "list"
      ]
     },
     "execution_count": 7,
     "metadata": {},
     "output_type": "execute_result"
    }
   ],
   "source": [
    "type(x)"
   ]
  },
  {
   "cell_type": "code",
   "execution_count": 8,
   "metadata": {},
   "outputs": [
    {
     "data": {
      "text/plain": [
       "'1'"
      ]
     },
     "execution_count": 8,
     "metadata": {},
     "output_type": "execute_result"
    }
   ],
   "source": [
    "x[0]"
   ]
  },
  {
   "cell_type": "code",
   "execution_count": 22,
   "metadata": {},
   "outputs": [],
   "source": [
    "x = \"-0.45\""
   ]
  },
  {
   "cell_type": "code",
   "execution_count": 24,
   "metadata": {},
   "outputs": [
    {
     "data": {
      "text/plain": [
       "0.45"
      ]
     },
     "execution_count": 24,
     "metadata": {},
     "output_type": "execute_result"
    }
   ],
   "source": [
    "abs(float(x))"
   ]
  },
  {
   "cell_type": "code",
   "execution_count": null,
   "metadata": {},
   "outputs": [],
   "source": []
  }
 ],
 "metadata": {
  "kernelspec": {
   "display_name": "Python 3.7",
   "language": "python",
   "name": "python37_ana"
  },
  "language_info": {
   "codemirror_mode": {
    "name": "ipython",
    "version": 3
   },
   "file_extension": ".py",
   "mimetype": "text/x-python",
   "name": "python",
   "nbconvert_exporter": "python",
   "pygments_lexer": "ipython3",
   "version": "3.7.1"
  },
  "toc": {
   "nav_menu": {},
   "number_sections": true,
   "sideBar": true,
   "skip_h1_title": false,
   "title_cell": "Table of Contents",
   "title_sidebar": "Contents",
   "toc_cell": true,
   "toc_position": {},
   "toc_section_display": true,
   "toc_window_display": true
  }
 },
 "nbformat": 4,
 "nbformat_minor": 2
}
