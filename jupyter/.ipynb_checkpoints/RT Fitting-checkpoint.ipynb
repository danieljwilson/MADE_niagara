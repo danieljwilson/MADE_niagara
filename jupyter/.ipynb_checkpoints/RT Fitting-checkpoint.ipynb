{
 "cells": [
  {
   "cell_type": "markdown",
   "metadata": {
    "toc": true
   },
   "source": [
    "<h1>Table of Contents<span class=\"tocSkip\"></span></h1>\n",
    "<div class=\"toc\"><ul class=\"toc-item\"><li><span><a href=\"#IMPORTS\" data-toc-modified-id=\"IMPORTS-1\"><span class=\"toc-item-num\">1&nbsp;&nbsp;</span>IMPORTS</a></span><ul class=\"toc-item\"><li><span><a href=\"#GNUPLOT\" data-toc-modified-id=\"GNUPLOT-1.1\"><span class=\"toc-item-num\">1.1&nbsp;&nbsp;</span>GNUPLOT</a></span></li><li><span><a href=\"#Ex-Gaussian-Utilities\" data-toc-modified-id=\"Ex-Gaussian-Utilities-1.2\"><span class=\"toc-item-num\">1.2&nbsp;&nbsp;</span>Ex-Gaussian Utilities</a></span><ul class=\"toc-item\"><li><span><a href=\"#Example-1\" data-toc-modified-id=\"Example-1-1.2.1\"><span class=\"toc-item-num\">1.2.1&nbsp;&nbsp;</span>Example 1</a></span></li><li><span><a href=\"#Example-2\" data-toc-modified-id=\"Example-2-1.2.2\"><span class=\"toc-item-num\">1.2.2&nbsp;&nbsp;</span>Example 2</a></span></li></ul></li></ul></li><li><span><a href=\"#Experimental-Data\" data-toc-modified-id=\"Experimental-Data-2\"><span class=\"toc-item-num\">2&nbsp;&nbsp;</span>Experimental Data</a></span><ul class=\"toc-item\"><li><ul class=\"toc-item\"><li><span><a href=\"#Import-Fixation-Data\" data-toc-modified-id=\"Import-Fixation-Data-2.0.1\"><span class=\"toc-item-num\">2.0.1&nbsp;&nbsp;</span>Import Fixation Data</a></span></li><li><span><a href=\"#Create-Middle-and-First-Fixes-(group-and-individual)\" data-toc-modified-id=\"Create-Middle-and-First-Fixes-(group-and-individual)-2.0.2\"><span class=\"toc-item-num\">2.0.2&nbsp;&nbsp;</span>Create Middle and First Fixes (group and individual)</a></span></li></ul></li><li><span><a href=\"#Individual-vs.-Group-First-Fix-RT\" data-toc-modified-id=\"Individual-vs.-Group-First-Fix-RT-2.1\"><span class=\"toc-item-num\">2.1&nbsp;&nbsp;</span>Individual vs. Group First Fix RT</a></span></li><li><span><a href=\"#Individual-vs.-Group-Middle-Fix-RT\" data-toc-modified-id=\"Individual-vs.-Group-Middle-Fix-RT-2.2\"><span class=\"toc-item-num\">2.2&nbsp;&nbsp;</span>Individual vs. Group Middle Fix RT</a></span><ul class=\"toc-item\"><li><span><a href=\"#Check-actual-vs-sim-mean-RTs\" data-toc-modified-id=\"Check-actual-vs-sim-mean-RTs-2.2.1\"><span class=\"toc-item-num\">2.2.1&nbsp;&nbsp;</span>Check actual vs sim mean RTs</a></span></li><li><span><a href=\"#Compare-Plots\" data-toc-modified-id=\"Compare-Plots-2.2.2\"><span class=\"toc-item-num\">2.2.2&nbsp;&nbsp;</span>Compare Plots</a></span></li><li><span><a href=\"#Save-Plot\" data-toc-modified-id=\"Save-Plot-2.2.3\"><span class=\"toc-item-num\">2.2.3&nbsp;&nbsp;</span>Save Plot</a></span></li><li><span><a href=\"#Group-Fit\" data-toc-modified-id=\"Group-Fit-2.2.4\"><span class=\"toc-item-num\">2.2.4&nbsp;&nbsp;</span>Group Fit</a></span></li></ul></li><li><span><a href=\"#HISTOGRAM\" data-toc-modified-id=\"HISTOGRAM-2.3\"><span class=\"toc-item-num\">2.3&nbsp;&nbsp;</span>HISTOGRAM</a></span></li></ul></li></ul></div>"
   ]
  },
  {
   "cell_type": "markdown",
   "metadata": {},
   "source": [
    "# IMPORTS"
   ]
  },
  {
   "cell_type": "code",
   "execution_count": 1,
   "metadata": {},
   "outputs": [
    {
     "name": "stdout",
     "output_type": "stream",
     "text": [
      "2.7.12 |Anaconda custom (x86_64)| (default, Jul  2 2016, 17:43:17) \n",
      "[GCC 4.2.1 (Based on Apple Inc. build 5658) (LLVM build 2336.11.00)]\n"
     ]
    }
   ],
   "source": [
    "import numpy as np\n",
    "import pandas as pd\n",
    "import math\n",
    "import matplotlib.pyplot as plt\n",
    "import seaborn as sns\n",
    "import glob\n",
    "import os                                 # for os independent functions\n",
    "import seaborn as sns                     # for kernal density estimation\n",
    "import datetime as dt                     # for naming files\n",
    "from scipy.special import expit           # for logistic function\n",
    "from scipy.stats import binned_statistic  # for binning RT vals\n",
    "from scipy import stats\n",
    "import sys\n",
    "import importlib                          # in order to reload edited modules\n",
    "import itertools                          # for creating values list (for aDDM of all stimuli value combos)\n",
    "import time\n",
    "import shelve\n",
    "import pickle\n",
    "from tqdm import tqdm                     # for keeping track of progress\n",
    "import pdb                                # for debugging use: pdb.set_trace()\n",
    "import copy                               # to do deep copies\n",
    "\n",
    "# display matplotlib graphs \n",
    "%matplotlib inline   \n",
    "# %precision %.8f check on this...\n",
    "\n",
    "print(sys.version)"
   ]
  },
  {
   "cell_type": "markdown",
   "metadata": {
    "heading_collapsed": true
   },
   "source": [
    "## GNUPLOT"
   ]
  },
  {
   "cell_type": "code",
   "execution_count": 2,
   "metadata": {
    "collapsed": true,
    "hidden": true
   },
   "outputs": [],
   "source": [
    "from Gnuplot import Gnuplot as gplot\n",
    "from Gnuplot import Data as gdata\n",
    "from Gnuplot import Func as gfunc\n",
    "g = gplot(persist = 1)"
   ]
  },
  {
   "cell_type": "markdown",
   "metadata": {},
   "source": [
    "## Ex-Gaussian Utilities"
   ]
  },
  {
   "cell_type": "code",
   "execution_count": 2,
   "metadata": {
    "collapsed": true
   },
   "outputs": [],
   "source": [
    "from ExGUtils.uts import stats, drand, drand_exp, drand_gauss, drand_exg\n",
    "from ExGUtils.uts import *"
   ]
  },
  {
   "cell_type": "markdown",
   "metadata": {
    "heading_collapsed": true
   },
   "source": [
    "### Example 1"
   ]
  },
  {
   "cell_type": "code",
   "execution_count": 4,
   "metadata": {
    "hidden": true
   },
   "outputs": [
    {
     "name": "stdout",
     "output_type": "stream",
     "text": [
      "Homogeneous:_M=0.5005_(0.5000)__S=0.2884_(0.2887)___t=-0.0017_(0.0000)\n",
      "Exponential:_M=0.5005_(150.0000)__S=0.2884_(150.0000)___t=-0.0017_(2.0000)\n",
      "Gaussian:_M=0.5005_(100.0000)__S=0.2884_(50.0000)___t=-0.0017_(0.0000)\n",
      "Ex-Gaussian:_M=0.5005_(250.0000)__S=0.2884_(158.1139)___t=-0.0017_(1.7076)\n"
     ]
    }
   ],
   "source": [
    "N = 1000000\n",
    "mu = 100.; sig = 50.; tau = 150.\n",
    "li1 = [drand() for ii in xrange(N)]\n",
    "li2 = [drand_exp(tau) for ii in xrange(N)]\n",
    "li3 = [drand_gauss(mu, sig) for ii in xrange(N)]\n",
    "li4 = [drand_exg(mu, sig , tau) for ii in xrange(N)]\n",
    "\n",
    "# After each result , the expected value in parenthesis\n",
    "\n",
    "[M, S, t] = stats(li1, True) \n",
    "\n",
    "print \"Homogeneous:_M=%4.4f_(%4.4f)__S=%4.4f_(%4.4f)___t=%4.4f_(%4.4f)\" %\\\n",
    "(M, 0.5 , S, (1./12)**.5 , t, 0.)\n",
    "\n",
    "print \"Exponential:_M=%4.4f_(%4.4f)__S=%4.4f_(%4.4f)___t=%4.4f_(%4.4f)\" %\\\n",
    "(M, tau , S, tau , t, 2)\n",
    "\n",
    "print \"Gaussian:_M=%4.4f_(%4.4f)__S=%4.4f_(%4.4f)___t=%4.4f_(%4.4f)\" %\\\n",
    "(M, mu , S, sig , t, 0.)\n",
    "\n",
    "print \"Ex-Gaussian:_M=%4.4f_(%4.4f)__S=%4.4f_(%4.4f)___t=%4.4f_(%4.4f)\" %\\\n",
    "(M, mu+tau , S, (sig**2+tau**2)**.5 , t, 2.*(tau**3)/((sig**2+tau**2)**(3./2.)))\n",
    "\n"
   ]
  },
  {
   "cell_type": "markdown",
   "metadata": {
    "collapsed": true,
    "heading_collapsed": true
   },
   "source": [
    "### Example 2"
   ]
  },
  {
   "cell_type": "code",
   "execution_count": 3,
   "metadata": {
    "collapsed": true,
    "hidden": true
   },
   "outputs": [],
   "source": [
    "mu = 450. \n",
    "sig = 140. \n",
    "tau = 160.\n",
    "xi = [drand_exg(mu, sig , tau) for ii in xrange(300)]\n"
   ]
  },
  {
   "cell_type": "code",
   "execution_count": 42,
   "metadata": {
    "hidden": true
   },
   "outputs": [
    {
     "name": "stdout",
     "output_type": "stream",
     "text": [
      "by maxLKHD: mu=483.5864 , sig=172.0481 , tau=126.7244\n",
      "by minSQR : mu=461.4211 , sig=128.9106 , tau=172.6467\n"
     ]
    }
   ],
   "source": [
    "[xx, yy] = histogram(xi , norm=1)\n",
    "[mcs, scs, tcs] =minSQR(xx, yy)\n",
    "[mlk, slk, tlk] =maxLKHD(xi)\n",
    "\n",
    "ycs = [exgauss(x, mcs, scs, tcs) for x in xx]\n",
    "ylk = [exgauss(x, mlk, slk, tlk) for x in xx]\n",
    "\n",
    "d1 = gdata(xx, yy, with_=\"boxes\", title=\"Histogram\")\n",
    "d2 = gdata(xx, ycs, with_=\"lines lw 2\", title=\"minSQR\")\n",
    "d3 = gdata(xx, ylk, with_=\"lines lw 2\", title=\"maxLKHD\")\n",
    "\n",
    "g.plot(d1, d2, d3)\n",
    "\n",
    "print \"by maxLKHD: mu=%3.4f , sig=%3.4f , tau=%3.4f\"%(mlk, slk , tlk)\n",
    "print \"by minSQR : mu=%3.4f , sig=%3.4f , tau=%3.4f\"%(mcs, scs , tcs)\n"
   ]
  },
  {
   "cell_type": "markdown",
   "metadata": {},
   "source": [
    "# Experimental Data"
   ]
  },
  {
   "cell_type": "markdown",
   "metadata": {},
   "source": [
    "### Import Fixation Data"
   ]
  },
  {
   "cell_type": "code",
   "execution_count": null,
   "metadata": {
    "collapsed": true
   },
   "outputs": [],
   "source": []
  },
  {
   "cell_type": "code",
   "execution_count": 5,
   "metadata": {
    "collapsed": true
   },
   "outputs": [],
   "source": [
    "fixations = pd.read_csv(\"data/fixations_v2.csv\")"
   ]
  },
  {
   "cell_type": "markdown",
   "metadata": {},
   "source": [
    "### Create Middle and First Fixes (group and individual)"
   ]
  },
  {
   "cell_type": "code",
   "execution_count": 6,
   "metadata": {
    "scrolled": true
   },
   "outputs": [
    {
     "data": {
      "text/plain": [
       "array([124, 126, 127, 128, 131, 133, 134, 137, 138, 139, 140, 141, 142,\n",
       "       143, 144, 145, 146, 147, 148, 150, 151, 156, 157, 158, 159, 161,\n",
       "       163, 164, 165, 166, 167])"
      ]
     },
     "execution_count": 6,
     "metadata": {},
     "output_type": "execute_result"
    }
   ],
   "source": [
    "np.unique(fixations.parcode)"
   ]
  },
  {
   "cell_type": "code",
   "execution_count": 7,
   "metadata": {
    "collapsed": true
   },
   "outputs": [],
   "source": [
    "# GROUP\n",
    "group_first_fix = fixations['fix_time'][fixations['fix_num']==1]\n",
    "group_mid_fix = fixations['fix_time'][(fixations['fix_num']>1) & (fixations['rev_fix_num']>1)]"
   ]
  },
  {
   "cell_type": "code",
   "execution_count": 73,
   "metadata": {
    "collapsed": true
   },
   "outputs": [],
   "source": [
    "# INDIVIDUAL\n",
    "subj_first_fix = {}\n",
    "subj_mid_fix = {}\n",
    "\n",
    "for i in np.unique(fixations.parcode):\n",
    "    subj_first_fix[i] = fixations['fix_time'][(fixations['fix_num']==1) & (fixations['parcode']==i)].values\n",
    "    subj_mid_fix[i] = fixations['fix_time'][(fixations['fix_num']>1) & (fixations['rev_fix_num']>1) & (fixations['parcode']==i)].values"
   ]
  },
  {
   "cell_type": "code",
   "execution_count": 74,
   "metadata": {},
   "outputs": [
    {
     "data": {
      "text/html": [
       "<div>\n",
       "<style scoped>\n",
       "    .dataframe tbody tr th:only-of-type {\n",
       "        vertical-align: middle;\n",
       "    }\n",
       "\n",
       "    .dataframe tbody tr th {\n",
       "        vertical-align: top;\n",
       "    }\n",
       "\n",
       "    .dataframe thead th {\n",
       "        text-align: right;\n",
       "    }\n",
       "</style>\n",
       "<table border=\"1\" class=\"dataframe\">\n",
       "  <thead>\n",
       "    <tr style=\"text-align: right;\">\n",
       "      <th></th>\n",
       "      <th>parcode</th>\n",
       "      <th>trial</th>\n",
       "      <th>fix_item</th>\n",
       "      <th>fix_time</th>\n",
       "      <th>fix_num</th>\n",
       "      <th>rev_fix_num</th>\n",
       "    </tr>\n",
       "  </thead>\n",
       "  <tbody>\n",
       "    <tr>\n",
       "      <th>0</th>\n",
       "      <td>124</td>\n",
       "      <td>10</td>\n",
       "      <td>2</td>\n",
       "      <td>3250.118398</td>\n",
       "      <td>1</td>\n",
       "      <td>3</td>\n",
       "    </tr>\n",
       "    <tr>\n",
       "      <th>1</th>\n",
       "      <td>124</td>\n",
       "      <td>10</td>\n",
       "      <td>1</td>\n",
       "      <td>1666.821599</td>\n",
       "      <td>2</td>\n",
       "      <td>2</td>\n",
       "    </tr>\n",
       "    <tr>\n",
       "      <th>2</th>\n",
       "      <td>124</td>\n",
       "      <td>10</td>\n",
       "      <td>2</td>\n",
       "      <td>1366.676002</td>\n",
       "      <td>3</td>\n",
       "      <td>1</td>\n",
       "    </tr>\n",
       "    <tr>\n",
       "      <th>3</th>\n",
       "      <td>124</td>\n",
       "      <td>11</td>\n",
       "      <td>1</td>\n",
       "      <td>966.945202</td>\n",
       "      <td>1</td>\n",
       "      <td>2</td>\n",
       "    </tr>\n",
       "    <tr>\n",
       "      <th>4</th>\n",
       "      <td>124</td>\n",
       "      <td>11</td>\n",
       "      <td>2</td>\n",
       "      <td>2850.012610</td>\n",
       "      <td>2</td>\n",
       "      <td>1</td>\n",
       "    </tr>\n",
       "  </tbody>\n",
       "</table>\n",
       "</div>"
      ],
      "text/plain": [
       "   parcode  trial  fix_item     fix_time  fix_num  rev_fix_num\n",
       "0      124     10         2  3250.118398        1            3\n",
       "1      124     10         1  1666.821599        2            2\n",
       "2      124     10         2  1366.676002        3            1\n",
       "3      124     11         1   966.945202        1            2\n",
       "4      124     11         2  2850.012610        2            1"
      ]
     },
     "execution_count": 74,
     "metadata": {},
     "output_type": "execute_result"
    }
   ],
   "source": [
    "fixations.head()"
   ]
  },
  {
   "cell_type": "code",
   "execution_count": 75,
   "metadata": {
    "collapsed": true
   },
   "outputs": [],
   "source": [
    "grouped = fixations.groupby('parcode')\n"
   ]
  },
  {
   "cell_type": "code",
   "execution_count": 76,
   "metadata": {
    "scrolled": true
   },
   "outputs": [
    {
     "ename": "AttributeError",
     "evalue": "'numpy.ndarray' object has no attribute 'sem'",
     "output_type": "error",
     "traceback": [
      "\u001b[0;31m---------------------------------------------------------------------------\u001b[0m",
      "\u001b[0;31mAttributeError\u001b[0m                            Traceback (most recent call last)",
      "\u001b[0;32m<ipython-input-76-2458ae1bf77b>\u001b[0m in \u001b[0;36m<module>\u001b[0;34m()\u001b[0m\n\u001b[0;32m----> 1\u001b[0;31m \u001b[0msubj_first_fix\u001b[0m\u001b[0;34m[\u001b[0m\u001b[0;36m124\u001b[0m\u001b[0;34m]\u001b[0m\u001b[0;34m.\u001b[0m\u001b[0msem\u001b[0m\u001b[0;34m(\u001b[0m\u001b[0;34m)\u001b[0m\u001b[0;34m\u001b[0m\u001b[0m\n\u001b[0m",
      "\u001b[0;31mAttributeError\u001b[0m: 'numpy.ndarray' object has no attribute 'sem'"
     ]
    }
   ],
   "source": [
    "subj_first_fix[124].sem()\n"
   ]
  },
  {
   "cell_type": "code",
   "execution_count": 77,
   "metadata": {
    "collapsed": true
   },
   "outputs": [],
   "source": [
    "# First Fixation\n",
    "parcode = []\n",
    "first_fix_mean = []\n",
    "first_fix_sem = []\n",
    "mid_fix_mean = []\n",
    "mid_fix_sem = []\n",
    "\n",
    "for subject, subject_data in grouped:\n",
    "    parcode.append(subject)\n",
    "    first_fix_mean.append(subject_data.fix_time[subject_data.fix_num==1].mean())\n",
    "    first_fix_sem.append(subject_data.fix_time[subject_data.fix_num==1].sem())\n",
    "    mid_fix_mean.append(subject_data.fix_time[(subject_data.fix_num>1) & (subject_data.rev_fix_num>1)].mean())\n",
    "    mid_fix_sem.append(subject_data.fix_time[(subject_data.fix_num>1) & (subject_data.rev_fix_num>1)].sem())\n"
   ]
  },
  {
   "cell_type": "code",
   "execution_count": 78,
   "metadata": {
    "collapsed": true
   },
   "outputs": [],
   "source": [
    "fix_df = pd.DataFrame(\n",
    "    {'subject': parcode,\n",
    "     'first_fix_mean': first_fix_mean,\n",
    "     'first_fix_sem': first_fix_sem,\n",
    "     'mid_fix_mean': mid_fix_mean,\n",
    "     'mid_fix_sem': mid_fix_sem\n",
    "    })\n"
   ]
  },
  {
   "cell_type": "code",
   "execution_count": 79,
   "metadata": {},
   "outputs": [
    {
     "data": {
      "text/html": [
       "<div>\n",
       "<style scoped>\n",
       "    .dataframe tbody tr th:only-of-type {\n",
       "        vertical-align: middle;\n",
       "    }\n",
       "\n",
       "    .dataframe tbody tr th {\n",
       "        vertical-align: top;\n",
       "    }\n",
       "\n",
       "    .dataframe thead th {\n",
       "        text-align: right;\n",
       "    }\n",
       "</style>\n",
       "<table border=\"1\" class=\"dataframe\">\n",
       "  <thead>\n",
       "    <tr style=\"text-align: right;\">\n",
       "      <th></th>\n",
       "      <th>first_fix_mean</th>\n",
       "      <th>first_fix_sem</th>\n",
       "      <th>mid_fix_mean</th>\n",
       "      <th>mid_fix_sem</th>\n",
       "      <th>subject</th>\n",
       "    </tr>\n",
       "  </thead>\n",
       "  <tbody>\n",
       "    <tr>\n",
       "      <th>0</th>\n",
       "      <td>989.471543</td>\n",
       "      <td>32.293427</td>\n",
       "      <td>874.577217</td>\n",
       "      <td>16.780110</td>\n",
       "      <td>124</td>\n",
       "    </tr>\n",
       "    <tr>\n",
       "      <th>1</th>\n",
       "      <td>791.796890</td>\n",
       "      <td>42.048530</td>\n",
       "      <td>930.955996</td>\n",
       "      <td>24.183122</td>\n",
       "      <td>126</td>\n",
       "    </tr>\n",
       "    <tr>\n",
       "      <th>2</th>\n",
       "      <td>1433.677288</td>\n",
       "      <td>83.573406</td>\n",
       "      <td>1246.949909</td>\n",
       "      <td>45.143743</td>\n",
       "      <td>127</td>\n",
       "    </tr>\n",
       "    <tr>\n",
       "      <th>3</th>\n",
       "      <td>1356.511494</td>\n",
       "      <td>61.497128</td>\n",
       "      <td>1392.840262</td>\n",
       "      <td>36.865738</td>\n",
       "      <td>128</td>\n",
       "    </tr>\n",
       "    <tr>\n",
       "      <th>4</th>\n",
       "      <td>920.822973</td>\n",
       "      <td>41.709101</td>\n",
       "      <td>951.306820</td>\n",
       "      <td>28.560007</td>\n",
       "      <td>131</td>\n",
       "    </tr>\n",
       "  </tbody>\n",
       "</table>\n",
       "</div>"
      ],
      "text/plain": [
       "   first_fix_mean  first_fix_sem  mid_fix_mean  mid_fix_sem  subject\n",
       "0      989.471543      32.293427    874.577217    16.780110      124\n",
       "1      791.796890      42.048530    930.955996    24.183122      126\n",
       "2     1433.677288      83.573406   1246.949909    45.143743      127\n",
       "3     1356.511494      61.497128   1392.840262    36.865738      128\n",
       "4      920.822973      41.709101    951.306820    28.560007      131"
      ]
     },
     "execution_count": 79,
     "metadata": {},
     "output_type": "execute_result"
    }
   ],
   "source": [
    "fix_df.head()\n"
   ]
  },
  {
   "cell_type": "markdown",
   "metadata": {
    "heading_collapsed": true
   },
   "source": [
    "## Individual vs. Group First Fix RT"
   ]
  },
  {
   "cell_type": "code",
   "execution_count": 126,
   "metadata": {
    "hidden": true
   },
   "outputs": [
    {
     "data": {
      "image/png": "[encoded data removed]",
      "text/plain": [
       "<matplotlib.figure.Figure at 0x11839a050>"
      ]
     },
     "metadata": {},
     "output_type": "display_data"
    }
   ],
   "source": [
    "group_first_fix_mean = np.repeat(fix_df.first_fix_mean.mean(), 45, axis=0)\n",
    "group_first_fix_sem = np.repeat(fix_df.first_fix_mean.sem(), 45, axis=0)\n",
    "x = np.arange(45)\n",
    "\n",
    "plt.errorbar(fix_df.subject, fix_df.first_fix_mean, fix_df.first_fix_sem, linestyle='None', marker='.')\n",
    "plt.plot(x, group_first_fix_mean, lw=2, label='mean population 1', color='red')\n",
    "plt.fill_between(x, group_first_fix_mean+group_first_fix_sem, group_first_fix_mean-group_first_fix_sem,\n",
    "                 facecolor='red', alpha=0.5)\n",
    "plt.title('First Fixation by Subject')\n",
    "\n",
    "\n",
    "plt.show()\n"
   ]
  },
  {
   "cell_type": "markdown",
   "metadata": {},
   "source": [
    "## Individual vs. Group Middle Fix RT"
   ]
  },
  {
   "cell_type": "code",
   "execution_count": 127,
   "metadata": {},
   "outputs": [
    {
     "data": {
      "image/png": "[encoded data removed]",
      "text/plain": [
       "<matplotlib.figure.Figure at 0x1183c24d0>"
      ]
     },
     "metadata": {},
     "output_type": "display_data"
    }
   ],
   "source": [
    "group_mid_fix_mean = np.repeat(fix_df.mid_fix_mean.mean(), 45, axis=0)\n",
    "group_mid_fix_sem = np.repeat(fix_df.mid_fix_mean.sem(), 45, axis=0)\n",
    "x = np.arange(45)\n",
    "\n",
    "plt.errorbar(fix_df.subject, fix_df.mid_fix_mean, fix_df.mid_fix_sem, linestyle='None', marker='.')\n",
    "plt.plot(x, group_mid_fix_mean, lw=2, label='mean population 1', color='red')\n",
    "plt.fill_between(x, group_mid_fix_mean+group_mid_fix_sem, group_mid_fix_mean-group_mid_fix_sem,\n",
    "                 facecolor='red', alpha=0.5)\n",
    "plt.title('Middle Fixation by Subject')\n",
    "\n",
    "plt.show()"
   ]
  },
  {
   "cell_type": "code",
   "execution_count": 10,
   "metadata": {},
   "outputs": [
    {
     "name": "stdout",
     "output_type": "stream",
     "text": [
      "MEAN\n",
      "959.203732994\n",
      "LENGTH\n",
      "376\n"
     ]
    },
    {
     "data": {
      "text/plain": [
       "1    1233.176509\n",
       "2     433.403406\n",
       "3     433.219029\n",
       "4    1233.325697\n",
       "7    1183.183932\n",
       "Name: fix_time, dtype: float64"
      ]
     },
     "execution_count": 10,
     "metadata": {},
     "output_type": "execute_result"
    }
   ],
   "source": [
    "print \"MEAN\"\n",
    "print subj_mid_fix[1].mean()\n",
    "print \"LENGTH\"\n",
    "print len(subj_mid_fix[1])\n",
    "\n",
    "subj_mid_fix[1].head()"
   ]
  },
  {
   "cell_type": "code",
   "execution_count": 17,
   "metadata": {
    "collapsed": true
   },
   "outputs": [],
   "source": [
    "xi = subj_mid_fix[124].values.tolist()"
   ]
  },
  {
   "cell_type": "code",
   "execution_count": 18,
   "metadata": {
    "collapsed": true
   },
   "outputs": [
    {
     "data": {
      "text/plain": [
       "[1666.8215988029299,\n",
       " 1216.65195544483,\n",
       " 433.32077258673996,\n",
       " 833.2161567377631,\n",
       " 1083.47421405779,\n",
       " 483.18558574828796,\n",
       " 833.3239249914191,\n",
       " 616.682233187021,\n",
       " 583.317326934775,\n",
       " 683.355229106382,\n",
       " 516.661192727042,\n",
       " 600.016641765251,\n",
       " 983.4810320608091,\n",
       " 833.30706327979,\n",
       " 866.825191100361,\n",
       " 466.532823862508,\n",
       " 633.47282113682,\n",
       " 516.5087042987581,\n",
       " 2550.1639250433104,\n",
       " 716.6526885703211,\n",
       " 1083.35324969084,\n",
       " 400.018181302585,\n",
       " 766.671822930221,\n",
       " 549.860781000461,\n",
       " 683.351196959848,\n",
       " 1033.28169744054,\n",
       " 549.873977113748,\n",
       " 1466.81360783987,\n",
       " 799.9762469989951,\n",
       " 1316.69169040106,\n",
       " 849.857555280323,\n",
       " 1400.0086507876401,\n",
       " 1066.81338789349,\n",
       " 499.839447293198,\n",
       " 1066.82145218656,\n",
       " 733.195849374169,\n",
       " 1150.00461864111,\n",
       " 1150.00131960551,\n",
       " 933.359994378407,\n",
       " 1333.3330889581698,\n",
       " 1666.62219088175,\n",
       " 699.857335348497,\n",
       " 616.638246152434,\n",
       " 666.856421885313,\n",
       " 1149.84773151809,\n",
       " 1450.1432511315197,\n",
       " 883.316667139297,\n",
       " 899.869358472642,\n",
       " 866.6463104455029,\n",
       " 1299.85748196486,\n",
       " 866.662072468898,\n",
       " 1649.8792555648802,\n",
       " 450.117592030438,\n",
       " 766.667424220941,\n",
       " 916.521020670189,\n",
       " 683.3284703316169,\n",
       " 1150.17616811383,\n",
       " 1083.20332717267,\n",
       " 1166.65371492854,\n",
       " 1416.66214578436,\n",
       " 999.866939193453,\n",
       " 883.4581588016589,\n",
       " 716.546019975794,\n",
       " 666.6724094102391,\n",
       " 483.463803800987,\n",
       " 533.202520746272,\n",
       " 900.016715066158,\n",
       " 699.844505797955,\n",
       " 400.127782369964,\n",
       " 1233.35896800563,\n",
       " 1083.34848441882,\n",
       " 1516.8507035705302,\n",
       " 916.687804885441,\n",
       " 966.5232933475639,\n",
       " 1200.15204855008,\n",
       " 549.988343438599,\n",
       " 966.680180456024,\n",
       " 1216.69007754826,\n",
       " 466.7707204644099,\n",
       " 1133.4918821812598,\n",
       " 483.34723812877195,\n",
       " 650.01304949692,\n",
       " 733.460871313582,\n",
       " 1250.02822502574,\n",
       " 1999.8555758647897,\n",
       " 733.468202510267,\n",
       " 1549.87617647566,\n",
       " 1050.1463302352902,\n",
       " 1849.8542562592802,\n",
       " 1633.3514902071302,\n",
       " 650.0027858419339,\n",
       " 833.336387979216,\n",
       " 883.335361620993,\n",
       " 516.8015847011701,\n",
       " 1916.6826730652201,\n",
       " 449.981598751037,\n",
       " 949.994061738835,\n",
       " 666.659213311505,\n",
       " 1650.0016861682502,\n",
       " 783.342179624015,\n",
       " 499.991202581441,\n",
       " 1733.32817706978,\n",
       " 2050.00850415672,\n",
       " 983.3226787013699,\n",
       " 483.209412050201,\n",
       " 1200.00432539382,\n",
       " 416.785309498664,\n",
       " 1249.95271392982,\n",
       " 866.583995462861,\n",
       " 1150.00168616825,\n",
       " 616.6595065587901,\n",
       " 466.656720702304,\n",
       " 399.85579581116303,\n",
       " 916.828196859569,\n",
       " 1666.50269273669,\n",
       " 833.191963858553,\n",
       " 799.8523501591991,\n",
       " 616.802464443026,\n",
       " 449.99296207970497,\n",
       " 366.66610460088094,\n",
       " 750.02236009459,\n",
       " 1916.64015225251,\n",
       " 1450.15021575091,\n",
       " 1533.18969119573,\n",
       " 483.449508014019,\n",
       " 1533.3777358027899,\n",
       " 1316.6396390734,\n",
       " 483.216376669588,\n",
       " 1633.2928408228302,\n",
       " 3149.8653263406604,\n",
       " 1700.1428845687801,\n",
       " 916.518088211888,\n",
       " 649.853229901055,\n",
       " 366.65180881391296,\n",
       " 1200.1366530894302,\n",
       " 1549.88717322703,\n",
       " 433.333968700026,\n",
       " 1133.35772171558,\n",
       " 583.367178915069,\n",
       " 400.00865078764,\n",
       " 300.124703266192,\n",
       " 633.5274383891369,\n",
       " 783.287928934442,\n",
       " 799.867745619849,\n",
       " 1250.14479068341,\n",
       " 733.188151658396,\n",
       " 383.329863238032,\n",
       " 1566.6641985007998,\n",
       " 916.520654121996,\n",
       " 583.473114384105,\n",
       " 733.4945947222881,\n",
       " 466.66221908526495,\n",
       " 1050.03489639785,\n",
       " 949.850004166365,\n",
       " 733.441443720949,\n",
       " 433.184046196402,\n",
       " 1800.00813759398,\n",
       " 916.676441571326,\n",
       " 550.0066713721029,\n",
       " 516.674388825777,\n",
       " 1716.68824476365,\n",
       " 1083.3565487118901,\n",
       " 949.997727337177,\n",
       " 566.646237115492,\n",
       " 866.8277569959171,\n",
       " 666.657380512333,\n",
       " 416.621824319009,\n",
       " 1050.02646554203,\n",
       " 983.218942579697,\n",
       " 833.4984069369971,\n",
       " 883.479052630719,\n",
       " 399.994355000672,\n",
       " 966.652321993024,\n",
       " 666.676075008581,\n",
       " 533.498333621537,\n",
       " 683.18294652272,\n",
       " 1150.13694633672,\n",
       " 850.0100437086079,\n",
       " 800.0337967096131,\n",
       " 766.635167048662,\n",
       " 1166.66801071551,\n",
       " 566.549099079566,\n",
       " 1000.1543212274601,\n",
       " 466.785382814123,\n",
       " 566.560828941874,\n",
       " 466.79271399625605,\n",
       " 1016.6894177382301,\n",
       " 2483.1973156106,\n",
       " 1033.31395459827,\n",
       " 1866.93589181232,\n",
       " 466.421390025062,\n",
       " 1800.01693501254,\n",
       " 916.5195544337621,\n",
       " 500.131961132865,\n",
       " 583.222021668917,\n",
       " 666.6566474013961,\n",
       " 483.338807272958,\n",
       " 616.653641613084,\n",
       " 833.3290568116349,\n",
       " 1050.0114366295697,\n",
       " 649.987023833091,\n",
       " 650.011583245941,\n",
       " 466.66075286339003,\n",
       " 700.1582800439791,\n",
       " 483.201347757131,\n",
       " 466.66881715645997,\n",
       " 816.640372184338,\n",
       " 399.990322854137,\n",
       " 716.559216089081,\n",
       " 950.121257614228,\n",
       " 549.907700522454,\n",
       " 566.831715841545,\n",
       " 516.627102755592,\n",
       " 416.662878895295,\n",
       " 783.351710138959,\n",
       " 916.513689502608,\n",
       " 1616.8427859083702,\n",
       " 1199.97683349357,\n",
       " 599.8527900228511,\n",
       " 883.4574256761699,\n",
       " 450.034016641439,\n",
       " 1083.6417313839802,\n",
       " 1633.33756098291,\n",
       " 966.507531309617,\n",
       " 766.650929086609,\n",
       " 1366.69359650114,\n",
       " 1466.7128041765,\n",
       " 2499.95564640267,\n",
       " 899.860194505891,\n",
       " 866.8398534355221,\n",
       " 1066.50474546768,\n",
       " 500.121697492432,\n",
       " 633.323631744133,\n",
       " 433.23463130218397,\n",
       " 1916.67900748143,\n",
       " 599.9898829904851,\n",
       " 766.6677907691341,\n",
       " 1133.33792754565,\n",
       " 816.677394614089,\n",
       " 1333.3286902634402,\n",
       " 933.332869026344,\n",
       " 883.1938699731841,\n",
       " 966.828270189581,\n",
       " 833.494008227717,\n",
       " 1066.6942563257198,\n",
       " 899.9991202581441,\n",
       " 1350.02543916926,\n",
       " 1050.00557169842,\n",
       " 849.8608543159211,\n",
       " 599.991715775104,\n",
       " 433.46812918025495,\n",
       " 1000.0058649311501,\n",
       " 583.333822083659,\n",
       " 666.798505611951,\n",
       " 1516.70334697701,\n",
       " 666.655914290459,\n",
       " 716.783550014952,\n",
       " 716.6699168155901,\n",
       " 1816.6931566374801,\n",
       " 533.314321146463,\n",
       " 733.495694410522,\n",
       " 1633.35075708164,\n",
       " 1066.68106021243,\n",
       " 983.328910180717,\n",
       " 2183.35816157924,\n",
       " 683.323705059593,\n",
       " 2533.17759477068,\n",
       " 599.985484266654,\n",
       " 433.321139149484,\n",
       " 649.995454674354,\n",
       " 1200.15168198734,\n",
       " 549.853449832881,\n",
       " 433.464463596465,\n",
       " 1133.35258988081,\n",
       " 800.0063048093581,\n",
       " 999.9783730308991,\n",
       " 933.334701810963,\n",
       " 583.3250246796521,\n",
       " 466.67358239937994,\n",
       " 816.6583335550971,\n",
       " 766.6817200224609,\n",
       " 1249.86217392143,\n",
       " 600.0012463046,\n",
       " 483.46820249571505,\n",
       " 900.003152404679,\n",
       " 833.294600291993,\n",
       " 416.93559856503305,\n",
       " 699.8577019112421,\n",
       " 666.809502377873,\n",
       " 783.366372488672,\n",
       " 1150.00058649457,\n",
       " 1283.30882277805,\n",
       " 466.525126132183,\n",
       " 433.33360215183296,\n",
       " 1166.70539970801,\n",
       " 1600.0052784511402,\n",
       " 916.664345131721,\n",
       " 916.6665444936369,\n",
       " 766.6575271286999,\n",
       " 783.34987735434,\n",
       " 1533.3476779924201,\n",
       " 516.646530377329,\n",
       " 499.999266874511,\n",
       " 1199.99589453801,\n",
       " 666.656647386844,\n",
       " 1100.02470605832,\n",
       " 800.006671357551,\n",
       " 566.675195266725,\n",
       " 900.145743726171,\n",
       " 700.006891303929,\n",
       " 833.4716481476789,\n",
       " 750.137459515827,\n",
       " 633.3404934412099,\n",
       " 483.30618355248595,\n",
       " 900.145743740723,\n",
       " 849.975587188965,\n",
       " 1133.19057093759,\n",
       " 1066.67666150315,\n",
       " 1500.15212185099,\n",
       " 833.291301270947,\n",
       " 1633.28294373059,\n",
       " 1383.3551557909198,\n",
       " 1016.6644917480901,\n",
       " 616.791101114359,\n",
       " 733.2218750525501,\n",
       " 1550.01180319232,\n",
       " 500.13232769560994,\n",
       " 499.87500348652196,\n",
       " 566.6477033519191,\n",
       " 483.31827997753896,\n",
       " 833.35544905276,\n",
       " 949.964003943023,\n",
       " 866.51911457011,\n",
       " 733.33184265357,\n",
       " 1166.68633866357,\n",
       " 383.285876188893,\n",
       " 1049.9993401899699,\n",
       " 983.335508251912,\n",
       " 816.705986202578,\n",
       " 566.642571531702,\n",
       " 633.290641460917,\n",
       " 850.124043470714,\n",
       " 800.016201901599,\n",
       " 816.491549354396,\n",
       " 683.532643510262,\n",
       " 583.23228530935,\n",
       " 1116.87321026693,\n",
       " 833.48154523992,\n",
       " 533.320919203106,\n",
       " 783.4543465869501,\n",
       " 683.3035443269181,\n",
       " 749.8566755384669,\n",
       " 483.463437238242,\n",
       " 383.355155805475,\n",
       " 1233.30691667798,\n",
       " 816.69902158319,\n",
       " 566.633774127695,\n",
       " 483.20794582832605,\n",
       " 466.79894547560303,\n",
       " 949.854402875644,\n",
       " 733.3223121386251,\n",
       " 1116.5260791895,\n",
       " 483.33330890454806,\n",
       " 349.997580706258,\n",
       " 716.546753101284,\n",
       " 633.445329236565,\n",
       " 783.1676976784371,\n",
       " 883.471721463138,\n",
       " 716.514495929005,\n",
       " 783.3121217990989,\n",
       " 1616.68259974977,\n",
       " 849.989149850444,\n",
       " 599.852790037403,\n",
       " 350.14750320988196,\n",
       " 999.920090194792,\n",
       " 499.91899052110995,\n",
       " 633.116159515339,\n",
       " 433.524579231744,\n",
       " 816.527838658658,\n",
       " 533.3201861067209,\n",
       " 716.5108303452139,\n",
       " 683.469595416682,\n",
       " 533.311755250907,\n",
       " 566.7983589955841,\n",
       " 650.130348280072,\n",
       " 666.689637684613,\n",
       " 616.818959577358,\n",
       " 1100.0078443612401,\n",
       " 633.31703368749,\n",
       " 1566.6865585808403,\n",
       " 1166.66801071551,\n",
       " 466.658920064219,\n",
       " 766.19016478071,\n",
       " 733.34357253043,\n",
       " 566.801291468437,\n",
       " 866.670869872905,\n",
       " 766.706279435311,\n",
       " 1166.80803614145,\n",
       " 583.334555194597,\n",
       " 816.826584021328,\n",
       " 716.664418447181,\n",
       " 749.9945016170391,\n",
       " 1299.85235014465,\n",
       " 799.9971408426061,\n",
       " 766.4823120721851,\n",
       " 500.129395222757,\n",
       " 616.692863390199,\n",
       " 750.0054983829609,\n",
       " 700.1450839306931,\n",
       " 816.645504004555,\n",
       " 533.2219483680091,\n",
       " 833.333822083659,\n",
       " 599.84985756455,\n",
       " 483.49019601300796,\n",
       " 799.849784234539,\n",
       " 766.6740222775841,\n",
       " 966.685678838985,\n",
       " 800.0041054619941,\n",
       " 516.5270322322609,\n",
       " 1199.9947948643198,\n",
       " 766.689784300979,\n",
       " 1450.15351478651,\n",
       " 983.348704365199,\n",
       " 1133.47868608253,\n",
       " 966.666617779993,\n",
       " 583.331989284488,\n",
       " 1083.16410539555,\n",
       " 566.803124253056,\n",
       " 749.8522768437401,\n",
       " 750.1337939320359,\n",
       " 649.9965543480359,\n",
       " 1016.67218949297,\n",
       " 399.98225854651497,\n",
       " 533.29965879675,\n",
       " 466.675048650359,\n",
       " 516.512369882548,\n",
       " 883.509843566571,\n",
       " 916.5312843251739,\n",
       " 550.137899379479,\n",
       " 733.329643320758,\n",
       " 1416.65298180305,\n",
       " 766.63406737498,\n",
       " 1833.3807415910999,\n",
       " 549.9824784928929,\n",
       " 1216.66368532169,\n",
       " 616.654374738573,\n",
       " 849.8630536632851,\n",
       " 649.854329574737,\n",
       " 949.862467183266,\n",
       " 883.484917576425,\n",
       " 633.340126893017,\n",
       " 733.479199261637,\n",
       " 1616.5275454259197,\n",
       " 733.481398609001,\n",
       " 733.460871328134,\n",
       " 749.996700978954,\n",
       " 733.343939093174,\n",
       " 366.65070915478304,\n",
       " 766.671089819283,\n",
       " 716.6996080777609,\n",
       " 583.326857464272,\n",
       " 850.151901933714,\n",
       " 716.676148324041,\n",
       " 783.4972339478551,\n",
       " 2533.17502884602,\n",
       " 883.361020736629,\n",
       " 1600.0034456519597,\n",
       " 733.3344085636779,\n",
       " 733.389758941485,\n",
       " 783.4206231782449,\n",
       " 683.35596221732,\n",
       " 1450.14838296629,\n",
       " 950.003592282883,\n",
       " 783.3333822054559,\n",
       " 933.086175020435,\n",
       " 1783.1867587228799,\n",
       " 733.339540398447,\n",
       " 650.031010867679,\n",
       " 933.3035443269181,\n",
       " 633.477952957037,\n",
       " 1149.8601945058901,\n",
       " 816.6685972100819,\n",
       " 966.670649941079,\n",
       " 666.639785704319,\n",
       " 600.01370930695,\n",
       " 516.517868280062,\n",
       " 1400.1464768516598,\n",
       " 883.3316960372031,\n",
       " 449.86136750958394,\n",
       " 433.334701810963,\n",
       " 600.028738190304,\n",
       " 1233.3351416891699,\n",
       " 966.663685321691,\n",
       " 716.633994059521,\n",
       " 1866.6935965011398,\n",
       " 733.329276758013,\n",
       " 849.8674523725639,\n",
       " 500.13416049478104,\n",
       " 433.357795016491,\n",
       " 900.000219931826,\n",
       " 733.1507626659,\n",
       " 849.852423460106,\n",
       " 733.1738558568761,\n",
       " 850.1449373143261,\n",
       " 700.0237530010049,\n",
       " 783.323118565022,\n",
       " 650.150142450002,\n",
       " 716.663685321691,\n",
       " 950.005791630247,\n",
       " 699.992228954216,\n",
       " 783.340713387588,\n",
       " 949.8474382562559,\n",
       " 699.9969942262401,\n",
       " 666.6482165455819,\n",
       " 533.1724629359089,\n",
       " 466.682013255195,\n",
       " 583.347384745139,\n",
       " 599.995014810702,\n",
       " 649.994721548865,\n",
       " 616.627982497448,\n",
       " 733.200981208938,\n",
       " 916.8128013989191,\n",
       " 533.36270689033,\n",
       " 766.678054424119,\n",
       " 1050.0008064264,\n",
       " 883.1964358687401,\n",
       " 666.6562808386519,\n",
       " 566.544333807542,\n",
       " 1299.9883434386,\n",
       " 783.3282503852389,\n",
       " 700.0134893605721,\n",
       " 999.858141789446,\n",
       " 500.108501364593,\n",
       " 733.4440096310569,\n",
       " 1550.01656844979,\n",
       " 883.309702519909,\n",
       " 800.014002539683,\n",
       " 1283.19482301595,\n",
       " 699.846338597126,\n",
       " 633.3357281837381,\n",
       " 699.973534457968,\n",
       " 649.860561068635,\n",
       " 616.556136999861,\n",
       " 900.1494093245129,\n",
       " 1016.4108331227901,\n",
       " 499.99193570693,\n",
       " 733.321579013136,\n",
       " 1183.34899761248,\n",
       " 816.664565063547,\n",
       " 666.653714928543,\n",
       " 816.5109769615809,\n",
       " 1266.80744964688]"
      ]
     },
     "execution_count": 18,
     "metadata": {},
     "output_type": "execute_result"
    }
   ],
   "source": [
    "xi"
   ]
  },
  {
   "cell_type": "code",
   "execution_count": 39,
   "metadata": {
    "collapsed": true
   },
   "outputs": [
    {
     "name": "stdout",
     "output_type": "stream",
     "text": [
      "Sub: 128\n",
      "510\n",
      "Sub: 131\n",
      "567\n",
      "Sub: 133\n",
      "458\n",
      "Sub: 134\n",
      "251\n",
      "Sub: 137\n",
      "818\n",
      "Sub: 138\n",
      "398\n",
      "Sub: 140\n",
      "328\n",
      "Sub: 142\n",
      "537\n",
      "Sub: 143\n",
      "442\n",
      "Sub: 144\n",
      "546\n",
      "Sub: 145\n",
      "812\n",
      "Sub: 146\n",
      "1057\n",
      "Sub: 147\n",
      "321\n",
      "Sub: 148\n",
      "421\n",
      "Sub: 150\n",
      "499\n",
      "Sub: 151\n",
      "185\n",
      "Sub: 156\n",
      "518\n",
      "Sub: 157\n",
      "677\n",
      "Sub: 158\n",
      "374\n",
      "Sub: 159\n",
      "478\n",
      "Sub: 161\n",
      "322\n",
      "Sub: 163\n",
      "235\n",
      "Sub: 164\n",
      "401\n",
      "Sub: 165\n",
      "899\n",
      "Sub: 166\n",
      "841\n",
      "Sub: 167\n",
      "561\n",
      "Sub: 124\n",
      "552\n",
      "Sub: 126\n",
      "492\n",
      "Sub: 127\n",
      "391\n"
     ]
    }
   ],
   "source": [
    "for sub in subj_first_fix.keys():\n",
    "    print('Sub: {}'.format(sub))\n",
    "    print(len(subj_mid_fix[sub]))"
   ]
  },
  {
   "cell_type": "code",
   "execution_count": 80,
   "metadata": {
    "collapsed": true
   },
   "outputs": [],
   "source": [
    "# remove sub 139 and 141\n",
    "# 1 and 11 middle fixsations\n",
    "del subj_first_fix[139]\n",
    "del subj_first_fix[141]\n",
    "del subj_mid_fix[139]\n",
    "del subj_mid_fix[141]"
   ]
  },
  {
   "cell_type": "code",
   "execution_count": 81,
   "metadata": {
    "scrolled": true
   },
   "outputs": [
    {
     "name": "stdout",
     "output_type": "stream",
     "text": [
      "128\n",
      "99992\n",
      "131\n",
      "99983\n",
      "133\n",
      "99999\n",
      "134\n",
      "100000\n",
      "137\n",
      "100000\n",
      "138\n",
      "100000\n",
      "140\n",
      "100000\n",
      "142\n",
      "100000\n",
      "143\n",
      "100000\n",
      "144\n",
      "100000\n",
      "145\n",
      "99945\n",
      "146\n",
      "63639\n",
      "147\n",
      "100000\n",
      "148\n",
      "99798\n",
      "150\n",
      "99922\n",
      "151\n",
      "100000\n",
      "156\n",
      "99798\n",
      "157\n",
      "100000\n",
      "158\n",
      "100000\n",
      "159\n",
      "100000\n",
      "161\n",
      "100000\n",
      "163\n",
      "100000\n",
      "164\n",
      "100000\n",
      "165\n",
      "100000\n",
      "166\n",
      "100000\n",
      "167\n",
      "99999\n",
      "124\n",
      "100000\n",
      "126\n",
      "99989\n",
      "127\n",
      "99991\n",
      "1000000\n",
      "998755\n",
      "999855\n",
      "1000000\n",
      "1000000\n",
      "999999\n",
      "999999\n",
      "1000000\n",
      "999999\n",
      "1000000\n",
      "999989\n",
      "1000000\n",
      "1000000\n",
      "996552\n",
      "1000000\n",
      "1000000\n",
      "1000000\n",
      "1000000\n",
      "999971\n",
      "999951\n",
      "1000000\n",
      "999540\n",
      "999956\n",
      "1000000\n",
      "999868\n",
      "999795\n",
      "1000000\n",
      "999961\n",
      "999023\n"
     ]
    }
   ],
   "source": [
    "first_fix_synth_dist = {}\n",
    "N = 100000\n",
    "for sub in subj_first_fix.keys():\n",
    "    x = subj_first_fix[sub].tolist()\n",
    "    [mlk, slk, tlk] =maxLKHD(x)\n",
    "    sample = [drand_exg(mlk, slk , tlk) for ii in xrange(N)]\n",
    "    sample = np.asarray(sample, dtype=np.int16)\n",
    "    sample = sample[sample>10] # removing samples less than 10ms (some were negative...)\n",
    "    print(sub)\n",
    "    print(len(sample))\n",
    "    first_fix_synth_dist[sub] = sample\n",
    "    \n",
    "mid_fix_synth_dist = {}\n",
    "N = 1000000 # number of samples\n",
    "\n",
    "for sub in subj_mid_fix.keys():\n",
    "    x = subj_mid_fix[sub].tolist()\n",
    "    [mlk, slk, tlk] =maxLKHD(x)\n",
    "    sample = [drand_exg(mlk, slk , tlk) for ii in xrange(N)]\n",
    "    sample = np.asarray(sample, dtype=np.int16) # keeps it smaller...values up to 32000\n",
    "    sample = sample[sample>10] # removing samples less than 10ms (some were negative...)\n",
    "    print(len(sample))\n",
    "    mid_fix_synth_dist[sub] = sample"
   ]
  },
  {
   "cell_type": "markdown",
   "metadata": {},
   "source": [
    "How much memory is it taking up:"
   ]
  },
  {
   "cell_type": "code",
   "execution_count": 82,
   "metadata": {},
   "outputs": [
    {
     "data": {
      "text/plain": [
       "2.000096"
      ]
     },
     "execution_count": 82,
     "metadata": {},
     "output_type": "execute_result"
    }
   ],
   "source": [
    "sys.getsizeof(mid_fix_synth_dist[124])/1000000."
   ]
  },
  {
   "cell_type": "markdown",
   "metadata": {},
   "source": [
    "Save the arrays"
   ]
  },
  {
   "cell_type": "code",
   "execution_count": 83,
   "metadata": {
    "collapsed": true
   },
   "outputs": [],
   "source": [
    "pickle.dump( first_fix_synth_dist, open( \"first_fix_synth_dist_v2.p\", \"wb\" ) )\n",
    "pickle.dump( mid_fix_synth_dist, open( \"mid_fix_synth_dist_v2.p\", \"wb\" ) )"
   ]
  },
  {
   "cell_type": "markdown",
   "metadata": {},
   "source": [
    "### Check actual vs sim mean RTs"
   ]
  },
  {
   "cell_type": "code",
   "execution_count": 85,
   "metadata": {},
   "outputs": [],
   "source": [
    "fix_compare = np.empty([len(subj_mid_fix.keys()), 4])\n",
    "i = 0\n",
    "for sub in subj_mid_fix.keys():\n",
    "    \n",
    "    fix_compare[i, 0] = np.mean(subj_first_fix[sub]).astype(int)\n",
    "    fix_compare[i, 1] = np.mean(first_fix_synth_dist[sub]).astype(int)\n",
    "    fix_compare[i, 2] = np.mean(subj_mid_fix[sub]).astype(int)\n",
    "    fix_compare[i, 3] = np.mean(mid_fix_synth_dist[sub]).astype(int)\n",
    "    i+=1"
   ]
  },
  {
   "cell_type": "code",
   "execution_count": 101,
   "metadata": {},
   "outputs": [
    {
     "data": {
      "text/html": [
       "<div>\n",
       "<style scoped>\n",
       "    .dataframe tbody tr th:only-of-type {\n",
       "        vertical-align: middle;\n",
       "    }\n",
       "\n",
       "    .dataframe tbody tr th {\n",
       "        vertical-align: top;\n",
       "    }\n",
       "\n",
       "    .dataframe thead th {\n",
       "        text-align: right;\n",
       "    }\n",
       "</style>\n",
       "<table border=\"1\" class=\"dataframe\">\n",
       "  <thead>\n",
       "    <tr style=\"text-align: right;\">\n",
       "      <th></th>\n",
       "      <th>first_sub</th>\n",
       "      <th>first_synth</th>\n",
       "      <th>mid_sub</th>\n",
       "      <th>mid_synth</th>\n",
       "    </tr>\n",
       "  </thead>\n",
       "  <tbody>\n",
       "    <tr>\n",
       "      <th>0</th>\n",
       "      <td>1356.0</td>\n",
       "      <td>1354.0</td>\n",
       "      <td>1392.0</td>\n",
       "      <td>1393.0</td>\n",
       "    </tr>\n",
       "    <tr>\n",
       "      <th>1</th>\n",
       "      <td>920.0</td>\n",
       "      <td>920.0</td>\n",
       "      <td>951.0</td>\n",
       "      <td>952.0</td>\n",
       "    </tr>\n",
       "    <tr>\n",
       "      <th>2</th>\n",
       "      <td>863.0</td>\n",
       "      <td>863.0</td>\n",
       "      <td>1277.0</td>\n",
       "      <td>1277.0</td>\n",
       "    </tr>\n",
       "    <tr>\n",
       "      <th>3</th>\n",
       "      <td>776.0</td>\n",
       "      <td>777.0</td>\n",
       "      <td>1121.0</td>\n",
       "      <td>1121.0</td>\n",
       "    </tr>\n",
       "    <tr>\n",
       "      <th>4</th>\n",
       "      <td>652.0</td>\n",
       "      <td>648.0</td>\n",
       "      <td>748.0</td>\n",
       "      <td>748.0</td>\n",
       "    </tr>\n",
       "    <tr>\n",
       "      <th>5</th>\n",
       "      <td>1485.0</td>\n",
       "      <td>1479.0</td>\n",
       "      <td>1279.0</td>\n",
       "      <td>1279.0</td>\n",
       "    </tr>\n",
       "    <tr>\n",
       "      <th>6</th>\n",
       "      <td>716.0</td>\n",
       "      <td>714.0</td>\n",
       "      <td>1201.0</td>\n",
       "      <td>1200.0</td>\n",
       "    </tr>\n",
       "    <tr>\n",
       "      <th>7</th>\n",
       "      <td>789.0</td>\n",
       "      <td>787.0</td>\n",
       "      <td>917.0</td>\n",
       "      <td>917.0</td>\n",
       "    </tr>\n",
       "    <tr>\n",
       "      <th>8</th>\n",
       "      <td>1239.0</td>\n",
       "      <td>1242.0</td>\n",
       "      <td>1089.0</td>\n",
       "      <td>1089.0</td>\n",
       "    </tr>\n",
       "    <tr>\n",
       "      <th>9</th>\n",
       "      <td>821.0</td>\n",
       "      <td>820.0</td>\n",
       "      <td>1125.0</td>\n",
       "      <td>1125.0</td>\n",
       "    </tr>\n",
       "    <tr>\n",
       "      <th>10</th>\n",
       "      <td>1189.0</td>\n",
       "      <td>1190.0</td>\n",
       "      <td>877.0</td>\n",
       "      <td>876.0</td>\n",
       "    </tr>\n",
       "    <tr>\n",
       "      <th>11</th>\n",
       "      <td>396.0</td>\n",
       "      <td>8395.0</td>\n",
       "      <td>325.0</td>\n",
       "      <td>325.0</td>\n",
       "    </tr>\n",
       "    <tr>\n",
       "      <th>12</th>\n",
       "      <td>1500.0</td>\n",
       "      <td>1503.0</td>\n",
       "      <td>1512.0</td>\n",
       "      <td>1511.0</td>\n",
       "    </tr>\n",
       "    <tr>\n",
       "      <th>13</th>\n",
       "      <td>1266.0</td>\n",
       "      <td>1272.0</td>\n",
       "      <td>1368.0</td>\n",
       "      <td>1372.0</td>\n",
       "    </tr>\n",
       "    <tr>\n",
       "      <th>14</th>\n",
       "      <td>1343.0</td>\n",
       "      <td>1345.0</td>\n",
       "      <td>1075.0</td>\n",
       "      <td>1075.0</td>\n",
       "    </tr>\n",
       "    <tr>\n",
       "      <th>15</th>\n",
       "      <td>1725.0</td>\n",
       "      <td>1725.0</td>\n",
       "      <td>1582.0</td>\n",
       "      <td>1580.0</td>\n",
       "    </tr>\n",
       "    <tr>\n",
       "      <th>16</th>\n",
       "      <td>922.0</td>\n",
       "      <td>923.0</td>\n",
       "      <td>972.0</td>\n",
       "      <td>972.0</td>\n",
       "    </tr>\n",
       "    <tr>\n",
       "      <th>17</th>\n",
       "      <td>1349.0</td>\n",
       "      <td>1347.0</td>\n",
       "      <td>894.0</td>\n",
       "      <td>894.0</td>\n",
       "    </tr>\n",
       "    <tr>\n",
       "      <th>18</th>\n",
       "      <td>1134.0</td>\n",
       "      <td>1136.0</td>\n",
       "      <td>1116.0</td>\n",
       "      <td>1116.0</td>\n",
       "    </tr>\n",
       "    <tr>\n",
       "      <th>19</th>\n",
       "      <td>1043.0</td>\n",
       "      <td>1045.0</td>\n",
       "      <td>1037.0</td>\n",
       "      <td>1036.0</td>\n",
       "    </tr>\n",
       "    <tr>\n",
       "      <th>20</th>\n",
       "      <td>879.0</td>\n",
       "      <td>877.0</td>\n",
       "      <td>1183.0</td>\n",
       "      <td>1183.0</td>\n",
       "    </tr>\n",
       "    <tr>\n",
       "      <th>21</th>\n",
       "      <td>1100.0</td>\n",
       "      <td>1096.0</td>\n",
       "      <td>1074.0</td>\n",
       "      <td>1073.0</td>\n",
       "    </tr>\n",
       "    <tr>\n",
       "      <th>22</th>\n",
       "      <td>1339.0</td>\n",
       "      <td>1335.0</td>\n",
       "      <td>1161.0</td>\n",
       "      <td>1160.0</td>\n",
       "    </tr>\n",
       "    <tr>\n",
       "      <th>23</th>\n",
       "      <td>912.0</td>\n",
       "      <td>909.0</td>\n",
       "      <td>886.0</td>\n",
       "      <td>886.0</td>\n",
       "    </tr>\n",
       "    <tr>\n",
       "      <th>24</th>\n",
       "      <td>974.0</td>\n",
       "      <td>974.0</td>\n",
       "      <td>715.0</td>\n",
       "      <td>714.0</td>\n",
       "    </tr>\n",
       "    <tr>\n",
       "      <th>25</th>\n",
       "      <td>1942.0</td>\n",
       "      <td>1937.0</td>\n",
       "      <td>818.0</td>\n",
       "      <td>817.0</td>\n",
       "    </tr>\n",
       "    <tr>\n",
       "      <th>26</th>\n",
       "      <td>989.0</td>\n",
       "      <td>992.0</td>\n",
       "      <td>874.0</td>\n",
       "      <td>873.0</td>\n",
       "    </tr>\n",
       "    <tr>\n",
       "      <th>27</th>\n",
       "      <td>791.0</td>\n",
       "      <td>795.0</td>\n",
       "      <td>930.0</td>\n",
       "      <td>930.0</td>\n",
       "    </tr>\n",
       "    <tr>\n",
       "      <th>28</th>\n",
       "      <td>1433.0</td>\n",
       "      <td>1428.0</td>\n",
       "      <td>1246.0</td>\n",
       "      <td>1248.0</td>\n",
       "    </tr>\n",
       "  </tbody>\n",
       "</table>\n",
       "</div>"
      ],
      "text/plain": [
       "    first_sub  first_synth  mid_sub  mid_synth\n",
       "0      1356.0       1354.0   1392.0     1393.0\n",
       "1       920.0        920.0    951.0      952.0\n",
       "2       863.0        863.0   1277.0     1277.0\n",
       "3       776.0        777.0   1121.0     1121.0\n",
       "4       652.0        648.0    748.0      748.0\n",
       "5      1485.0       1479.0   1279.0     1279.0\n",
       "6       716.0        714.0   1201.0     1200.0\n",
       "7       789.0        787.0    917.0      917.0\n",
       "8      1239.0       1242.0   1089.0     1089.0\n",
       "9       821.0        820.0   1125.0     1125.0\n",
       "10     1189.0       1190.0    877.0      876.0\n",
       "11      396.0       8395.0    325.0      325.0\n",
       "12     1500.0       1503.0   1512.0     1511.0\n",
       "13     1266.0       1272.0   1368.0     1372.0\n",
       "14     1343.0       1345.0   1075.0     1075.0\n",
       "15     1725.0       1725.0   1582.0     1580.0\n",
       "16      922.0        923.0    972.0      972.0\n",
       "17     1349.0       1347.0    894.0      894.0\n",
       "18     1134.0       1136.0   1116.0     1116.0\n",
       "19     1043.0       1045.0   1037.0     1036.0\n",
       "20      879.0        877.0   1183.0     1183.0\n",
       "21     1100.0       1096.0   1074.0     1073.0\n",
       "22     1339.0       1335.0   1161.0     1160.0\n",
       "23      912.0        909.0    886.0      886.0\n",
       "24      974.0        974.0    715.0      714.0\n",
       "25     1942.0       1937.0    818.0      817.0\n",
       "26      989.0        992.0    874.0      873.0\n",
       "27      791.0        795.0    930.0      930.0\n",
       "28     1433.0       1428.0   1246.0     1248.0"
      ]
     },
     "execution_count": 101,
     "metadata": {},
     "output_type": "execute_result"
    }
   ],
   "source": [
    "# 11 first fix is wonky...\n",
    "pd.DataFrame(fix_compare, columns=['first_sub', 'first_synth', 'mid_sub', 'mid_synth'])"
   ]
  },
  {
   "cell_type": "markdown",
   "metadata": {},
   "source": [
    "Convert to DFs"
   ]
  },
  {
   "cell_type": "code",
   "execution_count": 89,
   "metadata": {
    "scrolled": true
   },
   "outputs": [],
   "source": [
    "# Synth Dists\n",
    "first_fix_df = pd.DataFrame.from_dict(first_fix_synth_dist, orient=\"index\").T\n",
    "mid_fix_df = pd.DataFrame.from_dict(mid_fix_synth_dist, orient=\"index\").T\n",
    "\n",
    "# Actual Dists\n",
    "subj_first_fix_df = pd.DataFrame.from_dict(subj_first_fix, orient=\"index\").T\n",
    "subj_mid_fix_df = pd.DataFrame.from_dict(subj_mid_fix, orient=\"index\").T"
   ]
  },
  {
   "cell_type": "code",
   "execution_count": 90,
   "metadata": {},
   "outputs": [
    {
     "data": {
      "text/html": [
       "<div>\n",
       "<style scoped>\n",
       "    .dataframe tbody tr th:only-of-type {\n",
       "        vertical-align: middle;\n",
       "    }\n",
       "\n",
       "    .dataframe tbody tr th {\n",
       "        vertical-align: top;\n",
       "    }\n",
       "\n",
       "    .dataframe thead th {\n",
       "        text-align: right;\n",
       "    }\n",
       "</style>\n",
       "<table border=\"1\" class=\"dataframe\">\n",
       "  <thead>\n",
       "    <tr style=\"text-align: right;\">\n",
       "      <th></th>\n",
       "      <th>128</th>\n",
       "      <th>131</th>\n",
       "      <th>133</th>\n",
       "      <th>134</th>\n",
       "      <th>137</th>\n",
       "      <th>138</th>\n",
       "      <th>140</th>\n",
       "      <th>142</th>\n",
       "      <th>143</th>\n",
       "      <th>144</th>\n",
       "      <th>...</th>\n",
       "      <th>159</th>\n",
       "      <th>161</th>\n",
       "      <th>163</th>\n",
       "      <th>164</th>\n",
       "      <th>165</th>\n",
       "      <th>166</th>\n",
       "      <th>167</th>\n",
       "      <th>124</th>\n",
       "      <th>126</th>\n",
       "      <th>127</th>\n",
       "    </tr>\n",
       "  </thead>\n",
       "  <tbody>\n",
       "    <tr>\n",
       "      <th>0</th>\n",
       "      <td>983.562889</td>\n",
       "      <td>1918.784708</td>\n",
       "      <td>4471.068346</td>\n",
       "      <td>1318.203056</td>\n",
       "      <td>2252.326870</td>\n",
       "      <td>3750.117573</td>\n",
       "      <td>2833.603302</td>\n",
       "      <td>833.451425</td>\n",
       "      <td>5155.233351</td>\n",
       "      <td>3203.202168</td>\n",
       "      <td>...</td>\n",
       "      <td>3200.168983</td>\n",
       "      <td>1618.400170</td>\n",
       "      <td>4433.452403</td>\n",
       "      <td>1835.518571</td>\n",
       "      <td>3870.930552</td>\n",
       "      <td>2183.582317</td>\n",
       "      <td>2666.834794</td>\n",
       "      <td>3250.118398</td>\n",
       "      <td>7524.586002</td>\n",
       "      <td>6073.424867</td>\n",
       "    </tr>\n",
       "    <tr>\n",
       "      <th>1</th>\n",
       "      <td>2333.440001</td>\n",
       "      <td>2153.579131</td>\n",
       "      <td>3553.856282</td>\n",
       "      <td>817.561114</td>\n",
       "      <td>583.288840</td>\n",
       "      <td>2883.541079</td>\n",
       "      <td>1483.462269</td>\n",
       "      <td>983.598139</td>\n",
       "      <td>3520.234915</td>\n",
       "      <td>2754.458213</td>\n",
       "      <td>...</td>\n",
       "      <td>1950.202798</td>\n",
       "      <td>1235.071154</td>\n",
       "      <td>1766.878598</td>\n",
       "      <td>5222.177654</td>\n",
       "      <td>1068.903362</td>\n",
       "      <td>733.587357</td>\n",
       "      <td>2133.509770</td>\n",
       "      <td>966.945202</td>\n",
       "      <td>1618.221092</td>\n",
       "      <td>5423.482737</td>\n",
       "    </tr>\n",
       "    <tr>\n",
       "      <th>2</th>\n",
       "      <td>883.588731</td>\n",
       "      <td>2152.713186</td>\n",
       "      <td>6323.002481</td>\n",
       "      <td>934.288770</td>\n",
       "      <td>767.881454</td>\n",
       "      <td>3400.119497</td>\n",
       "      <td>2450.096129</td>\n",
       "      <td>1150.244950</td>\n",
       "      <td>5789.391689</td>\n",
       "      <td>1535.053511</td>\n",
       "      <td>...</td>\n",
       "      <td>2600.200507</td>\n",
       "      <td>3570.515667</td>\n",
       "      <td>3050.046828</td>\n",
       "      <td>4771.711913</td>\n",
       "      <td>717.466199</td>\n",
       "      <td>783.597712</td>\n",
       "      <td>2316.714105</td>\n",
       "      <td>483.613726</td>\n",
       "      <td>2485.917118</td>\n",
       "      <td>2286.329940</td>\n",
       "    </tr>\n",
       "    <tr>\n",
       "      <th>3</th>\n",
       "      <td>1116.918582</td>\n",
       "      <td>1084.807674</td>\n",
       "      <td>2085.898970</td>\n",
       "      <td>1385.017891</td>\n",
       "      <td>584.305911</td>\n",
       "      <td>166.952031</td>\n",
       "      <td>1066.955513</td>\n",
       "      <td>866.940972</td>\n",
       "      <td>1601.956082</td>\n",
       "      <td>2970.044616</td>\n",
       "      <td>...</td>\n",
       "      <td>3733.477879</td>\n",
       "      <td>601.014556</td>\n",
       "      <td>2766.853672</td>\n",
       "      <td>2485.885041</td>\n",
       "      <td>734.503572</td>\n",
       "      <td>500.359775</td>\n",
       "      <td>1400.066347</td>\n",
       "      <td>600.231812</td>\n",
       "      <td>1468.282718</td>\n",
       "      <td>4872.016824</td>\n",
       "    </tr>\n",
       "    <tr>\n",
       "      <th>4</th>\n",
       "      <td>716.914917</td>\n",
       "      <td>1184.727630</td>\n",
       "      <td>1018.052650</td>\n",
       "      <td>967.829594</td>\n",
       "      <td>417.410040</td>\n",
       "      <td>1300.207654</td>\n",
       "      <td>1350.253199</td>\n",
       "      <td>1233.428332</td>\n",
       "      <td>6756.931335</td>\n",
       "      <td>1034.658551</td>\n",
       "      <td>...</td>\n",
       "      <td>2800.191710</td>\n",
       "      <td>3536.168098</td>\n",
       "      <td>2600.004399</td>\n",
       "      <td>2619.602481</td>\n",
       "      <td>767.563640</td>\n",
       "      <td>1033.604402</td>\n",
       "      <td>1566.704850</td>\n",
       "      <td>550.106375</td>\n",
       "      <td>1186.034961</td>\n",
       "      <td>2636.226460</td>\n",
       "    </tr>\n",
       "  </tbody>\n",
       "</table>\n",
       "<p>5 rows × 29 columns</p>\n",
       "</div>"
      ],
      "text/plain": [
       "           128          131          133          134          137  \\\n",
       "0   983.562889  1918.784708  4471.068346  1318.203056  2252.326870   \n",
       "1  2333.440001  2153.579131  3553.856282   817.561114   583.288840   \n",
       "2   883.588731  2152.713186  6323.002481   934.288770   767.881454   \n",
       "3  1116.918582  1084.807674  2085.898970  1385.017891   584.305911   \n",
       "4   716.914917  1184.727630  1018.052650   967.829594   417.410040   \n",
       "\n",
       "           138          140          142          143          144  \\\n",
       "0  3750.117573  2833.603302   833.451425  5155.233351  3203.202168   \n",
       "1  2883.541079  1483.462269   983.598139  3520.234915  2754.458213   \n",
       "2  3400.119497  2450.096129  1150.244950  5789.391689  1535.053511   \n",
       "3   166.952031  1066.955513   866.940972  1601.956082  2970.044616   \n",
       "4  1300.207654  1350.253199  1233.428332  6756.931335  1034.658551   \n",
       "\n",
       "      ...               159          161          163          164  \\\n",
       "0     ...       3200.168983  1618.400170  4433.452403  1835.518571   \n",
       "1     ...       1950.202798  1235.071154  1766.878598  5222.177654   \n",
       "2     ...       2600.200507  3570.515667  3050.046828  4771.711913   \n",
       "3     ...       3733.477879   601.014556  2766.853672  2485.885041   \n",
       "4     ...       2800.191710  3536.168098  2600.004399  2619.602481   \n",
       "\n",
       "           165          166          167          124          126  \\\n",
       "0  3870.930552  2183.582317  2666.834794  3250.118398  7524.586002   \n",
       "1  1068.903362   733.587357  2133.509770   966.945202  1618.221092   \n",
       "2   717.466199   783.597712  2316.714105   483.613726  2485.917118   \n",
       "3   734.503572   500.359775  1400.066347   600.231812  1468.282718   \n",
       "4   767.563640  1033.604402  1566.704850   550.106375  1186.034961   \n",
       "\n",
       "           127  \n",
       "0  6073.424867  \n",
       "1  5423.482737  \n",
       "2  2286.329940  \n",
       "3  4872.016824  \n",
       "4  2636.226460  \n",
       "\n",
       "[5 rows x 29 columns]"
      ]
     },
     "execution_count": 90,
     "metadata": {},
     "output_type": "execute_result"
    }
   ],
   "source": [
    "subj_first_fix_df.head()"
   ]
  },
  {
   "cell_type": "markdown",
   "metadata": {},
   "source": [
    "Convert to Long Format"
   ]
  },
  {
   "cell_type": "code",
   "execution_count": 91,
   "metadata": {
    "collapsed": true
   },
   "outputs": [],
   "source": [
    "# Synth dists\n",
    "first_fix_df_long = pd.melt(first_fix_df)\n",
    "first_fix_df_long = first_fix_df_long.rename(index=str, columns={\"variable\": \"subject\", \"value\": \"time\"})\n",
    "\n",
    "mid_fix_df_long = pd.melt(mid_fix_df)\n",
    "mid_fix_df_long = mid_fix_df_long.rename(index=str, columns={\"variable\": \"subject\", \"value\": \"time\"})\n",
    "\n",
    "# Actual dists\n",
    "# first fix\n",
    "subj_first_fix_df_long = pd.melt(subj_first_fix_df)\n",
    "subj_first_fix_df_long = subj_first_fix_df_long.rename(index=str, columns={\"variable\": \"subject\", \"value\": \"time\"})\n",
    "subj_first_fix_df_long = subj_first_fix_df_long.dropna() # remove NA rows\n",
    "\n",
    "# middle fix\n",
    "subj_mid_fix_df_long = pd.melt(subj_mid_fix_df)\n",
    "subj_mid_fix_df_long = subj_mid_fix_df_long.rename(index=str, columns={\"variable\": \"subject\", \"value\": \"time\"})\n",
    "subj_mid_fix_df_long = subj_mid_fix_df_long.dropna() # remove NA rows"
   ]
  },
  {
   "cell_type": "code",
   "execution_count": 92,
   "metadata": {},
   "outputs": [],
   "source": [
    "# add column to differentiate versions\n",
    "first_fix_df_long['version'] = \"synth\"\n",
    "mid_fix_df_long['version'] = \"synth\"\n",
    "subj_first_fix_df_long['version'] = \"actual\"\n",
    "subj_mid_fix_df_long['version'] = \"actual\"\n",
    "\n",
    "# append\n",
    "full_long_first = pd.concat([first_fix_df_long, subj_first_fix_df_long])\n",
    "full_long_mid = pd.concat([mid_fix_df_long, subj_mid_fix_df_long])"
   ]
  },
  {
   "cell_type": "markdown",
   "metadata": {
    "collapsed": true
   },
   "source": [
    "### Compare Plots"
   ]
  },
  {
   "cell_type": "code",
   "execution_count": 95,
   "metadata": {
    "collapsed": true
   },
   "outputs": [],
   "source": [
    "sns.set_context(\"talk\", font_scale=1.4)\n",
    "# paper, # poseter"
   ]
  },
  {
   "cell_type": "code",
   "execution_count": 98,
   "metadata": {},
   "outputs": [
    {
     "data": {
      "image/png": "[encoded data removed]",
      "text/plain": [
       "<matplotlib.figure.Figure at 0x13d042150>"
      ]
     },
     "metadata": {},
     "output_type": "display_data"
    }
   ],
   "source": [
    "sns.set_style(\"ticks\")\n",
    "compare = sns.FacetGrid(full_long_mid, col = \"subject\", hue=\"version\", col_wrap=5)\n",
    "sns.plt.xlim(0, 4000)\n",
    "plt.xticks([0, 1000, 2000, 3000])\n",
    "plt.yticks([0, 0.0010, 0.0020, 0.0030])\n",
    "#plt.xlabel('Time (ms)', fontsize=6)\n",
    "compare = compare.map(sns.kdeplot, \"time\").add_legend()"
   ]
  },
  {
   "cell_type": "markdown",
   "metadata": {},
   "source": [
    "### Save Plot"
   ]
  },
  {
   "cell_type": "code",
   "execution_count": 99,
   "metadata": {
    "collapsed": true
   },
   "outputs": [],
   "source": [
    "compare.savefig(\"plots/mid_fix_compare_v2.png\", bbox_inches='tight')"
   ]
  },
  {
   "cell_type": "code",
   "execution_count": 367,
   "metadata": {},
   "outputs": [
    {
     "data": {
      "text/plain": [
       "1"
      ]
     },
     "execution_count": 367,
     "metadata": {},
     "output_type": "execute_result"
    }
   ],
   "source": [
    "np.sum(subj_first_fix[1]<250)"
   ]
  },
  {
   "cell_type": "code",
   "execution_count": 361,
   "metadata": {},
   "outputs": [
    {
     "data": {
      "text/plain": [
       "289"
      ]
     },
     "execution_count": 361,
     "metadata": {},
     "output_type": "execute_result"
    }
   ],
   "source": [
    "len(subj_first_fix[1]<250)"
   ]
  },
  {
   "cell_type": "markdown",
   "metadata": {},
   "source": [
    "Checking for fast responses on first fixations:"
   ]
  },
  {
   "cell_type": "code",
   "execution_count": 50,
   "metadata": {},
   "outputs": [
    {
     "name": "stdout",
     "output_type": "stream",
     "text": [
      "Sub 1: 1.000%\n",
      "Sub 3: 4.000%\n",
      "Sub 7: 0.000%\n",
      "Sub 8: 0.000%\n",
      "Sub 9: 0.000%\n",
      "Sub 11: 0.000%\n",
      "Sub 12: 0.000%\n",
      "Sub 15: 0.000%\n",
      "Sub 18: 0.000%\n",
      "Sub 19: 0.000%\n",
      "Sub 23: 1.000%\n",
      "Sub 29: 0.000%\n",
      "Sub 30: 0.000%\n",
      "Sub 31: 0.000%\n",
      "Sub 32: 0.000%\n",
      "Sub 33: 0.000%\n",
      "Sub 35: 0.000%\n",
      "Sub 36: 0.000%\n",
      "Sub 37: 0.000%\n",
      "Sub 38: 0.000%\n",
      "Sub 39: 0.000%\n",
      "Sub 41: 3.000%\n",
      "Sub 43: 0.000%\n"
     ]
    }
   ],
   "source": [
    "for i in subj_first_fix.keys():\n",
    "    fast = np.sum(subj_first_fix[i]<10) # /float(len(subj_first_fix[i])) * 100\n",
    "    print('Sub {}: {:.3f}%'.format(i, fast))"
   ]
  },
  {
   "cell_type": "markdown",
   "metadata": {},
   "source": [
    "Checking for fast responses on middle fixations:"
   ]
  },
  {
   "cell_type": "code",
   "execution_count": 372,
   "metadata": {},
   "outputs": [
    {
     "name": "stdout",
     "output_type": "stream",
     "text": [
      "Sub 1: 3.457%\n",
      "Sub 3: 0.367%\n",
      "Sub 7: 0.000%\n",
      "Sub 8: 0.538%\n",
      "Sub 9: 0.583%\n",
      "Sub 11: 0.000%\n",
      "Sub 12: 0.189%\n",
      "Sub 15: 0.000%\n",
      "Sub 18: 0.000%\n",
      "Sub 19: 1.126%\n",
      "Sub 23: 1.235%\n",
      "Sub 29: 2.424%\n",
      "Sub 30: 0.000%\n",
      "Sub 31: 0.000%\n",
      "Sub 32: 0.227%\n",
      "Sub 33: 1.198%\n",
      "Sub 35: 0.000%\n",
      "Sub 36: 0.000%\n",
      "Sub 37: 0.000%\n",
      "Sub 38: 0.697%\n",
      "Sub 39: 0.000%\n",
      "Sub 41: 2.621%\n",
      "Sub 43: 0.000%\n"
     ]
    }
   ],
   "source": [
    "for i in subj_mid_fix.keys():\n",
    "    fast = np.sum(subj_mid_fix[i]<250)/float(len(subj_mid_fix[i])) * 100\n",
    "    print('Sub {}: {:.3f}%'.format(i, fast))"
   ]
  },
  {
   "cell_type": "code",
   "execution_count": 262,
   "metadata": {},
   "outputs": [
    {
     "data": {
      "text/plain": [
       "<matplotlib.axes._subplots.AxesSubplot at 0x12197ee50>"
      ]
     },
     "execution_count": 262,
     "metadata": {},
     "output_type": "execute_result"
    },
    {
     "data": {
      "image/png": "[encoded data removed]",
      "text/plain": [
       "<matplotlib.figure.Figure at 0x1528cfc10>"
      ]
     },
     "metadata": {},
     "output_type": "display_data"
    }
   ],
   "source": [
    "sns.kdeplot(subj_first_fix[1], shade=True)\n",
    "sns.kdeplot(first_fix_synth_dist[1])"
   ]
  },
  {
   "cell_type": "code",
   "execution_count": 190,
   "metadata": {
    "collapsed": true
   },
   "outputs": [],
   "source": [
    "i = 11"
   ]
  },
  {
   "cell_type": "code",
   "execution_count": 191,
   "metadata": {
    "scrolled": true
   },
   "outputs": [
    {
     "data": {
      "text/plain": [
       "1226.4373740015196"
      ]
     },
     "execution_count": 191,
     "metadata": {},
     "output_type": "execute_result"
    }
   ],
   "source": [
    "np.mean(subj_mid_fix[i])"
   ]
  },
  {
   "cell_type": "code",
   "execution_count": 192,
   "metadata": {},
   "outputs": [
    {
     "data": {
      "text/plain": [
       "1227.1614320281276"
      ]
     },
     "execution_count": 192,
     "metadata": {},
     "output_type": "execute_result"
    }
   ],
   "source": [
    "np.mean(mid_fix_synth_dist[i])"
   ]
  },
  {
   "cell_type": "code",
   "execution_count": 193,
   "metadata": {},
   "outputs": [
    {
     "data": {
      "text/plain": [
       "1229.4138273045533"
      ]
     },
     "execution_count": 193,
     "metadata": {},
     "output_type": "execute_result"
    }
   ],
   "source": [
    "np.mean(subj_first_fix[i])"
   ]
  },
  {
   "cell_type": "code",
   "execution_count": 194,
   "metadata": {},
   "outputs": [
    {
     "data": {
      "text/plain": [
       "1230.1126394548369"
      ]
     },
     "execution_count": 194,
     "metadata": {},
     "output_type": "execute_result"
    }
   ],
   "source": [
    "np.mean(first_fix_synth_dist[i])"
   ]
  },
  {
   "cell_type": "code",
   "execution_count": 66,
   "metadata": {
    "collapsed": true
   },
   "outputs": [],
   "source": [
    "xi = subj_mid_fix[34].values.tolist()"
   ]
  },
  {
   "cell_type": "code",
   "execution_count": 67,
   "metadata": {},
   "outputs": [
    {
     "name": "stdout",
     "output_type": "stream",
     "text": [
      "by maxLKHD: mu=729.9912 , sig=164.7501 , tau=832.4415\n",
      "by minSQR : mu=674.1818 , sig=80.1272 , tau=794.4531\n"
     ]
    }
   ],
   "source": [
    "[xx, yy] = histogram(xi , norm=1)\n",
    "[mcs, scs, tcs] =minSQR(xx, yy)\n",
    "[mlk, slk, tlk] =maxLKHD(xi)\n",
    "\n",
    "ycs = [exgauss(x, mcs, scs, tcs) for x in xx]\n",
    "ylk = [exgauss(x, mlk, slk, tlk) for x in xx]\n",
    "\n",
    "d1 = gdata(xx, yy, with_=\"boxes\", title=\"Histogram\")\n",
    "d2 = gdata(xx, ycs, with_=\"lines lw 2\", title=\"minSQR\")\n",
    "d3 = gdata(xx, ylk, with_=\"lines lw 2\", title=\"maxLKHD\")\n",
    "\n",
    "g.plot(d1, d2, d3)\n",
    "\n",
    "print \"by maxLKHD: mu=%3.4f , sig=%3.4f , tau=%3.4f\"%(mlk, slk , tlk)\n",
    "print \"by minSQR : mu=%3.4f , sig=%3.4f , tau=%3.4f\"%(mcs, scs , tcs)"
   ]
  },
  {
   "cell_type": "markdown",
   "metadata": {},
   "source": [
    "### Group Fit"
   ]
  },
  {
   "cell_type": "code",
   "execution_count": 33,
   "metadata": {
    "collapsed": true
   },
   "outputs": [],
   "source": [
    "xi_group = group_mid_fix.values.tolist()"
   ]
  },
  {
   "cell_type": "code",
   "execution_count": 34,
   "metadata": {},
   "outputs": [
    {
     "name": "stdout",
     "output_type": "stream",
     "text": [
      "by maxLKHD: mu=453.5634 , sig=157.6098 , tau=561.5854\n",
      "by minSQR : mu=498.4341 , sig=203.4021 , tau=443.8988\n"
     ]
    }
   ],
   "source": [
    "# group fit\n",
    "[xx_group, yy_group] = histogram(xi_group , norm=1)\n",
    "[mcs, scs, tcs] =minSQR(xx_group, yy_group)\n",
    "[mlk, slk, tlk] =maxLKHD(xi_group)\n",
    "\n",
    "ycs_group = [exgauss(x, mcs, scs, tcs) for x in xx_group]\n",
    "ylk_group = [exgauss(x, mlk, slk, tlk) for x in xx_group]\n",
    "\n",
    "print \"by maxLKHD: mu=%3.4f , sig=%3.4f , tau=%3.4f\"%(mlk, slk , tlk)\n",
    "print \"by minSQR : mu=%3.4f , sig=%3.4f , tau=%3.4f\"%(mcs, scs , tcs)"
   ]
  },
  {
   "cell_type": "markdown",
   "metadata": {},
   "source": [
    "## HISTOGRAM"
   ]
  },
  {
   "cell_type": "code",
   "execution_count": 46,
   "metadata": {},
   "outputs": [
    {
     "name": "stdout",
     "output_type": "stream",
     "text": [
      "Li4 stats : M = 250.009063 , S = 158.059525 , t = 1.740103 \n",
      "For norm=0 : M=249.985470, S =158.045049, t =1.738630 sum(yi) =10000.000000\n",
      "For norm=−1: M=249.985470, S =158.045049, t =1.738630 sum(yi) =1.000000\n",
      "For norm=1 : M = 249.985470 , S = 158.045049 , t = 1.738630 sum(yi∗dx) = 1.000000\n"
     ]
    }
   ],
   "source": [
    "N = 10000\n",
    "mu = 100.; sig = 50.; tau = 150.\n",
    "\n",
    "li4 = [drand_exg(mu, sig , tau) for ii in xrange(N)]\n",
    "\n",
    "[x, y] = histogram(li4 , norm=1)\n",
    "\n",
    "y2 = [exgauss(xi, mu, sig, tau) for xi in x]\n",
    "d1 = gdata(x, y2, with_=\"lines lw 3 lc 1\", title=\"exgaussian\") \n",
    "d2 = gdata(x, y, with_=\"boxes lc 3\", title=\"histogram\") \n",
    "g.plot(d1, d2)\n",
    "\n",
    "M, S, t = stats(li4, 1)\n",
    "print \"Li4 stats : M = %f , S = %f , t = %f \"%(M, S, t)\n",
    "[x, y] = histogram(li4 , norm=0)\n",
    "\n",
    "M1, S1, t1 = stats_his(x, y, assymetry=True)\n",
    "print \"For norm=0 : M=%f, S =%f, t =%f sum(yi) =%f\"%(M1, S1, t1, sum(y))\n",
    "[x, y] = histogram(li4 , norm=-1)\n",
    "\n",
    "M1, S1, t1 = stats_his(x, y, assymetry=1, norm=-1, N=N)\n",
    "print \"For norm=−1: M=%f, S =%f, t =%f sum(yi) =%f\"%(M1, S1, t1, sum(y))\n",
    "[x, y] = histogram(li4 , norm=1)\n",
    "\n",
    "M1, S1, t1 = stats_his(x, y, assymetry=1, norm=1, N=N)\n",
    "print \"For norm=1 : M = %f , S = %f , t = %f sum(yi∗dx) = %f\"%(M1, S1, t1 , sum(y)*(x[1]-x[0]))\n"
   ]
  },
  {
   "cell_type": "code",
   "execution_count": 9,
   "metadata": {},
   "outputs": [
    {
     "name": "stderr",
     "output_type": "stream",
     "text": [
      "ERROR:root:Line magic function `%gnuplot` not found.\n"
     ]
    }
   ],
   "source": [
    "%gnuplot inline\n"
   ]
  },
  {
   "cell_type": "code",
   "execution_count": null,
   "metadata": {
    "collapsed": true
   },
   "outputs": [],
   "source": []
  },
  {
   "cell_type": "code",
   "execution_count": null,
   "metadata": {
    "collapsed": true
   },
   "outputs": [],
   "source": []
  }
 ],
 "metadata": {
  "kernelspec": {
   "display_name": "Python [conda root]",
   "language": "python",
   "name": "conda-root-py"
  },
  "language_info": {
   "codemirror_mode": {
    "name": "ipython",
    "version": 2
   },
   "file_extension": ".py",
   "mimetype": "text/x-python",
   "name": "python",
   "nbconvert_exporter": "python",
   "pygments_lexer": "ipython2",
   "version": "2.7.12"
  },
  "toc": {
   "nav_menu": {},
   "number_sections": true,
   "sideBar": true,
   "skip_h1_title": false,
   "title_cell": "Table of Contents",
   "title_sidebar": "Contents",
   "toc_cell": true,
   "toc_position": {},
   "toc_section_display": true,
   "toc_window_display": true
  }
 },
 "nbformat": 4,
 "nbformat_minor": 2
}
