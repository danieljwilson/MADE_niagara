{
 "cells": [
  {
   "cell_type": "markdown",
   "metadata": {
    "toc": true
   },
   "source": [
    "<h1>Table of Contents<span class=\"tocSkip\"></span></h1>\n",
    "<div class=\"toc\"><ul class=\"toc-item\"><li><span><a href=\"#Import-Libraries-and-Data\" data-toc-modified-id=\"Import-Libraries-and-Data-1\"><span class=\"toc-item-num\">1&nbsp;&nbsp;</span>Import Libraries and Data</a></span></li><li><span><a href=\"#Plot-Single-Individuals\" data-toc-modified-id=\"Plot-Single-Individuals-2\"><span class=\"toc-item-num\">2&nbsp;&nbsp;</span>Plot Single Individuals</a></span></li><li><span><a href=\"#FUNCTIONS\" data-toc-modified-id=\"FUNCTIONS-3\"><span class=\"toc-item-num\">3&nbsp;&nbsp;</span>FUNCTIONS</a></span></li><li><span><a href=\"#Plot-All-Individuals\" data-toc-modified-id=\"Plot-All-Individuals-4\"><span class=\"toc-item-num\">4&nbsp;&nbsp;</span>Plot All Individuals</a></span></li></ul></div>"
   ]
  },
  {
   "cell_type": "markdown",
   "metadata": {},
   "source": [
    "# Import Libraries and Data"
   ]
  },
  {
   "cell_type": "code",
   "execution_count": 5,
   "metadata": {
    "collapsed": true
   },
   "outputs": [],
   "source": [
    "import numpy as np\n",
    "import pandas as pd\n",
    "import sys\n",
    "# Add path where custom modules are saved\n",
    "sys.path.append('/Users/djw/Dropbox/PROGRAMMING/_NEURO/2017_MADE/aDDM_DJW/functions')\n",
    "import utils_addm                         # for importing custom module"
   ]
  },
  {
   "cell_type": "code",
   "execution_count": 6,
   "metadata": {
    "collapsed": true
   },
   "outputs": [],
   "source": [
    "import plotly as plotly\n",
    "import plotly.plotly as py\n",
    "from plotly.offline import download_plotlyjs, init_notebook_mode, plot, iplot\n",
    "from plotly.graph_objs import *"
   ]
  },
  {
   "cell_type": "code",
   "execution_count": 7,
   "metadata": {
    "collapsed": true
   },
   "outputs": [],
   "source": [
    "# load files for plotting\n",
    "path_to_file = \"outputs/2017-11-30/test/sim_subjects.pickle\"\n",
    "subjects = utils_addm.pickle_read(path_to_file)\n",
    "\n",
    "path_to_file = \"outputs/2017-11-30/test/test_data.pickle\"\n",
    "test_expdata = utils_addm.pickle_read(path_to_file)\n",
    "\n",
    "path_to_file = \"outputs/2017-11-30/test/subj_params_df.pickle\"\n",
    "subj_params_df = utils_addm.pickle_read(path_to_file)"
   ]
  },
  {
   "cell_type": "code",
   "execution_count": 13,
   "metadata": {
    "collapsed": true
   },
   "outputs": [
    {
     "name": "stderr",
     "output_type": "stream",
     "text": [
      "/Users/djw/anaconda/envs/python3/lib/python3.6/site-packages/ipykernel/__main__.py:18: SettingWithCopyWarning:\n",
      "\n",
      "\n",
      "A value is trying to be set on a copy of a slice from a DataFrame\n",
      "\n",
      "See the caveats in the documentation: http://pandas.pydata.org/pandas-docs/stable/indexing.html#indexing-view-versus-copy\n",
      "\n",
      "/Users/djw/anaconda/envs/python3/lib/python3.6/site-packages/ipykernel/__main__.py:19: SettingWithCopyWarning:\n",
      "\n",
      "\n",
      "A value is trying to be set on a copy of a slice from a DataFrame\n",
      "\n",
      "See the caveats in the documentation: http://pandas.pydata.org/pandas-docs/stable/indexing.html#indexing-view-versus-copy\n",
      "\n",
      "/Users/djw/anaconda/envs/python3/lib/python3.6/site-packages/ipykernel/__main__.py:20: SettingWithCopyWarning:\n",
      "\n",
      "\n",
      "A value is trying to be set on a copy of a slice from a DataFrame\n",
      "\n",
      "See the caveats in the documentation: http://pandas.pydata.org/pandas-docs/stable/indexing.html#indexing-view-versus-copy\n",
      "\n"
     ]
    }
   ],
   "source": [
    "# Format Data\n",
    "subject_data = format_for_plotting(subjects, test_expdata, subj_params_df)"
   ]
  },
  {
   "cell_type": "markdown",
   "metadata": {
    "heading_collapsed": true
   },
   "source": [
    "# Plot Single Individuals"
   ]
  },
  {
   "cell_type": "markdown",
   "metadata": {
    "hidden": true
   },
   "source": [
    "**Enter subject number to check fit**\n",
    "\n",
    "---\n",
    "- subject #s = 0-22\n",
    "- decent fits: 7-10, 14\n",
    "---\n",
    "Can also use `plotly_rt()` or `plotly_choice()` to get single plots"
   ]
  },
  {
   "cell_type": "code",
   "execution_count": 14,
   "metadata": {
    "hidden": true
   },
   "outputs": [
    {
     "data": {
      "text/html": [
       "<script>requirejs.config({paths: { 'plotly': ['https://cdn.plot.ly/plotly-latest.min']},});if(!window.Plotly) {{require(['plotly'],function(plotly) {window.Plotly=plotly;});}}</script>"
      ],
      "text/vnd.plotly.v1+html": [
       "<script>requirejs.config({paths: { 'plotly': ['https://cdn.plot.ly/plotly-latest.min']},});if(!window.Plotly) {{require(['plotly'],function(plotly) {window.Plotly=plotly;});}}</script>"
      ]
     },
     "metadata": {},
     "output_type": "display_data"
    },
    {
     "data": {
      "application/vnd.plotly.v1+json": {
       "data": [
        {
         "error_y": {
          "array": [
           0.3186301028894171,
           0.33573353920319327,
           0.5125059552199829,
           0.2558821801821235,
           0.31212419771003,
           0.3220052859472622,
           0.060707629484974435
          ],
          "color": "rgb(0,170,80)",
          "type": "data",
          "visible": true
         },
         "line": {
          "color": "rgb(0,100,80)"
         },
         "mode": "lines+markers",
         "name": "Test Data",
         "type": "scatter",
         "x": [
          -1.8164285714285715,
          -0.763181818181818,
          -0.3170588235294118,
          0.023181818181818147,
          0.324,
          0.8175000000000001,
          1.630434782608696
         ],
         "y": [
          2.088870704373611,
          2.7569758453887934,
          3.795318903062519,
          2.4751631152890194,
          2.5676745259319445,
          2.361632085216116,
          1.311077429497938
         ]
        },
        {
         "error_y": {
          "array": [
           0.004916038171483772,
           0.006135244432242189,
           0.00730793923688316,
           0.006181051679470989,
           0.0068625662323116565,
           0.00715489286017614,
           0.0055081038276068835
          ],
          "color": "rgb(0,100,246)",
          "type": "data",
          "visible": true
         },
         "line": {
          "color": "rgb(0,176,246)"
         },
         "mode": "lines+markers",
         "name": "Sim Data",
         "type": "scatter",
         "x": [
          -1.8164285714285715,
          -0.763181818181818,
          -0.3170588235294118,
          0.023181818181818147,
          0.324,
          0.8175000000000001,
          1.630434782608696
         ],
         "y": [
          1.8170912499999925,
          1.918158528823408,
          1.9741275957409194,
          1.9309200909090714,
          1.9869199500000005,
          1.9239935000000101,
          1.847395652173917
         ]
        },
        {
         "error_y": {
          "array": [
           0,
           0.04545454545454545,
           0.11947115300935236,
           0.1049727762162956,
           0.08191780219091252,
           0,
           0
          ],
          "color": "rgb(0,170,80)",
          "type": "data",
          "visible": true
         },
         "line": {
          "color": "rgb(0,100,80)"
         },
         "mode": "lines+markers",
         "name": "Test Data",
         "type": "scatter",
         "x": [
          -1.8164285714285715,
          -0.763181818181818,
          -0.3170588235294118,
          0.023181818181818147,
          0.324,
          0.8175000000000001,
          1.630434782608696
         ],
         "xaxis": "x2",
         "y": [
          0,
          0.045454545454545456,
          0.35294117647058826,
          0.6363636363636364,
          0.85,
          1,
          1
         ],
         "yaxis": "y2"
        },
        {
         "error_y": {
          "array": [
           0.0024676639542217057,
           0.003225797813585017,
           0.00379653926163855,
           0.003371075580297224,
           0.0035086435276286345,
           0.0037902041967406977,
           0.0028219018524011166
          ],
          "color": "rgb(0,100,246)",
          "type": "data",
          "visible": true
         },
         "line": {
          "color": "rgb(0,176,246)"
         },
         "mode": "lines+markers",
         "name": "Sim Data",
         "type": "scatter",
         "x": [
          -1.8164285714285715,
          -0.763181818181818,
          -0.3170588235294118,
          0.023181818181818147,
          0.324,
          0.8175000000000001,
          1.630434782608696
         ],
         "xaxis": "x2",
         "y": [
          0.21803571428571428,
          0.35465539188943446,
          0.4293193717277487,
          0.49977272727272726,
          0.56165,
          0.642,
          0.7585652173913043
         ],
         "yaxis": "y2"
        }
       ],
       "layout": {
        "annotations": [
         {
          "showarrow": false,
          "text": "PARAMETERS: v: 0.051, a: 0.107, θ: 0.325",
          "x": 0.01,
          "xref": "paper",
          "y": 1.12,
          "yref": "paper"
         },
         {
          "showarrow": false,
          "text": "MLE: 620.75",
          "x": 0.01,
          "xref": "paper",
          "y": 1.08,
          "yref": "paper"
         },
         {
          "font": {
           "family": "Arial, sans-serif",
           "size": 22
          },
          "showarrow": false,
          "text": "SUBJECT: 17",
          "x": 0.01,
          "xref": "paper",
          "y": 1.2,
          "yref": "paper"
         }
        ],
        "paper_bgcolor": "rgb(255,255,255)",
        "plot_bgcolor": "rgb(229,229,229)",
        "xaxis": {
         "domain": [
          0,
          0.45
         ],
         "gridcolor": "rgb(255,255,255)",
         "range": [
          -2,
          2
         ],
         "showgrid": true,
         "showline": false,
         "showticklabels": true,
         "tickcolor": "rgb(127,127,127)",
         "ticks": "outside",
         "title": "Net Value ($)",
         "zeroline": false
        },
        "xaxis2": {
         "domain": [
          0.55,
          1
         ],
         "gridcolor": "rgb(255,255,255)",
         "range": [
          -2,
          2
         ],
         "showgrid": true,
         "showline": false,
         "showticklabels": true,
         "tickcolor": "rgb(127,127,127)",
         "ticks": "outside",
         "title": "Net Value ($)",
         "zeroline": false
        },
        "yaxis1": {
         "anchor": "x1",
         "gridcolor": "rgb(255,255,255)",
         "range": [
          0
         ],
         "showgrid": true,
         "showline": false,
         "showticklabels": true,
         "tickcolor": "rgb(127,127,127)",
         "ticks": "outside",
         "title": "RT (s)",
         "zeroline": false
        },
        "yaxis2": {
         "anchor": "x2",
         "gridcolor": "rgb(255,255,255)",
         "range": [
          0
         ],
         "showgrid": true,
         "showline": false,
         "showticklabels": true,
         "tickcolor": "rgb(127,127,127)",
         "ticks": "outside",
         "title": "p (accept)",
         "zeroline": false
        }
       }
      },
      "text/html": [
       "<div id=\"d80d9e28-25a4-40b2-b08b-ee5024026630\" style=\"height: 525px; width: 100%;\" class=\"plotly-graph-div\"></div><script type=\"text/javascript\">require([\"plotly\"], function(Plotly) { window.PLOTLYENV=window.PLOTLYENV || {};window.PLOTLYENV.BASE_URL=\"https://plot.ly\";Plotly.newPlot(\"d80d9e28-25a4-40b2-b08b-ee5024026630\", [{\"type\": \"scatter\", \"x\": [-1.8164285714285715, -0.763181818181818, -0.3170588235294118, 0.023181818181818147, 0.324, 0.8175000000000001, 1.630434782608696], \"y\": [2.088870704373611, 2.7569758453887934, 3.795318903062519, 2.4751631152890194, 2.5676745259319445, 2.361632085216116, 1.311077429497938], \"error_y\": {\"type\": \"data\", \"array\": [0.3186301028894171, 0.33573353920319327, 0.5125059552199829, 0.2558821801821235, 0.31212419771003, 0.3220052859472622, 0.060707629484974435], \"color\": \"rgb(0,170,80)\", \"visible\": true}, \"line\": {\"color\": \"rgb(0,100,80)\"}, \"mode\": \"lines+markers\", \"name\": \"Test Data\"}, {\"type\": \"scatter\", \"x\": [-1.8164285714285715, -0.763181818181818, -0.3170588235294118, 0.023181818181818147, 0.324, 0.8175000000000001, 1.630434782608696], \"y\": [1.8170912499999925, 1.918158528823408, 1.9741275957409194, 1.9309200909090714, 1.9869199500000005, 1.9239935000000101, 1.847395652173917], \"error_y\": {\"type\": \"data\", \"array\": [0.004916038171483772, 0.006135244432242189, 0.00730793923688316, 0.006181051679470989, 0.0068625662323116565, 0.00715489286017614, 0.0055081038276068835], \"color\": \"rgb(0,100,246)\", \"visible\": true}, \"line\": {\"color\": \"rgb(0,176,246)\"}, \"mode\": \"lines+markers\", \"name\": \"Sim Data\"}, {\"type\": \"scatter\", \"x\": [-1.8164285714285715, -0.763181818181818, -0.3170588235294118, 0.023181818181818147, 0.324, 0.8175000000000001, 1.630434782608696], \"y\": [0.0, 0.045454545454545456, 0.35294117647058826, 0.6363636363636364, 0.85, 1.0, 1.0], \"error_y\": {\"type\": \"data\", \"array\": [0.0, 0.04545454545454545, 0.11947115300935236, 0.1049727762162956, 0.08191780219091252, 0.0, 0.0], \"color\": \"rgb(0,170,80)\", \"visible\": true}, \"line\": {\"color\": \"rgb(0,100,80)\"}, \"mode\": \"lines+markers\", \"name\": \"Test Data\", \"xaxis\": \"x2\", \"yaxis\": \"y2\"}, {\"type\": \"scatter\", \"x\": [-1.8164285714285715, -0.763181818181818, -0.3170588235294118, 0.023181818181818147, 0.324, 0.8175000000000001, 1.630434782608696], \"y\": [0.21803571428571428, 0.35465539188943446, 0.4293193717277487, 0.49977272727272726, 0.56165, 0.642, 0.7585652173913043], \"error_y\": {\"type\": \"data\", \"array\": [0.0024676639542217057, 0.003225797813585017, 0.00379653926163855, 0.003371075580297224, 0.0035086435276286345, 0.0037902041967406977, 0.0028219018524011166], \"color\": \"rgb(0,100,246)\", \"visible\": true}, \"line\": {\"color\": \"rgb(0,176,246)\"}, \"mode\": \"lines+markers\", \"name\": \"Sim Data\", \"xaxis\": \"x2\", \"yaxis\": \"y2\"}], {\"paper_bgcolor\": \"rgb(255,255,255)\", \"plot_bgcolor\": \"rgb(229,229,229)\", \"xaxis\": {\"gridcolor\": \"rgb(255,255,255)\", \"range\": [-2, 2], \"domain\": [0, 0.45], \"showgrid\": true, \"showline\": false, \"showticklabels\": true, \"tickcolor\": \"rgb(127,127,127)\", \"ticks\": \"outside\", \"title\": \"Net Value ($)\", \"zeroline\": false}, \"xaxis2\": {\"gridcolor\": \"rgb(255,255,255)\", \"range\": [-2, 2], \"domain\": [0.55, 1], \"showgrid\": true, \"showline\": false, \"showticklabels\": true, \"tickcolor\": \"rgb(127,127,127)\", \"ticks\": \"outside\", \"title\": \"Net Value ($)\", \"zeroline\": false}, \"yaxis1\": {\"gridcolor\": \"rgb(255,255,255)\", \"range\": [0], \"showgrid\": true, \"showline\": false, \"showticklabels\": true, \"tickcolor\": \"rgb(127,127,127)\", \"ticks\": \"outside\", \"title\": \"RT (s)\", \"anchor\": \"x1\", \"zeroline\": false}, \"yaxis2\": {\"gridcolor\": \"rgb(255,255,255)\", \"range\": [0], \"showgrid\": true, \"showline\": false, \"showticklabels\": true, \"tickcolor\": \"rgb(127,127,127)\", \"ticks\": \"outside\", \"title\": \"p (accept)\", \"anchor\": \"x2\", \"zeroline\": false}, \"annotations\": [{\"x\": 0.01, \"y\": 1.12, \"showarrow\": false, \"text\": \"PARAMETERS: v: 0.051, a: 0.107, \\u03b8: 0.325\", \"xref\": \"paper\", \"yref\": \"paper\"}, {\"x\": 0.01, \"y\": 1.08, \"showarrow\": false, \"text\": \"MLE: 620.75\", \"xref\": \"paper\", \"yref\": \"paper\"}, {\"x\": 0.01, \"y\": 1.2, \"showarrow\": false, \"text\": \"SUBJECT: 17\", \"font\": {\"family\": \"Arial, sans-serif\", \"size\": 22}, \"xref\": \"paper\", \"yref\": \"paper\"}]}, {\"showLink\": true, \"linkText\": \"Export to plot.ly\"})});</script>"
      ],
      "text/vnd.plotly.v1+html": [
       "<div id=\"d80d9e28-25a4-40b2-b08b-ee5024026630\" style=\"height: 525px; width: 100%;\" class=\"plotly-graph-div\"></div><script type=\"text/javascript\">require([\"plotly\"], function(Plotly) { window.PLOTLYENV=window.PLOTLYENV || {};window.PLOTLYENV.BASE_URL=\"https://plot.ly\";Plotly.newPlot(\"d80d9e28-25a4-40b2-b08b-ee5024026630\", [{\"type\": \"scatter\", \"x\": [-1.8164285714285715, -0.763181818181818, -0.3170588235294118, 0.023181818181818147, 0.324, 0.8175000000000001, 1.630434782608696], \"y\": [2.088870704373611, 2.7569758453887934, 3.795318903062519, 2.4751631152890194, 2.5676745259319445, 2.361632085216116, 1.311077429497938], \"error_y\": {\"type\": \"data\", \"array\": [0.3186301028894171, 0.33573353920319327, 0.5125059552199829, 0.2558821801821235, 0.31212419771003, 0.3220052859472622, 0.060707629484974435], \"color\": \"rgb(0,170,80)\", \"visible\": true}, \"line\": {\"color\": \"rgb(0,100,80)\"}, \"mode\": \"lines+markers\", \"name\": \"Test Data\"}, {\"type\": \"scatter\", \"x\": [-1.8164285714285715, -0.763181818181818, -0.3170588235294118, 0.023181818181818147, 0.324, 0.8175000000000001, 1.630434782608696], \"y\": [1.8170912499999925, 1.918158528823408, 1.9741275957409194, 1.9309200909090714, 1.9869199500000005, 1.9239935000000101, 1.847395652173917], \"error_y\": {\"type\": \"data\", \"array\": [0.004916038171483772, 0.006135244432242189, 0.00730793923688316, 0.006181051679470989, 0.0068625662323116565, 0.00715489286017614, 0.0055081038276068835], \"color\": \"rgb(0,100,246)\", \"visible\": true}, \"line\": {\"color\": \"rgb(0,176,246)\"}, \"mode\": \"lines+markers\", \"name\": \"Sim Data\"}, {\"type\": \"scatter\", \"x\": [-1.8164285714285715, -0.763181818181818, -0.3170588235294118, 0.023181818181818147, 0.324, 0.8175000000000001, 1.630434782608696], \"y\": [0.0, 0.045454545454545456, 0.35294117647058826, 0.6363636363636364, 0.85, 1.0, 1.0], \"error_y\": {\"type\": \"data\", \"array\": [0.0, 0.04545454545454545, 0.11947115300935236, 0.1049727762162956, 0.08191780219091252, 0.0, 0.0], \"color\": \"rgb(0,170,80)\", \"visible\": true}, \"line\": {\"color\": \"rgb(0,100,80)\"}, \"mode\": \"lines+markers\", \"name\": \"Test Data\", \"xaxis\": \"x2\", \"yaxis\": \"y2\"}, {\"type\": \"scatter\", \"x\": [-1.8164285714285715, -0.763181818181818, -0.3170588235294118, 0.023181818181818147, 0.324, 0.8175000000000001, 1.630434782608696], \"y\": [0.21803571428571428, 0.35465539188943446, 0.4293193717277487, 0.49977272727272726, 0.56165, 0.642, 0.7585652173913043], \"error_y\": {\"type\": \"data\", \"array\": [0.0024676639542217057, 0.003225797813585017, 0.00379653926163855, 0.003371075580297224, 0.0035086435276286345, 0.0037902041967406977, 0.0028219018524011166], \"color\": \"rgb(0,100,246)\", \"visible\": true}, \"line\": {\"color\": \"rgb(0,176,246)\"}, \"mode\": \"lines+markers\", \"name\": \"Sim Data\", \"xaxis\": \"x2\", \"yaxis\": \"y2\"}], {\"paper_bgcolor\": \"rgb(255,255,255)\", \"plot_bgcolor\": \"rgb(229,229,229)\", \"xaxis\": {\"gridcolor\": \"rgb(255,255,255)\", \"range\": [-2, 2], \"domain\": [0, 0.45], \"showgrid\": true, \"showline\": false, \"showticklabels\": true, \"tickcolor\": \"rgb(127,127,127)\", \"ticks\": \"outside\", \"title\": \"Net Value ($)\", \"zeroline\": false}, \"xaxis2\": {\"gridcolor\": \"rgb(255,255,255)\", \"range\": [-2, 2], \"domain\": [0.55, 1], \"showgrid\": true, \"showline\": false, \"showticklabels\": true, \"tickcolor\": \"rgb(127,127,127)\", \"ticks\": \"outside\", \"title\": \"Net Value ($)\", \"zeroline\": false}, \"yaxis1\": {\"gridcolor\": \"rgb(255,255,255)\", \"range\": [0], \"showgrid\": true, \"showline\": false, \"showticklabels\": true, \"tickcolor\": \"rgb(127,127,127)\", \"ticks\": \"outside\", \"title\": \"RT (s)\", \"anchor\": \"x1\", \"zeroline\": false}, \"yaxis2\": {\"gridcolor\": \"rgb(255,255,255)\", \"range\": [0], \"showgrid\": true, \"showline\": false, \"showticklabels\": true, \"tickcolor\": \"rgb(127,127,127)\", \"ticks\": \"outside\", \"title\": \"p (accept)\", \"anchor\": \"x2\", \"zeroline\": false}, \"annotations\": [{\"x\": 0.01, \"y\": 1.12, \"showarrow\": false, \"text\": \"PARAMETERS: v: 0.051, a: 0.107, \\u03b8: 0.325\", \"xref\": \"paper\", \"yref\": \"paper\"}, {\"x\": 0.01, \"y\": 1.08, \"showarrow\": false, \"text\": \"MLE: 620.75\", \"xref\": \"paper\", \"yref\": \"paper\"}, {\"x\": 0.01, \"y\": 1.2, \"showarrow\": false, \"text\": \"SUBJECT: 17\", \"font\": {\"family\": \"Arial, sans-serif\", \"size\": 22}, \"xref\": \"paper\", \"yref\": \"paper\"}]}, {\"showLink\": true, \"linkText\": \"Export to plot.ly\"})});</script>"
      ]
     },
     "metadata": {},
     "output_type": "display_data"
    }
   ],
   "source": [
    "plotly_combined(17)"
   ]
  },
  {
   "cell_type": "markdown",
   "metadata": {
    "heading_collapsed": true
   },
   "source": [
    "# FUNCTIONS\n",
    "---\n",
    "Load these to run plotting functions"
   ]
  },
  {
   "cell_type": "code",
   "execution_count": 15,
   "metadata": {
    "collapsed": true,
    "hidden": true
   },
   "outputs": [],
   "source": [
    "def plotly_combined(subject_num=0, subject_data=subject_data, test_expdata=test_expdata, subj_params_df=subj_params_df):\n",
    "    from plotly import tools\n",
    "    plotly.offline.init_notebook_mode(connected=True)\n",
    "\n",
    "    subject = extract_subj_data(subject_num, subject_data)\n",
    "    \n",
    "    v = str(round(np.mean(test_expdata.est_scaling[test_expdata.subject == int(subject_num)]), 3))\n",
    "    a = str(round(np.mean(test_expdata.est_boundary[test_expdata.subject == int(subject_num)]), 3))\n",
    "    t = str(round(np.mean(test_expdata.est_theta[test_expdata.subject == int(subject_num)]), 3))\n",
    "    mle = round(subj_params_df.loc[int(subject_num), 'MLE'],2)\n",
    "    \n",
    "    x = subject.quantile_means \n",
    "\n",
    "    # RT Means\n",
    "    y1 = subject.test_rt_means       # test\n",
    "    y2 = subject.sim_rt_means        # sim\n",
    "    \n",
    "    # Choice Means\n",
    "    y3 = subject.test_choice_means   # test\n",
    "    y4 = subject.sim_choice_means    # sim\n",
    "\n",
    "    #------------------#\n",
    "    # RT plot          #\n",
    "    #------------------#\n",
    "    \n",
    "    # Test Data\n",
    "    trace1 = Scatter(\n",
    "        x=x,\n",
    "        y=y1,\n",
    "        error_y=dict(\n",
    "                type='data',\n",
    "                array=subject.test_rt_sems,\n",
    "                color='rgb(0,170,80)',\n",
    "                visible=True\n",
    "        ),\n",
    "        line=Line(color='rgb(0,100,80)'),\n",
    "        mode='lines+markers',\n",
    "        name='Test Data',\n",
    "    )\n",
    "\n",
    "    # Sim Data\n",
    "    trace2 = Scatter(\n",
    "        x=x,\n",
    "        y=y2,\n",
    "        error_y=dict(\n",
    "                type='data',\n",
    "                array=subject.sim_rt_sems,\n",
    "                color='rgb(0,100,246)',\n",
    "                visible=True\n",
    "        ),\n",
    "        line=Line(color='rgb(0,176,246)'),\n",
    "        mode='lines+markers',\n",
    "        name='Sim Data',\n",
    "    )\n",
    "    \n",
    "    \n",
    "    #------------------#\n",
    "    # Choice plot      #\n",
    "    #------------------#\n",
    "    \n",
    "    # Test Data\n",
    "    trace3 = Scatter(\n",
    "        x=x,\n",
    "        y=y3,\n",
    "        error_y=dict(\n",
    "                type='data',\n",
    "                array=subject.test_choice_sems,\n",
    "                color='rgb(0,170,80)',\n",
    "                visible=True\n",
    "        ),\n",
    "        line=Line(color='rgb(0,100,80)'),\n",
    "        mode='lines+markers',\n",
    "        name='Test Data',\n",
    "        xaxis='x2',\n",
    "        yaxis='y2',\n",
    "    )\n",
    "\n",
    "    # Sim Data\n",
    "    trace4 = Scatter(\n",
    "        x=x,\n",
    "        y=y4,\n",
    "        error_y=dict(\n",
    "                type='data',\n",
    "                array=subject.sim_choice_sems,\n",
    "                color='rgb(0,100,246)',\n",
    "                visible=True\n",
    "        ),\n",
    "        line=Line(color='rgb(0,176,246)'),\n",
    "        mode='lines+markers',\n",
    "        name='Sim Data',\n",
    "        xaxis='x2',\n",
    "        yaxis='y2',\n",
    "    )\n",
    "    \n",
    "\n",
    "    data = Data([trace1, trace2, trace3, trace4])\n",
    "\n",
    "    layout = Layout(\n",
    "        paper_bgcolor='rgb(255,255,255)',\n",
    "        plot_bgcolor='rgb(229,229,229)',\n",
    "        \n",
    "        xaxis=XAxis(\n",
    "            gridcolor='rgb(255,255,255)',\n",
    "            range=[-2,2],\n",
    "            domain = [0,0.45],\n",
    "            showgrid=True,\n",
    "            showline=False,\n",
    "            showticklabels=True,\n",
    "            tickcolor='rgb(127,127,127)',\n",
    "            ticks='outside',\n",
    "            title='Net Value ($)',\n",
    "            zeroline=False\n",
    "        ),\n",
    "        xaxis2=XAxis(\n",
    "            gridcolor='rgb(255,255,255)',\n",
    "            range=[-2,2],\n",
    "            domain = [0.55,1],\n",
    "            showgrid=True,\n",
    "            showline=False,\n",
    "            showticklabels=True,\n",
    "            tickcolor='rgb(127,127,127)',\n",
    "            ticks='outside',\n",
    "            title='Net Value ($)',\n",
    "            zeroline=False\n",
    "        ),\n",
    "        yaxis1=YAxis(\n",
    "            gridcolor='rgb(255,255,255)',\n",
    "            range=[0,],\n",
    "            showgrid=True,\n",
    "            showline=False,\n",
    "            showticklabels=True,\n",
    "            tickcolor='rgb(127,127,127)',\n",
    "            ticks='outside',\n",
    "            title='RT (s)',\n",
    "            anchor = 'x1',\n",
    "            zeroline=False\n",
    "        ),\n",
    "        \n",
    "        yaxis2=YAxis(\n",
    "            gridcolor='rgb(255,255,255)',\n",
    "            range=[0,],\n",
    "            showgrid=True,\n",
    "            showline=False,\n",
    "            showticklabels=True,\n",
    "            tickcolor='rgb(127,127,127)',\n",
    "            ticks='outside',\n",
    "            title='p (accept)',\n",
    "            anchor = 'x2',\n",
    "            zeroline=False\n",
    "        ),\n",
    "        \n",
    "        annotations=Annotations([\n",
    "            Annotation(\n",
    "            x=0.01,\n",
    "            y=1.12,\n",
    "            showarrow=False,\n",
    "            text='PARAMETERS: v: ' + str(v) + ', a: ' + str(a) + ', θ: ' + str(t),\n",
    "            xref='paper',\n",
    "            yref='paper'\n",
    "            ),\n",
    "            Annotation(\n",
    "            x=0.01,\n",
    "            y=1.08,\n",
    "            showarrow=False,\n",
    "            text='MLE: ' + str(mle),\n",
    "            xref='paper',\n",
    "            yref='paper'\n",
    "            ),\n",
    "            Annotation(\n",
    "            x=0.01,\n",
    "            y=1.2,\n",
    "            showarrow=False,\n",
    "            text='SUBJECT: ' + str(subject_num),\n",
    "            font=dict(\n",
    "                family='Arial, sans-serif',\n",
    "                size=22,\n",
    "            ),\n",
    "            xref='paper',\n",
    "            yref='paper'\n",
    "            )\n",
    "        ])\n",
    "    )\n",
    "\n",
    "    # updatemenus=list([\n",
    "    #     dict(\n",
    "    #         buttons=list([   \n",
    "    #             dict(\n",
    "    #                 label='00',\n",
    "    #                 method='update',\n",
    "    #                 args=[extract_subj_data(0, subject_data)]\n",
    "    #             ),\n",
    "    #             dict(\n",
    "    #                 label='01',\n",
    "    #                 method='update',\n",
    "    #                 args=[extract_subj_data(1, subject_data)]\n",
    "    #             )             \n",
    "    #         ]),\n",
    "    #         direction = 'down',\n",
    "    #         pad = {'r': 10, 't': 10},\n",
    "    #         showactive = True,\n",
    "    #         x = 0.1,\n",
    "    #         xanchor = 'left',\n",
    "    #         y = 1.1,\n",
    "    #         yanchor = 'top' \n",
    "    #     ),\n",
    "    # ])\n",
    "\n",
    "    # annotations = list([\n",
    "    #     dict(text='Subject:' + str(subject_num), x=0, y=1.085, yref='paper', align='left', showarrow=False)\n",
    "    # ])\n",
    "\n",
    "\n",
    "    # layout['updatemenus'] = updatemenus\n",
    "    # layout['annotations'] = annotations\n",
    "    \n",
    "#     fig = tools.make_subplots(rows=1, cols=2, subplot_titles=('RT', 'Choice'))\n",
    "    \n",
    "#     fig.append_trace([trace1, trace2], 1, 1)\n",
    "#     fig.append_trace([trace3, trace4], 1, 2)\n",
    "    \n",
    "#     fig['layout']['xaxis1'].update(title='xaxis 1 title')\n",
    "#     fig['layout']['xaxis2'].update(title='xaxis 2 title')\n",
    "    \n",
    "#     fig['layout']['yaxis1'].update(title='yaxis 1 title')\n",
    "#     fig['layout']['yaxis2'].update(title='yaxis 2 title')\n",
    "\n",
    "    fig = Figure(data=data, layout=layout)\n",
    "    plotly.offline.iplot(fig, filename= 'shaded_lines')   "
   ]
  },
  {
   "cell_type": "code",
   "execution_count": null,
   "metadata": {
    "collapsed": true,
    "hidden": true
   },
   "outputs": [],
   "source": [
    "def plotly_rt(subject_num=0, subject_data=subject_data):\n",
    "\n",
    "    plotly.offline.init_notebook_mode(connected=True)\n",
    "\n",
    "    subject = extract_subj_data(subject_num, subject_data)\n",
    "\n",
    "    x = subject.quantile_means \n",
    "\n",
    "    # Test Data: RT Means\n",
    "    y1 = subject.test_rt_means         # test\n",
    "    y2 = subject.sim_rt_means\n",
    "    \n",
    "    # Choice Means\n",
    "    y3 = subject.test_choice_means   # test\n",
    "    y4 = subject.sim_choice_means    # sim\n",
    "\n",
    "    # Test Data\n",
    "    trace1 = Scatter(\n",
    "        x=x,\n",
    "        y=y1,\n",
    "        error_y=dict(\n",
    "                type='data',\n",
    "                array=subject.test_rt_sems,\n",
    "                visible=True\n",
    "        ),\n",
    "        line=Line(color='rgb(0,100,80)'),\n",
    "        mode='lines+markers',\n",
    "        name='Test Data',\n",
    "    )\n",
    "\n",
    "    # Sim Data\n",
    "    trace2 = Scatter(\n",
    "        x=x,\n",
    "        y=y2,\n",
    "        error_y=dict(\n",
    "                type='data',\n",
    "                array=subject.sim_rt_sems,\n",
    "                visible=True\n",
    "        ),\n",
    "        line=Line(color='rgb(0,176,246)'),\n",
    "        mode='lines+markers',\n",
    "        name='Sim Data',\n",
    "    )\n",
    "\n",
    "\n",
    "    data = Data([trace1, trace2])\n",
    "\n",
    "    layout = Layout(\n",
    "        paper_bgcolor='rgb(255,255,255)',\n",
    "        plot_bgcolor='rgb(229,229,229)',\n",
    "        xaxis=XAxis(\n",
    "            gridcolor='rgb(255,255,255)',\n",
    "            range=[-2,2],\n",
    "            showgrid=True,\n",
    "            showline=False,\n",
    "            showticklabels=True,\n",
    "            tickcolor='rgb(127,127,127)',\n",
    "            ticks='outside',\n",
    "            title='Net Value ($)',\n",
    "            zeroline=False\n",
    "        ),\n",
    "        yaxis=YAxis(\n",
    "            gridcolor='rgb(255,255,255)',\n",
    "            range=[0,],\n",
    "            showgrid=True,\n",
    "            showline=False,\n",
    "            showticklabels=True,\n",
    "            tickcolor='rgb(127,127,127)',\n",
    "            ticks='outside',\n",
    "            title='RT (s)',\n",
    "            zeroline=False\n",
    "        ),\n",
    "        title='Subject ' + str(subject_num),\n",
    "    )\n",
    "\n",
    "    # updatemenus=list([\n",
    "    #     dict(\n",
    "    #         buttons=list([   \n",
    "    #             dict(\n",
    "    #                 label='00',\n",
    "    #                 method='update',\n",
    "    #                 args=[extract_subj_data(0, subject_data)]\n",
    "    #             ),\n",
    "    #             dict(\n",
    "    #                 label='01',\n",
    "    #                 method='update',\n",
    "    #                 args=[extract_subj_data(1, subject_data)]\n",
    "    #             )             \n",
    "    #         ]),\n",
    "    #         direction = 'down',\n",
    "    #         pad = {'r': 10, 't': 10},\n",
    "    #         showactive = True,\n",
    "    #         x = 0.1,\n",
    "    #         xanchor = 'left',\n",
    "    #         y = 1.1,\n",
    "    #         yanchor = 'top' \n",
    "    #     ),\n",
    "    # ])\n",
    "\n",
    "    # annotations = list([\n",
    "    #     dict(text='Subject:' + str(subject_num), x=0, y=1.085, yref='paper', align='left', showarrow=False)\n",
    "    # ])\n",
    "\n",
    "\n",
    "    # layout['updatemenus'] = updatemenus\n",
    "    # layout['annotations'] = annotations\n",
    "\n",
    "    fig = Figure(data=data, layout=layout)\n",
    "    plotly.offline.iplot(fig, filename= 'shaded_lines')   "
   ]
  },
  {
   "cell_type": "code",
   "execution_count": 10,
   "metadata": {
    "hidden": true
   },
   "outputs": [
    {
     "ename": "NameError",
     "evalue": "name 'subject_data' is not defined",
     "output_type": "error",
     "traceback": [
      "\u001b[0;31m---------------------------------------------------------------------------\u001b[0m",
      "\u001b[0;31mNameError\u001b[0m                                 Traceback (most recent call last)",
      "\u001b[0;32m<ipython-input-10-69b9f644d985>\u001b[0m in \u001b[0;36m<module>\u001b[0;34m()\u001b[0m\n\u001b[0;32m----> 1\u001b[0;31m \u001b[0;32mdef\u001b[0m \u001b[0mplotly_choice\u001b[0m\u001b[0;34m(\u001b[0m\u001b[0msubject_num\u001b[0m\u001b[0;34m=\u001b[0m\u001b[0;36m0\u001b[0m\u001b[0;34m,\u001b[0m \u001b[0msubject_data\u001b[0m\u001b[0;34m=\u001b[0m\u001b[0msubject_data\u001b[0m\u001b[0;34m)\u001b[0m\u001b[0;34m:\u001b[0m\u001b[0;34m\u001b[0m\u001b[0m\n\u001b[0m\u001b[1;32m      2\u001b[0m \u001b[0;34m\u001b[0m\u001b[0m\n\u001b[1;32m      3\u001b[0m     \u001b[0mplotly\u001b[0m\u001b[0;34m.\u001b[0m\u001b[0moffline\u001b[0m\u001b[0;34m.\u001b[0m\u001b[0minit_notebook_mode\u001b[0m\u001b[0;34m(\u001b[0m\u001b[0mconnected\u001b[0m\u001b[0;34m=\u001b[0m\u001b[0;32mTrue\u001b[0m\u001b[0;34m)\u001b[0m\u001b[0;34m\u001b[0m\u001b[0m\n\u001b[1;32m      4\u001b[0m \u001b[0;34m\u001b[0m\u001b[0m\n\u001b[1;32m      5\u001b[0m     \u001b[0msubject\u001b[0m \u001b[0;34m=\u001b[0m \u001b[0mextract_subj_data\u001b[0m\u001b[0;34m(\u001b[0m\u001b[0msubject_num\u001b[0m\u001b[0;34m,\u001b[0m \u001b[0msubject_data\u001b[0m\u001b[0;34m)\u001b[0m\u001b[0;34m\u001b[0m\u001b[0m\n",
      "\u001b[0;31mNameError\u001b[0m: name 'subject_data' is not defined"
     ]
    }
   ],
   "source": [
    "def plotly_choice(subject_num=0, subject_data=subject_data):\n",
    "\n",
    "    plotly.offline.init_notebook_mode(connected=True)\n",
    "\n",
    "    subject = extract_subj_data(subject_num, subject_data)\n",
    "\n",
    "    x = subject.quantile_means \n",
    "    x_rev = x[::-1]\n",
    "\n",
    "    # Test Data: RT Means\n",
    "    y1 = subject.test_choice_means         # mean RT\n",
    "    y1_upper = subject.test_choice_means + subject.test_choice_sems  # add SEM\n",
    "    y1_lower = subject.test_choice_means - subject.test_choice_sems  # subtract SEM\n",
    "    y1_lower = y1_lower[::-1] # necessary??\n",
    "\n",
    "    # Sim Data: RT Means\n",
    "    y2 = subject.sim_choice_means\n",
    "    y2_upper = subject.sim_choice_means + subject.sim_choice_sems\n",
    "    y2_lower = subject.sim_choice_means - subject.sim_choice_sems\n",
    "    y2_lower = y2_lower[::-1]\n",
    "\n",
    "\n",
    "    # Test Data\n",
    "    trace1 = Scatter(\n",
    "        x=x,\n",
    "        y=y1,\n",
    "        error_y=dict(\n",
    "                type='data',\n",
    "                array=subject.test_choice_sems,\n",
    "                visible=True\n",
    "        ),\n",
    "        line=Line(color='rgb(0,100,80)'),\n",
    "        mode='lines+markers',\n",
    "        name='Test Data',\n",
    "    )\n",
    "\n",
    "    # Sim Data\n",
    "    trace2 = Scatter(\n",
    "        x=x,\n",
    "        y=y2,\n",
    "        error_y=dict(\n",
    "                type='data',\n",
    "                array=subject.sim_choice_sems,\n",
    "                visible=True\n",
    "        ),\n",
    "        line=Line(color='rgb(0,176,246)'),\n",
    "        mode='lines+markers',\n",
    "        name='Sim Data',\n",
    "    )\n",
    "\n",
    "\n",
    "    data = Data([trace1, trace2])\n",
    "\n",
    "    layout = Layout(\n",
    "        paper_bgcolor='rgb(255,255,255)',\n",
    "        plot_bgcolor='rgb(229,229,229)',\n",
    "        xaxis=XAxis(\n",
    "            gridcolor='rgb(255,255,255)',\n",
    "            range=[-2,2],\n",
    "            showgrid=True,\n",
    "            showline=False,\n",
    "            showticklabels=True,\n",
    "            tickcolor='rgb(127,127,127)',\n",
    "            ticks='outside',\n",
    "            title='Net Value ($)',\n",
    "            zeroline=False\n",
    "        ),\n",
    "        yaxis=YAxis(\n",
    "            gridcolor='rgb(255,255,255)',\n",
    "            range=[0,],\n",
    "            showgrid=True,\n",
    "            showline=False,\n",
    "            showticklabels=True,\n",
    "            tickcolor='rgb(127,127,127)',\n",
    "            ticks='outside',\n",
    "            title='p(accept)',\n",
    "            zeroline=False\n",
    "        ),\n",
    "        title='Subject ' + str(subject_num),\n",
    "    )\n",
    "\n",
    "    # updatemenus=list([\n",
    "    #     dict(\n",
    "    #         buttons=list([   \n",
    "    #             dict(\n",
    "    #                 label='00',\n",
    "    #                 method='update',\n",
    "    #                 args=[extract_subj_data(0, subject_data)]\n",
    "    #             ),\n",
    "    #             dict(\n",
    "    #                 label='01',\n",
    "    #                 method='update',\n",
    "    #                 args=[extract_subj_data(1, subject_data)]\n",
    "    #             )             \n",
    "    #         ]),\n",
    "    #         direction = 'down',\n",
    "    #         pad = {'r': 10, 't': 10},\n",
    "    #         showactive = True,\n",
    "    #         x = 0.1,\n",
    "    #         xanchor = 'left',\n",
    "    #         y = 1.1,\n",
    "    #         yanchor = 'top' \n",
    "    #     ),\n",
    "    # ])\n",
    "\n",
    "    # annotations = list([\n",
    "    #     dict(text='Subject:' + str(subject_num), x=0, y=1.085, yref='paper', align='left', showarrow=False)\n",
    "    # ])\n",
    "\n",
    "\n",
    "    # layout['updatemenus'] = updatemenus\n",
    "    # layout['annotations'] = annotations\n",
    "\n",
    "    fig = Figure(data=data, layout=layout)\n",
    "    plotly.offline.iplot(fig, filename= 'shaded_lines')   "
   ]
  },
  {
   "cell_type": "code",
   "execution_count": 11,
   "metadata": {
    "collapsed": true,
    "hidden": true
   },
   "outputs": [],
   "source": [
    "# format data\n",
    "def format_for_plotting(subjects, test_expdata, subj_params_df):\n",
    "    \"\"\"\n",
    "    \"\"\"\n",
    "    \n",
    "    test_data = test_expdata\n",
    "    # Create the variables (summed value) that we are using for our quantiles\n",
    "    x = subjects.summed_val\n",
    "    x1 = test_data.summed_val\n",
    "\n",
    "    # Define quantiles - bins are [a, b) \n",
    "    bins = np.array([-4, -1., -0.5, -0.15, 0.15, 0.5, 1., 4])\n",
    "\n",
    "    # Create column which indicates quantile of row\n",
    "    subjects['quantile'] = np.digitize(x, bins)\n",
    "    test_data['quantile'] = np.digitize(x1, bins)\n",
    "    # recode -1 response (reject) as 0 for probability of acceptance calculation\n",
    "    subjects.resp[subjects.resp == -1.] = 0\n",
    "    subjects.sim_resp[subjects.sim_resp == -1.] = 0\n",
    "    test_data.resp[test_data.resp == -1.] = 0\n",
    "    \n",
    "    \n",
    "    #--------------------------------#\n",
    "    # descriptive stats by subject   #\n",
    "    #--------------------------------#\n",
    "    \n",
    "    test_rt_stats = pd.DataFrame(test_data.groupby(['subject', 'quantile']).rt.agg(['mean', 'median', 'std', 'sem']))\n",
    "    test_choice_stats = pd.DataFrame(test_data.groupby(['subject', 'quantile']).resp.agg(['mean', 'std', 'sem']))\n",
    "\n",
    "    sim_rt_stats = pd.DataFrame(subjects.groupby(['subject', 'quantile']).sim_rt.agg(['mean', 'median', 'std', 'sem']))\n",
    "    sim_choice_stats = pd.DataFrame(subjects.groupby(['subject', 'quantile']).sim_resp.agg(['mean', 'std', 'sem']))\n",
    "\n",
    "    summed_val_sim = pd.DataFrame(subjects.groupby(['subject', 'quantile']).summed_val.agg(['mean']))\n",
    "    summed_val_test = pd.DataFrame(test_data.groupby(['subject', 'quantile']).summed_val.agg(['mean']))\n",
    "\n",
    "    test_rt_stats.rename(index=str, columns={\"mean\": \"test_rt_mean\", \"median\": \"test_rt_median\", \"std\": \"test_rt_std\", \"sem\": \"test_rt_sem\"}, inplace=True)\n",
    "    test_choice_stats.rename(index=str, columns={\"mean\": \"test_choice_mean\", \"median\": \"test_choice_median\", \"std\": \"test_choice_std\", \"sem\": \"test_choice_sem\"}, inplace=True)\n",
    "\n",
    "    sim_rt_stats.rename(index=str, columns={\"mean\": \"sim_rt_mean\", \"median\": \"sim_rt_median\", \"std\": \"sim_rt_std\", \"sem\": \"sim_rt_sem\"}, inplace=True)\n",
    "    sim_choice_stats.rename(index=str, columns={\"mean\": \"sim_choice_mean\", \"median\": \"sim_choice_median\", \"std\": \"sim_choice_std\", \"sem\": \"sim_choice_sem\"}, inplace=True)\n",
    "\n",
    "    summed_val_test.rename(index=str, columns={\"mean\": \"test_summed_val_mean\"}, inplace=True)\n",
    "    summed_val_sim.rename(index=str, columns={\"mean\": \"sim_summed_val_mean\"}, inplace=True)\n",
    "    \n",
    "    \n",
    "    #--------------------------------#\n",
    "    # merge rt and choice stats      #\n",
    "    #--------------------------------#\n",
    "    \n",
    "    test_quantized_subj_stats = pd.concat([test_rt_stats, test_choice_stats, summed_val_test], axis = 1)\n",
    "    sim_quantized_subj_stats = pd.concat([sim_rt_stats, sim_choice_stats, summed_val_sim], axis = 1)\n",
    "    test_sim_data = pd.concat([test_quantized_subj_stats, sim_quantized_subj_stats], axis = 1)\n",
    "    \n",
    "    return test_sim_data"
   ]
  },
  {
   "cell_type": "code",
   "execution_count": 12,
   "metadata": {
    "collapsed": true,
    "hidden": true
   },
   "outputs": [],
   "source": [
    "def extract_subj_data(subj_num, data):\n",
    "    \"\"\"\n",
    "    \"\"\"\n",
    "    \n",
    "    subject = str(subj_num)\n",
    "\n",
    "    quantile_means = data.loc[subject, 'test_summed_val_mean'] # maps to quantile means\n",
    "\n",
    "    # RTs\n",
    "    # Test\n",
    "    test_rt_means = data.loc[subject, 'test_rt_mean']\n",
    "    test_rt_sems = data.loc[subject, 'test_rt_sem']\n",
    "    # Sim\n",
    "    sim_rt_means = data.loc[subject, 'sim_rt_mean']\n",
    "    sim_rt_sems = data.loc[subject, 'sim_rt_sem']\n",
    "\n",
    "    # Choices\n",
    "    # Test\n",
    "    test_choice_means = data.loc[subject, 'test_choice_mean']\n",
    "    test_choice_sems = data.loc[subject, 'test_choice_sem']\n",
    "    # Sim\n",
    "    sim_choice_means = data.loc[subject, 'sim_choice_mean']\n",
    "    sim_choice_sems = data.loc[subject, 'sim_choice_sem']\n",
    "    \n",
    "    \n",
    "    #--------------------------------------------#\n",
    "    # Create DF with stats from single subject   #\n",
    "    #--------------------------------------------#\n",
    "    \n",
    "    subject_stats = pd.DataFrame(quantile_means)\n",
    "\n",
    "    # RT\n",
    "    subject_stats['test_rt_means'] = test_rt_means\n",
    "    subject_stats['test_rt_sems'] = test_rt_sems\n",
    "    subject_stats['sim_rt_means'] = sim_rt_means\n",
    "    subject_stats['sim_rt_sems'] = sim_rt_sems\n",
    "\n",
    "    # Choice\n",
    "    subject_stats['test_choice_means'] = test_choice_means\n",
    "    subject_stats['test_choice_sems'] = test_choice_sems\n",
    "    subject_stats['sim_choice_means'] = sim_choice_means\n",
    "    subject_stats['sim_choice_sems'] = sim_choice_sems\n",
    "\n",
    "    subject_stats = subject_stats.rename(columns = {\n",
    "        'test_summed_val_mean':'quantile_means'\n",
    "    })\n",
    "    #subject_stats.reset_index(drop=True, inplace=True)\n",
    "    return subject_stats"
   ]
  },
  {
   "cell_type": "markdown",
   "metadata": {},
   "source": [
    "# Plot All Individuals"
   ]
  },
  {
   "cell_type": "code",
   "execution_count": 16,
   "metadata": {
    "scrolled": false
   },
   "outputs": [
    {
     "data": {
      "text/html": [
       "<script>requirejs.config({paths: { 'plotly': ['https://cdn.plot.ly/plotly-latest.min']},});if(!window.Plotly) {{require(['plotly'],function(plotly) {window.Plotly=plotly;});}}</script>"
      ],
      "text/vnd.plotly.v1+html": [
       "<script>requirejs.config({paths: { 'plotly': ['https://cdn.plot.ly/plotly-latest.min']},});if(!window.Plotly) {{require(['plotly'],function(plotly) {window.Plotly=plotly;});}}</script>"
      ]
     },
     "metadata": {},
     "output_type": "display_data"
    },
    {
     "data": {
      "application/vnd.plotly.v1+json": {
       "data": [
        {
         "error_y": {
          "array": [
           0.26691156466118776,
           0.5625841894881555,
           0.3092635890278254,
           0.16773999036033826,
           0.22250602510869272,
           0.3783604602105652,
           0.3959290719366735
          ],
          "color": "rgb(0,170,80)",
          "type": "data",
          "visible": true
         },
         "line": {
          "color": "rgb(0,100,80)"
         },
         "mode": "lines+markers",
         "name": "Test Data",
         "type": "scatter",
         "x": [
          -1.7333333333333336,
          -0.7562499999999999,
          -0.3029166666666668,
          0.04949999999999995,
          0.30600000000000005,
          0.7723809523809525,
          1.9495238095238094
         ],
         "y": [
          3.0015640740833374,
          3.702286981255382,
          3.472419469435408,
          3.123474994549179,
          2.8109845845370725,
          2.8382288735062646,
          3.0082048231450322
         ]
        },
        {
         "error_y": {
          "array": [
           0.009055201713103587,
           0.016797914659598335,
           0.015503424114395842,
           0.016853786729004512,
           0.01692621076085038,
           0.015003364140720279,
           0.009563525046346695
          ],
          "color": "rgb(0,100,246)",
          "type": "data",
          "visible": true
         },
         "line": {
          "color": "rgb(0,176,246)"
         },
         "mode": "lines+markers",
         "name": "Sim Data",
         "type": "scatter",
         "x": [
          -1.7333333333333336,
          -0.7562499999999999,
          -0.3029166666666668,
          0.04949999999999995,
          0.30600000000000005,
          0.7723809523809525,
          1.9495238095238094
         ],
         "y": [
          2.896175004175723,
          3.9893921378776,
          4.4403189803495415,
          4.328841280985036,
          4.490330785493614,
          4.111567153104131,
          2.7527906799082973
         ]
        },
        {
         "error_y": {
          "array": [
           0.04166666666666667,
           0.08539125638299665,
           0.0982946374365981,
           0.10942433098048308,
           0.06882472016116851,
           0.0878051853075513,
           0.047619047619047616
          ],
          "color": "rgb(0,170,80)",
          "type": "data",
          "visible": true
         },
         "line": {
          "color": "rgb(0,100,80)"
         },
         "mode": "lines+markers",
         "name": "Test Data",
         "type": "scatter",
         "x": [
          -1.7333333333333336,
          -0.7562499999999999,
          -0.3029166666666668,
          0.04949999999999995,
          0.30600000000000005,
          0.7723809523809525,
          1.9495238095238094
         ],
         "xaxis": "x2",
         "y": [
          0.041666666666666664,
          0.125,
          0.3333333333333333,
          0.65,
          0.9,
          0.8095238095238095,
          0.9523809523809523
         ],
         "yaxis": "y2"
        },
        {
         "error_y": {
          "array": [
           0.0007776706684794725,
           0.002709460586867693,
           0.003044995311480566,
           0.0036740733293685987,
           0.0034359950691749456,
           0.0025976158991440883,
           0.000889502138280667
          ],
          "color": "rgb(0,100,246)",
          "type": "data",
          "visible": true
         },
         "line": {
          "color": "rgb(0,176,246)"
         },
         "mode": "lines+markers",
         "name": "Sim Data",
         "type": "scatter",
         "x": [
          -1.7333333333333336,
          -0.7562499999999999,
          -0.3029166666666668,
          0.04949999999999995,
          0.30600000000000005,
          0.7723809523809525,
          1.9495238095238094
         ],
         "xaxis": "x2",
         "y": [
          0.014698513445799232,
          0.13084172476116707,
          0.28733134112107217,
          0.5074796133282929,
          0.6795142841654469,
          0.837051694286421,
          0.9831455309396486
         ],
         "yaxis": "y2"
        }
       ],
       "layout": {
        "annotations": [
         {
          "showarrow": false,
          "text": "PARAMETERS: v: 0.093, a: 0.221, θ: 0.325",
          "x": 0.01,
          "xref": "paper",
          "y": 1.12,
          "yref": "paper"
         },
         {
          "showarrow": false,
          "text": "MLE: 685.76",
          "x": 0.01,
          "xref": "paper",
          "y": 1.08,
          "yref": "paper"
         },
         {
          "font": {
           "family": "Arial, sans-serif",
           "size": 22
          },
          "showarrow": false,
          "text": "SUBJECT: 0",
          "x": 0.01,
          "xref": "paper",
          "y": 1.2,
          "yref": "paper"
         }
        ],
        "paper_bgcolor": "rgb(255,255,255)",
        "plot_bgcolor": "rgb(229,229,229)",
        "xaxis": {
         "domain": [
          0,
          0.45
         ],
         "gridcolor": "rgb(255,255,255)",
         "range": [
          -2,
          2
         ],
         "showgrid": true,
         "showline": false,
         "showticklabels": true,
         "tickcolor": "rgb(127,127,127)",
         "ticks": "outside",
         "title": "Net Value ($)",
         "zeroline": false
        },
        "xaxis2": {
         "domain": [
          0.55,
          1
         ],
         "gridcolor": "rgb(255,255,255)",
         "range": [
          -2,
          2
         ],
         "showgrid": true,
         "showline": false,
         "showticklabels": true,
         "tickcolor": "rgb(127,127,127)",
         "ticks": "outside",
         "title": "Net Value ($)",
         "zeroline": false
        },
        "yaxis1": {
         "anchor": "x1",
         "gridcolor": "rgb(255,255,255)",
         "range": [
          0
         ],
         "showgrid": true,
         "showline": false,
         "showticklabels": true,
         "tickcolor": "rgb(127,127,127)",
         "ticks": "outside",
         "title": "RT (s)",
         "zeroline": false
        },
        "yaxis2": {
         "anchor": "x2",
         "gridcolor": "rgb(255,255,255)",
         "range": [
          0
         ],
         "showgrid": true,
         "showline": false,
         "showticklabels": true,
         "tickcolor": "rgb(127,127,127)",
         "ticks": "outside",
         "title": "p (accept)",
         "zeroline": false
        }
       }
      },
      "text/html": [
       "<div id=\"beb086a0-1aa0-4409-9612-cb1c0f2a3e77\" style=\"height: 525px; width: 100%;\" class=\"plotly-graph-div\"></div><script type=\"text/javascript\">require([\"plotly\"], function(Plotly) { window.PLOTLYENV=window.PLOTLYENV || {};window.PLOTLYENV.BASE_URL=\"https://plot.ly\";Plotly.newPlot(\"beb086a0-1aa0-4409-9612-cb1c0f2a3e77\", [{\"type\": \"scatter\", \"x\": [-1.7333333333333336, -0.7562499999999999, -0.3029166666666668, 0.04949999999999995, 0.30600000000000005, 0.7723809523809525, 1.9495238095238094], \"y\": [3.0015640740833374, 3.702286981255382, 3.472419469435408, 3.123474994549179, 2.8109845845370725, 2.8382288735062646, 3.0082048231450322], \"error_y\": {\"type\": \"data\", \"array\": [0.26691156466118776, 0.5625841894881555, 0.3092635890278254, 0.16773999036033826, 0.22250602510869272, 0.3783604602105652, 0.3959290719366735], \"color\": \"rgb(0,170,80)\", \"visible\": true}, \"line\": {\"color\": \"rgb(0,100,80)\"}, \"mode\": \"lines+markers\", \"name\": \"Test Data\"}, {\"type\": \"scatter\", \"x\": [-1.7333333333333336, -0.7562499999999999, -0.3029166666666668, 0.04949999999999995, 0.30600000000000005, 0.7723809523809525, 1.9495238095238094], \"y\": [2.896175004175723, 3.9893921378776, 4.4403189803495415, 4.328841280985036, 4.490330785493614, 4.111567153104131, 2.7527906799082973], \"error_y\": {\"type\": \"data\", \"array\": [0.009055201713103587, 0.016797914659598335, 0.015503424114395842, 0.016853786729004512, 0.01692621076085038, 0.015003364140720279, 0.009563525046346695], \"color\": \"rgb(0,100,246)\", \"visible\": true}, \"line\": {\"color\": \"rgb(0,176,246)\"}, \"mode\": \"lines+markers\", \"name\": \"Sim Data\"}, {\"type\": \"scatter\", \"x\": [-1.7333333333333336, -0.7562499999999999, -0.3029166666666668, 0.04949999999999995, 0.30600000000000005, 0.7723809523809525, 1.9495238095238094], \"y\": [0.041666666666666664, 0.125, 0.3333333333333333, 0.65, 0.9, 0.8095238095238095, 0.9523809523809523], \"error_y\": {\"type\": \"data\", \"array\": [0.04166666666666667, 0.08539125638299665, 0.0982946374365981, 0.10942433098048308, 0.06882472016116851, 0.0878051853075513, 0.047619047619047616], \"color\": \"rgb(0,170,80)\", \"visible\": true}, \"line\": {\"color\": \"rgb(0,100,80)\"}, \"mode\": \"lines+markers\", \"name\": \"Test Data\", \"xaxis\": \"x2\", \"yaxis\": \"y2\"}, {\"type\": \"scatter\", \"x\": [-1.7333333333333336, -0.7562499999999999, -0.3029166666666668, 0.04949999999999995, 0.30600000000000005, 0.7723809523809525, 1.9495238095238094], \"y\": [0.014698513445799232, 0.13084172476116707, 0.28733134112107217, 0.5074796133282929, 0.6795142841654469, 0.837051694286421, 0.9831455309396486], \"error_y\": {\"type\": \"data\", \"array\": [0.0007776706684794725, 0.002709460586867693, 0.003044995311480566, 0.0036740733293685987, 0.0034359950691749456, 0.0025976158991440883, 0.000889502138280667], \"color\": \"rgb(0,100,246)\", \"visible\": true}, \"line\": {\"color\": \"rgb(0,176,246)\"}, \"mode\": \"lines+markers\", \"name\": \"Sim Data\", \"xaxis\": \"x2\", \"yaxis\": \"y2\"}], {\"paper_bgcolor\": \"rgb(255,255,255)\", \"plot_bgcolor\": \"rgb(229,229,229)\", \"xaxis\": {\"gridcolor\": \"rgb(255,255,255)\", \"range\": [-2, 2], \"domain\": [0, 0.45], \"showgrid\": true, \"showline\": false, \"showticklabels\": true, \"tickcolor\": \"rgb(127,127,127)\", \"ticks\": \"outside\", \"title\": \"Net Value ($)\", \"zeroline\": false}, \"xaxis2\": {\"gridcolor\": \"rgb(255,255,255)\", \"range\": [-2, 2], \"domain\": [0.55, 1], \"showgrid\": true, \"showline\": false, \"showticklabels\": true, \"tickcolor\": \"rgb(127,127,127)\", \"ticks\": \"outside\", \"title\": \"Net Value ($)\", \"zeroline\": false}, \"yaxis1\": {\"gridcolor\": \"rgb(255,255,255)\", \"range\": [0], \"showgrid\": true, \"showline\": false, \"showticklabels\": true, \"tickcolor\": \"rgb(127,127,127)\", \"ticks\": \"outside\", \"title\": \"RT (s)\", \"anchor\": \"x1\", \"zeroline\": false}, \"yaxis2\": {\"gridcolor\": \"rgb(255,255,255)\", \"range\": [0], \"showgrid\": true, \"showline\": false, \"showticklabels\": true, \"tickcolor\": \"rgb(127,127,127)\", \"ticks\": \"outside\", \"title\": \"p (accept)\", \"anchor\": \"x2\", \"zeroline\": false}, \"annotations\": [{\"x\": 0.01, \"y\": 1.12, \"showarrow\": false, \"text\": \"PARAMETERS: v: 0.093, a: 0.221, \\u03b8: 0.325\", \"xref\": \"paper\", \"yref\": \"paper\"}, {\"x\": 0.01, \"y\": 1.08, \"showarrow\": false, \"text\": \"MLE: 685.76\", \"xref\": \"paper\", \"yref\": \"paper\"}, {\"x\": 0.01, \"y\": 1.2, \"showarrow\": false, \"text\": \"SUBJECT: 0\", \"font\": {\"family\": \"Arial, sans-serif\", \"size\": 22}, \"xref\": \"paper\", \"yref\": \"paper\"}]}, {\"showLink\": true, \"linkText\": \"Export to plot.ly\"})});</script>"
      ],
      "text/vnd.plotly.v1+html": [
       "<div id=\"beb086a0-1aa0-4409-9612-cb1c0f2a3e77\" style=\"height: 525px; width: 100%;\" class=\"plotly-graph-div\"></div><script type=\"text/javascript\">require([\"plotly\"], function(Plotly) { window.PLOTLYENV=window.PLOTLYENV || {};window.PLOTLYENV.BASE_URL=\"https://plot.ly\";Plotly.newPlot(\"beb086a0-1aa0-4409-9612-cb1c0f2a3e77\", [{\"type\": \"scatter\", \"x\": [-1.7333333333333336, -0.7562499999999999, -0.3029166666666668, 0.04949999999999995, 0.30600000000000005, 0.7723809523809525, 1.9495238095238094], \"y\": [3.0015640740833374, 3.702286981255382, 3.472419469435408, 3.123474994549179, 2.8109845845370725, 2.8382288735062646, 3.0082048231450322], \"error_y\": {\"type\": \"data\", \"array\": [0.26691156466118776, 0.5625841894881555, 0.3092635890278254, 0.16773999036033826, 0.22250602510869272, 0.3783604602105652, 0.3959290719366735], \"color\": \"rgb(0,170,80)\", \"visible\": true}, \"line\": {\"color\": \"rgb(0,100,80)\"}, \"mode\": \"lines+markers\", \"name\": \"Test Data\"}, {\"type\": \"scatter\", \"x\": [-1.7333333333333336, -0.7562499999999999, -0.3029166666666668, 0.04949999999999995, 0.30600000000000005, 0.7723809523809525, 1.9495238095238094], \"y\": [2.896175004175723, 3.9893921378776, 4.4403189803495415, 4.328841280985036, 4.490330785493614, 4.111567153104131, 2.7527906799082973], \"error_y\": {\"type\": \"data\", \"array\": [0.009055201713103587, 0.016797914659598335, 0.015503424114395842, 0.016853786729004512, 0.01692621076085038, 0.015003364140720279, 0.009563525046346695], \"color\": \"rgb(0,100,246)\", \"visible\": true}, \"line\": {\"color\": \"rgb(0,176,246)\"}, \"mode\": \"lines+markers\", \"name\": \"Sim Data\"}, {\"type\": \"scatter\", \"x\": [-1.7333333333333336, -0.7562499999999999, -0.3029166666666668, 0.04949999999999995, 0.30600000000000005, 0.7723809523809525, 1.9495238095238094], \"y\": [0.041666666666666664, 0.125, 0.3333333333333333, 0.65, 0.9, 0.8095238095238095, 0.9523809523809523], \"error_y\": {\"type\": \"data\", \"array\": [0.04166666666666667, 0.08539125638299665, 0.0982946374365981, 0.10942433098048308, 0.06882472016116851, 0.0878051853075513, 0.047619047619047616], \"color\": \"rgb(0,170,80)\", \"visible\": true}, \"line\": {\"color\": \"rgb(0,100,80)\"}, \"mode\": \"lines+markers\", \"name\": \"Test Data\", \"xaxis\": \"x2\", \"yaxis\": \"y2\"}, {\"type\": \"scatter\", \"x\": [-1.7333333333333336, -0.7562499999999999, -0.3029166666666668, 0.04949999999999995, 0.30600000000000005, 0.7723809523809525, 1.9495238095238094], \"y\": [0.014698513445799232, 0.13084172476116707, 0.28733134112107217, 0.5074796133282929, 0.6795142841654469, 0.837051694286421, 0.9831455309396486], \"error_y\": {\"type\": \"data\", \"array\": [0.0007776706684794725, 0.002709460586867693, 0.003044995311480566, 0.0036740733293685987, 0.0034359950691749456, 0.0025976158991440883, 0.000889502138280667], \"color\": \"rgb(0,100,246)\", \"visible\": true}, \"line\": {\"color\": \"rgb(0,176,246)\"}, \"mode\": \"lines+markers\", \"name\": \"Sim Data\", \"xaxis\": \"x2\", \"yaxis\": \"y2\"}], {\"paper_bgcolor\": \"rgb(255,255,255)\", \"plot_bgcolor\": \"rgb(229,229,229)\", \"xaxis\": {\"gridcolor\": \"rgb(255,255,255)\", \"range\": [-2, 2], \"domain\": [0, 0.45], \"showgrid\": true, \"showline\": false, \"showticklabels\": true, \"tickcolor\": \"rgb(127,127,127)\", \"ticks\": \"outside\", \"title\": \"Net Value ($)\", \"zeroline\": false}, \"xaxis2\": {\"gridcolor\": \"rgb(255,255,255)\", \"range\": [-2, 2], \"domain\": [0.55, 1], \"showgrid\": true, \"showline\": false, \"showticklabels\": true, \"tickcolor\": \"rgb(127,127,127)\", \"ticks\": \"outside\", \"title\": \"Net Value ($)\", \"zeroline\": false}, \"yaxis1\": {\"gridcolor\": \"rgb(255,255,255)\", \"range\": [0], \"showgrid\": true, \"showline\": false, \"showticklabels\": true, \"tickcolor\": \"rgb(127,127,127)\", \"ticks\": \"outside\", \"title\": \"RT (s)\", \"anchor\": \"x1\", \"zeroline\": false}, \"yaxis2\": {\"gridcolor\": \"rgb(255,255,255)\", \"range\": [0], \"showgrid\": true, \"showline\": false, \"showticklabels\": true, \"tickcolor\": \"rgb(127,127,127)\", \"ticks\": \"outside\", \"title\": \"p (accept)\", \"anchor\": \"x2\", \"zeroline\": false}, \"annotations\": [{\"x\": 0.01, \"y\": 1.12, \"showarrow\": false, \"text\": \"PARAMETERS: v: 0.093, a: 0.221, \\u03b8: 0.325\", \"xref\": \"paper\", \"yref\": \"paper\"}, {\"x\": 0.01, \"y\": 1.08, \"showarrow\": false, \"text\": \"MLE: 685.76\", \"xref\": \"paper\", \"yref\": \"paper\"}, {\"x\": 0.01, \"y\": 1.2, \"showarrow\": false, \"text\": \"SUBJECT: 0\", \"font\": {\"family\": \"Arial, sans-serif\", \"size\": 22}, \"xref\": \"paper\", \"yref\": \"paper\"}]}, {\"showLink\": true, \"linkText\": \"Export to plot.ly\"})});</script>"
      ]
     },
     "metadata": {},
     "output_type": "display_data"
    },
    {
     "data": {
      "text/html": [
       "<script>requirejs.config({paths: { 'plotly': ['https://cdn.plot.ly/plotly-latest.min']},});if(!window.Plotly) {{require(['plotly'],function(plotly) {window.Plotly=plotly;});}}</script>"
      ],
      "text/vnd.plotly.v1+html": [
       "<script>requirejs.config({paths: { 'plotly': ['https://cdn.plot.ly/plotly-latest.min']},});if(!window.Plotly) {{require(['plotly'],function(plotly) {window.Plotly=plotly;});}}</script>"
      ]
     },
     "metadata": {},
     "output_type": "display_data"
    },
    {
     "data": {
      "application/vnd.plotly.v1+json": {
       "data": [
        {
         "error_y": {
          "array": [
           0.4080944006773091,
           0.5084614914940523,
           0.49150129399063086,
           0.5531281982759294,
           0.6189654615809154,
           0.373291714372552,
           0.2537480456638595
          ],
          "color": "rgb(0,170,80)",
          "type": "data",
          "visible": true
         },
         "line": {
          "color": "rgb(0,100,80)"
         },
         "mode": "lines+markers",
         "name": "Test Data",
         "type": "scatter",
         "x": [
          -1.698125,
          -0.768421052631579,
          -0.34869565217391296,
          0.045555555555555495,
          0.2916666666666667,
          0.7814814814814816,
          1.7706666666666668
         ],
         "y": [
          3.579329921616591,
          4.736999820868828,
          4.934196604947236,
          4.939064011094161,
          5.70155291512492,
          4.290933009638037,
          2.884620733535849
         ]
        },
        {
         "error_y": {
          "array": [
           0.019609644305260434,
           0.01806990264033351,
           0.01636350379189865,
           0.018495299536094634,
           0.02279841948867267,
           0.015045825759150476,
           0.02026385198267772
          ],
          "color": "rgb(0,100,246)",
          "type": "data",
          "visible": true
         },
         "line": {
          "color": "rgb(0,176,246)"
         },
         "mode": "lines+markers",
         "name": "Sim Data",
         "type": "scatter",
         "x": [
          -1.698125,
          -0.768421052631579,
          -0.34869565217391296,
          0.045555555555555495,
          0.2916666666666667,
          0.7814814814814816,
          1.7706666666666668
         ],
         "y": [
          4.65590562638581,
          4.676208960468542,
          4.684367550792802,
          4.661724542351862,
          4.7086850503919315,
          4.6535558689340455,
          4.685419428825092
         ]
        },
        {
         "error_y": {
          "array": [
           0,
           0.07233518641434492,
           0.07180198468215396,
           0.11823563735376173,
           0.1305582419667734,
           0.0696696254167378,
           0
          ],
          "color": "rgb(0,170,80)",
          "type": "data",
          "visible": true
         },
         "line": {
          "color": "rgb(0,100,80)"
         },
         "mode": "lines+markers",
         "name": "Test Data",
         "type": "scatter",
         "x": [
          -1.698125,
          -0.768421052631579,
          -0.34869565217391296,
          0.045555555555555495,
          0.2916666666666667,
          0.7814814814814816,
          1.7706666666666668
         ],
         "xaxis": "x2",
         "y": [
          0,
          0.10526315789473684,
          0.13043478260869565,
          0.6111111111111112,
          0.75,
          0.8518518518518519,
          1
         ],
         "yaxis": "y2"
        },
        {
         "error_y": {
          "array": [
           0.004039230298068309,
           0.0038025663262147118,
           0.0034780868145665553,
           0.003938790107677021,
           0.004819503717546428,
           0.003190463282022924,
           0.0041582867846102186
          ],
          "color": "rgb(0,100,246)",
          "type": "data",
          "visible": true
         },
         "line": {
          "color": "rgb(0,176,246)"
         },
         "mode": "lines+markers",
         "name": "Sim Data",
         "type": "scatter",
         "x": [
          -1.698125,
          -0.768421052631579,
          -0.34869565217391296,
          0.045555555555555495,
          0.2916666666666667,
          0.7814814814814816,
          1.7706666666666668
         ],
         "xaxis": "x2",
         "y": [
          0.37936529933481156,
          0.4441581259150805,
          0.47689472918586046,
          0.5025131864722309,
          0.5334079880552445,
          0.5677727084197428,
          0.6277005031074282
         ],
         "yaxis": "y2"
        }
       ],
       "layout": {
        "annotations": [
         {
          "showarrow": false,
          "text": "PARAMETERS: v: 0.01, a: 0.221, θ: 0.325",
          "x": 0.01,
          "xref": "paper",
          "y": 1.12,
          "yref": "paper"
         },
         {
          "showarrow": false,
          "text": "MLE: 642.26",
          "x": 0.01,
          "xref": "paper",
          "y": 1.08,
          "yref": "paper"
         },
         {
          "font": {
           "family": "Arial, sans-serif",
           "size": 22
          },
          "showarrow": false,
          "text": "SUBJECT: 1",
          "x": 0.01,
          "xref": "paper",
          "y": 1.2,
          "yref": "paper"
         }
        ],
        "paper_bgcolor": "rgb(255,255,255)",
        "plot_bgcolor": "rgb(229,229,229)",
        "xaxis": {
         "domain": [
          0,
          0.45
         ],
         "gridcolor": "rgb(255,255,255)",
         "range": [
          -2,
          2
         ],
         "showgrid": true,
         "showline": false,
         "showticklabels": true,
         "tickcolor": "rgb(127,127,127)",
         "ticks": "outside",
         "title": "Net Value ($)",
         "zeroline": false
        },
        "xaxis2": {
         "domain": [
          0.55,
          1
         ],
         "gridcolor": "rgb(255,255,255)",
         "range": [
          -2,
          2
         ],
         "showgrid": true,
         "showline": false,
         "showticklabels": true,
         "tickcolor": "rgb(127,127,127)",
         "ticks": "outside",
         "title": "Net Value ($)",
         "zeroline": false
        },
        "yaxis1": {
         "anchor": "x1",
         "gridcolor": "rgb(255,255,255)",
         "range": [
          0
         ],
         "showgrid": true,
         "showline": false,
         "showticklabels": true,
         "tickcolor": "rgb(127,127,127)",
         "ticks": "outside",
         "title": "RT (s)",
         "zeroline": false
        },
        "yaxis2": {
         "anchor": "x2",
         "gridcolor": "rgb(255,255,255)",
         "range": [
          0
         ],
         "showgrid": true,
         "showline": false,
         "showticklabels": true,
         "tickcolor": "rgb(127,127,127)",
         "ticks": "outside",
         "title": "p (accept)",
         "zeroline": false
        }
       }
      },
      "text/html": [
       "<div id=\"612a104c-4720-44e5-a436-0ebb33edc08c\" style=\"height: 525px; width: 100%;\" class=\"plotly-graph-div\"></div><script type=\"text/javascript\">require([\"plotly\"], function(Plotly) { window.PLOTLYENV=window.PLOTLYENV || {};window.PLOTLYENV.BASE_URL=\"https://plot.ly\";Plotly.newPlot(\"612a104c-4720-44e5-a436-0ebb33edc08c\", [{\"type\": \"scatter\", \"x\": [-1.698125, -0.768421052631579, -0.34869565217391296, 0.045555555555555495, 0.2916666666666667, 0.7814814814814816, 1.7706666666666668], \"y\": [3.579329921616591, 4.736999820868828, 4.934196604947236, 4.939064011094161, 5.70155291512492, 4.290933009638037, 2.884620733535849], \"error_y\": {\"type\": \"data\", \"array\": [0.4080944006773091, 0.5084614914940523, 0.49150129399063086, 0.5531281982759294, 0.6189654615809154, 0.373291714372552, 0.2537480456638595], \"color\": \"rgb(0,170,80)\", \"visible\": true}, \"line\": {\"color\": \"rgb(0,100,80)\"}, \"mode\": \"lines+markers\", \"name\": \"Test Data\"}, {\"type\": \"scatter\", \"x\": [-1.698125, -0.768421052631579, -0.34869565217391296, 0.045555555555555495, 0.2916666666666667, 0.7814814814814816, 1.7706666666666668], \"y\": [4.65590562638581, 4.676208960468542, 4.684367550792802, 4.661724542351862, 4.7086850503919315, 4.6535558689340455, 4.685419428825092], \"error_y\": {\"type\": \"data\", \"array\": [0.019609644305260434, 0.01806990264033351, 0.01636350379189865, 0.018495299536094634, 0.02279841948867267, 0.015045825759150476, 0.02026385198267772], \"color\": \"rgb(0,100,246)\", \"visible\": true}, \"line\": {\"color\": \"rgb(0,176,246)\"}, \"mode\": \"lines+markers\", \"name\": \"Sim Data\"}, {\"type\": \"scatter\", \"x\": [-1.698125, -0.768421052631579, -0.34869565217391296, 0.045555555555555495, 0.2916666666666667, 0.7814814814814816, 1.7706666666666668], \"y\": [0.0, 0.10526315789473684, 0.13043478260869565, 0.6111111111111112, 0.75, 0.8518518518518519, 1.0], \"error_y\": {\"type\": \"data\", \"array\": [0.0, 0.07233518641434492, 0.07180198468215396, 0.11823563735376173, 0.1305582419667734, 0.0696696254167378, 0.0], \"color\": \"rgb(0,170,80)\", \"visible\": true}, \"line\": {\"color\": \"rgb(0,100,80)\"}, \"mode\": \"lines+markers\", \"name\": \"Test Data\", \"xaxis\": \"x2\", \"yaxis\": \"y2\"}, {\"type\": \"scatter\", \"x\": [-1.698125, -0.768421052631579, -0.34869565217391296, 0.045555555555555495, 0.2916666666666667, 0.7814814814814816, 1.7706666666666668], \"y\": [0.37936529933481156, 0.4441581259150805, 0.47689472918586046, 0.5025131864722309, 0.5334079880552445, 0.5677727084197428, 0.6277005031074282], \"error_y\": {\"type\": \"data\", \"array\": [0.004039230298068309, 0.0038025663262147118, 0.0034780868145665553, 0.003938790107677021, 0.004819503717546428, 0.003190463282022924, 0.0041582867846102186], \"color\": \"rgb(0,100,246)\", \"visible\": true}, \"line\": {\"color\": \"rgb(0,176,246)\"}, \"mode\": \"lines+markers\", \"name\": \"Sim Data\", \"xaxis\": \"x2\", \"yaxis\": \"y2\"}], {\"paper_bgcolor\": \"rgb(255,255,255)\", \"plot_bgcolor\": \"rgb(229,229,229)\", \"xaxis\": {\"gridcolor\": \"rgb(255,255,255)\", \"range\": [-2, 2], \"domain\": [0, 0.45], \"showgrid\": true, \"showline\": false, \"showticklabels\": true, \"tickcolor\": \"rgb(127,127,127)\", \"ticks\": \"outside\", \"title\": \"Net Value ($)\", \"zeroline\": false}, \"xaxis2\": {\"gridcolor\": \"rgb(255,255,255)\", \"range\": [-2, 2], \"domain\": [0.55, 1], \"showgrid\": true, \"showline\": false, \"showticklabels\": true, \"tickcolor\": \"rgb(127,127,127)\", \"ticks\": \"outside\", \"title\": \"Net Value ($)\", \"zeroline\": false}, \"yaxis1\": {\"gridcolor\": \"rgb(255,255,255)\", \"range\": [0], \"showgrid\": true, \"showline\": false, \"showticklabels\": true, \"tickcolor\": \"rgb(127,127,127)\", \"ticks\": \"outside\", \"title\": \"RT (s)\", \"anchor\": \"x1\", \"zeroline\": false}, \"yaxis2\": {\"gridcolor\": \"rgb(255,255,255)\", \"range\": [0], \"showgrid\": true, \"showline\": false, \"showticklabels\": true, \"tickcolor\": \"rgb(127,127,127)\", \"ticks\": \"outside\", \"title\": \"p (accept)\", \"anchor\": \"x2\", \"zeroline\": false}, \"annotations\": [{\"x\": 0.01, \"y\": 1.12, \"showarrow\": false, \"text\": \"PARAMETERS: v: 0.01, a: 0.221, \\u03b8: 0.325\", \"xref\": \"paper\", \"yref\": \"paper\"}, {\"x\": 0.01, \"y\": 1.08, \"showarrow\": false, \"text\": \"MLE: 642.26\", \"xref\": \"paper\", \"yref\": \"paper\"}, {\"x\": 0.01, \"y\": 1.2, \"showarrow\": false, \"text\": \"SUBJECT: 1\", \"font\": {\"family\": \"Arial, sans-serif\", \"size\": 22}, \"xref\": \"paper\", \"yref\": \"paper\"}]}, {\"showLink\": true, \"linkText\": \"Export to plot.ly\"})});</script>"
      ],
      "text/vnd.plotly.v1+html": [
       "<div id=\"612a104c-4720-44e5-a436-0ebb33edc08c\" style=\"height: 525px; width: 100%;\" class=\"plotly-graph-div\"></div><script type=\"text/javascript\">require([\"plotly\"], function(Plotly) { window.PLOTLYENV=window.PLOTLYENV || {};window.PLOTLYENV.BASE_URL=\"https://plot.ly\";Plotly.newPlot(\"612a104c-4720-44e5-a436-0ebb33edc08c\", [{\"type\": \"scatter\", \"x\": [-1.698125, -0.768421052631579, -0.34869565217391296, 0.045555555555555495, 0.2916666666666667, 0.7814814814814816, 1.7706666666666668], \"y\": [3.579329921616591, 4.736999820868828, 4.934196604947236, 4.939064011094161, 5.70155291512492, 4.290933009638037, 2.884620733535849], \"error_y\": {\"type\": \"data\", \"array\": [0.4080944006773091, 0.5084614914940523, 0.49150129399063086, 0.5531281982759294, 0.6189654615809154, 0.373291714372552, 0.2537480456638595], \"color\": \"rgb(0,170,80)\", \"visible\": true}, \"line\": {\"color\": \"rgb(0,100,80)\"}, \"mode\": \"lines+markers\", \"name\": \"Test Data\"}, {\"type\": \"scatter\", \"x\": [-1.698125, -0.768421052631579, -0.34869565217391296, 0.045555555555555495, 0.2916666666666667, 0.7814814814814816, 1.7706666666666668], \"y\": [4.65590562638581, 4.676208960468542, 4.684367550792802, 4.661724542351862, 4.7086850503919315, 4.6535558689340455, 4.685419428825092], \"error_y\": {\"type\": \"data\", \"array\": [0.019609644305260434, 0.01806990264033351, 0.01636350379189865, 0.018495299536094634, 0.02279841948867267, 0.015045825759150476, 0.02026385198267772], \"color\": \"rgb(0,100,246)\", \"visible\": true}, \"line\": {\"color\": \"rgb(0,176,246)\"}, \"mode\": \"lines+markers\", \"name\": \"Sim Data\"}, {\"type\": \"scatter\", \"x\": [-1.698125, -0.768421052631579, -0.34869565217391296, 0.045555555555555495, 0.2916666666666667, 0.7814814814814816, 1.7706666666666668], \"y\": [0.0, 0.10526315789473684, 0.13043478260869565, 0.6111111111111112, 0.75, 0.8518518518518519, 1.0], \"error_y\": {\"type\": \"data\", \"array\": [0.0, 0.07233518641434492, 0.07180198468215396, 0.11823563735376173, 0.1305582419667734, 0.0696696254167378, 0.0], \"color\": \"rgb(0,170,80)\", \"visible\": true}, \"line\": {\"color\": \"rgb(0,100,80)\"}, \"mode\": \"lines+markers\", \"name\": \"Test Data\", \"xaxis\": \"x2\", \"yaxis\": \"y2\"}, {\"type\": \"scatter\", \"x\": [-1.698125, -0.768421052631579, -0.34869565217391296, 0.045555555555555495, 0.2916666666666667, 0.7814814814814816, 1.7706666666666668], \"y\": [0.37936529933481156, 0.4441581259150805, 0.47689472918586046, 0.5025131864722309, 0.5334079880552445, 0.5677727084197428, 0.6277005031074282], \"error_y\": {\"type\": \"data\", \"array\": [0.004039230298068309, 0.0038025663262147118, 0.0034780868145665553, 0.003938790107677021, 0.004819503717546428, 0.003190463282022924, 0.0041582867846102186], \"color\": \"rgb(0,100,246)\", \"visible\": true}, \"line\": {\"color\": \"rgb(0,176,246)\"}, \"mode\": \"lines+markers\", \"name\": \"Sim Data\", \"xaxis\": \"x2\", \"yaxis\": \"y2\"}], {\"paper_bgcolor\": \"rgb(255,255,255)\", \"plot_bgcolor\": \"rgb(229,229,229)\", \"xaxis\": {\"gridcolor\": \"rgb(255,255,255)\", \"range\": [-2, 2], \"domain\": [0, 0.45], \"showgrid\": true, \"showline\": false, \"showticklabels\": true, \"tickcolor\": \"rgb(127,127,127)\", \"ticks\": \"outside\", \"title\": \"Net Value ($)\", \"zeroline\": false}, \"xaxis2\": {\"gridcolor\": \"rgb(255,255,255)\", \"range\": [-2, 2], \"domain\": [0.55, 1], \"showgrid\": true, \"showline\": false, \"showticklabels\": true, \"tickcolor\": \"rgb(127,127,127)\", \"ticks\": \"outside\", \"title\": \"Net Value ($)\", \"zeroline\": false}, \"yaxis1\": {\"gridcolor\": \"rgb(255,255,255)\", \"range\": [0], \"showgrid\": true, \"showline\": false, \"showticklabels\": true, \"tickcolor\": \"rgb(127,127,127)\", \"ticks\": \"outside\", \"title\": \"RT (s)\", \"anchor\": \"x1\", \"zeroline\": false}, \"yaxis2\": {\"gridcolor\": \"rgb(255,255,255)\", \"range\": [0], \"showgrid\": true, \"showline\": false, \"showticklabels\": true, \"tickcolor\": \"rgb(127,127,127)\", \"ticks\": \"outside\", \"title\": \"p (accept)\", \"anchor\": \"x2\", \"zeroline\": false}, \"annotations\": [{\"x\": 0.01, \"y\": 1.12, \"showarrow\": false, \"text\": \"PARAMETERS: v: 0.01, a: 0.221, \\u03b8: 0.325\", \"xref\": \"paper\", \"yref\": \"paper\"}, {\"x\": 0.01, \"y\": 1.08, \"showarrow\": false, \"text\": \"MLE: 642.26\", \"xref\": \"paper\", \"yref\": \"paper\"}, {\"x\": 0.01, \"y\": 1.2, \"showarrow\": false, \"text\": \"SUBJECT: 1\", \"font\": {\"family\": \"Arial, sans-serif\", \"size\": 22}, \"xref\": \"paper\", \"yref\": \"paper\"}]}, {\"showLink\": true, \"linkText\": \"Export to plot.ly\"})});</script>"
      ]
     },
     "metadata": {},
     "output_type": "display_data"
    },
    {
     "data": {
      "text/html": [
       "<script>requirejs.config({paths: { 'plotly': ['https://cdn.plot.ly/plotly-latest.min']},});if(!window.Plotly) {{require(['plotly'],function(plotly) {window.Plotly=plotly;});}}</script>"
      ],
      "text/vnd.plotly.v1+html": [
       "<script>requirejs.config({paths: { 'plotly': ['https://cdn.plot.ly/plotly-latest.min']},});if(!window.Plotly) {{require(['plotly'],function(plotly) {window.Plotly=plotly;});}}</script>"
      ]
     },
     "metadata": {},
     "output_type": "display_data"
    },
    {
     "data": {
      "application/vnd.plotly.v1+json": {
       "data": [
        {
         "error_y": {
          "array": [
           0.10879429279426972,
           0.25402595724407784,
           0.3409129329043157,
           0.2260598981907746,
           0.24480488295898126,
           0.16771570062318283,
           0.05381930759782264
          ],
          "color": "rgb(0,170,80)",
          "type": "data",
          "visible": true
         },
         "line": {
          "color": "rgb(0,100,80)"
         },
         "mode": "lines+markers",
         "name": "Test Data",
         "type": "scatter",
         "x": [
          -1.686923076923077,
          -0.8123809523809523,
          -0.2756521739130436,
          0.02799999999999996,
          0.27105263157894727,
          0.7813636363636364,
          1.5395238095238095
         ],
         "y": [
          1.638579470857692,
          1.9859039087147852,
          2.2414704256630302,
          2.171842512818209,
          1.7782342430743348,
          1.6221177481771023,
          1.2644601382947134
         ]
        },
        {
         "error_y": {
          "array": [
           0.00652122239763414,
           0.0060789813464602206,
           0.006229065909396793,
           0.005595614173742843,
           0.006837970686384205,
           0.006088355540442601,
           0.00529555437540603
          ],
          "color": "rgb(0,100,246)",
          "type": "data",
          "visible": true
         },
         "line": {
          "color": "rgb(0,176,246)"
         },
         "mode": "lines+markers",
         "name": "Sim Data",
         "type": "scatter",
         "x": [
          -1.686923076923077,
          -0.8123809523809523,
          -0.2756521739130436,
          0.02799999999999996,
          0.27105263157894727,
          0.7813636363636364,
          1.5395238095238095
         ],
         "y": [
          1.73437095161166,
          1.9011054285714282,
          1.9752060613966338,
          1.9888248158149142,
          1.9722959103110644,
          1.9152698636363643,
          1.7707053809523672
         ]
        },
        {
         "error_y": {
          "array": [
           0.07692307692307691,
           0.06563832739090582,
           0.09810018692482893,
           0.09264111117062016,
           0.10379087338771255,
           0.06273323266748675,
           0
          ],
          "color": "rgb(0,170,80)",
          "type": "data",
          "visible": true
         },
         "line": {
          "color": "rgb(0,100,80)"
         },
         "mode": "lines+markers",
         "name": "Test Data",
         "type": "scatter",
         "x": [
          -1.686923076923077,
          -0.8123809523809523,
          -0.2756521739130436,
          0.02799999999999996,
          0.27105263157894727,
          0.7813636363636364,
          1.5395238095238095
         ],
         "xaxis": "x2",
         "y": [
          0.07692307692307693,
          0.09523809523809523,
          0.30434782608695654,
          0.5333333333333333,
          0.7368421052631579,
          0.9090909090909091,
          1
         ],
         "yaxis": "y2"
        },
        {
         "error_y": {
          "array": [
           0.0031543862762017233,
           0.0031166927596652885,
           0.0032613141829746024,
           0.002886368177047582,
           0.0035881030748382563,
           0.0030718084783896158,
           0.002554310121120503
          ],
          "color": "rgb(0,100,246)",
          "type": "data",
          "visible": true
         },
         "line": {
          "color": "rgb(0,176,246)"
         },
         "mode": "lines+markers",
         "name": "Sim Data",
         "type": "scatter",
         "x": [
          -1.686923076923077,
          -0.8123809523809523,
          -0.2756521739130436,
          0.02799999999999996,
          0.27105263157894727,
          0.7813636363636364,
          1.5395238095238095
         ],
         "xaxis": "x2",
         "y": [
          0.15262712516347413,
          0.2854761904761905,
          0.4265153491607966,
          0.50998433176651,
          0.5735565029738408,
          0.7059545454545455,
          0.8361428571428572
         ],
         "yaxis": "y2"
        }
       ],
       "layout": {
        "annotations": [
         {
          "showarrow": false,
          "text": "PARAMETERS: v: 0.051, a: 0.107, θ: 1.0",
          "x": 0.01,
          "xref": "paper",
          "y": 1.12,
          "yref": "paper"
         },
         {
          "showarrow": false,
          "text": "MLE: 584.87",
          "x": 0.01,
          "xref": "paper",
          "y": 1.08,
          "yref": "paper"
         },
         {
          "font": {
           "family": "Arial, sans-serif",
           "size": 22
          },
          "showarrow": false,
          "text": "SUBJECT: 2",
          "x": 0.01,
          "xref": "paper",
          "y": 1.2,
          "yref": "paper"
         }
        ],
        "paper_bgcolor": "rgb(255,255,255)",
        "plot_bgcolor": "rgb(229,229,229)",
        "xaxis": {
         "domain": [
          0,
          0.45
         ],
         "gridcolor": "rgb(255,255,255)",
         "range": [
          -2,
          2
         ],
         "showgrid": true,
         "showline": false,
         "showticklabels": true,
         "tickcolor": "rgb(127,127,127)",
         "ticks": "outside",
         "title": "Net Value ($)",
         "zeroline": false
        },
        "xaxis2": {
         "domain": [
          0.55,
          1
         ],
         "gridcolor": "rgb(255,255,255)",
         "range": [
          -2,
          2
         ],
         "showgrid": true,
         "showline": false,
         "showticklabels": true,
         "tickcolor": "rgb(127,127,127)",
         "ticks": "outside",
         "title": "Net Value ($)",
         "zeroline": false
        },
        "yaxis1": {
         "anchor": "x1",
         "gridcolor": "rgb(255,255,255)",
         "range": [
          0
         ],
         "showgrid": true,
         "showline": false,
         "showticklabels": true,
         "tickcolor": "rgb(127,127,127)",
         "ticks": "outside",
         "title": "RT (s)",
         "zeroline": false
        },
        "yaxis2": {
         "anchor": "x2",
         "gridcolor": "rgb(255,255,255)",
         "range": [
          0
         ],
         "showgrid": true,
         "showline": false,
         "showticklabels": true,
         "tickcolor": "rgb(127,127,127)",
         "ticks": "outside",
         "title": "p (accept)",
         "zeroline": false
        }
       }
      },
      "text/html": [
       "<div id=\"9e55c5b7-2c5d-4fec-a1eb-2722d8d98294\" style=\"height: 525px; width: 100%;\" class=\"plotly-graph-div\"></div><script type=\"text/javascript\">require([\"plotly\"], function(Plotly) { window.PLOTLYENV=window.PLOTLYENV || {};window.PLOTLYENV.BASE_URL=\"https://plot.ly\";Plotly.newPlot(\"9e55c5b7-2c5d-4fec-a1eb-2722d8d98294\", [{\"type\": \"scatter\", \"x\": [-1.686923076923077, -0.8123809523809523, -0.2756521739130436, 0.02799999999999996, 0.27105263157894727, 0.7813636363636364, 1.5395238095238095], \"y\": [1.638579470857692, 1.9859039087147852, 2.2414704256630302, 2.171842512818209, 1.7782342430743348, 1.6221177481771023, 1.2644601382947134], \"error_y\": {\"type\": \"data\", \"array\": [0.10879429279426972, 0.25402595724407784, 0.3409129329043157, 0.2260598981907746, 0.24480488295898126, 0.16771570062318283, 0.05381930759782264], \"color\": \"rgb(0,170,80)\", \"visible\": true}, \"line\": {\"color\": \"rgb(0,100,80)\"}, \"mode\": \"lines+markers\", \"name\": \"Test Data\"}, {\"type\": \"scatter\", \"x\": [-1.686923076923077, -0.8123809523809523, -0.2756521739130436, 0.02799999999999996, 0.27105263157894727, 0.7813636363636364, 1.5395238095238095], \"y\": [1.73437095161166, 1.9011054285714282, 1.9752060613966338, 1.9888248158149142, 1.9722959103110644, 1.9152698636363643, 1.7707053809523672], \"error_y\": {\"type\": \"data\", \"array\": [0.00652122239763414, 0.0060789813464602206, 0.006229065909396793, 0.005595614173742843, 0.006837970686384205, 0.006088355540442601, 0.00529555437540603], \"color\": \"rgb(0,100,246)\", \"visible\": true}, \"line\": {\"color\": \"rgb(0,176,246)\"}, \"mode\": \"lines+markers\", \"name\": \"Sim Data\"}, {\"type\": \"scatter\", \"x\": [-1.686923076923077, -0.8123809523809523, -0.2756521739130436, 0.02799999999999996, 0.27105263157894727, 0.7813636363636364, 1.5395238095238095], \"y\": [0.07692307692307693, 0.09523809523809523, 0.30434782608695654, 0.5333333333333333, 0.7368421052631579, 0.9090909090909091, 1.0], \"error_y\": {\"type\": \"data\", \"array\": [0.07692307692307691, 0.06563832739090582, 0.09810018692482893, 0.09264111117062016, 0.10379087338771255, 0.06273323266748675, 0.0], \"color\": \"rgb(0,170,80)\", \"visible\": true}, \"line\": {\"color\": \"rgb(0,100,80)\"}, \"mode\": \"lines+markers\", \"name\": \"Test Data\", \"xaxis\": \"x2\", \"yaxis\": \"y2\"}, {\"type\": \"scatter\", \"x\": [-1.686923076923077, -0.8123809523809523, -0.2756521739130436, 0.02799999999999996, 0.27105263157894727, 0.7813636363636364, 1.5395238095238095], \"y\": [0.15262712516347413, 0.2854761904761905, 0.4265153491607966, 0.50998433176651, 0.5735565029738408, 0.7059545454545455, 0.8361428571428572], \"error_y\": {\"type\": \"data\", \"array\": [0.0031543862762017233, 0.0031166927596652885, 0.0032613141829746024, 0.002886368177047582, 0.0035881030748382563, 0.0030718084783896158, 0.002554310121120503], \"color\": \"rgb(0,100,246)\", \"visible\": true}, \"line\": {\"color\": \"rgb(0,176,246)\"}, \"mode\": \"lines+markers\", \"name\": \"Sim Data\", \"xaxis\": \"x2\", \"yaxis\": \"y2\"}], {\"paper_bgcolor\": \"rgb(255,255,255)\", \"plot_bgcolor\": \"rgb(229,229,229)\", \"xaxis\": {\"gridcolor\": \"rgb(255,255,255)\", \"range\": [-2, 2], \"domain\": [0, 0.45], \"showgrid\": true, \"showline\": false, \"showticklabels\": true, \"tickcolor\": \"rgb(127,127,127)\", \"ticks\": \"outside\", \"title\": \"Net Value ($)\", \"zeroline\": false}, \"xaxis2\": {\"gridcolor\": \"rgb(255,255,255)\", \"range\": [-2, 2], \"domain\": [0.55, 1], \"showgrid\": true, \"showline\": false, \"showticklabels\": true, \"tickcolor\": \"rgb(127,127,127)\", \"ticks\": \"outside\", \"title\": \"Net Value ($)\", \"zeroline\": false}, \"yaxis1\": {\"gridcolor\": \"rgb(255,255,255)\", \"range\": [0], \"showgrid\": true, \"showline\": false, \"showticklabels\": true, \"tickcolor\": \"rgb(127,127,127)\", \"ticks\": \"outside\", \"title\": \"RT (s)\", \"anchor\": \"x1\", \"zeroline\": false}, \"yaxis2\": {\"gridcolor\": \"rgb(255,255,255)\", \"range\": [0], \"showgrid\": true, \"showline\": false, \"showticklabels\": true, \"tickcolor\": \"rgb(127,127,127)\", \"ticks\": \"outside\", \"title\": \"p (accept)\", \"anchor\": \"x2\", \"zeroline\": false}, \"annotations\": [{\"x\": 0.01, \"y\": 1.12, \"showarrow\": false, \"text\": \"PARAMETERS: v: 0.051, a: 0.107, \\u03b8: 1.0\", \"xref\": \"paper\", \"yref\": \"paper\"}, {\"x\": 0.01, \"y\": 1.08, \"showarrow\": false, \"text\": \"MLE: 584.87\", \"xref\": \"paper\", \"yref\": \"paper\"}, {\"x\": 0.01, \"y\": 1.2, \"showarrow\": false, \"text\": \"SUBJECT: 2\", \"font\": {\"family\": \"Arial, sans-serif\", \"size\": 22}, \"xref\": \"paper\", \"yref\": \"paper\"}]}, {\"showLink\": true, \"linkText\": \"Export to plot.ly\"})});</script>"
      ],
      "text/vnd.plotly.v1+html": [
       "<div id=\"9e55c5b7-2c5d-4fec-a1eb-2722d8d98294\" style=\"height: 525px; width: 100%;\" class=\"plotly-graph-div\"></div><script type=\"text/javascript\">require([\"plotly\"], function(Plotly) { window.PLOTLYENV=window.PLOTLYENV || {};window.PLOTLYENV.BASE_URL=\"https://plot.ly\";Plotly.newPlot(\"9e55c5b7-2c5d-4fec-a1eb-2722d8d98294\", [{\"type\": \"scatter\", \"x\": [-1.686923076923077, -0.8123809523809523, -0.2756521739130436, 0.02799999999999996, 0.27105263157894727, 0.7813636363636364, 1.5395238095238095], \"y\": [1.638579470857692, 1.9859039087147852, 2.2414704256630302, 2.171842512818209, 1.7782342430743348, 1.6221177481771023, 1.2644601382947134], \"error_y\": {\"type\": \"data\", \"array\": [0.10879429279426972, 0.25402595724407784, 0.3409129329043157, 0.2260598981907746, 0.24480488295898126, 0.16771570062318283, 0.05381930759782264], \"color\": \"rgb(0,170,80)\", \"visible\": true}, \"line\": {\"color\": \"rgb(0,100,80)\"}, \"mode\": \"lines+markers\", \"name\": \"Test Data\"}, {\"type\": \"scatter\", \"x\": [-1.686923076923077, -0.8123809523809523, -0.2756521739130436, 0.02799999999999996, 0.27105263157894727, 0.7813636363636364, 1.5395238095238095], \"y\": [1.73437095161166, 1.9011054285714282, 1.9752060613966338, 1.9888248158149142, 1.9722959103110644, 1.9152698636363643, 1.7707053809523672], \"error_y\": {\"type\": \"data\", \"array\": [0.00652122239763414, 0.0060789813464602206, 0.006229065909396793, 0.005595614173742843, 0.006837970686384205, 0.006088355540442601, 0.00529555437540603], \"color\": \"rgb(0,100,246)\", \"visible\": true}, \"line\": {\"color\": \"rgb(0,176,246)\"}, \"mode\": \"lines+markers\", \"name\": \"Sim Data\"}, {\"type\": \"scatter\", \"x\": [-1.686923076923077, -0.8123809523809523, -0.2756521739130436, 0.02799999999999996, 0.27105263157894727, 0.7813636363636364, 1.5395238095238095], \"y\": [0.07692307692307693, 0.09523809523809523, 0.30434782608695654, 0.5333333333333333, 0.7368421052631579, 0.9090909090909091, 1.0], \"error_y\": {\"type\": \"data\", \"array\": [0.07692307692307691, 0.06563832739090582, 0.09810018692482893, 0.09264111117062016, 0.10379087338771255, 0.06273323266748675, 0.0], \"color\": \"rgb(0,170,80)\", \"visible\": true}, \"line\": {\"color\": \"rgb(0,100,80)\"}, \"mode\": \"lines+markers\", \"name\": \"Test Data\", \"xaxis\": \"x2\", \"yaxis\": \"y2\"}, {\"type\": \"scatter\", \"x\": [-1.686923076923077, -0.8123809523809523, -0.2756521739130436, 0.02799999999999996, 0.27105263157894727, 0.7813636363636364, 1.5395238095238095], \"y\": [0.15262712516347413, 0.2854761904761905, 0.4265153491607966, 0.50998433176651, 0.5735565029738408, 0.7059545454545455, 0.8361428571428572], \"error_y\": {\"type\": \"data\", \"array\": [0.0031543862762017233, 0.0031166927596652885, 0.0032613141829746024, 0.002886368177047582, 0.0035881030748382563, 0.0030718084783896158, 0.002554310121120503], \"color\": \"rgb(0,100,246)\", \"visible\": true}, \"line\": {\"color\": \"rgb(0,176,246)\"}, \"mode\": \"lines+markers\", \"name\": \"Sim Data\", \"xaxis\": \"x2\", \"yaxis\": \"y2\"}], {\"paper_bgcolor\": \"rgb(255,255,255)\", \"plot_bgcolor\": \"rgb(229,229,229)\", \"xaxis\": {\"gridcolor\": \"rgb(255,255,255)\", \"range\": [-2, 2], \"domain\": [0, 0.45], \"showgrid\": true, \"showline\": false, \"showticklabels\": true, \"tickcolor\": \"rgb(127,127,127)\", \"ticks\": \"outside\", \"title\": \"Net Value ($)\", \"zeroline\": false}, \"xaxis2\": {\"gridcolor\": \"rgb(255,255,255)\", \"range\": [-2, 2], \"domain\": [0.55, 1], \"showgrid\": true, \"showline\": false, \"showticklabels\": true, \"tickcolor\": \"rgb(127,127,127)\", \"ticks\": \"outside\", \"title\": \"Net Value ($)\", \"zeroline\": false}, \"yaxis1\": {\"gridcolor\": \"rgb(255,255,255)\", \"range\": [0], \"showgrid\": true, \"showline\": false, \"showticklabels\": true, \"tickcolor\": \"rgb(127,127,127)\", \"ticks\": \"outside\", \"title\": \"RT (s)\", \"anchor\": \"x1\", \"zeroline\": false}, \"yaxis2\": {\"gridcolor\": \"rgb(255,255,255)\", \"range\": [0], \"showgrid\": true, \"showline\": false, \"showticklabels\": true, \"tickcolor\": \"rgb(127,127,127)\", \"ticks\": \"outside\", \"title\": \"p (accept)\", \"anchor\": \"x2\", \"zeroline\": false}, \"annotations\": [{\"x\": 0.01, \"y\": 1.12, \"showarrow\": false, \"text\": \"PARAMETERS: v: 0.051, a: 0.107, \\u03b8: 1.0\", \"xref\": \"paper\", \"yref\": \"paper\"}, {\"x\": 0.01, \"y\": 1.08, \"showarrow\": false, \"text\": \"MLE: 584.87\", \"xref\": \"paper\", \"yref\": \"paper\"}, {\"x\": 0.01, \"y\": 1.2, \"showarrow\": false, \"text\": \"SUBJECT: 2\", \"font\": {\"family\": \"Arial, sans-serif\", \"size\": 22}, \"xref\": \"paper\", \"yref\": \"paper\"}]}, {\"showLink\": true, \"linkText\": \"Export to plot.ly\"})});</script>"
      ]
     },
     "metadata": {},
     "output_type": "display_data"
    },
    {
     "data": {
      "text/html": [
       "<script>requirejs.config({paths: { 'plotly': ['https://cdn.plot.ly/plotly-latest.min']},});if(!window.Plotly) {{require(['plotly'],function(plotly) {window.Plotly=plotly;});}}</script>"
      ],
      "text/vnd.plotly.v1+html": [
       "<script>requirejs.config({paths: { 'plotly': ['https://cdn.plot.ly/plotly-latest.min']},});if(!window.Plotly) {{require(['plotly'],function(plotly) {window.Plotly=plotly;});}}</script>"
      ]
     },
     "metadata": {},
     "output_type": "display_data"
    },
    {
     "data": {
      "application/vnd.plotly.v1+json": {
       "data": [
        {
         "error_y": {
          "array": [
           0.1102701021747477,
           0.32080609297211565,
           0.273288008346219,
           0.22112527698932793,
           0.4312362408282256,
           0.20907660220046495,
           0.32466589321716044
          ],
          "color": "rgb(0,170,80)",
          "type": "data",
          "visible": true
         },
         "line": {
          "color": "rgb(0,100,80)"
         },
         "mode": "lines+markers",
         "name": "Test Data",
         "type": "scatter",
         "x": [
          -1.6504999999999999,
          -0.8216666666666667,
          -0.3322222222222222,
          0.031379310344827556,
          0.31399999999999995,
          0.7887500000000003,
          1.5991304347826085
         ],
         "y": [
          1.6242911497538437,
          2.3176755745274327,
          2.431576300043768,
          2.3799502586921806,
          2.4389645597664638,
          2.132048700916736,
          2.195744744593115
         ]
        },
        {
         "error_y": {
          "array": [
           0.007350004803883634,
           0.01117928539002417,
           0.013765995127769461,
           0.01093777200992065,
           0.01519741710810042,
           0.009961357855016308,
           0.007033081565790141
          ],
          "color": "rgb(0,100,246)",
          "type": "data",
          "visible": true
         },
         "line": {
          "color": "rgb(0,176,246)"
         },
         "mode": "lines+markers",
         "name": "Sim Data",
         "type": "scatter",
         "x": [
          -1.6504999999999999,
          -0.8216666666666667,
          -0.3322222222222222,
          0.031379310344827556,
          0.31399999999999995,
          0.7887500000000003,
          1.5991304347826085
         ],
         "y": [
          2.179998049317253,
          2.807290643958352,
          3.2708601324057573,
          3.2371077132296664,
          3.2783661261018895,
          2.8534319331243427,
          2.244871058925838
         ]
        },
        {
         "error_y": {
          "array": [
           0.06882472016116853,
           0.10863248456597818,
           0.10863248456597818,
           0.08446516354424752,
           0.06666666666666665,
           0.05763033956734372,
           0.043478260869565216
          ],
          "color": "rgb(0,170,80)",
          "type": "data",
          "visible": true
         },
         "line": {
          "color": "rgb(0,100,80)"
         },
         "mode": "lines+markers",
         "name": "Test Data",
         "type": "scatter",
         "x": [
          -1.6504999999999999,
          -0.8216666666666667,
          -0.3322222222222222,
          0.031379310344827556,
          0.31399999999999995,
          0.7887500000000003,
          1.5991304347826085
         ],
         "xaxis": "x2",
         "y": [
          0.1,
          0.2777777777777778,
          0.2777777777777778,
          0.7241379310344828,
          0.9333333333333333,
          0.9166666666666666,
          0.9565217391304348
         ],
         "yaxis": "y2"
        },
        {
         "error_y": {
          "array": [
           0.0011870096140959364,
           0.002513266108418136,
           0.0034808569698587893,
           0.002952556809843407,
           0.003813820920483734,
           0.0022823527908469045,
           0.0011952707929036323
          ],
          "color": "rgb(0,100,246)",
          "type": "data",
          "visible": true
         },
         "line": {
          "color": "rgb(0,176,246)"
         },
         "mode": "lines+markers",
         "name": "Sim Data",
         "type": "scatter",
         "x": [
          -1.6504999999999999,
          -0.8216666666666667,
          -0.3322222222222222,
          0.031379310344827556,
          0.31399999999999995,
          0.7887500000000003,
          1.5991304347826085
         ],
         "xaxis": "x2",
         "y": [
          0.02901015355374381,
          0.13051705905270775,
          0.31547351885098746,
          0.5023711555896506,
          0.6840051140569275,
          0.854085684430512,
          0.9659926070884975
         ],
         "yaxis": "y2"
        }
       ],
       "layout": {
        "annotations": [
         {
          "showarrow": false,
          "text": "PARAMETERS: v: 0.093, a: 0.164, θ: 0.55",
          "x": 0.01,
          "xref": "paper",
          "y": 1.12,
          "yref": "paper"
         },
         {
          "showarrow": false,
          "text": "MLE: 666.91",
          "x": 0.01,
          "xref": "paper",
          "y": 1.08,
          "yref": "paper"
         },
         {
          "font": {
           "family": "Arial, sans-serif",
           "size": 22
          },
          "showarrow": false,
          "text": "SUBJECT: 3",
          "x": 0.01,
          "xref": "paper",
          "y": 1.2,
          "yref": "paper"
         }
        ],
        "paper_bgcolor": "rgb(255,255,255)",
        "plot_bgcolor": "rgb(229,229,229)",
        "xaxis": {
         "domain": [
          0,
          0.45
         ],
         "gridcolor": "rgb(255,255,255)",
         "range": [
          -2,
          2
         ],
         "showgrid": true,
         "showline": false,
         "showticklabels": true,
         "tickcolor": "rgb(127,127,127)",
         "ticks": "outside",
         "title": "Net Value ($)",
         "zeroline": false
        },
        "xaxis2": {
         "domain": [
          0.55,
          1
         ],
         "gridcolor": "rgb(255,255,255)",
         "range": [
          -2,
          2
         ],
         "showgrid": true,
         "showline": false,
         "showticklabels": true,
         "tickcolor": "rgb(127,127,127)",
         "ticks": "outside",
         "title": "Net Value ($)",
         "zeroline": false
        },
        "yaxis1": {
         "anchor": "x1",
         "gridcolor": "rgb(255,255,255)",
         "range": [
          0
         ],
         "showgrid": true,
         "showline": false,
         "showticklabels": true,
         "tickcolor": "rgb(127,127,127)",
         "ticks": "outside",
         "title": "RT (s)",
         "zeroline": false
        },
        "yaxis2": {
         "anchor": "x2",
         "gridcolor": "rgb(255,255,255)",
         "range": [
          0
         ],
         "showgrid": true,
         "showline": false,
         "showticklabels": true,
         "tickcolor": "rgb(127,127,127)",
         "ticks": "outside",
         "title": "p (accept)",
         "zeroline": false
        }
       }
      },
      "text/html": [
       "<div id=\"eb169213-4f6e-46d8-ac65-7058fed41e1b\" style=\"height: 525px; width: 100%;\" class=\"plotly-graph-div\"></div><script type=\"text/javascript\">require([\"plotly\"], function(Plotly) { window.PLOTLYENV=window.PLOTLYENV || {};window.PLOTLYENV.BASE_URL=\"https://plot.ly\";Plotly.newPlot(\"eb169213-4f6e-46d8-ac65-7058fed41e1b\", [{\"type\": \"scatter\", \"x\": [-1.6504999999999999, -0.8216666666666667, -0.3322222222222222, 0.031379310344827556, 0.31399999999999995, 0.7887500000000003, 1.5991304347826085], \"y\": [1.6242911497538437, 2.3176755745274327, 2.431576300043768, 2.3799502586921806, 2.4389645597664638, 2.132048700916736, 2.195744744593115], \"error_y\": {\"type\": \"data\", \"array\": [0.1102701021747477, 0.32080609297211565, 0.273288008346219, 0.22112527698932793, 0.4312362408282256, 0.20907660220046495, 0.32466589321716044], \"color\": \"rgb(0,170,80)\", \"visible\": true}, \"line\": {\"color\": \"rgb(0,100,80)\"}, \"mode\": \"lines+markers\", \"name\": \"Test Data\"}, {\"type\": \"scatter\", \"x\": [-1.6504999999999999, -0.8216666666666667, -0.3322222222222222, 0.031379310344827556, 0.31399999999999995, 0.7887500000000003, 1.5991304347826085], \"y\": [2.179998049317253, 2.807290643958352, 3.2708601324057573, 3.2371077132296664, 3.2783661261018895, 2.8534319331243427, 2.244871058925838], \"error_y\": {\"type\": \"data\", \"array\": [0.007350004803883634, 0.01117928539002417, 0.013765995127769461, 0.01093777200992065, 0.01519741710810042, 0.009961357855016308, 0.007033081565790141], \"color\": \"rgb(0,100,246)\", \"visible\": true}, \"line\": {\"color\": \"rgb(0,176,246)\"}, \"mode\": \"lines+markers\", \"name\": \"Sim Data\"}, {\"type\": \"scatter\", \"x\": [-1.6504999999999999, -0.8216666666666667, -0.3322222222222222, 0.031379310344827556, 0.31399999999999995, 0.7887500000000003, 1.5991304347826085], \"y\": [0.1, 0.2777777777777778, 0.2777777777777778, 0.7241379310344828, 0.9333333333333333, 0.9166666666666666, 0.9565217391304348], \"error_y\": {\"type\": \"data\", \"array\": [0.06882472016116853, 0.10863248456597818, 0.10863248456597818, 0.08446516354424752, 0.06666666666666665, 0.05763033956734372, 0.043478260869565216], \"color\": \"rgb(0,170,80)\", \"visible\": true}, \"line\": {\"color\": \"rgb(0,100,80)\"}, \"mode\": \"lines+markers\", \"name\": \"Test Data\", \"xaxis\": \"x2\", \"yaxis\": \"y2\"}, {\"type\": \"scatter\", \"x\": [-1.6504999999999999, -0.8216666666666667, -0.3322222222222222, 0.031379310344827556, 0.31399999999999995, 0.7887500000000003, 1.5991304347826085], \"y\": [0.02901015355374381, 0.13051705905270775, 0.31547351885098746, 0.5023711555896506, 0.6840051140569275, 0.854085684430512, 0.9659926070884975], \"error_y\": {\"type\": \"data\", \"array\": [0.0011870096140959364, 0.002513266108418136, 0.0034808569698587893, 0.002952556809843407, 0.003813820920483734, 0.0022823527908469045, 0.0011952707929036323], \"color\": \"rgb(0,100,246)\", \"visible\": true}, \"line\": {\"color\": \"rgb(0,176,246)\"}, \"mode\": \"lines+markers\", \"name\": \"Sim Data\", \"xaxis\": \"x2\", \"yaxis\": \"y2\"}], {\"paper_bgcolor\": \"rgb(255,255,255)\", \"plot_bgcolor\": \"rgb(229,229,229)\", \"xaxis\": {\"gridcolor\": \"rgb(255,255,255)\", \"range\": [-2, 2], \"domain\": [0, 0.45], \"showgrid\": true, \"showline\": false, \"showticklabels\": true, \"tickcolor\": \"rgb(127,127,127)\", \"ticks\": \"outside\", \"title\": \"Net Value ($)\", \"zeroline\": false}, \"xaxis2\": {\"gridcolor\": \"rgb(255,255,255)\", \"range\": [-2, 2], \"domain\": [0.55, 1], \"showgrid\": true, \"showline\": false, \"showticklabels\": true, \"tickcolor\": \"rgb(127,127,127)\", \"ticks\": \"outside\", \"title\": \"Net Value ($)\", \"zeroline\": false}, \"yaxis1\": {\"gridcolor\": \"rgb(255,255,255)\", \"range\": [0], \"showgrid\": true, \"showline\": false, \"showticklabels\": true, \"tickcolor\": \"rgb(127,127,127)\", \"ticks\": \"outside\", \"title\": \"RT (s)\", \"anchor\": \"x1\", \"zeroline\": false}, \"yaxis2\": {\"gridcolor\": \"rgb(255,255,255)\", \"range\": [0], \"showgrid\": true, \"showline\": false, \"showticklabels\": true, \"tickcolor\": \"rgb(127,127,127)\", \"ticks\": \"outside\", \"title\": \"p (accept)\", \"anchor\": \"x2\", \"zeroline\": false}, \"annotations\": [{\"x\": 0.01, \"y\": 1.12, \"showarrow\": false, \"text\": \"PARAMETERS: v: 0.093, a: 0.164, \\u03b8: 0.55\", \"xref\": \"paper\", \"yref\": \"paper\"}, {\"x\": 0.01, \"y\": 1.08, \"showarrow\": false, \"text\": \"MLE: 666.91\", \"xref\": \"paper\", \"yref\": \"paper\"}, {\"x\": 0.01, \"y\": 1.2, \"showarrow\": false, \"text\": \"SUBJECT: 3\", \"font\": {\"family\": \"Arial, sans-serif\", \"size\": 22}, \"xref\": \"paper\", \"yref\": \"paper\"}]}, {\"showLink\": true, \"linkText\": \"Export to plot.ly\"})});</script>"
      ],
      "text/vnd.plotly.v1+html": [
       "<div id=\"eb169213-4f6e-46d8-ac65-7058fed41e1b\" style=\"height: 525px; width: 100%;\" class=\"plotly-graph-div\"></div><script type=\"text/javascript\">require([\"plotly\"], function(Plotly) { window.PLOTLYENV=window.PLOTLYENV || {};window.PLOTLYENV.BASE_URL=\"https://plot.ly\";Plotly.newPlot(\"eb169213-4f6e-46d8-ac65-7058fed41e1b\", [{\"type\": \"scatter\", \"x\": [-1.6504999999999999, -0.8216666666666667, -0.3322222222222222, 0.031379310344827556, 0.31399999999999995, 0.7887500000000003, 1.5991304347826085], \"y\": [1.6242911497538437, 2.3176755745274327, 2.431576300043768, 2.3799502586921806, 2.4389645597664638, 2.132048700916736, 2.195744744593115], \"error_y\": {\"type\": \"data\", \"array\": [0.1102701021747477, 0.32080609297211565, 0.273288008346219, 0.22112527698932793, 0.4312362408282256, 0.20907660220046495, 0.32466589321716044], \"color\": \"rgb(0,170,80)\", \"visible\": true}, \"line\": {\"color\": \"rgb(0,100,80)\"}, \"mode\": \"lines+markers\", \"name\": \"Test Data\"}, {\"type\": \"scatter\", \"x\": [-1.6504999999999999, -0.8216666666666667, -0.3322222222222222, 0.031379310344827556, 0.31399999999999995, 0.7887500000000003, 1.5991304347826085], \"y\": [2.179998049317253, 2.807290643958352, 3.2708601324057573, 3.2371077132296664, 3.2783661261018895, 2.8534319331243427, 2.244871058925838], \"error_y\": {\"type\": \"data\", \"array\": [0.007350004803883634, 0.01117928539002417, 0.013765995127769461, 0.01093777200992065, 0.01519741710810042, 0.009961357855016308, 0.007033081565790141], \"color\": \"rgb(0,100,246)\", \"visible\": true}, \"line\": {\"color\": \"rgb(0,176,246)\"}, \"mode\": \"lines+markers\", \"name\": \"Sim Data\"}, {\"type\": \"scatter\", \"x\": [-1.6504999999999999, -0.8216666666666667, -0.3322222222222222, 0.031379310344827556, 0.31399999999999995, 0.7887500000000003, 1.5991304347826085], \"y\": [0.1, 0.2777777777777778, 0.2777777777777778, 0.7241379310344828, 0.9333333333333333, 0.9166666666666666, 0.9565217391304348], \"error_y\": {\"type\": \"data\", \"array\": [0.06882472016116853, 0.10863248456597818, 0.10863248456597818, 0.08446516354424752, 0.06666666666666665, 0.05763033956734372, 0.043478260869565216], \"color\": \"rgb(0,170,80)\", \"visible\": true}, \"line\": {\"color\": \"rgb(0,100,80)\"}, \"mode\": \"lines+markers\", \"name\": \"Test Data\", \"xaxis\": \"x2\", \"yaxis\": \"y2\"}, {\"type\": \"scatter\", \"x\": [-1.6504999999999999, -0.8216666666666667, -0.3322222222222222, 0.031379310344827556, 0.31399999999999995, 0.7887500000000003, 1.5991304347826085], \"y\": [0.02901015355374381, 0.13051705905270775, 0.31547351885098746, 0.5023711555896506, 0.6840051140569275, 0.854085684430512, 0.9659926070884975], \"error_y\": {\"type\": \"data\", \"array\": [0.0011870096140959364, 0.002513266108418136, 0.0034808569698587893, 0.002952556809843407, 0.003813820920483734, 0.0022823527908469045, 0.0011952707929036323], \"color\": \"rgb(0,100,246)\", \"visible\": true}, \"line\": {\"color\": \"rgb(0,176,246)\"}, \"mode\": \"lines+markers\", \"name\": \"Sim Data\", \"xaxis\": \"x2\", \"yaxis\": \"y2\"}], {\"paper_bgcolor\": \"rgb(255,255,255)\", \"plot_bgcolor\": \"rgb(229,229,229)\", \"xaxis\": {\"gridcolor\": \"rgb(255,255,255)\", \"range\": [-2, 2], \"domain\": [0, 0.45], \"showgrid\": true, \"showline\": false, \"showticklabels\": true, \"tickcolor\": \"rgb(127,127,127)\", \"ticks\": \"outside\", \"title\": \"Net Value ($)\", \"zeroline\": false}, \"xaxis2\": {\"gridcolor\": \"rgb(255,255,255)\", \"range\": [-2, 2], \"domain\": [0.55, 1], \"showgrid\": true, \"showline\": false, \"showticklabels\": true, \"tickcolor\": \"rgb(127,127,127)\", \"ticks\": \"outside\", \"title\": \"Net Value ($)\", \"zeroline\": false}, \"yaxis1\": {\"gridcolor\": \"rgb(255,255,255)\", \"range\": [0], \"showgrid\": true, \"showline\": false, \"showticklabels\": true, \"tickcolor\": \"rgb(127,127,127)\", \"ticks\": \"outside\", \"title\": \"RT (s)\", \"anchor\": \"x1\", \"zeroline\": false}, \"yaxis2\": {\"gridcolor\": \"rgb(255,255,255)\", \"range\": [0], \"showgrid\": true, \"showline\": false, \"showticklabels\": true, \"tickcolor\": \"rgb(127,127,127)\", \"ticks\": \"outside\", \"title\": \"p (accept)\", \"anchor\": \"x2\", \"zeroline\": false}, \"annotations\": [{\"x\": 0.01, \"y\": 1.12, \"showarrow\": false, \"text\": \"PARAMETERS: v: 0.093, a: 0.164, \\u03b8: 0.55\", \"xref\": \"paper\", \"yref\": \"paper\"}, {\"x\": 0.01, \"y\": 1.08, \"showarrow\": false, \"text\": \"MLE: 666.91\", \"xref\": \"paper\", \"yref\": \"paper\"}, {\"x\": 0.01, \"y\": 1.2, \"showarrow\": false, \"text\": \"SUBJECT: 3\", \"font\": {\"family\": \"Arial, sans-serif\", \"size\": 22}, \"xref\": \"paper\", \"yref\": \"paper\"}]}, {\"showLink\": true, \"linkText\": \"Export to plot.ly\"})});</script>"
      ]
     },
     "metadata": {},
     "output_type": "display_data"
    },
    {
     "data": {
      "text/html": [
       "<script>requirejs.config({paths: { 'plotly': ['https://cdn.plot.ly/plotly-latest.min']},});if(!window.Plotly) {{require(['plotly'],function(plotly) {window.Plotly=plotly;});}}</script>"
      ],
      "text/vnd.plotly.v1+html": [
       "<script>requirejs.config({paths: { 'plotly': ['https://cdn.plot.ly/plotly-latest.min']},});if(!window.Plotly) {{require(['plotly'],function(plotly) {window.Plotly=plotly;});}}</script>"
      ]
     },
     "metadata": {},
     "output_type": "display_data"
    },
    {
     "data": {
      "application/vnd.plotly.v1+json": {
       "data": [
        {
         "error_y": {
          "array": [
           0.32129862347532606,
           0.4621315558721299,
           0.19224839363799817,
           0.3279100582633189,
           0.4583042004716843,
           0.4294987771298358,
           0.29206220534775756
          ],
          "color": "rgb(0,170,80)",
          "type": "data",
          "visible": true
         },
         "line": {
          "color": "rgb(0,100,80)"
         },
         "mode": "lines+markers",
         "name": "Test Data",
         "type": "scatter",
         "x": [
          -1.8000000000000003,
          -0.794705882352941,
          -0.30916666666666665,
          0.02689655172413791,
          0.36647058823529405,
          0.7600000000000001,
          1.8549999999999998
         ],
         "y": [
          2.7815451622314686,
          2.837450211625068,
          3.147442831504614,
          3.4559793460096695,
          3.6884238950389556,
          3.405157981194673,
          3.008541587551078
         ]
        },
        {
         "error_y": {
          "array": [
           0.010727979542169504,
           0.016826270873400856,
           0.015405563825983255,
           0.01402267516401392,
           0.01847305966157353,
           0.01698459376673196,
           0.011516658676382607
          ],
          "color": "rgb(0,100,246)",
          "type": "data",
          "visible": true
         },
         "line": {
          "color": "rgb(0,176,246)"
         },
         "mode": "lines+markers",
         "name": "Sim Data",
         "type": "scatter",
         "x": [
          -1.8000000000000003,
          -0.794705882352941,
          -0.30916666666666665,
          0.02689655172413791,
          0.36647058823529405,
          0.7600000000000001,
          1.8549999999999998
         ],
         "y": [
          3.2760060978072088,
          3.9700998652951522,
          4.3718915266453084,
          4.316731099305286,
          4.488474354030092,
          4.010873523109898,
          3.0903458866176656
         ]
        },
        {
         "error_y": {
          "array": [
           0,
           0.09530501027070383,
           0.09829463743659811,
           0.09169709590633639,
           0,
           0.058823529411764705,
           0
          ],
          "color": "rgb(0,170,80)",
          "type": "data",
          "visible": true
         },
         "line": {
          "color": "rgb(0,100,80)"
         },
         "mode": "lines+markers",
         "name": "Test Data",
         "type": "scatter",
         "x": [
          -1.8000000000000003,
          -0.794705882352941,
          -0.30916666666666665,
          0.02689655172413791,
          0.36647058823529405,
          0.7600000000000001,
          1.8549999999999998
         ],
         "xaxis": "x2",
         "y": [
          0,
          0.17647058823529413,
          0.3333333333333333,
          0.6206896551724138,
          1,
          0.9411764705882353,
          1
         ],
         "yaxis": "y2"
        },
        {
         "error_y": {
          "array": [
           0.0013317534586827287,
           0.003225868737343422,
           0.003056569326486496,
           0.003043481121316205,
           0.0037597101096875315,
           0.0030003363376012297,
           0.0012416268468395542
          ],
          "color": "rgb(0,100,246)",
          "type": "data",
          "visible": true
         },
         "line": {
          "color": "rgb(0,176,246)"
         },
         "mode": "lines+markers",
         "name": "Sim Data",
         "type": "scatter",
         "x": [
          -1.8000000000000003,
          -0.794705882352941,
          -0.30916666666666665,
          0.02689655172413791,
          0.36647058823529405,
          0.7600000000000001,
          1.8549999999999998
         ],
         "xaxis": "x2",
         "y": [
          0.046036425311957355,
          0.21705853539064413,
          0.2935717825127258,
          0.47386410075417024,
          0.6734798817328705,
          0.8208754208754209,
          0.9683818346591482
         ],
         "yaxis": "y2"
        }
       ],
       "layout": {
        "annotations": [
         {
          "showarrow": false,
          "text": "PARAMETERS: v: 0.093, a: 0.221, θ: 0.1",
          "x": 0.01,
          "xref": "paper",
          "y": 1.12,
          "yref": "paper"
         },
         {
          "showarrow": false,
          "text": "MLE: 659.51",
          "x": 0.01,
          "xref": "paper",
          "y": 1.08,
          "yref": "paper"
         },
         {
          "font": {
           "family": "Arial, sans-serif",
           "size": 22
          },
          "showarrow": false,
          "text": "SUBJECT: 4",
          "x": 0.01,
          "xref": "paper",
          "y": 1.2,
          "yref": "paper"
         }
        ],
        "paper_bgcolor": "rgb(255,255,255)",
        "plot_bgcolor": "rgb(229,229,229)",
        "xaxis": {
         "domain": [
          0,
          0.45
         ],
         "gridcolor": "rgb(255,255,255)",
         "range": [
          -2,
          2
         ],
         "showgrid": true,
         "showline": false,
         "showticklabels": true,
         "tickcolor": "rgb(127,127,127)",
         "ticks": "outside",
         "title": "Net Value ($)",
         "zeroline": false
        },
        "xaxis2": {
         "domain": [
          0.55,
          1
         ],
         "gridcolor": "rgb(255,255,255)",
         "range": [
          -2,
          2
         ],
         "showgrid": true,
         "showline": false,
         "showticklabels": true,
         "tickcolor": "rgb(127,127,127)",
         "ticks": "outside",
         "title": "Net Value ($)",
         "zeroline": false
        },
        "yaxis1": {
         "anchor": "x1",
         "gridcolor": "rgb(255,255,255)",
         "range": [
          0
         ],
         "showgrid": true,
         "showline": false,
         "showticklabels": true,
         "tickcolor": "rgb(127,127,127)",
         "ticks": "outside",
         "title": "RT (s)",
         "zeroline": false
        },
        "yaxis2": {
         "anchor": "x2",
         "gridcolor": "rgb(255,255,255)",
         "range": [
          0
         ],
         "showgrid": true,
         "showline": false,
         "showticklabels": true,
         "tickcolor": "rgb(127,127,127)",
         "ticks": "outside",
         "title": "p (accept)",
         "zeroline": false
        }
       }
      },
      "text/html": [
       "<div id=\"8fbe9e2c-b045-4c69-9ca1-b5ba62de368e\" style=\"height: 525px; width: 100%;\" class=\"plotly-graph-div\"></div><script type=\"text/javascript\">require([\"plotly\"], function(Plotly) { window.PLOTLYENV=window.PLOTLYENV || {};window.PLOTLYENV.BASE_URL=\"https://plot.ly\";Plotly.newPlot(\"8fbe9e2c-b045-4c69-9ca1-b5ba62de368e\", [{\"type\": \"scatter\", \"x\": [-1.8000000000000003, -0.794705882352941, -0.30916666666666665, 0.02689655172413791, 0.36647058823529405, 0.7600000000000001, 1.8549999999999998], \"y\": [2.7815451622314686, 2.837450211625068, 3.147442831504614, 3.4559793460096695, 3.6884238950389556, 3.405157981194673, 3.008541587551078], \"error_y\": {\"type\": \"data\", \"array\": [0.32129862347532606, 0.4621315558721299, 0.19224839363799817, 0.3279100582633189, 0.4583042004716843, 0.4294987771298358, 0.29206220534775756], \"color\": \"rgb(0,170,80)\", \"visible\": true}, \"line\": {\"color\": \"rgb(0,100,80)\"}, \"mode\": \"lines+markers\", \"name\": \"Test Data\"}, {\"type\": \"scatter\", \"x\": [-1.8000000000000003, -0.794705882352941, -0.30916666666666665, 0.02689655172413791, 0.36647058823529405, 0.7600000000000001, 1.8549999999999998], \"y\": [3.2760060978072088, 3.9700998652951522, 4.3718915266453084, 4.316731099305286, 4.488474354030092, 4.010873523109898, 3.0903458866176656], \"error_y\": {\"type\": \"data\", \"array\": [0.010727979542169504, 0.016826270873400856, 0.015405563825983255, 0.01402267516401392, 0.01847305966157353, 0.01698459376673196, 0.011516658676382607], \"color\": \"rgb(0,100,246)\", \"visible\": true}, \"line\": {\"color\": \"rgb(0,176,246)\"}, \"mode\": \"lines+markers\", \"name\": \"Sim Data\"}, {\"type\": \"scatter\", \"x\": [-1.8000000000000003, -0.794705882352941, -0.30916666666666665, 0.02689655172413791, 0.36647058823529405, 0.7600000000000001, 1.8549999999999998], \"y\": [0.0, 0.17647058823529413, 0.3333333333333333, 0.6206896551724138, 1.0, 0.9411764705882353, 1.0], \"error_y\": {\"type\": \"data\", \"array\": [0.0, 0.09530501027070383, 0.09829463743659811, 0.09169709590633639, 0.0, 0.058823529411764705, 0.0], \"color\": \"rgb(0,170,80)\", \"visible\": true}, \"line\": {\"color\": \"rgb(0,100,80)\"}, \"mode\": \"lines+markers\", \"name\": \"Test Data\", \"xaxis\": \"x2\", \"yaxis\": \"y2\"}, {\"type\": \"scatter\", \"x\": [-1.8000000000000003, -0.794705882352941, -0.30916666666666665, 0.02689655172413791, 0.36647058823529405, 0.7600000000000001, 1.8549999999999998], \"y\": [0.046036425311957355, 0.21705853539064413, 0.2935717825127258, 0.47386410075417024, 0.6734798817328705, 0.8208754208754209, 0.9683818346591482], \"error_y\": {\"type\": \"data\", \"array\": [0.0013317534586827287, 0.003225868737343422, 0.003056569326486496, 0.003043481121316205, 0.0037597101096875315, 0.0030003363376012297, 0.0012416268468395542], \"color\": \"rgb(0,100,246)\", \"visible\": true}, \"line\": {\"color\": \"rgb(0,176,246)\"}, \"mode\": \"lines+markers\", \"name\": \"Sim Data\", \"xaxis\": \"x2\", \"yaxis\": \"y2\"}], {\"paper_bgcolor\": \"rgb(255,255,255)\", \"plot_bgcolor\": \"rgb(229,229,229)\", \"xaxis\": {\"gridcolor\": \"rgb(255,255,255)\", \"range\": [-2, 2], \"domain\": [0, 0.45], \"showgrid\": true, \"showline\": false, \"showticklabels\": true, \"tickcolor\": \"rgb(127,127,127)\", \"ticks\": \"outside\", \"title\": \"Net Value ($)\", \"zeroline\": false}, \"xaxis2\": {\"gridcolor\": \"rgb(255,255,255)\", \"range\": [-2, 2], \"domain\": [0.55, 1], \"showgrid\": true, \"showline\": false, \"showticklabels\": true, \"tickcolor\": \"rgb(127,127,127)\", \"ticks\": \"outside\", \"title\": \"Net Value ($)\", \"zeroline\": false}, \"yaxis1\": {\"gridcolor\": \"rgb(255,255,255)\", \"range\": [0], \"showgrid\": true, \"showline\": false, \"showticklabels\": true, \"tickcolor\": \"rgb(127,127,127)\", \"ticks\": \"outside\", \"title\": \"RT (s)\", \"anchor\": \"x1\", \"zeroline\": false}, \"yaxis2\": {\"gridcolor\": \"rgb(255,255,255)\", \"range\": [0], \"showgrid\": true, \"showline\": false, \"showticklabels\": true, \"tickcolor\": \"rgb(127,127,127)\", \"ticks\": \"outside\", \"title\": \"p (accept)\", \"anchor\": \"x2\", \"zeroline\": false}, \"annotations\": [{\"x\": 0.01, \"y\": 1.12, \"showarrow\": false, \"text\": \"PARAMETERS: v: 0.093, a: 0.221, \\u03b8: 0.1\", \"xref\": \"paper\", \"yref\": \"paper\"}, {\"x\": 0.01, \"y\": 1.08, \"showarrow\": false, \"text\": \"MLE: 659.51\", \"xref\": \"paper\", \"yref\": \"paper\"}, {\"x\": 0.01, \"y\": 1.2, \"showarrow\": false, \"text\": \"SUBJECT: 4\", \"font\": {\"family\": \"Arial, sans-serif\", \"size\": 22}, \"xref\": \"paper\", \"yref\": \"paper\"}]}, {\"showLink\": true, \"linkText\": \"Export to plot.ly\"})});</script>"
      ],
      "text/vnd.plotly.v1+html": [
       "<div id=\"8fbe9e2c-b045-4c69-9ca1-b5ba62de368e\" style=\"height: 525px; width: 100%;\" class=\"plotly-graph-div\"></div><script type=\"text/javascript\">require([\"plotly\"], function(Plotly) { window.PLOTLYENV=window.PLOTLYENV || {};window.PLOTLYENV.BASE_URL=\"https://plot.ly\";Plotly.newPlot(\"8fbe9e2c-b045-4c69-9ca1-b5ba62de368e\", [{\"type\": \"scatter\", \"x\": [-1.8000000000000003, -0.794705882352941, -0.30916666666666665, 0.02689655172413791, 0.36647058823529405, 0.7600000000000001, 1.8549999999999998], \"y\": [2.7815451622314686, 2.837450211625068, 3.147442831504614, 3.4559793460096695, 3.6884238950389556, 3.405157981194673, 3.008541587551078], \"error_y\": {\"type\": \"data\", \"array\": [0.32129862347532606, 0.4621315558721299, 0.19224839363799817, 0.3279100582633189, 0.4583042004716843, 0.4294987771298358, 0.29206220534775756], \"color\": \"rgb(0,170,80)\", \"visible\": true}, \"line\": {\"color\": \"rgb(0,100,80)\"}, \"mode\": \"lines+markers\", \"name\": \"Test Data\"}, {\"type\": \"scatter\", \"x\": [-1.8000000000000003, -0.794705882352941, -0.30916666666666665, 0.02689655172413791, 0.36647058823529405, 0.7600000000000001, 1.8549999999999998], \"y\": [3.2760060978072088, 3.9700998652951522, 4.3718915266453084, 4.316731099305286, 4.488474354030092, 4.010873523109898, 3.0903458866176656], \"error_y\": {\"type\": \"data\", \"array\": [0.010727979542169504, 0.016826270873400856, 0.015405563825983255, 0.01402267516401392, 0.01847305966157353, 0.01698459376673196, 0.011516658676382607], \"color\": \"rgb(0,100,246)\", \"visible\": true}, \"line\": {\"color\": \"rgb(0,176,246)\"}, \"mode\": \"lines+markers\", \"name\": \"Sim Data\"}, {\"type\": \"scatter\", \"x\": [-1.8000000000000003, -0.794705882352941, -0.30916666666666665, 0.02689655172413791, 0.36647058823529405, 0.7600000000000001, 1.8549999999999998], \"y\": [0.0, 0.17647058823529413, 0.3333333333333333, 0.6206896551724138, 1.0, 0.9411764705882353, 1.0], \"error_y\": {\"type\": \"data\", \"array\": [0.0, 0.09530501027070383, 0.09829463743659811, 0.09169709590633639, 0.0, 0.058823529411764705, 0.0], \"color\": \"rgb(0,170,80)\", \"visible\": true}, \"line\": {\"color\": \"rgb(0,100,80)\"}, \"mode\": \"lines+markers\", \"name\": \"Test Data\", \"xaxis\": \"x2\", \"yaxis\": \"y2\"}, {\"type\": \"scatter\", \"x\": [-1.8000000000000003, -0.794705882352941, -0.30916666666666665, 0.02689655172413791, 0.36647058823529405, 0.7600000000000001, 1.8549999999999998], \"y\": [0.046036425311957355, 0.21705853539064413, 0.2935717825127258, 0.47386410075417024, 0.6734798817328705, 0.8208754208754209, 0.9683818346591482], \"error_y\": {\"type\": \"data\", \"array\": [0.0013317534586827287, 0.003225868737343422, 0.003056569326486496, 0.003043481121316205, 0.0037597101096875315, 0.0030003363376012297, 0.0012416268468395542], \"color\": \"rgb(0,100,246)\", \"visible\": true}, \"line\": {\"color\": \"rgb(0,176,246)\"}, \"mode\": \"lines+markers\", \"name\": \"Sim Data\", \"xaxis\": \"x2\", \"yaxis\": \"y2\"}], {\"paper_bgcolor\": \"rgb(255,255,255)\", \"plot_bgcolor\": \"rgb(229,229,229)\", \"xaxis\": {\"gridcolor\": \"rgb(255,255,255)\", \"range\": [-2, 2], \"domain\": [0, 0.45], \"showgrid\": true, \"showline\": false, \"showticklabels\": true, \"tickcolor\": \"rgb(127,127,127)\", \"ticks\": \"outside\", \"title\": \"Net Value ($)\", \"zeroline\": false}, \"xaxis2\": {\"gridcolor\": \"rgb(255,255,255)\", \"range\": [-2, 2], \"domain\": [0.55, 1], \"showgrid\": true, \"showline\": false, \"showticklabels\": true, \"tickcolor\": \"rgb(127,127,127)\", \"ticks\": \"outside\", \"title\": \"Net Value ($)\", \"zeroline\": false}, \"yaxis1\": {\"gridcolor\": \"rgb(255,255,255)\", \"range\": [0], \"showgrid\": true, \"showline\": false, \"showticklabels\": true, \"tickcolor\": \"rgb(127,127,127)\", \"ticks\": \"outside\", \"title\": \"RT (s)\", \"anchor\": \"x1\", \"zeroline\": false}, \"yaxis2\": {\"gridcolor\": \"rgb(255,255,255)\", \"range\": [0], \"showgrid\": true, \"showline\": false, \"showticklabels\": true, \"tickcolor\": \"rgb(127,127,127)\", \"ticks\": \"outside\", \"title\": \"p (accept)\", \"anchor\": \"x2\", \"zeroline\": false}, \"annotations\": [{\"x\": 0.01, \"y\": 1.12, \"showarrow\": false, \"text\": \"PARAMETERS: v: 0.093, a: 0.221, \\u03b8: 0.1\", \"xref\": \"paper\", \"yref\": \"paper\"}, {\"x\": 0.01, \"y\": 1.08, \"showarrow\": false, \"text\": \"MLE: 659.51\", \"xref\": \"paper\", \"yref\": \"paper\"}, {\"x\": 0.01, \"y\": 1.2, \"showarrow\": false, \"text\": \"SUBJECT: 4\", \"font\": {\"family\": \"Arial, sans-serif\", \"size\": 22}, \"xref\": \"paper\", \"yref\": \"paper\"}]}, {\"showLink\": true, \"linkText\": \"Export to plot.ly\"})});</script>"
      ]
     },
     "metadata": {},
     "output_type": "display_data"
    },
    {
     "data": {
      "text/html": [
       "<script>requirejs.config({paths: { 'plotly': ['https://cdn.plot.ly/plotly-latest.min']},});if(!window.Plotly) {{require(['plotly'],function(plotly) {window.Plotly=plotly;});}}</script>"
      ],
      "text/vnd.plotly.v1+html": [
       "<script>requirejs.config({paths: { 'plotly': ['https://cdn.plot.ly/plotly-latest.min']},});if(!window.Plotly) {{require(['plotly'],function(plotly) {window.Plotly=plotly;});}}</script>"
      ]
     },
     "metadata": {},
     "output_type": "display_data"
    },
    {
     "data": {
      "application/vnd.plotly.v1+json": {
       "data": [
        {
         "error_y": {
          "array": [
           0.43652290284311895,
           0.4588543594408193,
           0.6510247468906654,
           0.4874124659011055,
           0.5617907614621263,
           0.5107022575949373,
           0.36889572077866983
          ],
          "color": "rgb(0,170,80)",
          "type": "data",
          "visible": true
         },
         "line": {
          "color": "rgb(0,100,80)"
         },
         "mode": "lines+markers",
         "name": "Test Data",
         "type": "scatter",
         "x": [
          -1.4966666666666668,
          -0.783846153846154,
          -0.30333333333333334,
          0.03388888888888884,
          0.2921052631578947,
          0.8042105263157895,
          1.7595652173913043
         ],
         "y": [
          3.423899667376167,
          3.401024153188212,
          4.407860365049903,
          3.541552219000348,
          5.122741953856109,
          3.9032685718492233,
          3.2135488630439952
         ]
        },
        {
         "error_y": {
          "array": [
           0.018341972327179965,
           0.021701498469249306,
           0.020421464131375553,
           0.018664610505949943,
           0.017967227433871514,
           0.018035818267479894,
           0.01623244132226165
          ],
          "color": "rgb(0,100,246)",
          "type": "data",
          "visible": true
         },
         "line": {
          "color": "rgb(0,176,246)"
         },
         "mode": "lines+markers",
         "name": "Sim Data",
         "type": "scatter",
         "x": [
          -1.4966666666666668,
          -0.783846153846154,
          -0.30333333333333334,
          0.03388888888888884,
          0.2921052631578947,
          0.8042105263157895,
          1.7595652173913043
         ],
         "y": [
          4.615903993098387,
          4.684301440773031,
          4.684656855383684,
          4.69044580789831,
          4.6490115017105245,
          4.687305996472669,
          4.625856449675732
         ]
        },
        {
         "error_y": {
          "array": [
           0.05555555555555556,
           0.13323467750529824,
           0.06666666666666665,
           0.1086324845659782,
           0.1176877882894626,
           0.0723351864143449,
           0.08081046758996394
          ],
          "color": "rgb(0,170,80)",
          "type": "data",
          "visible": true
         },
         "line": {
          "color": "rgb(0,100,80)"
         },
         "mode": "lines+markers",
         "name": "Test Data",
         "type": "scatter",
         "x": [
          -1.4966666666666668,
          -0.783846153846154,
          -0.30333333333333334,
          0.03388888888888884,
          0.2921052631578947,
          0.8042105263157895,
          1.7595652173913043
         ],
         "xaxis": "x2",
         "y": [
          0.05555555555555555,
          0.3076923076923077,
          0.06666666666666667,
          0.7222222222222222,
          0.47368421052631576,
          0.8947368421052632,
          0.8260869565217391
         ],
         "yaxis": "y2"
        },
        {
         "error_y": {
          "array": [
           0.0037554077349487135,
           0.00459398366490959,
           0.004319601687272362,
           0.003946315289988327,
           0.0038325387393536646,
           0.0037841852347623877,
           0.0032802991208537528
          ],
          "color": "rgb(0,100,246)",
          "type": "data",
          "visible": true
         },
         "line": {
          "color": "rgb(0,176,246)"
         },
         "mode": "lines+markers",
         "name": "Sim Data",
         "type": "scatter",
         "x": [
          -1.4966666666666668,
          -0.783846153846154,
          -0.30333333333333334,
          0.03388888888888884,
          0.2921052631578947,
          0.8042105263157895,
          1.7595652173913043
         ],
         "xaxis": "x2",
         "y": [
          0.35457234409662314,
          0.4265378310758347,
          0.4610301847124193,
          0.5003737386321166,
          0.5314380087295033,
          0.5801881246325691,
          0.6613499879894307
         ],
         "yaxis": "y2"
        }
       ],
       "layout": {
        "annotations": [
         {
          "showarrow": false,
          "text": "PARAMETERS: v: 0.01, a: 0.221, θ: 0.775",
          "x": 0.01,
          "xref": "paper",
          "y": 1.12,
          "yref": "paper"
         },
         {
          "showarrow": false,
          "text": "MLE: 775.5",
          "x": 0.01,
          "xref": "paper",
          "y": 1.08,
          "yref": "paper"
         },
         {
          "font": {
           "family": "Arial, sans-serif",
           "size": 22
          },
          "showarrow": false,
          "text": "SUBJECT: 5",
          "x": 0.01,
          "xref": "paper",
          "y": 1.2,
          "yref": "paper"
         }
        ],
        "paper_bgcolor": "rgb(255,255,255)",
        "plot_bgcolor": "rgb(229,229,229)",
        "xaxis": {
         "domain": [
          0,
          0.45
         ],
         "gridcolor": "rgb(255,255,255)",
         "range": [
          -2,
          2
         ],
         "showgrid": true,
         "showline": false,
         "showticklabels": true,
         "tickcolor": "rgb(127,127,127)",
         "ticks": "outside",
         "title": "Net Value ($)",
         "zeroline": false
        },
        "xaxis2": {
         "domain": [
          0.55,
          1
         ],
         "gridcolor": "rgb(255,255,255)",
         "range": [
          -2,
          2
         ],
         "showgrid": true,
         "showline": false,
         "showticklabels": true,
         "tickcolor": "rgb(127,127,127)",
         "ticks": "outside",
         "title": "Net Value ($)",
         "zeroline": false
        },
        "yaxis1": {
         "anchor": "x1",
         "gridcolor": "rgb(255,255,255)",
         "range": [
          0
         ],
         "showgrid": true,
         "showline": false,
         "showticklabels": true,
         "tickcolor": "rgb(127,127,127)",
         "ticks": "outside",
         "title": "RT (s)",
         "zeroline": false
        },
        "yaxis2": {
         "anchor": "x2",
         "gridcolor": "rgb(255,255,255)",
         "range": [
          0
         ],
         "showgrid": true,
         "showline": false,
         "showticklabels": true,
         "tickcolor": "rgb(127,127,127)",
         "ticks": "outside",
         "title": "p (accept)",
         "zeroline": false
        }
       }
      },
      "text/html": [
       "<div id=\"c89f059b-2fc8-4621-a845-ea0a9ec04f6e\" style=\"height: 525px; width: 100%;\" class=\"plotly-graph-div\"></div><script type=\"text/javascript\">require([\"plotly\"], function(Plotly) { window.PLOTLYENV=window.PLOTLYENV || {};window.PLOTLYENV.BASE_URL=\"https://plot.ly\";Plotly.newPlot(\"c89f059b-2fc8-4621-a845-ea0a9ec04f6e\", [{\"type\": \"scatter\", \"x\": [-1.4966666666666668, -0.783846153846154, -0.30333333333333334, 0.03388888888888884, 0.2921052631578947, 0.8042105263157895, 1.7595652173913043], \"y\": [3.423899667376167, 3.401024153188212, 4.407860365049903, 3.541552219000348, 5.122741953856109, 3.9032685718492233, 3.2135488630439952], \"error_y\": {\"type\": \"data\", \"array\": [0.43652290284311895, 0.4588543594408193, 0.6510247468906654, 0.4874124659011055, 0.5617907614621263, 0.5107022575949373, 0.36889572077866983], \"color\": \"rgb(0,170,80)\", \"visible\": true}, \"line\": {\"color\": \"rgb(0,100,80)\"}, \"mode\": \"lines+markers\", \"name\": \"Test Data\"}, {\"type\": \"scatter\", \"x\": [-1.4966666666666668, -0.783846153846154, -0.30333333333333334, 0.03388888888888884, 0.2921052631578947, 0.8042105263157895, 1.7595652173913043], \"y\": [4.615903993098387, 4.684301440773031, 4.684656855383684, 4.69044580789831, 4.6490115017105245, 4.687305996472669, 4.625856449675732], \"error_y\": {\"type\": \"data\", \"array\": [0.018341972327179965, 0.021701498469249306, 0.020421464131375553, 0.018664610505949943, 0.017967227433871514, 0.018035818267479894, 0.01623244132226165], \"color\": \"rgb(0,100,246)\", \"visible\": true}, \"line\": {\"color\": \"rgb(0,176,246)\"}, \"mode\": \"lines+markers\", \"name\": \"Sim Data\"}, {\"type\": \"scatter\", \"x\": [-1.4966666666666668, -0.783846153846154, -0.30333333333333334, 0.03388888888888884, 0.2921052631578947, 0.8042105263157895, 1.7595652173913043], \"y\": [0.05555555555555555, 0.3076923076923077, 0.06666666666666667, 0.7222222222222222, 0.47368421052631576, 0.8947368421052632, 0.8260869565217391], \"error_y\": {\"type\": \"data\", \"array\": [0.05555555555555556, 0.13323467750529824, 0.06666666666666665, 0.1086324845659782, 0.1176877882894626, 0.0723351864143449, 0.08081046758996394], \"color\": \"rgb(0,170,80)\", \"visible\": true}, \"line\": {\"color\": \"rgb(0,100,80)\"}, \"mode\": \"lines+markers\", \"name\": \"Test Data\", \"xaxis\": \"x2\", \"yaxis\": \"y2\"}, {\"type\": \"scatter\", \"x\": [-1.4966666666666668, -0.783846153846154, -0.30333333333333334, 0.03388888888888884, 0.2921052631578947, 0.8042105263157895, 1.7595652173913043], \"y\": [0.35457234409662314, 0.4265378310758347, 0.4610301847124193, 0.5003737386321166, 0.5314380087295033, 0.5801881246325691, 0.6613499879894307], \"error_y\": {\"type\": \"data\", \"array\": [0.0037554077349487135, 0.00459398366490959, 0.004319601687272362, 0.003946315289988327, 0.0038325387393536646, 0.0037841852347623877, 0.0032802991208537528], \"color\": \"rgb(0,100,246)\", \"visible\": true}, \"line\": {\"color\": \"rgb(0,176,246)\"}, \"mode\": \"lines+markers\", \"name\": \"Sim Data\", \"xaxis\": \"x2\", \"yaxis\": \"y2\"}], {\"paper_bgcolor\": \"rgb(255,255,255)\", \"plot_bgcolor\": \"rgb(229,229,229)\", \"xaxis\": {\"gridcolor\": \"rgb(255,255,255)\", \"range\": [-2, 2], \"domain\": [0, 0.45], \"showgrid\": true, \"showline\": false, \"showticklabels\": true, \"tickcolor\": \"rgb(127,127,127)\", \"ticks\": \"outside\", \"title\": \"Net Value ($)\", \"zeroline\": false}, \"xaxis2\": {\"gridcolor\": \"rgb(255,255,255)\", \"range\": [-2, 2], \"domain\": [0.55, 1], \"showgrid\": true, \"showline\": false, \"showticklabels\": true, \"tickcolor\": \"rgb(127,127,127)\", \"ticks\": \"outside\", \"title\": \"Net Value ($)\", \"zeroline\": false}, \"yaxis1\": {\"gridcolor\": \"rgb(255,255,255)\", \"range\": [0], \"showgrid\": true, \"showline\": false, \"showticklabels\": true, \"tickcolor\": \"rgb(127,127,127)\", \"ticks\": \"outside\", \"title\": \"RT (s)\", \"anchor\": \"x1\", \"zeroline\": false}, \"yaxis2\": {\"gridcolor\": \"rgb(255,255,255)\", \"range\": [0], \"showgrid\": true, \"showline\": false, \"showticklabels\": true, \"tickcolor\": \"rgb(127,127,127)\", \"ticks\": \"outside\", \"title\": \"p (accept)\", \"anchor\": \"x2\", \"zeroline\": false}, \"annotations\": [{\"x\": 0.01, \"y\": 1.12, \"showarrow\": false, \"text\": \"PARAMETERS: v: 0.01, a: 0.221, \\u03b8: 0.775\", \"xref\": \"paper\", \"yref\": \"paper\"}, {\"x\": 0.01, \"y\": 1.08, \"showarrow\": false, \"text\": \"MLE: 775.5\", \"xref\": \"paper\", \"yref\": \"paper\"}, {\"x\": 0.01, \"y\": 1.2, \"showarrow\": false, \"text\": \"SUBJECT: 5\", \"font\": {\"family\": \"Arial, sans-serif\", \"size\": 22}, \"xref\": \"paper\", \"yref\": \"paper\"}]}, {\"showLink\": true, \"linkText\": \"Export to plot.ly\"})});</script>"
      ],
      "text/vnd.plotly.v1+html": [
       "<div id=\"c89f059b-2fc8-4621-a845-ea0a9ec04f6e\" style=\"height: 525px; width: 100%;\" class=\"plotly-graph-div\"></div><script type=\"text/javascript\">require([\"plotly\"], function(Plotly) { window.PLOTLYENV=window.PLOTLYENV || {};window.PLOTLYENV.BASE_URL=\"https://plot.ly\";Plotly.newPlot(\"c89f059b-2fc8-4621-a845-ea0a9ec04f6e\", [{\"type\": \"scatter\", \"x\": [-1.4966666666666668, -0.783846153846154, -0.30333333333333334, 0.03388888888888884, 0.2921052631578947, 0.8042105263157895, 1.7595652173913043], \"y\": [3.423899667376167, 3.401024153188212, 4.407860365049903, 3.541552219000348, 5.122741953856109, 3.9032685718492233, 3.2135488630439952], \"error_y\": {\"type\": \"data\", \"array\": [0.43652290284311895, 0.4588543594408193, 0.6510247468906654, 0.4874124659011055, 0.5617907614621263, 0.5107022575949373, 0.36889572077866983], \"color\": \"rgb(0,170,80)\", \"visible\": true}, \"line\": {\"color\": \"rgb(0,100,80)\"}, \"mode\": \"lines+markers\", \"name\": \"Test Data\"}, {\"type\": \"scatter\", \"x\": [-1.4966666666666668, -0.783846153846154, -0.30333333333333334, 0.03388888888888884, 0.2921052631578947, 0.8042105263157895, 1.7595652173913043], \"y\": [4.615903993098387, 4.684301440773031, 4.684656855383684, 4.69044580789831, 4.6490115017105245, 4.687305996472669, 4.625856449675732], \"error_y\": {\"type\": \"data\", \"array\": [0.018341972327179965, 0.021701498469249306, 0.020421464131375553, 0.018664610505949943, 0.017967227433871514, 0.018035818267479894, 0.01623244132226165], \"color\": \"rgb(0,100,246)\", \"visible\": true}, \"line\": {\"color\": \"rgb(0,176,246)\"}, \"mode\": \"lines+markers\", \"name\": \"Sim Data\"}, {\"type\": \"scatter\", \"x\": [-1.4966666666666668, -0.783846153846154, -0.30333333333333334, 0.03388888888888884, 0.2921052631578947, 0.8042105263157895, 1.7595652173913043], \"y\": [0.05555555555555555, 0.3076923076923077, 0.06666666666666667, 0.7222222222222222, 0.47368421052631576, 0.8947368421052632, 0.8260869565217391], \"error_y\": {\"type\": \"data\", \"array\": [0.05555555555555556, 0.13323467750529824, 0.06666666666666665, 0.1086324845659782, 0.1176877882894626, 0.0723351864143449, 0.08081046758996394], \"color\": \"rgb(0,170,80)\", \"visible\": true}, \"line\": {\"color\": \"rgb(0,100,80)\"}, \"mode\": \"lines+markers\", \"name\": \"Test Data\", \"xaxis\": \"x2\", \"yaxis\": \"y2\"}, {\"type\": \"scatter\", \"x\": [-1.4966666666666668, -0.783846153846154, -0.30333333333333334, 0.03388888888888884, 0.2921052631578947, 0.8042105263157895, 1.7595652173913043], \"y\": [0.35457234409662314, 0.4265378310758347, 0.4610301847124193, 0.5003737386321166, 0.5314380087295033, 0.5801881246325691, 0.6613499879894307], \"error_y\": {\"type\": \"data\", \"array\": [0.0037554077349487135, 0.00459398366490959, 0.004319601687272362, 0.003946315289988327, 0.0038325387393536646, 0.0037841852347623877, 0.0032802991208537528], \"color\": \"rgb(0,100,246)\", \"visible\": true}, \"line\": {\"color\": \"rgb(0,176,246)\"}, \"mode\": \"lines+markers\", \"name\": \"Sim Data\", \"xaxis\": \"x2\", \"yaxis\": \"y2\"}], {\"paper_bgcolor\": \"rgb(255,255,255)\", \"plot_bgcolor\": \"rgb(229,229,229)\", \"xaxis\": {\"gridcolor\": \"rgb(255,255,255)\", \"range\": [-2, 2], \"domain\": [0, 0.45], \"showgrid\": true, \"showline\": false, \"showticklabels\": true, \"tickcolor\": \"rgb(127,127,127)\", \"ticks\": \"outside\", \"title\": \"Net Value ($)\", \"zeroline\": false}, \"xaxis2\": {\"gridcolor\": \"rgb(255,255,255)\", \"range\": [-2, 2], \"domain\": [0.55, 1], \"showgrid\": true, \"showline\": false, \"showticklabels\": true, \"tickcolor\": \"rgb(127,127,127)\", \"ticks\": \"outside\", \"title\": \"Net Value ($)\", \"zeroline\": false}, \"yaxis1\": {\"gridcolor\": \"rgb(255,255,255)\", \"range\": [0], \"showgrid\": true, \"showline\": false, \"showticklabels\": true, \"tickcolor\": \"rgb(127,127,127)\", \"ticks\": \"outside\", \"title\": \"RT (s)\", \"anchor\": \"x1\", \"zeroline\": false}, \"yaxis2\": {\"gridcolor\": \"rgb(255,255,255)\", \"range\": [0], \"showgrid\": true, \"showline\": false, \"showticklabels\": true, \"tickcolor\": \"rgb(127,127,127)\", \"ticks\": \"outside\", \"title\": \"p (accept)\", \"anchor\": \"x2\", \"zeroline\": false}, \"annotations\": [{\"x\": 0.01, \"y\": 1.12, \"showarrow\": false, \"text\": \"PARAMETERS: v: 0.01, a: 0.221, \\u03b8: 0.775\", \"xref\": \"paper\", \"yref\": \"paper\"}, {\"x\": 0.01, \"y\": 1.08, \"showarrow\": false, \"text\": \"MLE: 775.5\", \"xref\": \"paper\", \"yref\": \"paper\"}, {\"x\": 0.01, \"y\": 1.2, \"showarrow\": false, \"text\": \"SUBJECT: 5\", \"font\": {\"family\": \"Arial, sans-serif\", \"size\": 22}, \"xref\": \"paper\", \"yref\": \"paper\"}]}, {\"showLink\": true, \"linkText\": \"Export to plot.ly\"})});</script>"
      ]
     },
     "metadata": {},
     "output_type": "display_data"
    },
    {
     "data": {
      "text/html": [
       "<script>requirejs.config({paths: { 'plotly': ['https://cdn.plot.ly/plotly-latest.min']},});if(!window.Plotly) {{require(['plotly'],function(plotly) {window.Plotly=plotly;});}}</script>"
      ],
      "text/vnd.plotly.v1+html": [
       "<script>requirejs.config({paths: { 'plotly': ['https://cdn.plot.ly/plotly-latest.min']},});if(!window.Plotly) {{require(['plotly'],function(plotly) {window.Plotly=plotly;});}}</script>"
      ]
     },
     "metadata": {},
     "output_type": "display_data"
    },
    {
     "data": {
      "application/vnd.plotly.v1+json": {
       "data": [
        {
         "error_y": {
          "array": [
           0.45266461126802543,
           0.5820686014296277,
           0.2925565576390161,
           0.38239940827710045,
           0.37396278789496307,
           0.3540266022245862,
           0.29760271919607933
          ],
          "color": "rgb(0,170,80)",
          "type": "data",
          "visible": true
         },
         "line": {
          "color": "rgb(0,100,80)"
         },
         "mode": "lines+markers",
         "name": "Test Data",
         "type": "scatter",
         "x": [
          -1.5533333333333337,
          -0.8073333333333333,
          -0.2930434782608696,
          0.018999999999999972,
          0.2958333333333334,
          0.7423809523809526,
          1.5522222222222217
         ],
         "y": [
          3.4658348341654346,
          4.5258351827066985,
          4.0977258159384835,
          4.511248517947024,
          3.7386210568985607,
          3.5870816074018967,
          3.2126224060278523
         ]
        },
        {
         "error_y": {
          "array": [
           0.0200932220530835,
           0.020359038987522837,
           0.01660035709970241,
           0.01763776053673017,
           0.016111296836452436,
           0.017160441736766452,
           0.014996847905892098
          ],
          "color": "rgb(0,100,246)",
          "type": "data",
          "visible": true
         },
         "line": {
          "color": "rgb(0,176,246)"
         },
         "mode": "lines+markers",
         "name": "Sim Data",
         "type": "scatter",
         "x": [
          -1.5533333333333337,
          -0.8073333333333333,
          -0.2930434782608696,
          0.018999999999999972,
          0.2958333333333334,
          0.7423809523809526,
          1.5522222222222217
         ],
         "y": [
          4.620071244192054,
          4.711865756879011,
          4.700160472149053,
          4.691084000223816,
          4.682822430774929,
          4.662187686408172,
          4.620685536394549
         ]
        },
        {
         "error_y": {
          "array": [
           0,
           0.06666666666666665,
           0.0981001869248289,
           0.11413288653790231,
           0.0902893898143269,
           0.06563832739090582,
           0.037037037037037035
          ],
          "color": "rgb(0,170,80)",
          "type": "data",
          "visible": true
         },
         "line": {
          "color": "rgb(0,100,80)"
         },
         "mode": "lines+markers",
         "name": "Test Data",
         "type": "scatter",
         "x": [
          -1.5533333333333337,
          -0.8073333333333333,
          -0.2930434782608696,
          0.018999999999999972,
          0.2958333333333334,
          0.7423809523809526,
          1.5522222222222217
         ],
         "xaxis": "x2",
         "y": [
          0,
          0.06666666666666667,
          0.30434782608695654,
          0.55,
          0.75,
          0.9047619047619048,
          0.9629629629629629
         ],
         "yaxis": "y2"
        },
        {
         "error_y": {
          "array": [
           0.0040702141990279425,
           0.004233846950172476,
           0.0034855697361065373,
           0.0037405183268434993,
           0.003400911529812688,
           0.0036058091291522954,
           0.0030186268961722353
          ],
          "color": "rgb(0,100,246)",
          "type": "data",
          "visible": true
         },
         "line": {
          "color": "rgb(0,176,246)"
         },
         "mode": "lines+markers",
         "name": "Sim Data",
         "type": "scatter",
         "x": [
          -1.5533333333333337,
          -0.8073333333333333,
          -0.2930434782608696,
          0.018999999999999972,
          0.2958333333333334,
          0.7423809523809526,
          1.5522222222222217
         ],
         "xaxis": "x2",
         "y": [
          0.34065934065934067,
          0.4087369279833865,
          0.46951516925178033,
          0.5005316469864011,
          0.5325682958557889,
          0.5767469109501491,
          0.6659976242166059
         ],
         "yaxis": "y2"
        }
       ],
       "layout": {
        "annotations": [
         {
          "showarrow": false,
          "text": "PARAMETERS: v: 0.01, a: 0.221, θ: 1.0",
          "x": 0.01,
          "xref": "paper",
          "y": 1.12,
          "yref": "paper"
         },
         {
          "showarrow": false,
          "text": "MLE: 710.69",
          "x": 0.01,
          "xref": "paper",
          "y": 1.08,
          "yref": "paper"
         },
         {
          "font": {
           "family": "Arial, sans-serif",
           "size": 22
          },
          "showarrow": false,
          "text": "SUBJECT: 6",
          "x": 0.01,
          "xref": "paper",
          "y": 1.2,
          "yref": "paper"
         }
        ],
        "paper_bgcolor": "rgb(255,255,255)",
        "plot_bgcolor": "rgb(229,229,229)",
        "xaxis": {
         "domain": [
          0,
          0.45
         ],
         "gridcolor": "rgb(255,255,255)",
         "range": [
          -2,
          2
         ],
         "showgrid": true,
         "showline": false,
         "showticklabels": true,
         "tickcolor": "rgb(127,127,127)",
         "ticks": "outside",
         "title": "Net Value ($)",
         "zeroline": false
        },
        "xaxis2": {
         "domain": [
          0.55,
          1
         ],
         "gridcolor": "rgb(255,255,255)",
         "range": [
          -2,
          2
         ],
         "showgrid": true,
         "showline": false,
         "showticklabels": true,
         "tickcolor": "rgb(127,127,127)",
         "ticks": "outside",
         "title": "Net Value ($)",
         "zeroline": false
        },
        "yaxis1": {
         "anchor": "x1",
         "gridcolor": "rgb(255,255,255)",
         "range": [
          0
         ],
         "showgrid": true,
         "showline": false,
         "showticklabels": true,
         "tickcolor": "rgb(127,127,127)",
         "ticks": "outside",
         "title": "RT (s)",
         "zeroline": false
        },
        "yaxis2": {
         "anchor": "x2",
         "gridcolor": "rgb(255,255,255)",
         "range": [
          0
         ],
         "showgrid": true,
         "showline": false,
         "showticklabels": true,
         "tickcolor": "rgb(127,127,127)",
         "ticks": "outside",
         "title": "p (accept)",
         "zeroline": false
        }
       }
      },
      "text/html": [
       "<div id=\"c67af6c5-d2dd-41ae-b206-e1925c35db2f\" style=\"height: 525px; width: 100%;\" class=\"plotly-graph-div\"></div><script type=\"text/javascript\">require([\"plotly\"], function(Plotly) { window.PLOTLYENV=window.PLOTLYENV || {};window.PLOTLYENV.BASE_URL=\"https://plot.ly\";Plotly.newPlot(\"c67af6c5-d2dd-41ae-b206-e1925c35db2f\", [{\"type\": \"scatter\", \"x\": [-1.5533333333333337, -0.8073333333333333, -0.2930434782608696, 0.018999999999999972, 0.2958333333333334, 0.7423809523809526, 1.5522222222222217], \"y\": [3.4658348341654346, 4.5258351827066985, 4.0977258159384835, 4.511248517947024, 3.7386210568985607, 3.5870816074018967, 3.2126224060278523], \"error_y\": {\"type\": \"data\", \"array\": [0.45266461126802543, 0.5820686014296277, 0.2925565576390161, 0.38239940827710045, 0.37396278789496307, 0.3540266022245862, 0.29760271919607933], \"color\": \"rgb(0,170,80)\", \"visible\": true}, \"line\": {\"color\": \"rgb(0,100,80)\"}, \"mode\": \"lines+markers\", \"name\": \"Test Data\"}, {\"type\": \"scatter\", \"x\": [-1.5533333333333337, -0.8073333333333333, -0.2930434782608696, 0.018999999999999972, 0.2958333333333334, 0.7423809523809526, 1.5522222222222217], \"y\": [4.620071244192054, 4.711865756879011, 4.700160472149053, 4.691084000223816, 4.682822430774929, 4.662187686408172, 4.620685536394549], \"error_y\": {\"type\": \"data\", \"array\": [0.0200932220530835, 0.020359038987522837, 0.01660035709970241, 0.01763776053673017, 0.016111296836452436, 0.017160441736766452, 0.014996847905892098], \"color\": \"rgb(0,100,246)\", \"visible\": true}, \"line\": {\"color\": \"rgb(0,176,246)\"}, \"mode\": \"lines+markers\", \"name\": \"Sim Data\"}, {\"type\": \"scatter\", \"x\": [-1.5533333333333337, -0.8073333333333333, -0.2930434782608696, 0.018999999999999972, 0.2958333333333334, 0.7423809523809526, 1.5522222222222217], \"y\": [0.0, 0.06666666666666667, 0.30434782608695654, 0.55, 0.75, 0.9047619047619048, 0.9629629629629629], \"error_y\": {\"type\": \"data\", \"array\": [0.0, 0.06666666666666665, 0.0981001869248289, 0.11413288653790231, 0.0902893898143269, 0.06563832739090582, 0.037037037037037035], \"color\": \"rgb(0,170,80)\", \"visible\": true}, \"line\": {\"color\": \"rgb(0,100,80)\"}, \"mode\": \"lines+markers\", \"name\": \"Test Data\", \"xaxis\": \"x2\", \"yaxis\": \"y2\"}, {\"type\": \"scatter\", \"x\": [-1.5533333333333337, -0.8073333333333333, -0.2930434782608696, 0.018999999999999972, 0.2958333333333334, 0.7423809523809526, 1.5522222222222217], \"y\": [0.34065934065934067, 0.4087369279833865, 0.46951516925178033, 0.5005316469864011, 0.5325682958557889, 0.5767469109501491, 0.6659976242166059], \"error_y\": {\"type\": \"data\", \"array\": [0.0040702141990279425, 0.004233846950172476, 0.0034855697361065373, 0.0037405183268434993, 0.003400911529812688, 0.0036058091291522954, 0.0030186268961722353], \"color\": \"rgb(0,100,246)\", \"visible\": true}, \"line\": {\"color\": \"rgb(0,176,246)\"}, \"mode\": \"lines+markers\", \"name\": \"Sim Data\", \"xaxis\": \"x2\", \"yaxis\": \"y2\"}], {\"paper_bgcolor\": \"rgb(255,255,255)\", \"plot_bgcolor\": \"rgb(229,229,229)\", \"xaxis\": {\"gridcolor\": \"rgb(255,255,255)\", \"range\": [-2, 2], \"domain\": [0, 0.45], \"showgrid\": true, \"showline\": false, \"showticklabels\": true, \"tickcolor\": \"rgb(127,127,127)\", \"ticks\": \"outside\", \"title\": \"Net Value ($)\", \"zeroline\": false}, \"xaxis2\": {\"gridcolor\": \"rgb(255,255,255)\", \"range\": [-2, 2], \"domain\": [0.55, 1], \"showgrid\": true, \"showline\": false, \"showticklabels\": true, \"tickcolor\": \"rgb(127,127,127)\", \"ticks\": \"outside\", \"title\": \"Net Value ($)\", \"zeroline\": false}, \"yaxis1\": {\"gridcolor\": \"rgb(255,255,255)\", \"range\": [0], \"showgrid\": true, \"showline\": false, \"showticklabels\": true, \"tickcolor\": \"rgb(127,127,127)\", \"ticks\": \"outside\", \"title\": \"RT (s)\", \"anchor\": \"x1\", \"zeroline\": false}, \"yaxis2\": {\"gridcolor\": \"rgb(255,255,255)\", \"range\": [0], \"showgrid\": true, \"showline\": false, \"showticklabels\": true, \"tickcolor\": \"rgb(127,127,127)\", \"ticks\": \"outside\", \"title\": \"p (accept)\", \"anchor\": \"x2\", \"zeroline\": false}, \"annotations\": [{\"x\": 0.01, \"y\": 1.12, \"showarrow\": false, \"text\": \"PARAMETERS: v: 0.01, a: 0.221, \\u03b8: 1.0\", \"xref\": \"paper\", \"yref\": \"paper\"}, {\"x\": 0.01, \"y\": 1.08, \"showarrow\": false, \"text\": \"MLE: 710.69\", \"xref\": \"paper\", \"yref\": \"paper\"}, {\"x\": 0.01, \"y\": 1.2, \"showarrow\": false, \"text\": \"SUBJECT: 6\", \"font\": {\"family\": \"Arial, sans-serif\", \"size\": 22}, \"xref\": \"paper\", \"yref\": \"paper\"}]}, {\"showLink\": true, \"linkText\": \"Export to plot.ly\"})});</script>"
      ],
      "text/vnd.plotly.v1+html": [
       "<div id=\"c67af6c5-d2dd-41ae-b206-e1925c35db2f\" style=\"height: 525px; width: 100%;\" class=\"plotly-graph-div\"></div><script type=\"text/javascript\">require([\"plotly\"], function(Plotly) { window.PLOTLYENV=window.PLOTLYENV || {};window.PLOTLYENV.BASE_URL=\"https://plot.ly\";Plotly.newPlot(\"c67af6c5-d2dd-41ae-b206-e1925c35db2f\", [{\"type\": \"scatter\", \"x\": [-1.5533333333333337, -0.8073333333333333, -0.2930434782608696, 0.018999999999999972, 0.2958333333333334, 0.7423809523809526, 1.5522222222222217], \"y\": [3.4658348341654346, 4.5258351827066985, 4.0977258159384835, 4.511248517947024, 3.7386210568985607, 3.5870816074018967, 3.2126224060278523], \"error_y\": {\"type\": \"data\", \"array\": [0.45266461126802543, 0.5820686014296277, 0.2925565576390161, 0.38239940827710045, 0.37396278789496307, 0.3540266022245862, 0.29760271919607933], \"color\": \"rgb(0,170,80)\", \"visible\": true}, \"line\": {\"color\": \"rgb(0,100,80)\"}, \"mode\": \"lines+markers\", \"name\": \"Test Data\"}, {\"type\": \"scatter\", \"x\": [-1.5533333333333337, -0.8073333333333333, -0.2930434782608696, 0.018999999999999972, 0.2958333333333334, 0.7423809523809526, 1.5522222222222217], \"y\": [4.620071244192054, 4.711865756879011, 4.700160472149053, 4.691084000223816, 4.682822430774929, 4.662187686408172, 4.620685536394549], \"error_y\": {\"type\": \"data\", \"array\": [0.0200932220530835, 0.020359038987522837, 0.01660035709970241, 0.01763776053673017, 0.016111296836452436, 0.017160441736766452, 0.014996847905892098], \"color\": \"rgb(0,100,246)\", \"visible\": true}, \"line\": {\"color\": \"rgb(0,176,246)\"}, \"mode\": \"lines+markers\", \"name\": \"Sim Data\"}, {\"type\": \"scatter\", \"x\": [-1.5533333333333337, -0.8073333333333333, -0.2930434782608696, 0.018999999999999972, 0.2958333333333334, 0.7423809523809526, 1.5522222222222217], \"y\": [0.0, 0.06666666666666667, 0.30434782608695654, 0.55, 0.75, 0.9047619047619048, 0.9629629629629629], \"error_y\": {\"type\": \"data\", \"array\": [0.0, 0.06666666666666665, 0.0981001869248289, 0.11413288653790231, 0.0902893898143269, 0.06563832739090582, 0.037037037037037035], \"color\": \"rgb(0,170,80)\", \"visible\": true}, \"line\": {\"color\": \"rgb(0,100,80)\"}, \"mode\": \"lines+markers\", \"name\": \"Test Data\", \"xaxis\": \"x2\", \"yaxis\": \"y2\"}, {\"type\": \"scatter\", \"x\": [-1.5533333333333337, -0.8073333333333333, -0.2930434782608696, 0.018999999999999972, 0.2958333333333334, 0.7423809523809526, 1.5522222222222217], \"y\": [0.34065934065934067, 0.4087369279833865, 0.46951516925178033, 0.5005316469864011, 0.5325682958557889, 0.5767469109501491, 0.6659976242166059], \"error_y\": {\"type\": \"data\", \"array\": [0.0040702141990279425, 0.004233846950172476, 0.0034855697361065373, 0.0037405183268434993, 0.003400911529812688, 0.0036058091291522954, 0.0030186268961722353], \"color\": \"rgb(0,100,246)\", \"visible\": true}, \"line\": {\"color\": \"rgb(0,176,246)\"}, \"mode\": \"lines+markers\", \"name\": \"Sim Data\", \"xaxis\": \"x2\", \"yaxis\": \"y2\"}], {\"paper_bgcolor\": \"rgb(255,255,255)\", \"plot_bgcolor\": \"rgb(229,229,229)\", \"xaxis\": {\"gridcolor\": \"rgb(255,255,255)\", \"range\": [-2, 2], \"domain\": [0, 0.45], \"showgrid\": true, \"showline\": false, \"showticklabels\": true, \"tickcolor\": \"rgb(127,127,127)\", \"ticks\": \"outside\", \"title\": \"Net Value ($)\", \"zeroline\": false}, \"xaxis2\": {\"gridcolor\": \"rgb(255,255,255)\", \"range\": [-2, 2], \"domain\": [0.55, 1], \"showgrid\": true, \"showline\": false, \"showticklabels\": true, \"tickcolor\": \"rgb(127,127,127)\", \"ticks\": \"outside\", \"title\": \"Net Value ($)\", \"zeroline\": false}, \"yaxis1\": {\"gridcolor\": \"rgb(255,255,255)\", \"range\": [0], \"showgrid\": true, \"showline\": false, \"showticklabels\": true, \"tickcolor\": \"rgb(127,127,127)\", \"ticks\": \"outside\", \"title\": \"RT (s)\", \"anchor\": \"x1\", \"zeroline\": false}, \"yaxis2\": {\"gridcolor\": \"rgb(255,255,255)\", \"range\": [0], \"showgrid\": true, \"showline\": false, \"showticklabels\": true, \"tickcolor\": \"rgb(127,127,127)\", \"ticks\": \"outside\", \"title\": \"p (accept)\", \"anchor\": \"x2\", \"zeroline\": false}, \"annotations\": [{\"x\": 0.01, \"y\": 1.12, \"showarrow\": false, \"text\": \"PARAMETERS: v: 0.01, a: 0.221, \\u03b8: 1.0\", \"xref\": \"paper\", \"yref\": \"paper\"}, {\"x\": 0.01, \"y\": 1.08, \"showarrow\": false, \"text\": \"MLE: 710.69\", \"xref\": \"paper\", \"yref\": \"paper\"}, {\"x\": 0.01, \"y\": 1.2, \"showarrow\": false, \"text\": \"SUBJECT: 6\", \"font\": {\"family\": \"Arial, sans-serif\", \"size\": 22}, \"xref\": \"paper\", \"yref\": \"paper\"}]}, {\"showLink\": true, \"linkText\": \"Export to plot.ly\"})});</script>"
      ]
     },
     "metadata": {},
     "output_type": "display_data"
    },
    {
     "data": {
      "text/html": [
       "<script>requirejs.config({paths: { 'plotly': ['https://cdn.plot.ly/plotly-latest.min']},});if(!window.Plotly) {{require(['plotly'],function(plotly) {window.Plotly=plotly;});}}</script>"
      ],
      "text/vnd.plotly.v1+html": [
       "<script>requirejs.config({paths: { 'plotly': ['https://cdn.plot.ly/plotly-latest.min']},});if(!window.Plotly) {{require(['plotly'],function(plotly) {window.Plotly=plotly;});}}</script>"
      ]
     },
     "metadata": {},
     "output_type": "display_data"
    },
    {
     "data": {
      "application/vnd.plotly.v1+json": {
       "data": [
        {
         "error_y": {
          "array": [
           0.21285109200996552,
           0.37714213911916256,
           0.2695708175541002,
           0.2886556556927408,
           0.5229150251484915,
           0.28322585932055555,
           0.37203030071021026
          ],
          "color": "rgb(0,170,80)",
          "type": "data",
          "visible": true
         },
         "line": {
          "color": "rgb(0,100,80)"
         },
         "mode": "lines+markers",
         "name": "Test Data",
         "type": "scatter",
         "x": [
          -1.5631578947368423,
          -0.8114285714285714,
          -0.3247826086956522,
          0.0283333333333333,
          0.30428571428571427,
          0.754,
          1.8863636363636358
         ],
         "y": [
          2.3779431322494173,
          2.821205532013014,
          2.9857144204576356,
          3.3635180042749804,
          3.790879182359278,
          2.77466733810943,
          2.865143027417533
         ]
        },
        {
         "error_y": {
          "array": [
           0.010960469677922892,
           0.012352935572070444,
           0.012745550653499256,
           0.011174036776645323,
           0.016305266435777455,
           0.012899281049790186,
           0.009096272152944255
          ],
          "color": "rgb(0,100,246)",
          "type": "data",
          "visible": true
         },
         "line": {
          "color": "rgb(0,176,246)"
         },
         "mode": "lines+markers",
         "name": "Sim Data",
         "type": "scatter",
         "x": [
          -1.5631578947368423,
          -0.8114285714285714,
          -0.3247826086956522,
          0.0283333333333333,
          0.30428571428571427,
          0.754,
          1.8863636363636358
         ],
         "y": [
          2.7599519489424504,
          3.189707535856476,
          3.370543110288269,
          3.4045614611191883,
          3.382102250524656,
          3.2323803072274044,
          2.5543738160291545
         ]
        },
        {
         "error_y": {
          "array": [
           0,
           0,
           0.060073850409370216,
           0.08211756827352527,
           0.11380392954509881,
           0.04999999999999999,
           0.04545454545454545
          ],
          "color": "rgb(0,170,80)",
          "type": "data",
          "visible": true
         },
         "line": {
          "color": "rgb(0,100,80)"
         },
         "mode": "lines+markers",
         "name": "Test Data",
         "type": "scatter",
         "x": [
          -1.5631578947368423,
          -0.8114285714285714,
          -0.3247826086956522,
          0.0283333333333333,
          0.30428571428571427,
          0.754,
          1.8863636363636358
         ],
         "xaxis": "x2",
         "y": [
          0,
          0,
          0.08695652173913043,
          0.26666666666666666,
          0.7857142857142857,
          0.95,
          0.9545454545454546
         ],
         "yaxis": "y2"
        },
        {
         "error_y": {
          "array": [
           0.0022731747422756864,
           0.0029692103480545916,
           0.00322263871306736,
           0.0029090099359344573,
           0.004142177216460851,
           0.0030575177637359643,
           0.001791250384268461
          ],
          "color": "rgb(0,100,246)",
          "type": "data",
          "visible": true
         },
         "line": {
          "color": "rgb(0,176,246)"
         },
         "mode": "lines+markers",
         "name": "Sim Data",
         "type": "scatter",
         "x": [
          -1.5631578947368423,
          -0.8114285714285714,
          -0.3247826086956522,
          0.0283333333333333,
          0.30428571428571427,
          0.754,
          1.8863636363636358
         ],
         "xaxis": "x2",
         "y": [
          0.11007964555092568,
          0.2426728066388449,
          0.3799700255664286,
          0.5062798334405363,
          0.6136478761125986,
          0.7537647947620246,
          0.9237249544626593
         ],
         "yaxis": "y2"
        }
       ],
       "layout": {
        "annotations": [
         {
          "showarrow": false,
          "text": "PARAMETERS: v: 0.051, a: 0.164, θ: 0.775",
          "x": 0.01,
          "xref": "paper",
          "y": 1.12,
          "yref": "paper"
         },
         {
          "showarrow": false,
          "text": "MLE: 634.4",
          "x": 0.01,
          "xref": "paper",
          "y": 1.08,
          "yref": "paper"
         },
         {
          "font": {
           "family": "Arial, sans-serif",
           "size": 22
          },
          "showarrow": false,
          "text": "SUBJECT: 7",
          "x": 0.01,
          "xref": "paper",
          "y": 1.2,
          "yref": "paper"
         }
        ],
        "paper_bgcolor": "rgb(255,255,255)",
        "plot_bgcolor": "rgb(229,229,229)",
        "xaxis": {
         "domain": [
          0,
          0.45
         ],
         "gridcolor": "rgb(255,255,255)",
         "range": [
          -2,
          2
         ],
         "showgrid": true,
         "showline": false,
         "showticklabels": true,
         "tickcolor": "rgb(127,127,127)",
         "ticks": "outside",
         "title": "Net Value ($)",
         "zeroline": false
        },
        "xaxis2": {
         "domain": [
          0.55,
          1
         ],
         "gridcolor": "rgb(255,255,255)",
         "range": [
          -2,
          2
         ],
         "showgrid": true,
         "showline": false,
         "showticklabels": true,
         "tickcolor": "rgb(127,127,127)",
         "ticks": "outside",
         "title": "Net Value ($)",
         "zeroline": false
        },
        "yaxis1": {
         "anchor": "x1",
         "gridcolor": "rgb(255,255,255)",
         "range": [
          0
         ],
         "showgrid": true,
         "showline": false,
         "showticklabels": true,
         "tickcolor": "rgb(127,127,127)",
         "ticks": "outside",
         "title": "RT (s)",
         "zeroline": false
        },
        "yaxis2": {
         "anchor": "x2",
         "gridcolor": "rgb(255,255,255)",
         "range": [
          0
         ],
         "showgrid": true,
         "showline": false,
         "showticklabels": true,
         "tickcolor": "rgb(127,127,127)",
         "ticks": "outside",
         "title": "p (accept)",
         "zeroline": false
        }
       }
      },
      "text/html": [
       "<div id=\"7e288a21-318b-4fb6-92b0-c5b32204ba53\" style=\"height: 525px; width: 100%;\" class=\"plotly-graph-div\"></div><script type=\"text/javascript\">require([\"plotly\"], function(Plotly) { window.PLOTLYENV=window.PLOTLYENV || {};window.PLOTLYENV.BASE_URL=\"https://plot.ly\";Plotly.newPlot(\"7e288a21-318b-4fb6-92b0-c5b32204ba53\", [{\"type\": \"scatter\", \"x\": [-1.5631578947368423, -0.8114285714285714, -0.3247826086956522, 0.0283333333333333, 0.30428571428571427, 0.754, 1.8863636363636358], \"y\": [2.3779431322494173, 2.821205532013014, 2.9857144204576356, 3.3635180042749804, 3.790879182359278, 2.77466733810943, 2.865143027417533], \"error_y\": {\"type\": \"data\", \"array\": [0.21285109200996552, 0.37714213911916256, 0.2695708175541002, 0.2886556556927408, 0.5229150251484915, 0.28322585932055555, 0.37203030071021026], \"color\": \"rgb(0,170,80)\", \"visible\": true}, \"line\": {\"color\": \"rgb(0,100,80)\"}, \"mode\": \"lines+markers\", \"name\": \"Test Data\"}, {\"type\": \"scatter\", \"x\": [-1.5631578947368423, -0.8114285714285714, -0.3247826086956522, 0.0283333333333333, 0.30428571428571427, 0.754, 1.8863636363636358], \"y\": [2.7599519489424504, 3.189707535856476, 3.370543110288269, 3.4045614611191883, 3.382102250524656, 3.2323803072274044, 2.5543738160291545], \"error_y\": {\"type\": \"data\", \"array\": [0.010960469677922892, 0.012352935572070444, 0.012745550653499256, 0.011174036776645323, 0.016305266435777455, 0.012899281049790186, 0.009096272152944255], \"color\": \"rgb(0,100,246)\", \"visible\": true}, \"line\": {\"color\": \"rgb(0,176,246)\"}, \"mode\": \"lines+markers\", \"name\": \"Sim Data\"}, {\"type\": \"scatter\", \"x\": [-1.5631578947368423, -0.8114285714285714, -0.3247826086956522, 0.0283333333333333, 0.30428571428571427, 0.754, 1.8863636363636358], \"y\": [0.0, 0.0, 0.08695652173913043, 0.26666666666666666, 0.7857142857142857, 0.95, 0.9545454545454546], \"error_y\": {\"type\": \"data\", \"array\": [0.0, 0.0, 0.060073850409370216, 0.08211756827352527, 0.11380392954509881, 0.04999999999999999, 0.04545454545454545], \"color\": \"rgb(0,170,80)\", \"visible\": true}, \"line\": {\"color\": \"rgb(0,100,80)\"}, \"mode\": \"lines+markers\", \"name\": \"Test Data\", \"xaxis\": \"x2\", \"yaxis\": \"y2\"}, {\"type\": \"scatter\", \"x\": [-1.5631578947368423, -0.8114285714285714, -0.3247826086956522, 0.0283333333333333, 0.30428571428571427, 0.754, 1.8863636363636358], \"y\": [0.11007964555092568, 0.2426728066388449, 0.3799700255664286, 0.5062798334405363, 0.6136478761125986, 0.7537647947620246, 0.9237249544626593], \"error_y\": {\"type\": \"data\", \"array\": [0.0022731747422756864, 0.0029692103480545916, 0.00322263871306736, 0.0029090099359344573, 0.004142177216460851, 0.0030575177637359643, 0.001791250384268461], \"color\": \"rgb(0,100,246)\", \"visible\": true}, \"line\": {\"color\": \"rgb(0,176,246)\"}, \"mode\": \"lines+markers\", \"name\": \"Sim Data\", \"xaxis\": \"x2\", \"yaxis\": \"y2\"}], {\"paper_bgcolor\": \"rgb(255,255,255)\", \"plot_bgcolor\": \"rgb(229,229,229)\", \"xaxis\": {\"gridcolor\": \"rgb(255,255,255)\", \"range\": [-2, 2], \"domain\": [0, 0.45], \"showgrid\": true, \"showline\": false, \"showticklabels\": true, \"tickcolor\": \"rgb(127,127,127)\", \"ticks\": \"outside\", \"title\": \"Net Value ($)\", \"zeroline\": false}, \"xaxis2\": {\"gridcolor\": \"rgb(255,255,255)\", \"range\": [-2, 2], \"domain\": [0.55, 1], \"showgrid\": true, \"showline\": false, \"showticklabels\": true, \"tickcolor\": \"rgb(127,127,127)\", \"ticks\": \"outside\", \"title\": \"Net Value ($)\", \"zeroline\": false}, \"yaxis1\": {\"gridcolor\": \"rgb(255,255,255)\", \"range\": [0], \"showgrid\": true, \"showline\": false, \"showticklabels\": true, \"tickcolor\": \"rgb(127,127,127)\", \"ticks\": \"outside\", \"title\": \"RT (s)\", \"anchor\": \"x1\", \"zeroline\": false}, \"yaxis2\": {\"gridcolor\": \"rgb(255,255,255)\", \"range\": [0], \"showgrid\": true, \"showline\": false, \"showticklabels\": true, \"tickcolor\": \"rgb(127,127,127)\", \"ticks\": \"outside\", \"title\": \"p (accept)\", \"anchor\": \"x2\", \"zeroline\": false}, \"annotations\": [{\"x\": 0.01, \"y\": 1.12, \"showarrow\": false, \"text\": \"PARAMETERS: v: 0.051, a: 0.164, \\u03b8: 0.775\", \"xref\": \"paper\", \"yref\": \"paper\"}, {\"x\": 0.01, \"y\": 1.08, \"showarrow\": false, \"text\": \"MLE: 634.4\", \"xref\": \"paper\", \"yref\": \"paper\"}, {\"x\": 0.01, \"y\": 1.2, \"showarrow\": false, \"text\": \"SUBJECT: 7\", \"font\": {\"family\": \"Arial, sans-serif\", \"size\": 22}, \"xref\": \"paper\", \"yref\": \"paper\"}]}, {\"showLink\": true, \"linkText\": \"Export to plot.ly\"})});</script>"
      ],
      "text/vnd.plotly.v1+html": [
       "<div id=\"7e288a21-318b-4fb6-92b0-c5b32204ba53\" style=\"height: 525px; width: 100%;\" class=\"plotly-graph-div\"></div><script type=\"text/javascript\">require([\"plotly\"], function(Plotly) { window.PLOTLYENV=window.PLOTLYENV || {};window.PLOTLYENV.BASE_URL=\"https://plot.ly\";Plotly.newPlot(\"7e288a21-318b-4fb6-92b0-c5b32204ba53\", [{\"type\": \"scatter\", \"x\": [-1.5631578947368423, -0.8114285714285714, -0.3247826086956522, 0.0283333333333333, 0.30428571428571427, 0.754, 1.8863636363636358], \"y\": [2.3779431322494173, 2.821205532013014, 2.9857144204576356, 3.3635180042749804, 3.790879182359278, 2.77466733810943, 2.865143027417533], \"error_y\": {\"type\": \"data\", \"array\": [0.21285109200996552, 0.37714213911916256, 0.2695708175541002, 0.2886556556927408, 0.5229150251484915, 0.28322585932055555, 0.37203030071021026], \"color\": \"rgb(0,170,80)\", \"visible\": true}, \"line\": {\"color\": \"rgb(0,100,80)\"}, \"mode\": \"lines+markers\", \"name\": \"Test Data\"}, {\"type\": \"scatter\", \"x\": [-1.5631578947368423, -0.8114285714285714, -0.3247826086956522, 0.0283333333333333, 0.30428571428571427, 0.754, 1.8863636363636358], \"y\": [2.7599519489424504, 3.189707535856476, 3.370543110288269, 3.4045614611191883, 3.382102250524656, 3.2323803072274044, 2.5543738160291545], \"error_y\": {\"type\": \"data\", \"array\": [0.010960469677922892, 0.012352935572070444, 0.012745550653499256, 0.011174036776645323, 0.016305266435777455, 0.012899281049790186, 0.009096272152944255], \"color\": \"rgb(0,100,246)\", \"visible\": true}, \"line\": {\"color\": \"rgb(0,176,246)\"}, \"mode\": \"lines+markers\", \"name\": \"Sim Data\"}, {\"type\": \"scatter\", \"x\": [-1.5631578947368423, -0.8114285714285714, -0.3247826086956522, 0.0283333333333333, 0.30428571428571427, 0.754, 1.8863636363636358], \"y\": [0.0, 0.0, 0.08695652173913043, 0.26666666666666666, 0.7857142857142857, 0.95, 0.9545454545454546], \"error_y\": {\"type\": \"data\", \"array\": [0.0, 0.0, 0.060073850409370216, 0.08211756827352527, 0.11380392954509881, 0.04999999999999999, 0.04545454545454545], \"color\": \"rgb(0,170,80)\", \"visible\": true}, \"line\": {\"color\": \"rgb(0,100,80)\"}, \"mode\": \"lines+markers\", \"name\": \"Test Data\", \"xaxis\": \"x2\", \"yaxis\": \"y2\"}, {\"type\": \"scatter\", \"x\": [-1.5631578947368423, -0.8114285714285714, -0.3247826086956522, 0.0283333333333333, 0.30428571428571427, 0.754, 1.8863636363636358], \"y\": [0.11007964555092568, 0.2426728066388449, 0.3799700255664286, 0.5062798334405363, 0.6136478761125986, 0.7537647947620246, 0.9237249544626593], \"error_y\": {\"type\": \"data\", \"array\": [0.0022731747422756864, 0.0029692103480545916, 0.00322263871306736, 0.0029090099359344573, 0.004142177216460851, 0.0030575177637359643, 0.001791250384268461], \"color\": \"rgb(0,100,246)\", \"visible\": true}, \"line\": {\"color\": \"rgb(0,176,246)\"}, \"mode\": \"lines+markers\", \"name\": \"Sim Data\", \"xaxis\": \"x2\", \"yaxis\": \"y2\"}], {\"paper_bgcolor\": \"rgb(255,255,255)\", \"plot_bgcolor\": \"rgb(229,229,229)\", \"xaxis\": {\"gridcolor\": \"rgb(255,255,255)\", \"range\": [-2, 2], \"domain\": [0, 0.45], \"showgrid\": true, \"showline\": false, \"showticklabels\": true, \"tickcolor\": \"rgb(127,127,127)\", \"ticks\": \"outside\", \"title\": \"Net Value ($)\", \"zeroline\": false}, \"xaxis2\": {\"gridcolor\": \"rgb(255,255,255)\", \"range\": [-2, 2], \"domain\": [0.55, 1], \"showgrid\": true, \"showline\": false, \"showticklabels\": true, \"tickcolor\": \"rgb(127,127,127)\", \"ticks\": \"outside\", \"title\": \"Net Value ($)\", \"zeroline\": false}, \"yaxis1\": {\"gridcolor\": \"rgb(255,255,255)\", \"range\": [0], \"showgrid\": true, \"showline\": false, \"showticklabels\": true, \"tickcolor\": \"rgb(127,127,127)\", \"ticks\": \"outside\", \"title\": \"RT (s)\", \"anchor\": \"x1\", \"zeroline\": false}, \"yaxis2\": {\"gridcolor\": \"rgb(255,255,255)\", \"range\": [0], \"showgrid\": true, \"showline\": false, \"showticklabels\": true, \"tickcolor\": \"rgb(127,127,127)\", \"ticks\": \"outside\", \"title\": \"p (accept)\", \"anchor\": \"x2\", \"zeroline\": false}, \"annotations\": [{\"x\": 0.01, \"y\": 1.12, \"showarrow\": false, \"text\": \"PARAMETERS: v: 0.051, a: 0.164, \\u03b8: 0.775\", \"xref\": \"paper\", \"yref\": \"paper\"}, {\"x\": 0.01, \"y\": 1.08, \"showarrow\": false, \"text\": \"MLE: 634.4\", \"xref\": \"paper\", \"yref\": \"paper\"}, {\"x\": 0.01, \"y\": 1.2, \"showarrow\": false, \"text\": \"SUBJECT: 7\", \"font\": {\"family\": \"Arial, sans-serif\", \"size\": 22}, \"xref\": \"paper\", \"yref\": \"paper\"}]}, {\"showLink\": true, \"linkText\": \"Export to plot.ly\"})});</script>"
      ]
     },
     "metadata": {},
     "output_type": "display_data"
    },
    {
     "data": {
      "text/html": [
       "<script>requirejs.config({paths: { 'plotly': ['https://cdn.plot.ly/plotly-latest.min']},});if(!window.Plotly) {{require(['plotly'],function(plotly) {window.Plotly=plotly;});}}</script>"
      ],
      "text/vnd.plotly.v1+html": [
       "<script>requirejs.config({paths: { 'plotly': ['https://cdn.plot.ly/plotly-latest.min']},});if(!window.Plotly) {{require(['plotly'],function(plotly) {window.Plotly=plotly;});}}</script>"
      ]
     },
     "metadata": {},
     "output_type": "display_data"
    },
    {
     "data": {
      "application/vnd.plotly.v1+json": {
       "data": [
        {
         "error_y": {
          "array": [
           0.27050941425998043,
           0.28770960590492894,
           0.18240159910635725,
           0.23948529280393824,
           0.270817086073925,
           0.32586465298263884,
           0.10178122567525187
          ],
          "color": "rgb(0,170,80)",
          "type": "data",
          "visible": true
         },
         "line": {
          "color": "rgb(0,100,80)"
         },
         "mode": "lines+markers",
         "name": "Test Data",
         "type": "scatter",
         "x": [
          -1.7345,
          -0.8091666666666667,
          -0.286,
          0.025161290322580618,
          0.3271428571428571,
          0.7461111111111111,
          1.5722222222222217
         ],
         "y": [
          2.5601258025313673,
          3.0063551905454915,
          2.7211679010491934,
          3.1543780296791915,
          2.6131890266302187,
          2.5056769166332944,
          2.170454257731629
         ]
        },
        {
         "error_y": {
          "array": [
           0.010031146122424802,
           0.01158746950615165,
           0.015746506322346726,
           0.010937269631430612,
           0.015996299551639417,
           0.013305991454826674,
           0.009076185849543773
          ],
          "color": "rgb(0,100,246)",
          "type": "data",
          "visible": true
         },
         "line": {
          "color": "rgb(0,176,246)"
         },
         "mode": "lines+markers",
         "name": "Sim Data",
         "type": "scatter",
         "x": [
          -1.7345,
          -0.8091666666666667,
          -0.286,
          0.025161290322580618,
          0.3271428571428571,
          0.7461111111111111,
          1.5722222222222217
         ],
         "y": [
          2.6408469674185415,
          3.199210396039608,
          3.39187224699364,
          3.3990070023886525,
          3.3511019241898086,
          3.211721288515396,
          2.7468238176553523
         ]
        },
        {
         "error_y": {
          "array": [
           0,
           0.05763033956734372,
           0.06666666666666665,
           0.09123958466923195,
           0.11380392954509881,
           0.0762215933966706,
           0.037037037037037035
          ],
          "color": "rgb(0,170,80)",
          "type": "data",
          "visible": true
         },
         "line": {
          "color": "rgb(0,100,80)"
         },
         "mode": "lines+markers",
         "name": "Test Data",
         "type": "scatter",
         "x": [
          -1.7345,
          -0.8091666666666667,
          -0.286,
          0.025161290322580618,
          0.3271428571428571,
          0.7461111111111111,
          1.5722222222222217
         ],
         "xaxis": "x2",
         "y": [
          0,
          0.08333333333333333,
          0.06666666666666667,
          0.5161290322580645,
          0.7857142857142857,
          0.8888888888888888,
          0.9629629629629629
         ],
         "yaxis": "y2"
        },
        {
         "error_y": {
          "array": [
           0.0020330423708288664,
           0.002739112299573287,
           0.004039746976196802,
           0.002860149320537464,
           0.0040986072166748775,
           0.0032448532720524945,
           0.0018853080433584436
          ],
          "color": "rgb(0,100,246)",
          "type": "data",
          "visible": true
         },
         "line": {
          "color": "rgb(0,176,246)"
         },
         "mode": "lines+markers",
         "name": "Sim Data",
         "type": "scatter",
         "x": [
          -1.7345,
          -0.8091666666666667,
          -0.286,
          0.025161290322580618,
          0.3271428571428571,
          0.7461111111111111,
          1.5722222222222217
         ],
         "xaxis": "x2",
         "y": [
          0.09067669172932331,
          0.23321866084913576,
          0.4080529658154303,
          0.5023068616864631,
          0.6333912037037037,
          0.7491316526610644,
          0.8927537307892197
         ],
         "yaxis": "y2"
        }
       ],
       "layout": {
        "annotations": [
         {
          "showarrow": false,
          "text": "PARAMETERS: v: 0.051, a: 0.164, θ: 0.775",
          "x": 0.01,
          "xref": "paper",
          "y": 1.12,
          "yref": "paper"
         },
         {
          "showarrow": false,
          "text": "MLE: 686.84",
          "x": 0.01,
          "xref": "paper",
          "y": 1.08,
          "yref": "paper"
         },
         {
          "font": {
           "family": "Arial, sans-serif",
           "size": 22
          },
          "showarrow": false,
          "text": "SUBJECT: 8",
          "x": 0.01,
          "xref": "paper",
          "y": 1.2,
          "yref": "paper"
         }
        ],
        "paper_bgcolor": "rgb(255,255,255)",
        "plot_bgcolor": "rgb(229,229,229)",
        "xaxis": {
         "domain": [
          0,
          0.45
         ],
         "gridcolor": "rgb(255,255,255)",
         "range": [
          -2,
          2
         ],
         "showgrid": true,
         "showline": false,
         "showticklabels": true,
         "tickcolor": "rgb(127,127,127)",
         "ticks": "outside",
         "title": "Net Value ($)",
         "zeroline": false
        },
        "xaxis2": {
         "domain": [
          0.55,
          1
         ],
         "gridcolor": "rgb(255,255,255)",
         "range": [
          -2,
          2
         ],
         "showgrid": true,
         "showline": false,
         "showticklabels": true,
         "tickcolor": "rgb(127,127,127)",
         "ticks": "outside",
         "title": "Net Value ($)",
         "zeroline": false
        },
        "yaxis1": {
         "anchor": "x1",
         "gridcolor": "rgb(255,255,255)",
         "range": [
          0
         ],
         "showgrid": true,
         "showline": false,
         "showticklabels": true,
         "tickcolor": "rgb(127,127,127)",
         "ticks": "outside",
         "title": "RT (s)",
         "zeroline": false
        },
        "yaxis2": {
         "anchor": "x2",
         "gridcolor": "rgb(255,255,255)",
         "range": [
          0
         ],
         "showgrid": true,
         "showline": false,
         "showticklabels": true,
         "tickcolor": "rgb(127,127,127)",
         "ticks": "outside",
         "title": "p (accept)",
         "zeroline": false
        }
       }
      },
      "text/html": [
       "<div id=\"ee4e9dd1-3e31-443d-8e75-3f806c8c121c\" style=\"height: 525px; width: 100%;\" class=\"plotly-graph-div\"></div><script type=\"text/javascript\">require([\"plotly\"], function(Plotly) { window.PLOTLYENV=window.PLOTLYENV || {};window.PLOTLYENV.BASE_URL=\"https://plot.ly\";Plotly.newPlot(\"ee4e9dd1-3e31-443d-8e75-3f806c8c121c\", [{\"type\": \"scatter\", \"x\": [-1.7345, -0.8091666666666667, -0.286, 0.025161290322580618, 0.3271428571428571, 0.7461111111111111, 1.5722222222222217], \"y\": [2.5601258025313673, 3.0063551905454915, 2.7211679010491934, 3.1543780296791915, 2.6131890266302187, 2.5056769166332944, 2.170454257731629], \"error_y\": {\"type\": \"data\", \"array\": [0.27050941425998043, 0.28770960590492894, 0.18240159910635725, 0.23948529280393824, 0.270817086073925, 0.32586465298263884, 0.10178122567525187], \"color\": \"rgb(0,170,80)\", \"visible\": true}, \"line\": {\"color\": \"rgb(0,100,80)\"}, \"mode\": \"lines+markers\", \"name\": \"Test Data\"}, {\"type\": \"scatter\", \"x\": [-1.7345, -0.8091666666666667, -0.286, 0.025161290322580618, 0.3271428571428571, 0.7461111111111111, 1.5722222222222217], \"y\": [2.6408469674185415, 3.199210396039608, 3.39187224699364, 3.3990070023886525, 3.3511019241898086, 3.211721288515396, 2.7468238176553523], \"error_y\": {\"type\": \"data\", \"array\": [0.010031146122424802, 0.01158746950615165, 0.015746506322346726, 0.010937269631430612, 0.015996299551639417, 0.013305991454826674, 0.009076185849543773], \"color\": \"rgb(0,100,246)\", \"visible\": true}, \"line\": {\"color\": \"rgb(0,176,246)\"}, \"mode\": \"lines+markers\", \"name\": \"Sim Data\"}, {\"type\": \"scatter\", \"x\": [-1.7345, -0.8091666666666667, -0.286, 0.025161290322580618, 0.3271428571428571, 0.7461111111111111, 1.5722222222222217], \"y\": [0.0, 0.08333333333333333, 0.06666666666666667, 0.5161290322580645, 0.7857142857142857, 0.8888888888888888, 0.9629629629629629], \"error_y\": {\"type\": \"data\", \"array\": [0.0, 0.05763033956734372, 0.06666666666666665, 0.09123958466923195, 0.11380392954509881, 0.0762215933966706, 0.037037037037037035], \"color\": \"rgb(0,170,80)\", \"visible\": true}, \"line\": {\"color\": \"rgb(0,100,80)\"}, \"mode\": \"lines+markers\", \"name\": \"Test Data\", \"xaxis\": \"x2\", \"yaxis\": \"y2\"}, {\"type\": \"scatter\", \"x\": [-1.7345, -0.8091666666666667, -0.286, 0.025161290322580618, 0.3271428571428571, 0.7461111111111111, 1.5722222222222217], \"y\": [0.09067669172932331, 0.23321866084913576, 0.4080529658154303, 0.5023068616864631, 0.6333912037037037, 0.7491316526610644, 0.8927537307892197], \"error_y\": {\"type\": \"data\", \"array\": [0.0020330423708288664, 0.002739112299573287, 0.004039746976196802, 0.002860149320537464, 0.0040986072166748775, 0.0032448532720524945, 0.0018853080433584436], \"color\": \"rgb(0,100,246)\", \"visible\": true}, \"line\": {\"color\": \"rgb(0,176,246)\"}, \"mode\": \"lines+markers\", \"name\": \"Sim Data\", \"xaxis\": \"x2\", \"yaxis\": \"y2\"}], {\"paper_bgcolor\": \"rgb(255,255,255)\", \"plot_bgcolor\": \"rgb(229,229,229)\", \"xaxis\": {\"gridcolor\": \"rgb(255,255,255)\", \"range\": [-2, 2], \"domain\": [0, 0.45], \"showgrid\": true, \"showline\": false, \"showticklabels\": true, \"tickcolor\": \"rgb(127,127,127)\", \"ticks\": \"outside\", \"title\": \"Net Value ($)\", \"zeroline\": false}, \"xaxis2\": {\"gridcolor\": \"rgb(255,255,255)\", \"range\": [-2, 2], \"domain\": [0.55, 1], \"showgrid\": true, \"showline\": false, \"showticklabels\": true, \"tickcolor\": \"rgb(127,127,127)\", \"ticks\": \"outside\", \"title\": \"Net Value ($)\", \"zeroline\": false}, \"yaxis1\": {\"gridcolor\": \"rgb(255,255,255)\", \"range\": [0], \"showgrid\": true, \"showline\": false, \"showticklabels\": true, \"tickcolor\": \"rgb(127,127,127)\", \"ticks\": \"outside\", \"title\": \"RT (s)\", \"anchor\": \"x1\", \"zeroline\": false}, \"yaxis2\": {\"gridcolor\": \"rgb(255,255,255)\", \"range\": [0], \"showgrid\": true, \"showline\": false, \"showticklabels\": true, \"tickcolor\": \"rgb(127,127,127)\", \"ticks\": \"outside\", \"title\": \"p (accept)\", \"anchor\": \"x2\", \"zeroline\": false}, \"annotations\": [{\"x\": 0.01, \"y\": 1.12, \"showarrow\": false, \"text\": \"PARAMETERS: v: 0.051, a: 0.164, \\u03b8: 0.775\", \"xref\": \"paper\", \"yref\": \"paper\"}, {\"x\": 0.01, \"y\": 1.08, \"showarrow\": false, \"text\": \"MLE: 686.84\", \"xref\": \"paper\", \"yref\": \"paper\"}, {\"x\": 0.01, \"y\": 1.2, \"showarrow\": false, \"text\": \"SUBJECT: 8\", \"font\": {\"family\": \"Arial, sans-serif\", \"size\": 22}, \"xref\": \"paper\", \"yref\": \"paper\"}]}, {\"showLink\": true, \"linkText\": \"Export to plot.ly\"})});</script>"
      ],
      "text/vnd.plotly.v1+html": [
       "<div id=\"ee4e9dd1-3e31-443d-8e75-3f806c8c121c\" style=\"height: 525px; width: 100%;\" class=\"plotly-graph-div\"></div><script type=\"text/javascript\">require([\"plotly\"], function(Plotly) { window.PLOTLYENV=window.PLOTLYENV || {};window.PLOTLYENV.BASE_URL=\"https://plot.ly\";Plotly.newPlot(\"ee4e9dd1-3e31-443d-8e75-3f806c8c121c\", [{\"type\": \"scatter\", \"x\": [-1.7345, -0.8091666666666667, -0.286, 0.025161290322580618, 0.3271428571428571, 0.7461111111111111, 1.5722222222222217], \"y\": [2.5601258025313673, 3.0063551905454915, 2.7211679010491934, 3.1543780296791915, 2.6131890266302187, 2.5056769166332944, 2.170454257731629], \"error_y\": {\"type\": \"data\", \"array\": [0.27050941425998043, 0.28770960590492894, 0.18240159910635725, 0.23948529280393824, 0.270817086073925, 0.32586465298263884, 0.10178122567525187], \"color\": \"rgb(0,170,80)\", \"visible\": true}, \"line\": {\"color\": \"rgb(0,100,80)\"}, \"mode\": \"lines+markers\", \"name\": \"Test Data\"}, {\"type\": \"scatter\", \"x\": [-1.7345, -0.8091666666666667, -0.286, 0.025161290322580618, 0.3271428571428571, 0.7461111111111111, 1.5722222222222217], \"y\": [2.6408469674185415, 3.199210396039608, 3.39187224699364, 3.3990070023886525, 3.3511019241898086, 3.211721288515396, 2.7468238176553523], \"error_y\": {\"type\": \"data\", \"array\": [0.010031146122424802, 0.01158746950615165, 0.015746506322346726, 0.010937269631430612, 0.015996299551639417, 0.013305991454826674, 0.009076185849543773], \"color\": \"rgb(0,100,246)\", \"visible\": true}, \"line\": {\"color\": \"rgb(0,176,246)\"}, \"mode\": \"lines+markers\", \"name\": \"Sim Data\"}, {\"type\": \"scatter\", \"x\": [-1.7345, -0.8091666666666667, -0.286, 0.025161290322580618, 0.3271428571428571, 0.7461111111111111, 1.5722222222222217], \"y\": [0.0, 0.08333333333333333, 0.06666666666666667, 0.5161290322580645, 0.7857142857142857, 0.8888888888888888, 0.9629629629629629], \"error_y\": {\"type\": \"data\", \"array\": [0.0, 0.05763033956734372, 0.06666666666666665, 0.09123958466923195, 0.11380392954509881, 0.0762215933966706, 0.037037037037037035], \"color\": \"rgb(0,170,80)\", \"visible\": true}, \"line\": {\"color\": \"rgb(0,100,80)\"}, \"mode\": \"lines+markers\", \"name\": \"Test Data\", \"xaxis\": \"x2\", \"yaxis\": \"y2\"}, {\"type\": \"scatter\", \"x\": [-1.7345, -0.8091666666666667, -0.286, 0.025161290322580618, 0.3271428571428571, 0.7461111111111111, 1.5722222222222217], \"y\": [0.09067669172932331, 0.23321866084913576, 0.4080529658154303, 0.5023068616864631, 0.6333912037037037, 0.7491316526610644, 0.8927537307892197], \"error_y\": {\"type\": \"data\", \"array\": [0.0020330423708288664, 0.002739112299573287, 0.004039746976196802, 0.002860149320537464, 0.0040986072166748775, 0.0032448532720524945, 0.0018853080433584436], \"color\": \"rgb(0,100,246)\", \"visible\": true}, \"line\": {\"color\": \"rgb(0,176,246)\"}, \"mode\": \"lines+markers\", \"name\": \"Sim Data\", \"xaxis\": \"x2\", \"yaxis\": \"y2\"}], {\"paper_bgcolor\": \"rgb(255,255,255)\", \"plot_bgcolor\": \"rgb(229,229,229)\", \"xaxis\": {\"gridcolor\": \"rgb(255,255,255)\", \"range\": [-2, 2], \"domain\": [0, 0.45], \"showgrid\": true, \"showline\": false, \"showticklabels\": true, \"tickcolor\": \"rgb(127,127,127)\", \"ticks\": \"outside\", \"title\": \"Net Value ($)\", \"zeroline\": false}, \"xaxis2\": {\"gridcolor\": \"rgb(255,255,255)\", \"range\": [-2, 2], \"domain\": [0.55, 1], \"showgrid\": true, \"showline\": false, \"showticklabels\": true, \"tickcolor\": \"rgb(127,127,127)\", \"ticks\": \"outside\", \"title\": \"Net Value ($)\", \"zeroline\": false}, \"yaxis1\": {\"gridcolor\": \"rgb(255,255,255)\", \"range\": [0], \"showgrid\": true, \"showline\": false, \"showticklabels\": true, \"tickcolor\": \"rgb(127,127,127)\", \"ticks\": \"outside\", \"title\": \"RT (s)\", \"anchor\": \"x1\", \"zeroline\": false}, \"yaxis2\": {\"gridcolor\": \"rgb(255,255,255)\", \"range\": [0], \"showgrid\": true, \"showline\": false, \"showticklabels\": true, \"tickcolor\": \"rgb(127,127,127)\", \"ticks\": \"outside\", \"title\": \"p (accept)\", \"anchor\": \"x2\", \"zeroline\": false}, \"annotations\": [{\"x\": 0.01, \"y\": 1.12, \"showarrow\": false, \"text\": \"PARAMETERS: v: 0.051, a: 0.164, \\u03b8: 0.775\", \"xref\": \"paper\", \"yref\": \"paper\"}, {\"x\": 0.01, \"y\": 1.08, \"showarrow\": false, \"text\": \"MLE: 686.84\", \"xref\": \"paper\", \"yref\": \"paper\"}, {\"x\": 0.01, \"y\": 1.2, \"showarrow\": false, \"text\": \"SUBJECT: 8\", \"font\": {\"family\": \"Arial, sans-serif\", \"size\": 22}, \"xref\": \"paper\", \"yref\": \"paper\"}]}, {\"showLink\": true, \"linkText\": \"Export to plot.ly\"})});</script>"
      ]
     },
     "metadata": {},
     "output_type": "display_data"
    },
    {
     "data": {
      "text/html": [
       "<script>requirejs.config({paths: { 'plotly': ['https://cdn.plot.ly/plotly-latest.min']},});if(!window.Plotly) {{require(['plotly'],function(plotly) {window.Plotly=plotly;});}}</script>"
      ],
      "text/vnd.plotly.v1+html": [
       "<script>requirejs.config({paths: { 'plotly': ['https://cdn.plot.ly/plotly-latest.min']},});if(!window.Plotly) {{require(['plotly'],function(plotly) {window.Plotly=plotly;});}}</script>"
      ]
     },
     "metadata": {},
     "output_type": "display_data"
    },
    {
     "data": {
      "application/vnd.plotly.v1+json": {
       "data": [
        {
         "error_y": {
          "array": [
           0.20399141919352085,
           0.2601934750729377,
           0.5465874954199383,
           0.27742531679976895,
           0.479598191779937,
           0.2319815272773067,
           0.2543544269306552
          ],
          "color": "rgb(0,170,80)",
          "type": "data",
          "visible": true
         },
         "line": {
          "color": "rgb(0,100,80)"
         },
         "mode": "lines+markers",
         "name": "Test Data",
         "type": "scatter",
         "x": [
          -1.6516666666666668,
          -0.7999999999999999,
          -0.3061111111111112,
          0.021999999999999974,
          0.3085714285714286,
          0.755,
          1.6012499999999996
         ],
         "y": [
          2.2320420636266745,
          3.1515045656874707,
          3.8372014102181606,
          3.679312936441177,
          3.66939570704874,
          3.2465464065336915,
          2.6207960178538383
         ]
        },
        {
         "error_y": {
          "array": [
           0.011512937337912471,
           0.013243483462920586,
           0.014366334985099819,
           0.010919445849839978,
           0.016263674919580383,
           0.012314014963491042,
           0.009866720331504401
          ],
          "color": "rgb(0,100,246)",
          "type": "data",
          "visible": true
         },
         "line": {
          "color": "rgb(0,176,246)"
         },
         "mode": "lines+markers",
         "name": "Sim Data",
         "type": "scatter",
         "x": [
          -1.6516666666666668,
          -0.7999999999999999,
          -0.3061111111111112,
          0.021999999999999974,
          0.3085714285714286,
          0.755,
          1.6012499999999996
         ],
         "y": [
          2.8140665292249265,
          3.2337584359083222,
          3.4163218978102186,
          3.3373556711477326,
          3.3792829465770082,
          3.2175136188554783,
          2.8093634844370086
         ]
        },
        {
         "error_y": {
          "array": [
           0,
           0.0723351864143449,
           0.05555555555555556,
           0.0875376219064817,
           0.13725270326150324,
           0.10163945352271771,
           0.041666666666666664
          ],
          "color": "rgb(0,170,80)",
          "type": "data",
          "visible": true
         },
         "line": {
          "color": "rgb(0,100,80)"
         },
         "mode": "lines+markers",
         "name": "Test Data",
         "type": "scatter",
         "x": [
          -1.6516666666666668,
          -0.7999999999999999,
          -0.3061111111111112,
          0.021999999999999974,
          0.3085714285714286,
          0.755,
          1.6012499999999996
         ],
         "xaxis": "x2",
         "y": [
          0,
          0.10526315789473684,
          0.05555555555555555,
          0.3333333333333333,
          0.5714285714285714,
          0.6818181818181818,
          0.9583333333333334
         ],
         "yaxis": "y2"
        },
        {
         "error_y": {
          "array": [
           0.002491484261448775,
           0.0032487273240671584,
           0.0036928148892869063,
           0.002905930267244982,
           0.004156288176788707,
           0.0029865988589534032,
           0.002104543387632997
          ],
          "color": "rgb(0,100,246)",
          "type": "data",
          "visible": true
         },
         "line": {
          "color": "rgb(0,176,246)"
         },
         "mode": "lines+markers",
         "name": "Sim Data",
         "type": "scatter",
         "x": [
          -1.6516666666666668,
          -0.7999999999999999,
          -0.3061111111111112,
          0.021999999999999974,
          0.3085714285714286,
          0.755,
          1.6012499999999996
         ],
         "xaxis": "x2",
         "y": [
          0.12770936646793335,
          0.273981324278438,
          0.41549691184727683,
          0.5016212929811524,
          0.6051471119786019,
          0.7355557593543653,
          0.8794652182995613
         ],
         "yaxis": "y2"
        }
       ],
       "layout": {
        "annotations": [
         {
          "showarrow": false,
          "text": "PARAMETERS: v: 0.051, a: 0.164, θ: 0.55",
          "x": 0.01,
          "xref": "paper",
          "y": 1.12,
          "yref": "paper"
         },
         {
          "showarrow": false,
          "text": "MLE: 709.93",
          "x": 0.01,
          "xref": "paper",
          "y": 1.08,
          "yref": "paper"
         },
         {
          "font": {
           "family": "Arial, sans-serif",
           "size": 22
          },
          "showarrow": false,
          "text": "SUBJECT: 9",
          "x": 0.01,
          "xref": "paper",
          "y": 1.2,
          "yref": "paper"
         }
        ],
        "paper_bgcolor": "rgb(255,255,255)",
        "plot_bgcolor": "rgb(229,229,229)",
        "xaxis": {
         "domain": [
          0,
          0.45
         ],
         "gridcolor": "rgb(255,255,255)",
         "range": [
          -2,
          2
         ],
         "showgrid": true,
         "showline": false,
         "showticklabels": true,
         "tickcolor": "rgb(127,127,127)",
         "ticks": "outside",
         "title": "Net Value ($)",
         "zeroline": false
        },
        "xaxis2": {
         "domain": [
          0.55,
          1
         ],
         "gridcolor": "rgb(255,255,255)",
         "range": [
          -2,
          2
         ],
         "showgrid": true,
         "showline": false,
         "showticklabels": true,
         "tickcolor": "rgb(127,127,127)",
         "ticks": "outside",
         "title": "Net Value ($)",
         "zeroline": false
        },
        "yaxis1": {
         "anchor": "x1",
         "gridcolor": "rgb(255,255,255)",
         "range": [
          0
         ],
         "showgrid": true,
         "showline": false,
         "showticklabels": true,
         "tickcolor": "rgb(127,127,127)",
         "ticks": "outside",
         "title": "RT (s)",
         "zeroline": false
        },
        "yaxis2": {
         "anchor": "x2",
         "gridcolor": "rgb(255,255,255)",
         "range": [
          0
         ],
         "showgrid": true,
         "showline": false,
         "showticklabels": true,
         "tickcolor": "rgb(127,127,127)",
         "ticks": "outside",
         "title": "p (accept)",
         "zeroline": false
        }
       }
      },
      "text/html": [
       "<div id=\"ba01ccff-79ba-4fc5-b3e6-30be92864e2b\" style=\"height: 525px; width: 100%;\" class=\"plotly-graph-div\"></div><script type=\"text/javascript\">require([\"plotly\"], function(Plotly) { window.PLOTLYENV=window.PLOTLYENV || {};window.PLOTLYENV.BASE_URL=\"https://plot.ly\";Plotly.newPlot(\"ba01ccff-79ba-4fc5-b3e6-30be92864e2b\", [{\"type\": \"scatter\", \"x\": [-1.6516666666666668, -0.7999999999999999, -0.3061111111111112, 0.021999999999999974, 0.3085714285714286, 0.755, 1.6012499999999996], \"y\": [2.2320420636266745, 3.1515045656874707, 3.8372014102181606, 3.679312936441177, 3.66939570704874, 3.2465464065336915, 2.6207960178538383], \"error_y\": {\"type\": \"data\", \"array\": [0.20399141919352085, 0.2601934750729377, 0.5465874954199383, 0.27742531679976895, 0.479598191779937, 0.2319815272773067, 0.2543544269306552], \"color\": \"rgb(0,170,80)\", \"visible\": true}, \"line\": {\"color\": \"rgb(0,100,80)\"}, \"mode\": \"lines+markers\", \"name\": \"Test Data\"}, {\"type\": \"scatter\", \"x\": [-1.6516666666666668, -0.7999999999999999, -0.3061111111111112, 0.021999999999999974, 0.3085714285714286, 0.755, 1.6012499999999996], \"y\": [2.8140665292249265, 3.2337584359083222, 3.4163218978102186, 3.3373556711477326, 3.3792829465770082, 3.2175136188554783, 2.8093634844370086], \"error_y\": {\"type\": \"data\", \"array\": [0.011512937337912471, 0.013243483462920586, 0.014366334985099819, 0.010919445849839978, 0.016263674919580383, 0.012314014963491042, 0.009866720331504401], \"color\": \"rgb(0,100,246)\", \"visible\": true}, \"line\": {\"color\": \"rgb(0,176,246)\"}, \"mode\": \"lines+markers\", \"name\": \"Sim Data\"}, {\"type\": \"scatter\", \"x\": [-1.6516666666666668, -0.7999999999999999, -0.3061111111111112, 0.021999999999999974, 0.3085714285714286, 0.755, 1.6012499999999996], \"y\": [0.0, 0.10526315789473684, 0.05555555555555555, 0.3333333333333333, 0.5714285714285714, 0.6818181818181818, 0.9583333333333334], \"error_y\": {\"type\": \"data\", \"array\": [0.0, 0.0723351864143449, 0.05555555555555556, 0.0875376219064817, 0.13725270326150324, 0.10163945352271771, 0.041666666666666664], \"color\": \"rgb(0,170,80)\", \"visible\": true}, \"line\": {\"color\": \"rgb(0,100,80)\"}, \"mode\": \"lines+markers\", \"name\": \"Test Data\", \"xaxis\": \"x2\", \"yaxis\": \"y2\"}, {\"type\": \"scatter\", \"x\": [-1.6516666666666668, -0.7999999999999999, -0.3061111111111112, 0.021999999999999974, 0.3085714285714286, 0.755, 1.6012499999999996], \"y\": [0.12770936646793335, 0.273981324278438, 0.41549691184727683, 0.5016212929811524, 0.6051471119786019, 0.7355557593543653, 0.8794652182995613], \"error_y\": {\"type\": \"data\", \"array\": [0.002491484261448775, 0.0032487273240671584, 0.0036928148892869063, 0.002905930267244982, 0.004156288176788707, 0.0029865988589534032, 0.002104543387632997], \"color\": \"rgb(0,100,246)\", \"visible\": true}, \"line\": {\"color\": \"rgb(0,176,246)\"}, \"mode\": \"lines+markers\", \"name\": \"Sim Data\", \"xaxis\": \"x2\", \"yaxis\": \"y2\"}], {\"paper_bgcolor\": \"rgb(255,255,255)\", \"plot_bgcolor\": \"rgb(229,229,229)\", \"xaxis\": {\"gridcolor\": \"rgb(255,255,255)\", \"range\": [-2, 2], \"domain\": [0, 0.45], \"showgrid\": true, \"showline\": false, \"showticklabels\": true, \"tickcolor\": \"rgb(127,127,127)\", \"ticks\": \"outside\", \"title\": \"Net Value ($)\", \"zeroline\": false}, \"xaxis2\": {\"gridcolor\": \"rgb(255,255,255)\", \"range\": [-2, 2], \"domain\": [0.55, 1], \"showgrid\": true, \"showline\": false, \"showticklabels\": true, \"tickcolor\": \"rgb(127,127,127)\", \"ticks\": \"outside\", \"title\": \"Net Value ($)\", \"zeroline\": false}, \"yaxis1\": {\"gridcolor\": \"rgb(255,255,255)\", \"range\": [0], \"showgrid\": true, \"showline\": false, \"showticklabels\": true, \"tickcolor\": \"rgb(127,127,127)\", \"ticks\": \"outside\", \"title\": \"RT (s)\", \"anchor\": \"x1\", \"zeroline\": false}, \"yaxis2\": {\"gridcolor\": \"rgb(255,255,255)\", \"range\": [0], \"showgrid\": true, \"showline\": false, \"showticklabels\": true, \"tickcolor\": \"rgb(127,127,127)\", \"ticks\": \"outside\", \"title\": \"p (accept)\", \"anchor\": \"x2\", \"zeroline\": false}, \"annotations\": [{\"x\": 0.01, \"y\": 1.12, \"showarrow\": false, \"text\": \"PARAMETERS: v: 0.051, a: 0.164, \\u03b8: 0.55\", \"xref\": \"paper\", \"yref\": \"paper\"}, {\"x\": 0.01, \"y\": 1.08, \"showarrow\": false, \"text\": \"MLE: 709.93\", \"xref\": \"paper\", \"yref\": \"paper\"}, {\"x\": 0.01, \"y\": 1.2, \"showarrow\": false, \"text\": \"SUBJECT: 9\", \"font\": {\"family\": \"Arial, sans-serif\", \"size\": 22}, \"xref\": \"paper\", \"yref\": \"paper\"}]}, {\"showLink\": true, \"linkText\": \"Export to plot.ly\"})});</script>"
      ],
      "text/vnd.plotly.v1+html": [
       "<div id=\"ba01ccff-79ba-4fc5-b3e6-30be92864e2b\" style=\"height: 525px; width: 100%;\" class=\"plotly-graph-div\"></div><script type=\"text/javascript\">require([\"plotly\"], function(Plotly) { window.PLOTLYENV=window.PLOTLYENV || {};window.PLOTLYENV.BASE_URL=\"https://plot.ly\";Plotly.newPlot(\"ba01ccff-79ba-4fc5-b3e6-30be92864e2b\", [{\"type\": \"scatter\", \"x\": [-1.6516666666666668, -0.7999999999999999, -0.3061111111111112, 0.021999999999999974, 0.3085714285714286, 0.755, 1.6012499999999996], \"y\": [2.2320420636266745, 3.1515045656874707, 3.8372014102181606, 3.679312936441177, 3.66939570704874, 3.2465464065336915, 2.6207960178538383], \"error_y\": {\"type\": \"data\", \"array\": [0.20399141919352085, 0.2601934750729377, 0.5465874954199383, 0.27742531679976895, 0.479598191779937, 0.2319815272773067, 0.2543544269306552], \"color\": \"rgb(0,170,80)\", \"visible\": true}, \"line\": {\"color\": \"rgb(0,100,80)\"}, \"mode\": \"lines+markers\", \"name\": \"Test Data\"}, {\"type\": \"scatter\", \"x\": [-1.6516666666666668, -0.7999999999999999, -0.3061111111111112, 0.021999999999999974, 0.3085714285714286, 0.755, 1.6012499999999996], \"y\": [2.8140665292249265, 3.2337584359083222, 3.4163218978102186, 3.3373556711477326, 3.3792829465770082, 3.2175136188554783, 2.8093634844370086], \"error_y\": {\"type\": \"data\", \"array\": [0.011512937337912471, 0.013243483462920586, 0.014366334985099819, 0.010919445849839978, 0.016263674919580383, 0.012314014963491042, 0.009866720331504401], \"color\": \"rgb(0,100,246)\", \"visible\": true}, \"line\": {\"color\": \"rgb(0,176,246)\"}, \"mode\": \"lines+markers\", \"name\": \"Sim Data\"}, {\"type\": \"scatter\", \"x\": [-1.6516666666666668, -0.7999999999999999, -0.3061111111111112, 0.021999999999999974, 0.3085714285714286, 0.755, 1.6012499999999996], \"y\": [0.0, 0.10526315789473684, 0.05555555555555555, 0.3333333333333333, 0.5714285714285714, 0.6818181818181818, 0.9583333333333334], \"error_y\": {\"type\": \"data\", \"array\": [0.0, 0.0723351864143449, 0.05555555555555556, 0.0875376219064817, 0.13725270326150324, 0.10163945352271771, 0.041666666666666664], \"color\": \"rgb(0,170,80)\", \"visible\": true}, \"line\": {\"color\": \"rgb(0,100,80)\"}, \"mode\": \"lines+markers\", \"name\": \"Test Data\", \"xaxis\": \"x2\", \"yaxis\": \"y2\"}, {\"type\": \"scatter\", \"x\": [-1.6516666666666668, -0.7999999999999999, -0.3061111111111112, 0.021999999999999974, 0.3085714285714286, 0.755, 1.6012499999999996], \"y\": [0.12770936646793335, 0.273981324278438, 0.41549691184727683, 0.5016212929811524, 0.6051471119786019, 0.7355557593543653, 0.8794652182995613], \"error_y\": {\"type\": \"data\", \"array\": [0.002491484261448775, 0.0032487273240671584, 0.0036928148892869063, 0.002905930267244982, 0.004156288176788707, 0.0029865988589534032, 0.002104543387632997], \"color\": \"rgb(0,100,246)\", \"visible\": true}, \"line\": {\"color\": \"rgb(0,176,246)\"}, \"mode\": \"lines+markers\", \"name\": \"Sim Data\", \"xaxis\": \"x2\", \"yaxis\": \"y2\"}], {\"paper_bgcolor\": \"rgb(255,255,255)\", \"plot_bgcolor\": \"rgb(229,229,229)\", \"xaxis\": {\"gridcolor\": \"rgb(255,255,255)\", \"range\": [-2, 2], \"domain\": [0, 0.45], \"showgrid\": true, \"showline\": false, \"showticklabels\": true, \"tickcolor\": \"rgb(127,127,127)\", \"ticks\": \"outside\", \"title\": \"Net Value ($)\", \"zeroline\": false}, \"xaxis2\": {\"gridcolor\": \"rgb(255,255,255)\", \"range\": [-2, 2], \"domain\": [0.55, 1], \"showgrid\": true, \"showline\": false, \"showticklabels\": true, \"tickcolor\": \"rgb(127,127,127)\", \"ticks\": \"outside\", \"title\": \"Net Value ($)\", \"zeroline\": false}, \"yaxis1\": {\"gridcolor\": \"rgb(255,255,255)\", \"range\": [0], \"showgrid\": true, \"showline\": false, \"showticklabels\": true, \"tickcolor\": \"rgb(127,127,127)\", \"ticks\": \"outside\", \"title\": \"RT (s)\", \"anchor\": \"x1\", \"zeroline\": false}, \"yaxis2\": {\"gridcolor\": \"rgb(255,255,255)\", \"range\": [0], \"showgrid\": true, \"showline\": false, \"showticklabels\": true, \"tickcolor\": \"rgb(127,127,127)\", \"ticks\": \"outside\", \"title\": \"p (accept)\", \"anchor\": \"x2\", \"zeroline\": false}, \"annotations\": [{\"x\": 0.01, \"y\": 1.12, \"showarrow\": false, \"text\": \"PARAMETERS: v: 0.051, a: 0.164, \\u03b8: 0.55\", \"xref\": \"paper\", \"yref\": \"paper\"}, {\"x\": 0.01, \"y\": 1.08, \"showarrow\": false, \"text\": \"MLE: 709.93\", \"xref\": \"paper\", \"yref\": \"paper\"}, {\"x\": 0.01, \"y\": 1.2, \"showarrow\": false, \"text\": \"SUBJECT: 9\", \"font\": {\"family\": \"Arial, sans-serif\", \"size\": 22}, \"xref\": \"paper\", \"yref\": \"paper\"}]}, {\"showLink\": true, \"linkText\": \"Export to plot.ly\"})});</script>"
      ]
     },
     "metadata": {},
     "output_type": "display_data"
    },
    {
     "data": {
      "text/html": [
       "<script>requirejs.config({paths: { 'plotly': ['https://cdn.plot.ly/plotly-latest.min']},});if(!window.Plotly) {{require(['plotly'],function(plotly) {window.Plotly=plotly;});}}</script>"
      ],
      "text/vnd.plotly.v1+html": [
       "<script>requirejs.config({paths: { 'plotly': ['https://cdn.plot.ly/plotly-latest.min']},});if(!window.Plotly) {{require(['plotly'],function(plotly) {window.Plotly=plotly;});}}</script>"
      ]
     },
     "metadata": {},
     "output_type": "display_data"
    },
    {
     "data": {
      "application/vnd.plotly.v1+json": {
       "data": [
        {
         "error_y": {
          "array": [
           0.07616604737317792,
           0.14438549468242168,
           0.14458000890355516,
           0.10787687796187027,
           0.07093739696586357,
           0.10126798438306985,
           0.16481247459750326
          ],
          "color": "rgb(0,170,80)",
          "type": "data",
          "visible": true
         },
         "line": {
          "color": "rgb(0,100,80)"
         },
         "mode": "lines+markers",
         "name": "Test Data",
         "type": "scatter",
         "x": [
          -1.7031249999999998,
          -0.7686956521739132,
          -0.3030434782608696,
          0.03931034482758616,
          0.30571428571428566,
          0.8077777777777778,
          1.543703703703704
         ],
         "y": [
          1.4046127560495743,
          1.5821645455308386,
          1.6670572126288032,
          1.6898470153256342,
          1.364798731411741,
          1.4487807321679107,
          1.5888184394258404
         ]
        },
        {
         "error_y": {
          "array": [
           0.0031159165008727563,
           0.004513207557001026,
           0.006040491113254108,
           0.005446325603230817,
           0.007551862664969624,
           0.004904262097697327,
           0.002701782879076289
          ],
          "color": "rgb(0,100,246)",
          "type": "data",
          "visible": true
         },
         "line": {
          "color": "rgb(0,176,246)"
         },
         "mode": "lines+markers",
         "name": "Sim Data",
         "type": "scatter",
         "x": [
          -1.7031249999999998,
          -0.7686956521739132,
          -0.3030434782608696,
          0.03931034482758616,
          0.30571428571428566,
          0.8077777777777778,
          1.543703703703704
         ],
         "y": [
          1.338963749999998,
          1.6856725217391337,
          1.9308508260869541,
          1.9420260344827613,
          1.9184556428571429,
          1.6536043333333283,
          1.398028555555567
         ]
        },
        {
         "error_y": {
          "array": [
           0,
           0.043478260869565216,
           0.07180198468215396,
           0.09443492370778726,
           0.12529400275814703,
           0.0762215933966706,
           0
          ],
          "color": "rgb(0,170,80)",
          "type": "data",
          "visible": true
         },
         "line": {
          "color": "rgb(0,100,80)"
         },
         "mode": "lines+markers",
         "name": "Test Data",
         "type": "scatter",
         "x": [
          -1.7031249999999998,
          -0.7686956521739132,
          -0.3030434782608696,
          0.03931034482758616,
          0.30571428571428566,
          0.8077777777777778,
          1.543703703703704
         ],
         "xaxis": "x2",
         "y": [
          0,
          0.043478260869565216,
          0.13043478260869565,
          0.4827586206896552,
          0.7142857142857143,
          0.8888888888888888,
          1
         ],
         "yaxis": "y2"
        },
        {
         "error_y": {
          "array": [
           0.0010293656145160593,
           0.0021610820884923614,
           0.003068438448915685,
           0.002934211830822366,
           0.003960657174365559,
           0.002272652485885499,
           0.0009811478267308963
          ],
          "color": "rgb(0,100,246)",
          "type": "data",
          "visible": true
         },
         "line": {
          "color": "rgb(0,176,246)"
         },
         "mode": "lines+markers",
         "name": "Sim Data",
         "type": "scatter",
         "x": [
          -1.7031249999999998,
          -0.7686956521739132,
          -0.3030434782608696,
          0.03931034482758616,
          0.30571428571428566,
          0.8077777777777778,
          1.543703703703704
         ],
         "xaxis": "x2",
         "y": [
          0.01725,
          0.1223913043478261,
          0.3170869565217391,
          0.5181724137931034,
          0.6743571428571429,
          0.8962777777777777,
          0.9732962962962963
         ],
         "yaxis": "y2"
        }
       ],
       "layout": {
        "annotations": [
         {
          "showarrow": false,
          "text": "PARAMETERS: v: 0.134, a: 0.107, θ: 0.775",
          "x": 0.01,
          "xref": "paper",
          "y": 1.12,
          "yref": "paper"
         },
         {
          "showarrow": false,
          "text": "MLE: 577.69",
          "x": 0.01,
          "xref": "paper",
          "y": 1.08,
          "yref": "paper"
         },
         {
          "font": {
           "family": "Arial, sans-serif",
           "size": 22
          },
          "showarrow": false,
          "text": "SUBJECT: 10",
          "x": 0.01,
          "xref": "paper",
          "y": 1.2,
          "yref": "paper"
         }
        ],
        "paper_bgcolor": "rgb(255,255,255)",
        "plot_bgcolor": "rgb(229,229,229)",
        "xaxis": {
         "domain": [
          0,
          0.45
         ],
         "gridcolor": "rgb(255,255,255)",
         "range": [
          -2,
          2
         ],
         "showgrid": true,
         "showline": false,
         "showticklabels": true,
         "tickcolor": "rgb(127,127,127)",
         "ticks": "outside",
         "title": "Net Value ($)",
         "zeroline": false
        },
        "xaxis2": {
         "domain": [
          0.55,
          1
         ],
         "gridcolor": "rgb(255,255,255)",
         "range": [
          -2,
          2
         ],
         "showgrid": true,
         "showline": false,
         "showticklabels": true,
         "tickcolor": "rgb(127,127,127)",
         "ticks": "outside",
         "title": "Net Value ($)",
         "zeroline": false
        },
        "yaxis1": {
         "anchor": "x1",
         "gridcolor": "rgb(255,255,255)",
         "range": [
          0
         ],
         "showgrid": true,
         "showline": false,
         "showticklabels": true,
         "tickcolor": "rgb(127,127,127)",
         "ticks": "outside",
         "title": "RT (s)",
         "zeroline": false
        },
        "yaxis2": {
         "anchor": "x2",
         "gridcolor": "rgb(255,255,255)",
         "range": [
          0
         ],
         "showgrid": true,
         "showline": false,
         "showticklabels": true,
         "tickcolor": "rgb(127,127,127)",
         "ticks": "outside",
         "title": "p (accept)",
         "zeroline": false
        }
       }
      },
      "text/html": [
       "<div id=\"4af8c51a-f799-4f94-abe7-6e7b347754c0\" style=\"height: 525px; width: 100%;\" class=\"plotly-graph-div\"></div><script type=\"text/javascript\">require([\"plotly\"], function(Plotly) { window.PLOTLYENV=window.PLOTLYENV || {};window.PLOTLYENV.BASE_URL=\"https://plot.ly\";Plotly.newPlot(\"4af8c51a-f799-4f94-abe7-6e7b347754c0\", [{\"type\": \"scatter\", \"x\": [-1.7031249999999998, -0.7686956521739132, -0.3030434782608696, 0.03931034482758616, 0.30571428571428566, 0.8077777777777778, 1.543703703703704], \"y\": [1.4046127560495743, 1.5821645455308386, 1.6670572126288032, 1.6898470153256342, 1.364798731411741, 1.4487807321679107, 1.5888184394258404], \"error_y\": {\"type\": \"data\", \"array\": [0.07616604737317792, 0.14438549468242168, 0.14458000890355516, 0.10787687796187027, 0.07093739696586357, 0.10126798438306985, 0.16481247459750326], \"color\": \"rgb(0,170,80)\", \"visible\": true}, \"line\": {\"color\": \"rgb(0,100,80)\"}, \"mode\": \"lines+markers\", \"name\": \"Test Data\"}, {\"type\": \"scatter\", \"x\": [-1.7031249999999998, -0.7686956521739132, -0.3030434782608696, 0.03931034482758616, 0.30571428571428566, 0.8077777777777778, 1.543703703703704], \"y\": [1.338963749999998, 1.6856725217391337, 1.9308508260869541, 1.9420260344827613, 1.9184556428571429, 1.6536043333333283, 1.398028555555567], \"error_y\": {\"type\": \"data\", \"array\": [0.0031159165008727563, 0.004513207557001026, 0.006040491113254108, 0.005446325603230817, 0.007551862664969624, 0.004904262097697327, 0.002701782879076289], \"color\": \"rgb(0,100,246)\", \"visible\": true}, \"line\": {\"color\": \"rgb(0,176,246)\"}, \"mode\": \"lines+markers\", \"name\": \"Sim Data\"}, {\"type\": \"scatter\", \"x\": [-1.7031249999999998, -0.7686956521739132, -0.3030434782608696, 0.03931034482758616, 0.30571428571428566, 0.8077777777777778, 1.543703703703704], \"y\": [0.0, 0.043478260869565216, 0.13043478260869565, 0.4827586206896552, 0.7142857142857143, 0.8888888888888888, 1.0], \"error_y\": {\"type\": \"data\", \"array\": [0.0, 0.043478260869565216, 0.07180198468215396, 0.09443492370778726, 0.12529400275814703, 0.0762215933966706, 0.0], \"color\": \"rgb(0,170,80)\", \"visible\": true}, \"line\": {\"color\": \"rgb(0,100,80)\"}, \"mode\": \"lines+markers\", \"name\": \"Test Data\", \"xaxis\": \"x2\", \"yaxis\": \"y2\"}, {\"type\": \"scatter\", \"x\": [-1.7031249999999998, -0.7686956521739132, -0.3030434782608696, 0.03931034482758616, 0.30571428571428566, 0.8077777777777778, 1.543703703703704], \"y\": [0.01725, 0.1223913043478261, 0.3170869565217391, 0.5181724137931034, 0.6743571428571429, 0.8962777777777777, 0.9732962962962963], \"error_y\": {\"type\": \"data\", \"array\": [0.0010293656145160593, 0.0021610820884923614, 0.003068438448915685, 0.002934211830822366, 0.003960657174365559, 0.002272652485885499, 0.0009811478267308963], \"color\": \"rgb(0,100,246)\", \"visible\": true}, \"line\": {\"color\": \"rgb(0,176,246)\"}, \"mode\": \"lines+markers\", \"name\": \"Sim Data\", \"xaxis\": \"x2\", \"yaxis\": \"y2\"}], {\"paper_bgcolor\": \"rgb(255,255,255)\", \"plot_bgcolor\": \"rgb(229,229,229)\", \"xaxis\": {\"gridcolor\": \"rgb(255,255,255)\", \"range\": [-2, 2], \"domain\": [0, 0.45], \"showgrid\": true, \"showline\": false, \"showticklabels\": true, \"tickcolor\": \"rgb(127,127,127)\", \"ticks\": \"outside\", \"title\": \"Net Value ($)\", \"zeroline\": false}, \"xaxis2\": {\"gridcolor\": \"rgb(255,255,255)\", \"range\": [-2, 2], \"domain\": [0.55, 1], \"showgrid\": true, \"showline\": false, \"showticklabels\": true, \"tickcolor\": \"rgb(127,127,127)\", \"ticks\": \"outside\", \"title\": \"Net Value ($)\", \"zeroline\": false}, \"yaxis1\": {\"gridcolor\": \"rgb(255,255,255)\", \"range\": [0], \"showgrid\": true, \"showline\": false, \"showticklabels\": true, \"tickcolor\": \"rgb(127,127,127)\", \"ticks\": \"outside\", \"title\": \"RT (s)\", \"anchor\": \"x1\", \"zeroline\": false}, \"yaxis2\": {\"gridcolor\": \"rgb(255,255,255)\", \"range\": [0], \"showgrid\": true, \"showline\": false, \"showticklabels\": true, \"tickcolor\": \"rgb(127,127,127)\", \"ticks\": \"outside\", \"title\": \"p (accept)\", \"anchor\": \"x2\", \"zeroline\": false}, \"annotations\": [{\"x\": 0.01, \"y\": 1.12, \"showarrow\": false, \"text\": \"PARAMETERS: v: 0.134, a: 0.107, \\u03b8: 0.775\", \"xref\": \"paper\", \"yref\": \"paper\"}, {\"x\": 0.01, \"y\": 1.08, \"showarrow\": false, \"text\": \"MLE: 577.69\", \"xref\": \"paper\", \"yref\": \"paper\"}, {\"x\": 0.01, \"y\": 1.2, \"showarrow\": false, \"text\": \"SUBJECT: 10\", \"font\": {\"family\": \"Arial, sans-serif\", \"size\": 22}, \"xref\": \"paper\", \"yref\": \"paper\"}]}, {\"showLink\": true, \"linkText\": \"Export to plot.ly\"})});</script>"
      ],
      "text/vnd.plotly.v1+html": [
       "<div id=\"4af8c51a-f799-4f94-abe7-6e7b347754c0\" style=\"height: 525px; width: 100%;\" class=\"plotly-graph-div\"></div><script type=\"text/javascript\">require([\"plotly\"], function(Plotly) { window.PLOTLYENV=window.PLOTLYENV || {};window.PLOTLYENV.BASE_URL=\"https://plot.ly\";Plotly.newPlot(\"4af8c51a-f799-4f94-abe7-6e7b347754c0\", [{\"type\": \"scatter\", \"x\": [-1.7031249999999998, -0.7686956521739132, -0.3030434782608696, 0.03931034482758616, 0.30571428571428566, 0.8077777777777778, 1.543703703703704], \"y\": [1.4046127560495743, 1.5821645455308386, 1.6670572126288032, 1.6898470153256342, 1.364798731411741, 1.4487807321679107, 1.5888184394258404], \"error_y\": {\"type\": \"data\", \"array\": [0.07616604737317792, 0.14438549468242168, 0.14458000890355516, 0.10787687796187027, 0.07093739696586357, 0.10126798438306985, 0.16481247459750326], \"color\": \"rgb(0,170,80)\", \"visible\": true}, \"line\": {\"color\": \"rgb(0,100,80)\"}, \"mode\": \"lines+markers\", \"name\": \"Test Data\"}, {\"type\": \"scatter\", \"x\": [-1.7031249999999998, -0.7686956521739132, -0.3030434782608696, 0.03931034482758616, 0.30571428571428566, 0.8077777777777778, 1.543703703703704], \"y\": [1.338963749999998, 1.6856725217391337, 1.9308508260869541, 1.9420260344827613, 1.9184556428571429, 1.6536043333333283, 1.398028555555567], \"error_y\": {\"type\": \"data\", \"array\": [0.0031159165008727563, 0.004513207557001026, 0.006040491113254108, 0.005446325603230817, 0.007551862664969624, 0.004904262097697327, 0.002701782879076289], \"color\": \"rgb(0,100,246)\", \"visible\": true}, \"line\": {\"color\": \"rgb(0,176,246)\"}, \"mode\": \"lines+markers\", \"name\": \"Sim Data\"}, {\"type\": \"scatter\", \"x\": [-1.7031249999999998, -0.7686956521739132, -0.3030434782608696, 0.03931034482758616, 0.30571428571428566, 0.8077777777777778, 1.543703703703704], \"y\": [0.0, 0.043478260869565216, 0.13043478260869565, 0.4827586206896552, 0.7142857142857143, 0.8888888888888888, 1.0], \"error_y\": {\"type\": \"data\", \"array\": [0.0, 0.043478260869565216, 0.07180198468215396, 0.09443492370778726, 0.12529400275814703, 0.0762215933966706, 0.0], \"color\": \"rgb(0,170,80)\", \"visible\": true}, \"line\": {\"color\": \"rgb(0,100,80)\"}, \"mode\": \"lines+markers\", \"name\": \"Test Data\", \"xaxis\": \"x2\", \"yaxis\": \"y2\"}, {\"type\": \"scatter\", \"x\": [-1.7031249999999998, -0.7686956521739132, -0.3030434782608696, 0.03931034482758616, 0.30571428571428566, 0.8077777777777778, 1.543703703703704], \"y\": [0.01725, 0.1223913043478261, 0.3170869565217391, 0.5181724137931034, 0.6743571428571429, 0.8962777777777777, 0.9732962962962963], \"error_y\": {\"type\": \"data\", \"array\": [0.0010293656145160593, 0.0021610820884923614, 0.003068438448915685, 0.002934211830822366, 0.003960657174365559, 0.002272652485885499, 0.0009811478267308963], \"color\": \"rgb(0,100,246)\", \"visible\": true}, \"line\": {\"color\": \"rgb(0,176,246)\"}, \"mode\": \"lines+markers\", \"name\": \"Sim Data\", \"xaxis\": \"x2\", \"yaxis\": \"y2\"}], {\"paper_bgcolor\": \"rgb(255,255,255)\", \"plot_bgcolor\": \"rgb(229,229,229)\", \"xaxis\": {\"gridcolor\": \"rgb(255,255,255)\", \"range\": [-2, 2], \"domain\": [0, 0.45], \"showgrid\": true, \"showline\": false, \"showticklabels\": true, \"tickcolor\": \"rgb(127,127,127)\", \"ticks\": \"outside\", \"title\": \"Net Value ($)\", \"zeroline\": false}, \"xaxis2\": {\"gridcolor\": \"rgb(255,255,255)\", \"range\": [-2, 2], \"domain\": [0.55, 1], \"showgrid\": true, \"showline\": false, \"showticklabels\": true, \"tickcolor\": \"rgb(127,127,127)\", \"ticks\": \"outside\", \"title\": \"Net Value ($)\", \"zeroline\": false}, \"yaxis1\": {\"gridcolor\": \"rgb(255,255,255)\", \"range\": [0], \"showgrid\": true, \"showline\": false, \"showticklabels\": true, \"tickcolor\": \"rgb(127,127,127)\", \"ticks\": \"outside\", \"title\": \"RT (s)\", \"anchor\": \"x1\", \"zeroline\": false}, \"yaxis2\": {\"gridcolor\": \"rgb(255,255,255)\", \"range\": [0], \"showgrid\": true, \"showline\": false, \"showticklabels\": true, \"tickcolor\": \"rgb(127,127,127)\", \"ticks\": \"outside\", \"title\": \"p (accept)\", \"anchor\": \"x2\", \"zeroline\": false}, \"annotations\": [{\"x\": 0.01, \"y\": 1.12, \"showarrow\": false, \"text\": \"PARAMETERS: v: 0.134, a: 0.107, \\u03b8: 0.775\", \"xref\": \"paper\", \"yref\": \"paper\"}, {\"x\": 0.01, \"y\": 1.08, \"showarrow\": false, \"text\": \"MLE: 577.69\", \"xref\": \"paper\", \"yref\": \"paper\"}, {\"x\": 0.01, \"y\": 1.2, \"showarrow\": false, \"text\": \"SUBJECT: 10\", \"font\": {\"family\": \"Arial, sans-serif\", \"size\": 22}, \"xref\": \"paper\", \"yref\": \"paper\"}]}, {\"showLink\": true, \"linkText\": \"Export to plot.ly\"})});</script>"
      ]
     },
     "metadata": {},
     "output_type": "display_data"
    },
    {
     "data": {
      "text/html": [
       "<script>requirejs.config({paths: { 'plotly': ['https://cdn.plot.ly/plotly-latest.min']},});if(!window.Plotly) {{require(['plotly'],function(plotly) {window.Plotly=plotly;});}}</script>"
      ],
      "text/vnd.plotly.v1+html": [
       "<script>requirejs.config({paths: { 'plotly': ['https://cdn.plot.ly/plotly-latest.min']},});if(!window.Plotly) {{require(['plotly'],function(plotly) {window.Plotly=plotly;});}}</script>"
      ]
     },
     "metadata": {},
     "output_type": "display_data"
    },
    {
     "data": {
      "application/vnd.plotly.v1+json": {
       "data": [
        {
         "error_y": {
          "array": [
           0.16542461317500906,
           0.14250108799010788,
           0.26415835088107037,
           0.21216393868880468,
           0.19879899545356386,
           0.5476666366092845,
           0.3157779737433651
          ],
          "color": "rgb(0,170,80)",
          "type": "data",
          "visible": true
         },
         "line": {
          "color": "rgb(0,100,80)"
         },
         "mode": "lines+markers",
         "name": "Test Data",
         "type": "scatter",
         "x": [
          -1.597931034482759,
          -0.8205,
          -0.33473684210526317,
          0.024615384615384595,
          0.325,
          0.7692857142857144,
          1.6470588235294117
         ],
         "y": [
          1.7674789144306298,
          1.8286884014582026,
          2.3832794208245005,
          2.3723446789976705,
          1.9930844648079074,
          1.8234070319220872,
          1.733123961601556
         ]
        },
        {
         "error_y": {
          "array": [
           0.004982443919129475,
           0.00649127037430554,
           0.006926428210847191,
           0.005799605602391621,
           0.006051491107220033,
           0.007841146180264855,
           0.006414412223260793
          ],
          "color": "rgb(0,100,246)",
          "type": "data",
          "visible": true
         },
         "line": {
          "color": "rgb(0,176,246)"
         },
         "mode": "lines+markers",
         "name": "Sim Data",
         "type": "scatter",
         "x": [
          -1.597931034482759,
          -0.8205,
          -0.33473684210526317,
          0.024615384615384595,
          0.325,
          0.7692857142857144,
          1.6470588235294117
         ],
         "y": [
          1.845371862068965,
          1.942933946697336,
          1.9678544736842232,
          1.9403734902684693,
          1.9698985332110912,
          1.9550674285714214,
          1.8674065294117708
         ]
        },
        {
         "error_y": {
          "array": [
           0.034482758620689655,
           0.08191780219091253,
           0.085947008518708,
           0.10000000000000002,
           0.04166666666666667,
           0.07142857142857144,
           0
          ],
          "color": "rgb(0,170,80)",
          "type": "data",
          "visible": true
         },
         "line": {
          "color": "rgb(0,100,80)"
         },
         "mode": "lines+markers",
         "name": "Test Data",
         "type": "scatter",
         "x": [
          -1.597931034482759,
          -0.8205,
          -0.33473684210526317,
          0.024615384615384595,
          0.325,
          0.7692857142857144,
          1.6470588235294117
         ],
         "xaxis": "x2",
         "y": [
          0.034482758620689655,
          0.15,
          0.15789473684210525,
          0.5,
          0.9583333333333334,
          0.9285714285714286,
          1
         ],
         "yaxis": "y2"
        },
        {
         "error_y": {
          "array": [
           0.0024720352656932617,
           0.003435612724015591,
           0.003582824159517073,
           0.0031000111575120925,
           0.003213215547608726,
           0.004178839983080628,
           0.003326346837300769
          ],
          "color": "rgb(0,100,246)",
          "type": "data",
          "visible": true
         },
         "line": {
          "color": "rgb(0,176,246)"
         },
         "mode": "lines+markers",
         "name": "Sim Data",
         "type": "scatter",
         "x": [
          -1.597931034482759,
          -0.8205,
          -0.33473684210526317,
          0.024615384615384595,
          0.325,
          0.7692857142857144,
          1.6470588235294117
         ],
         "xaxis": "x2",
         "y": [
          0.23020689655172413,
          0.38186909345467274,
          0.42178947368421055,
          0.5129240710823909,
          0.5472956079673306,
          0.5744285714285714,
          0.7488235294117647
         ],
         "yaxis": "y2"
        }
       ],
       "layout": {
        "annotations": [
         {
          "showarrow": false,
          "text": "PARAMETERS: v: 0.051, a: 0.107, θ: 0.325",
          "x": 0.01,
          "xref": "paper",
          "y": 1.12,
          "yref": "paper"
         },
         {
          "showarrow": false,
          "text": "MLE: 659.23",
          "x": 0.01,
          "xref": "paper",
          "y": 1.08,
          "yref": "paper"
         },
         {
          "font": {
           "family": "Arial, sans-serif",
           "size": 22
          },
          "showarrow": false,
          "text": "SUBJECT: 11",
          "x": 0.01,
          "xref": "paper",
          "y": 1.2,
          "yref": "paper"
         }
        ],
        "paper_bgcolor": "rgb(255,255,255)",
        "plot_bgcolor": "rgb(229,229,229)",
        "xaxis": {
         "domain": [
          0,
          0.45
         ],
         "gridcolor": "rgb(255,255,255)",
         "range": [
          -2,
          2
         ],
         "showgrid": true,
         "showline": false,
         "showticklabels": true,
         "tickcolor": "rgb(127,127,127)",
         "ticks": "outside",
         "title": "Net Value ($)",
         "zeroline": false
        },
        "xaxis2": {
         "domain": [
          0.55,
          1
         ],
         "gridcolor": "rgb(255,255,255)",
         "range": [
          -2,
          2
         ],
         "showgrid": true,
         "showline": false,
         "showticklabels": true,
         "tickcolor": "rgb(127,127,127)",
         "ticks": "outside",
         "title": "Net Value ($)",
         "zeroline": false
        },
        "yaxis1": {
         "anchor": "x1",
         "gridcolor": "rgb(255,255,255)",
         "range": [
          0
         ],
         "showgrid": true,
         "showline": false,
         "showticklabels": true,
         "tickcolor": "rgb(127,127,127)",
         "ticks": "outside",
         "title": "RT (s)",
         "zeroline": false
        },
        "yaxis2": {
         "anchor": "x2",
         "gridcolor": "rgb(255,255,255)",
         "range": [
          0
         ],
         "showgrid": true,
         "showline": false,
         "showticklabels": true,
         "tickcolor": "rgb(127,127,127)",
         "ticks": "outside",
         "title": "p (accept)",
         "zeroline": false
        }
       }
      },
      "text/html": [
       "<div id=\"09466540-4552-4d0e-aca3-35913170de69\" style=\"height: 525px; width: 100%;\" class=\"plotly-graph-div\"></div><script type=\"text/javascript\">require([\"plotly\"], function(Plotly) { window.PLOTLYENV=window.PLOTLYENV || {};window.PLOTLYENV.BASE_URL=\"https://plot.ly\";Plotly.newPlot(\"09466540-4552-4d0e-aca3-35913170de69\", [{\"type\": \"scatter\", \"x\": [-1.597931034482759, -0.8205, -0.33473684210526317, 0.024615384615384595, 0.325, 0.7692857142857144, 1.6470588235294117], \"y\": [1.7674789144306298, 1.8286884014582026, 2.3832794208245005, 2.3723446789976705, 1.9930844648079074, 1.8234070319220872, 1.733123961601556], \"error_y\": {\"type\": \"data\", \"array\": [0.16542461317500906, 0.14250108799010788, 0.26415835088107037, 0.21216393868880468, 0.19879899545356386, 0.5476666366092845, 0.3157779737433651], \"color\": \"rgb(0,170,80)\", \"visible\": true}, \"line\": {\"color\": \"rgb(0,100,80)\"}, \"mode\": \"lines+markers\", \"name\": \"Test Data\"}, {\"type\": \"scatter\", \"x\": [-1.597931034482759, -0.8205, -0.33473684210526317, 0.024615384615384595, 0.325, 0.7692857142857144, 1.6470588235294117], \"y\": [1.845371862068965, 1.942933946697336, 1.9678544736842232, 1.9403734902684693, 1.9698985332110912, 1.9550674285714214, 1.8674065294117708], \"error_y\": {\"type\": \"data\", \"array\": [0.004982443919129475, 0.00649127037430554, 0.006926428210847191, 0.005799605602391621, 0.006051491107220033, 0.007841146180264855, 0.006414412223260793], \"color\": \"rgb(0,100,246)\", \"visible\": true}, \"line\": {\"color\": \"rgb(0,176,246)\"}, \"mode\": \"lines+markers\", \"name\": \"Sim Data\"}, {\"type\": \"scatter\", \"x\": [-1.597931034482759, -0.8205, -0.33473684210526317, 0.024615384615384595, 0.325, 0.7692857142857144, 1.6470588235294117], \"y\": [0.034482758620689655, 0.15, 0.15789473684210525, 0.5, 0.9583333333333334, 0.9285714285714286, 1.0], \"error_y\": {\"type\": \"data\", \"array\": [0.034482758620689655, 0.08191780219091253, 0.085947008518708, 0.10000000000000002, 0.04166666666666667, 0.07142857142857144, 0.0], \"color\": \"rgb(0,170,80)\", \"visible\": true}, \"line\": {\"color\": \"rgb(0,100,80)\"}, \"mode\": \"lines+markers\", \"name\": \"Test Data\", \"xaxis\": \"x2\", \"yaxis\": \"y2\"}, {\"type\": \"scatter\", \"x\": [-1.597931034482759, -0.8205, -0.33473684210526317, 0.024615384615384595, 0.325, 0.7692857142857144, 1.6470588235294117], \"y\": [0.23020689655172413, 0.38186909345467274, 0.42178947368421055, 0.5129240710823909, 0.5472956079673306, 0.5744285714285714, 0.7488235294117647], \"error_y\": {\"type\": \"data\", \"array\": [0.0024720352656932617, 0.003435612724015591, 0.003582824159517073, 0.0031000111575120925, 0.003213215547608726, 0.004178839983080628, 0.003326346837300769], \"color\": \"rgb(0,100,246)\", \"visible\": true}, \"line\": {\"color\": \"rgb(0,176,246)\"}, \"mode\": \"lines+markers\", \"name\": \"Sim Data\", \"xaxis\": \"x2\", \"yaxis\": \"y2\"}], {\"paper_bgcolor\": \"rgb(255,255,255)\", \"plot_bgcolor\": \"rgb(229,229,229)\", \"xaxis\": {\"gridcolor\": \"rgb(255,255,255)\", \"range\": [-2, 2], \"domain\": [0, 0.45], \"showgrid\": true, \"showline\": false, \"showticklabels\": true, \"tickcolor\": \"rgb(127,127,127)\", \"ticks\": \"outside\", \"title\": \"Net Value ($)\", \"zeroline\": false}, \"xaxis2\": {\"gridcolor\": \"rgb(255,255,255)\", \"range\": [-2, 2], \"domain\": [0.55, 1], \"showgrid\": true, \"showline\": false, \"showticklabels\": true, \"tickcolor\": \"rgb(127,127,127)\", \"ticks\": \"outside\", \"title\": \"Net Value ($)\", \"zeroline\": false}, \"yaxis1\": {\"gridcolor\": \"rgb(255,255,255)\", \"range\": [0], \"showgrid\": true, \"showline\": false, \"showticklabels\": true, \"tickcolor\": \"rgb(127,127,127)\", \"ticks\": \"outside\", \"title\": \"RT (s)\", \"anchor\": \"x1\", \"zeroline\": false}, \"yaxis2\": {\"gridcolor\": \"rgb(255,255,255)\", \"range\": [0], \"showgrid\": true, \"showline\": false, \"showticklabels\": true, \"tickcolor\": \"rgb(127,127,127)\", \"ticks\": \"outside\", \"title\": \"p (accept)\", \"anchor\": \"x2\", \"zeroline\": false}, \"annotations\": [{\"x\": 0.01, \"y\": 1.12, \"showarrow\": false, \"text\": \"PARAMETERS: v: 0.051, a: 0.107, \\u03b8: 0.325\", \"xref\": \"paper\", \"yref\": \"paper\"}, {\"x\": 0.01, \"y\": 1.08, \"showarrow\": false, \"text\": \"MLE: 659.23\", \"xref\": \"paper\", \"yref\": \"paper\"}, {\"x\": 0.01, \"y\": 1.2, \"showarrow\": false, \"text\": \"SUBJECT: 11\", \"font\": {\"family\": \"Arial, sans-serif\", \"size\": 22}, \"xref\": \"paper\", \"yref\": \"paper\"}]}, {\"showLink\": true, \"linkText\": \"Export to plot.ly\"})});</script>"
      ],
      "text/vnd.plotly.v1+html": [
       "<div id=\"09466540-4552-4d0e-aca3-35913170de69\" style=\"height: 525px; width: 100%;\" class=\"plotly-graph-div\"></div><script type=\"text/javascript\">require([\"plotly\"], function(Plotly) { window.PLOTLYENV=window.PLOTLYENV || {};window.PLOTLYENV.BASE_URL=\"https://plot.ly\";Plotly.newPlot(\"09466540-4552-4d0e-aca3-35913170de69\", [{\"type\": \"scatter\", \"x\": [-1.597931034482759, -0.8205, -0.33473684210526317, 0.024615384615384595, 0.325, 0.7692857142857144, 1.6470588235294117], \"y\": [1.7674789144306298, 1.8286884014582026, 2.3832794208245005, 2.3723446789976705, 1.9930844648079074, 1.8234070319220872, 1.733123961601556], \"error_y\": {\"type\": \"data\", \"array\": [0.16542461317500906, 0.14250108799010788, 0.26415835088107037, 0.21216393868880468, 0.19879899545356386, 0.5476666366092845, 0.3157779737433651], \"color\": \"rgb(0,170,80)\", \"visible\": true}, \"line\": {\"color\": \"rgb(0,100,80)\"}, \"mode\": \"lines+markers\", \"name\": \"Test Data\"}, {\"type\": \"scatter\", \"x\": [-1.597931034482759, -0.8205, -0.33473684210526317, 0.024615384615384595, 0.325, 0.7692857142857144, 1.6470588235294117], \"y\": [1.845371862068965, 1.942933946697336, 1.9678544736842232, 1.9403734902684693, 1.9698985332110912, 1.9550674285714214, 1.8674065294117708], \"error_y\": {\"type\": \"data\", \"array\": [0.004982443919129475, 0.00649127037430554, 0.006926428210847191, 0.005799605602391621, 0.006051491107220033, 0.007841146180264855, 0.006414412223260793], \"color\": \"rgb(0,100,246)\", \"visible\": true}, \"line\": {\"color\": \"rgb(0,176,246)\"}, \"mode\": \"lines+markers\", \"name\": \"Sim Data\"}, {\"type\": \"scatter\", \"x\": [-1.597931034482759, -0.8205, -0.33473684210526317, 0.024615384615384595, 0.325, 0.7692857142857144, 1.6470588235294117], \"y\": [0.034482758620689655, 0.15, 0.15789473684210525, 0.5, 0.9583333333333334, 0.9285714285714286, 1.0], \"error_y\": {\"type\": \"data\", \"array\": [0.034482758620689655, 0.08191780219091253, 0.085947008518708, 0.10000000000000002, 0.04166666666666667, 0.07142857142857144, 0.0], \"color\": \"rgb(0,170,80)\", \"visible\": true}, \"line\": {\"color\": \"rgb(0,100,80)\"}, \"mode\": \"lines+markers\", \"name\": \"Test Data\", \"xaxis\": \"x2\", \"yaxis\": \"y2\"}, {\"type\": \"scatter\", \"x\": [-1.597931034482759, -0.8205, -0.33473684210526317, 0.024615384615384595, 0.325, 0.7692857142857144, 1.6470588235294117], \"y\": [0.23020689655172413, 0.38186909345467274, 0.42178947368421055, 0.5129240710823909, 0.5472956079673306, 0.5744285714285714, 0.7488235294117647], \"error_y\": {\"type\": \"data\", \"array\": [0.0024720352656932617, 0.003435612724015591, 0.003582824159517073, 0.0031000111575120925, 0.003213215547608726, 0.004178839983080628, 0.003326346837300769], \"color\": \"rgb(0,100,246)\", \"visible\": true}, \"line\": {\"color\": \"rgb(0,176,246)\"}, \"mode\": \"lines+markers\", \"name\": \"Sim Data\", \"xaxis\": \"x2\", \"yaxis\": \"y2\"}], {\"paper_bgcolor\": \"rgb(255,255,255)\", \"plot_bgcolor\": \"rgb(229,229,229)\", \"xaxis\": {\"gridcolor\": \"rgb(255,255,255)\", \"range\": [-2, 2], \"domain\": [0, 0.45], \"showgrid\": true, \"showline\": false, \"showticklabels\": true, \"tickcolor\": \"rgb(127,127,127)\", \"ticks\": \"outside\", \"title\": \"Net Value ($)\", \"zeroline\": false}, \"xaxis2\": {\"gridcolor\": \"rgb(255,255,255)\", \"range\": [-2, 2], \"domain\": [0.55, 1], \"showgrid\": true, \"showline\": false, \"showticklabels\": true, \"tickcolor\": \"rgb(127,127,127)\", \"ticks\": \"outside\", \"title\": \"Net Value ($)\", \"zeroline\": false}, \"yaxis1\": {\"gridcolor\": \"rgb(255,255,255)\", \"range\": [0], \"showgrid\": true, \"showline\": false, \"showticklabels\": true, \"tickcolor\": \"rgb(127,127,127)\", \"ticks\": \"outside\", \"title\": \"RT (s)\", \"anchor\": \"x1\", \"zeroline\": false}, \"yaxis2\": {\"gridcolor\": \"rgb(255,255,255)\", \"range\": [0], \"showgrid\": true, \"showline\": false, \"showticklabels\": true, \"tickcolor\": \"rgb(127,127,127)\", \"ticks\": \"outside\", \"title\": \"p (accept)\", \"anchor\": \"x2\", \"zeroline\": false}, \"annotations\": [{\"x\": 0.01, \"y\": 1.12, \"showarrow\": false, \"text\": \"PARAMETERS: v: 0.051, a: 0.107, \\u03b8: 0.325\", \"xref\": \"paper\", \"yref\": \"paper\"}, {\"x\": 0.01, \"y\": 1.08, \"showarrow\": false, \"text\": \"MLE: 659.23\", \"xref\": \"paper\", \"yref\": \"paper\"}, {\"x\": 0.01, \"y\": 1.2, \"showarrow\": false, \"text\": \"SUBJECT: 11\", \"font\": {\"family\": \"Arial, sans-serif\", \"size\": 22}, \"xref\": \"paper\", \"yref\": \"paper\"}]}, {\"showLink\": true, \"linkText\": \"Export to plot.ly\"})});</script>"
      ]
     },
     "metadata": {},
     "output_type": "display_data"
    },
    {
     "data": {
      "text/html": [
       "<script>requirejs.config({paths: { 'plotly': ['https://cdn.plot.ly/plotly-latest.min']},});if(!window.Plotly) {{require(['plotly'],function(plotly) {window.Plotly=plotly;});}}</script>"
      ],
      "text/vnd.plotly.v1+html": [
       "<script>requirejs.config({paths: { 'plotly': ['https://cdn.plot.ly/plotly-latest.min']},});if(!window.Plotly) {{require(['plotly'],function(plotly) {window.Plotly=plotly;});}}</script>"
      ]
     },
     "metadata": {},
     "output_type": "display_data"
    },
    {
     "data": {
      "application/vnd.plotly.v1+json": {
       "data": [
        {
         "error_y": {
          "array": [
           0.10609880159574052,
           0.1488715426815066,
           0.25316036154916904,
           0.22382898810538016,
           0.1427101860349365,
           0.11909295856362125,
           0.15002263903662438
          ],
          "color": "rgb(0,170,80)",
          "type": "data",
          "visible": true
         },
         "line": {
          "color": "rgb(0,100,80)"
         },
         "mode": "lines+markers",
         "name": "Test Data",
         "type": "scatter",
         "x": [
          -1.9057142857142857,
          -0.7792857142857142,
          -0.32714285714285724,
          0.03241379310344826,
          0.3111111111111111,
          0.8163157894736842,
          1.6485714285714284
         ],
         "y": [
          1.4269307483648717,
          1.3549157306697457,
          2.125731202156333,
          2.0357956772866848,
          1.6631095707739905,
          1.3957581082833805,
          1.5227779725454245
         ]
        },
        {
         "error_y": {
          "array": [
           0.0027990795939967545,
           0.006511132798742466,
           0.005492084495019782,
           0.005629888658376852,
           0.0069621813797044255,
           0.0055508398092444155,
           0.004283946632118127
          ],
          "color": "rgb(0,100,246)",
          "type": "data",
          "visible": true
         },
         "line": {
          "color": "rgb(0,176,246)"
         },
         "mode": "lines+markers",
         "name": "Sim Data",
         "type": "scatter",
         "x": [
          -1.9057142857142857,
          -0.7792857142857142,
          -0.32714285714285724,
          0.03241379310344826,
          0.3111111111111111,
          0.8163157894736842,
          1.6485714285714284
         ],
         "y": [
          1.4161572142857097,
          1.7827960000000007,
          1.938324333011893,
          1.9792452153522517,
          1.940006444444436,
          1.7767399999999969,
          1.4747995714285695
         ]
        },
        {
         "error_y": {
          "array": [
           0.04956347617776506,
           0.09705231721239392,
           0.08987898137227082,
           0.08742975048915688,
           0.05555555555555555,
           0.05263157894736841,
           0
          ],
          "color": "rgb(0,170,80)",
          "type": "data",
          "visible": true
         },
         "line": {
          "color": "rgb(0,100,80)"
         },
         "mode": "lines+markers",
         "name": "Test Data",
         "type": "scatter",
         "x": [
          -1.9057142857142857,
          -0.7792857142857142,
          -0.32714285714285724,
          0.03241379310344826,
          0.3111111111111111,
          0.8163157894736842,
          1.6485714285714284
         ],
         "xaxis": "x2",
         "y": [
          0.07142857142857142,
          0.14285714285714285,
          0.32142857142857145,
          0.6896551724137931,
          0.9444444444444444,
          0.9473684210526315,
          1
         ],
         "yaxis": "y2"
        },
        {
         "error_y": {
          "array": [
           0.001078118195116328,
           0.0032062493009323892,
           0.0028313652121162783,
           0.002935191154698578,
           0.0035514213397297976,
           0.0026866784804821056,
           0.001610113368510929
          ],
          "color": "rgb(0,100,246)",
          "type": "data",
          "visible": true
         },
         "line": {
          "color": "rgb(0,176,246)"
         },
         "mode": "lines+markers",
         "name": "Sim Data",
         "type": "scatter",
         "x": [
          -1.9057142857142857,
          -0.7792857142857142,
          -0.32714285714285724,
          0.03241379310344826,
          0.3111111111111111,
          0.8163157894736842,
          1.6485714285714284
         ],
         "xaxis": "x2",
         "y": [
          0.033678571428571426,
          0.1742857142857143,
          0.340155005535912,
          0.5131211421083486,
          0.6516111111111111,
          0.8359473684210527,
          0.9622857142857143
         ],
         "yaxis": "y2"
        }
       ],
       "layout": {
        "annotations": [
         {
          "showarrow": false,
          "text": "PARAMETERS: v: 0.093, a: 0.107, θ: 1.0",
          "x": 0.01,
          "xref": "paper",
          "y": 1.12,
          "yref": "paper"
         },
         {
          "showarrow": false,
          "text": "MLE: 598.94",
          "x": 0.01,
          "xref": "paper",
          "y": 1.08,
          "yref": "paper"
         },
         {
          "font": {
           "family": "Arial, sans-serif",
           "size": 22
          },
          "showarrow": false,
          "text": "SUBJECT: 12",
          "x": 0.01,
          "xref": "paper",
          "y": 1.2,
          "yref": "paper"
         }
        ],
        "paper_bgcolor": "rgb(255,255,255)",
        "plot_bgcolor": "rgb(229,229,229)",
        "xaxis": {
         "domain": [
          0,
          0.45
         ],
         "gridcolor": "rgb(255,255,255)",
         "range": [
          -2,
          2
         ],
         "showgrid": true,
         "showline": false,
         "showticklabels": true,
         "tickcolor": "rgb(127,127,127)",
         "ticks": "outside",
         "title": "Net Value ($)",
         "zeroline": false
        },
        "xaxis2": {
         "domain": [
          0.55,
          1
         ],
         "gridcolor": "rgb(255,255,255)",
         "range": [
          -2,
          2
         ],
         "showgrid": true,
         "showline": false,
         "showticklabels": true,
         "tickcolor": "rgb(127,127,127)",
         "ticks": "outside",
         "title": "Net Value ($)",
         "zeroline": false
        },
        "yaxis1": {
         "anchor": "x1",
         "gridcolor": "rgb(255,255,255)",
         "range": [
          0
         ],
         "showgrid": true,
         "showline": false,
         "showticklabels": true,
         "tickcolor": "rgb(127,127,127)",
         "ticks": "outside",
         "title": "RT (s)",
         "zeroline": false
        },
        "yaxis2": {
         "anchor": "x2",
         "gridcolor": "rgb(255,255,255)",
         "range": [
          0
         ],
         "showgrid": true,
         "showline": false,
         "showticklabels": true,
         "tickcolor": "rgb(127,127,127)",
         "ticks": "outside",
         "title": "p (accept)",
         "zeroline": false
        }
       }
      },
      "text/html": [
       "<div id=\"91d6d287-dcdc-4067-9d6b-5de60961ab8e\" style=\"height: 525px; width: 100%;\" class=\"plotly-graph-div\"></div><script type=\"text/javascript\">require([\"plotly\"], function(Plotly) { window.PLOTLYENV=window.PLOTLYENV || {};window.PLOTLYENV.BASE_URL=\"https://plot.ly\";Plotly.newPlot(\"91d6d287-dcdc-4067-9d6b-5de60961ab8e\", [{\"type\": \"scatter\", \"x\": [-1.9057142857142857, -0.7792857142857142, -0.32714285714285724, 0.03241379310344826, 0.3111111111111111, 0.8163157894736842, 1.6485714285714284], \"y\": [1.4269307483648717, 1.3549157306697457, 2.125731202156333, 2.0357956772866848, 1.6631095707739905, 1.3957581082833805, 1.5227779725454245], \"error_y\": {\"type\": \"data\", \"array\": [0.10609880159574052, 0.1488715426815066, 0.25316036154916904, 0.22382898810538016, 0.1427101860349365, 0.11909295856362125, 0.15002263903662438], \"color\": \"rgb(0,170,80)\", \"visible\": true}, \"line\": {\"color\": \"rgb(0,100,80)\"}, \"mode\": \"lines+markers\", \"name\": \"Test Data\"}, {\"type\": \"scatter\", \"x\": [-1.9057142857142857, -0.7792857142857142, -0.32714285714285724, 0.03241379310344826, 0.3111111111111111, 0.8163157894736842, 1.6485714285714284], \"y\": [1.4161572142857097, 1.7827960000000007, 1.938324333011893, 1.9792452153522517, 1.940006444444436, 1.7767399999999969, 1.4747995714285695], \"error_y\": {\"type\": \"data\", \"array\": [0.0027990795939967545, 0.006511132798742466, 0.005492084495019782, 0.005629888658376852, 0.0069621813797044255, 0.0055508398092444155, 0.004283946632118127], \"color\": \"rgb(0,100,246)\", \"visible\": true}, \"line\": {\"color\": \"rgb(0,176,246)\"}, \"mode\": \"lines+markers\", \"name\": \"Sim Data\"}, {\"type\": \"scatter\", \"x\": [-1.9057142857142857, -0.7792857142857142, -0.32714285714285724, 0.03241379310344826, 0.3111111111111111, 0.8163157894736842, 1.6485714285714284], \"y\": [0.07142857142857142, 0.14285714285714285, 0.32142857142857145, 0.6896551724137931, 0.9444444444444444, 0.9473684210526315, 1.0], \"error_y\": {\"type\": \"data\", \"array\": [0.04956347617776506, 0.09705231721239392, 0.08987898137227082, 0.08742975048915688, 0.05555555555555555, 0.05263157894736841, 0.0], \"color\": \"rgb(0,170,80)\", \"visible\": true}, \"line\": {\"color\": \"rgb(0,100,80)\"}, \"mode\": \"lines+markers\", \"name\": \"Test Data\", \"xaxis\": \"x2\", \"yaxis\": \"y2\"}, {\"type\": \"scatter\", \"x\": [-1.9057142857142857, -0.7792857142857142, -0.32714285714285724, 0.03241379310344826, 0.3111111111111111, 0.8163157894736842, 1.6485714285714284], \"y\": [0.033678571428571426, 0.1742857142857143, 0.340155005535912, 0.5131211421083486, 0.6516111111111111, 0.8359473684210527, 0.9622857142857143], \"error_y\": {\"type\": \"data\", \"array\": [0.001078118195116328, 0.0032062493009323892, 0.0028313652121162783, 0.002935191154698578, 0.0035514213397297976, 0.0026866784804821056, 0.001610113368510929], \"color\": \"rgb(0,100,246)\", \"visible\": true}, \"line\": {\"color\": \"rgb(0,176,246)\"}, \"mode\": \"lines+markers\", \"name\": \"Sim Data\", \"xaxis\": \"x2\", \"yaxis\": \"y2\"}], {\"paper_bgcolor\": \"rgb(255,255,255)\", \"plot_bgcolor\": \"rgb(229,229,229)\", \"xaxis\": {\"gridcolor\": \"rgb(255,255,255)\", \"range\": [-2, 2], \"domain\": [0, 0.45], \"showgrid\": true, \"showline\": false, \"showticklabels\": true, \"tickcolor\": \"rgb(127,127,127)\", \"ticks\": \"outside\", \"title\": \"Net Value ($)\", \"zeroline\": false}, \"xaxis2\": {\"gridcolor\": \"rgb(255,255,255)\", \"range\": [-2, 2], \"domain\": [0.55, 1], \"showgrid\": true, \"showline\": false, \"showticklabels\": true, \"tickcolor\": \"rgb(127,127,127)\", \"ticks\": \"outside\", \"title\": \"Net Value ($)\", \"zeroline\": false}, \"yaxis1\": {\"gridcolor\": \"rgb(255,255,255)\", \"range\": [0], \"showgrid\": true, \"showline\": false, \"showticklabels\": true, \"tickcolor\": \"rgb(127,127,127)\", \"ticks\": \"outside\", \"title\": \"RT (s)\", \"anchor\": \"x1\", \"zeroline\": false}, \"yaxis2\": {\"gridcolor\": \"rgb(255,255,255)\", \"range\": [0], \"showgrid\": true, \"showline\": false, \"showticklabels\": true, \"tickcolor\": \"rgb(127,127,127)\", \"ticks\": \"outside\", \"title\": \"p (accept)\", \"anchor\": \"x2\", \"zeroline\": false}, \"annotations\": [{\"x\": 0.01, \"y\": 1.12, \"showarrow\": false, \"text\": \"PARAMETERS: v: 0.093, a: 0.107, \\u03b8: 1.0\", \"xref\": \"paper\", \"yref\": \"paper\"}, {\"x\": 0.01, \"y\": 1.08, \"showarrow\": false, \"text\": \"MLE: 598.94\", \"xref\": \"paper\", \"yref\": \"paper\"}, {\"x\": 0.01, \"y\": 1.2, \"showarrow\": false, \"text\": \"SUBJECT: 12\", \"font\": {\"family\": \"Arial, sans-serif\", \"size\": 22}, \"xref\": \"paper\", \"yref\": \"paper\"}]}, {\"showLink\": true, \"linkText\": \"Export to plot.ly\"})});</script>"
      ],
      "text/vnd.plotly.v1+html": [
       "<div id=\"91d6d287-dcdc-4067-9d6b-5de60961ab8e\" style=\"height: 525px; width: 100%;\" class=\"plotly-graph-div\"></div><script type=\"text/javascript\">require([\"plotly\"], function(Plotly) { window.PLOTLYENV=window.PLOTLYENV || {};window.PLOTLYENV.BASE_URL=\"https://plot.ly\";Plotly.newPlot(\"91d6d287-dcdc-4067-9d6b-5de60961ab8e\", [{\"type\": \"scatter\", \"x\": [-1.9057142857142857, -0.7792857142857142, -0.32714285714285724, 0.03241379310344826, 0.3111111111111111, 0.8163157894736842, 1.6485714285714284], \"y\": [1.4269307483648717, 1.3549157306697457, 2.125731202156333, 2.0357956772866848, 1.6631095707739905, 1.3957581082833805, 1.5227779725454245], \"error_y\": {\"type\": \"data\", \"array\": [0.10609880159574052, 0.1488715426815066, 0.25316036154916904, 0.22382898810538016, 0.1427101860349365, 0.11909295856362125, 0.15002263903662438], \"color\": \"rgb(0,170,80)\", \"visible\": true}, \"line\": {\"color\": \"rgb(0,100,80)\"}, \"mode\": \"lines+markers\", \"name\": \"Test Data\"}, {\"type\": \"scatter\", \"x\": [-1.9057142857142857, -0.7792857142857142, -0.32714285714285724, 0.03241379310344826, 0.3111111111111111, 0.8163157894736842, 1.6485714285714284], \"y\": [1.4161572142857097, 1.7827960000000007, 1.938324333011893, 1.9792452153522517, 1.940006444444436, 1.7767399999999969, 1.4747995714285695], \"error_y\": {\"type\": \"data\", \"array\": [0.0027990795939967545, 0.006511132798742466, 0.005492084495019782, 0.005629888658376852, 0.0069621813797044255, 0.0055508398092444155, 0.004283946632118127], \"color\": \"rgb(0,100,246)\", \"visible\": true}, \"line\": {\"color\": \"rgb(0,176,246)\"}, \"mode\": \"lines+markers\", \"name\": \"Sim Data\"}, {\"type\": \"scatter\", \"x\": [-1.9057142857142857, -0.7792857142857142, -0.32714285714285724, 0.03241379310344826, 0.3111111111111111, 0.8163157894736842, 1.6485714285714284], \"y\": [0.07142857142857142, 0.14285714285714285, 0.32142857142857145, 0.6896551724137931, 0.9444444444444444, 0.9473684210526315, 1.0], \"error_y\": {\"type\": \"data\", \"array\": [0.04956347617776506, 0.09705231721239392, 0.08987898137227082, 0.08742975048915688, 0.05555555555555555, 0.05263157894736841, 0.0], \"color\": \"rgb(0,170,80)\", \"visible\": true}, \"line\": {\"color\": \"rgb(0,100,80)\"}, \"mode\": \"lines+markers\", \"name\": \"Test Data\", \"xaxis\": \"x2\", \"yaxis\": \"y2\"}, {\"type\": \"scatter\", \"x\": [-1.9057142857142857, -0.7792857142857142, -0.32714285714285724, 0.03241379310344826, 0.3111111111111111, 0.8163157894736842, 1.6485714285714284], \"y\": [0.033678571428571426, 0.1742857142857143, 0.340155005535912, 0.5131211421083486, 0.6516111111111111, 0.8359473684210527, 0.9622857142857143], \"error_y\": {\"type\": \"data\", \"array\": [0.001078118195116328, 0.0032062493009323892, 0.0028313652121162783, 0.002935191154698578, 0.0035514213397297976, 0.0026866784804821056, 0.001610113368510929], \"color\": \"rgb(0,100,246)\", \"visible\": true}, \"line\": {\"color\": \"rgb(0,176,246)\"}, \"mode\": \"lines+markers\", \"name\": \"Sim Data\", \"xaxis\": \"x2\", \"yaxis\": \"y2\"}], {\"paper_bgcolor\": \"rgb(255,255,255)\", \"plot_bgcolor\": \"rgb(229,229,229)\", \"xaxis\": {\"gridcolor\": \"rgb(255,255,255)\", \"range\": [-2, 2], \"domain\": [0, 0.45], \"showgrid\": true, \"showline\": false, \"showticklabels\": true, \"tickcolor\": \"rgb(127,127,127)\", \"ticks\": \"outside\", \"title\": \"Net Value ($)\", \"zeroline\": false}, \"xaxis2\": {\"gridcolor\": \"rgb(255,255,255)\", \"range\": [-2, 2], \"domain\": [0.55, 1], \"showgrid\": true, \"showline\": false, \"showticklabels\": true, \"tickcolor\": \"rgb(127,127,127)\", \"ticks\": \"outside\", \"title\": \"Net Value ($)\", \"zeroline\": false}, \"yaxis1\": {\"gridcolor\": \"rgb(255,255,255)\", \"range\": [0], \"showgrid\": true, \"showline\": false, \"showticklabels\": true, \"tickcolor\": \"rgb(127,127,127)\", \"ticks\": \"outside\", \"title\": \"RT (s)\", \"anchor\": \"x1\", \"zeroline\": false}, \"yaxis2\": {\"gridcolor\": \"rgb(255,255,255)\", \"range\": [0], \"showgrid\": true, \"showline\": false, \"showticklabels\": true, \"tickcolor\": \"rgb(127,127,127)\", \"ticks\": \"outside\", \"title\": \"p (accept)\", \"anchor\": \"x2\", \"zeroline\": false}, \"annotations\": [{\"x\": 0.01, \"y\": 1.12, \"showarrow\": false, \"text\": \"PARAMETERS: v: 0.093, a: 0.107, \\u03b8: 1.0\", \"xref\": \"paper\", \"yref\": \"paper\"}, {\"x\": 0.01, \"y\": 1.08, \"showarrow\": false, \"text\": \"MLE: 598.94\", \"xref\": \"paper\", \"yref\": \"paper\"}, {\"x\": 0.01, \"y\": 1.2, \"showarrow\": false, \"text\": \"SUBJECT: 12\", \"font\": {\"family\": \"Arial, sans-serif\", \"size\": 22}, \"xref\": \"paper\", \"yref\": \"paper\"}]}, {\"showLink\": true, \"linkText\": \"Export to plot.ly\"})});</script>"
      ]
     },
     "metadata": {},
     "output_type": "display_data"
    },
    {
     "data": {
      "text/html": [
       "<script>requirejs.config({paths: { 'plotly': ['https://cdn.plot.ly/plotly-latest.min']},});if(!window.Plotly) {{require(['plotly'],function(plotly) {window.Plotly=plotly;});}}</script>"
      ],
      "text/vnd.plotly.v1+html": [
       "<script>requirejs.config({paths: { 'plotly': ['https://cdn.plot.ly/plotly-latest.min']},});if(!window.Plotly) {{require(['plotly'],function(plotly) {window.Plotly=plotly;});}}</script>"
      ]
     },
     "metadata": {},
     "output_type": "display_data"
    },
    {
     "data": {
      "application/vnd.plotly.v1+json": {
       "data": [
        {
         "error_y": {
          "array": [
           0.5229255577916007,
           0.3617012844609333,
           0.5102230924375099,
           0.32157018381381625,
           0.5974705875773418,
           0.4628035693556721,
           0.4056975441536435
          ],
          "color": "rgb(0,170,80)",
          "type": "data",
          "visible": true
         },
         "line": {
          "color": "rgb(0,100,80)"
         },
         "mode": "lines+markers",
         "name": "Test Data",
         "type": "scatter",
         "x": [
          -1.671764705882353,
          -0.8362499999999999,
          -0.34800000000000003,
          0.021818181818181775,
          0.26076923076923075,
          0.7109090909090908,
          1.6181249999999998
         ],
         "y": [
          4.923762330146822,
          4.66318481280905,
          6.524016877422886,
          4.5971211614074,
          5.280876333341719,
          4.638104213602756,
          4.002202647474404
         ]
        },
        {
         "error_y": {
          "array": [
           0.020927461418218007,
           0.022250522158535322,
           0.02305474136402778,
           0.019182765497627645,
           0.025003439193869926,
           0.026608139419477667,
           0.021994076374204013
          ],
          "color": "rgb(0,100,246)",
          "type": "data",
          "visible": true
         },
         "line": {
          "color": "rgb(0,176,246)"
         },
         "mode": "lines+markers",
         "name": "Sim Data",
         "type": "scatter",
         "x": [
          -1.671764705882353,
          -0.8362499999999999,
          -0.34800000000000003,
          0.021818181818181775,
          0.26076923076923075,
          0.7109090909090908,
          1.6181249999999998
         ],
         "y": [
          5.490646435970264,
          5.5839208657423285,
          5.62528041704443,
          5.638202551337891,
          5.610115594215041,
          5.596823362526201,
          5.524223217956094
         ]
        },
        {
         "error_y": {
          "array": [
           0.058823529411764705,
           0,
           0.12598815766974242,
           0.10865714630312667,
           0.10415433852097386,
           0,
           0
          ],
          "color": "rgb(0,170,80)",
          "type": "data",
          "visible": true
         },
         "line": {
          "color": "rgb(0,100,80)"
         },
         "mode": "lines+markers",
         "name": "Test Data",
         "type": "scatter",
         "x": [
          -1.671764705882353,
          -0.8362499999999999,
          -0.34800000000000003,
          0.021818181818181775,
          0.26076923076923075,
          0.7109090909090908,
          1.6181249999999998
         ],
         "xaxis": "x2",
         "y": [
          0.058823529411764705,
          0,
          0.3333333333333333,
          0.5454545454545454,
          0.8461538461538461,
          1,
          1
         ],
         "yaxis": "y2"
        },
        {
         "error_y": {
          "array": [
           0.003918097852821668,
           0.004479844206928967,
           0.004741276436347166,
           0.003944346818816239,
           0.0051077594447849345,
           0.00543853768243017,
           0.004111029502527613
          ],
          "color": "rgb(0,100,246)",
          "type": "data",
          "visible": true
         },
         "line": {
          "color": "rgb(0,176,246)"
         },
         "mode": "lines+markers",
         "name": "Sim Data",
         "type": "scatter",
         "x": [
          -1.671764705882353,
          -0.8362499999999999,
          -0.34800000000000003,
          0.021818181818181775,
          0.26076923076923075,
          0.7109090909090908,
          1.6181249999999998
         ],
         "xaxis": "x2",
         "y": [
          0.27652881147855446,
          0.38755495434562054,
          0.4544877606527652,
          0.5007467330429372,
          0.5329071473485643,
          0.6012088318736895,
          0.7108443640549207
         ],
         "yaxis": "y2"
        }
       ],
       "layout": {
        "annotations": [
         {
          "showarrow": false,
          "text": "PARAMETERS: v: 0.01, a: 0.279, θ: 1.0",
          "x": 0.01,
          "xref": "paper",
          "y": 1.12,
          "yref": "paper"
         },
         {
          "showarrow": false,
          "text": "MLE: 612.4",
          "x": 0.01,
          "xref": "paper",
          "y": 1.08,
          "yref": "paper"
         },
         {
          "font": {
           "family": "Arial, sans-serif",
           "size": 22
          },
          "showarrow": false,
          "text": "SUBJECT: 13",
          "x": 0.01,
          "xref": "paper",
          "y": 1.2,
          "yref": "paper"
         }
        ],
        "paper_bgcolor": "rgb(255,255,255)",
        "plot_bgcolor": "rgb(229,229,229)",
        "xaxis": {
         "domain": [
          0,
          0.45
         ],
         "gridcolor": "rgb(255,255,255)",
         "range": [
          -2,
          2
         ],
         "showgrid": true,
         "showline": false,
         "showticklabels": true,
         "tickcolor": "rgb(127,127,127)",
         "ticks": "outside",
         "title": "Net Value ($)",
         "zeroline": false
        },
        "xaxis2": {
         "domain": [
          0.55,
          1
         ],
         "gridcolor": "rgb(255,255,255)",
         "range": [
          -2,
          2
         ],
         "showgrid": true,
         "showline": false,
         "showticklabels": true,
         "tickcolor": "rgb(127,127,127)",
         "ticks": "outside",
         "title": "Net Value ($)",
         "zeroline": false
        },
        "yaxis1": {
         "anchor": "x1",
         "gridcolor": "rgb(255,255,255)",
         "range": [
          0
         ],
         "showgrid": true,
         "showline": false,
         "showticklabels": true,
         "tickcolor": "rgb(127,127,127)",
         "ticks": "outside",
         "title": "RT (s)",
         "zeroline": false
        },
        "yaxis2": {
         "anchor": "x2",
         "gridcolor": "rgb(255,255,255)",
         "range": [
          0
         ],
         "showgrid": true,
         "showline": false,
         "showticklabels": true,
         "tickcolor": "rgb(127,127,127)",
         "ticks": "outside",
         "title": "p (accept)",
         "zeroline": false
        }
       }
      },
      "text/html": [
       "<div id=\"ede17411-acd5-434f-9604-35cf863a250f\" style=\"height: 525px; width: 100%;\" class=\"plotly-graph-div\"></div><script type=\"text/javascript\">require([\"plotly\"], function(Plotly) { window.PLOTLYENV=window.PLOTLYENV || {};window.PLOTLYENV.BASE_URL=\"https://plot.ly\";Plotly.newPlot(\"ede17411-acd5-434f-9604-35cf863a250f\", [{\"type\": \"scatter\", \"x\": [-1.671764705882353, -0.8362499999999999, -0.34800000000000003, 0.021818181818181775, 0.26076923076923075, 0.7109090909090908, 1.6181249999999998], \"y\": [4.923762330146822, 4.66318481280905, 6.524016877422886, 4.5971211614074, 5.280876333341719, 4.638104213602756, 4.002202647474404], \"error_y\": {\"type\": \"data\", \"array\": [0.5229255577916007, 0.3617012844609333, 0.5102230924375099, 0.32157018381381625, 0.5974705875773418, 0.4628035693556721, 0.4056975441536435], \"color\": \"rgb(0,170,80)\", \"visible\": true}, \"line\": {\"color\": \"rgb(0,100,80)\"}, \"mode\": \"lines+markers\", \"name\": \"Test Data\"}, {\"type\": \"scatter\", \"x\": [-1.671764705882353, -0.8362499999999999, -0.34800000000000003, 0.021818181818181775, 0.26076923076923075, 0.7109090909090908, 1.6181249999999998], \"y\": [5.490646435970264, 5.5839208657423285, 5.62528041704443, 5.638202551337891, 5.610115594215041, 5.596823362526201, 5.524223217956094], \"error_y\": {\"type\": \"data\", \"array\": [0.020927461418218007, 0.022250522158535322, 0.02305474136402778, 0.019182765497627645, 0.025003439193869926, 0.026608139419477667, 0.021994076374204013], \"color\": \"rgb(0,100,246)\", \"visible\": true}, \"line\": {\"color\": \"rgb(0,176,246)\"}, \"mode\": \"lines+markers\", \"name\": \"Sim Data\"}, {\"type\": \"scatter\", \"x\": [-1.671764705882353, -0.8362499999999999, -0.34800000000000003, 0.021818181818181775, 0.26076923076923075, 0.7109090909090908, 1.6181249999999998], \"y\": [0.058823529411764705, 0.0, 0.3333333333333333, 0.5454545454545454, 0.8461538461538461, 1.0, 1.0], \"error_y\": {\"type\": \"data\", \"array\": [0.058823529411764705, 0.0, 0.12598815766974242, 0.10865714630312667, 0.10415433852097386, 0.0, 0.0], \"color\": \"rgb(0,170,80)\", \"visible\": true}, \"line\": {\"color\": \"rgb(0,100,80)\"}, \"mode\": \"lines+markers\", \"name\": \"Test Data\", \"xaxis\": \"x2\", \"yaxis\": \"y2\"}, {\"type\": \"scatter\", \"x\": [-1.671764705882353, -0.8362499999999999, -0.34800000000000003, 0.021818181818181775, 0.26076923076923075, 0.7109090909090908, 1.6181249999999998], \"y\": [0.27652881147855446, 0.38755495434562054, 0.4544877606527652, 0.5007467330429372, 0.5329071473485643, 0.6012088318736895, 0.7108443640549207], \"error_y\": {\"type\": \"data\", \"array\": [0.003918097852821668, 0.004479844206928967, 0.004741276436347166, 0.003944346818816239, 0.0051077594447849345, 0.00543853768243017, 0.004111029502527613], \"color\": \"rgb(0,100,246)\", \"visible\": true}, \"line\": {\"color\": \"rgb(0,176,246)\"}, \"mode\": \"lines+markers\", \"name\": \"Sim Data\", \"xaxis\": \"x2\", \"yaxis\": \"y2\"}], {\"paper_bgcolor\": \"rgb(255,255,255)\", \"plot_bgcolor\": \"rgb(229,229,229)\", \"xaxis\": {\"gridcolor\": \"rgb(255,255,255)\", \"range\": [-2, 2], \"domain\": [0, 0.45], \"showgrid\": true, \"showline\": false, \"showticklabels\": true, \"tickcolor\": \"rgb(127,127,127)\", \"ticks\": \"outside\", \"title\": \"Net Value ($)\", \"zeroline\": false}, \"xaxis2\": {\"gridcolor\": \"rgb(255,255,255)\", \"range\": [-2, 2], \"domain\": [0.55, 1], \"showgrid\": true, \"showline\": false, \"showticklabels\": true, \"tickcolor\": \"rgb(127,127,127)\", \"ticks\": \"outside\", \"title\": \"Net Value ($)\", \"zeroline\": false}, \"yaxis1\": {\"gridcolor\": \"rgb(255,255,255)\", \"range\": [0], \"showgrid\": true, \"showline\": false, \"showticklabels\": true, \"tickcolor\": \"rgb(127,127,127)\", \"ticks\": \"outside\", \"title\": \"RT (s)\", \"anchor\": \"x1\", \"zeroline\": false}, \"yaxis2\": {\"gridcolor\": \"rgb(255,255,255)\", \"range\": [0], \"showgrid\": true, \"showline\": false, \"showticklabels\": true, \"tickcolor\": \"rgb(127,127,127)\", \"ticks\": \"outside\", \"title\": \"p (accept)\", \"anchor\": \"x2\", \"zeroline\": false}, \"annotations\": [{\"x\": 0.01, \"y\": 1.12, \"showarrow\": false, \"text\": \"PARAMETERS: v: 0.01, a: 0.279, \\u03b8: 1.0\", \"xref\": \"paper\", \"yref\": \"paper\"}, {\"x\": 0.01, \"y\": 1.08, \"showarrow\": false, \"text\": \"MLE: 612.4\", \"xref\": \"paper\", \"yref\": \"paper\"}, {\"x\": 0.01, \"y\": 1.2, \"showarrow\": false, \"text\": \"SUBJECT: 13\", \"font\": {\"family\": \"Arial, sans-serif\", \"size\": 22}, \"xref\": \"paper\", \"yref\": \"paper\"}]}, {\"showLink\": true, \"linkText\": \"Export to plot.ly\"})});</script>"
      ],
      "text/vnd.plotly.v1+html": [
       "<div id=\"ede17411-acd5-434f-9604-35cf863a250f\" style=\"height: 525px; width: 100%;\" class=\"plotly-graph-div\"></div><script type=\"text/javascript\">require([\"plotly\"], function(Plotly) { window.PLOTLYENV=window.PLOTLYENV || {};window.PLOTLYENV.BASE_URL=\"https://plot.ly\";Plotly.newPlot(\"ede17411-acd5-434f-9604-35cf863a250f\", [{\"type\": \"scatter\", \"x\": [-1.671764705882353, -0.8362499999999999, -0.34800000000000003, 0.021818181818181775, 0.26076923076923075, 0.7109090909090908, 1.6181249999999998], \"y\": [4.923762330146822, 4.66318481280905, 6.524016877422886, 4.5971211614074, 5.280876333341719, 4.638104213602756, 4.002202647474404], \"error_y\": {\"type\": \"data\", \"array\": [0.5229255577916007, 0.3617012844609333, 0.5102230924375099, 0.32157018381381625, 0.5974705875773418, 0.4628035693556721, 0.4056975441536435], \"color\": \"rgb(0,170,80)\", \"visible\": true}, \"line\": {\"color\": \"rgb(0,100,80)\"}, \"mode\": \"lines+markers\", \"name\": \"Test Data\"}, {\"type\": \"scatter\", \"x\": [-1.671764705882353, -0.8362499999999999, -0.34800000000000003, 0.021818181818181775, 0.26076923076923075, 0.7109090909090908, 1.6181249999999998], \"y\": [5.490646435970264, 5.5839208657423285, 5.62528041704443, 5.638202551337891, 5.610115594215041, 5.596823362526201, 5.524223217956094], \"error_y\": {\"type\": \"data\", \"array\": [0.020927461418218007, 0.022250522158535322, 0.02305474136402778, 0.019182765497627645, 0.025003439193869926, 0.026608139419477667, 0.021994076374204013], \"color\": \"rgb(0,100,246)\", \"visible\": true}, \"line\": {\"color\": \"rgb(0,176,246)\"}, \"mode\": \"lines+markers\", \"name\": \"Sim Data\"}, {\"type\": \"scatter\", \"x\": [-1.671764705882353, -0.8362499999999999, -0.34800000000000003, 0.021818181818181775, 0.26076923076923075, 0.7109090909090908, 1.6181249999999998], \"y\": [0.058823529411764705, 0.0, 0.3333333333333333, 0.5454545454545454, 0.8461538461538461, 1.0, 1.0], \"error_y\": {\"type\": \"data\", \"array\": [0.058823529411764705, 0.0, 0.12598815766974242, 0.10865714630312667, 0.10415433852097386, 0.0, 0.0], \"color\": \"rgb(0,170,80)\", \"visible\": true}, \"line\": {\"color\": \"rgb(0,100,80)\"}, \"mode\": \"lines+markers\", \"name\": \"Test Data\", \"xaxis\": \"x2\", \"yaxis\": \"y2\"}, {\"type\": \"scatter\", \"x\": [-1.671764705882353, -0.8362499999999999, -0.34800000000000003, 0.021818181818181775, 0.26076923076923075, 0.7109090909090908, 1.6181249999999998], \"y\": [0.27652881147855446, 0.38755495434562054, 0.4544877606527652, 0.5007467330429372, 0.5329071473485643, 0.6012088318736895, 0.7108443640549207], \"error_y\": {\"type\": \"data\", \"array\": [0.003918097852821668, 0.004479844206928967, 0.004741276436347166, 0.003944346818816239, 0.0051077594447849345, 0.00543853768243017, 0.004111029502527613], \"color\": \"rgb(0,100,246)\", \"visible\": true}, \"line\": {\"color\": \"rgb(0,176,246)\"}, \"mode\": \"lines+markers\", \"name\": \"Sim Data\", \"xaxis\": \"x2\", \"yaxis\": \"y2\"}], {\"paper_bgcolor\": \"rgb(255,255,255)\", \"plot_bgcolor\": \"rgb(229,229,229)\", \"xaxis\": {\"gridcolor\": \"rgb(255,255,255)\", \"range\": [-2, 2], \"domain\": [0, 0.45], \"showgrid\": true, \"showline\": false, \"showticklabels\": true, \"tickcolor\": \"rgb(127,127,127)\", \"ticks\": \"outside\", \"title\": \"Net Value ($)\", \"zeroline\": false}, \"xaxis2\": {\"gridcolor\": \"rgb(255,255,255)\", \"range\": [-2, 2], \"domain\": [0.55, 1], \"showgrid\": true, \"showline\": false, \"showticklabels\": true, \"tickcolor\": \"rgb(127,127,127)\", \"ticks\": \"outside\", \"title\": \"Net Value ($)\", \"zeroline\": false}, \"yaxis1\": {\"gridcolor\": \"rgb(255,255,255)\", \"range\": [0], \"showgrid\": true, \"showline\": false, \"showticklabels\": true, \"tickcolor\": \"rgb(127,127,127)\", \"ticks\": \"outside\", \"title\": \"RT (s)\", \"anchor\": \"x1\", \"zeroline\": false}, \"yaxis2\": {\"gridcolor\": \"rgb(255,255,255)\", \"range\": [0], \"showgrid\": true, \"showline\": false, \"showticklabels\": true, \"tickcolor\": \"rgb(127,127,127)\", \"ticks\": \"outside\", \"title\": \"p (accept)\", \"anchor\": \"x2\", \"zeroline\": false}, \"annotations\": [{\"x\": 0.01, \"y\": 1.12, \"showarrow\": false, \"text\": \"PARAMETERS: v: 0.01, a: 0.279, \\u03b8: 1.0\", \"xref\": \"paper\", \"yref\": \"paper\"}, {\"x\": 0.01, \"y\": 1.08, \"showarrow\": false, \"text\": \"MLE: 612.4\", \"xref\": \"paper\", \"yref\": \"paper\"}, {\"x\": 0.01, \"y\": 1.2, \"showarrow\": false, \"text\": \"SUBJECT: 13\", \"font\": {\"family\": \"Arial, sans-serif\", \"size\": 22}, \"xref\": \"paper\", \"yref\": \"paper\"}]}, {\"showLink\": true, \"linkText\": \"Export to plot.ly\"})});</script>"
      ]
     },
     "metadata": {},
     "output_type": "display_data"
    },
    {
     "data": {
      "text/html": [
       "<script>requirejs.config({paths: { 'plotly': ['https://cdn.plot.ly/plotly-latest.min']},});if(!window.Plotly) {{require(['plotly'],function(plotly) {window.Plotly=plotly;});}}</script>"
      ],
      "text/vnd.plotly.v1+html": [
       "<script>requirejs.config({paths: { 'plotly': ['https://cdn.plot.ly/plotly-latest.min']},});if(!window.Plotly) {{require(['plotly'],function(plotly) {window.Plotly=plotly;});}}</script>"
      ]
     },
     "metadata": {},
     "output_type": "display_data"
    },
    {
     "data": {
      "application/vnd.plotly.v1+json": {
       "data": [
        {
         "error_y": {
          "array": [
           0.35021592608518126,
           0.3766742051351146,
           0.5542082213227633,
           0.33901965010363483,
           0.5045817465963701,
           0.5152689778264671,
           0.28194392957871334
          ],
          "color": "rgb(0,170,80)",
          "type": "data",
          "visible": true
         },
         "line": {
          "color": "rgb(0,100,80)"
         },
         "mode": "lines+markers",
         "name": "Test Data",
         "type": "scatter",
         "x": [
          -1.5835294117647063,
          -0.8089473684210526,
          -0.2995,
          0.01899999999999998,
          0.31941176470588234,
          0.804375,
          1.5968
         ],
         "y": [
          3.4976711634799904,
          4.129546045803612,
          4.544472419338126,
          4.305603327703041,
          4.2611871013667795,
          4.102034559846287,
          3.235373271243879
         ]
        },
        {
         "error_y": {
          "array": [
           0.01444873277286616,
           0.016585222926869158,
           0.01736890212771104,
           0.014469964010517504,
           0.01888984431754597,
           0.018034392614214537,
           0.011677470585846512
          ],
          "color": "rgb(0,100,246)",
          "type": "data",
          "visible": true
         },
         "line": {
          "color": "rgb(0,176,246)"
         },
         "mode": "lines+markers",
         "name": "Sim Data",
         "type": "scatter",
         "x": [
          -1.5835294117647063,
          -0.8089473684210526,
          -0.2995,
          0.01899999999999998,
          0.31941176470588234,
          0.804375,
          1.5968
         ],
         "y": [
          3.5966961858571493,
          4.327205222631421,
          4.618494779293964,
          4.678377105380836,
          4.616995256968379,
          4.328831026031689,
          3.5643132158232476
         ]
        },
        {
         "error_y": {
          "array": [
           0.08054743492723031,
           0.0960916767552923,
           0.10513149660756937,
           0.0875376219064817,
           0.058823529411764705,
           0.10077822185373188,
           0
          ],
          "color": "rgb(0,170,80)",
          "type": "data",
          "visible": true
         },
         "line": {
          "color": "rgb(0,100,80)"
         },
         "mode": "lines+markers",
         "name": "Test Data",
         "type": "scatter",
         "x": [
          -1.5835294117647063,
          -0.8089473684210526,
          -0.2995,
          0.01899999999999998,
          0.31941176470588234,
          0.804375,
          1.5968
         ],
         "xaxis": "x2",
         "y": [
          0.11764705882352941,
          0.21052631578947367,
          0.3,
          0.6666666666666666,
          0.9411764705882353,
          0.8125,
          1
         ],
         "yaxis": "y2"
        },
        {
         "error_y": {
          "array": [
           0.00169504419005394,
           0.002798716262447566,
           0.0035480707494455616,
           0.003051726506518778,
           0.003841826546108202,
           0.0030268484058571204,
           0.00139105584548872
          ],
          "color": "rgb(0,100,246)",
          "type": "data",
          "visible": true
         },
         "line": {
          "color": "rgb(0,176,246)"
         },
         "mode": "lines+markers",
         "name": "Sim Data",
         "type": "scatter",
         "x": [
          -1.5835294117647063,
          -0.8089473684210526,
          -0.2995,
          0.01899999999999998,
          0.31941176470588234,
          0.804375,
          1.5968
         ],
         "xaxis": "x2",
         "y": [
          0.0505358960541285,
          0.1688985604285236,
          0.3511960665156621,
          0.5092040542554778,
          0.6511597686959911,
          0.8342054712856859,
          0.9498416050686378
         ],
         "yaxis": "y2"
        }
       ],
       "layout": {
        "annotations": [
         {
          "showarrow": false,
          "text": "PARAMETERS: v: 0.051, a: 0.221, θ: 0.775",
          "x": 0.01,
          "xref": "paper",
          "y": 1.12,
          "yref": "paper"
         },
         {
          "showarrow": false,
          "text": "MLE: 670.87",
          "x": 0.01,
          "xref": "paper",
          "y": 1.08,
          "yref": "paper"
         },
         {
          "font": {
           "family": "Arial, sans-serif",
           "size": 22
          },
          "showarrow": false,
          "text": "SUBJECT: 14",
          "x": 0.01,
          "xref": "paper",
          "y": 1.2,
          "yref": "paper"
         }
        ],
        "paper_bgcolor": "rgb(255,255,255)",
        "plot_bgcolor": "rgb(229,229,229)",
        "xaxis": {
         "domain": [
          0,
          0.45
         ],
         "gridcolor": "rgb(255,255,255)",
         "range": [
          -2,
          2
         ],
         "showgrid": true,
         "showline": false,
         "showticklabels": true,
         "tickcolor": "rgb(127,127,127)",
         "ticks": "outside",
         "title": "Net Value ($)",
         "zeroline": false
        },
        "xaxis2": {
         "domain": [
          0.55,
          1
         ],
         "gridcolor": "rgb(255,255,255)",
         "range": [
          -2,
          2
         ],
         "showgrid": true,
         "showline": false,
         "showticklabels": true,
         "tickcolor": "rgb(127,127,127)",
         "ticks": "outside",
         "title": "Net Value ($)",
         "zeroline": false
        },
        "yaxis1": {
         "anchor": "x1",
         "gridcolor": "rgb(255,255,255)",
         "range": [
          0
         ],
         "showgrid": true,
         "showline": false,
         "showticklabels": true,
         "tickcolor": "rgb(127,127,127)",
         "ticks": "outside",
         "title": "RT (s)",
         "zeroline": false
        },
        "yaxis2": {
         "anchor": "x2",
         "gridcolor": "rgb(255,255,255)",
         "range": [
          0
         ],
         "showgrid": true,
         "showline": false,
         "showticklabels": true,
         "tickcolor": "rgb(127,127,127)",
         "ticks": "outside",
         "title": "p (accept)",
         "zeroline": false
        }
       }
      },
      "text/html": [
       "<div id=\"04b821a6-7597-485f-8a64-29fe1f9610d4\" style=\"height: 525px; width: 100%;\" class=\"plotly-graph-div\"></div><script type=\"text/javascript\">require([\"plotly\"], function(Plotly) { window.PLOTLYENV=window.PLOTLYENV || {};window.PLOTLYENV.BASE_URL=\"https://plot.ly\";Plotly.newPlot(\"04b821a6-7597-485f-8a64-29fe1f9610d4\", [{\"type\": \"scatter\", \"x\": [-1.5835294117647063, -0.8089473684210526, -0.2995, 0.01899999999999998, 0.31941176470588234, 0.804375, 1.5968], \"y\": [3.4976711634799904, 4.129546045803612, 4.544472419338126, 4.305603327703041, 4.2611871013667795, 4.102034559846287, 3.235373271243879], \"error_y\": {\"type\": \"data\", \"array\": [0.35021592608518126, 0.3766742051351146, 0.5542082213227633, 0.33901965010363483, 0.5045817465963701, 0.5152689778264671, 0.28194392957871334], \"color\": \"rgb(0,170,80)\", \"visible\": true}, \"line\": {\"color\": \"rgb(0,100,80)\"}, \"mode\": \"lines+markers\", \"name\": \"Test Data\"}, {\"type\": \"scatter\", \"x\": [-1.5835294117647063, -0.8089473684210526, -0.2995, 0.01899999999999998, 0.31941176470588234, 0.804375, 1.5968], \"y\": [3.5966961858571493, 4.327205222631421, 4.618494779293964, 4.678377105380836, 4.616995256968379, 4.328831026031689, 3.5643132158232476], \"error_y\": {\"type\": \"data\", \"array\": [0.01444873277286616, 0.016585222926869158, 0.01736890212771104, 0.014469964010517504, 0.01888984431754597, 0.018034392614214537, 0.011677470585846512], \"color\": \"rgb(0,100,246)\", \"visible\": true}, \"line\": {\"color\": \"rgb(0,176,246)\"}, \"mode\": \"lines+markers\", \"name\": \"Sim Data\"}, {\"type\": \"scatter\", \"x\": [-1.5835294117647063, -0.8089473684210526, -0.2995, 0.01899999999999998, 0.31941176470588234, 0.804375, 1.5968], \"y\": [0.11764705882352941, 0.21052631578947367, 0.3, 0.6666666666666666, 0.9411764705882353, 0.8125, 1.0], \"error_y\": {\"type\": \"data\", \"array\": [0.08054743492723031, 0.0960916767552923, 0.10513149660756937, 0.0875376219064817, 0.058823529411764705, 0.10077822185373188, 0.0], \"color\": \"rgb(0,170,80)\", \"visible\": true}, \"line\": {\"color\": \"rgb(0,100,80)\"}, \"mode\": \"lines+markers\", \"name\": \"Test Data\", \"xaxis\": \"x2\", \"yaxis\": \"y2\"}, {\"type\": \"scatter\", \"x\": [-1.5835294117647063, -0.8089473684210526, -0.2995, 0.01899999999999998, 0.31941176470588234, 0.804375, 1.5968], \"y\": [0.0505358960541285, 0.1688985604285236, 0.3511960665156621, 0.5092040542554778, 0.6511597686959911, 0.8342054712856859, 0.9498416050686378], \"error_y\": {\"type\": \"data\", \"array\": [0.00169504419005394, 0.002798716262447566, 0.0035480707494455616, 0.003051726506518778, 0.003841826546108202, 0.0030268484058571204, 0.00139105584548872], \"color\": \"rgb(0,100,246)\", \"visible\": true}, \"line\": {\"color\": \"rgb(0,176,246)\"}, \"mode\": \"lines+markers\", \"name\": \"Sim Data\", \"xaxis\": \"x2\", \"yaxis\": \"y2\"}], {\"paper_bgcolor\": \"rgb(255,255,255)\", \"plot_bgcolor\": \"rgb(229,229,229)\", \"xaxis\": {\"gridcolor\": \"rgb(255,255,255)\", \"range\": [-2, 2], \"domain\": [0, 0.45], \"showgrid\": true, \"showline\": false, \"showticklabels\": true, \"tickcolor\": \"rgb(127,127,127)\", \"ticks\": \"outside\", \"title\": \"Net Value ($)\", \"zeroline\": false}, \"xaxis2\": {\"gridcolor\": \"rgb(255,255,255)\", \"range\": [-2, 2], \"domain\": [0.55, 1], \"showgrid\": true, \"showline\": false, \"showticklabels\": true, \"tickcolor\": \"rgb(127,127,127)\", \"ticks\": \"outside\", \"title\": \"Net Value ($)\", \"zeroline\": false}, \"yaxis1\": {\"gridcolor\": \"rgb(255,255,255)\", \"range\": [0], \"showgrid\": true, \"showline\": false, \"showticklabels\": true, \"tickcolor\": \"rgb(127,127,127)\", \"ticks\": \"outside\", \"title\": \"RT (s)\", \"anchor\": \"x1\", \"zeroline\": false}, \"yaxis2\": {\"gridcolor\": \"rgb(255,255,255)\", \"range\": [0], \"showgrid\": true, \"showline\": false, \"showticklabels\": true, \"tickcolor\": \"rgb(127,127,127)\", \"ticks\": \"outside\", \"title\": \"p (accept)\", \"anchor\": \"x2\", \"zeroline\": false}, \"annotations\": [{\"x\": 0.01, \"y\": 1.12, \"showarrow\": false, \"text\": \"PARAMETERS: v: 0.051, a: 0.221, \\u03b8: 0.775\", \"xref\": \"paper\", \"yref\": \"paper\"}, {\"x\": 0.01, \"y\": 1.08, \"showarrow\": false, \"text\": \"MLE: 670.87\", \"xref\": \"paper\", \"yref\": \"paper\"}, {\"x\": 0.01, \"y\": 1.2, \"showarrow\": false, \"text\": \"SUBJECT: 14\", \"font\": {\"family\": \"Arial, sans-serif\", \"size\": 22}, \"xref\": \"paper\", \"yref\": \"paper\"}]}, {\"showLink\": true, \"linkText\": \"Export to plot.ly\"})});</script>"
      ],
      "text/vnd.plotly.v1+html": [
       "<div id=\"04b821a6-7597-485f-8a64-29fe1f9610d4\" style=\"height: 525px; width: 100%;\" class=\"plotly-graph-div\"></div><script type=\"text/javascript\">require([\"plotly\"], function(Plotly) { window.PLOTLYENV=window.PLOTLYENV || {};window.PLOTLYENV.BASE_URL=\"https://plot.ly\";Plotly.newPlot(\"04b821a6-7597-485f-8a64-29fe1f9610d4\", [{\"type\": \"scatter\", \"x\": [-1.5835294117647063, -0.8089473684210526, -0.2995, 0.01899999999999998, 0.31941176470588234, 0.804375, 1.5968], \"y\": [3.4976711634799904, 4.129546045803612, 4.544472419338126, 4.305603327703041, 4.2611871013667795, 4.102034559846287, 3.235373271243879], \"error_y\": {\"type\": \"data\", \"array\": [0.35021592608518126, 0.3766742051351146, 0.5542082213227633, 0.33901965010363483, 0.5045817465963701, 0.5152689778264671, 0.28194392957871334], \"color\": \"rgb(0,170,80)\", \"visible\": true}, \"line\": {\"color\": \"rgb(0,100,80)\"}, \"mode\": \"lines+markers\", \"name\": \"Test Data\"}, {\"type\": \"scatter\", \"x\": [-1.5835294117647063, -0.8089473684210526, -0.2995, 0.01899999999999998, 0.31941176470588234, 0.804375, 1.5968], \"y\": [3.5966961858571493, 4.327205222631421, 4.618494779293964, 4.678377105380836, 4.616995256968379, 4.328831026031689, 3.5643132158232476], \"error_y\": {\"type\": \"data\", \"array\": [0.01444873277286616, 0.016585222926869158, 0.01736890212771104, 0.014469964010517504, 0.01888984431754597, 0.018034392614214537, 0.011677470585846512], \"color\": \"rgb(0,100,246)\", \"visible\": true}, \"line\": {\"color\": \"rgb(0,176,246)\"}, \"mode\": \"lines+markers\", \"name\": \"Sim Data\"}, {\"type\": \"scatter\", \"x\": [-1.5835294117647063, -0.8089473684210526, -0.2995, 0.01899999999999998, 0.31941176470588234, 0.804375, 1.5968], \"y\": [0.11764705882352941, 0.21052631578947367, 0.3, 0.6666666666666666, 0.9411764705882353, 0.8125, 1.0], \"error_y\": {\"type\": \"data\", \"array\": [0.08054743492723031, 0.0960916767552923, 0.10513149660756937, 0.0875376219064817, 0.058823529411764705, 0.10077822185373188, 0.0], \"color\": \"rgb(0,170,80)\", \"visible\": true}, \"line\": {\"color\": \"rgb(0,100,80)\"}, \"mode\": \"lines+markers\", \"name\": \"Test Data\", \"xaxis\": \"x2\", \"yaxis\": \"y2\"}, {\"type\": \"scatter\", \"x\": [-1.5835294117647063, -0.8089473684210526, -0.2995, 0.01899999999999998, 0.31941176470588234, 0.804375, 1.5968], \"y\": [0.0505358960541285, 0.1688985604285236, 0.3511960665156621, 0.5092040542554778, 0.6511597686959911, 0.8342054712856859, 0.9498416050686378], \"error_y\": {\"type\": \"data\", \"array\": [0.00169504419005394, 0.002798716262447566, 0.0035480707494455616, 0.003051726506518778, 0.003841826546108202, 0.0030268484058571204, 0.00139105584548872], \"color\": \"rgb(0,100,246)\", \"visible\": true}, \"line\": {\"color\": \"rgb(0,176,246)\"}, \"mode\": \"lines+markers\", \"name\": \"Sim Data\", \"xaxis\": \"x2\", \"yaxis\": \"y2\"}], {\"paper_bgcolor\": \"rgb(255,255,255)\", \"plot_bgcolor\": \"rgb(229,229,229)\", \"xaxis\": {\"gridcolor\": \"rgb(255,255,255)\", \"range\": [-2, 2], \"domain\": [0, 0.45], \"showgrid\": true, \"showline\": false, \"showticklabels\": true, \"tickcolor\": \"rgb(127,127,127)\", \"ticks\": \"outside\", \"title\": \"Net Value ($)\", \"zeroline\": false}, \"xaxis2\": {\"gridcolor\": \"rgb(255,255,255)\", \"range\": [-2, 2], \"domain\": [0.55, 1], \"showgrid\": true, \"showline\": false, \"showticklabels\": true, \"tickcolor\": \"rgb(127,127,127)\", \"ticks\": \"outside\", \"title\": \"Net Value ($)\", \"zeroline\": false}, \"yaxis1\": {\"gridcolor\": \"rgb(255,255,255)\", \"range\": [0], \"showgrid\": true, \"showline\": false, \"showticklabels\": true, \"tickcolor\": \"rgb(127,127,127)\", \"ticks\": \"outside\", \"title\": \"RT (s)\", \"anchor\": \"x1\", \"zeroline\": false}, \"yaxis2\": {\"gridcolor\": \"rgb(255,255,255)\", \"range\": [0], \"showgrid\": true, \"showline\": false, \"showticklabels\": true, \"tickcolor\": \"rgb(127,127,127)\", \"ticks\": \"outside\", \"title\": \"p (accept)\", \"anchor\": \"x2\", \"zeroline\": false}, \"annotations\": [{\"x\": 0.01, \"y\": 1.12, \"showarrow\": false, \"text\": \"PARAMETERS: v: 0.051, a: 0.221, \\u03b8: 0.775\", \"xref\": \"paper\", \"yref\": \"paper\"}, {\"x\": 0.01, \"y\": 1.08, \"showarrow\": false, \"text\": \"MLE: 670.87\", \"xref\": \"paper\", \"yref\": \"paper\"}, {\"x\": 0.01, \"y\": 1.2, \"showarrow\": false, \"text\": \"SUBJECT: 14\", \"font\": {\"family\": \"Arial, sans-serif\", \"size\": 22}, \"xref\": \"paper\", \"yref\": \"paper\"}]}, {\"showLink\": true, \"linkText\": \"Export to plot.ly\"})});</script>"
      ]
     },
     "metadata": {},
     "output_type": "display_data"
    },
    {
     "data": {
      "text/html": [
       "<script>requirejs.config({paths: { 'plotly': ['https://cdn.plot.ly/plotly-latest.min']},});if(!window.Plotly) {{require(['plotly'],function(plotly) {window.Plotly=plotly;});}}</script>"
      ],
      "text/vnd.plotly.v1+html": [
       "<script>requirejs.config({paths: { 'plotly': ['https://cdn.plot.ly/plotly-latest.min']},});if(!window.Plotly) {{require(['plotly'],function(plotly) {window.Plotly=plotly;});}}</script>"
      ]
     },
     "metadata": {},
     "output_type": "display_data"
    },
    {
     "data": {
      "application/vnd.plotly.v1+json": {
       "data": [
        {
         "error_y": {
          "array": [
           0.3567010076126107,
           0.2103499017404514,
           0.23592121519616596,
           0.14616530230162392,
           0.1637560550610461,
           0.20646263968004017,
           0.15110877526032843
          ],
          "color": "rgb(0,170,80)",
          "type": "data",
          "visible": true
         },
         "line": {
          "color": "rgb(0,100,80)"
         },
         "mode": "lines+markers",
         "name": "Test Data",
         "type": "scatter",
         "x": [
          -1.9084615384615384,
          -0.7883333333333333,
          -0.28647058823529414,
          0.029210526315789458,
          0.3188888888888888,
          0.7157894736842105,
          1.679230769230769
         ],
         "y": [
          2.9552737949953354,
          2.3677408923168626,
          2.4658561379029003,
          2.5238267371215017,
          2.289951914292436,
          2.5536627034874226,
          2.1475658100937896
         ]
        },
        {
         "error_y": {
          "array": [
           0.012243475930010683,
           0.013487302648835409,
           0.014750482786261265,
           0.00986291588682282,
           0.014378417316893568,
           0.013173368957108723,
           0.00934102001080703
          ],
          "color": "rgb(0,100,246)",
          "type": "data",
          "visible": true
         },
         "line": {
          "color": "rgb(0,176,246)"
         },
         "mode": "lines+markers",
         "name": "Sim Data",
         "type": "scatter",
         "x": [
          -1.9084615384615384,
          -0.7883333333333333,
          -0.28647058823529414,
          0.029210526315789458,
          0.3188888888888888,
          0.7157894736842105,
          1.679230769230769
         ],
         "y": [
          2.6657496531524645,
          3.2100089015787443,
          3.392461474286387,
          3.358452535102442,
          3.3911873278237032,
          3.228458569987795,
          2.7663945491692803
         ]
        },
        {
         "error_y": {
          "array": [
           0,
           0.11823563735376173,
           0.11391127488845344,
           0.0793021898421983,
           0.0903876907577734,
           0.10956136839295434,
           0
          ],
          "color": "rgb(0,170,80)",
          "type": "data",
          "visible": true
         },
         "line": {
          "color": "rgb(0,100,80)"
         },
         "mode": "lines+markers",
         "name": "Test Data",
         "type": "scatter",
         "x": [
          -1.9084615384615384,
          -0.7883333333333333,
          -0.28647058823529414,
          0.029210526315789458,
          0.3188888888888888,
          0.7157894736842105,
          1.679230769230769
         ],
         "xaxis": "x2",
         "y": [
          0,
          0.3888888888888889,
          0.29411764705882354,
          0.631578947368421,
          0.8333333333333334,
          0.6842105263157895,
          1
         ],
         "yaxis": "y2"
        },
        {
         "error_y": {
          "array": [
           0.0024547402386237583,
           0.0032709735794445045,
           0.003781200049138299,
           0.002573854790815038,
           0.0036477229633208215,
           0.0032174927113756214,
           0.001936568070742919
          ],
          "color": "rgb(0,100,246)",
          "type": "data",
          "visible": true
         },
         "line": {
          "color": "rgb(0,176,246)"
         },
         "mode": "lines+markers",
         "name": "Sim Data",
         "type": "scatter",
         "x": [
          -1.9084615384615384,
          -0.7883333333333333,
          -0.28647058823529414,
          0.029210526315789458,
          0.3188888888888888,
          0.7157894736842105,
          1.679230769230769
         ],
         "xaxis": "x2",
         "y": [
          0.08547864960690613,
          0.257306012764528,
          0.39955902508789704,
          0.5368875389657102,
          0.6155057064147973,
          0.7344869685227454,
          0.8907906402991403
         ],
         "yaxis": "y2"
        }
       ],
       "layout": {
        "annotations": [
         {
          "showarrow": false,
          "text": "PARAMETERS: v: 0.051, a: 0.164, θ: 0.55",
          "x": 0.01,
          "xref": "paper",
          "y": 1.12,
          "yref": "paper"
         },
         {
          "showarrow": false,
          "text": "MLE: 625.87",
          "x": 0.01,
          "xref": "paper",
          "y": 1.08,
          "yref": "paper"
         },
         {
          "font": {
           "family": "Arial, sans-serif",
           "size": 22
          },
          "showarrow": false,
          "text": "SUBJECT: 15",
          "x": 0.01,
          "xref": "paper",
          "y": 1.2,
          "yref": "paper"
         }
        ],
        "paper_bgcolor": "rgb(255,255,255)",
        "plot_bgcolor": "rgb(229,229,229)",
        "xaxis": {
         "domain": [
          0,
          0.45
         ],
         "gridcolor": "rgb(255,255,255)",
         "range": [
          -2,
          2
         ],
         "showgrid": true,
         "showline": false,
         "showticklabels": true,
         "tickcolor": "rgb(127,127,127)",
         "ticks": "outside",
         "title": "Net Value ($)",
         "zeroline": false
        },
        "xaxis2": {
         "domain": [
          0.55,
          1
         ],
         "gridcolor": "rgb(255,255,255)",
         "range": [
          -2,
          2
         ],
         "showgrid": true,
         "showline": false,
         "showticklabels": true,
         "tickcolor": "rgb(127,127,127)",
         "ticks": "outside",
         "title": "Net Value ($)",
         "zeroline": false
        },
        "yaxis1": {
         "anchor": "x1",
         "gridcolor": "rgb(255,255,255)",
         "range": [
          0
         ],
         "showgrid": true,
         "showline": false,
         "showticklabels": true,
         "tickcolor": "rgb(127,127,127)",
         "ticks": "outside",
         "title": "RT (s)",
         "zeroline": false
        },
        "yaxis2": {
         "anchor": "x2",
         "gridcolor": "rgb(255,255,255)",
         "range": [
          0
         ],
         "showgrid": true,
         "showline": false,
         "showticklabels": true,
         "tickcolor": "rgb(127,127,127)",
         "ticks": "outside",
         "title": "p (accept)",
         "zeroline": false
        }
       }
      },
      "text/html": [
       "<div id=\"210c7f85-b172-440e-b1a7-02da993038a5\" style=\"height: 525px; width: 100%;\" class=\"plotly-graph-div\"></div><script type=\"text/javascript\">require([\"plotly\"], function(Plotly) { window.PLOTLYENV=window.PLOTLYENV || {};window.PLOTLYENV.BASE_URL=\"https://plot.ly\";Plotly.newPlot(\"210c7f85-b172-440e-b1a7-02da993038a5\", [{\"type\": \"scatter\", \"x\": [-1.9084615384615384, -0.7883333333333333, -0.28647058823529414, 0.029210526315789458, 0.3188888888888888, 0.7157894736842105, 1.679230769230769], \"y\": [2.9552737949953354, 2.3677408923168626, 2.4658561379029003, 2.5238267371215017, 2.289951914292436, 2.5536627034874226, 2.1475658100937896], \"error_y\": {\"type\": \"data\", \"array\": [0.3567010076126107, 0.2103499017404514, 0.23592121519616596, 0.14616530230162392, 0.1637560550610461, 0.20646263968004017, 0.15110877526032843], \"color\": \"rgb(0,170,80)\", \"visible\": true}, \"line\": {\"color\": \"rgb(0,100,80)\"}, \"mode\": \"lines+markers\", \"name\": \"Test Data\"}, {\"type\": \"scatter\", \"x\": [-1.9084615384615384, -0.7883333333333333, -0.28647058823529414, 0.029210526315789458, 0.3188888888888888, 0.7157894736842105, 1.679230769230769], \"y\": [2.6657496531524645, 3.2100089015787443, 3.392461474286387, 3.358452535102442, 3.3911873278237032, 3.228458569987795, 2.7663945491692803], \"error_y\": {\"type\": \"data\", \"array\": [0.012243475930010683, 0.013487302648835409, 0.014750482786261265, 0.00986291588682282, 0.014378417316893568, 0.013173368957108723, 0.00934102001080703], \"color\": \"rgb(0,100,246)\", \"visible\": true}, \"line\": {\"color\": \"rgb(0,176,246)\"}, \"mode\": \"lines+markers\", \"name\": \"Sim Data\"}, {\"type\": \"scatter\", \"x\": [-1.9084615384615384, -0.7883333333333333, -0.28647058823529414, 0.029210526315789458, 0.3188888888888888, 0.7157894736842105, 1.679230769230769], \"y\": [0.0, 0.3888888888888889, 0.29411764705882354, 0.631578947368421, 0.8333333333333334, 0.6842105263157895, 1.0], \"error_y\": {\"type\": \"data\", \"array\": [0.0, 0.11823563735376173, 0.11391127488845344, 0.0793021898421983, 0.0903876907577734, 0.10956136839295434, 0.0], \"color\": \"rgb(0,170,80)\", \"visible\": true}, \"line\": {\"color\": \"rgb(0,100,80)\"}, \"mode\": \"lines+markers\", \"name\": \"Test Data\", \"xaxis\": \"x2\", \"yaxis\": \"y2\"}, {\"type\": \"scatter\", \"x\": [-1.9084615384615384, -0.7883333333333333, -0.28647058823529414, 0.029210526315789458, 0.3188888888888888, 0.7157894736842105, 1.679230769230769], \"y\": [0.08547864960690613, 0.257306012764528, 0.39955902508789704, 0.5368875389657102, 0.6155057064147973, 0.7344869685227454, 0.8907906402991403], \"error_y\": {\"type\": \"data\", \"array\": [0.0024547402386237583, 0.0032709735794445045, 0.003781200049138299, 0.002573854790815038, 0.0036477229633208215, 0.0032174927113756214, 0.001936568070742919], \"color\": \"rgb(0,100,246)\", \"visible\": true}, \"line\": {\"color\": \"rgb(0,176,246)\"}, \"mode\": \"lines+markers\", \"name\": \"Sim Data\", \"xaxis\": \"x2\", \"yaxis\": \"y2\"}], {\"paper_bgcolor\": \"rgb(255,255,255)\", \"plot_bgcolor\": \"rgb(229,229,229)\", \"xaxis\": {\"gridcolor\": \"rgb(255,255,255)\", \"range\": [-2, 2], \"domain\": [0, 0.45], \"showgrid\": true, \"showline\": false, \"showticklabels\": true, \"tickcolor\": \"rgb(127,127,127)\", \"ticks\": \"outside\", \"title\": \"Net Value ($)\", \"zeroline\": false}, \"xaxis2\": {\"gridcolor\": \"rgb(255,255,255)\", \"range\": [-2, 2], \"domain\": [0.55, 1], \"showgrid\": true, \"showline\": false, \"showticklabels\": true, \"tickcolor\": \"rgb(127,127,127)\", \"ticks\": \"outside\", \"title\": \"Net Value ($)\", \"zeroline\": false}, \"yaxis1\": {\"gridcolor\": \"rgb(255,255,255)\", \"range\": [0], \"showgrid\": true, \"showline\": false, \"showticklabels\": true, \"tickcolor\": \"rgb(127,127,127)\", \"ticks\": \"outside\", \"title\": \"RT (s)\", \"anchor\": \"x1\", \"zeroline\": false}, \"yaxis2\": {\"gridcolor\": \"rgb(255,255,255)\", \"range\": [0], \"showgrid\": true, \"showline\": false, \"showticklabels\": true, \"tickcolor\": \"rgb(127,127,127)\", \"ticks\": \"outside\", \"title\": \"p (accept)\", \"anchor\": \"x2\", \"zeroline\": false}, \"annotations\": [{\"x\": 0.01, \"y\": 1.12, \"showarrow\": false, \"text\": \"PARAMETERS: v: 0.051, a: 0.164, \\u03b8: 0.55\", \"xref\": \"paper\", \"yref\": \"paper\"}, {\"x\": 0.01, \"y\": 1.08, \"showarrow\": false, \"text\": \"MLE: 625.87\", \"xref\": \"paper\", \"yref\": \"paper\"}, {\"x\": 0.01, \"y\": 1.2, \"showarrow\": false, \"text\": \"SUBJECT: 15\", \"font\": {\"family\": \"Arial, sans-serif\", \"size\": 22}, \"xref\": \"paper\", \"yref\": \"paper\"}]}, {\"showLink\": true, \"linkText\": \"Export to plot.ly\"})});</script>"
      ],
      "text/vnd.plotly.v1+html": [
       "<div id=\"210c7f85-b172-440e-b1a7-02da993038a5\" style=\"height: 525px; width: 100%;\" class=\"plotly-graph-div\"></div><script type=\"text/javascript\">require([\"plotly\"], function(Plotly) { window.PLOTLYENV=window.PLOTLYENV || {};window.PLOTLYENV.BASE_URL=\"https://plot.ly\";Plotly.newPlot(\"210c7f85-b172-440e-b1a7-02da993038a5\", [{\"type\": \"scatter\", \"x\": [-1.9084615384615384, -0.7883333333333333, -0.28647058823529414, 0.029210526315789458, 0.3188888888888888, 0.7157894736842105, 1.679230769230769], \"y\": [2.9552737949953354, 2.3677408923168626, 2.4658561379029003, 2.5238267371215017, 2.289951914292436, 2.5536627034874226, 2.1475658100937896], \"error_y\": {\"type\": \"data\", \"array\": [0.3567010076126107, 0.2103499017404514, 0.23592121519616596, 0.14616530230162392, 0.1637560550610461, 0.20646263968004017, 0.15110877526032843], \"color\": \"rgb(0,170,80)\", \"visible\": true}, \"line\": {\"color\": \"rgb(0,100,80)\"}, \"mode\": \"lines+markers\", \"name\": \"Test Data\"}, {\"type\": \"scatter\", \"x\": [-1.9084615384615384, -0.7883333333333333, -0.28647058823529414, 0.029210526315789458, 0.3188888888888888, 0.7157894736842105, 1.679230769230769], \"y\": [2.6657496531524645, 3.2100089015787443, 3.392461474286387, 3.358452535102442, 3.3911873278237032, 3.228458569987795, 2.7663945491692803], \"error_y\": {\"type\": \"data\", \"array\": [0.012243475930010683, 0.013487302648835409, 0.014750482786261265, 0.00986291588682282, 0.014378417316893568, 0.013173368957108723, 0.00934102001080703], \"color\": \"rgb(0,100,246)\", \"visible\": true}, \"line\": {\"color\": \"rgb(0,176,246)\"}, \"mode\": \"lines+markers\", \"name\": \"Sim Data\"}, {\"type\": \"scatter\", \"x\": [-1.9084615384615384, -0.7883333333333333, -0.28647058823529414, 0.029210526315789458, 0.3188888888888888, 0.7157894736842105, 1.679230769230769], \"y\": [0.0, 0.3888888888888889, 0.29411764705882354, 0.631578947368421, 0.8333333333333334, 0.6842105263157895, 1.0], \"error_y\": {\"type\": \"data\", \"array\": [0.0, 0.11823563735376173, 0.11391127488845344, 0.0793021898421983, 0.0903876907577734, 0.10956136839295434, 0.0], \"color\": \"rgb(0,170,80)\", \"visible\": true}, \"line\": {\"color\": \"rgb(0,100,80)\"}, \"mode\": \"lines+markers\", \"name\": \"Test Data\", \"xaxis\": \"x2\", \"yaxis\": \"y2\"}, {\"type\": \"scatter\", \"x\": [-1.9084615384615384, -0.7883333333333333, -0.28647058823529414, 0.029210526315789458, 0.3188888888888888, 0.7157894736842105, 1.679230769230769], \"y\": [0.08547864960690613, 0.257306012764528, 0.39955902508789704, 0.5368875389657102, 0.6155057064147973, 0.7344869685227454, 0.8907906402991403], \"error_y\": {\"type\": \"data\", \"array\": [0.0024547402386237583, 0.0032709735794445045, 0.003781200049138299, 0.002573854790815038, 0.0036477229633208215, 0.0032174927113756214, 0.001936568070742919], \"color\": \"rgb(0,100,246)\", \"visible\": true}, \"line\": {\"color\": \"rgb(0,176,246)\"}, \"mode\": \"lines+markers\", \"name\": \"Sim Data\", \"xaxis\": \"x2\", \"yaxis\": \"y2\"}], {\"paper_bgcolor\": \"rgb(255,255,255)\", \"plot_bgcolor\": \"rgb(229,229,229)\", \"xaxis\": {\"gridcolor\": \"rgb(255,255,255)\", \"range\": [-2, 2], \"domain\": [0, 0.45], \"showgrid\": true, \"showline\": false, \"showticklabels\": true, \"tickcolor\": \"rgb(127,127,127)\", \"ticks\": \"outside\", \"title\": \"Net Value ($)\", \"zeroline\": false}, \"xaxis2\": {\"gridcolor\": \"rgb(255,255,255)\", \"range\": [-2, 2], \"domain\": [0.55, 1], \"showgrid\": true, \"showline\": false, \"showticklabels\": true, \"tickcolor\": \"rgb(127,127,127)\", \"ticks\": \"outside\", \"title\": \"Net Value ($)\", \"zeroline\": false}, \"yaxis1\": {\"gridcolor\": \"rgb(255,255,255)\", \"range\": [0], \"showgrid\": true, \"showline\": false, \"showticklabels\": true, \"tickcolor\": \"rgb(127,127,127)\", \"ticks\": \"outside\", \"title\": \"RT (s)\", \"anchor\": \"x1\", \"zeroline\": false}, \"yaxis2\": {\"gridcolor\": \"rgb(255,255,255)\", \"range\": [0], \"showgrid\": true, \"showline\": false, \"showticklabels\": true, \"tickcolor\": \"rgb(127,127,127)\", \"ticks\": \"outside\", \"title\": \"p (accept)\", \"anchor\": \"x2\", \"zeroline\": false}, \"annotations\": [{\"x\": 0.01, \"y\": 1.12, \"showarrow\": false, \"text\": \"PARAMETERS: v: 0.051, a: 0.164, \\u03b8: 0.55\", \"xref\": \"paper\", \"yref\": \"paper\"}, {\"x\": 0.01, \"y\": 1.08, \"showarrow\": false, \"text\": \"MLE: 625.87\", \"xref\": \"paper\", \"yref\": \"paper\"}, {\"x\": 0.01, \"y\": 1.2, \"showarrow\": false, \"text\": \"SUBJECT: 15\", \"font\": {\"family\": \"Arial, sans-serif\", \"size\": 22}, \"xref\": \"paper\", \"yref\": \"paper\"}]}, {\"showLink\": true, \"linkText\": \"Export to plot.ly\"})});</script>"
      ]
     },
     "metadata": {},
     "output_type": "display_data"
    },
    {
     "data": {
      "text/html": [
       "<script>requirejs.config({paths: { 'plotly': ['https://cdn.plot.ly/plotly-latest.min']},});if(!window.Plotly) {{require(['plotly'],function(plotly) {window.Plotly=plotly;});}}</script>"
      ],
      "text/vnd.plotly.v1+html": [
       "<script>requirejs.config({paths: { 'plotly': ['https://cdn.plot.ly/plotly-latest.min']},});if(!window.Plotly) {{require(['plotly'],function(plotly) {window.Plotly=plotly;});}}</script>"
      ]
     },
     "metadata": {},
     "output_type": "display_data"
    },
    {
     "data": {
      "application/vnd.plotly.v1+json": {
       "data": [
        {
         "error_y": {
          "array": [
           0.5155993844089763,
           0.4371406107692443,
           0.42851767156685155,
           0.3827105295676191,
           0.573180326126223,
           0.4453286957032869,
           0.2816722892419483
          ],
          "color": "rgb(0,170,80)",
          "type": "data",
          "visible": true
         },
         "line": {
          "color": "rgb(0,100,80)"
         },
         "mode": "lines+markers",
         "name": "Test Data",
         "type": "scatter",
         "x": [
          -1.596538461538462,
          -0.79375,
          -0.26629629629629636,
          0.03636363636363631,
          0.3371428571428572,
          0.7925000000000001,
          1.5489473684210522
         ],
         "y": [
          3.9572576339246908,
          3.201245195330557,
          4.084760400667114,
          4.246452928061692,
          3.614466961847419,
          3.3151928501989447,
          2.693178288522177
         ]
        },
        {
         "error_y": {
          "array": [
           0.009520271121625975,
           0.01438505720060092,
           0.011576511650588237,
           0.012881310929384179,
           0.016227547914048478,
           0.012813797159364525,
           0.01120216505761133
          ],
          "color": "rgb(0,100,246)",
          "type": "data",
          "visible": true
         },
         "line": {
          "color": "rgb(0,176,246)"
         },
         "mode": "lines+markers",
         "name": "Sim Data",
         "type": "scatter",
         "x": [
          -1.596538461538462,
          -0.79375,
          -0.26629629629629636,
          0.03636363636363631,
          0.3371428571428572,
          0.7925000000000001,
          1.5489473684210522
         ],
         "y": [
          2.8255016388385354,
          3.1760740997666836,
          3.3695853859708387,
          3.3759551131388426,
          3.3710142505787273,
          3.2134139236672037,
          2.8054766956980783
         ]
        },
        {
         "error_y": {
          "array": [
           0.038461538461538464,
           0.0625,
           0.07618086585254095,
           0.10729033533674225,
           0.11380392954509881,
           0,
           0.05263157894736841
          ],
          "color": "rgb(0,170,80)",
          "type": "data",
          "visible": true
         },
         "line": {
          "color": "rgb(0,100,80)"
         },
         "mode": "lines+markers",
         "name": "Test Data",
         "type": "scatter",
         "x": [
          -1.596538461538462,
          -0.79375,
          -0.26629629629629636,
          0.03636363636363631,
          0.3371428571428572,
          0.7925000000000001,
          1.5489473684210522
         ],
         "xaxis": "x2",
         "y": [
          0.038461538461538464,
          0.0625,
          0.18518518518518517,
          0.5909090909090909,
          0.7857142857142857,
          1,
          0.9473684210526315
         ],
         "yaxis": "y2"
        },
        {
         "error_y": {
          "array": [
           0.00203934130917998,
           0.0034973215660446446,
           0.0030257222336317084,
           0.003394068132166577,
           0.00410583902582078,
           0.003165918561064606,
           0.0024023415042741156
          ],
          "color": "rgb(0,100,246)",
          "type": "data",
          "visible": true
         },
         "line": {
          "color": "rgb(0,176,246)"
         },
         "mode": "lines+markers",
         "name": "Sim Data",
         "type": "scatter",
         "x": [
          -1.596538461538462,
          -0.79375,
          -0.26629629629629636,
          0.03636363636363631,
          0.3371428571428572,
          0.7925000000000001,
          1.5489473684210522
         ],
         "xaxis": "x2",
         "y": [
          0.12297073227162303,
          0.2632275966450148,
          0.42372436546320247,
          0.4932485367989308,
          0.6302806712962963,
          0.7268780290791599,
          0.8750593824228029
         ],
         "yaxis": "y2"
        }
       ],
       "layout": {
        "annotations": [
         {
          "showarrow": false,
          "text": "PARAMETERS: v: 0.051, a: 0.164, θ: 0.55",
          "x": 0.01,
          "xref": "paper",
          "y": 1.12,
          "yref": "paper"
         },
         {
          "showarrow": false,
          "text": "MLE: 675.49",
          "x": 0.01,
          "xref": "paper",
          "y": 1.08,
          "yref": "paper"
         },
         {
          "font": {
           "family": "Arial, sans-serif",
           "size": 22
          },
          "showarrow": false,
          "text": "SUBJECT: 16",
          "x": 0.01,
          "xref": "paper",
          "y": 1.2,
          "yref": "paper"
         }
        ],
        "paper_bgcolor": "rgb(255,255,255)",
        "plot_bgcolor": "rgb(229,229,229)",
        "xaxis": {
         "domain": [
          0,
          0.45
         ],
         "gridcolor": "rgb(255,255,255)",
         "range": [
          -2,
          2
         ],
         "showgrid": true,
         "showline": false,
         "showticklabels": true,
         "tickcolor": "rgb(127,127,127)",
         "ticks": "outside",
         "title": "Net Value ($)",
         "zeroline": false
        },
        "xaxis2": {
         "domain": [
          0.55,
          1
         ],
         "gridcolor": "rgb(255,255,255)",
         "range": [
          -2,
          2
         ],
         "showgrid": true,
         "showline": false,
         "showticklabels": true,
         "tickcolor": "rgb(127,127,127)",
         "ticks": "outside",
         "title": "Net Value ($)",
         "zeroline": false
        },
        "yaxis1": {
         "anchor": "x1",
         "gridcolor": "rgb(255,255,255)",
         "range": [
          0
         ],
         "showgrid": true,
         "showline": false,
         "showticklabels": true,
         "tickcolor": "rgb(127,127,127)",
         "ticks": "outside",
         "title": "RT (s)",
         "zeroline": false
        },
        "yaxis2": {
         "anchor": "x2",
         "gridcolor": "rgb(255,255,255)",
         "range": [
          0
         ],
         "showgrid": true,
         "showline": false,
         "showticklabels": true,
         "tickcolor": "rgb(127,127,127)",
         "ticks": "outside",
         "title": "p (accept)",
         "zeroline": false
        }
       }
      },
      "text/html": [
       "<div id=\"c95fb46f-869c-484d-8e90-50a6394f1843\" style=\"height: 525px; width: 100%;\" class=\"plotly-graph-div\"></div><script type=\"text/javascript\">require([\"plotly\"], function(Plotly) { window.PLOTLYENV=window.PLOTLYENV || {};window.PLOTLYENV.BASE_URL=\"https://plot.ly\";Plotly.newPlot(\"c95fb46f-869c-484d-8e90-50a6394f1843\", [{\"type\": \"scatter\", \"x\": [-1.596538461538462, -0.79375, -0.26629629629629636, 0.03636363636363631, 0.3371428571428572, 0.7925000000000001, 1.5489473684210522], \"y\": [3.9572576339246908, 3.201245195330557, 4.084760400667114, 4.246452928061692, 3.614466961847419, 3.3151928501989447, 2.693178288522177], \"error_y\": {\"type\": \"data\", \"array\": [0.5155993844089763, 0.4371406107692443, 0.42851767156685155, 0.3827105295676191, 0.573180326126223, 0.4453286957032869, 0.2816722892419483], \"color\": \"rgb(0,170,80)\", \"visible\": true}, \"line\": {\"color\": \"rgb(0,100,80)\"}, \"mode\": \"lines+markers\", \"name\": \"Test Data\"}, {\"type\": \"scatter\", \"x\": [-1.596538461538462, -0.79375, -0.26629629629629636, 0.03636363636363631, 0.3371428571428572, 0.7925000000000001, 1.5489473684210522], \"y\": [2.8255016388385354, 3.1760740997666836, 3.3695853859708387, 3.3759551131388426, 3.3710142505787273, 3.2134139236672037, 2.8054766956980783], \"error_y\": {\"type\": \"data\", \"array\": [0.009520271121625975, 0.01438505720060092, 0.011576511650588237, 0.012881310929384179, 0.016227547914048478, 0.012813797159364525, 0.01120216505761133], \"color\": \"rgb(0,100,246)\", \"visible\": true}, \"line\": {\"color\": \"rgb(0,176,246)\"}, \"mode\": \"lines+markers\", \"name\": \"Sim Data\"}, {\"type\": \"scatter\", \"x\": [-1.596538461538462, -0.79375, -0.26629629629629636, 0.03636363636363631, 0.3371428571428572, 0.7925000000000001, 1.5489473684210522], \"y\": [0.038461538461538464, 0.0625, 0.18518518518518517, 0.5909090909090909, 0.7857142857142857, 1.0, 0.9473684210526315], \"error_y\": {\"type\": \"data\", \"array\": [0.038461538461538464, 0.0625, 0.07618086585254095, 0.10729033533674225, 0.11380392954509881, 0.0, 0.05263157894736841], \"color\": \"rgb(0,170,80)\", \"visible\": true}, \"line\": {\"color\": \"rgb(0,100,80)\"}, \"mode\": \"lines+markers\", \"name\": \"Test Data\", \"xaxis\": \"x2\", \"yaxis\": \"y2\"}, {\"type\": \"scatter\", \"x\": [-1.596538461538462, -0.79375, -0.26629629629629636, 0.03636363636363631, 0.3371428571428572, 0.7925000000000001, 1.5489473684210522], \"y\": [0.12297073227162303, 0.2632275966450148, 0.42372436546320247, 0.4932485367989308, 0.6302806712962963, 0.7268780290791599, 0.8750593824228029], \"error_y\": {\"type\": \"data\", \"array\": [0.00203934130917998, 0.0034973215660446446, 0.0030257222336317084, 0.003394068132166577, 0.00410583902582078, 0.003165918561064606, 0.0024023415042741156], \"color\": \"rgb(0,100,246)\", \"visible\": true}, \"line\": {\"color\": \"rgb(0,176,246)\"}, \"mode\": \"lines+markers\", \"name\": \"Sim Data\", \"xaxis\": \"x2\", \"yaxis\": \"y2\"}], {\"paper_bgcolor\": \"rgb(255,255,255)\", \"plot_bgcolor\": \"rgb(229,229,229)\", \"xaxis\": {\"gridcolor\": \"rgb(255,255,255)\", \"range\": [-2, 2], \"domain\": [0, 0.45], \"showgrid\": true, \"showline\": false, \"showticklabels\": true, \"tickcolor\": \"rgb(127,127,127)\", \"ticks\": \"outside\", \"title\": \"Net Value ($)\", \"zeroline\": false}, \"xaxis2\": {\"gridcolor\": \"rgb(255,255,255)\", \"range\": [-2, 2], \"domain\": [0.55, 1], \"showgrid\": true, \"showline\": false, \"showticklabels\": true, \"tickcolor\": \"rgb(127,127,127)\", \"ticks\": \"outside\", \"title\": \"Net Value ($)\", \"zeroline\": false}, \"yaxis1\": {\"gridcolor\": \"rgb(255,255,255)\", \"range\": [0], \"showgrid\": true, \"showline\": false, \"showticklabels\": true, \"tickcolor\": \"rgb(127,127,127)\", \"ticks\": \"outside\", \"title\": \"RT (s)\", \"anchor\": \"x1\", \"zeroline\": false}, \"yaxis2\": {\"gridcolor\": \"rgb(255,255,255)\", \"range\": [0], \"showgrid\": true, \"showline\": false, \"showticklabels\": true, \"tickcolor\": \"rgb(127,127,127)\", \"ticks\": \"outside\", \"title\": \"p (accept)\", \"anchor\": \"x2\", \"zeroline\": false}, \"annotations\": [{\"x\": 0.01, \"y\": 1.12, \"showarrow\": false, \"text\": \"PARAMETERS: v: 0.051, a: 0.164, \\u03b8: 0.55\", \"xref\": \"paper\", \"yref\": \"paper\"}, {\"x\": 0.01, \"y\": 1.08, \"showarrow\": false, \"text\": \"MLE: 675.49\", \"xref\": \"paper\", \"yref\": \"paper\"}, {\"x\": 0.01, \"y\": 1.2, \"showarrow\": false, \"text\": \"SUBJECT: 16\", \"font\": {\"family\": \"Arial, sans-serif\", \"size\": 22}, \"xref\": \"paper\", \"yref\": \"paper\"}]}, {\"showLink\": true, \"linkText\": \"Export to plot.ly\"})});</script>"
      ],
      "text/vnd.plotly.v1+html": [
       "<div id=\"c95fb46f-869c-484d-8e90-50a6394f1843\" style=\"height: 525px; width: 100%;\" class=\"plotly-graph-div\"></div><script type=\"text/javascript\">require([\"plotly\"], function(Plotly) { window.PLOTLYENV=window.PLOTLYENV || {};window.PLOTLYENV.BASE_URL=\"https://plot.ly\";Plotly.newPlot(\"c95fb46f-869c-484d-8e90-50a6394f1843\", [{\"type\": \"scatter\", \"x\": [-1.596538461538462, -0.79375, -0.26629629629629636, 0.03636363636363631, 0.3371428571428572, 0.7925000000000001, 1.5489473684210522], \"y\": [3.9572576339246908, 3.201245195330557, 4.084760400667114, 4.246452928061692, 3.614466961847419, 3.3151928501989447, 2.693178288522177], \"error_y\": {\"type\": \"data\", \"array\": [0.5155993844089763, 0.4371406107692443, 0.42851767156685155, 0.3827105295676191, 0.573180326126223, 0.4453286957032869, 0.2816722892419483], \"color\": \"rgb(0,170,80)\", \"visible\": true}, \"line\": {\"color\": \"rgb(0,100,80)\"}, \"mode\": \"lines+markers\", \"name\": \"Test Data\"}, {\"type\": \"scatter\", \"x\": [-1.596538461538462, -0.79375, -0.26629629629629636, 0.03636363636363631, 0.3371428571428572, 0.7925000000000001, 1.5489473684210522], \"y\": [2.8255016388385354, 3.1760740997666836, 3.3695853859708387, 3.3759551131388426, 3.3710142505787273, 3.2134139236672037, 2.8054766956980783], \"error_y\": {\"type\": \"data\", \"array\": [0.009520271121625975, 0.01438505720060092, 0.011576511650588237, 0.012881310929384179, 0.016227547914048478, 0.012813797159364525, 0.01120216505761133], \"color\": \"rgb(0,100,246)\", \"visible\": true}, \"line\": {\"color\": \"rgb(0,176,246)\"}, \"mode\": \"lines+markers\", \"name\": \"Sim Data\"}, {\"type\": \"scatter\", \"x\": [-1.596538461538462, -0.79375, -0.26629629629629636, 0.03636363636363631, 0.3371428571428572, 0.7925000000000001, 1.5489473684210522], \"y\": [0.038461538461538464, 0.0625, 0.18518518518518517, 0.5909090909090909, 0.7857142857142857, 1.0, 0.9473684210526315], \"error_y\": {\"type\": \"data\", \"array\": [0.038461538461538464, 0.0625, 0.07618086585254095, 0.10729033533674225, 0.11380392954509881, 0.0, 0.05263157894736841], \"color\": \"rgb(0,170,80)\", \"visible\": true}, \"line\": {\"color\": \"rgb(0,100,80)\"}, \"mode\": \"lines+markers\", \"name\": \"Test Data\", \"xaxis\": \"x2\", \"yaxis\": \"y2\"}, {\"type\": \"scatter\", \"x\": [-1.596538461538462, -0.79375, -0.26629629629629636, 0.03636363636363631, 0.3371428571428572, 0.7925000000000001, 1.5489473684210522], \"y\": [0.12297073227162303, 0.2632275966450148, 0.42372436546320247, 0.4932485367989308, 0.6302806712962963, 0.7268780290791599, 0.8750593824228029], \"error_y\": {\"type\": \"data\", \"array\": [0.00203934130917998, 0.0034973215660446446, 0.0030257222336317084, 0.003394068132166577, 0.00410583902582078, 0.003165918561064606, 0.0024023415042741156], \"color\": \"rgb(0,100,246)\", \"visible\": true}, \"line\": {\"color\": \"rgb(0,176,246)\"}, \"mode\": \"lines+markers\", \"name\": \"Sim Data\", \"xaxis\": \"x2\", \"yaxis\": \"y2\"}], {\"paper_bgcolor\": \"rgb(255,255,255)\", \"plot_bgcolor\": \"rgb(229,229,229)\", \"xaxis\": {\"gridcolor\": \"rgb(255,255,255)\", \"range\": [-2, 2], \"domain\": [0, 0.45], \"showgrid\": true, \"showline\": false, \"showticklabels\": true, \"tickcolor\": \"rgb(127,127,127)\", \"ticks\": \"outside\", \"title\": \"Net Value ($)\", \"zeroline\": false}, \"xaxis2\": {\"gridcolor\": \"rgb(255,255,255)\", \"range\": [-2, 2], \"domain\": [0.55, 1], \"showgrid\": true, \"showline\": false, \"showticklabels\": true, \"tickcolor\": \"rgb(127,127,127)\", \"ticks\": \"outside\", \"title\": \"Net Value ($)\", \"zeroline\": false}, \"yaxis1\": {\"gridcolor\": \"rgb(255,255,255)\", \"range\": [0], \"showgrid\": true, \"showline\": false, \"showticklabels\": true, \"tickcolor\": \"rgb(127,127,127)\", \"ticks\": \"outside\", \"title\": \"RT (s)\", \"anchor\": \"x1\", \"zeroline\": false}, \"yaxis2\": {\"gridcolor\": \"rgb(255,255,255)\", \"range\": [0], \"showgrid\": true, \"showline\": false, \"showticklabels\": true, \"tickcolor\": \"rgb(127,127,127)\", \"ticks\": \"outside\", \"title\": \"p (accept)\", \"anchor\": \"x2\", \"zeroline\": false}, \"annotations\": [{\"x\": 0.01, \"y\": 1.12, \"showarrow\": false, \"text\": \"PARAMETERS: v: 0.051, a: 0.164, \\u03b8: 0.55\", \"xref\": \"paper\", \"yref\": \"paper\"}, {\"x\": 0.01, \"y\": 1.08, \"showarrow\": false, \"text\": \"MLE: 675.49\", \"xref\": \"paper\", \"yref\": \"paper\"}, {\"x\": 0.01, \"y\": 1.2, \"showarrow\": false, \"text\": \"SUBJECT: 16\", \"font\": {\"family\": \"Arial, sans-serif\", \"size\": 22}, \"xref\": \"paper\", \"yref\": \"paper\"}]}, {\"showLink\": true, \"linkText\": \"Export to plot.ly\"})});</script>"
      ]
     },
     "metadata": {},
     "output_type": "display_data"
    },
    {
     "data": {
      "text/html": [
       "<script>requirejs.config({paths: { 'plotly': ['https://cdn.plot.ly/plotly-latest.min']},});if(!window.Plotly) {{require(['plotly'],function(plotly) {window.Plotly=plotly;});}}</script>"
      ],
      "text/vnd.plotly.v1+html": [
       "<script>requirejs.config({paths: { 'plotly': ['https://cdn.plot.ly/plotly-latest.min']},});if(!window.Plotly) {{require(['plotly'],function(plotly) {window.Plotly=plotly;});}}</script>"
      ]
     },
     "metadata": {},
     "output_type": "display_data"
    },
    {
     "data": {
      "application/vnd.plotly.v1+json": {
       "data": [
        {
         "error_y": {
          "array": [
           0.3186301028894171,
           0.33573353920319327,
           0.5125059552199829,
           0.2558821801821235,
           0.31212419771003,
           0.3220052859472622,
           0.060707629484974435
          ],
          "color": "rgb(0,170,80)",
          "type": "data",
          "visible": true
         },
         "line": {
          "color": "rgb(0,100,80)"
         },
         "mode": "lines+markers",
         "name": "Test Data",
         "type": "scatter",
         "x": [
          -1.8164285714285715,
          -0.763181818181818,
          -0.3170588235294118,
          0.023181818181818147,
          0.324,
          0.8175000000000001,
          1.630434782608696
         ],
         "y": [
          2.088870704373611,
          2.7569758453887934,
          3.795318903062519,
          2.4751631152890194,
          2.5676745259319445,
          2.361632085216116,
          1.311077429497938
         ]
        },
        {
         "error_y": {
          "array": [
           0.004916038171483772,
           0.006135244432242189,
           0.00730793923688316,
           0.006181051679470989,
           0.0068625662323116565,
           0.00715489286017614,
           0.0055081038276068835
          ],
          "color": "rgb(0,100,246)",
          "type": "data",
          "visible": true
         },
         "line": {
          "color": "rgb(0,176,246)"
         },
         "mode": "lines+markers",
         "name": "Sim Data",
         "type": "scatter",
         "x": [
          -1.8164285714285715,
          -0.763181818181818,
          -0.3170588235294118,
          0.023181818181818147,
          0.324,
          0.8175000000000001,
          1.630434782608696
         ],
         "y": [
          1.8170912499999925,
          1.918158528823408,
          1.9741275957409194,
          1.9309200909090714,
          1.9869199500000005,
          1.9239935000000101,
          1.847395652173917
         ]
        },
        {
         "error_y": {
          "array": [
           0,
           0.04545454545454545,
           0.11947115300935236,
           0.1049727762162956,
           0.08191780219091252,
           0,
           0
          ],
          "color": "rgb(0,170,80)",
          "type": "data",
          "visible": true
         },
         "line": {
          "color": "rgb(0,100,80)"
         },
         "mode": "lines+markers",
         "name": "Test Data",
         "type": "scatter",
         "x": [
          -1.8164285714285715,
          -0.763181818181818,
          -0.3170588235294118,
          0.023181818181818147,
          0.324,
          0.8175000000000001,
          1.630434782608696
         ],
         "xaxis": "x2",
         "y": [
          0,
          0.045454545454545456,
          0.35294117647058826,
          0.6363636363636364,
          0.85,
          1,
          1
         ],
         "yaxis": "y2"
        },
        {
         "error_y": {
          "array": [
           0.0024676639542217057,
           0.003225797813585017,
           0.00379653926163855,
           0.003371075580297224,
           0.0035086435276286345,
           0.0037902041967406977,
           0.0028219018524011166
          ],
          "color": "rgb(0,100,246)",
          "type": "data",
          "visible": true
         },
         "line": {
          "color": "rgb(0,176,246)"
         },
         "mode": "lines+markers",
         "name": "Sim Data",
         "type": "scatter",
         "x": [
          -1.8164285714285715,
          -0.763181818181818,
          -0.3170588235294118,
          0.023181818181818147,
          0.324,
          0.8175000000000001,
          1.630434782608696
         ],
         "xaxis": "x2",
         "y": [
          0.21803571428571428,
          0.35465539188943446,
          0.4293193717277487,
          0.49977272727272726,
          0.56165,
          0.642,
          0.7585652173913043
         ],
         "yaxis": "y2"
        }
       ],
       "layout": {
        "annotations": [
         {
          "showarrow": false,
          "text": "PARAMETERS: v: 0.051, a: 0.107, θ: 0.325",
          "x": 0.01,
          "xref": "paper",
          "y": 1.12,
          "yref": "paper"
         },
         {
          "showarrow": false,
          "text": "MLE: 620.75",
          "x": 0.01,
          "xref": "paper",
          "y": 1.08,
          "yref": "paper"
         },
         {
          "font": {
           "family": "Arial, sans-serif",
           "size": 22
          },
          "showarrow": false,
          "text": "SUBJECT: 17",
          "x": 0.01,
          "xref": "paper",
          "y": 1.2,
          "yref": "paper"
         }
        ],
        "paper_bgcolor": "rgb(255,255,255)",
        "plot_bgcolor": "rgb(229,229,229)",
        "xaxis": {
         "domain": [
          0,
          0.45
         ],
         "gridcolor": "rgb(255,255,255)",
         "range": [
          -2,
          2
         ],
         "showgrid": true,
         "showline": false,
         "showticklabels": true,
         "tickcolor": "rgb(127,127,127)",
         "ticks": "outside",
         "title": "Net Value ($)",
         "zeroline": false
        },
        "xaxis2": {
         "domain": [
          0.55,
          1
         ],
         "gridcolor": "rgb(255,255,255)",
         "range": [
          -2,
          2
         ],
         "showgrid": true,
         "showline": false,
         "showticklabels": true,
         "tickcolor": "rgb(127,127,127)",
         "ticks": "outside",
         "title": "Net Value ($)",
         "zeroline": false
        },
        "yaxis1": {
         "anchor": "x1",
         "gridcolor": "rgb(255,255,255)",
         "range": [
          0
         ],
         "showgrid": true,
         "showline": false,
         "showticklabels": true,
         "tickcolor": "rgb(127,127,127)",
         "ticks": "outside",
         "title": "RT (s)",
         "zeroline": false
        },
        "yaxis2": {
         "anchor": "x2",
         "gridcolor": "rgb(255,255,255)",
         "range": [
          0
         ],
         "showgrid": true,
         "showline": false,
         "showticklabels": true,
         "tickcolor": "rgb(127,127,127)",
         "ticks": "outside",
         "title": "p (accept)",
         "zeroline": false
        }
       }
      },
      "text/html": [
       "<div id=\"1649fd8d-d79c-44c9-8fd7-970d9cfe2fa3\" style=\"height: 525px; width: 100%;\" class=\"plotly-graph-div\"></div><script type=\"text/javascript\">require([\"plotly\"], function(Plotly) { window.PLOTLYENV=window.PLOTLYENV || {};window.PLOTLYENV.BASE_URL=\"https://plot.ly\";Plotly.newPlot(\"1649fd8d-d79c-44c9-8fd7-970d9cfe2fa3\", [{\"type\": \"scatter\", \"x\": [-1.8164285714285715, -0.763181818181818, -0.3170588235294118, 0.023181818181818147, 0.324, 0.8175000000000001, 1.630434782608696], \"y\": [2.088870704373611, 2.7569758453887934, 3.795318903062519, 2.4751631152890194, 2.5676745259319445, 2.361632085216116, 1.311077429497938], \"error_y\": {\"type\": \"data\", \"array\": [0.3186301028894171, 0.33573353920319327, 0.5125059552199829, 0.2558821801821235, 0.31212419771003, 0.3220052859472622, 0.060707629484974435], \"color\": \"rgb(0,170,80)\", \"visible\": true}, \"line\": {\"color\": \"rgb(0,100,80)\"}, \"mode\": \"lines+markers\", \"name\": \"Test Data\"}, {\"type\": \"scatter\", \"x\": [-1.8164285714285715, -0.763181818181818, -0.3170588235294118, 0.023181818181818147, 0.324, 0.8175000000000001, 1.630434782608696], \"y\": [1.8170912499999925, 1.918158528823408, 1.9741275957409194, 1.9309200909090714, 1.9869199500000005, 1.9239935000000101, 1.847395652173917], \"error_y\": {\"type\": \"data\", \"array\": [0.004916038171483772, 0.006135244432242189, 0.00730793923688316, 0.006181051679470989, 0.0068625662323116565, 0.00715489286017614, 0.0055081038276068835], \"color\": \"rgb(0,100,246)\", \"visible\": true}, \"line\": {\"color\": \"rgb(0,176,246)\"}, \"mode\": \"lines+markers\", \"name\": \"Sim Data\"}, {\"type\": \"scatter\", \"x\": [-1.8164285714285715, -0.763181818181818, -0.3170588235294118, 0.023181818181818147, 0.324, 0.8175000000000001, 1.630434782608696], \"y\": [0.0, 0.045454545454545456, 0.35294117647058826, 0.6363636363636364, 0.85, 1.0, 1.0], \"error_y\": {\"type\": \"data\", \"array\": [0.0, 0.04545454545454545, 0.11947115300935236, 0.1049727762162956, 0.08191780219091252, 0.0, 0.0], \"color\": \"rgb(0,170,80)\", \"visible\": true}, \"line\": {\"color\": \"rgb(0,100,80)\"}, \"mode\": \"lines+markers\", \"name\": \"Test Data\", \"xaxis\": \"x2\", \"yaxis\": \"y2\"}, {\"type\": \"scatter\", \"x\": [-1.8164285714285715, -0.763181818181818, -0.3170588235294118, 0.023181818181818147, 0.324, 0.8175000000000001, 1.630434782608696], \"y\": [0.21803571428571428, 0.35465539188943446, 0.4293193717277487, 0.49977272727272726, 0.56165, 0.642, 0.7585652173913043], \"error_y\": {\"type\": \"data\", \"array\": [0.0024676639542217057, 0.003225797813585017, 0.00379653926163855, 0.003371075580297224, 0.0035086435276286345, 0.0037902041967406977, 0.0028219018524011166], \"color\": \"rgb(0,100,246)\", \"visible\": true}, \"line\": {\"color\": \"rgb(0,176,246)\"}, \"mode\": \"lines+markers\", \"name\": \"Sim Data\", \"xaxis\": \"x2\", \"yaxis\": \"y2\"}], {\"paper_bgcolor\": \"rgb(255,255,255)\", \"plot_bgcolor\": \"rgb(229,229,229)\", \"xaxis\": {\"gridcolor\": \"rgb(255,255,255)\", \"range\": [-2, 2], \"domain\": [0, 0.45], \"showgrid\": true, \"showline\": false, \"showticklabels\": true, \"tickcolor\": \"rgb(127,127,127)\", \"ticks\": \"outside\", \"title\": \"Net Value ($)\", \"zeroline\": false}, \"xaxis2\": {\"gridcolor\": \"rgb(255,255,255)\", \"range\": [-2, 2], \"domain\": [0.55, 1], \"showgrid\": true, \"showline\": false, \"showticklabels\": true, \"tickcolor\": \"rgb(127,127,127)\", \"ticks\": \"outside\", \"title\": \"Net Value ($)\", \"zeroline\": false}, \"yaxis1\": {\"gridcolor\": \"rgb(255,255,255)\", \"range\": [0], \"showgrid\": true, \"showline\": false, \"showticklabels\": true, \"tickcolor\": \"rgb(127,127,127)\", \"ticks\": \"outside\", \"title\": \"RT (s)\", \"anchor\": \"x1\", \"zeroline\": false}, \"yaxis2\": {\"gridcolor\": \"rgb(255,255,255)\", \"range\": [0], \"showgrid\": true, \"showline\": false, \"showticklabels\": true, \"tickcolor\": \"rgb(127,127,127)\", \"ticks\": \"outside\", \"title\": \"p (accept)\", \"anchor\": \"x2\", \"zeroline\": false}, \"annotations\": [{\"x\": 0.01, \"y\": 1.12, \"showarrow\": false, \"text\": \"PARAMETERS: v: 0.051, a: 0.107, \\u03b8: 0.325\", \"xref\": \"paper\", \"yref\": \"paper\"}, {\"x\": 0.01, \"y\": 1.08, \"showarrow\": false, \"text\": \"MLE: 620.75\", \"xref\": \"paper\", \"yref\": \"paper\"}, {\"x\": 0.01, \"y\": 1.2, \"showarrow\": false, \"text\": \"SUBJECT: 17\", \"font\": {\"family\": \"Arial, sans-serif\", \"size\": 22}, \"xref\": \"paper\", \"yref\": \"paper\"}]}, {\"showLink\": true, \"linkText\": \"Export to plot.ly\"})});</script>"
      ],
      "text/vnd.plotly.v1+html": [
       "<div id=\"1649fd8d-d79c-44c9-8fd7-970d9cfe2fa3\" style=\"height: 525px; width: 100%;\" class=\"plotly-graph-div\"></div><script type=\"text/javascript\">require([\"plotly\"], function(Plotly) { window.PLOTLYENV=window.PLOTLYENV || {};window.PLOTLYENV.BASE_URL=\"https://plot.ly\";Plotly.newPlot(\"1649fd8d-d79c-44c9-8fd7-970d9cfe2fa3\", [{\"type\": \"scatter\", \"x\": [-1.8164285714285715, -0.763181818181818, -0.3170588235294118, 0.023181818181818147, 0.324, 0.8175000000000001, 1.630434782608696], \"y\": [2.088870704373611, 2.7569758453887934, 3.795318903062519, 2.4751631152890194, 2.5676745259319445, 2.361632085216116, 1.311077429497938], \"error_y\": {\"type\": \"data\", \"array\": [0.3186301028894171, 0.33573353920319327, 0.5125059552199829, 0.2558821801821235, 0.31212419771003, 0.3220052859472622, 0.060707629484974435], \"color\": \"rgb(0,170,80)\", \"visible\": true}, \"line\": {\"color\": \"rgb(0,100,80)\"}, \"mode\": \"lines+markers\", \"name\": \"Test Data\"}, {\"type\": \"scatter\", \"x\": [-1.8164285714285715, -0.763181818181818, -0.3170588235294118, 0.023181818181818147, 0.324, 0.8175000000000001, 1.630434782608696], \"y\": [1.8170912499999925, 1.918158528823408, 1.9741275957409194, 1.9309200909090714, 1.9869199500000005, 1.9239935000000101, 1.847395652173917], \"error_y\": {\"type\": \"data\", \"array\": [0.004916038171483772, 0.006135244432242189, 0.00730793923688316, 0.006181051679470989, 0.0068625662323116565, 0.00715489286017614, 0.0055081038276068835], \"color\": \"rgb(0,100,246)\", \"visible\": true}, \"line\": {\"color\": \"rgb(0,176,246)\"}, \"mode\": \"lines+markers\", \"name\": \"Sim Data\"}, {\"type\": \"scatter\", \"x\": [-1.8164285714285715, -0.763181818181818, -0.3170588235294118, 0.023181818181818147, 0.324, 0.8175000000000001, 1.630434782608696], \"y\": [0.0, 0.045454545454545456, 0.35294117647058826, 0.6363636363636364, 0.85, 1.0, 1.0], \"error_y\": {\"type\": \"data\", \"array\": [0.0, 0.04545454545454545, 0.11947115300935236, 0.1049727762162956, 0.08191780219091252, 0.0, 0.0], \"color\": \"rgb(0,170,80)\", \"visible\": true}, \"line\": {\"color\": \"rgb(0,100,80)\"}, \"mode\": \"lines+markers\", \"name\": \"Test Data\", \"xaxis\": \"x2\", \"yaxis\": \"y2\"}, {\"type\": \"scatter\", \"x\": [-1.8164285714285715, -0.763181818181818, -0.3170588235294118, 0.023181818181818147, 0.324, 0.8175000000000001, 1.630434782608696], \"y\": [0.21803571428571428, 0.35465539188943446, 0.4293193717277487, 0.49977272727272726, 0.56165, 0.642, 0.7585652173913043], \"error_y\": {\"type\": \"data\", \"array\": [0.0024676639542217057, 0.003225797813585017, 0.00379653926163855, 0.003371075580297224, 0.0035086435276286345, 0.0037902041967406977, 0.0028219018524011166], \"color\": \"rgb(0,100,246)\", \"visible\": true}, \"line\": {\"color\": \"rgb(0,176,246)\"}, \"mode\": \"lines+markers\", \"name\": \"Sim Data\", \"xaxis\": \"x2\", \"yaxis\": \"y2\"}], {\"paper_bgcolor\": \"rgb(255,255,255)\", \"plot_bgcolor\": \"rgb(229,229,229)\", \"xaxis\": {\"gridcolor\": \"rgb(255,255,255)\", \"range\": [-2, 2], \"domain\": [0, 0.45], \"showgrid\": true, \"showline\": false, \"showticklabels\": true, \"tickcolor\": \"rgb(127,127,127)\", \"ticks\": \"outside\", \"title\": \"Net Value ($)\", \"zeroline\": false}, \"xaxis2\": {\"gridcolor\": \"rgb(255,255,255)\", \"range\": [-2, 2], \"domain\": [0.55, 1], \"showgrid\": true, \"showline\": false, \"showticklabels\": true, \"tickcolor\": \"rgb(127,127,127)\", \"ticks\": \"outside\", \"title\": \"Net Value ($)\", \"zeroline\": false}, \"yaxis1\": {\"gridcolor\": \"rgb(255,255,255)\", \"range\": [0], \"showgrid\": true, \"showline\": false, \"showticklabels\": true, \"tickcolor\": \"rgb(127,127,127)\", \"ticks\": \"outside\", \"title\": \"RT (s)\", \"anchor\": \"x1\", \"zeroline\": false}, \"yaxis2\": {\"gridcolor\": \"rgb(255,255,255)\", \"range\": [0], \"showgrid\": true, \"showline\": false, \"showticklabels\": true, \"tickcolor\": \"rgb(127,127,127)\", \"ticks\": \"outside\", \"title\": \"p (accept)\", \"anchor\": \"x2\", \"zeroline\": false}, \"annotations\": [{\"x\": 0.01, \"y\": 1.12, \"showarrow\": false, \"text\": \"PARAMETERS: v: 0.051, a: 0.107, \\u03b8: 0.325\", \"xref\": \"paper\", \"yref\": \"paper\"}, {\"x\": 0.01, \"y\": 1.08, \"showarrow\": false, \"text\": \"MLE: 620.75\", \"xref\": \"paper\", \"yref\": \"paper\"}, {\"x\": 0.01, \"y\": 1.2, \"showarrow\": false, \"text\": \"SUBJECT: 17\", \"font\": {\"family\": \"Arial, sans-serif\", \"size\": 22}, \"xref\": \"paper\", \"yref\": \"paper\"}]}, {\"showLink\": true, \"linkText\": \"Export to plot.ly\"})});</script>"
      ]
     },
     "metadata": {},
     "output_type": "display_data"
    },
    {
     "data": {
      "text/html": [
       "<script>requirejs.config({paths: { 'plotly': ['https://cdn.plot.ly/plotly-latest.min']},});if(!window.Plotly) {{require(['plotly'],function(plotly) {window.Plotly=plotly;});}}</script>"
      ],
      "text/vnd.plotly.v1+html": [
       "<script>requirejs.config({paths: { 'plotly': ['https://cdn.plot.ly/plotly-latest.min']},});if(!window.Plotly) {{require(['plotly'],function(plotly) {window.Plotly=plotly;});}}</script>"
      ]
     },
     "metadata": {},
     "output_type": "display_data"
    },
    {
     "data": {
      "application/vnd.plotly.v1+json": {
       "data": [
        {
         "error_y": {
          "array": [
           0.3680509445291431,
           0.5755129816209081,
           0.38509362436182015,
           0.4491275041257742,
           0.852034916485681,
           0.5095410975414276,
           0.7068623972539727
          ],
          "color": "rgb(0,170,80)",
          "type": "data",
          "visible": true
         },
         "line": {
          "color": "rgb(0,100,80)"
         },
         "mode": "lines+markers",
         "name": "Test Data",
         "type": "scatter",
         "x": [
          -1.772083333333333,
          -0.8838461538461537,
          -0.33421052631578957,
          0.024333333333333297,
          0.3725,
          0.8125000000000002,
          1.83
         ],
         "y": [
          4.605736603489882,
          3.8519637532299393,
          5.324609208156624,
          5.217001316884611,
          5.507023673424556,
          4.792930399005855,
          4.728539617575007
         ]
        },
        {
         "error_y": {
          "array": [
           0.01458037556888633,
           0.022930602761064067,
           0.020053750362417116,
           0.016293264153164736,
           0.031030989923564796,
           0.02051799806293193,
           0.02199996099660767
          ],
          "color": "rgb(0,100,246)",
          "type": "data",
          "visible": true
         },
         "line": {
          "color": "rgb(0,176,246)"
         },
         "mode": "lines+markers",
         "name": "Sim Data",
         "type": "scatter",
         "x": [
          -1.772083333333333,
          -0.8838461538461537,
          -0.33421052631578957,
          0.024333333333333297,
          0.3725,
          0.8125000000000002,
          1.83
         ],
         "y": [
          4.586547729005073,
          5.329942605470556,
          5.517697555232372,
          5.533311047282374,
          5.557141676310129,
          5.267444979367237,
          4.493801668806161
         ]
        },
        {
         "error_y": {
          "array": [
           0,
           0,
           0.09609167675529229,
           0.08509629433967632,
           0.1889822365046136,
           0.11180339887498951,
           0.09999999999999999
          ],
          "color": "rgb(0,170,80)",
          "type": "data",
          "visible": true
         },
         "line": {
          "color": "rgb(0,100,80)"
         },
         "mode": "lines+markers",
         "name": "Test Data",
         "type": "scatter",
         "x": [
          -1.772083333333333,
          -0.8838461538461537,
          -0.33421052631578957,
          0.024333333333333297,
          0.3725,
          0.8125000000000002,
          1.83
         ],
         "xaxis": "x2",
         "y": [
          0,
          0,
          0.21052631578947367,
          0.3,
          0.5,
          0.75,
          0.9
         ],
         "yaxis": "y2"
        },
        {
         "error_y": {
          "array": [
           0.001469801578235233,
           0.003624682001790565,
           0.003941934563678602,
           0.003320506617403556,
           0.0061243061936848975,
           0.0032846092619633342,
           0.0020244955172399786
          ],
          "color": "rgb(0,100,246)",
          "type": "data",
          "visible": true
         },
         "line": {
          "color": "rgb(0,176,246)"
         },
         "mode": "lines+markers",
         "name": "Sim Data",
         "type": "scatter",
         "x": [
          -1.772083333333333,
          -0.8838461538461537,
          -0.33421052631578957,
          0.024333333333333297,
          0.3725,
          0.8125000000000002,
          1.83
         ],
         "xaxis": "x2",
         "y": [
          0.050755503743890956,
          0.17088548910523876,
          0.33984347946533694,
          0.5223155103844455,
          0.6521739130434783,
          0.8298945437872536,
          0.9600984167736414
         ],
         "yaxis": "y2"
        }
       ],
       "layout": {
        "annotations": [
         {
          "showarrow": false,
          "text": "PARAMETERS: v: 0.051, a: 0.279, θ: 0.325",
          "x": 0.01,
          "xref": "paper",
          "y": 1.12,
          "yref": "paper"
         },
         {
          "showarrow": false,
          "text": "MLE: 545.84",
          "x": 0.01,
          "xref": "paper",
          "y": 1.08,
          "yref": "paper"
         },
         {
          "font": {
           "family": "Arial, sans-serif",
           "size": 22
          },
          "showarrow": false,
          "text": "SUBJECT: 18",
          "x": 0.01,
          "xref": "paper",
          "y": 1.2,
          "yref": "paper"
         }
        ],
        "paper_bgcolor": "rgb(255,255,255)",
        "plot_bgcolor": "rgb(229,229,229)",
        "xaxis": {
         "domain": [
          0,
          0.45
         ],
         "gridcolor": "rgb(255,255,255)",
         "range": [
          -2,
          2
         ],
         "showgrid": true,
         "showline": false,
         "showticklabels": true,
         "tickcolor": "rgb(127,127,127)",
         "ticks": "outside",
         "title": "Net Value ($)",
         "zeroline": false
        },
        "xaxis2": {
         "domain": [
          0.55,
          1
         ],
         "gridcolor": "rgb(255,255,255)",
         "range": [
          -2,
          2
         ],
         "showgrid": true,
         "showline": false,
         "showticklabels": true,
         "tickcolor": "rgb(127,127,127)",
         "ticks": "outside",
         "title": "Net Value ($)",
         "zeroline": false
        },
        "yaxis1": {
         "anchor": "x1",
         "gridcolor": "rgb(255,255,255)",
         "range": [
          0
         ],
         "showgrid": true,
         "showline": false,
         "showticklabels": true,
         "tickcolor": "rgb(127,127,127)",
         "ticks": "outside",
         "title": "RT (s)",
         "zeroline": false
        },
        "yaxis2": {
         "anchor": "x2",
         "gridcolor": "rgb(255,255,255)",
         "range": [
          0
         ],
         "showgrid": true,
         "showline": false,
         "showticklabels": true,
         "tickcolor": "rgb(127,127,127)",
         "ticks": "outside",
         "title": "p (accept)",
         "zeroline": false
        }
       }
      },
      "text/html": [
       "<div id=\"b3b34bd4-f3da-496b-bd00-ee4e6ced9e35\" style=\"height: 525px; width: 100%;\" class=\"plotly-graph-div\"></div><script type=\"text/javascript\">require([\"plotly\"], function(Plotly) { window.PLOTLYENV=window.PLOTLYENV || {};window.PLOTLYENV.BASE_URL=\"https://plot.ly\";Plotly.newPlot(\"b3b34bd4-f3da-496b-bd00-ee4e6ced9e35\", [{\"type\": \"scatter\", \"x\": [-1.772083333333333, -0.8838461538461537, -0.33421052631578957, 0.024333333333333297, 0.3725, 0.8125000000000002, 1.83], \"y\": [4.605736603489882, 3.8519637532299393, 5.324609208156624, 5.217001316884611, 5.507023673424556, 4.792930399005855, 4.728539617575007], \"error_y\": {\"type\": \"data\", \"array\": [0.3680509445291431, 0.5755129816209081, 0.38509362436182015, 0.4491275041257742, 0.852034916485681, 0.5095410975414276, 0.7068623972539727], \"color\": \"rgb(0,170,80)\", \"visible\": true}, \"line\": {\"color\": \"rgb(0,100,80)\"}, \"mode\": \"lines+markers\", \"name\": \"Test Data\"}, {\"type\": \"scatter\", \"x\": [-1.772083333333333, -0.8838461538461537, -0.33421052631578957, 0.024333333333333297, 0.3725, 0.8125000000000002, 1.83], \"y\": [4.586547729005073, 5.329942605470556, 5.517697555232372, 5.533311047282374, 5.557141676310129, 5.267444979367237, 4.493801668806161], \"error_y\": {\"type\": \"data\", \"array\": [0.01458037556888633, 0.022930602761064067, 0.020053750362417116, 0.016293264153164736, 0.031030989923564796, 0.02051799806293193, 0.02199996099660767], \"color\": \"rgb(0,100,246)\", \"visible\": true}, \"line\": {\"color\": \"rgb(0,176,246)\"}, \"mode\": \"lines+markers\", \"name\": \"Sim Data\"}, {\"type\": \"scatter\", \"x\": [-1.772083333333333, -0.8838461538461537, -0.33421052631578957, 0.024333333333333297, 0.3725, 0.8125000000000002, 1.83], \"y\": [0.0, 0.0, 0.21052631578947367, 0.3, 0.5, 0.75, 0.9], \"error_y\": {\"type\": \"data\", \"array\": [0.0, 0.0, 0.09609167675529229, 0.08509629433967632, 0.1889822365046136, 0.11180339887498951, 0.09999999999999999], \"color\": \"rgb(0,170,80)\", \"visible\": true}, \"line\": {\"color\": \"rgb(0,100,80)\"}, \"mode\": \"lines+markers\", \"name\": \"Test Data\", \"xaxis\": \"x2\", \"yaxis\": \"y2\"}, {\"type\": \"scatter\", \"x\": [-1.772083333333333, -0.8838461538461537, -0.33421052631578957, 0.024333333333333297, 0.3725, 0.8125000000000002, 1.83], \"y\": [0.050755503743890956, 0.17088548910523876, 0.33984347946533694, 0.5223155103844455, 0.6521739130434783, 0.8298945437872536, 0.9600984167736414], \"error_y\": {\"type\": \"data\", \"array\": [0.001469801578235233, 0.003624682001790565, 0.003941934563678602, 0.003320506617403556, 0.0061243061936848975, 0.0032846092619633342, 0.0020244955172399786], \"color\": \"rgb(0,100,246)\", \"visible\": true}, \"line\": {\"color\": \"rgb(0,176,246)\"}, \"mode\": \"lines+markers\", \"name\": \"Sim Data\", \"xaxis\": \"x2\", \"yaxis\": \"y2\"}], {\"paper_bgcolor\": \"rgb(255,255,255)\", \"plot_bgcolor\": \"rgb(229,229,229)\", \"xaxis\": {\"gridcolor\": \"rgb(255,255,255)\", \"range\": [-2, 2], \"domain\": [0, 0.45], \"showgrid\": true, \"showline\": false, \"showticklabels\": true, \"tickcolor\": \"rgb(127,127,127)\", \"ticks\": \"outside\", \"title\": \"Net Value ($)\", \"zeroline\": false}, \"xaxis2\": {\"gridcolor\": \"rgb(255,255,255)\", \"range\": [-2, 2], \"domain\": [0.55, 1], \"showgrid\": true, \"showline\": false, \"showticklabels\": true, \"tickcolor\": \"rgb(127,127,127)\", \"ticks\": \"outside\", \"title\": \"Net Value ($)\", \"zeroline\": false}, \"yaxis1\": {\"gridcolor\": \"rgb(255,255,255)\", \"range\": [0], \"showgrid\": true, \"showline\": false, \"showticklabels\": true, \"tickcolor\": \"rgb(127,127,127)\", \"ticks\": \"outside\", \"title\": \"RT (s)\", \"anchor\": \"x1\", \"zeroline\": false}, \"yaxis2\": {\"gridcolor\": \"rgb(255,255,255)\", \"range\": [0], \"showgrid\": true, \"showline\": false, \"showticklabels\": true, \"tickcolor\": \"rgb(127,127,127)\", \"ticks\": \"outside\", \"title\": \"p (accept)\", \"anchor\": \"x2\", \"zeroline\": false}, \"annotations\": [{\"x\": 0.01, \"y\": 1.12, \"showarrow\": false, \"text\": \"PARAMETERS: v: 0.051, a: 0.279, \\u03b8: 0.325\", \"xref\": \"paper\", \"yref\": \"paper\"}, {\"x\": 0.01, \"y\": 1.08, \"showarrow\": false, \"text\": \"MLE: 545.84\", \"xref\": \"paper\", \"yref\": \"paper\"}, {\"x\": 0.01, \"y\": 1.2, \"showarrow\": false, \"text\": \"SUBJECT: 18\", \"font\": {\"family\": \"Arial, sans-serif\", \"size\": 22}, \"xref\": \"paper\", \"yref\": \"paper\"}]}, {\"showLink\": true, \"linkText\": \"Export to plot.ly\"})});</script>"
      ],
      "text/vnd.plotly.v1+html": [
       "<div id=\"b3b34bd4-f3da-496b-bd00-ee4e6ced9e35\" style=\"height: 525px; width: 100%;\" class=\"plotly-graph-div\"></div><script type=\"text/javascript\">require([\"plotly\"], function(Plotly) { window.PLOTLYENV=window.PLOTLYENV || {};window.PLOTLYENV.BASE_URL=\"https://plot.ly\";Plotly.newPlot(\"b3b34bd4-f3da-496b-bd00-ee4e6ced9e35\", [{\"type\": \"scatter\", \"x\": [-1.772083333333333, -0.8838461538461537, -0.33421052631578957, 0.024333333333333297, 0.3725, 0.8125000000000002, 1.83], \"y\": [4.605736603489882, 3.8519637532299393, 5.324609208156624, 5.217001316884611, 5.507023673424556, 4.792930399005855, 4.728539617575007], \"error_y\": {\"type\": \"data\", \"array\": [0.3680509445291431, 0.5755129816209081, 0.38509362436182015, 0.4491275041257742, 0.852034916485681, 0.5095410975414276, 0.7068623972539727], \"color\": \"rgb(0,170,80)\", \"visible\": true}, \"line\": {\"color\": \"rgb(0,100,80)\"}, \"mode\": \"lines+markers\", \"name\": \"Test Data\"}, {\"type\": \"scatter\", \"x\": [-1.772083333333333, -0.8838461538461537, -0.33421052631578957, 0.024333333333333297, 0.3725, 0.8125000000000002, 1.83], \"y\": [4.586547729005073, 5.329942605470556, 5.517697555232372, 5.533311047282374, 5.557141676310129, 5.267444979367237, 4.493801668806161], \"error_y\": {\"type\": \"data\", \"array\": [0.01458037556888633, 0.022930602761064067, 0.020053750362417116, 0.016293264153164736, 0.031030989923564796, 0.02051799806293193, 0.02199996099660767], \"color\": \"rgb(0,100,246)\", \"visible\": true}, \"line\": {\"color\": \"rgb(0,176,246)\"}, \"mode\": \"lines+markers\", \"name\": \"Sim Data\"}, {\"type\": \"scatter\", \"x\": [-1.772083333333333, -0.8838461538461537, -0.33421052631578957, 0.024333333333333297, 0.3725, 0.8125000000000002, 1.83], \"y\": [0.0, 0.0, 0.21052631578947367, 0.3, 0.5, 0.75, 0.9], \"error_y\": {\"type\": \"data\", \"array\": [0.0, 0.0, 0.09609167675529229, 0.08509629433967632, 0.1889822365046136, 0.11180339887498951, 0.09999999999999999], \"color\": \"rgb(0,170,80)\", \"visible\": true}, \"line\": {\"color\": \"rgb(0,100,80)\"}, \"mode\": \"lines+markers\", \"name\": \"Test Data\", \"xaxis\": \"x2\", \"yaxis\": \"y2\"}, {\"type\": \"scatter\", \"x\": [-1.772083333333333, -0.8838461538461537, -0.33421052631578957, 0.024333333333333297, 0.3725, 0.8125000000000002, 1.83], \"y\": [0.050755503743890956, 0.17088548910523876, 0.33984347946533694, 0.5223155103844455, 0.6521739130434783, 0.8298945437872536, 0.9600984167736414], \"error_y\": {\"type\": \"data\", \"array\": [0.001469801578235233, 0.003624682001790565, 0.003941934563678602, 0.003320506617403556, 0.0061243061936848975, 0.0032846092619633342, 0.0020244955172399786], \"color\": \"rgb(0,100,246)\", \"visible\": true}, \"line\": {\"color\": \"rgb(0,176,246)\"}, \"mode\": \"lines+markers\", \"name\": \"Sim Data\", \"xaxis\": \"x2\", \"yaxis\": \"y2\"}], {\"paper_bgcolor\": \"rgb(255,255,255)\", \"plot_bgcolor\": \"rgb(229,229,229)\", \"xaxis\": {\"gridcolor\": \"rgb(255,255,255)\", \"range\": [-2, 2], \"domain\": [0, 0.45], \"showgrid\": true, \"showline\": false, \"showticklabels\": true, \"tickcolor\": \"rgb(127,127,127)\", \"ticks\": \"outside\", \"title\": \"Net Value ($)\", \"zeroline\": false}, \"xaxis2\": {\"gridcolor\": \"rgb(255,255,255)\", \"range\": [-2, 2], \"domain\": [0.55, 1], \"showgrid\": true, \"showline\": false, \"showticklabels\": true, \"tickcolor\": \"rgb(127,127,127)\", \"ticks\": \"outside\", \"title\": \"Net Value ($)\", \"zeroline\": false}, \"yaxis1\": {\"gridcolor\": \"rgb(255,255,255)\", \"range\": [0], \"showgrid\": true, \"showline\": false, \"showticklabels\": true, \"tickcolor\": \"rgb(127,127,127)\", \"ticks\": \"outside\", \"title\": \"RT (s)\", \"anchor\": \"x1\", \"zeroline\": false}, \"yaxis2\": {\"gridcolor\": \"rgb(255,255,255)\", \"range\": [0], \"showgrid\": true, \"showline\": false, \"showticklabels\": true, \"tickcolor\": \"rgb(127,127,127)\", \"ticks\": \"outside\", \"title\": \"p (accept)\", \"anchor\": \"x2\", \"zeroline\": false}, \"annotations\": [{\"x\": 0.01, \"y\": 1.12, \"showarrow\": false, \"text\": \"PARAMETERS: v: 0.051, a: 0.279, \\u03b8: 0.325\", \"xref\": \"paper\", \"yref\": \"paper\"}, {\"x\": 0.01, \"y\": 1.08, \"showarrow\": false, \"text\": \"MLE: 545.84\", \"xref\": \"paper\", \"yref\": \"paper\"}, {\"x\": 0.01, \"y\": 1.2, \"showarrow\": false, \"text\": \"SUBJECT: 18\", \"font\": {\"family\": \"Arial, sans-serif\", \"size\": 22}, \"xref\": \"paper\", \"yref\": \"paper\"}]}, {\"showLink\": true, \"linkText\": \"Export to plot.ly\"})});</script>"
      ]
     },
     "metadata": {},
     "output_type": "display_data"
    },
    {
     "data": {
      "text/html": [
       "<script>requirejs.config({paths: { 'plotly': ['https://cdn.plot.ly/plotly-latest.min']},});if(!window.Plotly) {{require(['plotly'],function(plotly) {window.Plotly=plotly;});}}</script>"
      ],
      "text/vnd.plotly.v1+html": [
       "<script>requirejs.config({paths: { 'plotly': ['https://cdn.plot.ly/plotly-latest.min']},});if(!window.Plotly) {{require(['plotly'],function(plotly) {window.Plotly=plotly;});}}</script>"
      ]
     },
     "metadata": {},
     "output_type": "display_data"
    },
    {
     "data": {
      "application/vnd.plotly.v1+json": {
       "data": [
        {
         "error_y": {
          "array": [
           0.36347757827473565,
           0.41969449774605894,
           0.5537102022977282,
           0.2719872546244865,
           0.41390432485629164,
           0.1770077216029409,
           0.28954639202011695
          ],
          "color": "rgb(0,170,80)",
          "type": "data",
          "visible": true
         },
         "line": {
          "color": "rgb(0,100,80)"
         },
         "mode": "lines+markers",
         "name": "Test Data",
         "type": "scatter",
         "x": [
          -1.6129629629629632,
          -0.8327777777777777,
          -0.29800000000000004,
          0.027352941176470573,
          0.28411764705882353,
          0.751304347826087,
          1.423125
         ],
         "y": [
          2.6532024520263944,
          2.8353583172073638,
          3.1601166128801794,
          2.749145881909713,
          2.4638971037005413,
          1.8037446145494678,
          2.09285406316485
         ]
        },
        {
         "error_y": {
          "array": [
           0.0053261243551364235,
           0.006782742936575375,
           0.0077646679621799705,
           0.004959599238199843,
           0.0071082632021849225,
           0.0060083383794362205,
           0.006893707868476975
          ],
          "color": "rgb(0,100,246)",
          "type": "data",
          "visible": true
         },
         "line": {
          "color": "rgb(0,176,246)"
         },
         "mode": "lines+markers",
         "name": "Sim Data",
         "type": "scatter",
         "x": [
          -1.6129629629629632,
          -0.8327777777777777,
          -0.29800000000000004,
          0.027352941176470573,
          0.28411764705882353,
          0.751304347826087,
          1.423125
         ],
         "y": [
          1.8909005555555662,
          1.9167728333333358,
          1.9652649999999998,
          1.9172942352941207,
          1.94940247058823,
          1.905807565217378,
          1.8791780625000118
         ]
        },
        {
         "error_y": {
          "array": [
           0.0513611292801138,
           0.05555555555555555,
           0.09085135251589957,
           0.07679896586280786,
           0.10604562574894086,
           0,
           0.06249999999999999
          ],
          "color": "rgb(0,170,80)",
          "type": "data",
          "visible": true
         },
         "line": {
          "color": "rgb(0,100,80)"
         },
         "mode": "lines+markers",
         "name": "Test Data",
         "type": "scatter",
         "x": [
          -1.6129629629629632,
          -0.8327777777777777,
          -0.29800000000000004,
          0.027352941176470573,
          0.28411764705882353,
          0.751304347826087,
          1.423125
         ],
         "xaxis": "x2",
         "y": [
          0.07407407407407407,
          0.05555555555555555,
          0.13333333333333333,
          0.7352941176470589,
          0.7647058823529411,
          1,
          0.9375
         ],
         "yaxis": "y2"
        },
        {
         "error_y": {
          "array": [
           0.0027317971389502387,
           0.003602801373881337,
           0.00405198827050375,
           0.0027113797090003527,
           0.0038142832998550318,
           0.003172669057605089,
           0.003655225027657347
          ],
          "color": "rgb(0,100,246)",
          "type": "data",
          "visible": true
         },
         "line": {
          "color": "rgb(0,176,246)"
         },
         "mode": "lines+markers",
         "name": "Sim Data",
         "type": "scatter",
         "x": [
          -1.6129629629629632,
          -0.8327777777777777,
          -0.29800000000000004,
          0.027352941176470573,
          0.28411764705882353,
          0.751304347826087,
          1.423125
         ],
         "xaxis": "x2",
         "y": [
          0.27974074074074073,
          0.37205555555555553,
          0.4388666666666667,
          0.5073235294117647,
          0.5518235294117647,
          0.636,
          0.690375
         ],
         "yaxis": "y2"
        }
       ],
       "layout": {
        "annotations": [
         {
          "showarrow": false,
          "text": "PARAMETERS: v: 0.051, a: 0.107, θ: 0.1",
          "x": 0.01,
          "xref": "paper",
          "y": 1.12,
          "yref": "paper"
         },
         {
          "showarrow": false,
          "text": "MLE: 812.56",
          "x": 0.01,
          "xref": "paper",
          "y": 1.08,
          "yref": "paper"
         },
         {
          "font": {
           "family": "Arial, sans-serif",
           "size": 22
          },
          "showarrow": false,
          "text": "SUBJECT: 19",
          "x": 0.01,
          "xref": "paper",
          "y": 1.2,
          "yref": "paper"
         }
        ],
        "paper_bgcolor": "rgb(255,255,255)",
        "plot_bgcolor": "rgb(229,229,229)",
        "xaxis": {
         "domain": [
          0,
          0.45
         ],
         "gridcolor": "rgb(255,255,255)",
         "range": [
          -2,
          2
         ],
         "showgrid": true,
         "showline": false,
         "showticklabels": true,
         "tickcolor": "rgb(127,127,127)",
         "ticks": "outside",
         "title": "Net Value ($)",
         "zeroline": false
        },
        "xaxis2": {
         "domain": [
          0.55,
          1
         ],
         "gridcolor": "rgb(255,255,255)",
         "range": [
          -2,
          2
         ],
         "showgrid": true,
         "showline": false,
         "showticklabels": true,
         "tickcolor": "rgb(127,127,127)",
         "ticks": "outside",
         "title": "Net Value ($)",
         "zeroline": false
        },
        "yaxis1": {
         "anchor": "x1",
         "gridcolor": "rgb(255,255,255)",
         "range": [
          0
         ],
         "showgrid": true,
         "showline": false,
         "showticklabels": true,
         "tickcolor": "rgb(127,127,127)",
         "ticks": "outside",
         "title": "RT (s)",
         "zeroline": false
        },
        "yaxis2": {
         "anchor": "x2",
         "gridcolor": "rgb(255,255,255)",
         "range": [
          0
         ],
         "showgrid": true,
         "showline": false,
         "showticklabels": true,
         "tickcolor": "rgb(127,127,127)",
         "ticks": "outside",
         "title": "p (accept)",
         "zeroline": false
        }
       }
      },
      "text/html": [
       "<div id=\"39629101-dc1f-40be-b482-631811264490\" style=\"height: 525px; width: 100%;\" class=\"plotly-graph-div\"></div><script type=\"text/javascript\">require([\"plotly\"], function(Plotly) { window.PLOTLYENV=window.PLOTLYENV || {};window.PLOTLYENV.BASE_URL=\"https://plot.ly\";Plotly.newPlot(\"39629101-dc1f-40be-b482-631811264490\", [{\"type\": \"scatter\", \"x\": [-1.6129629629629632, -0.8327777777777777, -0.29800000000000004, 0.027352941176470573, 0.28411764705882353, 0.751304347826087, 1.423125], \"y\": [2.6532024520263944, 2.8353583172073638, 3.1601166128801794, 2.749145881909713, 2.4638971037005413, 1.8037446145494678, 2.09285406316485], \"error_y\": {\"type\": \"data\", \"array\": [0.36347757827473565, 0.41969449774605894, 0.5537102022977282, 0.2719872546244865, 0.41390432485629164, 0.1770077216029409, 0.28954639202011695], \"color\": \"rgb(0,170,80)\", \"visible\": true}, \"line\": {\"color\": \"rgb(0,100,80)\"}, \"mode\": \"lines+markers\", \"name\": \"Test Data\"}, {\"type\": \"scatter\", \"x\": [-1.6129629629629632, -0.8327777777777777, -0.29800000000000004, 0.027352941176470573, 0.28411764705882353, 0.751304347826087, 1.423125], \"y\": [1.8909005555555662, 1.9167728333333358, 1.9652649999999998, 1.9172942352941207, 1.94940247058823, 1.905807565217378, 1.8791780625000118], \"error_y\": {\"type\": \"data\", \"array\": [0.0053261243551364235, 0.006782742936575375, 0.0077646679621799705, 0.004959599238199843, 0.0071082632021849225, 0.0060083383794362205, 0.006893707868476975], \"color\": \"rgb(0,100,246)\", \"visible\": true}, \"line\": {\"color\": \"rgb(0,176,246)\"}, \"mode\": \"lines+markers\", \"name\": \"Sim Data\"}, {\"type\": \"scatter\", \"x\": [-1.6129629629629632, -0.8327777777777777, -0.29800000000000004, 0.027352941176470573, 0.28411764705882353, 0.751304347826087, 1.423125], \"y\": [0.07407407407407407, 0.05555555555555555, 0.13333333333333333, 0.7352941176470589, 0.7647058823529411, 1.0, 0.9375], \"error_y\": {\"type\": \"data\", \"array\": [0.0513611292801138, 0.05555555555555555, 0.09085135251589957, 0.07679896586280786, 0.10604562574894086, 0.0, 0.06249999999999999], \"color\": \"rgb(0,170,80)\", \"visible\": true}, \"line\": {\"color\": \"rgb(0,100,80)\"}, \"mode\": \"lines+markers\", \"name\": \"Test Data\", \"xaxis\": \"x2\", \"yaxis\": \"y2\"}, {\"type\": \"scatter\", \"x\": [-1.6129629629629632, -0.8327777777777777, -0.29800000000000004, 0.027352941176470573, 0.28411764705882353, 0.751304347826087, 1.423125], \"y\": [0.27974074074074073, 0.37205555555555553, 0.4388666666666667, 0.5073235294117647, 0.5518235294117647, 0.636, 0.690375], \"error_y\": {\"type\": \"data\", \"array\": [0.0027317971389502387, 0.003602801373881337, 0.00405198827050375, 0.0027113797090003527, 0.0038142832998550318, 0.003172669057605089, 0.003655225027657347], \"color\": \"rgb(0,100,246)\", \"visible\": true}, \"line\": {\"color\": \"rgb(0,176,246)\"}, \"mode\": \"lines+markers\", \"name\": \"Sim Data\", \"xaxis\": \"x2\", \"yaxis\": \"y2\"}], {\"paper_bgcolor\": \"rgb(255,255,255)\", \"plot_bgcolor\": \"rgb(229,229,229)\", \"xaxis\": {\"gridcolor\": \"rgb(255,255,255)\", \"range\": [-2, 2], \"domain\": [0, 0.45], \"showgrid\": true, \"showline\": false, \"showticklabels\": true, \"tickcolor\": \"rgb(127,127,127)\", \"ticks\": \"outside\", \"title\": \"Net Value ($)\", \"zeroline\": false}, \"xaxis2\": {\"gridcolor\": \"rgb(255,255,255)\", \"range\": [-2, 2], \"domain\": [0.55, 1], \"showgrid\": true, \"showline\": false, \"showticklabels\": true, \"tickcolor\": \"rgb(127,127,127)\", \"ticks\": \"outside\", \"title\": \"Net Value ($)\", \"zeroline\": false}, \"yaxis1\": {\"gridcolor\": \"rgb(255,255,255)\", \"range\": [0], \"showgrid\": true, \"showline\": false, \"showticklabels\": true, \"tickcolor\": \"rgb(127,127,127)\", \"ticks\": \"outside\", \"title\": \"RT (s)\", \"anchor\": \"x1\", \"zeroline\": false}, \"yaxis2\": {\"gridcolor\": \"rgb(255,255,255)\", \"range\": [0], \"showgrid\": true, \"showline\": false, \"showticklabels\": true, \"tickcolor\": \"rgb(127,127,127)\", \"ticks\": \"outside\", \"title\": \"p (accept)\", \"anchor\": \"x2\", \"zeroline\": false}, \"annotations\": [{\"x\": 0.01, \"y\": 1.12, \"showarrow\": false, \"text\": \"PARAMETERS: v: 0.051, a: 0.107, \\u03b8: 0.1\", \"xref\": \"paper\", \"yref\": \"paper\"}, {\"x\": 0.01, \"y\": 1.08, \"showarrow\": false, \"text\": \"MLE: 812.56\", \"xref\": \"paper\", \"yref\": \"paper\"}, {\"x\": 0.01, \"y\": 1.2, \"showarrow\": false, \"text\": \"SUBJECT: 19\", \"font\": {\"family\": \"Arial, sans-serif\", \"size\": 22}, \"xref\": \"paper\", \"yref\": \"paper\"}]}, {\"showLink\": true, \"linkText\": \"Export to plot.ly\"})});</script>"
      ],
      "text/vnd.plotly.v1+html": [
       "<div id=\"39629101-dc1f-40be-b482-631811264490\" style=\"height: 525px; width: 100%;\" class=\"plotly-graph-div\"></div><script type=\"text/javascript\">require([\"plotly\"], function(Plotly) { window.PLOTLYENV=window.PLOTLYENV || {};window.PLOTLYENV.BASE_URL=\"https://plot.ly\";Plotly.newPlot(\"39629101-dc1f-40be-b482-631811264490\", [{\"type\": \"scatter\", \"x\": [-1.6129629629629632, -0.8327777777777777, -0.29800000000000004, 0.027352941176470573, 0.28411764705882353, 0.751304347826087, 1.423125], \"y\": [2.6532024520263944, 2.8353583172073638, 3.1601166128801794, 2.749145881909713, 2.4638971037005413, 1.8037446145494678, 2.09285406316485], \"error_y\": {\"type\": \"data\", \"array\": [0.36347757827473565, 0.41969449774605894, 0.5537102022977282, 0.2719872546244865, 0.41390432485629164, 0.1770077216029409, 0.28954639202011695], \"color\": \"rgb(0,170,80)\", \"visible\": true}, \"line\": {\"color\": \"rgb(0,100,80)\"}, \"mode\": \"lines+markers\", \"name\": \"Test Data\"}, {\"type\": \"scatter\", \"x\": [-1.6129629629629632, -0.8327777777777777, -0.29800000000000004, 0.027352941176470573, 0.28411764705882353, 0.751304347826087, 1.423125], \"y\": [1.8909005555555662, 1.9167728333333358, 1.9652649999999998, 1.9172942352941207, 1.94940247058823, 1.905807565217378, 1.8791780625000118], \"error_y\": {\"type\": \"data\", \"array\": [0.0053261243551364235, 0.006782742936575375, 0.0077646679621799705, 0.004959599238199843, 0.0071082632021849225, 0.0060083383794362205, 0.006893707868476975], \"color\": \"rgb(0,100,246)\", \"visible\": true}, \"line\": {\"color\": \"rgb(0,176,246)\"}, \"mode\": \"lines+markers\", \"name\": \"Sim Data\"}, {\"type\": \"scatter\", \"x\": [-1.6129629629629632, -0.8327777777777777, -0.29800000000000004, 0.027352941176470573, 0.28411764705882353, 0.751304347826087, 1.423125], \"y\": [0.07407407407407407, 0.05555555555555555, 0.13333333333333333, 0.7352941176470589, 0.7647058823529411, 1.0, 0.9375], \"error_y\": {\"type\": \"data\", \"array\": [0.0513611292801138, 0.05555555555555555, 0.09085135251589957, 0.07679896586280786, 0.10604562574894086, 0.0, 0.06249999999999999], \"color\": \"rgb(0,170,80)\", \"visible\": true}, \"line\": {\"color\": \"rgb(0,100,80)\"}, \"mode\": \"lines+markers\", \"name\": \"Test Data\", \"xaxis\": \"x2\", \"yaxis\": \"y2\"}, {\"type\": \"scatter\", \"x\": [-1.6129629629629632, -0.8327777777777777, -0.29800000000000004, 0.027352941176470573, 0.28411764705882353, 0.751304347826087, 1.423125], \"y\": [0.27974074074074073, 0.37205555555555553, 0.4388666666666667, 0.5073235294117647, 0.5518235294117647, 0.636, 0.690375], \"error_y\": {\"type\": \"data\", \"array\": [0.0027317971389502387, 0.003602801373881337, 0.00405198827050375, 0.0027113797090003527, 0.0038142832998550318, 0.003172669057605089, 0.003655225027657347], \"color\": \"rgb(0,100,246)\", \"visible\": true}, \"line\": {\"color\": \"rgb(0,176,246)\"}, \"mode\": \"lines+markers\", \"name\": \"Sim Data\", \"xaxis\": \"x2\", \"yaxis\": \"y2\"}], {\"paper_bgcolor\": \"rgb(255,255,255)\", \"plot_bgcolor\": \"rgb(229,229,229)\", \"xaxis\": {\"gridcolor\": \"rgb(255,255,255)\", \"range\": [-2, 2], \"domain\": [0, 0.45], \"showgrid\": true, \"showline\": false, \"showticklabels\": true, \"tickcolor\": \"rgb(127,127,127)\", \"ticks\": \"outside\", \"title\": \"Net Value ($)\", \"zeroline\": false}, \"xaxis2\": {\"gridcolor\": \"rgb(255,255,255)\", \"range\": [-2, 2], \"domain\": [0.55, 1], \"showgrid\": true, \"showline\": false, \"showticklabels\": true, \"tickcolor\": \"rgb(127,127,127)\", \"ticks\": \"outside\", \"title\": \"Net Value ($)\", \"zeroline\": false}, \"yaxis1\": {\"gridcolor\": \"rgb(255,255,255)\", \"range\": [0], \"showgrid\": true, \"showline\": false, \"showticklabels\": true, \"tickcolor\": \"rgb(127,127,127)\", \"ticks\": \"outside\", \"title\": \"RT (s)\", \"anchor\": \"x1\", \"zeroline\": false}, \"yaxis2\": {\"gridcolor\": \"rgb(255,255,255)\", \"range\": [0], \"showgrid\": true, \"showline\": false, \"showticklabels\": true, \"tickcolor\": \"rgb(127,127,127)\", \"ticks\": \"outside\", \"title\": \"p (accept)\", \"anchor\": \"x2\", \"zeroline\": false}, \"annotations\": [{\"x\": 0.01, \"y\": 1.12, \"showarrow\": false, \"text\": \"PARAMETERS: v: 0.051, a: 0.107, \\u03b8: 0.1\", \"xref\": \"paper\", \"yref\": \"paper\"}, {\"x\": 0.01, \"y\": 1.08, \"showarrow\": false, \"text\": \"MLE: 812.56\", \"xref\": \"paper\", \"yref\": \"paper\"}, {\"x\": 0.01, \"y\": 1.2, \"showarrow\": false, \"text\": \"SUBJECT: 19\", \"font\": {\"family\": \"Arial, sans-serif\", \"size\": 22}, \"xref\": \"paper\", \"yref\": \"paper\"}]}, {\"showLink\": true, \"linkText\": \"Export to plot.ly\"})});</script>"
      ]
     },
     "metadata": {},
     "output_type": "display_data"
    },
    {
     "data": {
      "text/html": [
       "<script>requirejs.config({paths: { 'plotly': ['https://cdn.plot.ly/plotly-latest.min']},});if(!window.Plotly) {{require(['plotly'],function(plotly) {window.Plotly=plotly;});}}</script>"
      ],
      "text/vnd.plotly.v1+html": [
       "<script>requirejs.config({paths: { 'plotly': ['https://cdn.plot.ly/plotly-latest.min']},});if(!window.Plotly) {{require(['plotly'],function(plotly) {window.Plotly=plotly;});}}</script>"
      ]
     },
     "metadata": {},
     "output_type": "display_data"
    },
    {
     "data": {
      "application/vnd.plotly.v1+json": {
       "data": [
        {
         "error_y": {
          "array": [
           0.23889616603511812,
           0.26260143411660414,
           0.27200450372357604,
           0.1516952073407089,
           0.3579844042768868,
           0.4669457882395253,
           0.13479441445887105
          ],
          "color": "rgb(0,170,80)",
          "type": "data",
          "visible": true
         },
         "line": {
          "color": "rgb(0,100,80)"
         },
         "mode": "lines+markers",
         "name": "Test Data",
         "type": "scatter",
         "x": [
          -1.6838888888888888,
          -0.7804347826086955,
          -0.29956521739130443,
          0.044074074074074036,
          0.30272727272727273,
          0.7600000000000001,
          1.7135000000000002
         ],
         "y": [
          2.228803497292878,
          2.7841644772131047,
          2.653716179795319,
          2.532181894794727,
          2.858446059481304,
          2.591218919741611,
          1.8051307235728018
         ]
        },
        {
         "error_y": {
          "array": [
           0.012561432829414174,
           0.012089848632228712,
           0.012640718342669714,
           0.011459783106936175,
           0.012979784623806627,
           0.014622258468384466,
           0.01160971222191214
          ],
          "color": "rgb(0,100,246)",
          "type": "data",
          "visible": true
         },
         "line": {
          "color": "rgb(0,176,246)"
         },
         "mode": "lines+markers",
         "name": "Sim Data",
         "type": "scatter",
         "x": [
          -1.6838888888888888,
          -0.7804347826086955,
          -0.29956521739130443,
          0.044074074074074036,
          0.30272727272727273,
          0.7600000000000001,
          1.7135000000000002
         ],
         "y": [
          3.0056451721054973,
          3.1858085377089664,
          3.3600772110641426,
          3.27826316184192,
          3.3756832941826715,
          3.2130713997308136,
          3.0138892126815096
         ]
        },
        {
         "error_y": {
          "array": [
           0.05555555555555555,
           0.04347826086956522,
           0.10568965974008647,
           0.09470524295495533,
           0.04545454545454545,
           0.06666666666666665,
           0
          ],
          "color": "rgb(0,170,80)",
          "type": "data",
          "visible": true
         },
         "line": {
          "color": "rgb(0,100,80)"
         },
         "mode": "lines+markers",
         "name": "Test Data",
         "type": "scatter",
         "x": [
          -1.6838888888888888,
          -0.7804347826086955,
          -0.29956521739130443,
          0.044074074074074036,
          0.30272727272727273,
          0.7600000000000001,
          1.7135000000000002
         ],
         "xaxis": "x2",
         "y": [
          0.05555555555555555,
          0.043478260869565216,
          0.5652173913043478,
          0.6296296296296297,
          0.9545454545454546,
          0.9333333333333333,
          1
         ],
         "yaxis": "y2"
        },
        {
         "error_y": {
          "array": [
           0.002942384797037433,
           0.0031394649311535365,
           0.0032649619531471127,
           0.0030567997662582524,
           0.003362967509103306,
           0.003972482258353848,
           0.002742546487343818
          ],
          "color": "rgb(0,100,246)",
          "type": "data",
          "visible": true
         },
         "line": {
          "color": "rgb(0,176,246)"
         },
         "mode": "lines+markers",
         "name": "Sim Data",
         "type": "scatter",
         "x": [
          -1.6838888888888888,
          -0.7804347826086955,
          -0.29956521739130443,
          0.044074074074074036,
          0.30272727272727273,
          0.7600000000000001,
          1.7135000000000002
         ],
         "xaxis": "x2",
         "y": [
          0.1916629414394278,
          0.3407625148071776,
          0.41063248766737137,
          0.5286860656967152,
          0.5668555110312745,
          0.6245625841184388,
          0.8167110485856404
         ],
         "yaxis": "y2"
        }
       ],
       "layout": {
        "annotations": [
         {
          "showarrow": false,
          "text": "PARAMETERS: v: 0.051, a: 0.164, θ: 0.1",
          "x": 0.01,
          "xref": "paper",
          "y": 1.12,
          "yref": "paper"
         },
         {
          "showarrow": false,
          "text": "MLE: 662.54",
          "x": 0.01,
          "xref": "paper",
          "y": 1.08,
          "yref": "paper"
         },
         {
          "font": {
           "family": "Arial, sans-serif",
           "size": 22
          },
          "showarrow": false,
          "text": "SUBJECT: 20",
          "x": 0.01,
          "xref": "paper",
          "y": 1.2,
          "yref": "paper"
         }
        ],
        "paper_bgcolor": "rgb(255,255,255)",
        "plot_bgcolor": "rgb(229,229,229)",
        "xaxis": {
         "domain": [
          0,
          0.45
         ],
         "gridcolor": "rgb(255,255,255)",
         "range": [
          -2,
          2
         ],
         "showgrid": true,
         "showline": false,
         "showticklabels": true,
         "tickcolor": "rgb(127,127,127)",
         "ticks": "outside",
         "title": "Net Value ($)",
         "zeroline": false
        },
        "xaxis2": {
         "domain": [
          0.55,
          1
         ],
         "gridcolor": "rgb(255,255,255)",
         "range": [
          -2,
          2
         ],
         "showgrid": true,
         "showline": false,
         "showticklabels": true,
         "tickcolor": "rgb(127,127,127)",
         "ticks": "outside",
         "title": "Net Value ($)",
         "zeroline": false
        },
        "yaxis1": {
         "anchor": "x1",
         "gridcolor": "rgb(255,255,255)",
         "range": [
          0
         ],
         "showgrid": true,
         "showline": false,
         "showticklabels": true,
         "tickcolor": "rgb(127,127,127)",
         "ticks": "outside",
         "title": "RT (s)",
         "zeroline": false
        },
        "yaxis2": {
         "anchor": "x2",
         "gridcolor": "rgb(255,255,255)",
         "range": [
          0
         ],
         "showgrid": true,
         "showline": false,
         "showticklabels": true,
         "tickcolor": "rgb(127,127,127)",
         "ticks": "outside",
         "title": "p (accept)",
         "zeroline": false
        }
       }
      },
      "text/html": [
       "<div id=\"dbadd952-147a-45f2-8db2-b65a2a02c723\" style=\"height: 525px; width: 100%;\" class=\"plotly-graph-div\"></div><script type=\"text/javascript\">require([\"plotly\"], function(Plotly) { window.PLOTLYENV=window.PLOTLYENV || {};window.PLOTLYENV.BASE_URL=\"https://plot.ly\";Plotly.newPlot(\"dbadd952-147a-45f2-8db2-b65a2a02c723\", [{\"type\": \"scatter\", \"x\": [-1.6838888888888888, -0.7804347826086955, -0.29956521739130443, 0.044074074074074036, 0.30272727272727273, 0.7600000000000001, 1.7135000000000002], \"y\": [2.228803497292878, 2.7841644772131047, 2.653716179795319, 2.532181894794727, 2.858446059481304, 2.591218919741611, 1.8051307235728018], \"error_y\": {\"type\": \"data\", \"array\": [0.23889616603511812, 0.26260143411660414, 0.27200450372357604, 0.1516952073407089, 0.3579844042768868, 0.4669457882395253, 0.13479441445887105], \"color\": \"rgb(0,170,80)\", \"visible\": true}, \"line\": {\"color\": \"rgb(0,100,80)\"}, \"mode\": \"lines+markers\", \"name\": \"Test Data\"}, {\"type\": \"scatter\", \"x\": [-1.6838888888888888, -0.7804347826086955, -0.29956521739130443, 0.044074074074074036, 0.30272727272727273, 0.7600000000000001, 1.7135000000000002], \"y\": [3.0056451721054973, 3.1858085377089664, 3.3600772110641426, 3.27826316184192, 3.3756832941826715, 3.2130713997308136, 3.0138892126815096], \"error_y\": {\"type\": \"data\", \"array\": [0.012561432829414174, 0.012089848632228712, 0.012640718342669714, 0.011459783106936175, 0.012979784623806627, 0.014622258468384466, 0.01160971222191214], \"color\": \"rgb(0,100,246)\", \"visible\": true}, \"line\": {\"color\": \"rgb(0,176,246)\"}, \"mode\": \"lines+markers\", \"name\": \"Sim Data\"}, {\"type\": \"scatter\", \"x\": [-1.6838888888888888, -0.7804347826086955, -0.29956521739130443, 0.044074074074074036, 0.30272727272727273, 0.7600000000000001, 1.7135000000000002], \"y\": [0.05555555555555555, 0.043478260869565216, 0.5652173913043478, 0.6296296296296297, 0.9545454545454546, 0.9333333333333333, 1.0], \"error_y\": {\"type\": \"data\", \"array\": [0.05555555555555555, 0.04347826086956522, 0.10568965974008647, 0.09470524295495533, 0.04545454545454545, 0.06666666666666665, 0.0], \"color\": \"rgb(0,170,80)\", \"visible\": true}, \"line\": {\"color\": \"rgb(0,100,80)\"}, \"mode\": \"lines+markers\", \"name\": \"Test Data\", \"xaxis\": \"x2\", \"yaxis\": \"y2\"}, {\"type\": \"scatter\", \"x\": [-1.6838888888888888, -0.7804347826086955, -0.29956521739130443, 0.044074074074074036, 0.30272727272727273, 0.7600000000000001, 1.7135000000000002], \"y\": [0.1916629414394278, 0.3407625148071776, 0.41063248766737137, 0.5286860656967152, 0.5668555110312745, 0.6245625841184388, 0.8167110485856404], \"error_y\": {\"type\": \"data\", \"array\": [0.002942384797037433, 0.0031394649311535365, 0.0032649619531471127, 0.0030567997662582524, 0.003362967509103306, 0.003972482258353848, 0.002742546487343818], \"color\": \"rgb(0,100,246)\", \"visible\": true}, \"line\": {\"color\": \"rgb(0,176,246)\"}, \"mode\": \"lines+markers\", \"name\": \"Sim Data\", \"xaxis\": \"x2\", \"yaxis\": \"y2\"}], {\"paper_bgcolor\": \"rgb(255,255,255)\", \"plot_bgcolor\": \"rgb(229,229,229)\", \"xaxis\": {\"gridcolor\": \"rgb(255,255,255)\", \"range\": [-2, 2], \"domain\": [0, 0.45], \"showgrid\": true, \"showline\": false, \"showticklabels\": true, \"tickcolor\": \"rgb(127,127,127)\", \"ticks\": \"outside\", \"title\": \"Net Value ($)\", \"zeroline\": false}, \"xaxis2\": {\"gridcolor\": \"rgb(255,255,255)\", \"range\": [-2, 2], \"domain\": [0.55, 1], \"showgrid\": true, \"showline\": false, \"showticklabels\": true, \"tickcolor\": \"rgb(127,127,127)\", \"ticks\": \"outside\", \"title\": \"Net Value ($)\", \"zeroline\": false}, \"yaxis1\": {\"gridcolor\": \"rgb(255,255,255)\", \"range\": [0], \"showgrid\": true, \"showline\": false, \"showticklabels\": true, \"tickcolor\": \"rgb(127,127,127)\", \"ticks\": \"outside\", \"title\": \"RT (s)\", \"anchor\": \"x1\", \"zeroline\": false}, \"yaxis2\": {\"gridcolor\": \"rgb(255,255,255)\", \"range\": [0], \"showgrid\": true, \"showline\": false, \"showticklabels\": true, \"tickcolor\": \"rgb(127,127,127)\", \"ticks\": \"outside\", \"title\": \"p (accept)\", \"anchor\": \"x2\", \"zeroline\": false}, \"annotations\": [{\"x\": 0.01, \"y\": 1.12, \"showarrow\": false, \"text\": \"PARAMETERS: v: 0.051, a: 0.164, \\u03b8: 0.1\", \"xref\": \"paper\", \"yref\": \"paper\"}, {\"x\": 0.01, \"y\": 1.08, \"showarrow\": false, \"text\": \"MLE: 662.54\", \"xref\": \"paper\", \"yref\": \"paper\"}, {\"x\": 0.01, \"y\": 1.2, \"showarrow\": false, \"text\": \"SUBJECT: 20\", \"font\": {\"family\": \"Arial, sans-serif\", \"size\": 22}, \"xref\": \"paper\", \"yref\": \"paper\"}]}, {\"showLink\": true, \"linkText\": \"Export to plot.ly\"})});</script>"
      ],
      "text/vnd.plotly.v1+html": [
       "<div id=\"dbadd952-147a-45f2-8db2-b65a2a02c723\" style=\"height: 525px; width: 100%;\" class=\"plotly-graph-div\"></div><script type=\"text/javascript\">require([\"plotly\"], function(Plotly) { window.PLOTLYENV=window.PLOTLYENV || {};window.PLOTLYENV.BASE_URL=\"https://plot.ly\";Plotly.newPlot(\"dbadd952-147a-45f2-8db2-b65a2a02c723\", [{\"type\": \"scatter\", \"x\": [-1.6838888888888888, -0.7804347826086955, -0.29956521739130443, 0.044074074074074036, 0.30272727272727273, 0.7600000000000001, 1.7135000000000002], \"y\": [2.228803497292878, 2.7841644772131047, 2.653716179795319, 2.532181894794727, 2.858446059481304, 2.591218919741611, 1.8051307235728018], \"error_y\": {\"type\": \"data\", \"array\": [0.23889616603511812, 0.26260143411660414, 0.27200450372357604, 0.1516952073407089, 0.3579844042768868, 0.4669457882395253, 0.13479441445887105], \"color\": \"rgb(0,170,80)\", \"visible\": true}, \"line\": {\"color\": \"rgb(0,100,80)\"}, \"mode\": \"lines+markers\", \"name\": \"Test Data\"}, {\"type\": \"scatter\", \"x\": [-1.6838888888888888, -0.7804347826086955, -0.29956521739130443, 0.044074074074074036, 0.30272727272727273, 0.7600000000000001, 1.7135000000000002], \"y\": [3.0056451721054973, 3.1858085377089664, 3.3600772110641426, 3.27826316184192, 3.3756832941826715, 3.2130713997308136, 3.0138892126815096], \"error_y\": {\"type\": \"data\", \"array\": [0.012561432829414174, 0.012089848632228712, 0.012640718342669714, 0.011459783106936175, 0.012979784623806627, 0.014622258468384466, 0.01160971222191214], \"color\": \"rgb(0,100,246)\", \"visible\": true}, \"line\": {\"color\": \"rgb(0,176,246)\"}, \"mode\": \"lines+markers\", \"name\": \"Sim Data\"}, {\"type\": \"scatter\", \"x\": [-1.6838888888888888, -0.7804347826086955, -0.29956521739130443, 0.044074074074074036, 0.30272727272727273, 0.7600000000000001, 1.7135000000000002], \"y\": [0.05555555555555555, 0.043478260869565216, 0.5652173913043478, 0.6296296296296297, 0.9545454545454546, 0.9333333333333333, 1.0], \"error_y\": {\"type\": \"data\", \"array\": [0.05555555555555555, 0.04347826086956522, 0.10568965974008647, 0.09470524295495533, 0.04545454545454545, 0.06666666666666665, 0.0], \"color\": \"rgb(0,170,80)\", \"visible\": true}, \"line\": {\"color\": \"rgb(0,100,80)\"}, \"mode\": \"lines+markers\", \"name\": \"Test Data\", \"xaxis\": \"x2\", \"yaxis\": \"y2\"}, {\"type\": \"scatter\", \"x\": [-1.6838888888888888, -0.7804347826086955, -0.29956521739130443, 0.044074074074074036, 0.30272727272727273, 0.7600000000000001, 1.7135000000000002], \"y\": [0.1916629414394278, 0.3407625148071776, 0.41063248766737137, 0.5286860656967152, 0.5668555110312745, 0.6245625841184388, 0.8167110485856404], \"error_y\": {\"type\": \"data\", \"array\": [0.002942384797037433, 0.0031394649311535365, 0.0032649619531471127, 0.0030567997662582524, 0.003362967509103306, 0.003972482258353848, 0.002742546487343818], \"color\": \"rgb(0,100,246)\", \"visible\": true}, \"line\": {\"color\": \"rgb(0,176,246)\"}, \"mode\": \"lines+markers\", \"name\": \"Sim Data\", \"xaxis\": \"x2\", \"yaxis\": \"y2\"}], {\"paper_bgcolor\": \"rgb(255,255,255)\", \"plot_bgcolor\": \"rgb(229,229,229)\", \"xaxis\": {\"gridcolor\": \"rgb(255,255,255)\", \"range\": [-2, 2], \"domain\": [0, 0.45], \"showgrid\": true, \"showline\": false, \"showticklabels\": true, \"tickcolor\": \"rgb(127,127,127)\", \"ticks\": \"outside\", \"title\": \"Net Value ($)\", \"zeroline\": false}, \"xaxis2\": {\"gridcolor\": \"rgb(255,255,255)\", \"range\": [-2, 2], \"domain\": [0.55, 1], \"showgrid\": true, \"showline\": false, \"showticklabels\": true, \"tickcolor\": \"rgb(127,127,127)\", \"ticks\": \"outside\", \"title\": \"Net Value ($)\", \"zeroline\": false}, \"yaxis1\": {\"gridcolor\": \"rgb(255,255,255)\", \"range\": [0], \"showgrid\": true, \"showline\": false, \"showticklabels\": true, \"tickcolor\": \"rgb(127,127,127)\", \"ticks\": \"outside\", \"title\": \"RT (s)\", \"anchor\": \"x1\", \"zeroline\": false}, \"yaxis2\": {\"gridcolor\": \"rgb(255,255,255)\", \"range\": [0], \"showgrid\": true, \"showline\": false, \"showticklabels\": true, \"tickcolor\": \"rgb(127,127,127)\", \"ticks\": \"outside\", \"title\": \"p (accept)\", \"anchor\": \"x2\", \"zeroline\": false}, \"annotations\": [{\"x\": 0.01, \"y\": 1.12, \"showarrow\": false, \"text\": \"PARAMETERS: v: 0.051, a: 0.164, \\u03b8: 0.1\", \"xref\": \"paper\", \"yref\": \"paper\"}, {\"x\": 0.01, \"y\": 1.08, \"showarrow\": false, \"text\": \"MLE: 662.54\", \"xref\": \"paper\", \"yref\": \"paper\"}, {\"x\": 0.01, \"y\": 1.2, \"showarrow\": false, \"text\": \"SUBJECT: 20\", \"font\": {\"family\": \"Arial, sans-serif\", \"size\": 22}, \"xref\": \"paper\", \"yref\": \"paper\"}]}, {\"showLink\": true, \"linkText\": \"Export to plot.ly\"})});</script>"
      ]
     },
     "metadata": {},
     "output_type": "display_data"
    },
    {
     "data": {
      "text/html": [
       "<script>requirejs.config({paths: { 'plotly': ['https://cdn.plot.ly/plotly-latest.min']},});if(!window.Plotly) {{require(['plotly'],function(plotly) {window.Plotly=plotly;});}}</script>"
      ],
      "text/vnd.plotly.v1+html": [
       "<script>requirejs.config({paths: { 'plotly': ['https://cdn.plot.ly/plotly-latest.min']},});if(!window.Plotly) {{require(['plotly'],function(plotly) {window.Plotly=plotly;});}}</script>"
      ]
     },
     "metadata": {},
     "output_type": "display_data"
    },
    {
     "data": {
      "application/vnd.plotly.v1+json": {
       "data": [
        {
         "error_y": {
          "array": [
           0.3118077256767805,
           0.4157580477162434,
           0.48536925440411977,
           0.30685050502357003,
           0.4993361362191596,
           0.4065925022607889,
           0.40756992153804006
          ],
          "color": "rgb(0,170,80)",
          "type": "data",
          "visible": true
         },
         "line": {
          "color": "rgb(0,100,80)"
         },
         "mode": "lines+markers",
         "name": "Test Data",
         "type": "scatter",
         "x": [
          -1.6585000000000005,
          -0.7378947368421054,
          -0.32650000000000007,
          0.029642857142857113,
          0.2914285714285714,
          0.796875,
          1.8939285714285716
         ],
         "y": [
          3.1716958259727117,
          2.8424107588913397,
          3.361843893039624,
          2.794557229453597,
          2.400198578547652,
          2.568326822467496,
          2.657539971324566
         ]
        },
        {
         "error_y": {
          "array": [
           0.011869993169473415,
           0.013442341872282864,
           0.013332304302489583,
           0.011316632323537341,
           0.016261976753365825,
           0.014275571179529838,
           0.009666054955119354
          ],
          "color": "rgb(0,100,246)",
          "type": "data",
          "visible": true
         },
         "line": {
          "color": "rgb(0,176,246)"
         },
         "mode": "lines+markers",
         "name": "Sim Data",
         "type": "scatter",
         "x": [
          -1.6585000000000005,
          -0.7378947368421054,
          -0.32650000000000007,
          0.029642857142857113,
          0.2914285714285714,
          0.796875,
          1.8939285714285716
         ],
         "y": [
          3.0098540285312625,
          3.2789506487981437,
          3.3458054880518513,
          3.2980764895039,
          3.3776657744339125,
          3.155164332576331,
          2.9424719552431657
         ]
        },
        {
         "error_y": {
          "array": [
           0.06882472016116851,
           0.07233518641434492,
           0.10942433098048311,
           0.09597925890831607,
           0.11380392954509881,
           0.11967838846954225,
           0.06734350297014739
          ],
          "color": "rgb(0,170,80)",
          "type": "data",
          "visible": true
         },
         "line": {
          "color": "rgb(0,100,80)"
         },
         "mode": "lines+markers",
         "name": "Test Data",
         "type": "scatter",
         "x": [
          -1.6585000000000005,
          -0.7378947368421054,
          -0.32650000000000007,
          0.029642857142857113,
          0.2914285714285714,
          0.796875,
          1.8939285714285716
         ],
         "xaxis": "x2",
         "y": [
          0.1,
          0.10526315789473684,
          0.65,
          0.5357142857142857,
          0.7857142857142857,
          0.6875,
          0.8571428571428571
         ],
         "yaxis": "y2"
        },
        {
         "error_y": {
          "array": [
           0.002745717896097248,
           0.003473414581680307,
           0.0035423134572409123,
           0.003002883866002801,
           0.004227947612694065,
           0.003685456770051942,
           0.0021947965967668145
          ],
          "color": "rgb(0,100,246)",
          "type": "data",
          "visible": true
         },
         "line": {
          "color": "rgb(0,176,246)"
         },
         "mode": "lines+markers",
         "name": "Sim Data",
         "type": "scatter",
         "x": [
          -1.6585000000000005,
          -0.7378947368421054,
          -0.32650000000000007,
          0.029642857142857113,
          0.2914285714285714,
          0.796875,
          1.8939285714285716
         ],
         "xaxis": "x2",
         "y": [
          0.18389592123769338,
          0.3478515209529887,
          0.453473066018631,
          0.5209018318459371,
          0.5540765391014975,
          0.6862856421902599,
          0.8401233682398508
         ],
         "yaxis": "y2"
        }
       ],
       "layout": {
        "annotations": [
         {
          "showarrow": false,
          "text": "PARAMETERS: v: 0.051, a: 0.164, θ: 0.1",
          "x": 0.01,
          "xref": "paper",
          "y": 1.12,
          "yref": "paper"
         },
         {
          "showarrow": false,
          "text": "MLE: 1135.7",
          "x": 0.01,
          "xref": "paper",
          "y": 1.08,
          "yref": "paper"
         },
         {
          "font": {
           "family": "Arial, sans-serif",
           "size": 22
          },
          "showarrow": false,
          "text": "SUBJECT: 21",
          "x": 0.01,
          "xref": "paper",
          "y": 1.2,
          "yref": "paper"
         }
        ],
        "paper_bgcolor": "rgb(255,255,255)",
        "plot_bgcolor": "rgb(229,229,229)",
        "xaxis": {
         "domain": [
          0,
          0.45
         ],
         "gridcolor": "rgb(255,255,255)",
         "range": [
          -2,
          2
         ],
         "showgrid": true,
         "showline": false,
         "showticklabels": true,
         "tickcolor": "rgb(127,127,127)",
         "ticks": "outside",
         "title": "Net Value ($)",
         "zeroline": false
        },
        "xaxis2": {
         "domain": [
          0.55,
          1
         ],
         "gridcolor": "rgb(255,255,255)",
         "range": [
          -2,
          2
         ],
         "showgrid": true,
         "showline": false,
         "showticklabels": true,
         "tickcolor": "rgb(127,127,127)",
         "ticks": "outside",
         "title": "Net Value ($)",
         "zeroline": false
        },
        "yaxis1": {
         "anchor": "x1",
         "gridcolor": "rgb(255,255,255)",
         "range": [
          0
         ],
         "showgrid": true,
         "showline": false,
         "showticklabels": true,
         "tickcolor": "rgb(127,127,127)",
         "ticks": "outside",
         "title": "RT (s)",
         "zeroline": false
        },
        "yaxis2": {
         "anchor": "x2",
         "gridcolor": "rgb(255,255,255)",
         "range": [
          0
         ],
         "showgrid": true,
         "showline": false,
         "showticklabels": true,
         "tickcolor": "rgb(127,127,127)",
         "ticks": "outside",
         "title": "p (accept)",
         "zeroline": false
        }
       }
      },
      "text/html": [
       "<div id=\"eca34a5e-f826-4123-b24d-94def39f0d74\" style=\"height: 525px; width: 100%;\" class=\"plotly-graph-div\"></div><script type=\"text/javascript\">require([\"plotly\"], function(Plotly) { window.PLOTLYENV=window.PLOTLYENV || {};window.PLOTLYENV.BASE_URL=\"https://plot.ly\";Plotly.newPlot(\"eca34a5e-f826-4123-b24d-94def39f0d74\", [{\"type\": \"scatter\", \"x\": [-1.6585000000000005, -0.7378947368421054, -0.32650000000000007, 0.029642857142857113, 0.2914285714285714, 0.796875, 1.8939285714285716], \"y\": [3.1716958259727117, 2.8424107588913397, 3.361843893039624, 2.794557229453597, 2.400198578547652, 2.568326822467496, 2.657539971324566], \"error_y\": {\"type\": \"data\", \"array\": [0.3118077256767805, 0.4157580477162434, 0.48536925440411977, 0.30685050502357003, 0.4993361362191596, 0.4065925022607889, 0.40756992153804006], \"color\": \"rgb(0,170,80)\", \"visible\": true}, \"line\": {\"color\": \"rgb(0,100,80)\"}, \"mode\": \"lines+markers\", \"name\": \"Test Data\"}, {\"type\": \"scatter\", \"x\": [-1.6585000000000005, -0.7378947368421054, -0.32650000000000007, 0.029642857142857113, 0.2914285714285714, 0.796875, 1.8939285714285716], \"y\": [3.0098540285312625, 3.2789506487981437, 3.3458054880518513, 3.2980764895039, 3.3776657744339125, 3.155164332576331, 2.9424719552431657], \"error_y\": {\"type\": \"data\", \"array\": [0.011869993169473415, 0.013442341872282864, 0.013332304302489583, 0.011316632323537341, 0.016261976753365825, 0.014275571179529838, 0.009666054955119354], \"color\": \"rgb(0,100,246)\", \"visible\": true}, \"line\": {\"color\": \"rgb(0,176,246)\"}, \"mode\": \"lines+markers\", \"name\": \"Sim Data\"}, {\"type\": \"scatter\", \"x\": [-1.6585000000000005, -0.7378947368421054, -0.32650000000000007, 0.029642857142857113, 0.2914285714285714, 0.796875, 1.8939285714285716], \"y\": [0.1, 0.10526315789473684, 0.65, 0.5357142857142857, 0.7857142857142857, 0.6875, 0.8571428571428571], \"error_y\": {\"type\": \"data\", \"array\": [0.06882472016116851, 0.07233518641434492, 0.10942433098048311, 0.09597925890831607, 0.11380392954509881, 0.11967838846954225, 0.06734350297014739], \"color\": \"rgb(0,170,80)\", \"visible\": true}, \"line\": {\"color\": \"rgb(0,100,80)\"}, \"mode\": \"lines+markers\", \"name\": \"Test Data\", \"xaxis\": \"x2\", \"yaxis\": \"y2\"}, {\"type\": \"scatter\", \"x\": [-1.6585000000000005, -0.7378947368421054, -0.32650000000000007, 0.029642857142857113, 0.2914285714285714, 0.796875, 1.8939285714285716], \"y\": [0.18389592123769338, 0.3478515209529887, 0.453473066018631, 0.5209018318459371, 0.5540765391014975, 0.6862856421902599, 0.8401233682398508], \"error_y\": {\"type\": \"data\", \"array\": [0.002745717896097248, 0.003473414581680307, 0.0035423134572409123, 0.003002883866002801, 0.004227947612694065, 0.003685456770051942, 0.0021947965967668145], \"color\": \"rgb(0,100,246)\", \"visible\": true}, \"line\": {\"color\": \"rgb(0,176,246)\"}, \"mode\": \"lines+markers\", \"name\": \"Sim Data\", \"xaxis\": \"x2\", \"yaxis\": \"y2\"}], {\"paper_bgcolor\": \"rgb(255,255,255)\", \"plot_bgcolor\": \"rgb(229,229,229)\", \"xaxis\": {\"gridcolor\": \"rgb(255,255,255)\", \"range\": [-2, 2], \"domain\": [0, 0.45], \"showgrid\": true, \"showline\": false, \"showticklabels\": true, \"tickcolor\": \"rgb(127,127,127)\", \"ticks\": \"outside\", \"title\": \"Net Value ($)\", \"zeroline\": false}, \"xaxis2\": {\"gridcolor\": \"rgb(255,255,255)\", \"range\": [-2, 2], \"domain\": [0.55, 1], \"showgrid\": true, \"showline\": false, \"showticklabels\": true, \"tickcolor\": \"rgb(127,127,127)\", \"ticks\": \"outside\", \"title\": \"Net Value ($)\", \"zeroline\": false}, \"yaxis1\": {\"gridcolor\": \"rgb(255,255,255)\", \"range\": [0], \"showgrid\": true, \"showline\": false, \"showticklabels\": true, \"tickcolor\": \"rgb(127,127,127)\", \"ticks\": \"outside\", \"title\": \"RT (s)\", \"anchor\": \"x1\", \"zeroline\": false}, \"yaxis2\": {\"gridcolor\": \"rgb(255,255,255)\", \"range\": [0], \"showgrid\": true, \"showline\": false, \"showticklabels\": true, \"tickcolor\": \"rgb(127,127,127)\", \"ticks\": \"outside\", \"title\": \"p (accept)\", \"anchor\": \"x2\", \"zeroline\": false}, \"annotations\": [{\"x\": 0.01, \"y\": 1.12, \"showarrow\": false, \"text\": \"PARAMETERS: v: 0.051, a: 0.164, \\u03b8: 0.1\", \"xref\": \"paper\", \"yref\": \"paper\"}, {\"x\": 0.01, \"y\": 1.08, \"showarrow\": false, \"text\": \"MLE: 1135.7\", \"xref\": \"paper\", \"yref\": \"paper\"}, {\"x\": 0.01, \"y\": 1.2, \"showarrow\": false, \"text\": \"SUBJECT: 21\", \"font\": {\"family\": \"Arial, sans-serif\", \"size\": 22}, \"xref\": \"paper\", \"yref\": \"paper\"}]}, {\"showLink\": true, \"linkText\": \"Export to plot.ly\"})});</script>"
      ],
      "text/vnd.plotly.v1+html": [
       "<div id=\"eca34a5e-f826-4123-b24d-94def39f0d74\" style=\"height: 525px; width: 100%;\" class=\"plotly-graph-div\"></div><script type=\"text/javascript\">require([\"plotly\"], function(Plotly) { window.PLOTLYENV=window.PLOTLYENV || {};window.PLOTLYENV.BASE_URL=\"https://plot.ly\";Plotly.newPlot(\"eca34a5e-f826-4123-b24d-94def39f0d74\", [{\"type\": \"scatter\", \"x\": [-1.6585000000000005, -0.7378947368421054, -0.32650000000000007, 0.029642857142857113, 0.2914285714285714, 0.796875, 1.8939285714285716], \"y\": [3.1716958259727117, 2.8424107588913397, 3.361843893039624, 2.794557229453597, 2.400198578547652, 2.568326822467496, 2.657539971324566], \"error_y\": {\"type\": \"data\", \"array\": [0.3118077256767805, 0.4157580477162434, 0.48536925440411977, 0.30685050502357003, 0.4993361362191596, 0.4065925022607889, 0.40756992153804006], \"color\": \"rgb(0,170,80)\", \"visible\": true}, \"line\": {\"color\": \"rgb(0,100,80)\"}, \"mode\": \"lines+markers\", \"name\": \"Test Data\"}, {\"type\": \"scatter\", \"x\": [-1.6585000000000005, -0.7378947368421054, -0.32650000000000007, 0.029642857142857113, 0.2914285714285714, 0.796875, 1.8939285714285716], \"y\": [3.0098540285312625, 3.2789506487981437, 3.3458054880518513, 3.2980764895039, 3.3776657744339125, 3.155164332576331, 2.9424719552431657], \"error_y\": {\"type\": \"data\", \"array\": [0.011869993169473415, 0.013442341872282864, 0.013332304302489583, 0.011316632323537341, 0.016261976753365825, 0.014275571179529838, 0.009666054955119354], \"color\": \"rgb(0,100,246)\", \"visible\": true}, \"line\": {\"color\": \"rgb(0,176,246)\"}, \"mode\": \"lines+markers\", \"name\": \"Sim Data\"}, {\"type\": \"scatter\", \"x\": [-1.6585000000000005, -0.7378947368421054, -0.32650000000000007, 0.029642857142857113, 0.2914285714285714, 0.796875, 1.8939285714285716], \"y\": [0.1, 0.10526315789473684, 0.65, 0.5357142857142857, 0.7857142857142857, 0.6875, 0.8571428571428571], \"error_y\": {\"type\": \"data\", \"array\": [0.06882472016116851, 0.07233518641434492, 0.10942433098048311, 0.09597925890831607, 0.11380392954509881, 0.11967838846954225, 0.06734350297014739], \"color\": \"rgb(0,170,80)\", \"visible\": true}, \"line\": {\"color\": \"rgb(0,100,80)\"}, \"mode\": \"lines+markers\", \"name\": \"Test Data\", \"xaxis\": \"x2\", \"yaxis\": \"y2\"}, {\"type\": \"scatter\", \"x\": [-1.6585000000000005, -0.7378947368421054, -0.32650000000000007, 0.029642857142857113, 0.2914285714285714, 0.796875, 1.8939285714285716], \"y\": [0.18389592123769338, 0.3478515209529887, 0.453473066018631, 0.5209018318459371, 0.5540765391014975, 0.6862856421902599, 0.8401233682398508], \"error_y\": {\"type\": \"data\", \"array\": [0.002745717896097248, 0.003473414581680307, 0.0035423134572409123, 0.003002883866002801, 0.004227947612694065, 0.003685456770051942, 0.0021947965967668145], \"color\": \"rgb(0,100,246)\", \"visible\": true}, \"line\": {\"color\": \"rgb(0,176,246)\"}, \"mode\": \"lines+markers\", \"name\": \"Sim Data\", \"xaxis\": \"x2\", \"yaxis\": \"y2\"}], {\"paper_bgcolor\": \"rgb(255,255,255)\", \"plot_bgcolor\": \"rgb(229,229,229)\", \"xaxis\": {\"gridcolor\": \"rgb(255,255,255)\", \"range\": [-2, 2], \"domain\": [0, 0.45], \"showgrid\": true, \"showline\": false, \"showticklabels\": true, \"tickcolor\": \"rgb(127,127,127)\", \"ticks\": \"outside\", \"title\": \"Net Value ($)\", \"zeroline\": false}, \"xaxis2\": {\"gridcolor\": \"rgb(255,255,255)\", \"range\": [-2, 2], \"domain\": [0.55, 1], \"showgrid\": true, \"showline\": false, \"showticklabels\": true, \"tickcolor\": \"rgb(127,127,127)\", \"ticks\": \"outside\", \"title\": \"Net Value ($)\", \"zeroline\": false}, \"yaxis1\": {\"gridcolor\": \"rgb(255,255,255)\", \"range\": [0], \"showgrid\": true, \"showline\": false, \"showticklabels\": true, \"tickcolor\": \"rgb(127,127,127)\", \"ticks\": \"outside\", \"title\": \"RT (s)\", \"anchor\": \"x1\", \"zeroline\": false}, \"yaxis2\": {\"gridcolor\": \"rgb(255,255,255)\", \"range\": [0], \"showgrid\": true, \"showline\": false, \"showticklabels\": true, \"tickcolor\": \"rgb(127,127,127)\", \"ticks\": \"outside\", \"title\": \"p (accept)\", \"anchor\": \"x2\", \"zeroline\": false}, \"annotations\": [{\"x\": 0.01, \"y\": 1.12, \"showarrow\": false, \"text\": \"PARAMETERS: v: 0.051, a: 0.164, \\u03b8: 0.1\", \"xref\": \"paper\", \"yref\": \"paper\"}, {\"x\": 0.01, \"y\": 1.08, \"showarrow\": false, \"text\": \"MLE: 1135.7\", \"xref\": \"paper\", \"yref\": \"paper\"}, {\"x\": 0.01, \"y\": 1.2, \"showarrow\": false, \"text\": \"SUBJECT: 21\", \"font\": {\"family\": \"Arial, sans-serif\", \"size\": 22}, \"xref\": \"paper\", \"yref\": \"paper\"}]}, {\"showLink\": true, \"linkText\": \"Export to plot.ly\"})});</script>"
      ]
     },
     "metadata": {},
     "output_type": "display_data"
    },
    {
     "data": {
      "text/html": [
       "<script>requirejs.config({paths: { 'plotly': ['https://cdn.plot.ly/plotly-latest.min']},});if(!window.Plotly) {{require(['plotly'],function(plotly) {window.Plotly=plotly;});}}</script>"
      ],
      "text/vnd.plotly.v1+html": [
       "<script>requirejs.config({paths: { 'plotly': ['https://cdn.plot.ly/plotly-latest.min']},});if(!window.Plotly) {{require(['plotly'],function(plotly) {window.Plotly=plotly;});}}</script>"
      ]
     },
     "metadata": {},
     "output_type": "display_data"
    },
    {
     "data": {
      "application/vnd.plotly.v1+json": {
       "data": [
        {
         "error_y": {
          "array": [
           0.19173348011571628,
           0.5611668883511371,
           0.3445719090842054,
           0.3016608943141484,
           0.1986324750225816,
           0.376504634637793,
           0.20831930727925804
          ],
          "color": "rgb(0,170,80)",
          "type": "data",
          "visible": true
         },
         "line": {
          "color": "rgb(0,100,80)"
         },
         "mode": "lines+markers",
         "name": "Test Data",
         "type": "scatter",
         "x": [
          -1.6217391304347828,
          -0.765,
          -0.32772727272727276,
          0.036399999999999946,
          0.30249999999999994,
          0.7152941176470591,
          1.5676
         ],
         "y": [
          2.216818046609304,
          3.108484979552616,
          3.016053792057474,
          3.3867811144399464,
          2.9161136444114777,
          2.415822366468252,
          2.1334348148759457
         ]
        },
        {
         "error_y": {
          "array": [
           0.01082284527251988,
           0.015587388319832767,
           0.012967687660157873,
           0.011685688893218174,
           0.012315063568151782,
           0.013830314931974352,
           0.010650314671358109
          ],
          "color": "rgb(0,100,246)",
          "type": "data",
          "visible": true
         },
         "line": {
          "color": "rgb(0,176,246)"
         },
         "mode": "lines+markers",
         "name": "Sim Data",
         "type": "scatter",
         "x": [
          -1.6217391304347828,
          -0.765,
          -0.32772727272727276,
          0.036399999999999946,
          0.30249999999999994,
          0.7152941176470591,
          1.5676
         ],
         "y": [
          2.987280906743683,
          3.1970510491023254,
          3.3645804671693793,
          3.2036847782176725,
          3.3396333066115234,
          3.1591458271458324,
          3.020523003977975
         ]
        },
        {
         "error_y": {
          "array": [
           0,
           0.09705231721239391,
           0.09144861547306322,
           0.09165151389911681,
           0.09477598811252413,
           0,
           0.04
          ],
          "color": "rgb(0,170,80)",
          "type": "data",
          "visible": true
         },
         "line": {
          "color": "rgb(0,100,80)"
         },
         "mode": "lines+markers",
         "name": "Test Data",
         "type": "scatter",
         "x": [
          -1.6217391304347828,
          -0.765,
          -0.32772727272727276,
          0.036399999999999946,
          0.30249999999999994,
          0.7152941176470591,
          1.5676
         ],
         "xaxis": "x2",
         "y": [
          0,
          0.14285714285714285,
          0.22727272727272727,
          0.72,
          0.7083333333333334,
          1,
          0.96
         ],
         "yaxis": "y2"
        },
        {
         "error_y": {
          "array": [
           0.0025577843762613715,
           0.003988493910250558,
           0.003359299682101418,
           0.003173549108256671,
           0.0032203260017019766,
           0.0035892243945110976,
           0.0025032612450796186
          ],
          "color": "rgb(0,100,246)",
          "type": "data",
          "visible": true
         },
         "line": {
          "color": "rgb(0,176,246)"
         },
         "mode": "lines+markers",
         "name": "Sim Data",
         "type": "scatter",
         "x": [
          -1.6217391304347828,
          -0.765,
          -0.32772727272727276,
          0.036399999999999946,
          0.30249999999999994,
          0.7152941176470591,
          1.5676
         ],
         "xaxis": "x2",
         "y": [
          0.1829679226292066,
          0.32857451871079385,
          0.4322696339893323,
          0.47349923244728126,
          0.5649550651871229,
          0.682031482031482,
          0.8066862217221843
         ],
         "yaxis": "y2"
        }
       ],
       "layout": {
        "annotations": [
         {
          "showarrow": false,
          "text": "PARAMETERS: v: 0.051, a: 0.164, θ: 0.1",
          "x": 0.01,
          "xref": "paper",
          "y": 1.12,
          "yref": "paper"
         },
         {
          "showarrow": false,
          "text": "MLE: 643.18",
          "x": 0.01,
          "xref": "paper",
          "y": 1.08,
          "yref": "paper"
         },
         {
          "font": {
           "family": "Arial, sans-serif",
           "size": 22
          },
          "showarrow": false,
          "text": "SUBJECT: 22",
          "x": 0.01,
          "xref": "paper",
          "y": 1.2,
          "yref": "paper"
         }
        ],
        "paper_bgcolor": "rgb(255,255,255)",
        "plot_bgcolor": "rgb(229,229,229)",
        "xaxis": {
         "domain": [
          0,
          0.45
         ],
         "gridcolor": "rgb(255,255,255)",
         "range": [
          -2,
          2
         ],
         "showgrid": true,
         "showline": false,
         "showticklabels": true,
         "tickcolor": "rgb(127,127,127)",
         "ticks": "outside",
         "title": "Net Value ($)",
         "zeroline": false
        },
        "xaxis2": {
         "domain": [
          0.55,
          1
         ],
         "gridcolor": "rgb(255,255,255)",
         "range": [
          -2,
          2
         ],
         "showgrid": true,
         "showline": false,
         "showticklabels": true,
         "tickcolor": "rgb(127,127,127)",
         "ticks": "outside",
         "title": "Net Value ($)",
         "zeroline": false
        },
        "yaxis1": {
         "anchor": "x1",
         "gridcolor": "rgb(255,255,255)",
         "range": [
          0
         ],
         "showgrid": true,
         "showline": false,
         "showticklabels": true,
         "tickcolor": "rgb(127,127,127)",
         "ticks": "outside",
         "title": "RT (s)",
         "zeroline": false
        },
        "yaxis2": {
         "anchor": "x2",
         "gridcolor": "rgb(255,255,255)",
         "range": [
          0
         ],
         "showgrid": true,
         "showline": false,
         "showticklabels": true,
         "tickcolor": "rgb(127,127,127)",
         "ticks": "outside",
         "title": "p (accept)",
         "zeroline": false
        }
       }
      },
      "text/html": [
       "<div id=\"629cadae-12e8-4809-bce3-3b7188d87df0\" style=\"height: 525px; width: 100%;\" class=\"plotly-graph-div\"></div><script type=\"text/javascript\">require([\"plotly\"], function(Plotly) { window.PLOTLYENV=window.PLOTLYENV || {};window.PLOTLYENV.BASE_URL=\"https://plot.ly\";Plotly.newPlot(\"629cadae-12e8-4809-bce3-3b7188d87df0\", [{\"type\": \"scatter\", \"x\": [-1.6217391304347828, -0.765, -0.32772727272727276, 0.036399999999999946, 0.30249999999999994, 0.7152941176470591, 1.5676], \"y\": [2.216818046609304, 3.108484979552616, 3.016053792057474, 3.3867811144399464, 2.9161136444114777, 2.415822366468252, 2.1334348148759457], \"error_y\": {\"type\": \"data\", \"array\": [0.19173348011571628, 0.5611668883511371, 0.3445719090842054, 0.3016608943141484, 0.1986324750225816, 0.376504634637793, 0.20831930727925804], \"color\": \"rgb(0,170,80)\", \"visible\": true}, \"line\": {\"color\": \"rgb(0,100,80)\"}, \"mode\": \"lines+markers\", \"name\": \"Test Data\"}, {\"type\": \"scatter\", \"x\": [-1.6217391304347828, -0.765, -0.32772727272727276, 0.036399999999999946, 0.30249999999999994, 0.7152941176470591, 1.5676], \"y\": [2.987280906743683, 3.1970510491023254, 3.3645804671693793, 3.2036847782176725, 3.3396333066115234, 3.1591458271458324, 3.020523003977975], \"error_y\": {\"type\": \"data\", \"array\": [0.01082284527251988, 0.015587388319832767, 0.012967687660157873, 0.011685688893218174, 0.012315063568151782, 0.013830314931974352, 0.010650314671358109], \"color\": \"rgb(0,100,246)\", \"visible\": true}, \"line\": {\"color\": \"rgb(0,176,246)\"}, \"mode\": \"lines+markers\", \"name\": \"Sim Data\"}, {\"type\": \"scatter\", \"x\": [-1.6217391304347828, -0.765, -0.32772727272727276, 0.036399999999999946, 0.30249999999999994, 0.7152941176470591, 1.5676], \"y\": [0.0, 0.14285714285714285, 0.22727272727272727, 0.72, 0.7083333333333334, 1.0, 0.96], \"error_y\": {\"type\": \"data\", \"array\": [0.0, 0.09705231721239391, 0.09144861547306322, 0.09165151389911681, 0.09477598811252413, 0.0, 0.04], \"color\": \"rgb(0,170,80)\", \"visible\": true}, \"line\": {\"color\": \"rgb(0,100,80)\"}, \"mode\": \"lines+markers\", \"name\": \"Test Data\", \"xaxis\": \"x2\", \"yaxis\": \"y2\"}, {\"type\": \"scatter\", \"x\": [-1.6217391304347828, -0.765, -0.32772727272727276, 0.036399999999999946, 0.30249999999999994, 0.7152941176470591, 1.5676], \"y\": [0.1829679226292066, 0.32857451871079385, 0.4322696339893323, 0.47349923244728126, 0.5649550651871229, 0.682031482031482, 0.8066862217221843], \"error_y\": {\"type\": \"data\", \"array\": [0.0025577843762613715, 0.003988493910250558, 0.003359299682101418, 0.003173549108256671, 0.0032203260017019766, 0.0035892243945110976, 0.0025032612450796186], \"color\": \"rgb(0,100,246)\", \"visible\": true}, \"line\": {\"color\": \"rgb(0,176,246)\"}, \"mode\": \"lines+markers\", \"name\": \"Sim Data\", \"xaxis\": \"x2\", \"yaxis\": \"y2\"}], {\"paper_bgcolor\": \"rgb(255,255,255)\", \"plot_bgcolor\": \"rgb(229,229,229)\", \"xaxis\": {\"gridcolor\": \"rgb(255,255,255)\", \"range\": [-2, 2], \"domain\": [0, 0.45], \"showgrid\": true, \"showline\": false, \"showticklabels\": true, \"tickcolor\": \"rgb(127,127,127)\", \"ticks\": \"outside\", \"title\": \"Net Value ($)\", \"zeroline\": false}, \"xaxis2\": {\"gridcolor\": \"rgb(255,255,255)\", \"range\": [-2, 2], \"domain\": [0.55, 1], \"showgrid\": true, \"showline\": false, \"showticklabels\": true, \"tickcolor\": \"rgb(127,127,127)\", \"ticks\": \"outside\", \"title\": \"Net Value ($)\", \"zeroline\": false}, \"yaxis1\": {\"gridcolor\": \"rgb(255,255,255)\", \"range\": [0], \"showgrid\": true, \"showline\": false, \"showticklabels\": true, \"tickcolor\": \"rgb(127,127,127)\", \"ticks\": \"outside\", \"title\": \"RT (s)\", \"anchor\": \"x1\", \"zeroline\": false}, \"yaxis2\": {\"gridcolor\": \"rgb(255,255,255)\", \"range\": [0], \"showgrid\": true, \"showline\": false, \"showticklabels\": true, \"tickcolor\": \"rgb(127,127,127)\", \"ticks\": \"outside\", \"title\": \"p (accept)\", \"anchor\": \"x2\", \"zeroline\": false}, \"annotations\": [{\"x\": 0.01, \"y\": 1.12, \"showarrow\": false, \"text\": \"PARAMETERS: v: 0.051, a: 0.164, \\u03b8: 0.1\", \"xref\": \"paper\", \"yref\": \"paper\"}, {\"x\": 0.01, \"y\": 1.08, \"showarrow\": false, \"text\": \"MLE: 643.18\", \"xref\": \"paper\", \"yref\": \"paper\"}, {\"x\": 0.01, \"y\": 1.2, \"showarrow\": false, \"text\": \"SUBJECT: 22\", \"font\": {\"family\": \"Arial, sans-serif\", \"size\": 22}, \"xref\": \"paper\", \"yref\": \"paper\"}]}, {\"showLink\": true, \"linkText\": \"Export to plot.ly\"})});</script>"
      ],
      "text/vnd.plotly.v1+html": [
       "<div id=\"629cadae-12e8-4809-bce3-3b7188d87df0\" style=\"height: 525px; width: 100%;\" class=\"plotly-graph-div\"></div><script type=\"text/javascript\">require([\"plotly\"], function(Plotly) { window.PLOTLYENV=window.PLOTLYENV || {};window.PLOTLYENV.BASE_URL=\"https://plot.ly\";Plotly.newPlot(\"629cadae-12e8-4809-bce3-3b7188d87df0\", [{\"type\": \"scatter\", \"x\": [-1.6217391304347828, -0.765, -0.32772727272727276, 0.036399999999999946, 0.30249999999999994, 0.7152941176470591, 1.5676], \"y\": [2.216818046609304, 3.108484979552616, 3.016053792057474, 3.3867811144399464, 2.9161136444114777, 2.415822366468252, 2.1334348148759457], \"error_y\": {\"type\": \"data\", \"array\": [0.19173348011571628, 0.5611668883511371, 0.3445719090842054, 0.3016608943141484, 0.1986324750225816, 0.376504634637793, 0.20831930727925804], \"color\": \"rgb(0,170,80)\", \"visible\": true}, \"line\": {\"color\": \"rgb(0,100,80)\"}, \"mode\": \"lines+markers\", \"name\": \"Test Data\"}, {\"type\": \"scatter\", \"x\": [-1.6217391304347828, -0.765, -0.32772727272727276, 0.036399999999999946, 0.30249999999999994, 0.7152941176470591, 1.5676], \"y\": [2.987280906743683, 3.1970510491023254, 3.3645804671693793, 3.2036847782176725, 3.3396333066115234, 3.1591458271458324, 3.020523003977975], \"error_y\": {\"type\": \"data\", \"array\": [0.01082284527251988, 0.015587388319832767, 0.012967687660157873, 0.011685688893218174, 0.012315063568151782, 0.013830314931974352, 0.010650314671358109], \"color\": \"rgb(0,100,246)\", \"visible\": true}, \"line\": {\"color\": \"rgb(0,176,246)\"}, \"mode\": \"lines+markers\", \"name\": \"Sim Data\"}, {\"type\": \"scatter\", \"x\": [-1.6217391304347828, -0.765, -0.32772727272727276, 0.036399999999999946, 0.30249999999999994, 0.7152941176470591, 1.5676], \"y\": [0.0, 0.14285714285714285, 0.22727272727272727, 0.72, 0.7083333333333334, 1.0, 0.96], \"error_y\": {\"type\": \"data\", \"array\": [0.0, 0.09705231721239391, 0.09144861547306322, 0.09165151389911681, 0.09477598811252413, 0.0, 0.04], \"color\": \"rgb(0,170,80)\", \"visible\": true}, \"line\": {\"color\": \"rgb(0,100,80)\"}, \"mode\": \"lines+markers\", \"name\": \"Test Data\", \"xaxis\": \"x2\", \"yaxis\": \"y2\"}, {\"type\": \"scatter\", \"x\": [-1.6217391304347828, -0.765, -0.32772727272727276, 0.036399999999999946, 0.30249999999999994, 0.7152941176470591, 1.5676], \"y\": [0.1829679226292066, 0.32857451871079385, 0.4322696339893323, 0.47349923244728126, 0.5649550651871229, 0.682031482031482, 0.8066862217221843], \"error_y\": {\"type\": \"data\", \"array\": [0.0025577843762613715, 0.003988493910250558, 0.003359299682101418, 0.003173549108256671, 0.0032203260017019766, 0.0035892243945110976, 0.0025032612450796186], \"color\": \"rgb(0,100,246)\", \"visible\": true}, \"line\": {\"color\": \"rgb(0,176,246)\"}, \"mode\": \"lines+markers\", \"name\": \"Sim Data\", \"xaxis\": \"x2\", \"yaxis\": \"y2\"}], {\"paper_bgcolor\": \"rgb(255,255,255)\", \"plot_bgcolor\": \"rgb(229,229,229)\", \"xaxis\": {\"gridcolor\": \"rgb(255,255,255)\", \"range\": [-2, 2], \"domain\": [0, 0.45], \"showgrid\": true, \"showline\": false, \"showticklabels\": true, \"tickcolor\": \"rgb(127,127,127)\", \"ticks\": \"outside\", \"title\": \"Net Value ($)\", \"zeroline\": false}, \"xaxis2\": {\"gridcolor\": \"rgb(255,255,255)\", \"range\": [-2, 2], \"domain\": [0.55, 1], \"showgrid\": true, \"showline\": false, \"showticklabels\": true, \"tickcolor\": \"rgb(127,127,127)\", \"ticks\": \"outside\", \"title\": \"Net Value ($)\", \"zeroline\": false}, \"yaxis1\": {\"gridcolor\": \"rgb(255,255,255)\", \"range\": [0], \"showgrid\": true, \"showline\": false, \"showticklabels\": true, \"tickcolor\": \"rgb(127,127,127)\", \"ticks\": \"outside\", \"title\": \"RT (s)\", \"anchor\": \"x1\", \"zeroline\": false}, \"yaxis2\": {\"gridcolor\": \"rgb(255,255,255)\", \"range\": [0], \"showgrid\": true, \"showline\": false, \"showticklabels\": true, \"tickcolor\": \"rgb(127,127,127)\", \"ticks\": \"outside\", \"title\": \"p (accept)\", \"anchor\": \"x2\", \"zeroline\": false}, \"annotations\": [{\"x\": 0.01, \"y\": 1.12, \"showarrow\": false, \"text\": \"PARAMETERS: v: 0.051, a: 0.164, \\u03b8: 0.1\", \"xref\": \"paper\", \"yref\": \"paper\"}, {\"x\": 0.01, \"y\": 1.08, \"showarrow\": false, \"text\": \"MLE: 643.18\", \"xref\": \"paper\", \"yref\": \"paper\"}, {\"x\": 0.01, \"y\": 1.2, \"showarrow\": false, \"text\": \"SUBJECT: 22\", \"font\": {\"family\": \"Arial, sans-serif\", \"size\": 22}, \"xref\": \"paper\", \"yref\": \"paper\"}]}, {\"showLink\": true, \"linkText\": \"Export to plot.ly\"})});</script>"
      ]
     },
     "metadata": {},
     "output_type": "display_data"
    }
   ],
   "source": [
    "for i in range(23):\n",
    "    plotly_combined(i)"
   ]
  },
  {
   "cell_type": "code",
   "execution_count": null,
   "metadata": {
    "collapsed": true
   },
   "outputs": [],
   "source": []
  }
 ],
 "metadata": {
  "anaconda-cloud": {},
  "kernelspec": {
   "display_name": "Python [conda env:python3]",
   "language": "python",
   "name": "conda-env-python3-py"
  },
  "language_info": {
   "codemirror_mode": {
    "name": "ipython",
    "version": 3
   },
   "file_extension": ".py",
   "mimetype": "text/x-python",
   "name": "python",
   "nbconvert_exporter": "python",
   "pygments_lexer": "ipython3",
   "version": "3.6.1"
  },
  "toc": {
   "nav_menu": {},
   "number_sections": true,
   "sideBar": true,
   "skip_h1_title": false,
   "title_cell": "Table of Contents",
   "title_sidebar": "Contents",
   "toc_cell": true,
   "toc_position": {},
   "toc_section_display": true,
   "toc_window_display": true
  }
 },
 "nbformat": 4,
 "nbformat_minor": 2
}
