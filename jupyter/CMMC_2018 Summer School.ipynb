{
 "cells": [
  {
   "cell_type": "markdown",
   "metadata": {
    "toc": true
   },
   "source": [
    "<h1>Table of Contents<span class=\"tocSkip\"></span></h1>\n",
    "<div class=\"toc\"><ul class=\"toc-item\"><li><span><a href=\"#Functions-and-Classes\" data-toc-modified-id=\"Functions-and-Classes-1\"><span class=\"toc-item-num\">1&nbsp;&nbsp;</span>Functions and Classes</a></span><ul class=\"toc-item\"><li><span><a href=\"#Return-Object\" data-toc-modified-id=\"Return-Object-1.1\"><span class=\"toc-item-num\">1.1&nbsp;&nbsp;</span>Return Object</a></span></li><li><span><a href=\"#Function:-Create-Fixation-Distributions\" data-toc-modified-id=\"Function:-Create-Fixation-Distributions-1.2\"><span class=\"toc-item-num\">1.2&nbsp;&nbsp;</span>Function: Create Fixation Distributions</a></span></li><li><span><a href=\"#Function:-Random-Walk\" data-toc-modified-id=\"Function:-Random-Walk-1.3\"><span class=\"toc-item-num\">1.3&nbsp;&nbsp;</span>Function: Random Walk</a></span></li><li><span><a href=\"#Function:-Plot\" data-toc-modified-id=\"Function:-Plot-1.4\"><span class=\"toc-item-num\">1.4&nbsp;&nbsp;</span>Function: Plot</a></span></li></ul></li><li><span><a href=\"#Test\" data-toc-modified-id=\"Test-2\"><span class=\"toc-item-num\">2&nbsp;&nbsp;</span>Test</a></span></li></ul></div>"
   ]
  },
  {
   "cell_type": "markdown",
   "metadata": {},
   "source": [
    "**IMPORT LIBRARIES**"
   ]
  },
  {
   "cell_type": "code",
   "execution_count": 3,
   "metadata": {
    "collapsed": true
   },
   "outputs": [],
   "source": [
    "import pandas as pd\n",
    "import numpy as np\n",
    "import matplotlib.pyplot as plt"
   ]
  },
  {
   "cell_type": "markdown",
   "metadata": {},
   "source": [
    "**IMPORT STUDY DATA**"
   ]
  },
  {
   "cell_type": "code",
   "execution_count": 4,
   "metadata": {
    "collapsed": true
   },
   "outputs": [],
   "source": [
    "# Trial Data\n",
    "expdata = \"data/made_v2/expdata.csv\"\n",
    "\n",
    "# Fixation Data\n",
    "fixations = \"data/made_v2/fixations.csv\""
   ]
  },
  {
   "cell_type": "markdown",
   "metadata": {},
   "source": [
    "# Functions and Classes"
   ]
  },
  {
   "cell_type": "markdown",
   "metadata": {},
   "source": [
    "## Return Object"
   ]
  },
  {
   "cell_type": "code",
   "execution_count": 5,
   "metadata": {
    "collapsed": true
   },
   "outputs": [],
   "source": [
    "class ReturnValue(object):\n",
    "    def __init__(self, latencies, responses, evidence, num_sims):\n",
    "        self.latencies = latencies\n",
    "        self.responses = responses\n",
    "        self.evidence = evidence\n",
    "        self.num_sims = num_sims"
   ]
  },
  {
   "cell_type": "markdown",
   "metadata": {},
   "source": [
    "## Function: Create Fixation Distributions"
   ]
  },
  {
   "cell_type": "code",
   "execution_count": 6,
   "metadata": {},
   "outputs": [
    {
     "name": "stderr",
     "output_type": "stream",
     "text": [
      "/Users/djw/anaconda/envs/python3/lib/python3.6/site-packages/ipykernel/__main__.py:1: FutureWarning: from_csv is deprecated. Please use read_csv(...) instead. Note that some of the default arguments are different, so please refer to the documentation for from_csv when changing your function calls\n",
      "  if __name__ == '__main__':\n"
     ]
    }
   ],
   "source": [
    "df = pd.DataFrame.from_csv(fixations, header=0, sep=\",\", index_col=None)"
   ]
  },
  {
   "cell_type": "code",
   "execution_count": 7,
   "metadata": {
    "collapsed": true
   },
   "outputs": [],
   "source": [
    "# first create distributions of first/mid fixations\n",
    "first_fix_dist = df['fix_time'][df['fix_num']==1]\n",
    "mid_fix_dist = df['fix_time'][(df['fix_num']>1) & (df['rev_fix_num']>1)]"
   ]
  },
  {
   "cell_type": "code",
   "execution_count": 12,
   "metadata": {
    "collapsed": true
   },
   "outputs": [],
   "source": [
    "min_time = 0\n",
    "num_sims = 1000"
   ]
  },
  {
   "cell_type": "code",
   "execution_count": 13,
   "metadata": {},
   "outputs": [],
   "source": [
    "while min_time < 10000:   # 10,000 = maxRT\n",
    "    # create column of first fixations\n",
    "    dwell_array = np.reshape(((np.random.choice(first_fix_dist, num_sims, replace=True))), (num_sims,1))\n",
    "\n",
    "    # create additional columns from middle fixation distribution\n",
    "    for column in range(20):\n",
    "        append_mid_fix_array = np.reshape(((np.random.choice(mid_fix_dist, num_sims, replace=True))), (num_sims,1))\n",
    "        dwell_array = np.append(dwell_array, append_mid_fix_array, axis=1)\n",
    "\n",
    "    # make each column the sum of itself and the previous column\n",
    "    for column in range(1, np.shape(dwell_array)[1]):\n",
    "        dwell_array[:,column] = dwell_array[:,column] + dwell_array[:,(column-1)] \n",
    "\n",
    "    min_time = min(dwell_array[:,20])"
   ]
  },
  {
   "cell_type": "code",
   "execution_count": 29,
   "metadata": {},
   "outputs": [
    {
     "data": {
      "text/plain": [
       "1784.3327257141927"
      ]
     },
     "execution_count": 29,
     "metadata": {},
     "output_type": "execute_result"
    }
   ],
   "source": [
    "dwell_array[0,2]"
   ]
  },
  {
   "cell_type": "code",
   "execution_count": 17,
   "metadata": {
    "scrolled": true
   },
   "outputs": [
    {
     "data": {
      "text/plain": [
       "1000"
      ]
     },
     "execution_count": 17,
     "metadata": {},
     "output_type": "execute_result"
    }
   ],
   "source": [
    "start0_array[:,i] = [variance * np.random.randn(dwell_array[:,i]) + drift for x in S if drift_index % 2 == 0\n",
    "    \n",
    "value = 123\n",
    "print(value, 'is', 'even' if value % 2 == 0 else 'odd')]"
   ]
  },
  {
   "cell_type": "code",
   "execution_count": 22,
   "metadata": {
    "collapsed": true
   },
   "outputs": [],
   "source": [
    "time_samples = 10000"
   ]
  },
  {
   "cell_type": "code",
   "execution_count": 26,
   "metadata": {
    "collapsed": true
   },
   "outputs": [],
   "source": [
    "n = np.zeros((num_sims, time_samples))"
   ]
  },
  {
   "cell_type": "code",
   "execution_count": 27,
   "metadata": {},
   "outputs": [
    {
     "name": "stdout",
     "output_type": "stream",
     "text": [
      "80000000 bytes\n"
     ]
    }
   ],
   "source": [
    "print(\"%d bytes\" % (n.size * n.itemsize))"
   ]
  },
  {
   "cell_type": "markdown",
   "metadata": {},
   "source": [
    "## Function: Random Walk"
   ]
  },
  {
   "cell_type": "code",
   "execution_count": 13,
   "metadata": {
    "collapsed": true
   },
   "outputs": [],
   "source": [
    "def random_walk_model(num_sims, num_samples, drift, noise, criterion, start_var=0, drift_var=0, start_bias=0):\n",
    "    \n",
    "    latencies = np.zeros(num_sims, dtype=int)\n",
    "    responses = np.zeros(num_sims)\n",
    "    evidence = np.zeros((num_sims, num_samples+1))\n",
    "    \n",
    "    for i in range(num_sims):\n",
    "        # set starting point\n",
    "        evidence[i,0] = start_var * np.random.randn(1) + start_bias\n",
    "        \n",
    "        # add variability to drift\n",
    "        sim_drift = drift_var * np.random.randn(1) + drift\n",
    "        \n",
    "        # add noise to get momentary values\n",
    "        evidence[i,1:] = noise * (np.sqrt(precision)) * np.random.randn(num_samples) + sim_drift * precision\n",
    "        \n",
    "        # accumulation of evidence (based on summation of momentary values)\n",
    "        evidence[i,:] = np.cumsum(evidence[i,:])\n",
    "        \n",
    "        # check where the sim crossed the criterion (boundary)\n",
    "        p = (np.abs(evidence[i,:]) > criterion).argmax()\n",
    "        responses[i] = np.sign(evidence[i,p])\n",
    "        latencies[i] = p\n",
    "    \n",
    "    return ReturnValue(latencies, responses, evidence, num_sims)"
   ]
  },
  {
   "cell_type": "markdown",
   "metadata": {},
   "source": [
    "## Function: Plot"
   ]
  },
  {
   "cell_type": "code",
   "execution_count": 14,
   "metadata": {
    "collapsed": true
   },
   "outputs": [],
   "source": [
    "def plot_hists(model):\n",
    "    # Set size of figure\n",
    "    plt.figure(figsize=(12,12))   \n",
    "\n",
    "    plt.subplot(2,1,1)\n",
    "    top_rt = model.latencies[model.responses>0]\n",
    "    top_prop = len(top_rt)/float(model.num_sims)\n",
    "    plt.hist(top_rt, bins=20)\n",
    "\n",
    "    # Labeling etc.\n",
    "    plt.xlabel('Decision Time', fontsize = 16)\n",
    "    plt.ylabel('Frequency', fontsize = 16)\n",
    "    plt.title('Top Responses (' + str(top_prop) + ') m='+ str(np.round(np.mean(top_rt),decimals=2)), fontsize = 18)\n",
    "\n",
    "    plt.subplot(2,1,2)\n",
    "    bottom_rt = model.latencies[model.responses<0]\n",
    "    bottom_prop = len(bottom_rt)/float(model.num_sims)\n",
    "    plt.hist(bottom_rt, bins=20)\n",
    "\n",
    "    # Labeling etc.\n",
    "    plt.xlabel('Decision Time', fontsize = 16)\n",
    "    plt.ylabel('Frequency', fontsize = 16)\n",
    "    plt.title('Bottom Responses (' + str(bottom_prop) + ') m='+ str(np.round(np.mean(bottom_rt),decimals=2)), fontsize = 18)\n",
    "\n",
    "    plt.show()"
   ]
  },
  {
   "cell_type": "markdown",
   "metadata": {},
   "source": [
    "# Test"
   ]
  },
  {
   "cell_type": "code",
   "execution_count": 19,
   "metadata": {},
   "outputs": [
    {
     "data": {
      "image/png": "[encoded data removed]",
      "text/plain": [
       "<matplotlib.figure.Figure at 0x108ae5ac8>"
      ]
     },
     "metadata": {},
     "output_type": "display_data"
    }
   ],
   "source": [
    "model = random_walk_model(num_sims=10000,\n",
    "                          num_samples=2000,\n",
    "                          drift= 0.05,\n",
    "                          noise=0.1,\n",
    "                          criterion=1,\n",
    "                          start_var=0.0,\n",
    "                          drift_var=0.0,\n",
    "                          start_bias=0.)\n",
    "\n",
    "plot_hists(model)"
   ]
  },
  {
   "cell_type": "code",
   "execution_count": null,
   "metadata": {
    "collapsed": true
   },
   "outputs": [],
   "source": []
  }
 ],
 "metadata": {
  "kernelspec": {
   "display_name": "Python [conda env:python3]",
   "language": "python",
   "name": "conda-env-python3-py"
  },
  "language_info": {
   "codemirror_mode": {
    "name": "ipython",
    "version": 3
   },
   "file_extension": ".py",
   "mimetype": "text/x-python",
   "name": "python",
   "nbconvert_exporter": "python",
   "pygments_lexer": "ipython3",
   "version": "3.6.1"
  },
  "toc": {
   "nav_menu": {},
   "number_sections": true,
   "sideBar": true,
   "skip_h1_title": false,
   "title_cell": "Table of Contents",
   "title_sidebar": "Contents",
   "toc_cell": true,
   "toc_position": {},
   "toc_section_display": true,
   "toc_window_display": true
  }
 },
 "nbformat": 4,
 "nbformat_minor": 2
}
