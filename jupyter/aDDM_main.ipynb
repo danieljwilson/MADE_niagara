{
 "cells": [
  {
   "cell_type": "markdown",
   "metadata": {
    "toc": "true"
   },
   "source": [
    "# Table of Contents\n",
    " <p><div class=\"lev1 toc-item\"><a href=\"#IMPORTS\" data-toc-modified-id=\"IMPORTS-1\"><span class=\"toc-item-num\">1&nbsp;&nbsp;</span>IMPORTS</a></div><div class=\"lev2 toc-item\"><a href=\"#Standard\" data-toc-modified-id=\"Standard-11\"><span class=\"toc-item-num\">1.1&nbsp;&nbsp;</span>Standard</a></div><div class=\"lev2 toc-item\"><a href=\"#Custom\" data-toc-modified-id=\"Custom-12\"><span class=\"toc-item-num\">1.2&nbsp;&nbsp;</span>Custom</a></div><div class=\"lev3 toc-item\"><a href=\"#Reload\" data-toc-modified-id=\"Reload-121\"><span class=\"toc-item-num\">1.2.1&nbsp;&nbsp;</span>Reload</a></div><div class=\"lev1 toc-item\"><a href=\"#SETUP\" data-toc-modified-id=\"SETUP-2\"><span class=\"toc-item-num\">2&nbsp;&nbsp;</span>SETUP</a></div><div class=\"lev2 toc-item\"><a href=\"#Data-Files\" data-toc-modified-id=\"Data-Files-21\"><span class=\"toc-item-num\">2.1&nbsp;&nbsp;</span>Data Files</a></div><div class=\"lev2 toc-item\"><a href=\"#Values\" data-toc-modified-id=\"Values-22\"><span class=\"toc-item-num\">2.2&nbsp;&nbsp;</span>Values</a></div><div class=\"lev3 toc-item\"><a href=\"#DDM\" data-toc-modified-id=\"DDM-221\"><span class=\"toc-item-num\">2.2.1&nbsp;&nbsp;</span>DDM</a></div><div class=\"lev3 toc-item\"><a href=\"#aDDM\" data-toc-modified-id=\"aDDM-222\"><span class=\"toc-item-num\">2.2.2&nbsp;&nbsp;</span>aDDM</a></div><div class=\"lev2 toc-item\"><a href=\"#Parameters\" data-toc-modified-id=\"Parameters-23\"><span class=\"toc-item-num\">2.3&nbsp;&nbsp;</span>Parameters</a></div><div class=\"lev2 toc-item\"><a href=\"#Variables\" data-toc-modified-id=\"Variables-24\"><span class=\"toc-item-num\">2.4&nbsp;&nbsp;</span>Variables</a></div><div class=\"lev1 toc-item\"><a href=\"#RUN\" data-toc-modified-id=\"RUN-3\"><span class=\"toc-item-num\">3&nbsp;&nbsp;</span>RUN</a></div><div class=\"lev1 toc-item\"><a href=\"#FIT\" data-toc-modified-id=\"FIT-4\"><span class=\"toc-item-num\">4&nbsp;&nbsp;</span>FIT</a></div><div class=\"lev2 toc-item\"><a href=\"#Create-Choice-Distributions\" data-toc-modified-id=\"Create-Choice-Distributions-41\"><span class=\"toc-item-num\">4.1&nbsp;&nbsp;</span>Create Choice Distributions</a></div><div class=\"lev2 toc-item\"><a href=\"#Parameter-Recovery\" data-toc-modified-id=\"Parameter-Recovery-42\"><span class=\"toc-item-num\">4.2&nbsp;&nbsp;</span>Parameter Recovery</a></div><div class=\"lev3 toc-item\"><a href=\"#Simulate-Participants\" data-toc-modified-id=\"Simulate-Participants-421\"><span class=\"toc-item-num\">4.2.1&nbsp;&nbsp;</span>Simulate Participants</a></div><div class=\"lev3 toc-item\"><a href=\"#Import-RT-Distribution-and-Simulated-Subjects\" data-toc-modified-id=\"Import-RT-Distribution-and-Simulated-Subjects-422\"><span class=\"toc-item-num\">4.2.2&nbsp;&nbsp;</span>Import RT Distribution and Simulated Subjects</a></div><div class=\"lev3 toc-item\"><a href=\"#Calculate-Fit-(MLE)\" data-toc-modified-id=\"Calculate-Fit-(MLE)-423\"><span class=\"toc-item-num\">4.2.3&nbsp;&nbsp;</span>Calculate Fit (MLE)</a></div><div class=\"lev2 toc-item\"><a href=\"#Fit-Group\" data-toc-modified-id=\"Fit-Group-43\"><span class=\"toc-item-num\">4.3&nbsp;&nbsp;</span>Fit Group</a></div><div class=\"lev2 toc-item\"><a href=\"#Test-Fit\" data-toc-modified-id=\"Test-Fit-44\"><span class=\"toc-item-num\">4.4&nbsp;&nbsp;</span>Test Fit</a></div><div class=\"lev3 toc-item\"><a href=\"#CONVERT-TO-SHELVE\" data-toc-modified-id=\"CONVERT-TO-SHELVE-441\"><span class=\"toc-item-num\">4.4.1&nbsp;&nbsp;</span>CONVERT TO SHELVE</a></div><div class=\"lev3 toc-item\"><a href=\"#OLD-FIT-TECHNIQUE\" data-toc-modified-id=\"OLD-FIT-TECHNIQUE-442\"><span class=\"toc-item-num\">4.4.2&nbsp;&nbsp;</span>OLD FIT TECHNIQUE</a></div><div class=\"lev1 toc-item\"><a href=\"#PLOT\" data-toc-modified-id=\"PLOT-5\"><span class=\"toc-item-num\">5&nbsp;&nbsp;</span>PLOT</a></div>"
   ]
  },
  {
   "cell_type": "markdown",
   "metadata": {},
   "source": [
    "# IMPORTS"
   ]
  },
  {
   "cell_type": "markdown",
   "metadata": {},
   "source": [
    "## Standard"
   ]
  },
  {
   "cell_type": "code",
   "execution_count": 1,
   "metadata": {
    "ExecuteTime": {
     "end_time": "2017-11-27T18:39:00.834669Z",
     "start_time": "2017-11-27T18:38:59.052879Z"
    }
   },
   "outputs": [
    {
     "name": "stdout",
     "output_type": "stream",
     "text": [
      "3.6.1 |Anaconda custom (64-bit)| (default, May 11 2017, 13:04:09) \n",
      "[GCC 4.2.1 Compatible Apple LLVM 6.0 (clang-600.0.57)]\n"
     ]
    }
   ],
   "source": [
    "import numpy as np\n",
    "import pandas as pd\n",
    "import math\n",
    "import matplotlib.pyplot as plt\n",
    "import seaborn as sns\n",
    "import glob\n",
    "import os                                 # for os independent functions\n",
    "import seaborn as sns                     # for kernal density estimation\n",
    "import datetime as dt                     # for naming files\n",
    "from scipy.special import expit           # for logistic function\n",
    "from scipy.stats import binned_statistic  # for binning RT vals\n",
    "from scipy import stats\n",
    "import sys\n",
    "from typing import List                   # for writing function defs\n",
    "import importlib                          # in order to reload edited modules\n",
    "import itertools                          # for creating values list (for aDDM of all stimuli value combos)\n",
    "import time\n",
    "import shelve\n",
    "import pickle\n",
    "from tqdm import tqdm                     # for keeping track of progress\n",
    "import pdb                                # for debugging use: pdb.set_trace()\n",
    "import copy                               # to do deep copies\n",
    "\n",
    "# display matplotlib graphs \n",
    "%matplotlib inline   \n",
    "# %precision %.8f check on this...\n",
    "\n",
    "print(sys.version)"
   ]
  },
  {
   "cell_type": "markdown",
   "metadata": {},
   "source": [
    "## Custom"
   ]
  },
  {
   "cell_type": "code",
   "execution_count": 2,
   "metadata": {
    "collapsed": true
   },
   "outputs": [],
   "source": [
    "# Add path where custom modules are saved\n",
    "sys.path.append('/Users/djw/Dropbox/PROGRAMMING/_NEURO/2017_MADE/aDDM_DJW/functions')\n",
    "import utils_addm                         # for importing custom module"
   ]
  },
  {
   "cell_type": "markdown",
   "metadata": {},
   "source": [
    "### Reload\n",
    "---\n",
    "For refreshing the custom module without restarting the kernel"
   ]
  },
  {
   "cell_type": "code",
   "execution_count": 3,
   "metadata": {},
   "outputs": [
    {
     "data": {
      "text/plain": [
       "<module 'utils_addm' from '/Users/djw/Dropbox/PROGRAMMING/_NEURO/2017_MADE/aDDM_DJW/functions/utils_addm.py'>"
      ]
     },
     "execution_count": 3,
     "metadata": {},
     "output_type": "execute_result"
    }
   ],
   "source": [
    "# for reloading edited modules\n",
    "importlib.reload(utils_addm)"
   ]
  },
  {
   "cell_type": "markdown",
   "metadata": {},
   "source": [
    "# SETUP"
   ]
  },
  {
   "cell_type": "markdown",
   "metadata": {},
   "source": [
    "## Data Files\n",
    "---\n",
    "Point to where your data is saved"
   ]
  },
  {
   "cell_type": "code",
   "execution_count": null,
   "metadata": {
    "collapsed": true
   },
   "outputs": [],
   "source": [
    "expdata_file_name = \"data/made_v2/expdata.csv\"\n",
    "fixations_file_name = \"data/made_v2/fixations.csv\""
   ]
  },
  {
   "cell_type": "markdown",
   "metadata": {},
   "source": [
    "**How many simulations for each VALUE?**"
   ]
  },
  {
   "cell_type": "code",
   "execution_count": null,
   "metadata": {
    "collapsed": true
   },
   "outputs": [],
   "source": [
    "# 1000 is okay but more is better\n",
    "sims_per_val = 1000"
   ]
  },
  {
   "cell_type": "markdown",
   "metadata": {},
   "source": [
    "## Values\n",
    "----\n",
    "List of experiment **values**"
   ]
  },
  {
   "cell_type": "markdown",
   "metadata": {},
   "source": [
    "### aDDM"
   ]
  },
  {
   "cell_type": "code",
   "execution_count": null,
   "metadata": {
    "collapsed": true
   },
   "outputs": [],
   "source": [
    "# Get left and right values from data\n",
    "values_array_addm = utils_addm.values_for_simulation_addm(expdata_file_name, sims_per_val)"
   ]
  },
  {
   "cell_type": "markdown",
   "metadata": {},
   "source": [
    "## Parameters\n",
    "----\n",
    "Define parameter **search space**\n",
    "\n",
    "---\n",
    "*Note that* ```parameter_values()``` *will save a copy of all parameter values to* `/outputs`"
   ]
  },
  {
   "cell_type": "code",
   "execution_count": null,
   "metadata": {
    "collapsed": true
   },
   "outputs": [],
   "source": [
    "# SCALING VALUE FOR DRIFT\n",
    "drift_weight = np.linspace(0.01,0.3, 8)\n",
    "\n",
    "# BOUNDARY VALUE\n",
    "upper_boundary = np.linspace(0.05,0.45, 8)\n",
    "\n",
    "# THETA VALUE\n",
    "theta = np.linspace(0.1,1,5)"
   ]
  },
  {
   "cell_type": "code",
   "execution_count": null,
   "metadata": {
    "collapsed": true
   },
   "outputs": [],
   "source": [
    "parameter_combos = utils_addm.parameter_values(drift_weight, upper_boundary, theta)"
   ]
  },
  {
   "cell_type": "markdown",
   "metadata": {},
   "source": [
    "----\n",
    "Calculate **total number of simulations**"
   ]
  },
  {
   "cell_type": "code",
   "execution_count": null,
   "metadata": {
    "collapsed": true
   },
   "outputs": [],
   "source": [
    "utils_addm.total_sim_count(parameter_combos, values_array_addm)"
   ]
  },
  {
   "cell_type": "markdown",
   "metadata": {},
   "source": [
    "## Variables\n",
    "---\n",
    "**Set** variable values "
   ]
  },
  {
   "cell_type": "code",
   "execution_count": null,
   "metadata": {
    "collapsed": true
   },
   "outputs": [],
   "source": [
    "startVar = 0\n",
    "nonDec = 0.8        # change to add time based on each fixation\n",
    "                    # calculate based on difference between exp 1 & 2 RTS.\n",
    "nonDecVar = 0\n",
    "driftVar = 0\n",
    "maxRT = 10\n",
    "precision = 0.001   # ms precision\n",
    "s = 0.1             # scaling factor (Ratcliff) (check if variance or SD)\n",
    "num_sims = len(values_array_addm)"
   ]
  },
  {
   "cell_type": "markdown",
   "metadata": {},
   "source": [
    "---\n",
    "**Create** array with *first* and *mid* fixations (pulled from subject data)"
   ]
  },
  {
   "cell_type": "code",
   "execution_count": null,
   "metadata": {
    "collapsed": true
   },
   "outputs": [],
   "source": [
    "# array with first and middle fixation distributions\n",
    "dwell_array = utils_addm.create_dwell_array(num_sims, fixations_file_name) "
   ]
  },
  {
   "cell_type": "markdown",
   "metadata": {},
   "source": [
    "# RUN"
   ]
  },
  {
   "cell_type": "code",
   "execution_count": null,
   "metadata": {
    "collapsed": true
   },
   "outputs": [],
   "source": [
    "init_time=time.time()\n",
    "\n",
    "for x in tqdm(range(len(parameter_combos))):\n",
    "    loop_num = x\n",
    "\n",
    "    dfOut = utils_addm.simul_addm(parameter_combos, values_array_addm, dwell_array, num_sims, loop_num, init_time,\n",
    "                     startVar, nonDec, nonDecVar, driftVar, maxRT, precision, s)\n",
    "\n",
    "    utils_addm.save_sim_combo_csv(dfOut, loop_num) \n",
    "# is it better practice to save to Shelve?"
   ]
  },
  {
   "cell_type": "markdown",
   "metadata": {},
   "source": [
    "# FIT"
   ]
  },
  {
   "cell_type": "markdown",
   "metadata": {
    "heading_collapsed": true
   },
   "source": [
    "## Create Choice Distributions"
   ]
  },
  {
   "cell_type": "markdown",
   "metadata": {
    "hidden": true
   },
   "source": [
    "**Define Paths**\n",
    "- Input path (location of CSV simulation files)\n",
    "- Output path (where pickled file will be saved)"
   ]
  },
  {
   "cell_type": "code",
   "execution_count": null,
   "metadata": {
    "collapsed": true,
    "hidden": true
   },
   "outputs": [],
   "source": [
    "path_to_csv = \"/Users/djw/Dropbox/PROGRAMMING/_NEURO/2017_MADE/aDDM_DJW/outputs/2017-11-16/\" \n",
    "path_to_save = path_to_csv + \"/pickle/\"     "
   ]
  },
  {
   "cell_type": "markdown",
   "metadata": {
    "hidden": true
   },
   "source": [
    "**Combine All Simulations**\n",
    "- Creates a single file out of all the individual CSV files\n",
    "- Saves to a pickle file"
   ]
  },
  {
   "cell_type": "code",
   "execution_count": 275,
   "metadata": {
    "ExecuteTime": {
     "end_time": "2017-11-20T18:41:59.133615Z",
     "start_time": "2017-11-20T18:40:43.821732Z"
    },
    "hidden": true
   },
   "outputs": [
    {
     "name": "stderr",
     "output_type": "stream",
     "text": [
      "100%|██████████| 320/320 [00:58<00:00,  5.49it/s]\n"
     ]
    }
   ],
   "source": [
    "utils_addm.combine_sims(path_to_csv, path_to_save)"
   ]
  },
  {
   "cell_type": "markdown",
   "metadata": {
    "hidden": true
   },
   "source": [
    "**Create RT/Choice Distributions**\n",
    "- Use simulations to create binned rt/choice distributions for all parameter combinations \n",
    "- Saves distribtions to pickle file"
   ]
  },
  {
   "cell_type": "code",
   "execution_count": 90,
   "metadata": {
    "ExecuteTime": {
     "end_time": "2017-11-20T22:21:22.731493Z",
     "start_time": "2017-11-20T22:19:39.982195Z"
    },
    "hidden": true
   },
   "outputs": [
    {
     "name": "stderr",
     "output_type": "stream",
     "text": [
      "100%|██████████| 320/320 [01:38<00:00,  3.26it/s]\n"
     ]
    }
   ],
   "source": [
    "utils_addm.rtDistFunc(nonDec, values_array_addm, path_to_save)\n",
    "# nonDec: from Variables, indicates where the first bin will begin\n",
    "# values_array_addm: from Values, indicates all of the value combinations for which sims were run"
   ]
  },
  {
   "cell_type": "markdown",
   "metadata": {},
   "source": [
    "## Parameter Recovery Test"
   ]
  },
  {
   "cell_type": "markdown",
   "metadata": {},
   "source": [
    "- Simulate participants: run a total of 300(ish) trials for each with a given set of parameters (similar number of trials to behavioral experiment)\n",
    "- Sample each value combo 4X (=320 trials)\n",
    "- Simulate these values w/addm sim"
   ]
  },
  {
   "cell_type": "markdown",
   "metadata": {},
   "source": [
    "### Simulate Subjects"
   ]
  },
  {
   "cell_type": "markdown",
   "metadata": {},
   "source": [
    "**Create values array**"
   ]
  },
  {
   "cell_type": "code",
   "execution_count": 16,
   "metadata": {
    "ExecuteTime": {
     "end_time": "2017-11-27T03:25:54.445650Z",
     "start_time": "2017-11-27T03:25:54.425793Z"
    },
    "collapsed": true
   },
   "outputs": [
    {
     "name": "stdout",
     "output_type": "stream",
     "text": [
      "You will run 4 simulations for each of 81 value combinations for a total of 324 simulations.\n"
     ]
    },
    {
     "name": "stderr",
     "output_type": "stream",
     "text": [
      "/Users/djw/Dropbox/PROGRAMMING/_NEURO/2017_MADE/aDDM_DJW/functions/utils_addm.py:69: FutureWarning: from_csv is deprecated. Please use read_csv(...) instead. Note that some of the default arguments are different, so please refer to the documentation for from_csv when changing your function calls\n",
      "  df = pd.DataFrame.from_csv(expdata_file_name, header=0, sep=\",\", index_col=None)\n"
     ]
    }
   ],
   "source": [
    "# Create 4 of each value\n",
    "sims_per_val = 4\n",
    "values_array_addm_sim_subj = utils_addm.values_for_simulation_addm(expdata_file_name, sims_per_val)\n",
    "num_sims = len(values_array_addm_sim_subj)"
   ]
  },
  {
   "cell_type": "markdown",
   "metadata": {},
   "source": [
    "**Create dwell array**"
   ]
  },
  {
   "cell_type": "code",
   "execution_count": 17,
   "metadata": {
    "ExecuteTime": {
     "end_time": "2017-11-27T03:25:55.278175Z",
     "start_time": "2017-11-27T03:25:55.246994Z"
    },
    "collapsed": true
   },
   "outputs": [
    {
     "name": "stderr",
     "output_type": "stream",
     "text": [
      "/Users/djw/Dropbox/PROGRAMMING/_NEURO/2017_MADE/aDDM_DJW/functions/utils_addm.py:210: FutureWarning: from_csv is deprecated. Please use read_csv(...) instead. Note that some of the default arguments are different, so please refer to the documentation for from_csv when changing your function calls\n",
      "  df = pd.DataFrame.from_csv(fixations_file_name, header=0, sep=\",\", index_col=None)\n"
     ]
    }
   ],
   "source": [
    "# Matching Dwell Array (based on 4 sims per value)\n",
    "# array with first and middle fixation distributions\n",
    "dwell_array = utils_addm.create_dwell_array(num_sims, fixations_file_name) "
   ]
  },
  {
   "cell_type": "markdown",
   "metadata": {},
   "source": [
    "**Create simulations**"
   ]
  },
  {
   "cell_type": "code",
   "execution_count": null,
   "metadata": {
    "collapsed": true
   },
   "outputs": [],
   "source": [
    "for x in tqdm(range(len(parameter_combos))):\n",
    "    loop_num = x\n",
    "\n",
    "    dfOut = utils_addm.simul_addm(parameter_combos, values_array_addm_sim_subj, dwell_array, num_sims, loop_num,\n",
    "                     startVar, nonDec, nonDecVar, driftVar, maxRT, respOptions, precision, s)\n",
    "\n",
    "    # Save to CSV and/or Shelve\n",
    "    utils_addm.save_sim_subjects_csv(dfOut, loop_num) "
   ]
  },
  {
   "cell_type": "markdown",
   "metadata": {},
   "source": [
    "**Combine subject simulations into single dict**"
   ]
  },
  {
   "cell_type": "code",
   "execution_count": 101,
   "metadata": {
    "ExecuteTime": {
     "end_time": "2017-11-20T15:41:16.131166Z",
     "start_time": "2017-11-20T15:41:16.127723Z"
    },
    "collapsed": true
   },
   "outputs": [],
   "source": [
    "path_to_csv = \"/Users/djw/Dropbox/PROGRAMMING/_NEURO/2017_MADE/aDDM_DJW/outputs/2017-11-26/sim_subj/\" \n",
    "path_to_save = path_to_csv + \"/pickle/\""
   ]
  },
  {
   "cell_type": "code",
   "execution_count": 102,
   "metadata": {
    "ExecuteTime": {
     "end_time": "2017-11-20T15:41:18.156115Z",
     "start_time": "2017-11-20T15:41:16.989386Z"
    }
   },
   "outputs": [
    {
     "name": "stderr",
     "output_type": "stream",
     "text": [
      "100%|██████████| 320/320 [00:01<00:00, 308.91it/s]\n"
     ]
    }
   ],
   "source": [
    "utils_addm.combine_sims(path_to_csv, path_to_save)"
   ]
  },
  {
   "cell_type": "markdown",
   "metadata": {
    "heading_collapsed": true
   },
   "source": [
    "### Import RT Distribution and Simulated Subjects"
   ]
  },
  {
   "cell_type": "markdown",
   "metadata": {
    "hidden": true
   },
   "source": [
    "**Import RT Distributions**\n",
    "\n",
    "Careful with `path_to_file`. Make sure pointing to correct directory."
   ]
  },
  {
   "cell_type": "code",
   "execution_count": 38,
   "metadata": {
    "ExecuteTime": {
     "end_time": "2017-11-27T18:40:52.247425Z",
     "start_time": "2017-11-27T18:40:52.244062Z"
    },
    "collapsed": true,
    "hidden": true
   },
   "outputs": [],
   "source": [
    "path_to_file = \"/Users/djw/Dropbox/PROGRAMMING/_NEURO/2017_MADE/aDDM_DJW/outputs/2017-11-16/pickle/rt_dist.pickle\"\n",
    "\n",
    "rt_dist = utils_addm.pickle_read(path_to_file)"
   ]
  },
  {
   "cell_type": "markdown",
   "metadata": {
    "hidden": true
   },
   "source": [
    "**Import Simulated Subjects**"
   ]
  },
  {
   "cell_type": "code",
   "execution_count": 11,
   "metadata": {
    "ExecuteTime": {
     "end_time": "2017-11-27T18:45:48.635310Z",
     "start_time": "2017-11-27T18:45:48.632198Z"
    },
    "collapsed": true,
    "hidden": true
   },
   "outputs": [],
   "source": [
    "path_to_file = \"/Users/djw/Dropbox/PROGRAMMING/_NEURO/2017_MADE/aDDM_DJW/outputs/2017-11-20/sim_subj/pickle/sims_dict.pickle\"\n",
    "\n",
    "sim_subjects = utils_addm.pickle_read(path_to_file)"
   ]
  },
  {
   "cell_type": "markdown",
   "metadata": {},
   "source": [
    "### Calculate Fit (MLE)"
   ]
  },
  {
   "cell_type": "code",
   "execution_count": 10,
   "metadata": {
    "ExecuteTime": {
     "end_time": "2017-11-27T18:49:52.704726Z",
     "start_time": "2017-11-27T18:49:52.701398Z"
    },
    "collapsed": true
   },
   "outputs": [],
   "source": [
    "path_to_save = \"/Users/djw/Dropbox/PROGRAMMING/_NEURO/2017_MADE/aDDM_DJW/outputs/2017-11-26/sim_subject/\""
   ]
  },
  {
   "cell_type": "code",
   "execution_count": 35,
   "metadata": {
    "ExecuteTime": {
     "end_time": "2017-11-27T19:00:18.906462Z",
     "start_time": "2017-11-27T19:00:18.816798Z"
    }
   },
   "outputs": [
    {
     "name": "stderr",
     "output_type": "stream",
     "text": [
      "100%|██████████| 320/320 [48:58<00:00,  9.18s/it]\n"
     ]
    },
    {
     "name": "stdout",
     "output_type": "stream",
     "text": [
      "Saved to /Users/djw/Dropbox/PROGRAMMING/_NEURO/2017_MADE/aDDM_DJW/outputs/2017-11-26/subject/subj_MLE.pickle.\n"
     ]
    }
   ],
   "source": [
    "utils_addm.fit_sim_subjects(sim_subjects, rt_dist, nonDec, path_to_save)"
   ]
  },
  {
   "cell_type": "markdown",
   "metadata": {},
   "source": [
    "### Sort Fits"
   ]
  },
  {
   "cell_type": "code",
   "execution_count": 5,
   "metadata": {},
   "outputs": [
    {
     "ename": "NameError",
     "evalue": "name 'sim_subjects' is not defined",
     "output_type": "error",
     "traceback": [
      "\u001b[0;31m---------------------------------------------------------------------------\u001b[0m",
      "\u001b[0;31mNameError\u001b[0m                                 Traceback (most recent call last)",
      "\u001b[0;32m<ipython-input-5-0f0f34674a6d>\u001b[0m in \u001b[0;36m<module>\u001b[0;34m()\u001b[0m\n\u001b[1;32m      4\u001b[0m \u001b[0mpath_to_save\u001b[0m \u001b[0;34m=\u001b[0m \u001b[0;34m\"outputs/2017-11-26/subject/\"\u001b[0m\u001b[0;34m\u001b[0m\u001b[0m\n\u001b[1;32m      5\u001b[0m \u001b[0;34m\u001b[0m\u001b[0m\n\u001b[0;32m----> 6\u001b[0;31m \u001b[0mutils_addm\u001b[0m\u001b[0;34m.\u001b[0m\u001b[0msort_sim_subject_fit\u001b[0m\u001b[0;34m(\u001b[0m\u001b[0msim_subj_mle\u001b[0m\u001b[0;34m,\u001b[0m \u001b[0msim_subjects\u001b[0m\u001b[0;34m,\u001b[0m \u001b[0mpath_to_save\u001b[0m\u001b[0;34m)\u001b[0m\u001b[0;34m\u001b[0m\u001b[0m\n\u001b[0m",
      "\u001b[0;31mNameError\u001b[0m: name 'sim_subjects' is not defined"
     ]
    }
   ],
   "source": [
    "path_to_file = \"outputs/2017-11-26/subject/subj_MLE.pickle\"\n",
    "sim_subj_mle = utils_addm.pickle_read(path_to_file)\n",
    "\n",
    "path_to_save = \"outputs/2017-11-26/subject/\"\n",
    "\n",
    "utils_addm.sort_sim_subject_fit(sim_subj_mle, sim_subjects, path_to_save)"
   ]
  },
  {
   "cell_type": "markdown",
   "metadata": {},
   "source": [
    "### Examine Fits\n",
    "----\n",
    "Can we recover parameters?"
   ]
  },
  {
   "cell_type": "code",
   "execution_count": 4,
   "metadata": {
    "ExecuteTime": {
     "end_time": "2017-11-27T15:24:55.276686Z",
     "start_time": "2017-11-27T15:24:55.188482Z"
    }
   },
   "outputs": [
    {
     "ename": "FileNotFoundError",
     "evalue": "[Errno 2] No such file or directory: 'outputs/2017-11-26/subject/summed_sim_subj_MLE.pickle'",
     "output_type": "error",
     "traceback": [
      "\u001b[0;31m---------------------------------------------------------------------------\u001b[0m",
      "\u001b[0;31mFileNotFoundError\u001b[0m                         Traceback (most recent call last)",
      "\u001b[0;32m<ipython-input-4-7043e871be9b>\u001b[0m in \u001b[0;36m<module>\u001b[0;34m()\u001b[0m\n\u001b[1;32m      1\u001b[0m \u001b[0mpath_to_file\u001b[0m \u001b[0;34m=\u001b[0m \u001b[0;34m\"outputs/2017-11-26/subject/summed_sim_subj_MLE.pickle\"\u001b[0m\u001b[0;34m\u001b[0m\u001b[0m\n\u001b[1;32m      2\u001b[0m \u001b[0;34m\u001b[0m\u001b[0m\n\u001b[0;32m----> 3\u001b[0;31m \u001b[0msummed_sim_subj_mle\u001b[0m \u001b[0;34m=\u001b[0m \u001b[0mutils_addm\u001b[0m\u001b[0;34m.\u001b[0m\u001b[0mpickle_read\u001b[0m\u001b[0;34m(\u001b[0m\u001b[0mpath_to_file\u001b[0m\u001b[0;34m)\u001b[0m\u001b[0;34m\u001b[0m\u001b[0m\n\u001b[0m",
      "\u001b[0;32m/Users/djw/Dropbox/PROGRAMMING/_NEURO/2017_MADE/aDDM_DJW/functions/utils_addm.py\u001b[0m in \u001b[0;36mpickle_read\u001b[0;34m(path_to_file)\u001b[0m\n\u001b[1;32m    852\u001b[0m \u001b[0;34m\u001b[0m\u001b[0m\n\u001b[1;32m    853\u001b[0m \u001b[0;32mdef\u001b[0m \u001b[0mpickle_read\u001b[0m\u001b[0;34m(\u001b[0m\u001b[0mpath_to_file\u001b[0m\u001b[0;34m)\u001b[0m\u001b[0;34m:\u001b[0m\u001b[0;34m\u001b[0m\u001b[0m\n\u001b[0;32m--> 854\u001b[0;31m     \u001b[0mpickle_in\u001b[0m \u001b[0;34m=\u001b[0m \u001b[0mopen\u001b[0m\u001b[0;34m(\u001b[0m\u001b[0mpath_to_file\u001b[0m\u001b[0;34m,\u001b[0m\u001b[0;34m\"rb\"\u001b[0m\u001b[0;34m)\u001b[0m\u001b[0;34m\u001b[0m\u001b[0m\n\u001b[0m\u001b[1;32m    855\u001b[0m     \u001b[0mout_file\u001b[0m \u001b[0;34m=\u001b[0m \u001b[0mpickle\u001b[0m\u001b[0;34m.\u001b[0m\u001b[0mload\u001b[0m\u001b[0;34m(\u001b[0m\u001b[0mpickle_in\u001b[0m\u001b[0;34m)\u001b[0m\u001b[0;34m\u001b[0m\u001b[0m\n\u001b[1;32m    856\u001b[0m     \u001b[0mpickle_in\u001b[0m\u001b[0;34m.\u001b[0m\u001b[0mclose\u001b[0m\u001b[0;34m(\u001b[0m\u001b[0;34m)\u001b[0m\u001b[0;34m\u001b[0m\u001b[0m\n",
      "\u001b[0;31mFileNotFoundError\u001b[0m: [Errno 2] No such file or directory: 'outputs/2017-11-26/subject/summed_sim_subj_MLE.pickle'"
     ]
    }
   ],
   "source": [
    "path_to_file = \"outputs/2017-11-26/subject/summed_sim_subj_MLE.pickle\"\n",
    "\n",
    "summed_sim_subj_mle = utils_addm.pickle_read(path_to_file)"
   ]
  },
  {
   "cell_type": "markdown",
   "metadata": {},
   "source": [
    "**Look at fit for individual subjects**\n",
    "\n",
    "---\n",
    "Better way to check overall fit with some statistical rigor??"
   ]
  },
  {
   "cell_type": "code",
   "execution_count": null,
   "metadata": {
    "collapsed": true
   },
   "outputs": [],
   "source": [
    "summed_sim_subj_mle['0.134_0.279_0.1'].head(10)"
   ]
  },
  {
   "cell_type": "markdown",
   "metadata": {},
   "source": [
    "## Separate Train/Test Data"
   ]
  },
  {
   "cell_type": "markdown",
   "metadata": {},
   "source": [
    "Import and reformat original data"
   ]
  },
  {
   "cell_type": "code",
   "execution_count": 58,
   "metadata": {
    "collapsed": true
   },
   "outputs": [],
   "source": [
    "# Data from subjects\n",
    "expdata = pd.read_csv(\"data/made_v2/expdata.csv\")\n",
    "fixations = pd.read_csv(\"data/made_v2/fixations.csv\")\n",
    "\n",
    "# Convert RTs to seconds\n",
    "expdata.rt = expdata.rt/1000\n",
    "# Create summed val column\n",
    "expdata['summed_val'] = expdata.item_left_val + expdata.item_right_val\n",
    "\n",
    "# Rename columns to match sim data column names\n",
    "expdata = expdata.rename(columns = {\n",
    "    'choice':'resp',\n",
    "    'item_left':'act_face_val',\n",
    "    'item_right':'act_house_val',\n",
    "    'item_left_val':'val_face',\n",
    "    'item_right_val':'val_house',\n",
    "})"
   ]
  },
  {
   "cell_type": "markdown",
   "metadata": {},
   "source": [
    "Create dictionaries for both Group and Individual Subjects"
   ]
  },
  {
   "cell_type": "code",
   "execution_count": 59,
   "metadata": {
    "collapsed": true
   },
   "outputs": [],
   "source": [
    "# train on even trials\n",
    "train_expdata = expdata[expdata.trial % 2 == 0]\n",
    "train_fixations = fixations[fixations.trial % 2 == 0]\n",
    "\n",
    "# Reset Indices\n",
    "train_expdata.reset_index(drop=True, inplace=True)\n",
    "train_fixations.reset_index(drop=True, inplace=True)\n",
    "\n",
    "# test on odd trials\n",
    "test_expdata = expdata[expdata.trial % 2 == 1]\n",
    "test_fixations = fixations[fixations.trial % 2 == 1]\n",
    "\n",
    "# Reset Indices\n",
    "test_expdata.reset_index(drop=True, inplace=True)\n",
    "test_fixations.reset_index(drop=True, inplace=True)\n",
    "\n",
    "#-------#\n",
    "# GROUP #\n",
    "#-------#\n",
    "\n",
    "# make dictionary for fitting purposes (essentially \"1' subject)\n",
    "group_train = {}                  \n",
    "group_train[0] = train_expdata\n",
    "\n",
    "#-------------#\n",
    "# INDIVIDUALS #\n",
    "#-------------#\n",
    "\n",
    "# make dictionary for fitting purposes (all subjects)\n",
    "individual_train = {}\n",
    "\n",
    "# get unique subjects as list\n",
    "subjects = np.unique(train_expdata.parcode)\n",
    "\n",
    "# create dict for each subjects training data\n",
    "i = 0\n",
    "for subject in subjects:\n",
    "    individual_train[i] = train_expdata[train_expdata.parcode == subject]\n",
    "    i = i + 1"
   ]
  },
  {
   "cell_type": "markdown",
   "metadata": {},
   "source": [
    "## Fit Train Data\n",
    "---\n",
    "Find MLE for each of the simulated parameter combinations"
   ]
  },
  {
   "cell_type": "markdown",
   "metadata": {},
   "source": [
    "### GROUP"
   ]
  },
  {
   "cell_type": "code",
   "execution_count": null,
   "metadata": {
    "collapsed": true
   },
   "outputs": [],
   "source": [
    "path_to_save = 'outputs/2017-11-30/train/train_group_'\n",
    "\n",
    "# note that we are effectively fitting a 'single subject' here (group level)\n",
    "utils_addm.fit_subjects(group_train, rt_dist, nonDec, path_to_save)"
   ]
  },
  {
   "cell_type": "markdown",
   "metadata": {},
   "source": [
    "### INDIVIDUAL"
   ]
  },
  {
   "cell_type": "code",
   "execution_count": 61,
   "metadata": {},
   "outputs": [
    {
     "name": "stderr",
     "output_type": "stream",
     "text": [
      "  0%|          | 0/23 [00:00<?, ?it/s]/Users/djw/Dropbox/PROGRAMMING/_NEURO/2017_MADE/aDDM_DJW/functions/utils_addm.py:741: SettingWithCopyWarning: \n",
      "A value is trying to be set on a copy of a slice from a DataFrame.\n",
      "Try using .loc[row_indexer,col_indexer] = value instead\n",
      "\n",
      "See the caveats in the documentation: http://pandas.pydata.org/pandas-docs/stable/indexing.html#indexing-view-versus-copy\n",
      "  subject_dict[subject][key] = rt_distList                            # Create column from list\n",
      "100%|██████████| 23/23 [02:56<00:00,  7.66s/it]"
     ]
    },
    {
     "name": "stdout",
     "output_type": "stream",
     "text": [
      "Saved to outputs/2017-11-30/train/train_individual_MLE.pickle.\n"
     ]
    },
    {
     "name": "stderr",
     "output_type": "stream",
     "text": [
      "\n"
     ]
    }
   ],
   "source": [
    "path_to_save = 'outputs/2017-11-30/train/train_individual_'\n",
    "\n",
    "# fit all subjects (individual level)\n",
    "utils_addm.fit_subjects(individual_train, rt_dist, nonDec, path_to_save)\n"
   ]
  },
  {
   "cell_type": "markdown",
   "metadata": {},
   "source": [
    "## Find Best Fit"
   ]
  },
  {
   "cell_type": "markdown",
   "metadata": {
    "heading_collapsed": true
   },
   "source": [
    "### GROUP"
   ]
  },
  {
   "cell_type": "markdown",
   "metadata": {
    "hidden": true
   },
   "source": [
    "**Sort Fits:** Best to Worst"
   ]
  },
  {
   "cell_type": "code",
   "execution_count": 15,
   "metadata": {
    "hidden": true,
    "scrolled": true
   },
   "outputs": [
    {
     "name": "stderr",
     "output_type": "stream",
     "text": [
      "100%|██████████| 1/1 [00:00<00:00, 52.50it/s]"
     ]
    },
    {
     "name": "stdout",
     "output_type": "stream",
     "text": [
      "Saved to outputs/2017-11-26/subject/summed_subj_MLE.pickle.\n"
     ]
    },
    {
     "name": "stderr",
     "output_type": "stream",
     "text": [
      "\n"
     ]
    }
   ],
   "source": [
    "# Load the full fits\n",
    "path_to_file = \"outputs/2017-11-30/train/train_group_MLE.pickle\"\n",
    "group_mle = utils_addm.pickle_read(path_to_file)\n",
    "\n",
    "# Save the sorted fits to a new file\n",
    "path_to_save = \"outputs/2017-11-30/train/train_group_\"\n",
    "utils_addm.sort_subject_fit(group_mle, path_to_save)\n",
    "\n",
    "# Load Sorted Fits\n",
    "path_to_file = \"outputs/2017-11-30/train/train_group_summed_MLE.pickle\"\n",
    "group_mle_sorted = utils_addm.pickle_read(path_to_file)\n",
    "\n",
    "group_mle_sorted[0].head()"
   ]
  },
  {
   "cell_type": "markdown",
   "metadata": {
    "hidden": true
   },
   "source": [
    "**Match to Sims:** Find the simulations for the best fit parameters"
   ]
  },
  {
   "cell_type": "code",
   "execution_count": 276,
   "metadata": {
    "hidden": true
   },
   "outputs": [
    {
     "name": "stdout",
     "output_type": "stream",
     "text": [
      "267\n"
     ]
    }
   ],
   "source": [
    "# load the sims dict\n",
    "path_to_file = \"outputs/2017-11-16/pickle/sims_dict.pickle\"\n",
    "sims_dict = utils_addm.pickle_read(path_to_file)\n",
    "\n",
    "# Which dict key for the best param combo\n",
    "for param_combo in sims_dict:\n",
    "    if (round(sims_dict[param_combo].scaling[0],3) == 0.051)\\\n",
    "    & (round(sims_dict[param_combo].upper_boundary[0] ,3) == 0.164)\\\n",
    "    & (round(sims_dict[param_combo].theta[0] ,3) == 0.325):\n",
    "        best_group_fit = param_combo\n",
    "        print(best_group_fit)"
   ]
  },
  {
   "cell_type": "markdown",
   "metadata": {},
   "source": [
    "### INDIVIDUAL"
   ]
  },
  {
   "cell_type": "markdown",
   "metadata": {},
   "source": [
    "SORT FITS"
   ]
  },
  {
   "cell_type": "code",
   "execution_count": 62,
   "metadata": {
    "scrolled": true
   },
   "outputs": [
    {
     "name": "stderr",
     "output_type": "stream",
     "text": [
      "100%|██████████| 23/23 [00:00<00:00, 93.82it/s] "
     ]
    },
    {
     "name": "stdout",
     "output_type": "stream",
     "text": [
      "Saved to outputs/2017-11-30/train/train_individual_summed_MLE.pickle.\n"
     ]
    },
    {
     "name": "stderr",
     "output_type": "stream",
     "text": [
      "\n"
     ]
    }
   ],
   "source": [
    "# Load the full fits\n",
    "path_to_file = \"outputs/2017-11-30/train/train_individual_MLE.pickle\"\n",
    "subj_mle = utils_addm.pickle_read(path_to_file)\n",
    "\n",
    "# Sort Fits. Save to a new file\n",
    "path_to_save = \"outputs/2017-11-30/train/train_individual_\"\n",
    "utils_addm.sort_subject_fit(subj_mle, path_to_save)"
   ]
  },
  {
   "cell_type": "markdown",
   "metadata": {},
   "source": [
    "DF OF BEST FIT PARAMETERS FOR EACH SUBJECT"
   ]
  },
  {
   "cell_type": "code",
   "execution_count": 7,
   "metadata": {
    "collapsed": true
   },
   "outputs": [],
   "source": [
    "# Load Sorted Fits\n",
    "path_to_file = \"outputs/2017-11-30/train/train_individual_summed_MLE.pickle\"\n",
    "subj_mle_sorted = utils_addm.pickle_read(path_to_file)\n",
    "\n",
    "# Best fit params & sims_dict KEY\n",
    "best_params_list = []\n",
    "\n",
    "for subject in subj_mle_sorted:\n",
    "    best_params_list.append(subj_mle_sorted[subject].iloc[0,:])\n",
    "\n",
    "subj_params_df = pd.DataFrame(best_params_list)            # make DF of best parameters for each subject\n",
    "subj_params_df.rename(columns={0: 'MLE'}, inplace=True)    # rename first column to MLE\n",
    "subj_params_df = subj_params_df.reset_index(drop=True)     # make index values sequential"
   ]
  },
  {
   "cell_type": "markdown",
   "metadata": {},
   "source": [
    "ADD MATCHING SIMULATION KEY FOR EACH SUBJECT"
   ]
  },
  {
   "cell_type": "code",
   "execution_count": 8,
   "metadata": {},
   "outputs": [
    {
     "data": {
      "text/html": [
       "<div>\n",
       "<style scoped>\n",
       "    .dataframe tbody tr th:only-of-type {\n",
       "        vertical-align: middle;\n",
       "    }\n",
       "\n",
       "    .dataframe tbody tr th {\n",
       "        vertical-align: top;\n",
       "    }\n",
       "\n",
       "    .dataframe thead th {\n",
       "        text-align: right;\n",
       "    }\n",
       "</style>\n",
       "<table border=\"1\" class=\"dataframe\">\n",
       "  <thead>\n",
       "    <tr style=\"text-align: right;\">\n",
       "      <th></th>\n",
       "      <th>MLE</th>\n",
       "      <th>scaling</th>\n",
       "      <th>boundary</th>\n",
       "      <th>theta</th>\n",
       "      <th>sims_key</th>\n",
       "    </tr>\n",
       "  </thead>\n",
       "  <tbody>\n",
       "    <tr>\n",
       "      <th>0</th>\n",
       "      <td>685.762045</td>\n",
       "      <td>0.093</td>\n",
       "      <td>0.221</td>\n",
       "      <td>0.325</td>\n",
       "      <td>316</td>\n",
       "    </tr>\n",
       "    <tr>\n",
       "      <th>1</th>\n",
       "      <td>642.259050</td>\n",
       "      <td>0.010</td>\n",
       "      <td>0.221</td>\n",
       "      <td>0.325</td>\n",
       "      <td>68</td>\n",
       "    </tr>\n",
       "    <tr>\n",
       "      <th>2</th>\n",
       "      <td>584.865968</td>\n",
       "      <td>0.051</td>\n",
       "      <td>0.107</td>\n",
       "      <td>1.000</td>\n",
       "      <td>264</td>\n",
       "    </tr>\n",
       "    <tr>\n",
       "      <th>3</th>\n",
       "      <td>666.910602</td>\n",
       "      <td>0.093</td>\n",
       "      <td>0.164</td>\n",
       "      <td>0.550</td>\n",
       "      <td>312</td>\n",
       "    </tr>\n",
       "    <tr>\n",
       "      <th>4</th>\n",
       "      <td>659.512296</td>\n",
       "      <td>0.093</td>\n",
       "      <td>0.221</td>\n",
       "      <td>0.100</td>\n",
       "      <td>315</td>\n",
       "    </tr>\n",
       "  </tbody>\n",
       "</table>\n",
       "</div>"
      ],
      "text/plain": [
       "          MLE  scaling  boundary  theta  sims_key\n",
       "0  685.762045    0.093     0.221  0.325       316\n",
       "1  642.259050    0.010     0.221  0.325        68\n",
       "2  584.865968    0.051     0.107  1.000       264\n",
       "3  666.910602    0.093     0.164  0.550       312\n",
       "4  659.512296    0.093     0.221  0.100       315"
      ]
     },
     "execution_count": 8,
     "metadata": {},
     "output_type": "execute_result"
    }
   ],
   "source": [
    "# list to hold key values for matching sims\n",
    "matching_sims = []\n",
    "\n",
    "# load the sims dict (this is slow...necessary?)\n",
    "path_to_file = \"outputs/2017-11-16/pickle/sims_dict.pickle\"\n",
    "sims_dict = utils_addm.pickle_read(path_to_file)\n",
    "\n",
    "for subject in subj_params_df.index:\n",
    "    scaling, boundary, theta = subj_params_df.loc[subject,'scaling':'theta']\n",
    "    for param_combo in sims_dict:\n",
    "        if (round(sims_dict[param_combo].scaling[0],3) == scaling)\\\n",
    "        & (round(sims_dict[param_combo].upper_boundary[0] ,3) == boundary)\\\n",
    "        & (round(sims_dict[param_combo].theta[0] ,3) == theta):\n",
    "            matching_sims.append(param_combo)\n",
    "\n",
    "subj_params_df['sims_key'] = matching_sims\n",
    "subj_params_df.head()"
   ]
  },
  {
   "cell_type": "markdown",
   "metadata": {},
   "source": [
    "# Sim with Test Data"
   ]
  },
  {
   "cell_type": "markdown",
   "metadata": {},
   "source": [
    "LOAD EXPERIMENTAL DATA AND FIXATION DATA"
   ]
  },
  {
   "cell_type": "code",
   "execution_count": 9,
   "metadata": {
    "collapsed": true
   },
   "outputs": [],
   "source": [
    "expdata = pd.read_csv(\"data/made_v2/expdata.csv\")\n",
    "fixations = pd.read_csv(\"data/made_v2/fixations.csv\")"
   ]
  },
  {
   "cell_type": "markdown",
   "metadata": {},
   "source": [
    "CONFIGURE EXPERIMENTAL DATA DF"
   ]
  },
  {
   "cell_type": "code",
   "execution_count": 10,
   "metadata": {
    "collapsed": true
   },
   "outputs": [
    {
     "name": "stderr",
     "output_type": "stream",
     "text": [
      "/Users/djw/anaconda/envs/python3/lib/python3.6/site-packages/ipykernel/__main__.py:23: SettingWithCopyWarning: \n",
      "A value is trying to be set on a copy of a slice from a DataFrame\n",
      "\n",
      "See the caveats in the documentation: http://pandas.pydata.org/pandas-docs/stable/indexing.html#indexing-view-versus-copy\n",
      "/Users/djw/anaconda/envs/python3/lib/python3.6/site-packages/ipykernel/__main__.py:31: SettingWithCopyWarning: \n",
      "A value is trying to be set on a copy of a slice from a DataFrame\n",
      "\n",
      "See the caveats in the documentation: http://pandas.pydata.org/pandas-docs/stable/indexing.html#indexing-view-versus-copy\n",
      "/Users/djw/anaconda/envs/python3/lib/python3.6/site-packages/ipykernel/__main__.py:32: SettingWithCopyWarning: \n",
      "A value is trying to be set on a copy of a slice from a DataFrame\n",
      "\n",
      "See the caveats in the documentation: http://pandas.pydata.org/pandas-docs/stable/indexing.html#indexing-view-versus-copy\n",
      "/Users/djw/anaconda/envs/python3/lib/python3.6/site-packages/ipykernel/__main__.py:33: SettingWithCopyWarning: \n",
      "A value is trying to be set on a copy of a slice from a DataFrame\n",
      "\n",
      "See the caveats in the documentation: http://pandas.pydata.org/pandas-docs/stable/indexing.html#indexing-view-versus-copy\n",
      "/Users/djw/anaconda/envs/python3/lib/python3.6/site-packages/ipykernel/__main__.py:31: SettingWithCopyWarning: \n",
      "A value is trying to be set on a copy of a slice from a DataFrame\n",
      "\n",
      "See the caveats in the documentation: http://pandas.pydata.org/pandas-docs/stable/indexing.html#indexing-view-versus-copy\n",
      "/Users/djw/anaconda/envs/python3/lib/python3.6/site-packages/ipykernel/__main__.py:32: SettingWithCopyWarning: \n",
      "A value is trying to be set on a copy of a slice from a DataFrame\n",
      "\n",
      "See the caveats in the documentation: http://pandas.pydata.org/pandas-docs/stable/indexing.html#indexing-view-versus-copy\n",
      "/Users/djw/anaconda/envs/python3/lib/python3.6/site-packages/ipykernel/__main__.py:33: SettingWithCopyWarning: \n",
      "A value is trying to be set on a copy of a slice from a DataFrame\n",
      "\n",
      "See the caveats in the documentation: http://pandas.pydata.org/pandas-docs/stable/indexing.html#indexing-view-versus-copy\n"
     ]
    }
   ],
   "source": [
    "# Convert RTs to seconds (necessary here?)\n",
    "expdata.rt = expdata.rt/1000\n",
    "# Create summed val column\n",
    "expdata['summed_val'] = expdata.item_left_val + expdata.item_right_val\n",
    "\n",
    "# Rename columns to match sim data column names\n",
    "expdata = expdata.rename(columns = {\n",
    "    'choice':'resp',\n",
    "    'item_left':'act_face_val',\n",
    "    'item_right':'act_house_val',\n",
    "    'item_left_val':'val_face',\n",
    "    'item_right_val':'val_house',\n",
    "})\n",
    "\n",
    "# Add first fixation stimuli (house/face)\n",
    "first_fix = fixations.fix_item[fixations.fix_num == 1]\n",
    "expdata['first_fix'] = first_fix.values - 1 # subtract one so can easily convert to boolean\n",
    "\n",
    "# Add best fit estimated values for each subject\n",
    "expdata['subject'] = 0       # initialize subject column (counts consecutively)\n",
    "i = 0\n",
    "for subject in np.unique(expdata.parcode):\n",
    "    expdata['subject'][expdata.parcode == subject] = i\n",
    "    i+=1\n",
    "\n",
    "expdata['est_scaling'] = 0      # init parameter columns\n",
    "expdata['est_boundary'] = 0\n",
    "expdata['est_theta'] = 0\n",
    "\n",
    "for i in range(len(subj_params_df)):     # add parameters (subj_params = best fit of each subject)\n",
    "    expdata['est_scaling'][expdata.loc[:,'subject'] == i] = subj_params_df.scaling[i]    \n",
    "    expdata['est_boundary'][expdata.loc[:,'subject'] == i] = subj_params_df.boundary[i]\n",
    "    expdata['est_theta'][expdata.loc[:,'subject'] == i] = subj_params_df.theta[i]\n",
    "\n",
    "#----------------\n",
    "# Throwing lots of warnings: A value is trying to be set on a copy of a slice from a DataFrame\n",
    "#----------------"
   ]
  },
  {
   "cell_type": "markdown",
   "metadata": {},
   "source": [
    "**SPLIT DATA:** TRAIN/TEST (EVEN/ODD)"
   ]
  },
  {
   "cell_type": "code",
   "execution_count": 11,
   "metadata": {
    "collapsed": true
   },
   "outputs": [],
   "source": [
    "# train on even trials\n",
    "train_expdata = expdata[expdata.trial % 2 == 0]\n",
    "train_fixations = fixations[fixations.trial % 2 == 0]\n",
    "\n",
    "# Reset Indices\n",
    "train_expdata.reset_index(drop=True, inplace=True)\n",
    "train_fixations.reset_index(drop=True, inplace=True)\n",
    "\n",
    "# test on odd trials\n",
    "test_expdata = expdata[expdata.trial % 2 == 1]\n",
    "test_fixations = fixations[fixations.trial % 2 == 1]\n",
    "\n",
    "# Reset Indices\n",
    "test_expdata.reset_index(drop=True, inplace=True)\n",
    "test_fixations.reset_index(drop=True, inplace=True)"
   ]
  },
  {
   "cell_type": "code",
   "execution_count": 12,
   "metadata": {},
   "outputs": [
    {
     "data": {
      "text/html": [
       "<div>\n",
       "<style scoped>\n",
       "    .dataframe tbody tr th:only-of-type {\n",
       "        vertical-align: middle;\n",
       "    }\n",
       "\n",
       "    .dataframe tbody tr th {\n",
       "        vertical-align: top;\n",
       "    }\n",
       "\n",
       "    .dataframe thead th {\n",
       "        text-align: right;\n",
       "    }\n",
       "</style>\n",
       "<table border=\"1\" class=\"dataframe\">\n",
       "  <thead>\n",
       "    <tr style=\"text-align: right;\">\n",
       "      <th></th>\n",
       "      <th>Unnamed: 0</th>\n",
       "      <th>parcode</th>\n",
       "      <th>trial</th>\n",
       "      <th>fix_item</th>\n",
       "      <th>fix_time</th>\n",
       "      <th>fix_num</th>\n",
       "      <th>rev_fix_num</th>\n",
       "    </tr>\n",
       "  </thead>\n",
       "  <tbody>\n",
       "    <tr>\n",
       "      <th>9945</th>\n",
       "      <td>19987</td>\n",
       "      <td>43</td>\n",
       "      <td>297</td>\n",
       "      <td>2</td>\n",
       "      <td>633.530111</td>\n",
       "      <td>1</td>\n",
       "      <td>3</td>\n",
       "    </tr>\n",
       "    <tr>\n",
       "      <th>9946</th>\n",
       "      <td>19988</td>\n",
       "      <td>43</td>\n",
       "      <td>297</td>\n",
       "      <td>1</td>\n",
       "      <td>783.314853</td>\n",
       "      <td>2</td>\n",
       "      <td>2</td>\n",
       "    </tr>\n",
       "    <tr>\n",
       "      <th>9947</th>\n",
       "      <td>19989</td>\n",
       "      <td>43</td>\n",
       "      <td>297</td>\n",
       "      <td>2</td>\n",
       "      <td>483.191874</td>\n",
       "      <td>3</td>\n",
       "      <td>1</td>\n",
       "    </tr>\n",
       "    <tr>\n",
       "      <th>9948</th>\n",
       "      <td>19992</td>\n",
       "      <td>43</td>\n",
       "      <td>299</td>\n",
       "      <td>1</td>\n",
       "      <td>450.193998</td>\n",
       "      <td>1</td>\n",
       "      <td>2</td>\n",
       "    </tr>\n",
       "    <tr>\n",
       "      <th>9949</th>\n",
       "      <td>19993</td>\n",
       "      <td>43</td>\n",
       "      <td>299</td>\n",
       "      <td>2</td>\n",
       "      <td>699.846964</td>\n",
       "      <td>2</td>\n",
       "      <td>1</td>\n",
       "    </tr>\n",
       "  </tbody>\n",
       "</table>\n",
       "</div>"
      ],
      "text/plain": [
       "      Unnamed: 0  parcode  trial  fix_item    fix_time  fix_num  rev_fix_num\n",
       "9945       19987       43    297         2  633.530111        1            3\n",
       "9946       19988       43    297         1  783.314853        2            2\n",
       "9947       19989       43    297         2  483.191874        3            1\n",
       "9948       19992       43    299         1  450.193998        1            2\n",
       "9949       19993       43    299         2  699.846964        2            1"
      ]
     },
     "execution_count": 12,
     "metadata": {},
     "output_type": "execute_result"
    }
   ],
   "source": [
    "test_fixations.tail()"
   ]
  },
  {
   "cell_type": "markdown",
   "metadata": {},
   "source": [
    "CREATE DWELL ARRAY WITH INITIAL SUBJECT VALUES FROM **TEST** DATA"
   ]
  },
  {
   "cell_type": "code",
   "execution_count": 13,
   "metadata": {
    "scrolled": false
   },
   "outputs": [
    {
     "name": "stderr",
     "output_type": "stream",
     "text": [
      "100%|██████████| 9950/9950 [00:00<00:00, 13995.97it/s]\n"
     ]
    }
   ],
   "source": [
    "# init dwell array\n",
    "# data = 'test'\n",
    "num_sims = 1000\n",
    "dwell_array = utils_addm.create_dwell_array(num_sims, test_fixations, test_expdata, data = 'test')\n"
   ]
  },
  {
   "cell_type": "markdown",
   "metadata": {},
   "source": [
    "NOTE: `dwell_array` 1000 times more rows than `test_expdata`\n"
   ]
  },
  {
   "cell_type": "code",
   "execution_count": 14,
   "metadata": {
    "scrolled": true
   },
   "outputs": [
    {
     "data": {
      "text/plain": [
       "(3291000, 22)"
      ]
     },
     "execution_count": 14,
     "metadata": {},
     "output_type": "execute_result"
    }
   ],
   "source": [
    "dwell_array.shape\n"
   ]
  },
  {
   "cell_type": "code",
   "execution_count": 15,
   "metadata": {},
   "outputs": [
    {
     "data": {
      "text/plain": [
       "(3291, 14)"
      ]
     },
     "execution_count": 15,
     "metadata": {},
     "output_type": "execute_result"
    }
   ],
   "source": [
    "test_expdata.shape\n"
   ]
  },
  {
   "cell_type": "markdown",
   "metadata": {
    "collapsed": true
   },
   "source": [
    "SIMULATE EACH TRIAL 1000x\n",
    "---\n",
    "USING:\n",
    "- `val_face`\n",
    "- `val_house`\n",
    "- `first_fix`\n",
    "- `est_scaling`\n",
    "- `est_boundary`\n",
    "- `est_theta`"
   ]
  },
  {
   "cell_type": "markdown",
   "metadata": {},
   "source": [
    "REPEAT EACH TRIAL * `num_sims`"
   ]
  },
  {
   "cell_type": "code",
   "execution_count": 18,
   "metadata": {
    "collapsed": true
   },
   "outputs": [],
   "source": [
    "test_expdata_big = test_expdata.loc[np.repeat(test_expdata.index.values, num_sims)]\n"
   ]
  },
  {
   "cell_type": "markdown",
   "metadata": {},
   "source": [
    "DOWNCAST TO REDUCE SIZE"
   ]
  },
  {
   "cell_type": "code",
   "execution_count": 19,
   "metadata": {
    "collapsed": true
   },
   "outputs": [],
   "source": [
    "test_expdata_big = test_expdata_big.apply(pd.to_numeric,downcast='unsigned')\n",
    "test_expdata_big = test_expdata_big.apply(pd.to_numeric,downcast='float')\n",
    "dwell_array = dwell_array.astype(np.int32)\n",
    "\n",
    "# dwell_array.nbytes\n",
    "# test_expdata_big.info(memory_usage='deep')\n"
   ]
  },
  {
   "cell_type": "markdown",
   "metadata": {},
   "source": [
    "SEPARATE INTO SEPARATE DICTS FOR EACH SUBJECT"
   ]
  },
  {
   "cell_type": "code",
   "execution_count": 75,
   "metadata": {
    "collapsed": true
   },
   "outputs": [],
   "source": [
    "#-------------#\n",
    "# INDIVIDUALS #\n",
    "#-------------#\n",
    "\n",
    "# make dictionary for fitting purposes (all subjects)\n",
    "individual_test = {}\n",
    "\n",
    "# get unique subjects as list\n",
    "subjects = np.unique(test_expdata_big.parcode)\n",
    "\n",
    "# create dict for each subjects training data\n",
    "i = 0\n",
    "for subject in subjects:\n",
    "    individual_test[i] = test_expdata_big[test_expdata_big.parcode == subject]\n",
    "    individual_test[i].reset_index(drop=True, inplace=True)\n",
    "    i = i + 1\n",
    "    "
   ]
  },
  {
   "cell_type": "markdown",
   "metadata": {},
   "source": [
    "**SIMULATE**"
   ]
  },
  {
   "cell_type": "code",
   "execution_count": 150,
   "metadata": {},
   "outputs": [
    {
     "name": "stderr",
     "output_type": "stream",
     "text": [
      "  0%|          | 0/23 [00:00<?, ?it/s]/Users/djw/anaconda/envs/python3/lib/python3.6/site-packages/pandas/core/indexing.py:537: SettingWithCopyWarning: \n",
      "A value is trying to be set on a copy of a slice from a DataFrame.\n",
      "Try using .loc[row_indexer,col_indexer] = value instead\n",
      "\n",
      "See the caveats in the documentation: http://pandas.pydata.org/pandas-docs/stable/indexing.html#indexing-view-versus-copy\n",
      "  self.obj[item] = s\n",
      "/Users/djw/anaconda/envs/python3/lib/python3.6/site-packages/pandas/core/indexing.py:357: SettingWithCopyWarning: \n",
      "A value is trying to be set on a copy of a slice from a DataFrame.\n",
      "Try using .loc[row_indexer,col_indexer] = value instead\n",
      "\n",
      "See the caveats in the documentation: http://pandas.pydata.org/pandas-docs/stable/indexing.html#indexing-view-versus-copy\n",
      "  self.obj[key] = _infer_fill_value(value)\n",
      "100%|██████████| 23/23 [24:55<00:00, 65.02s/it]\n"
     ]
    }
   ],
   "source": [
    "individual_test_sims = utils_addm.simul_addm_test_data(individual_test, dwell_array,\n",
    "                     startVar, nonDec, nonDecVar, driftVar, maxRT, precision, s)\n"
   ]
  },
  {
   "cell_type": "code",
   "execution_count": 152,
   "metadata": {},
   "outputs": [
    {
     "data": {
      "text/html": [
       "<div>\n",
       "<style scoped>\n",
       "    .dataframe tbody tr th:only-of-type {\n",
       "        vertical-align: middle;\n",
       "    }\n",
       "\n",
       "    .dataframe tbody tr th {\n",
       "        vertical-align: top;\n",
       "    }\n",
       "\n",
       "    .dataframe thead th {\n",
       "        text-align: right;\n",
       "    }\n",
       "</style>\n",
       "<table border=\"1\" class=\"dataframe\">\n",
       "  <thead>\n",
       "    <tr style=\"text-align: right;\">\n",
       "      <th></th>\n",
       "      <th>parcode</th>\n",
       "      <th>trial</th>\n",
       "      <th>rt</th>\n",
       "      <th>resp</th>\n",
       "      <th>act_face_val</th>\n",
       "      <th>act_house_val</th>\n",
       "      <th>val_face</th>\n",
       "      <th>val_house</th>\n",
       "      <th>summed_val</th>\n",
       "      <th>first_fix</th>\n",
       "      <th>subject</th>\n",
       "      <th>est_scaling</th>\n",
       "      <th>est_boundary</th>\n",
       "      <th>est_theta</th>\n",
       "      <th>sim_rt</th>\n",
       "      <th>sim_resp</th>\n",
       "      <th>sim_drift_left</th>\n",
       "      <th>sim_drift_right</th>\n",
       "    </tr>\n",
       "  </thead>\n",
       "  <tbody>\n",
       "    <tr>\n",
       "      <th>995</th>\n",
       "      <td>1</td>\n",
       "      <td>1</td>\n",
       "      <td>8.883308</td>\n",
       "      <td>1.0</td>\n",
       "      <td>1.32</td>\n",
       "      <td>1.72</td>\n",
       "      <td>1.63</td>\n",
       "      <td>1.69</td>\n",
       "      <td>3.32</td>\n",
       "      <td>1</td>\n",
       "      <td>0</td>\n",
       "      <td>0.093</td>\n",
       "      <td>0.221</td>\n",
       "      <td>0.325</td>\n",
       "      <td>2.742</td>\n",
       "      <td>1.0</td>\n",
       "      <td>0.202670</td>\n",
       "      <td>0.206437</td>\n",
       "    </tr>\n",
       "    <tr>\n",
       "      <th>996</th>\n",
       "      <td>1</td>\n",
       "      <td>1</td>\n",
       "      <td>8.883308</td>\n",
       "      <td>1.0</td>\n",
       "      <td>1.32</td>\n",
       "      <td>1.72</td>\n",
       "      <td>1.63</td>\n",
       "      <td>1.69</td>\n",
       "      <td>3.32</td>\n",
       "      <td>1</td>\n",
       "      <td>0</td>\n",
       "      <td>0.093</td>\n",
       "      <td>0.221</td>\n",
       "      <td>0.325</td>\n",
       "      <td>1.125</td>\n",
       "      <td>1.0</td>\n",
       "      <td>0.202670</td>\n",
       "      <td>0.206437</td>\n",
       "    </tr>\n",
       "    <tr>\n",
       "      <th>997</th>\n",
       "      <td>1</td>\n",
       "      <td>1</td>\n",
       "      <td>8.883308</td>\n",
       "      <td>1.0</td>\n",
       "      <td>1.32</td>\n",
       "      <td>1.72</td>\n",
       "      <td>1.63</td>\n",
       "      <td>1.69</td>\n",
       "      <td>3.32</td>\n",
       "      <td>1</td>\n",
       "      <td>0</td>\n",
       "      <td>0.093</td>\n",
       "      <td>0.221</td>\n",
       "      <td>0.325</td>\n",
       "      <td>1.510</td>\n",
       "      <td>1.0</td>\n",
       "      <td>0.202670</td>\n",
       "      <td>0.206437</td>\n",
       "    </tr>\n",
       "    <tr>\n",
       "      <th>998</th>\n",
       "      <td>1</td>\n",
       "      <td>1</td>\n",
       "      <td>8.883308</td>\n",
       "      <td>1.0</td>\n",
       "      <td>1.32</td>\n",
       "      <td>1.72</td>\n",
       "      <td>1.63</td>\n",
       "      <td>1.69</td>\n",
       "      <td>3.32</td>\n",
       "      <td>1</td>\n",
       "      <td>0</td>\n",
       "      <td>0.093</td>\n",
       "      <td>0.221</td>\n",
       "      <td>0.325</td>\n",
       "      <td>1.326</td>\n",
       "      <td>1.0</td>\n",
       "      <td>0.202670</td>\n",
       "      <td>0.206437</td>\n",
       "    </tr>\n",
       "    <tr>\n",
       "      <th>999</th>\n",
       "      <td>1</td>\n",
       "      <td>1</td>\n",
       "      <td>8.883308</td>\n",
       "      <td>1.0</td>\n",
       "      <td>1.32</td>\n",
       "      <td>1.72</td>\n",
       "      <td>1.63</td>\n",
       "      <td>1.69</td>\n",
       "      <td>3.32</td>\n",
       "      <td>1</td>\n",
       "      <td>0</td>\n",
       "      <td>0.093</td>\n",
       "      <td>0.221</td>\n",
       "      <td>0.325</td>\n",
       "      <td>1.959</td>\n",
       "      <td>1.0</td>\n",
       "      <td>0.202670</td>\n",
       "      <td>0.206437</td>\n",
       "    </tr>\n",
       "    <tr>\n",
       "      <th>1000</th>\n",
       "      <td>1</td>\n",
       "      <td>3</td>\n",
       "      <td>3.716686</td>\n",
       "      <td>1.0</td>\n",
       "      <td>0.96</td>\n",
       "      <td>-0.68</td>\n",
       "      <td>0.89</td>\n",
       "      <td>-0.66</td>\n",
       "      <td>0.23</td>\n",
       "      <td>0</td>\n",
       "      <td>0</td>\n",
       "      <td>0.093</td>\n",
       "      <td>0.221</td>\n",
       "      <td>0.325</td>\n",
       "      <td>3.569</td>\n",
       "      <td>1.0</td>\n",
       "      <td>0.062822</td>\n",
       "      <td>-0.034480</td>\n",
       "    </tr>\n",
       "    <tr>\n",
       "      <th>1001</th>\n",
       "      <td>1</td>\n",
       "      <td>3</td>\n",
       "      <td>3.716686</td>\n",
       "      <td>1.0</td>\n",
       "      <td>0.96</td>\n",
       "      <td>-0.68</td>\n",
       "      <td>0.89</td>\n",
       "      <td>-0.66</td>\n",
       "      <td>0.23</td>\n",
       "      <td>0</td>\n",
       "      <td>0</td>\n",
       "      <td>0.093</td>\n",
       "      <td>0.221</td>\n",
       "      <td>0.325</td>\n",
       "      <td>6.532</td>\n",
       "      <td>1.0</td>\n",
       "      <td>0.062822</td>\n",
       "      <td>-0.034480</td>\n",
       "    </tr>\n",
       "    <tr>\n",
       "      <th>1002</th>\n",
       "      <td>1</td>\n",
       "      <td>3</td>\n",
       "      <td>3.716686</td>\n",
       "      <td>1.0</td>\n",
       "      <td>0.96</td>\n",
       "      <td>-0.68</td>\n",
       "      <td>0.89</td>\n",
       "      <td>-0.66</td>\n",
       "      <td>0.23</td>\n",
       "      <td>0</td>\n",
       "      <td>0</td>\n",
       "      <td>0.093</td>\n",
       "      <td>0.221</td>\n",
       "      <td>0.325</td>\n",
       "      <td>2.665</td>\n",
       "      <td>1.0</td>\n",
       "      <td>0.062822</td>\n",
       "      <td>-0.034480</td>\n",
       "    </tr>\n",
       "    <tr>\n",
       "      <th>1003</th>\n",
       "      <td>1</td>\n",
       "      <td>3</td>\n",
       "      <td>3.716686</td>\n",
       "      <td>1.0</td>\n",
       "      <td>0.96</td>\n",
       "      <td>-0.68</td>\n",
       "      <td>0.89</td>\n",
       "      <td>-0.66</td>\n",
       "      <td>0.23</td>\n",
       "      <td>0</td>\n",
       "      <td>0</td>\n",
       "      <td>0.093</td>\n",
       "      <td>0.221</td>\n",
       "      <td>0.325</td>\n",
       "      <td>7.043</td>\n",
       "      <td>-1.0</td>\n",
       "      <td>0.062822</td>\n",
       "      <td>-0.034480</td>\n",
       "    </tr>\n",
       "    <tr>\n",
       "      <th>1004</th>\n",
       "      <td>1</td>\n",
       "      <td>3</td>\n",
       "      <td>3.716686</td>\n",
       "      <td>1.0</td>\n",
       "      <td>0.96</td>\n",
       "      <td>-0.68</td>\n",
       "      <td>0.89</td>\n",
       "      <td>-0.66</td>\n",
       "      <td>0.23</td>\n",
       "      <td>0</td>\n",
       "      <td>0</td>\n",
       "      <td>0.093</td>\n",
       "      <td>0.221</td>\n",
       "      <td>0.325</td>\n",
       "      <td>3.682</td>\n",
       "      <td>1.0</td>\n",
       "      <td>0.062822</td>\n",
       "      <td>-0.034480</td>\n",
       "    </tr>\n",
       "  </tbody>\n",
       "</table>\n",
       "</div>"
      ],
      "text/plain": [
       "      parcode  trial        rt  resp  act_face_val  act_house_val  val_face  \\\n",
       "995         1      1  8.883308   1.0          1.32           1.72      1.63   \n",
       "996         1      1  8.883308   1.0          1.32           1.72      1.63   \n",
       "997         1      1  8.883308   1.0          1.32           1.72      1.63   \n",
       "998         1      1  8.883308   1.0          1.32           1.72      1.63   \n",
       "999         1      1  8.883308   1.0          1.32           1.72      1.63   \n",
       "1000        1      3  3.716686   1.0          0.96          -0.68      0.89   \n",
       "1001        1      3  3.716686   1.0          0.96          -0.68      0.89   \n",
       "1002        1      3  3.716686   1.0          0.96          -0.68      0.89   \n",
       "1003        1      3  3.716686   1.0          0.96          -0.68      0.89   \n",
       "1004        1      3  3.716686   1.0          0.96          -0.68      0.89   \n",
       "\n",
       "      val_house  summed_val  first_fix  subject  est_scaling  est_boundary  \\\n",
       "995        1.69        3.32          1        0        0.093         0.221   \n",
       "996        1.69        3.32          1        0        0.093         0.221   \n",
       "997        1.69        3.32          1        0        0.093         0.221   \n",
       "998        1.69        3.32          1        0        0.093         0.221   \n",
       "999        1.69        3.32          1        0        0.093         0.221   \n",
       "1000      -0.66        0.23          0        0        0.093         0.221   \n",
       "1001      -0.66        0.23          0        0        0.093         0.221   \n",
       "1002      -0.66        0.23          0        0        0.093         0.221   \n",
       "1003      -0.66        0.23          0        0        0.093         0.221   \n",
       "1004      -0.66        0.23          0        0        0.093         0.221   \n",
       "\n",
       "      est_theta  sim_rt  sim_resp  sim_drift_left  sim_drift_right  \n",
       "995       0.325   2.742       1.0        0.202670         0.206437  \n",
       "996       0.325   1.125       1.0        0.202670         0.206437  \n",
       "997       0.325   1.510       1.0        0.202670         0.206437  \n",
       "998       0.325   1.326       1.0        0.202670         0.206437  \n",
       "999       0.325   1.959       1.0        0.202670         0.206437  \n",
       "1000      0.325   3.569       1.0        0.062822        -0.034480  \n",
       "1001      0.325   6.532       1.0        0.062822        -0.034480  \n",
       "1002      0.325   2.665       1.0        0.062822        -0.034480  \n",
       "1003      0.325   7.043      -1.0        0.062822        -0.034480  \n",
       "1004      0.325   3.682       1.0        0.062822        -0.034480  "
      ]
     },
     "execution_count": 152,
     "metadata": {},
     "output_type": "execute_result"
    }
   ],
   "source": [
    "individual_test_sims[0].iloc[995:1005, :]\n"
   ]
  },
  {
   "cell_type": "code",
   "execution_count": null,
   "metadata": {
    "collapsed": true
   },
   "outputs": [],
   "source": [
    "# check individual_test_sims\n",
    "# delete individual_test\n",
    "# delete dwell_array\n",
    "\n",
    "# Try 7 bins (digitize)\n"
   ]
  },
  {
   "cell_type": "markdown",
   "metadata": {},
   "source": [
    "# PLOT FITS"
   ]
  },
  {
   "cell_type": "markdown",
   "metadata": {
    "heading_collapsed": true
   },
   "source": [
    "## Group"
   ]
  },
  {
   "cell_type": "markdown",
   "metadata": {
    "heading_collapsed": true,
    "hidden": true
   },
   "source": [
    "#### RT Distribution\n",
    "\n",
    "Training and Sim Data"
   ]
  },
  {
   "cell_type": "code",
   "execution_count": 277,
   "metadata": {
    "hidden": true,
    "scrolled": false
   },
   "outputs": [
    {
     "name": "stdout",
     "output_type": "stream",
     "text": [
      "Comparison of RTs\n"
     ]
    },
    {
     "data": {
      "image/png": "[encoded data removed]",
      "text/plain": [
       "<matplotlib.figure.Figure at 0x1a0f67ab70>"
      ]
     },
     "metadata": {},
     "output_type": "display_data"
    }
   ],
   "source": [
    "fig, ax = plt.subplots(1,2, figsize=(16, 7))\n",
    "ax[0].hist(group_train[0].rt, bins = 30)\n",
    "ax[0].set_title(\"RT Hist: training data\")\n",
    "ax[1].hist(sims_dict[best_group_fit].rt, bins = 30)\n",
    "ax[1].set_title(\"RT Hist: simulated data\")\n",
    "\n",
    "\n",
    "print('Comparison of RTs')"
   ]
  },
  {
   "cell_type": "markdown",
   "metadata": {
    "heading_collapsed": true,
    "hidden": true
   },
   "source": [
    "#### RT vs Net Value\n",
    "\n",
    "Training and Sim Data"
   ]
  },
  {
   "cell_type": "code",
   "execution_count": 278,
   "metadata": {
    "hidden": true,
    "scrolled": false
   },
   "outputs": [
    {
     "data": {
      "text/plain": [
       "<matplotlib.text.Text at 0x1a1322c048>"
      ]
     },
     "execution_count": 278,
     "metadata": {},
     "output_type": "execute_result"
    },
    {
     "data": {
      "image/png": "[encoded data removed]",
      "text/plain": [
       "<matplotlib.figure.Figure at 0x1a50439b38>"
      ]
     },
     "metadata": {},
     "output_type": "display_data"
    }
   ],
   "source": [
    "x1 = group_train[0].summed_val\n",
    "y1 = group_train[0].rt\n",
    "\n",
    "x2 = sims_dict[best_group_fit].summed_val\n",
    "y2 = sims_dict[best_group_fit].rt\n",
    "\n",
    "# Two subplots\n",
    "f, (ax1, ax2) = plt.subplots(1,2, figsize=(16, 7))\n",
    "sns.regplot(x1, y1, lowess=True, line_kws={'color':'red'}, ax=ax1)\n",
    "ax1.set_title('Net Value vs. RT: training data')\n",
    "sns.regplot(x2, y2, lowess=True, line_kws={'color':'red'}, ax=ax2)\n",
    "ax2.set_title('Net Value vs. RT: simulated data')\n"
   ]
  },
  {
   "cell_type": "markdown",
   "metadata": {
    "hidden": true
   },
   "source": [
    "#### Quantize Data"
   ]
  },
  {
   "cell_type": "code",
   "execution_count": 114,
   "metadata": {
    "collapsed": true,
    "hidden": true
   },
   "outputs": [],
   "source": [
    "# Training Data\n",
    "df_train = group_train[0]\n",
    "# Best Parameters Based on Training Data\n",
    "df_sim = sims_dict[best_group_fit]\n"
   ]
  },
  {
   "cell_type": "markdown",
   "metadata": {
    "hidden": true
   },
   "source": [
    "### Test Fit on Training Data"
   ]
  },
  {
   "cell_type": "code",
   "execution_count": null,
   "metadata": {
    "collapsed": true,
    "hidden": true
   },
   "outputs": [],
   "source": [
    "# Create the variables (summed value) that we are using for our quantiles\n",
    "x1 = df_train.summed_val\n",
    "x2 = df_sim.summed_val\n",
    "\n",
    "# Define quantiles - bins are [a, b) \n",
    "bins = np.array([-4, -0.9, -0.25, 0.25, 0.9, 4])\n",
    "\n",
    "# Create column which indicates quantile of row\n",
    "df_train['quantile'] = np.digitize(x1, bins)\n",
    "df_sim['quantile'] = np.digitize(x2, bins)\n"
   ]
  },
  {
   "cell_type": "code",
   "execution_count": 116,
   "metadata": {
    "hidden": true
   },
   "outputs": [
    {
     "name": "stderr",
     "output_type": "stream",
     "text": [
      "/Users/djw/anaconda/envs/python3/lib/python3.6/site-packages/ipykernel/__main__.py:1: SettingWithCopyWarning: \n",
      "A value is trying to be set on a copy of a slice from a DataFrame\n",
      "\n",
      "See the caveats in the documentation: http://pandas.pydata.org/pandas-docs/stable/indexing.html#indexing-view-versus-copy\n",
      "  if __name__ == '__main__':\n",
      "/Users/djw/anaconda/envs/python3/lib/python3.6/site-packages/ipykernel/__main__.py:2: SettingWithCopyWarning: \n",
      "A value is trying to be set on a copy of a slice from a DataFrame\n",
      "\n",
      "See the caveats in the documentation: http://pandas.pydata.org/pandas-docs/stable/indexing.html#indexing-view-versus-copy\n",
      "  from ipykernel import kernelapp as app\n"
     ]
    }
   ],
   "source": [
    "# recode -1 response (reject) as 0 for probability of acceptance calculation\n",
    "df_train.resp[df_train.resp == -1.] = 0\n",
    "df_sim.resp[df_sim.resp == -1.] = 0\n"
   ]
  },
  {
   "cell_type": "code",
   "execution_count": 117,
   "metadata": {
    "collapsed": true,
    "hidden": true
   },
   "outputs": [
    {
     "ename": "KeyError",
     "evalue": "'parcode'",
     "output_type": "error",
     "traceback": [
      "\u001b[0;31m---------------------------------------------------------------------------\u001b[0m",
      "\u001b[0;31mKeyError\u001b[0m                                  Traceback (most recent call last)",
      "\u001b[0;32m<ipython-input-117-929861cd190e>\u001b[0m in \u001b[0;36m<module>\u001b[0;34m()\u001b[0m\n\u001b[1;32m      2\u001b[0m \u001b[0mtrain_choice_stats\u001b[0m \u001b[0;34m=\u001b[0m \u001b[0mpd\u001b[0m\u001b[0;34m.\u001b[0m\u001b[0mDataFrame\u001b[0m\u001b[0;34m(\u001b[0m\u001b[0mdf_train\u001b[0m\u001b[0;34m.\u001b[0m\u001b[0mgroupby\u001b[0m\u001b[0;34m(\u001b[0m\u001b[0;34m[\u001b[0m\u001b[0;34m'parcode'\u001b[0m\u001b[0;34m,\u001b[0m \u001b[0;34m'quantile'\u001b[0m\u001b[0;34m]\u001b[0m\u001b[0;34m)\u001b[0m\u001b[0;34m.\u001b[0m\u001b[0mresp\u001b[0m\u001b[0;34m.\u001b[0m\u001b[0magg\u001b[0m\u001b[0;34m(\u001b[0m\u001b[0;34m[\u001b[0m\u001b[0;34m'mean'\u001b[0m\u001b[0;34m,\u001b[0m \u001b[0;34m'median'\u001b[0m\u001b[0;34m,\u001b[0m \u001b[0;34m'std'\u001b[0m\u001b[0;34m,\u001b[0m \u001b[0;34m'sem'\u001b[0m\u001b[0;34m]\u001b[0m\u001b[0;34m)\u001b[0m\u001b[0;34m)\u001b[0m\u001b[0;34m\u001b[0m\u001b[0m\n\u001b[1;32m      3\u001b[0m \u001b[0;34m\u001b[0m\u001b[0m\n\u001b[0;32m----> 4\u001b[0;31m \u001b[0msim_rt_stats\u001b[0m \u001b[0;34m=\u001b[0m \u001b[0mpd\u001b[0m\u001b[0;34m.\u001b[0m\u001b[0mDataFrame\u001b[0m\u001b[0;34m(\u001b[0m\u001b[0mdf_sim\u001b[0m\u001b[0;34m.\u001b[0m\u001b[0mgroupby\u001b[0m\u001b[0;34m(\u001b[0m\u001b[0;34m[\u001b[0m\u001b[0;34m'parcode'\u001b[0m\u001b[0;34m,\u001b[0m \u001b[0;34m'quantile'\u001b[0m\u001b[0;34m]\u001b[0m\u001b[0;34m)\u001b[0m\u001b[0;34m.\u001b[0m\u001b[0mrt\u001b[0m\u001b[0;34m.\u001b[0m\u001b[0magg\u001b[0m\u001b[0;34m(\u001b[0m\u001b[0;34m[\u001b[0m\u001b[0;34m'mean'\u001b[0m\u001b[0;34m,\u001b[0m \u001b[0;34m'median'\u001b[0m\u001b[0;34m,\u001b[0m \u001b[0;34m'std'\u001b[0m\u001b[0;34m,\u001b[0m \u001b[0;34m'sem'\u001b[0m\u001b[0;34m]\u001b[0m\u001b[0;34m)\u001b[0m\u001b[0;34m)\u001b[0m\u001b[0;34m\u001b[0m\u001b[0m\n\u001b[0m\u001b[1;32m      5\u001b[0m \u001b[0msim_choice_stats\u001b[0m \u001b[0;34m=\u001b[0m \u001b[0mpd\u001b[0m\u001b[0;34m.\u001b[0m\u001b[0mDataFrame\u001b[0m\u001b[0;34m(\u001b[0m\u001b[0mdf_sim\u001b[0m\u001b[0;34m.\u001b[0m\u001b[0mgroupby\u001b[0m\u001b[0;34m(\u001b[0m\u001b[0;34m[\u001b[0m\u001b[0;34m'parcode'\u001b[0m\u001b[0;34m,\u001b[0m \u001b[0;34m'quantile'\u001b[0m\u001b[0;34m]\u001b[0m\u001b[0;34m)\u001b[0m\u001b[0;34m.\u001b[0m\u001b[0mresp\u001b[0m\u001b[0;34m.\u001b[0m\u001b[0magg\u001b[0m\u001b[0;34m(\u001b[0m\u001b[0;34m[\u001b[0m\u001b[0;34m'mean'\u001b[0m\u001b[0;34m,\u001b[0m \u001b[0;34m'median'\u001b[0m\u001b[0;34m,\u001b[0m \u001b[0;34m'std'\u001b[0m\u001b[0;34m,\u001b[0m \u001b[0;34m'sem'\u001b[0m\u001b[0;34m]\u001b[0m\u001b[0;34m)\u001b[0m\u001b[0;34m)\u001b[0m\u001b[0;34m\u001b[0m\u001b[0m\n\u001b[1;32m      6\u001b[0m \u001b[0;34m\u001b[0m\u001b[0m\n",
      "\u001b[0;32m/Users/djw/anaconda/envs/python3/lib/python3.6/site-packages/pandas/core/generic.py\u001b[0m in \u001b[0;36mgroupby\u001b[0;34m(self, by, axis, level, as_index, sort, group_keys, squeeze, **kwargs)\u001b[0m\n\u001b[1;32m   5160\u001b[0m         return groupby(self, by=by, axis=axis, level=level, as_index=as_index,\n\u001b[1;32m   5161\u001b[0m                        \u001b[0msort\u001b[0m\u001b[0;34m=\u001b[0m\u001b[0msort\u001b[0m\u001b[0;34m,\u001b[0m \u001b[0mgroup_keys\u001b[0m\u001b[0;34m=\u001b[0m\u001b[0mgroup_keys\u001b[0m\u001b[0;34m,\u001b[0m \u001b[0msqueeze\u001b[0m\u001b[0;34m=\u001b[0m\u001b[0msqueeze\u001b[0m\u001b[0;34m,\u001b[0m\u001b[0;34m\u001b[0m\u001b[0m\n\u001b[0;32m-> 5162\u001b[0;31m                        **kwargs)\n\u001b[0m\u001b[1;32m   5163\u001b[0m \u001b[0;34m\u001b[0m\u001b[0m\n\u001b[1;32m   5164\u001b[0m     def asfreq(self, freq, method=None, how=None, normalize=False,\n",
      "\u001b[0;32m/Users/djw/anaconda/envs/python3/lib/python3.6/site-packages/pandas/core/groupby.py\u001b[0m in \u001b[0;36mgroupby\u001b[0;34m(obj, by, **kwds)\u001b[0m\n\u001b[1;32m   1757\u001b[0m         \u001b[0;32mraise\u001b[0m \u001b[0mTypeError\u001b[0m\u001b[0;34m(\u001b[0m\u001b[0;34m'invalid type: %s'\u001b[0m \u001b[0;34m%\u001b[0m \u001b[0mtype\u001b[0m\u001b[0;34m(\u001b[0m\u001b[0mobj\u001b[0m\u001b[0;34m)\u001b[0m\u001b[0;34m)\u001b[0m\u001b[0;34m\u001b[0m\u001b[0m\n\u001b[1;32m   1758\u001b[0m \u001b[0;34m\u001b[0m\u001b[0m\n\u001b[0;32m-> 1759\u001b[0;31m     \u001b[0;32mreturn\u001b[0m \u001b[0mklass\u001b[0m\u001b[0;34m(\u001b[0m\u001b[0mobj\u001b[0m\u001b[0;34m,\u001b[0m \u001b[0mby\u001b[0m\u001b[0;34m,\u001b[0m \u001b[0;34m**\u001b[0m\u001b[0mkwds\u001b[0m\u001b[0;34m)\u001b[0m\u001b[0;34m\u001b[0m\u001b[0m\n\u001b[0m\u001b[1;32m   1760\u001b[0m \u001b[0;34m\u001b[0m\u001b[0m\n\u001b[1;32m   1761\u001b[0m \u001b[0;34m\u001b[0m\u001b[0m\n",
      "\u001b[0;32m/Users/djw/anaconda/envs/python3/lib/python3.6/site-packages/pandas/core/groupby.py\u001b[0m in \u001b[0;36m__init__\u001b[0;34m(self, obj, keys, axis, level, grouper, exclusions, selection, as_index, sort, group_keys, squeeze, **kwargs)\u001b[0m\n\u001b[1;32m    390\u001b[0m                                                     \u001b[0mlevel\u001b[0m\u001b[0;34m=\u001b[0m\u001b[0mlevel\u001b[0m\u001b[0;34m,\u001b[0m\u001b[0;34m\u001b[0m\u001b[0m\n\u001b[1;32m    391\u001b[0m                                                     \u001b[0msort\u001b[0m\u001b[0;34m=\u001b[0m\u001b[0msort\u001b[0m\u001b[0;34m,\u001b[0m\u001b[0;34m\u001b[0m\u001b[0m\n\u001b[0;32m--> 392\u001b[0;31m                                                     mutated=self.mutated)\n\u001b[0m\u001b[1;32m    393\u001b[0m \u001b[0;34m\u001b[0m\u001b[0m\n\u001b[1;32m    394\u001b[0m         \u001b[0mself\u001b[0m\u001b[0;34m.\u001b[0m\u001b[0mobj\u001b[0m \u001b[0;34m=\u001b[0m \u001b[0mobj\u001b[0m\u001b[0;34m\u001b[0m\u001b[0m\n",
      "\u001b[0;32m/Users/djw/anaconda/envs/python3/lib/python3.6/site-packages/pandas/core/groupby.py\u001b[0m in \u001b[0;36m_get_grouper\u001b[0;34m(obj, key, axis, level, sort, mutated, validate)\u001b[0m\n\u001b[1;32m   2840\u001b[0m                 \u001b[0min_axis\u001b[0m\u001b[0;34m,\u001b[0m \u001b[0mname\u001b[0m\u001b[0;34m,\u001b[0m \u001b[0mlevel\u001b[0m\u001b[0;34m,\u001b[0m \u001b[0mgpr\u001b[0m \u001b[0;34m=\u001b[0m \u001b[0;32mFalse\u001b[0m\u001b[0;34m,\u001b[0m \u001b[0;32mNone\u001b[0m\u001b[0;34m,\u001b[0m \u001b[0mgpr\u001b[0m\u001b[0;34m,\u001b[0m \u001b[0;32mNone\u001b[0m\u001b[0;34m\u001b[0m\u001b[0m\n\u001b[1;32m   2841\u001b[0m             \u001b[0;32melse\u001b[0m\u001b[0;34m:\u001b[0m\u001b[0;34m\u001b[0m\u001b[0m\n\u001b[0;32m-> 2842\u001b[0;31m                 \u001b[0;32mraise\u001b[0m \u001b[0mKeyError\u001b[0m\u001b[0;34m(\u001b[0m\u001b[0mgpr\u001b[0m\u001b[0;34m)\u001b[0m\u001b[0;34m\u001b[0m\u001b[0m\n\u001b[0m\u001b[1;32m   2843\u001b[0m         \u001b[0;32melif\u001b[0m \u001b[0misinstance\u001b[0m\u001b[0;34m(\u001b[0m\u001b[0mgpr\u001b[0m\u001b[0;34m,\u001b[0m \u001b[0mGrouper\u001b[0m\u001b[0;34m)\u001b[0m \u001b[0;32mand\u001b[0m \u001b[0mgpr\u001b[0m\u001b[0;34m.\u001b[0m\u001b[0mkey\u001b[0m \u001b[0;32mis\u001b[0m \u001b[0;32mnot\u001b[0m \u001b[0;32mNone\u001b[0m\u001b[0;34m:\u001b[0m\u001b[0;34m\u001b[0m\u001b[0m\n\u001b[1;32m   2844\u001b[0m             \u001b[0;31m# Add key to exclusions\u001b[0m\u001b[0;34m\u001b[0m\u001b[0;34m\u001b[0m\u001b[0m\n",
      "\u001b[0;31mKeyError\u001b[0m: 'parcode'"
     ]
    }
   ],
   "source": [
    "train_rt_stats = pd.DataFrame(df_train.groupby(['parcode', 'quantile']).rt.agg(['mean', 'median', 'std', 'sem']))\n",
    "train_choice_stats = pd.DataFrame(df_train.groupby(['parcode', 'quantile']).resp.agg(['mean', 'median', 'std', 'sem']))\n",
    "\n",
    "sim_rt_stats = pd.DataFrame(df_sim.groupby(['parcode', 'quantile']).rt.agg(['mean', 'median', 'std', 'sem']))\n",
    "sim_choice_stats = pd.DataFrame(df_sim.groupby(['parcode', 'quantile']).resp.agg(['mean', 'median', 'std', 'sem']))\n",
    "\n",
    "\n",
    "train_rt_stats.rename(index=str, columns={\"mean\": \"rt_mean\", \"median\": \"rt_median\", \"std\": \"rt_std\", \"sem\": \"rt_sem\"}, inplace=True)\n",
    "train_choice_stats.rename(index=str, columns={\"mean\": \"choice_mean\", \"median\": \"choice_median\", \"std\": \"choice_std\", \"sem\": \"choice_sem\"}, inplace=True)\n",
    "\n",
    "sim_rt_stats.rename(index=str, columns={\"mean\": \"rt_mean\", \"median\": \"rt_median\", \"std\": \"rt_std\", \"sem\": \"rt_sem\"}, inplace=True)\n",
    "sim_choice_stats.rename(index=str, columns={\"mean\": \"choice_mean\", \"median\": \"choice_median\", \"std\": \"choice_std\", \"sem\": \"choice_sem\"}, inplace=True)\n",
    "\n",
    "# add fixation stats"
   ]
  },
  {
   "cell_type": "code",
   "execution_count": 118,
   "metadata": {
    "collapsed": true,
    "hidden": true
   },
   "outputs": [
    {
     "ename": "NameError",
     "evalue": "name 'sim_rt_stats' is not defined",
     "output_type": "error",
     "traceback": [
      "\u001b[0;31m---------------------------------------------------------------------------\u001b[0m",
      "\u001b[0;31mNameError\u001b[0m                                 Traceback (most recent call last)",
      "\u001b[0;32m<ipython-input-118-665d21fca92f>\u001b[0m in \u001b[0;36m<module>\u001b[0;34m()\u001b[0m\n\u001b[1;32m      1\u001b[0m \u001b[0;31m# merge rt and choice stats\u001b[0m\u001b[0;34m\u001b[0m\u001b[0;34m\u001b[0m\u001b[0m\n\u001b[1;32m      2\u001b[0m \u001b[0mtrain_quantized_subj_stats\u001b[0m \u001b[0;34m=\u001b[0m \u001b[0mpd\u001b[0m\u001b[0;34m.\u001b[0m\u001b[0mconcat\u001b[0m\u001b[0;34m(\u001b[0m\u001b[0;34m[\u001b[0m\u001b[0mtrain_rt_stats\u001b[0m\u001b[0;34m,\u001b[0m \u001b[0mtrain_choice_stats\u001b[0m\u001b[0;34m]\u001b[0m\u001b[0;34m,\u001b[0m \u001b[0maxis\u001b[0m \u001b[0;34m=\u001b[0m \u001b[0;36m1\u001b[0m\u001b[0;34m)\u001b[0m\u001b[0;34m\u001b[0m\u001b[0m\n\u001b[0;32m----> 3\u001b[0;31m \u001b[0msim_quantized_subj_stats\u001b[0m \u001b[0;34m=\u001b[0m \u001b[0mpd\u001b[0m\u001b[0;34m.\u001b[0m\u001b[0mconcat\u001b[0m\u001b[0;34m(\u001b[0m\u001b[0;34m[\u001b[0m\u001b[0msim_rt_stats\u001b[0m\u001b[0;34m,\u001b[0m \u001b[0msim_choice_stats\u001b[0m\u001b[0;34m]\u001b[0m\u001b[0;34m,\u001b[0m \u001b[0maxis\u001b[0m \u001b[0;34m=\u001b[0m \u001b[0;36m1\u001b[0m\u001b[0;34m)\u001b[0m\u001b[0;34m\u001b[0m\u001b[0m\n\u001b[0m\u001b[1;32m      4\u001b[0m \u001b[0;34m\u001b[0m\u001b[0m\n\u001b[1;32m      5\u001b[0m \u001b[0mtrain_quantized_subj_stats\u001b[0m\u001b[0;34m.\u001b[0m\u001b[0mhead\u001b[0m\u001b[0;34m(\u001b[0m\u001b[0;34m)\u001b[0m\u001b[0;34m\u001b[0m\u001b[0m\n",
      "\u001b[0;31mNameError\u001b[0m: name 'sim_rt_stats' is not defined"
     ]
    }
   ],
   "source": [
    "# merge rt and choice stats\n",
    "train_quantized_subj_stats = pd.concat([train_rt_stats, train_choice_stats], axis = 1)\n",
    "sim_quantized_subj_stats = pd.concat([sim_rt_stats, sim_choice_stats], axis = 1)\n",
    "\n",
    "train_quantized_subj_stats.head()\n"
   ]
  },
  {
   "cell_type": "code",
   "execution_count": 93,
   "metadata": {
    "collapsed": true,
    "hidden": true
   },
   "outputs": [],
   "source": [
    "df_train['rt_mean'] = x['mean']\n"
   ]
  },
  {
   "cell_type": "code",
   "execution_count": 94,
   "metadata": {
    "hidden": true
   },
   "outputs": [
    {
     "data": {
      "text/html": [
       "<div>\n",
       "<style scoped>\n",
       "    .dataframe tbody tr th:only-of-type {\n",
       "        vertical-align: middle;\n",
       "    }\n",
       "\n",
       "    .dataframe tbody tr th {\n",
       "        vertical-align: top;\n",
       "    }\n",
       "\n",
       "    .dataframe thead th {\n",
       "        text-align: right;\n",
       "    }\n",
       "</style>\n",
       "<table border=\"1\" class=\"dataframe\">\n",
       "  <thead>\n",
       "    <tr style=\"text-align: right;\">\n",
       "      <th></th>\n",
       "      <th>parcode</th>\n",
       "      <th>trial</th>\n",
       "      <th>rt</th>\n",
       "      <th>resp</th>\n",
       "      <th>act_face_val</th>\n",
       "      <th>act_house_val</th>\n",
       "      <th>val_face</th>\n",
       "      <th>val_house</th>\n",
       "      <th>summed_val</th>\n",
       "      <th>0.01_0.05_0.1</th>\n",
       "      <th>...</th>\n",
       "      <th>0.093_0.164_0.55</th>\n",
       "      <th>0.093_0.164_0.775</th>\n",
       "      <th>0.093_0.164_1.0</th>\n",
       "      <th>0.093_0.221_0.1</th>\n",
       "      <th>0.093_0.221_0.325</th>\n",
       "      <th>0.093_0.221_0.55</th>\n",
       "      <th>0.093_0.221_0.775</th>\n",
       "      <th>0.093_0.221_1.0</th>\n",
       "      <th>quantile</th>\n",
       "      <th>rt_mean</th>\n",
       "    </tr>\n",
       "  </thead>\n",
       "  <tbody>\n",
       "    <tr>\n",
       "      <th>0</th>\n",
       "      <td>1</td>\n",
       "      <td>1</td>\n",
       "      <td>8.883308</td>\n",
       "      <td>1</td>\n",
       "      <td>1.32</td>\n",
       "      <td>1.72</td>\n",
       "      <td>1.63</td>\n",
       "      <td>1.69</td>\n",
       "      <td>3.32</td>\n",
       "      <td>2.220446e-16</td>\n",
       "      <td>...</td>\n",
       "      <td>2.220446e-16</td>\n",
       "      <td>2.220446e-16</td>\n",
       "      <td>2.220446e-16</td>\n",
       "      <td>2.220446e-16</td>\n",
       "      <td>2.220446e-16</td>\n",
       "      <td>2.220446e-16</td>\n",
       "      <td>2.220446e-16</td>\n",
       "      <td>2.220446e-16</td>\n",
       "      <td>5</td>\n",
       "      <td>3.125534</td>\n",
       "    </tr>\n",
       "    <tr>\n",
       "      <th>2</th>\n",
       "      <td>1</td>\n",
       "      <td>3</td>\n",
       "      <td>3.716686</td>\n",
       "      <td>1</td>\n",
       "      <td>0.96</td>\n",
       "      <td>-0.68</td>\n",
       "      <td>0.89</td>\n",
       "      <td>-0.66</td>\n",
       "      <td>0.23</td>\n",
       "      <td>2.220446e-16</td>\n",
       "      <td>...</td>\n",
       "      <td>1.321138e-02</td>\n",
       "      <td>6.085193e-03</td>\n",
       "      <td>1.009082e-02</td>\n",
       "      <td>8.771930e-03</td>\n",
       "      <td>8.869180e-03</td>\n",
       "      <td>1.117318e-02</td>\n",
       "      <td>1.441242e-02</td>\n",
       "      <td>1.559020e-02</td>\n",
       "      <td>3</td>\n",
       "      <td>3.791645</td>\n",
       "    </tr>\n",
       "    <tr>\n",
       "      <th>4</th>\n",
       "      <td>1</td>\n",
       "      <td>5</td>\n",
       "      <td>2.966837</td>\n",
       "      <td>1</td>\n",
       "      <td>-0.24</td>\n",
       "      <td>0.28</td>\n",
       "      <td>-0.37</td>\n",
       "      <td>0.42</td>\n",
       "      <td>0.05</td>\n",
       "      <td>2.220446e-16</td>\n",
       "      <td>...</td>\n",
       "      <td>9.164969e-03</td>\n",
       "      <td>1.630989e-02</td>\n",
       "      <td>6.191950e-03</td>\n",
       "      <td>1.484018e-02</td>\n",
       "      <td>9.195402e-03</td>\n",
       "      <td>6.756757e-03</td>\n",
       "      <td>1.133787e-02</td>\n",
       "      <td>8.073818e-03</td>\n",
       "      <td>3</td>\n",
       "      <td>2.419415</td>\n",
       "    </tr>\n",
       "    <tr>\n",
       "      <th>6</th>\n",
       "      <td>1</td>\n",
       "      <td>7</td>\n",
       "      <td>2.217045</td>\n",
       "      <td>1</td>\n",
       "      <td>0.42</td>\n",
       "      <td>0.36</td>\n",
       "      <td>0.41</td>\n",
       "      <td>0.42</td>\n",
       "      <td>0.83</td>\n",
       "      <td>2.220446e-16</td>\n",
       "      <td>...</td>\n",
       "      <td>2.816901e-02</td>\n",
       "      <td>2.908726e-02</td>\n",
       "      <td>3.313253e-02</td>\n",
       "      <td>1.503759e-02</td>\n",
       "      <td>2.631579e-02</td>\n",
       "      <td>2.376033e-02</td>\n",
       "      <td>2.860061e-02</td>\n",
       "      <td>3.134479e-02</td>\n",
       "      <td>4</td>\n",
       "      <td>4.788649</td>\n",
       "    </tr>\n",
       "    <tr>\n",
       "      <th>8</th>\n",
       "      <td>1</td>\n",
       "      <td>10</td>\n",
       "      <td>2.333577</td>\n",
       "      <td>1</td>\n",
       "      <td>0.22</td>\n",
       "      <td>-0.38</td>\n",
       "      <td>0.03</td>\n",
       "      <td>-0.39</td>\n",
       "      <td>-0.36</td>\n",
       "      <td>2.220446e-16</td>\n",
       "      <td>...</td>\n",
       "      <td>9.137056e-03</td>\n",
       "      <td>1.518219e-02</td>\n",
       "      <td>9.100101e-03</td>\n",
       "      <td>8.009153e-03</td>\n",
       "      <td>4.494382e-03</td>\n",
       "      <td>3.303965e-03</td>\n",
       "      <td>1.088139e-03</td>\n",
       "      <td>6.535948e-03</td>\n",
       "      <td>2</td>\n",
       "      <td>4.129087</td>\n",
       "    </tr>\n",
       "  </tbody>\n",
       "</table>\n",
       "<p>5 rows × 331 columns</p>\n",
       "</div>"
      ],
      "text/plain": [
       "   parcode  trial        rt  resp  act_face_val  act_house_val  val_face  \\\n",
       "0        1      1  8.883308     1          1.32           1.72      1.63   \n",
       "2        1      3  3.716686     1          0.96          -0.68      0.89   \n",
       "4        1      5  2.966837     1         -0.24           0.28     -0.37   \n",
       "6        1      7  2.217045     1          0.42           0.36      0.41   \n",
       "8        1     10  2.333577     1          0.22          -0.38      0.03   \n",
       "\n",
       "   val_house  summed_val  0.01_0.05_0.1    ...     0.093_0.164_0.55  \\\n",
       "0       1.69        3.32   2.220446e-16    ...         2.220446e-16   \n",
       "2      -0.66        0.23   2.220446e-16    ...         1.321138e-02   \n",
       "4       0.42        0.05   2.220446e-16    ...         9.164969e-03   \n",
       "6       0.42        0.83   2.220446e-16    ...         2.816901e-02   \n",
       "8      -0.39       -0.36   2.220446e-16    ...         9.137056e-03   \n",
       "\n",
       "   0.093_0.164_0.775  0.093_0.164_1.0  0.093_0.221_0.1  0.093_0.221_0.325  \\\n",
       "0       2.220446e-16     2.220446e-16     2.220446e-16       2.220446e-16   \n",
       "2       6.085193e-03     1.009082e-02     8.771930e-03       8.869180e-03   \n",
       "4       1.630989e-02     6.191950e-03     1.484018e-02       9.195402e-03   \n",
       "6       2.908726e-02     3.313253e-02     1.503759e-02       2.631579e-02   \n",
       "8       1.518219e-02     9.100101e-03     8.009153e-03       4.494382e-03   \n",
       "\n",
       "   0.093_0.221_0.55  0.093_0.221_0.775  0.093_0.221_1.0  quantile   rt_mean  \n",
       "0      2.220446e-16       2.220446e-16     2.220446e-16         5  3.125534  \n",
       "2      1.117318e-02       1.441242e-02     1.559020e-02         3  3.791645  \n",
       "4      6.756757e-03       1.133787e-02     8.073818e-03         3  2.419415  \n",
       "6      2.376033e-02       2.860061e-02     3.134479e-02         4  4.788649  \n",
       "8      3.303965e-03       1.088139e-03     6.535948e-03         2  4.129087  \n",
       "\n",
       "[5 rows x 331 columns]"
      ]
     },
     "execution_count": 94,
     "metadata": {},
     "output_type": "execute_result"
    }
   ],
   "source": [
    "df_train.head()\n"
   ]
  },
  {
   "cell_type": "code",
   "execution_count": 54,
   "metadata": {
    "collapsed": true,
    "hidden": true
   },
   "outputs": [
    {
     "ename": "TypeError",
     "evalue": "incompatible index of inserted column with frame index",
     "output_type": "error",
     "traceback": [
      "\u001b[0;31m---------------------------------------------------------------------------\u001b[0m",
      "\u001b[0;31mValueError\u001b[0m                                Traceback (most recent call last)",
      "\u001b[0;32m/Users/djw/anaconda/envs/python3/lib/python3.6/site-packages/pandas/core/frame.py\u001b[0m in \u001b[0;36mreindexer\u001b[0;34m(value)\u001b[0m\n\u001b[1;32m   2725\u001b[0m                 \u001b[0;32mtry\u001b[0m\u001b[0;34m:\u001b[0m\u001b[0;34m\u001b[0m\u001b[0m\n\u001b[0;32m-> 2726\u001b[0;31m                     \u001b[0mvalue\u001b[0m \u001b[0;34m=\u001b[0m \u001b[0mvalue\u001b[0m\u001b[0;34m.\u001b[0m\u001b[0mreindex\u001b[0m\u001b[0;34m(\u001b[0m\u001b[0mself\u001b[0m\u001b[0;34m.\u001b[0m\u001b[0mindex\u001b[0m\u001b[0;34m)\u001b[0m\u001b[0;34m.\u001b[0m\u001b[0m_values\u001b[0m\u001b[0;34m\u001b[0m\u001b[0m\n\u001b[0m\u001b[1;32m   2727\u001b[0m                 \u001b[0;32mexcept\u001b[0m \u001b[0mException\u001b[0m \u001b[0;32mas\u001b[0m \u001b[0me\u001b[0m\u001b[0;34m:\u001b[0m\u001b[0;34m\u001b[0m\u001b[0m\n",
      "\u001b[0;32m/Users/djw/anaconda/envs/python3/lib/python3.6/site-packages/pandas/core/series.py\u001b[0m in \u001b[0;36mreindex\u001b[0;34m(self, index, **kwargs)\u001b[0m\n\u001b[1;32m   2639\u001b[0m     \u001b[0;32mdef\u001b[0m \u001b[0mreindex\u001b[0m\u001b[0;34m(\u001b[0m\u001b[0mself\u001b[0m\u001b[0;34m,\u001b[0m \u001b[0mindex\u001b[0m\u001b[0;34m=\u001b[0m\u001b[0;32mNone\u001b[0m\u001b[0;34m,\u001b[0m \u001b[0;34m**\u001b[0m\u001b[0mkwargs\u001b[0m\u001b[0;34m)\u001b[0m\u001b[0;34m:\u001b[0m\u001b[0;34m\u001b[0m\u001b[0m\n\u001b[0;32m-> 2640\u001b[0;31m         \u001b[0;32mreturn\u001b[0m \u001b[0msuper\u001b[0m\u001b[0;34m(\u001b[0m\u001b[0mSeries\u001b[0m\u001b[0;34m,\u001b[0m \u001b[0mself\u001b[0m\u001b[0;34m)\u001b[0m\u001b[0;34m.\u001b[0m\u001b[0mreindex\u001b[0m\u001b[0;34m(\u001b[0m\u001b[0mindex\u001b[0m\u001b[0;34m=\u001b[0m\u001b[0mindex\u001b[0m\u001b[0;34m,\u001b[0m \u001b[0;34m**\u001b[0m\u001b[0mkwargs\u001b[0m\u001b[0;34m)\u001b[0m\u001b[0;34m\u001b[0m\u001b[0m\n\u001b[0m\u001b[1;32m   2641\u001b[0m \u001b[0;34m\u001b[0m\u001b[0m\n",
      "\u001b[0;32m/Users/djw/anaconda/envs/python3/lib/python3.6/site-packages/pandas/core/generic.py\u001b[0m in \u001b[0;36mreindex\u001b[0;34m(self, *args, **kwargs)\u001b[0m\n\u001b[1;32m   3022\u001b[0m         return self._reindex_axes(axes, level, limit, tolerance, method,\n\u001b[0;32m-> 3023\u001b[0;31m                                   fill_value, copy).__finalize__(self)\n\u001b[0m\u001b[1;32m   3024\u001b[0m \u001b[0;34m\u001b[0m\u001b[0m\n",
      "\u001b[0;32m/Users/djw/anaconda/envs/python3/lib/python3.6/site-packages/pandas/core/generic.py\u001b[0m in \u001b[0;36m_reindex_axes\u001b[0;34m(self, axes, level, limit, tolerance, method, fill_value, copy)\u001b[0m\n\u001b[1;32m   3035\u001b[0m             new_index, indexer = ax.reindex(labels, level=level, limit=limit,\n\u001b[0;32m-> 3036\u001b[0;31m                                             tolerance=tolerance, method=method)\n\u001b[0m\u001b[1;32m   3037\u001b[0m \u001b[0;34m\u001b[0m\u001b[0m\n",
      "\u001b[0;32m/Users/djw/anaconda/envs/python3/lib/python3.6/site-packages/pandas/core/indexes/multi.py\u001b[0m in \u001b[0;36mreindex\u001b[0;34m(self, target, method, level, limit, tolerance)\u001b[0m\n\u001b[1;32m   1910\u001b[0m                 \u001b[0;31m# hopefully?\u001b[0m\u001b[0;34m\u001b[0m\u001b[0;34m\u001b[0m\u001b[0m\n\u001b[0;32m-> 1911\u001b[0;31m                 \u001b[0mtarget\u001b[0m \u001b[0;34m=\u001b[0m \u001b[0mMultiIndex\u001b[0m\u001b[0;34m.\u001b[0m\u001b[0mfrom_tuples\u001b[0m\u001b[0;34m(\u001b[0m\u001b[0mtarget\u001b[0m\u001b[0;34m)\u001b[0m\u001b[0;34m\u001b[0m\u001b[0m\n\u001b[0m\u001b[1;32m   1912\u001b[0m \u001b[0;34m\u001b[0m\u001b[0m\n",
      "\u001b[0;32m/Users/djw/anaconda/envs/python3/lib/python3.6/site-packages/pandas/core/indexes/multi.py\u001b[0m in \u001b[0;36mfrom_tuples\u001b[0;34m(cls, tuples, sortorder, names)\u001b[0m\n\u001b[1;32m   1182\u001b[0m \u001b[0;34m\u001b[0m\u001b[0m\n\u001b[0;32m-> 1183\u001b[0;31m             \u001b[0marrays\u001b[0m \u001b[0;34m=\u001b[0m \u001b[0mlist\u001b[0m\u001b[0;34m(\u001b[0m\u001b[0mlib\u001b[0m\u001b[0;34m.\u001b[0m\u001b[0mtuples_to_object_array\u001b[0m\u001b[0;34m(\u001b[0m\u001b[0mtuples\u001b[0m\u001b[0;34m)\u001b[0m\u001b[0;34m.\u001b[0m\u001b[0mT\u001b[0m\u001b[0;34m)\u001b[0m\u001b[0;34m\u001b[0m\u001b[0m\n\u001b[0m\u001b[1;32m   1184\u001b[0m         \u001b[0;32melif\u001b[0m \u001b[0misinstance\u001b[0m\u001b[0;34m(\u001b[0m\u001b[0mtuples\u001b[0m\u001b[0;34m,\u001b[0m \u001b[0mlist\u001b[0m\u001b[0;34m)\u001b[0m\u001b[0;34m:\u001b[0m\u001b[0;34m\u001b[0m\u001b[0m\n",
      "\u001b[0;32mpandas/_libs/src/inference.pyx\u001b[0m in \u001b[0;36mpandas._libs.lib.tuples_to_object_array\u001b[0;34m()\u001b[0m\n",
      "\u001b[0;31mValueError\u001b[0m: Buffer dtype mismatch, expected 'Python object' but got 'long'",
      "\nDuring handling of the above exception, another exception occurred:\n",
      "\u001b[0;31mTypeError\u001b[0m                                 Traceback (most recent call last)",
      "\u001b[0;32m<ipython-input-54-5409b1e247a9>\u001b[0m in \u001b[0;36m<module>\u001b[0;34m()\u001b[0m\n\u001b[1;32m      2\u001b[0m \u001b[0;31m# SEM measure of precision of data\u001b[0m\u001b[0;34m\u001b[0m\u001b[0;34m\u001b[0m\u001b[0m\n\u001b[1;32m      3\u001b[0m \u001b[0;34m\u001b[0m\u001b[0m\n\u001b[0;32m----> 4\u001b[0;31m \u001b[0mdf_train\u001b[0m\u001b[0;34m[\u001b[0m\u001b[0;34m'rt_mean'\u001b[0m\u001b[0;34m]\u001b[0m \u001b[0;34m=\u001b[0m \u001b[0mdf_train\u001b[0m\u001b[0;34m.\u001b[0m\u001b[0mgroupby\u001b[0m\u001b[0;34m(\u001b[0m\u001b[0;34m[\u001b[0m\u001b[0;34m'parcode'\u001b[0m\u001b[0;34m,\u001b[0m \u001b[0;34m'quantile'\u001b[0m\u001b[0;34m]\u001b[0m\u001b[0;34m)\u001b[0m\u001b[0;34m.\u001b[0m\u001b[0mrt\u001b[0m\u001b[0;34m.\u001b[0m\u001b[0mmean\u001b[0m\u001b[0;34m(\u001b[0m\u001b[0;34m)\u001b[0m\u001b[0;34m\u001b[0m\u001b[0m\n\u001b[0m\u001b[1;32m      5\u001b[0m \u001b[0mdf_train\u001b[0m\u001b[0;34m[\u001b[0m\u001b[0;34m'rt_median'\u001b[0m\u001b[0;34m]\u001b[0m \u001b[0;34m=\u001b[0m \u001b[0mdf_train\u001b[0m\u001b[0;34m.\u001b[0m\u001b[0mgroupby\u001b[0m\u001b[0;34m(\u001b[0m\u001b[0;34m[\u001b[0m\u001b[0;34m'parcode'\u001b[0m\u001b[0;34m,\u001b[0m \u001b[0;34m'quantile'\u001b[0m\u001b[0;34m]\u001b[0m\u001b[0;34m)\u001b[0m\u001b[0;34m.\u001b[0m\u001b[0mrt\u001b[0m\u001b[0;34m.\u001b[0m\u001b[0mmedian\u001b[0m\u001b[0;34m(\u001b[0m\u001b[0;34m)\u001b[0m\u001b[0;34m\u001b[0m\u001b[0m\n\u001b[1;32m      6\u001b[0m \u001b[0mdf_train\u001b[0m\u001b[0;34m[\u001b[0m\u001b[0;34m'rt_sd'\u001b[0m\u001b[0;34m]\u001b[0m \u001b[0;34m=\u001b[0m \u001b[0mdf_train\u001b[0m\u001b[0;34m.\u001b[0m\u001b[0mgroupby\u001b[0m\u001b[0;34m(\u001b[0m\u001b[0;34m[\u001b[0m\u001b[0;34m'parcode'\u001b[0m\u001b[0;34m,\u001b[0m \u001b[0;34m'quantile'\u001b[0m\u001b[0;34m]\u001b[0m\u001b[0;34m)\u001b[0m\u001b[0;34m.\u001b[0m\u001b[0mrt\u001b[0m\u001b[0;34m.\u001b[0m\u001b[0mstd\u001b[0m\u001b[0;34m(\u001b[0m\u001b[0;34m)\u001b[0m\u001b[0;34m\u001b[0m\u001b[0m\n",
      "\u001b[0;32m/Users/djw/anaconda/envs/python3/lib/python3.6/site-packages/pandas/core/frame.py\u001b[0m in \u001b[0;36m__setitem__\u001b[0;34m(self, key, value)\u001b[0m\n\u001b[1;32m   2517\u001b[0m         \u001b[0;32melse\u001b[0m\u001b[0;34m:\u001b[0m\u001b[0;34m\u001b[0m\u001b[0m\n\u001b[1;32m   2518\u001b[0m             \u001b[0;31m# set column\u001b[0m\u001b[0;34m\u001b[0m\u001b[0;34m\u001b[0m\u001b[0m\n\u001b[0;32m-> 2519\u001b[0;31m             \u001b[0mself\u001b[0m\u001b[0;34m.\u001b[0m\u001b[0m_set_item\u001b[0m\u001b[0;34m(\u001b[0m\u001b[0mkey\u001b[0m\u001b[0;34m,\u001b[0m \u001b[0mvalue\u001b[0m\u001b[0;34m)\u001b[0m\u001b[0;34m\u001b[0m\u001b[0m\n\u001b[0m\u001b[1;32m   2520\u001b[0m \u001b[0;34m\u001b[0m\u001b[0m\n\u001b[1;32m   2521\u001b[0m     \u001b[0;32mdef\u001b[0m \u001b[0m_setitem_slice\u001b[0m\u001b[0;34m(\u001b[0m\u001b[0mself\u001b[0m\u001b[0;34m,\u001b[0m \u001b[0mkey\u001b[0m\u001b[0;34m,\u001b[0m \u001b[0mvalue\u001b[0m\u001b[0;34m)\u001b[0m\u001b[0;34m:\u001b[0m\u001b[0;34m\u001b[0m\u001b[0m\n",
      "\u001b[0;32m/Users/djw/anaconda/envs/python3/lib/python3.6/site-packages/pandas/core/frame.py\u001b[0m in \u001b[0;36m_set_item\u001b[0;34m(self, key, value)\u001b[0m\n\u001b[1;32m   2583\u001b[0m \u001b[0;34m\u001b[0m\u001b[0m\n\u001b[1;32m   2584\u001b[0m         \u001b[0mself\u001b[0m\u001b[0;34m.\u001b[0m\u001b[0m_ensure_valid_index\u001b[0m\u001b[0;34m(\u001b[0m\u001b[0mvalue\u001b[0m\u001b[0;34m)\u001b[0m\u001b[0;34m\u001b[0m\u001b[0m\n\u001b[0;32m-> 2585\u001b[0;31m         \u001b[0mvalue\u001b[0m \u001b[0;34m=\u001b[0m \u001b[0mself\u001b[0m\u001b[0;34m.\u001b[0m\u001b[0m_sanitize_column\u001b[0m\u001b[0;34m(\u001b[0m\u001b[0mkey\u001b[0m\u001b[0;34m,\u001b[0m \u001b[0mvalue\u001b[0m\u001b[0;34m)\u001b[0m\u001b[0;34m\u001b[0m\u001b[0m\n\u001b[0m\u001b[1;32m   2586\u001b[0m         \u001b[0mNDFrame\u001b[0m\u001b[0;34m.\u001b[0m\u001b[0m_set_item\u001b[0m\u001b[0;34m(\u001b[0m\u001b[0mself\u001b[0m\u001b[0;34m,\u001b[0m \u001b[0mkey\u001b[0m\u001b[0;34m,\u001b[0m \u001b[0mvalue\u001b[0m\u001b[0;34m)\u001b[0m\u001b[0;34m\u001b[0m\u001b[0m\n\u001b[1;32m   2587\u001b[0m \u001b[0;34m\u001b[0m\u001b[0m\n",
      "\u001b[0;32m/Users/djw/anaconda/envs/python3/lib/python3.6/site-packages/pandas/core/frame.py\u001b[0m in \u001b[0;36m_sanitize_column\u001b[0;34m(self, key, value, broadcast)\u001b[0m\n\u001b[1;32m   2737\u001b[0m \u001b[0;34m\u001b[0m\u001b[0m\n\u001b[1;32m   2738\u001b[0m         \u001b[0;32mif\u001b[0m \u001b[0misinstance\u001b[0m\u001b[0;34m(\u001b[0m\u001b[0mvalue\u001b[0m\u001b[0;34m,\u001b[0m \u001b[0mSeries\u001b[0m\u001b[0;34m)\u001b[0m\u001b[0;34m:\u001b[0m\u001b[0;34m\u001b[0m\u001b[0m\n\u001b[0;32m-> 2739\u001b[0;31m             \u001b[0mvalue\u001b[0m \u001b[0;34m=\u001b[0m \u001b[0mreindexer\u001b[0m\u001b[0;34m(\u001b[0m\u001b[0mvalue\u001b[0m\u001b[0;34m)\u001b[0m\u001b[0;34m\u001b[0m\u001b[0m\n\u001b[0m\u001b[1;32m   2740\u001b[0m \u001b[0;34m\u001b[0m\u001b[0m\n\u001b[1;32m   2741\u001b[0m         \u001b[0;32melif\u001b[0m \u001b[0misinstance\u001b[0m\u001b[0;34m(\u001b[0m\u001b[0mvalue\u001b[0m\u001b[0;34m,\u001b[0m \u001b[0mDataFrame\u001b[0m\u001b[0;34m)\u001b[0m\u001b[0;34m:\u001b[0m\u001b[0;34m\u001b[0m\u001b[0m\n",
      "\u001b[0;32m/Users/djw/anaconda/envs/python3/lib/python3.6/site-packages/pandas/core/frame.py\u001b[0m in \u001b[0;36mreindexer\u001b[0;34m(value)\u001b[0m\n\u001b[1;32m   2732\u001b[0m \u001b[0;34m\u001b[0m\u001b[0m\n\u001b[1;32m   2733\u001b[0m                     \u001b[0;31m# other\u001b[0m\u001b[0;34m\u001b[0m\u001b[0;34m\u001b[0m\u001b[0m\n\u001b[0;32m-> 2734\u001b[0;31m                     raise TypeError('incompatible index of inserted column '\n\u001b[0m\u001b[1;32m   2735\u001b[0m                                     'with frame index')\n\u001b[1;32m   2736\u001b[0m             \u001b[0;32mreturn\u001b[0m \u001b[0mvalue\u001b[0m\u001b[0;34m\u001b[0m\u001b[0m\n",
      "\u001b[0;31mTypeError\u001b[0m: incompatible index of inserted column with frame index"
     ]
    }
   ],
   "source": [
    "# SD measure of variability of data\n",
    "# SEM measure of precision of data\n",
    "\n",
    "df_train['rt_mean'] = df_train.groupby(['parcode', 'quantile']).rt.mean()\n",
    "df_train['rt_median'] = df_train.groupby(['parcode', 'quantile']).rt.median()\n",
    "df_train['rt_sd'] = df_train.groupby(['parcode', 'quantile']).rt.std()\n",
    "df_train['rt_sem'] = df_train.groupby(['parcode', 'quantile']).rt.sem() \n",
    " \n",
    "df_train.head()\n"
   ]
  },
  {
   "cell_type": "markdown",
   "metadata": {
    "hidden": true
   },
   "source": [
    "### RT comparison"
   ]
  },
  {
   "cell_type": "markdown",
   "metadata": {
    "hidden": true
   },
   "source": [
    "Calculate means for quantiles"
   ]
  },
  {
   "cell_type": "code",
   "execution_count": 129,
   "metadata": {
    "collapsed": true,
    "hidden": true
   },
   "outputs": [],
   "source": [
    "group_train_rt_bin_means = [group_train[0].rt[group_train[0]['quantile'] == i].mean() for i in range(1, len(bins))]\n",
    "sim_params_rt_bin_means = [sims_dict[267].rt[sims_dict[267]['quantile'] == i].mean() for i in range(1, len(bins))]\n",
    "\n",
    "group_train_rt_sem_bin_means = [stats.sem(group_train[0].rt[group_train[0]['quantile'] == i]) for i in range(1, len(bins))]\n",
    "sim_params_rt_sem_bin_means = [stats.sem(sims_dict[267].rt[sims_dict[267]['quantile'] == i]) for i in range(1, len(bins))]"
   ]
  },
  {
   "cell_type": "code",
   "execution_count": 130,
   "metadata": {
    "hidden": true
   },
   "outputs": [
    {
     "name": "stdout",
     "output_type": "stream",
     "text": [
      "RT comparisons\n"
     ]
    },
    {
     "data": {
      "image/png": "[encoded data removed]",
      "text/plain": [
       "<matplotlib.figure.Figure at 0x1aba248518>"
      ]
     },
     "metadata": {},
     "output_type": "display_data"
    }
   ],
   "source": [
    "N = 5               # Number of quantiles \n",
    "\n",
    "ind = np.arange(N)  # the x locations for the groups\n",
    "width = 0.25        # the width of the bars\n",
    "\n",
    "# Plot group data\n",
    "fig, ax = plt.subplots(figsize=(14, 7))\n",
    "rects1 = ax.bar(ind, group_train_rt_bin_means, width, color='r', yerr=group_train_rt_sem_bin_means)\n",
    "\n",
    "# Plot sim data\n",
    "rects2 = ax.bar(ind + width, sim_params_rt_bin_means, width, color='y', yerr=sim_params_rt_sem_bin_means)\n",
    "\n",
    "# add some text for labels, title and axes ticks\n",
    "ax.set_ylabel('RT')\n",
    "ax.set_title('RT by Net Value')\n",
    "ax.set_xticks(ind + width / 2)\n",
    "ax.set_xticklabels(('[-4,-0.9)', '[-0.9, -0.25)', '[-0.25, 0.25)', '[0.25, 0.9)', '[0.9, 4]'))\n",
    "\n",
    "ax.legend((rects1[0], rects2[0]), ('Group Data', 'Sim Data'))\n",
    "\n",
    "print('RT comparisons')\n"
   ]
  },
  {
   "cell_type": "markdown",
   "metadata": {
    "hidden": true
   },
   "source": [
    "### Choice Comparison"
   ]
  },
  {
   "cell_type": "code",
   "execution_count": 122,
   "metadata": {
    "collapsed": true,
    "hidden": true
   },
   "outputs": [],
   "source": [
    "group_train_choice_bin_means = [group_train[0].resp[group_train[0]['quantile'] == i].mean() for i in range(1, len(bins))]\n",
    "sim_params_choice_bin_means = [sims_dict[267].resp[sims_dict[267]['quantile'] == i].mean() for i in range(1, len(bins))]\n",
    "\n",
    "group_train_choice_sem_bin_means = [stats.sem(group_train[0].resp[group_train[0]['quantile'] == i]) for i in range(1, len(bins))]\n",
    "sim_params_choice_sem_bin_means = [stats.sem(sims_dict[267].resp[sims_dict[267]['quantile'] == i]) for i in range(1, len(bins))]"
   ]
  },
  {
   "cell_type": "code",
   "execution_count": 123,
   "metadata": {
    "hidden": true
   },
   "outputs": [
    {
     "data": {
      "text/plain": [
       "[0.0089513283380584802,\n",
       " 0.01633099438974411,\n",
       " 0.016268948090273093,\n",
       " 0.014222407684218284,\n",
       " 0.0089412640531221117]"
      ]
     },
     "execution_count": 123,
     "metadata": {},
     "output_type": "execute_result"
    }
   ],
   "source": [
    "group_train_choice_sem_bin_means\n"
   ]
  },
  {
   "cell_type": "code",
   "execution_count": 127,
   "metadata": {
    "hidden": true
   },
   "outputs": [
    {
     "name": "stdout",
     "output_type": "stream",
     "text": [
      "P(accept) comparisons\n"
     ]
    },
    {
     "data": {
      "image/png": "[encoded data removed]",
      "text/plain": [
       "<matplotlib.figure.Figure at 0x1a133671d0>"
      ]
     },
     "metadata": {},
     "output_type": "display_data"
    }
   ],
   "source": [
    "N = 5               # Number of quantiles \n",
    "\n",
    "ind = np.arange(N)  # the x locations for the groups\n",
    "width = 0.25        # the width of the bars\n",
    "\n",
    "# Plot group data\n",
    "fig, ax = plt.subplots(figsize=(14, 7))\n",
    "rects1 = ax.bar(ind, group_train_choice_bin_means, width, color='r', yerr=group_train_choice_sem_bin_means)\n",
    "\n",
    "# Plot sim data\n",
    "rects2 = ax.bar(ind + width, sim_params_choice_bin_means, width, color='y', yerr=sim_params_choice_sem_bin_means)\n",
    "\n",
    "# add some text for labels, title and axes ticks\n",
    "ax.set_ylabel('P(accept)')\n",
    "ax.set_title('P(accept) by Net Value')\n",
    "ax.set_xlabel('Binned Values')\n",
    "ax.set_xticks(ind + width / 2)\n",
    "ax.set_xticklabels(('[-4,-0.9)', '[-0.9, -0.25)', '[-0.25, 0.25)', '[0.25, 0.9)', '[0.9, 4]'))\n",
    "\n",
    "ax.legend((rects1[0], rects2[0]), ('Group Data', 'Sim Data'))\n",
    "\n",
    "print('P(accept) comparisons')\n"
   ]
  },
  {
   "cell_type": "markdown",
   "metadata": {
    "heading_collapsed": true
   },
   "source": [
    "## Subject"
   ]
  },
  {
   "cell_type": "markdown",
   "metadata": {
    "hidden": true
   },
   "source": [
    "CONVERT from dict into single dataframe"
   ]
  },
  {
   "cell_type": "code",
   "execution_count": null,
   "metadata": {
    "collapsed": true,
    "hidden": true
   },
   "outputs": [],
   "source": [
    "for subject in individual_test_sims.keys():\n",
    "    if subject == 0:\n",
    "        subjects = pd.DataFrame.from_dict(individual_test_sims[subject])\n",
    "    else:\n",
    "        x = pd.DataFrame.from_dict(individual_test_sims[subject])\n",
    "        subjects = pd.concat([subjects, x])\n",
    "        "
   ]
  },
  {
   "cell_type": "code",
   "execution_count": 179,
   "metadata": {
    "hidden": true,
    "scrolled": true
   },
   "outputs": [
    {
     "data": {
      "text/html": [
       "<div>\n",
       "<style scoped>\n",
       "    .dataframe tbody tr th:only-of-type {\n",
       "        vertical-align: middle;\n",
       "    }\n",
       "\n",
       "    .dataframe tbody tr th {\n",
       "        vertical-align: top;\n",
       "    }\n",
       "\n",
       "    .dataframe thead th {\n",
       "        text-align: right;\n",
       "    }\n",
       "</style>\n",
       "<table border=\"1\" class=\"dataframe\">\n",
       "  <thead>\n",
       "    <tr style=\"text-align: right;\">\n",
       "      <th></th>\n",
       "      <th>parcode</th>\n",
       "      <th>trial</th>\n",
       "      <th>rt</th>\n",
       "      <th>resp</th>\n",
       "      <th>act_face_val</th>\n",
       "      <th>act_house_val</th>\n",
       "      <th>val_face</th>\n",
       "      <th>val_house</th>\n",
       "      <th>summed_val</th>\n",
       "      <th>first_fix</th>\n",
       "      <th>subject</th>\n",
       "      <th>est_scaling</th>\n",
       "      <th>est_boundary</th>\n",
       "      <th>est_theta</th>\n",
       "      <th>sim_rt</th>\n",
       "      <th>sim_resp</th>\n",
       "      <th>sim_drift_left</th>\n",
       "      <th>sim_drift_right</th>\n",
       "      <th>quantile</th>\n",
       "    </tr>\n",
       "  </thead>\n",
       "  <tbody>\n",
       "    <tr>\n",
       "      <th>0</th>\n",
       "      <td>1</td>\n",
       "      <td>1</td>\n",
       "      <td>8.883308</td>\n",
       "      <td>1.0</td>\n",
       "      <td>1.32</td>\n",
       "      <td>1.72</td>\n",
       "      <td>1.63</td>\n",
       "      <td>1.69</td>\n",
       "      <td>3.32</td>\n",
       "      <td>1</td>\n",
       "      <td>0</td>\n",
       "      <td>0.093</td>\n",
       "      <td>0.221</td>\n",
       "      <td>0.325</td>\n",
       "      <td>2.760</td>\n",
       "      <td>1.0</td>\n",
       "      <td>0.20267</td>\n",
       "      <td>0.206437</td>\n",
       "      <td>7</td>\n",
       "    </tr>\n",
       "    <tr>\n",
       "      <th>1</th>\n",
       "      <td>1</td>\n",
       "      <td>1</td>\n",
       "      <td>8.883308</td>\n",
       "      <td>1.0</td>\n",
       "      <td>1.32</td>\n",
       "      <td>1.72</td>\n",
       "      <td>1.63</td>\n",
       "      <td>1.69</td>\n",
       "      <td>3.32</td>\n",
       "      <td>1</td>\n",
       "      <td>0</td>\n",
       "      <td>0.093</td>\n",
       "      <td>0.221</td>\n",
       "      <td>0.325</td>\n",
       "      <td>1.705</td>\n",
       "      <td>1.0</td>\n",
       "      <td>0.20267</td>\n",
       "      <td>0.206437</td>\n",
       "      <td>7</td>\n",
       "    </tr>\n",
       "    <tr>\n",
       "      <th>2</th>\n",
       "      <td>1</td>\n",
       "      <td>1</td>\n",
       "      <td>8.883308</td>\n",
       "      <td>1.0</td>\n",
       "      <td>1.32</td>\n",
       "      <td>1.72</td>\n",
       "      <td>1.63</td>\n",
       "      <td>1.69</td>\n",
       "      <td>3.32</td>\n",
       "      <td>1</td>\n",
       "      <td>0</td>\n",
       "      <td>0.093</td>\n",
       "      <td>0.221</td>\n",
       "      <td>0.325</td>\n",
       "      <td>1.252</td>\n",
       "      <td>1.0</td>\n",
       "      <td>0.20267</td>\n",
       "      <td>0.206437</td>\n",
       "      <td>7</td>\n",
       "    </tr>\n",
       "    <tr>\n",
       "      <th>3</th>\n",
       "      <td>1</td>\n",
       "      <td>1</td>\n",
       "      <td>8.883308</td>\n",
       "      <td>1.0</td>\n",
       "      <td>1.32</td>\n",
       "      <td>1.72</td>\n",
       "      <td>1.63</td>\n",
       "      <td>1.69</td>\n",
       "      <td>3.32</td>\n",
       "      <td>1</td>\n",
       "      <td>0</td>\n",
       "      <td>0.093</td>\n",
       "      <td>0.221</td>\n",
       "      <td>0.325</td>\n",
       "      <td>1.414</td>\n",
       "      <td>1.0</td>\n",
       "      <td>0.20267</td>\n",
       "      <td>0.206437</td>\n",
       "      <td>7</td>\n",
       "    </tr>\n",
       "    <tr>\n",
       "      <th>4</th>\n",
       "      <td>1</td>\n",
       "      <td>1</td>\n",
       "      <td>8.883308</td>\n",
       "      <td>1.0</td>\n",
       "      <td>1.32</td>\n",
       "      <td>1.72</td>\n",
       "      <td>1.63</td>\n",
       "      <td>1.69</td>\n",
       "      <td>3.32</td>\n",
       "      <td>1</td>\n",
       "      <td>0</td>\n",
       "      <td>0.093</td>\n",
       "      <td>0.221</td>\n",
       "      <td>0.325</td>\n",
       "      <td>1.395</td>\n",
       "      <td>1.0</td>\n",
       "      <td>0.20267</td>\n",
       "      <td>0.206437</td>\n",
       "      <td>7</td>\n",
       "    </tr>\n",
       "  </tbody>\n",
       "</table>\n",
       "</div>"
      ],
      "text/plain": [
       "   parcode  trial        rt  resp  act_face_val  act_house_val  val_face  \\\n",
       "0        1      1  8.883308   1.0          1.32           1.72      1.63   \n",
       "1        1      1  8.883308   1.0          1.32           1.72      1.63   \n",
       "2        1      1  8.883308   1.0          1.32           1.72      1.63   \n",
       "3        1      1  8.883308   1.0          1.32           1.72      1.63   \n",
       "4        1      1  8.883308   1.0          1.32           1.72      1.63   \n",
       "\n",
       "   val_house  summed_val  first_fix  subject  est_scaling  est_boundary  \\\n",
       "0       1.69        3.32          1        0        0.093         0.221   \n",
       "1       1.69        3.32          1        0        0.093         0.221   \n",
       "2       1.69        3.32          1        0        0.093         0.221   \n",
       "3       1.69        3.32          1        0        0.093         0.221   \n",
       "4       1.69        3.32          1        0        0.093         0.221   \n",
       "\n",
       "   est_theta  sim_rt  sim_resp  sim_drift_left  sim_drift_right  quantile  \n",
       "0      0.325   2.760       1.0         0.20267         0.206437         7  \n",
       "1      0.325   1.705       1.0         0.20267         0.206437         7  \n",
       "2      0.325   1.252       1.0         0.20267         0.206437         7  \n",
       "3      0.325   1.414       1.0         0.20267         0.206437         7  \n",
       "4      0.325   1.395       1.0         0.20267         0.206437         7  "
      ]
     },
     "execution_count": 179,
     "metadata": {},
     "output_type": "execute_result"
    }
   ],
   "source": [
    "subjects.head()\n"
   ]
  },
  {
   "cell_type": "code",
   "execution_count": 399,
   "metadata": {
    "collapsed": true,
    "hidden": true
   },
   "outputs": [],
   "source": [
    "# save subjects and test_data and subj_params_df\n",
    "output_filepath = 'outputs/2017-11-30/test/'\n",
    "\n",
    "pickle_out = open(output_filepath + \"sim_subjects.pickle\",\"wb\")\n",
    "pickle.dump(subjects, pickle_out)\n",
    "pickle_out.close()\n",
    "\n",
    "pickle_out = open(output_filepath + \"test_data.pickle\",\"wb\")\n",
    "pickle.dump(test_data, pickle_out)\n",
    "pickle_out.close()\n",
    "\n",
    "pickle_out = open(output_filepath + \"subj_params_df.pickle\",\"wb\")\n",
    "pickle.dump(subj_params_df, pickle_out)\n",
    "pickle_out.close()\n"
   ]
  },
  {
   "cell_type": "code",
   "execution_count": 6,
   "metadata": {
    "collapsed": true,
    "hidden": true
   },
   "outputs": [],
   "source": [
    "# load files for plotting\n",
    "path_to_file = \"outputs/2017-11-30/test/sim_subjects.pickle\"\n",
    "subjects = utils_addm.pickle_read(path_to_file)\n",
    "\n",
    "path_to_file = \"outputs/2017-11-30/test/test_data.pickle\"\n",
    "test_expdata = utils_addm.pickle_read(path_to_file)\n",
    "\n",
    "path_to_file = \"outputs/2017-11-30/test/subj_params_df.pickle\"\n",
    "subj_params_df = utils_addm.pickle_read(path_to_file)\n"
   ]
  },
  {
   "cell_type": "code",
   "execution_count": 8,
   "metadata": {
    "collapsed": true,
    "hidden": true
   },
   "outputs": [
    {
     "name": "stderr",
     "output_type": "stream",
     "text": [
      "/Users/djw/anaconda/envs/python3/lib/python3.6/site-packages/ipykernel/__main__.py:13: SettingWithCopyWarning: \n",
      "A value is trying to be set on a copy of a slice from a DataFrame\n",
      "\n",
      "See the caveats in the documentation: http://pandas.pydata.org/pandas-docs/stable/indexing.html#indexing-view-versus-copy\n",
      "/Users/djw/anaconda/envs/python3/lib/python3.6/site-packages/ipykernel/__main__.py:14: SettingWithCopyWarning: \n",
      "A value is trying to be set on a copy of a slice from a DataFrame\n",
      "\n",
      "See the caveats in the documentation: http://pandas.pydata.org/pandas-docs/stable/indexing.html#indexing-view-versus-copy\n",
      "/Users/djw/anaconda/envs/python3/lib/python3.6/site-packages/ipykernel/__main__.py:15: SettingWithCopyWarning: \n",
      "A value is trying to be set on a copy of a slice from a DataFrame\n",
      "\n",
      "See the caveats in the documentation: http://pandas.pydata.org/pandas-docs/stable/indexing.html#indexing-view-versus-copy\n"
     ]
    }
   ],
   "source": [
    "test_data = test_expdata\n",
    "# Create the variables (summed value) that we are using for our quantiles\n",
    "x = subjects.summed_val\n",
    "x1 = test_data.summed_val\n",
    "\n",
    "# Define quantiles - bins are [a, b) \n",
    "bins = np.array([-4, -1., -0.5, -0.15, 0.15, 0.5, 1., 4])\n",
    "\n",
    "# Create column which indicates quantile of row\n",
    "subjects['quantile'] = np.digitize(x, bins)\n",
    "test_data['quantile'] = np.digitize(x1, bins)\n",
    "# recode -1 response (reject) as 0 for probability of acceptance calculation\n",
    "subjects.resp[subjects.resp == -1.] = 0\n",
    "subjects.sim_resp[subjects.sim_resp == -1.] = 0\n",
    "test_data.resp[test_data.resp == -1.] = 0\n"
   ]
  },
  {
   "cell_type": "code",
   "execution_count": 9,
   "metadata": {
    "collapsed": true,
    "hidden": true
   },
   "outputs": [],
   "source": [
    "test_rt_stats = pd.DataFrame(test_data.groupby(['subject', 'quantile']).rt.agg(['mean', 'median', 'std', 'sem']))\n",
    "test_choice_stats = pd.DataFrame(test_data.groupby(['subject', 'quantile']).resp.agg(['mean', 'std', 'sem']))\n",
    "\n",
    "sim_rt_stats = pd.DataFrame(subjects.groupby(['subject', 'quantile']).sim_rt.agg(['mean', 'median', 'std', 'sem']))\n",
    "sim_choice_stats = pd.DataFrame(subjects.groupby(['subject', 'quantile']).sim_resp.agg(['mean', 'std', 'sem']))\n",
    "\n",
    "summed_val_sim = pd.DataFrame(subjects.groupby(['subject', 'quantile']).summed_val.agg(['mean']))\n",
    "summed_val_test = pd.DataFrame(test_data.groupby(['subject', 'quantile']).summed_val.agg(['mean']))\n"
   ]
  },
  {
   "cell_type": "code",
   "execution_count": 10,
   "metadata": {
    "collapsed": true,
    "hidden": true
   },
   "outputs": [],
   "source": [
    "test_rt_stats.rename(index=str, columns={\"mean\": \"test_rt_mean\", \"median\": \"test_rt_median\", \"std\": \"test_rt_std\", \"sem\": \"test_rt_sem\"}, inplace=True)\n",
    "test_choice_stats.rename(index=str, columns={\"mean\": \"test_choice_mean\", \"median\": \"test_choice_median\", \"std\": \"test_choice_std\", \"sem\": \"test_choice_sem\"}, inplace=True)\n",
    "\n",
    "sim_rt_stats.rename(index=str, columns={\"mean\": \"sim_rt_mean\", \"median\": \"sim_rt_median\", \"std\": \"sim_rt_std\", \"sem\": \"sim_rt_sem\"}, inplace=True)\n",
    "sim_choice_stats.rename(index=str, columns={\"mean\": \"sim_choice_mean\", \"median\": \"sim_choice_median\", \"std\": \"sim_choice_std\", \"sem\": \"sim_choice_sem\"}, inplace=True)\n",
    "\n",
    "summed_val_test.rename(index=str, columns={\"mean\": \"summed_val_mean\"}, inplace=True)\n",
    "summed_val_sim.rename(index=str, columns={\"mean\": \"summed_val_mean\"}, inplace=True)"
   ]
  },
  {
   "cell_type": "code",
   "execution_count": 11,
   "metadata": {
    "collapsed": true,
    "hidden": true
   },
   "outputs": [],
   "source": [
    "# merge rt and choice stats\n",
    "test_quantized_subj_stats = pd.concat([test_rt_stats, test_choice_stats, summed_val_test], axis = 1)\n",
    "sim_quantized_subj_stats = pd.concat([sim_rt_stats, sim_choice_stats, summed_val_test], axis = 1)\n"
   ]
  },
  {
   "cell_type": "markdown",
   "metadata": {
    "hidden": true
   },
   "source": [
    "LIST SUBJECTS"
   ]
  },
  {
   "cell_type": "code",
   "execution_count": 12,
   "metadata": {
    "hidden": true
   },
   "outputs": [
    {
     "data": {
      "text/plain": [
       "array([ 0,  1,  2,  3,  4,  5,  6,  7,  8,  9, 10, 11, 12, 13, 14, 15, 16,\n",
       "       17, 18, 19, 20, 21, 22], dtype=uint8)"
      ]
     },
     "execution_count": 12,
     "metadata": {},
     "output_type": "execute_result"
    }
   ],
   "source": [
    "np.unique(subjects.subject)\n"
   ]
  },
  {
   "cell_type": "code",
   "execution_count": 33,
   "metadata": {
    "collapsed": true,
    "hidden": true
   },
   "outputs": [],
   "source": [
    "subject = str(7)\n",
    "\n",
    "# RTs\n",
    "# Test\n",
    "test_rt_means = test_quantized_subj_stats.loc[subject, 'test_rt_mean']\n",
    "test_rt_sems = test_quantized_subj_stats.loc[subject, 'test_rt_sem']\n",
    "# Sim\n",
    "sim_rt_means = sim_quantized_subj_stats.loc[subject, 'sim_rt_mean']\n",
    "sim_rt_sems = sim_quantized_subj_stats.loc[subject, 'sim_rt_sem']\n",
    "\n",
    "# Choices\n",
    "# Test\n",
    "test_choice_means = test_quantized_subj_stats.loc[subject, 'test_choice_mean']\n",
    "test_choice_sems = test_quantized_subj_stats.loc[subject, 'test_choice_sem']\n",
    "# Sim\n",
    "sim_choice_means = sim_quantized_subj_stats.loc[subject, 'sim_choice_mean']\n",
    "sim_choice_sems = sim_quantized_subj_stats.loc[subject, 'sim_choice_sem']\n"
   ]
  },
  {
   "cell_type": "code",
   "execution_count": 34,
   "metadata": {
    "collapsed": true,
    "hidden": true
   },
   "outputs": [],
   "source": [
    "v = str(round(np.mean(test_data.est_scaling[test_data.subject == int(subject)]), 3))\n",
    "a = str(round(np.mean(test_data.est_boundary[test_data.subject == int(subject)]), 3))\n",
    "t = str(round(np.mean(test_data.est_theta[test_data.subject == int(subject)]), 3))\n",
    "mle = subj_params_df.loc[int(subject), 'MLE']\n"
   ]
  },
  {
   "cell_type": "code",
   "execution_count": 35,
   "metadata": {
    "collapsed": true,
    "hidden": true
   },
   "outputs": [],
   "source": [
    "title_size = 16\n",
    "label_size = 14\n",
    "legend_size = 12\n"
   ]
  },
  {
   "cell_type": "code",
   "execution_count": 36,
   "metadata": {
    "hidden": true,
    "scrolled": false
   },
   "outputs": [
    {
     "name": "stdout",
     "output_type": "stream",
     "text": [
      "RT comparisons\n"
     ]
    },
    {
     "data": {
      "image/png": "[encoded data removed]",
      "text/plain": [
       "<matplotlib.figure.Figure at 0x1a12892710>"
      ]
     },
     "metadata": {},
     "output_type": "display_data"
    }
   ],
   "source": [
    "N = 7               # Number of quantiles \n",
    "\n",
    "ind = np.arange(N)  # the x locations for the groups\n",
    "width = 0.25         # the width of the bars\n",
    "\n",
    "# Plot test data\n",
    "fig, ax = plt.subplots(figsize=(14, 7))\n",
    "rects1 = ax.bar(ind, test_rt_means, width, color='r', yerr=test_rt_sems)\n",
    "\n",
    "# Plot sim data\n",
    "rects2 = ax.bar(ind + width, sim_rt_means, width, color='y', yerr=sim_rt_sems)\n",
    "\n",
    "# add some text for labels, title and axes ticks\n",
    "ax.set_ylabel('RT', fontsize=label_size)\n",
    "ax.set_xlabel('Net Value (binned)', fontsize=label_size)\n",
    "ax.set_title('SUBJECT: ' + subject +\n",
    "             '\\nPARAMETERS: v: ' + str(v) +\n",
    "             ' a: ' + str(a) +\n",
    "             ' θ: ' + str(t) +\n",
    "             '\\nMLE fit: ' + str(mle) + '\\n',\n",
    "             fontsize=title_size\n",
    "            )\n",
    "ax.set_xticks(ind + width / 2)\n",
    "ax.set_xticklabels(('[-4,-1)', '[-1, -0.5)', '[-0.5, -0.15)', '[-0.15, 0.15)', '[0.15, 0.5)', '[0.5, 1)', '[1, 4]'))\n",
    "\n",
    "ax.legend((rects1[0], rects2[0]), ('Test Data', 'Sim Data'), fontsize = legend_size)\n",
    "\n",
    "print('RT comparisons')\n"
   ]
  },
  {
   "cell_type": "code",
   "execution_count": 37,
   "metadata": {
    "hidden": true
   },
   "outputs": [
    {
     "name": "stdout",
     "output_type": "stream",
     "text": [
      "p(accept) comparisons\n"
     ]
    },
    {
     "data": {
      "image/png": "[encoded data removed]",
      "text/plain": [
       "<matplotlib.figure.Figure at 0x1a1ca35780>"
      ]
     },
     "metadata": {},
     "output_type": "display_data"
    }
   ],
   "source": [
    "N = 7               # Number of quantiles \n",
    "\n",
    "ind = np.arange(N)  # the x locations for the groups\n",
    "width = 0.2         # the width of the bars\n",
    "\n",
    "# Plot test data\n",
    "fig, ax = plt.subplots(figsize=(14, 7))\n",
    "rects1 = ax.bar(ind, test_choice_means, width, color='r', yerr=test_choice_sems)\n",
    "\n",
    "# Plot sim data\n",
    "rects2 = ax.bar(ind + width, sim_choice_means, width, color='y', yerr=sim_choice_sems)\n",
    "\n",
    "# add some text for labels, title and axes ticks\n",
    "ax.set_ylabel('p(accept)', fontsize=label_size)\n",
    "ax.set_xlabel('Net Value (binned)', fontsize=label_size)\n",
    "ax.set_title('SUBJECT: ' + subject +\n",
    "             '\\nPARAMETERS: v: ' + str(v) +\n",
    "             ' a: ' + str(a) +\n",
    "             ' θ: ' + str(t) +\n",
    "             '\\nMLE fit: ' + str(mle) + '\\n',\n",
    "             fontsize=title_size\n",
    "            )\n",
    "ax.set_xticks(ind + width / 2)\n",
    "ax.set_xticklabels(('[-4,-1)', '[-1, -0.5)', '[-0.5, -0.15)', '[-0.15, 0.15)', '[0.15, 0.5)', '[0.5, 1)', '[1, 4]'))\n",
    "\n",
    "ax.legend((rects1[0], rects2[0]), ('Test Data', 'Sim Data'), fontsize=legend_size)\n",
    "\n",
    "print('p(accept) comparisons')\n"
   ]
  },
  {
   "cell_type": "code",
   "execution_count": null,
   "metadata": {
    "collapsed": true,
    "hidden": true
   },
   "outputs": [],
   "source": [
    "\n"
   ]
  }
 ],
 "metadata": {
  "anaconda-cloud": {},
  "kernelspec": {
   "display_name": "Python [conda env:python3]",
   "language": "python",
   "name": "conda-env-python3-py"
  },
  "language_info": {
   "codemirror_mode": {
    "name": "ipython",
    "version": 3
   },
   "file_extension": ".py",
   "mimetype": "text/x-python",
   "name": "python",
   "nbconvert_exporter": "python",
   "pygments_lexer": "ipython3",
   "version": "3.6.1"
  },
  "toc": {
   "colors": {
    "hover_highlight": "#DAA520",
    "navigate_num": "#000000",
    "navigate_text": "#333333",
    "running_highlight": "#FF0000",
    "selected_highlight": "#FFD700",
    "sidebar_border": "#EEEEEE",
    "wrapper_background": "#FFFFFF"
   },
   "moveMenuLeft": true,
   "nav_menu": {
    "height": "192px",
    "width": "252px"
   },
   "navigate_menu": true,
   "number_sections": true,
   "sideBar": true,
   "threshold": 4,
   "toc_cell": true,
   "toc_position": {
    "height": "673px",
    "left": "0px",
    "right": "1223px",
    "top": "107px",
    "width": "319px"
   },
   "toc_section_display": "block",
   "toc_window_display": true,
   "widenNotebook": false
  },
  "varInspector": {
   "cols": {
    "lenName": 16,
    "lenType": 16,
    "lenVar": 40
   },
   "kernels_config": {
    "python": {
     "delete_cmd_postfix": "",
     "delete_cmd_prefix": "del ",
     "library": "var_list.py",
     "varRefreshCmd": "print(var_dic_list())"
    },
    "r": {
     "delete_cmd_postfix": ") ",
     "delete_cmd_prefix": "rm(",
     "library": "var_list.r",
     "varRefreshCmd": "cat(var_dic_list()) "
    }
   },
   "oldHeight": 472,
   "position": {
    "height": "494px",
    "left": "1065px",
    "right": "20px",
    "top": "121px",
    "width": "350px"
   },
   "types_to_exclude": [
    "module",
    "function",
    "builtin_function_or_method",
    "instance",
    "_Feature"
   ],
   "varInspector_section_display": "block",
   "window_display": false
  }
 },
 "nbformat": 4,
 "nbformat_minor": 1
}
