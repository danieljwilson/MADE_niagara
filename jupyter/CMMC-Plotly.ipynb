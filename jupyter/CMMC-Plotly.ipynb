{
 "cells": [
  {
   "cell_type": "markdown",
   "metadata": {
    "toc": true
   },
   "source": [
    "<h1>Table of Contents<span class=\"tocSkip\"></span></h1>\n",
    "<div class=\"toc\"><ul class=\"toc-item\"><li><span><a href=\"#Import-Libraries-and-Data\" data-toc-modified-id=\"Import-Libraries-and-Data-1\"><span class=\"toc-item-num\">1&nbsp;&nbsp;</span>Import Libraries and Data</a></span></li><li><span><a href=\"#Plot-Single-Individuals\" data-toc-modified-id=\"Plot-Single-Individuals-2\"><span class=\"toc-item-num\">2&nbsp;&nbsp;</span>Plot Single Individuals</a></span></li><li><span><a href=\"#FUNCTIONS\" data-toc-modified-id=\"FUNCTIONS-3\"><span class=\"toc-item-num\">3&nbsp;&nbsp;</span>FUNCTIONS</a></span></li><li><span><a href=\"#Plot-All-Individuals\" data-toc-modified-id=\"Plot-All-Individuals-4\"><span class=\"toc-item-num\">4&nbsp;&nbsp;</span>Plot All Individuals</a></span></li></ul></div>"
   ]
  },
  {
   "cell_type": "markdown",
   "metadata": {},
   "source": [
    "# Import Libraries and Data"
   ]
  },
  {
   "cell_type": "code",
   "execution_count": 2,
   "metadata": {},
   "outputs": [],
   "source": [
    "import numpy as np\n",
    "import pandas as pd\n",
    "import sys\n",
    "# Add path where custom modules are saved\n",
    "sys.path.append('/Users/djw/Documents/pCloud Synced/PhD/PROJECTS/2017_MADE/03_CODE/2017_MADE/aDDM_DJW/functions')\n",
    "import utils_addm                         # for importing custom module"
   ]
  },
  {
   "cell_type": "code",
   "execution_count": 3,
   "metadata": {
    "collapsed": true
   },
   "outputs": [],
   "source": [
    "import plotly as plotly\n",
    "import plotly.plotly as py\n",
    "from plotly.offline import download_plotlyjs, init_notebook_mode, plot, iplot\n",
    "from plotly.graph_objs import *"
   ]
  },
  {
   "cell_type": "code",
   "execution_count": 4,
   "metadata": {
    "collapsed": true
   },
   "outputs": [],
   "source": [
    "# load files for plotting\n",
    "path_to_file = \"outputs/2018-07-12/test/sim_subjects.pickle\"\n",
    "subjects = utils_addm.pickle_read(path_to_file)\n",
    "\n",
    "path_to_file = \"outputs/2018-07-12/test/test_data.pickle\"\n",
    "test_expdata = utils_addm.pickle_read(path_to_file)\n",
    "\n",
    "path_to_file = \"outputs/2018-07-12/test/subj_params_df.pickle\"\n",
    "subj_params_df = utils_addm.pickle_read(path_to_file)"
   ]
  },
  {
   "cell_type": "code",
   "execution_count": 12,
   "metadata": {
    "collapsed": true
   },
   "outputs": [
    {
     "name": "stderr",
     "output_type": "stream",
     "text": [
      "/Users/djw/anaconda/envs/python3/lib/python3.6/site-packages/ipykernel/__main__.py:18: SettingWithCopyWarning:\n",
      "\n",
      "\n",
      "A value is trying to be set on a copy of a slice from a DataFrame\n",
      "\n",
      "See the caveats in the documentation: http://pandas.pydata.org/pandas-docs/stable/indexing.html#indexing-view-versus-copy\n",
      "\n",
      "/Users/djw/anaconda/envs/python3/lib/python3.6/site-packages/ipykernel/__main__.py:19: SettingWithCopyWarning:\n",
      "\n",
      "\n",
      "A value is trying to be set on a copy of a slice from a DataFrame\n",
      "\n",
      "See the caveats in the documentation: http://pandas.pydata.org/pandas-docs/stable/indexing.html#indexing-view-versus-copy\n",
      "\n",
      "/Users/djw/anaconda/envs/python3/lib/python3.6/site-packages/ipykernel/__main__.py:20: SettingWithCopyWarning:\n",
      "\n",
      "\n",
      "A value is trying to be set on a copy of a slice from a DataFrame\n",
      "\n",
      "See the caveats in the documentation: http://pandas.pydata.org/pandas-docs/stable/indexing.html#indexing-view-versus-copy\n",
      "\n"
     ]
    }
   ],
   "source": [
    "# Format Data\n",
    "subject_data = format_for_plotting(subjects, test_expdata, subj_params_df)"
   ]
  },
  {
   "cell_type": "markdown",
   "metadata": {},
   "source": [
    "# Plot Single Individuals"
   ]
  },
  {
   "cell_type": "markdown",
   "metadata": {},
   "source": [
    "**Enter subject number to check fit**\n",
    "\n",
    "---\n",
    "- subject #s = 0-22\n",
    "- decent fits: 7-10, 14\n",
    "---\n",
    "Can also use `plotly_rt()` or `plotly_choice()` to get single plots"
   ]
  },
  {
   "cell_type": "code",
   "execution_count": 17,
   "metadata": {},
   "outputs": [
    {
     "data": {
      "text/html": [
       "<script>requirejs.config({paths: { 'plotly': ['https://cdn.plot.ly/plotly-latest.min']},});if(!window.Plotly) {{require(['plotly'],function(plotly) {window.Plotly=plotly;});}}</script>"
      ],
      "text/vnd.plotly.v1+html": [
       "<script>requirejs.config({paths: { 'plotly': ['https://cdn.plot.ly/plotly-latest.min']},});if(!window.Plotly) {{require(['plotly'],function(plotly) {window.Plotly=plotly;});}}</script>"
      ]
     },
     "metadata": {},
     "output_type": "display_data"
    },
    {
     "data": {
      "application/vnd.plotly.v1+json": {
       "data": [
        {
         "error_y": {
          "array": [
           0.3186301028894171,
           0.33573353920319327,
           0.5125059552199829,
           0.2558821801821235,
           0.31212419771003,
           0.3220052859472622,
           0.060707629484974435
          ],
          "color": "rgb(0,170,80)",
          "type": "data",
          "visible": true
         },
         "line": {
          "color": "rgb(0,100,80)"
         },
         "mode": "lines+markers",
         "name": "Test Data",
         "type": "scatter",
         "x": [
          -1.8164285714285715,
          -0.763181818181818,
          -0.3170588235294118,
          0.023181818181818147,
          0.324,
          0.8175000000000001,
          1.630434782608696
         ],
         "y": [
          2.088870704373611,
          2.7569758453887934,
          3.795318903062519,
          2.4751631152890194,
          2.5676745259319445,
          2.361632085216116,
          1.311077429497938
         ]
        },
        {
         "error_y": {
          "array": [
           0.004340777754786573,
           0.008010161540390756,
           0.01088754839822688,
           0.010007124333664881,
           0.01012284705597363,
           0.009123450873727259,
           0.005209922717634729
          ],
          "color": "rgb(0,100,246)",
          "type": "data",
          "visible": true
         },
         "line": {
          "color": "rgb(0,176,246)"
         },
         "mode": "lines+markers",
         "name": "Sim Data",
         "type": "scatter",
         "x": [
          -1.8164285714285715,
          -0.763181818181818,
          -0.3170588235294118,
          0.023181818181818147,
          0.324,
          0.8175000000000001,
          1.630434782608696
         ],
         "y": [
          1.7591717500000037,
          2.3343571136270542,
          2.5840419905771537,
          2.668371161731187,
          2.6029700200200176,
          2.286595486653733,
          1.8402314347826099
         ]
        },
        {
         "error_y": {
          "array": [
           0,
           0.04545454545454545,
           0.11947115300935236,
           0.1049727762162956,
           0.08191780219091252,
           0,
           0
          ],
          "color": "rgb(0,170,80)",
          "type": "data",
          "visible": true
         },
         "line": {
          "color": "rgb(0,100,80)"
         },
         "mode": "lines+markers",
         "name": "Test Data",
         "type": "scatter",
         "x": [
          -1.8164285714285715,
          -0.763181818181818,
          -0.3170588235294118,
          0.023181818181818147,
          0.324,
          0.8175000000000001,
          1.630434782608696
         ],
         "xaxis": "x2",
         "y": [
          0,
          0.045454545454545456,
          0.35294117647058826,
          0.6363636363636364,
          0.85,
          1,
          1
         ],
         "yaxis": "y2"
        },
        {
         "error_y": {
          "array": [
           0.0010597316545640169,
           0.0024543746829798936,
           0.0036247123869317444,
           0.0033747216315761453,
           0.003334834246335344,
           0.0028283038613870115,
           0.0013200528307264199
          ],
          "color": "rgb(0,100,246)",
          "type": "data",
          "visible": true
         },
         "line": {
          "color": "rgb(0,176,246)"
         },
         "mode": "lines+markers",
         "name": "Sim Data",
         "type": "scatter",
         "x": [
          -1.8164285714285715,
          -0.763181818181818,
          -0.3170588235294118,
          0.023181818181818147,
          0.324,
          0.8175000000000001,
          1.630434782608696
         ],
         "xaxis": "x2",
         "y": [
          0.0325,
          0.15718637748374484,
          0.335924617196702,
          0.5053302961275626,
          0.6667667667667667,
          0.8493467525160968,
          0.9581739130434782
         ],
         "yaxis": "y2"
        }
       ],
       "layout": {
        "annotations": [
         {
          "showarrow": false,
          "text": "PARAMETERS: v: 0.088, a: 0.136, θ: 0.82",
          "x": 0.01,
          "xref": "paper",
          "y": 1.12,
          "yref": "paper"
         },
         {
          "showarrow": false,
          "text": "MLE: 606.35",
          "x": 0.01,
          "xref": "paper",
          "y": 1.08,
          "yref": "paper"
         },
         {
          "font": {
           "family": "Arial, sans-serif",
           "size": 22
          },
          "showarrow": false,
          "text": "SUBJECT: 17",
          "x": 0.01,
          "xref": "paper",
          "y": 1.2,
          "yref": "paper"
         }
        ],
        "paper_bgcolor": "rgb(255,255,255)",
        "plot_bgcolor": "rgb(229,229,229)",
        "xaxis": {
         "domain": [
          0,
          0.45
         ],
         "gridcolor": "rgb(255,255,255)",
         "range": [
          -2,
          2
         ],
         "showgrid": true,
         "showline": false,
         "showticklabels": true,
         "tickcolor": "rgb(127,127,127)",
         "ticks": "outside",
         "title": "Net Value ($)",
         "zeroline": false
        },
        "xaxis2": {
         "domain": [
          0.55,
          1
         ],
         "gridcolor": "rgb(255,255,255)",
         "range": [
          -2,
          2
         ],
         "showgrid": true,
         "showline": false,
         "showticklabels": true,
         "tickcolor": "rgb(127,127,127)",
         "ticks": "outside",
         "title": "Net Value ($)",
         "zeroline": false
        },
        "yaxis1": {
         "anchor": "x1",
         "gridcolor": "rgb(255,255,255)",
         "range": [
          0
         ],
         "showgrid": true,
         "showline": false,
         "showticklabels": true,
         "tickcolor": "rgb(127,127,127)",
         "ticks": "outside",
         "title": "RT (s)",
         "zeroline": false
        },
        "yaxis2": {
         "anchor": "x2",
         "gridcolor": "rgb(255,255,255)",
         "range": [
          0
         ],
         "showgrid": true,
         "showline": false,
         "showticklabels": true,
         "tickcolor": "rgb(127,127,127)",
         "ticks": "outside",
         "title": "p (accept)",
         "zeroline": false
        }
       }
      },
      "text/html": [
       "<div id=\"be7b381b-2a3e-4a6b-bba7-6c8e4cafbee5\" style=\"height: 525px; width: 100%;\" class=\"plotly-graph-div\"></div><script type=\"text/javascript\">require([\"plotly\"], function(Plotly) { window.PLOTLYENV=window.PLOTLYENV || {};window.PLOTLYENV.BASE_URL=\"https://plot.ly\";Plotly.newPlot(\"be7b381b-2a3e-4a6b-bba7-6c8e4cafbee5\", [{\"type\": \"scatter\", \"x\": [-1.8164285714285715, -0.763181818181818, -0.3170588235294118, 0.023181818181818147, 0.324, 0.8175000000000001, 1.630434782608696], \"y\": [2.088870704373611, 2.7569758453887934, 3.795318903062519, 2.4751631152890194, 2.5676745259319445, 2.361632085216116, 1.311077429497938], \"error_y\": {\"type\": \"data\", \"array\": [0.3186301028894171, 0.33573353920319327, 0.5125059552199829, 0.2558821801821235, 0.31212419771003, 0.3220052859472622, 0.060707629484974435], \"color\": \"rgb(0,170,80)\", \"visible\": true}, \"line\": {\"color\": \"rgb(0,100,80)\"}, \"mode\": \"lines+markers\", \"name\": \"Test Data\"}, {\"type\": \"scatter\", \"x\": [-1.8164285714285715, -0.763181818181818, -0.3170588235294118, 0.023181818181818147, 0.324, 0.8175000000000001, 1.630434782608696], \"y\": [1.7591717500000037, 2.3343571136270542, 2.5840419905771537, 2.668371161731187, 2.6029700200200176, 2.286595486653733, 1.8402314347826099], \"error_y\": {\"type\": \"data\", \"array\": [0.004340777754786573, 0.008010161540390756, 0.01088754839822688, 0.010007124333664881, 0.01012284705597363, 0.009123450873727259, 0.005209922717634729], \"color\": \"rgb(0,100,246)\", \"visible\": true}, \"line\": {\"color\": \"rgb(0,176,246)\"}, \"mode\": \"lines+markers\", \"name\": \"Sim Data\"}, {\"type\": \"scatter\", \"x\": [-1.8164285714285715, -0.763181818181818, -0.3170588235294118, 0.023181818181818147, 0.324, 0.8175000000000001, 1.630434782608696], \"y\": [0.0, 0.045454545454545456, 0.35294117647058826, 0.6363636363636364, 0.85, 1.0, 1.0], \"error_y\": {\"type\": \"data\", \"array\": [0.0, 0.04545454545454545, 0.11947115300935236, 0.1049727762162956, 0.08191780219091252, 0.0, 0.0], \"color\": \"rgb(0,170,80)\", \"visible\": true}, \"line\": {\"color\": \"rgb(0,100,80)\"}, \"mode\": \"lines+markers\", \"name\": \"Test Data\", \"xaxis\": \"x2\", \"yaxis\": \"y2\"}, {\"type\": \"scatter\", \"x\": [-1.8164285714285715, -0.763181818181818, -0.3170588235294118, 0.023181818181818147, 0.324, 0.8175000000000001, 1.630434782608696], \"y\": [0.0325, 0.15718637748374484, 0.335924617196702, 0.5053302961275626, 0.6667667667667667, 0.8493467525160968, 0.9581739130434782], \"error_y\": {\"type\": \"data\", \"array\": [0.0010597316545640169, 0.0024543746829798936, 0.0036247123869317444, 0.0033747216315761453, 0.003334834246335344, 0.0028283038613870115, 0.0013200528307264199], \"color\": \"rgb(0,100,246)\", \"visible\": true}, \"line\": {\"color\": \"rgb(0,176,246)\"}, \"mode\": \"lines+markers\", \"name\": \"Sim Data\", \"xaxis\": \"x2\", \"yaxis\": \"y2\"}], {\"paper_bgcolor\": \"rgb(255,255,255)\", \"plot_bgcolor\": \"rgb(229,229,229)\", \"xaxis\": {\"gridcolor\": \"rgb(255,255,255)\", \"range\": [-2, 2], \"domain\": [0, 0.45], \"showgrid\": true, \"showline\": false, \"showticklabels\": true, \"tickcolor\": \"rgb(127,127,127)\", \"ticks\": \"outside\", \"title\": \"Net Value ($)\", \"zeroline\": false}, \"xaxis2\": {\"gridcolor\": \"rgb(255,255,255)\", \"range\": [-2, 2], \"domain\": [0.55, 1], \"showgrid\": true, \"showline\": false, \"showticklabels\": true, \"tickcolor\": \"rgb(127,127,127)\", \"ticks\": \"outside\", \"title\": \"Net Value ($)\", \"zeroline\": false}, \"yaxis1\": {\"gridcolor\": \"rgb(255,255,255)\", \"range\": [0], \"showgrid\": true, \"showline\": false, \"showticklabels\": true, \"tickcolor\": \"rgb(127,127,127)\", \"ticks\": \"outside\", \"title\": \"RT (s)\", \"anchor\": \"x1\", \"zeroline\": false}, \"yaxis2\": {\"gridcolor\": \"rgb(255,255,255)\", \"range\": [0], \"showgrid\": true, \"showline\": false, \"showticklabels\": true, \"tickcolor\": \"rgb(127,127,127)\", \"ticks\": \"outside\", \"title\": \"p (accept)\", \"anchor\": \"x2\", \"zeroline\": false}, \"annotations\": [{\"x\": 0.01, \"y\": 1.12, \"showarrow\": false, \"text\": \"PARAMETERS: v: 0.088, a: 0.136, \\u03b8: 0.82\", \"xref\": \"paper\", \"yref\": \"paper\"}, {\"x\": 0.01, \"y\": 1.08, \"showarrow\": false, \"text\": \"MLE: 606.35\", \"xref\": \"paper\", \"yref\": \"paper\"}, {\"x\": 0.01, \"y\": 1.2, \"showarrow\": false, \"text\": \"SUBJECT: 17\", \"font\": {\"family\": \"Arial, sans-serif\", \"size\": 22}, \"xref\": \"paper\", \"yref\": \"paper\"}]}, {\"showLink\": true, \"linkText\": \"Export to plot.ly\"})});</script>"
      ],
      "text/vnd.plotly.v1+html": [
       "<div id=\"be7b381b-2a3e-4a6b-bba7-6c8e4cafbee5\" style=\"height: 525px; width: 100%;\" class=\"plotly-graph-div\"></div><script type=\"text/javascript\">require([\"plotly\"], function(Plotly) { window.PLOTLYENV=window.PLOTLYENV || {};window.PLOTLYENV.BASE_URL=\"https://plot.ly\";Plotly.newPlot(\"be7b381b-2a3e-4a6b-bba7-6c8e4cafbee5\", [{\"type\": \"scatter\", \"x\": [-1.8164285714285715, -0.763181818181818, -0.3170588235294118, 0.023181818181818147, 0.324, 0.8175000000000001, 1.630434782608696], \"y\": [2.088870704373611, 2.7569758453887934, 3.795318903062519, 2.4751631152890194, 2.5676745259319445, 2.361632085216116, 1.311077429497938], \"error_y\": {\"type\": \"data\", \"array\": [0.3186301028894171, 0.33573353920319327, 0.5125059552199829, 0.2558821801821235, 0.31212419771003, 0.3220052859472622, 0.060707629484974435], \"color\": \"rgb(0,170,80)\", \"visible\": true}, \"line\": {\"color\": \"rgb(0,100,80)\"}, \"mode\": \"lines+markers\", \"name\": \"Test Data\"}, {\"type\": \"scatter\", \"x\": [-1.8164285714285715, -0.763181818181818, -0.3170588235294118, 0.023181818181818147, 0.324, 0.8175000000000001, 1.630434782608696], \"y\": [1.7591717500000037, 2.3343571136270542, 2.5840419905771537, 2.668371161731187, 2.6029700200200176, 2.286595486653733, 1.8402314347826099], \"error_y\": {\"type\": \"data\", \"array\": [0.004340777754786573, 0.008010161540390756, 0.01088754839822688, 0.010007124333664881, 0.01012284705597363, 0.009123450873727259, 0.005209922717634729], \"color\": \"rgb(0,100,246)\", \"visible\": true}, \"line\": {\"color\": \"rgb(0,176,246)\"}, \"mode\": \"lines+markers\", \"name\": \"Sim Data\"}, {\"type\": \"scatter\", \"x\": [-1.8164285714285715, -0.763181818181818, -0.3170588235294118, 0.023181818181818147, 0.324, 0.8175000000000001, 1.630434782608696], \"y\": [0.0, 0.045454545454545456, 0.35294117647058826, 0.6363636363636364, 0.85, 1.0, 1.0], \"error_y\": {\"type\": \"data\", \"array\": [0.0, 0.04545454545454545, 0.11947115300935236, 0.1049727762162956, 0.08191780219091252, 0.0, 0.0], \"color\": \"rgb(0,170,80)\", \"visible\": true}, \"line\": {\"color\": \"rgb(0,100,80)\"}, \"mode\": \"lines+markers\", \"name\": \"Test Data\", \"xaxis\": \"x2\", \"yaxis\": \"y2\"}, {\"type\": \"scatter\", \"x\": [-1.8164285714285715, -0.763181818181818, -0.3170588235294118, 0.023181818181818147, 0.324, 0.8175000000000001, 1.630434782608696], \"y\": [0.0325, 0.15718637748374484, 0.335924617196702, 0.5053302961275626, 0.6667667667667667, 0.8493467525160968, 0.9581739130434782], \"error_y\": {\"type\": \"data\", \"array\": [0.0010597316545640169, 0.0024543746829798936, 0.0036247123869317444, 0.0033747216315761453, 0.003334834246335344, 0.0028283038613870115, 0.0013200528307264199], \"color\": \"rgb(0,100,246)\", \"visible\": true}, \"line\": {\"color\": \"rgb(0,176,246)\"}, \"mode\": \"lines+markers\", \"name\": \"Sim Data\", \"xaxis\": \"x2\", \"yaxis\": \"y2\"}], {\"paper_bgcolor\": \"rgb(255,255,255)\", \"plot_bgcolor\": \"rgb(229,229,229)\", \"xaxis\": {\"gridcolor\": \"rgb(255,255,255)\", \"range\": [-2, 2], \"domain\": [0, 0.45], \"showgrid\": true, \"showline\": false, \"showticklabels\": true, \"tickcolor\": \"rgb(127,127,127)\", \"ticks\": \"outside\", \"title\": \"Net Value ($)\", \"zeroline\": false}, \"xaxis2\": {\"gridcolor\": \"rgb(255,255,255)\", \"range\": [-2, 2], \"domain\": [0.55, 1], \"showgrid\": true, \"showline\": false, \"showticklabels\": true, \"tickcolor\": \"rgb(127,127,127)\", \"ticks\": \"outside\", \"title\": \"Net Value ($)\", \"zeroline\": false}, \"yaxis1\": {\"gridcolor\": \"rgb(255,255,255)\", \"range\": [0], \"showgrid\": true, \"showline\": false, \"showticklabels\": true, \"tickcolor\": \"rgb(127,127,127)\", \"ticks\": \"outside\", \"title\": \"RT (s)\", \"anchor\": \"x1\", \"zeroline\": false}, \"yaxis2\": {\"gridcolor\": \"rgb(255,255,255)\", \"range\": [0], \"showgrid\": true, \"showline\": false, \"showticklabels\": true, \"tickcolor\": \"rgb(127,127,127)\", \"ticks\": \"outside\", \"title\": \"p (accept)\", \"anchor\": \"x2\", \"zeroline\": false}, \"annotations\": [{\"x\": 0.01, \"y\": 1.12, \"showarrow\": false, \"text\": \"PARAMETERS: v: 0.088, a: 0.136, \\u03b8: 0.82\", \"xref\": \"paper\", \"yref\": \"paper\"}, {\"x\": 0.01, \"y\": 1.08, \"showarrow\": false, \"text\": \"MLE: 606.35\", \"xref\": \"paper\", \"yref\": \"paper\"}, {\"x\": 0.01, \"y\": 1.2, \"showarrow\": false, \"text\": \"SUBJECT: 17\", \"font\": {\"family\": \"Arial, sans-serif\", \"size\": 22}, \"xref\": \"paper\", \"yref\": \"paper\"}]}, {\"showLink\": true, \"linkText\": \"Export to plot.ly\"})});</script>"
      ]
     },
     "metadata": {},
     "output_type": "display_data"
    }
   ],
   "source": [
    "plotly_combined(17)"
   ]
  },
  {
   "cell_type": "markdown",
   "metadata": {
    "heading_collapsed": true
   },
   "source": [
    "# FUNCTIONS\n",
    "---\n",
    "Load these to run plotting functions"
   ]
  },
  {
   "cell_type": "code",
   "execution_count": 13,
   "metadata": {
    "hidden": true
   },
   "outputs": [],
   "source": [
    "def plotly_combined(subject_num=0, subject_data=subject_data, test_expdata=test_expdata, subj_params_df=subj_params_df):\n",
    "    from plotly import tools\n",
    "    plotly.offline.init_notebook_mode(connected=True)\n",
    "\n",
    "    subject = extract_subj_data(subject_num, subject_data)\n",
    "    \n",
    "    v = str(round(np.mean(test_expdata.est_scaling[test_expdata.subject == int(subject_num)]), 3))\n",
    "    a = str(round(np.mean(test_expdata.est_boundary[test_expdata.subject == int(subject_num)]), 3))\n",
    "    t = str(round(np.mean(test_expdata.est_theta[test_expdata.subject == int(subject_num)]), 3))\n",
    "    mle = round(subj_params_df.loc[int(subject_num), 'MLE'],2)\n",
    "    \n",
    "    x = subject.quantile_means \n",
    "\n",
    "    # RT Means\n",
    "    y1 = subject.test_rt_means       # test\n",
    "    y2 = subject.sim_rt_means        # sim\n",
    "    \n",
    "    # Choice Means\n",
    "    y3 = subject.test_choice_means   # test\n",
    "    y4 = subject.sim_choice_means    # sim\n",
    "\n",
    "    #------------------#\n",
    "    # RT plot          #\n",
    "    #------------------#\n",
    "    \n",
    "    # Test Data\n",
    "    trace1 = Scatter(\n",
    "        x=x,\n",
    "        y=y1,\n",
    "        error_y=dict(\n",
    "                type='data',\n",
    "                array=subject.test_rt_sems,\n",
    "                color='rgb(0,170,80)',\n",
    "                visible=True\n",
    "        ),\n",
    "        line=Line(color='rgb(0,100,80)'),\n",
    "        mode='lines+markers',\n",
    "        name='Test Data',\n",
    "    )\n",
    "\n",
    "    # Sim Data\n",
    "    trace2 = Scatter(\n",
    "        x=x,\n",
    "        y=y2,\n",
    "        error_y=dict(\n",
    "                type='data',\n",
    "                array=subject.sim_rt_sems,\n",
    "                color='rgb(0,100,246)',\n",
    "                visible=True\n",
    "        ),\n",
    "        line=Line(color='rgb(0,176,246)'),\n",
    "        mode='lines+markers',\n",
    "        name='Sim Data',\n",
    "    )\n",
    "    \n",
    "    \n",
    "    #------------------#\n",
    "    # Choice plot      #\n",
    "    #------------------#\n",
    "    \n",
    "    # Test Data\n",
    "    trace3 = Scatter(\n",
    "        x=x,\n",
    "        y=y3,\n",
    "        error_y=dict(\n",
    "                type='data',\n",
    "                array=subject.test_choice_sems,\n",
    "                color='rgb(0,170,80)',\n",
    "                visible=True\n",
    "        ),\n",
    "        line=Line(color='rgb(0,100,80)'),\n",
    "        mode='lines+markers',\n",
    "        name='Test Data',\n",
    "        xaxis='x2',\n",
    "        yaxis='y2',\n",
    "    )\n",
    "\n",
    "    # Sim Data\n",
    "    trace4 = Scatter(\n",
    "        x=x,\n",
    "        y=y4,\n",
    "        error_y=dict(\n",
    "                type='data',\n",
    "                array=subject.sim_choice_sems,\n",
    "                color='rgb(0,100,246)',\n",
    "                visible=True\n",
    "        ),\n",
    "        line=Line(color='rgb(0,176,246)'),\n",
    "        mode='lines+markers',\n",
    "        name='Sim Data',\n",
    "        xaxis='x2',\n",
    "        yaxis='y2',\n",
    "    )\n",
    "    \n",
    "\n",
    "    data = Data([trace1, trace2, trace3, trace4])\n",
    "\n",
    "    layout = Layout(\n",
    "        paper_bgcolor='rgb(255,255,255)',\n",
    "        plot_bgcolor='rgb(229,229,229)',\n",
    "        \n",
    "        xaxis=XAxis(\n",
    "            gridcolor='rgb(255,255,255)',\n",
    "            range=[-2,2],\n",
    "            domain = [0,0.45],\n",
    "            showgrid=True,\n",
    "            showline=False,\n",
    "            showticklabels=True,\n",
    "            tickcolor='rgb(127,127,127)',\n",
    "            ticks='outside',\n",
    "            title='Net Value ($)',\n",
    "            zeroline=False\n",
    "        ),\n",
    "        xaxis2=XAxis(\n",
    "            gridcolor='rgb(255,255,255)',\n",
    "            range=[-2,2],\n",
    "            domain = [0.55,1],\n",
    "            showgrid=True,\n",
    "            showline=False,\n",
    "            showticklabels=True,\n",
    "            tickcolor='rgb(127,127,127)',\n",
    "            ticks='outside',\n",
    "            title='Net Value ($)',\n",
    "            zeroline=False\n",
    "        ),\n",
    "        yaxis1=YAxis(\n",
    "            gridcolor='rgb(255,255,255)',\n",
    "            range=[0,],\n",
    "            showgrid=True,\n",
    "            showline=False,\n",
    "            showticklabels=True,\n",
    "            tickcolor='rgb(127,127,127)',\n",
    "            ticks='outside',\n",
    "            title='RT (s)',\n",
    "            anchor = 'x1',\n",
    "            zeroline=False\n",
    "        ),\n",
    "        \n",
    "        yaxis2=YAxis(\n",
    "            gridcolor='rgb(255,255,255)',\n",
    "            range=[0,],\n",
    "            showgrid=True,\n",
    "            showline=False,\n",
    "            showticklabels=True,\n",
    "            tickcolor='rgb(127,127,127)',\n",
    "            ticks='outside',\n",
    "            title='p (accept)',\n",
    "            anchor = 'x2',\n",
    "            zeroline=False\n",
    "        ),\n",
    "        \n",
    "        annotations=Annotations([\n",
    "            Annotation(\n",
    "            x=0.01,\n",
    "            y=1.12,\n",
    "            showarrow=False,\n",
    "            text='PARAMETERS: v: ' + str(v) + ', a: ' + str(a) + ', θ: ' + str(t),\n",
    "            xref='paper',\n",
    "            yref='paper'\n",
    "            ),\n",
    "            Annotation(\n",
    "            x=0.01,\n",
    "            y=1.08,\n",
    "            showarrow=False,\n",
    "            text='MLE: ' + str(mle),\n",
    "            xref='paper',\n",
    "            yref='paper'\n",
    "            ),\n",
    "            Annotation(\n",
    "            x=0.01,\n",
    "            y=1.2,\n",
    "            showarrow=False,\n",
    "            text='SUBJECT: ' + str(subject_num),\n",
    "            font=dict(\n",
    "                family='Arial, sans-serif',\n",
    "                size=22,\n",
    "            ),\n",
    "            xref='paper',\n",
    "            yref='paper'\n",
    "            )\n",
    "        ])\n",
    "    )\n",
    "\n",
    "    # updatemenus=list([\n",
    "    #     dict(\n",
    "    #         buttons=list([   \n",
    "    #             dict(\n",
    "    #                 label='00',\n",
    "    #                 method='update',\n",
    "    #                 args=[extract_subj_data(0, subject_data)]\n",
    "    #             ),\n",
    "    #             dict(\n",
    "    #                 label='01',\n",
    "    #                 method='update',\n",
    "    #                 args=[extract_subj_data(1, subject_data)]\n",
    "    #             )             \n",
    "    #         ]),\n",
    "    #         direction = 'down',\n",
    "    #         pad = {'r': 10, 't': 10},\n",
    "    #         showactive = True,\n",
    "    #         x = 0.1,\n",
    "    #         xanchor = 'left',\n",
    "    #         y = 1.1,\n",
    "    #         yanchor = 'top' \n",
    "    #     ),\n",
    "    # ])\n",
    "\n",
    "    # annotations = list([\n",
    "    #     dict(text='Subject:' + str(subject_num), x=0, y=1.085, yref='paper', align='left', showarrow=False)\n",
    "    # ])\n",
    "\n",
    "\n",
    "    # layout['updatemenus'] = updatemenus\n",
    "    # layout['annotations'] = annotations\n",
    "    \n",
    "#     fig = tools.make_subplots(rows=1, cols=2, subplot_titles=('RT', 'Choice'))\n",
    "    \n",
    "#     fig.append_trace([trace1, trace2], 1, 1)\n",
    "#     fig.append_trace([trace3, trace4], 1, 2)\n",
    "    \n",
    "#     fig['layout']['xaxis1'].update(title='xaxis 1 title')\n",
    "#     fig['layout']['xaxis2'].update(title='xaxis 2 title')\n",
    "    \n",
    "#     fig['layout']['yaxis1'].update(title='yaxis 1 title')\n",
    "#     fig['layout']['yaxis2'].update(title='yaxis 2 title')\n",
    "\n",
    "    fig = Figure(data=data, layout=layout)\n",
    "    plotly.offline.iplot(fig, filename= 'shaded_lines')   "
   ]
  },
  {
   "cell_type": "code",
   "execution_count": 14,
   "metadata": {
    "hidden": true
   },
   "outputs": [],
   "source": [
    "def plotly_rt(subject_num=0, subject_data=subject_data):\n",
    "\n",
    "    plotly.offline.init_notebook_mode(connected=True)\n",
    "\n",
    "    subject = extract_subj_data(subject_num, subject_data)\n",
    "\n",
    "    x = subject.quantile_means \n",
    "\n",
    "    # Test Data: RT Means\n",
    "    y1 = subject.test_rt_means         # test\n",
    "    y2 = subject.sim_rt_means\n",
    "    \n",
    "    # Choice Means\n",
    "    y3 = subject.test_choice_means   # test\n",
    "    y4 = subject.sim_choice_means    # sim\n",
    "\n",
    "    # Test Data\n",
    "    trace1 = Scatter(\n",
    "        x=x,\n",
    "        y=y1,\n",
    "        error_y=dict(\n",
    "                type='data',\n",
    "                array=subject.test_rt_sems,\n",
    "                visible=True\n",
    "        ),\n",
    "        line=Line(color='rgb(0,100,80)'),\n",
    "        mode='lines+markers',\n",
    "        name='Test Data',\n",
    "    )\n",
    "\n",
    "    # Sim Data\n",
    "    trace2 = Scatter(\n",
    "        x=x,\n",
    "        y=y2,\n",
    "        error_y=dict(\n",
    "                type='data',\n",
    "                array=subject.sim_rt_sems,\n",
    "                visible=True\n",
    "        ),\n",
    "        line=Line(color='rgb(0,176,246)'),\n",
    "        mode='lines+markers',\n",
    "        name='Sim Data',\n",
    "    )\n",
    "\n",
    "\n",
    "    data = Data([trace1, trace2])\n",
    "\n",
    "    layout = Layout(\n",
    "        paper_bgcolor='rgb(255,255,255)',\n",
    "        plot_bgcolor='rgb(229,229,229)',\n",
    "        xaxis=XAxis(\n",
    "            gridcolor='rgb(255,255,255)',\n",
    "            range=[-2,2],\n",
    "            showgrid=True,\n",
    "            showline=False,\n",
    "            showticklabels=True,\n",
    "            tickcolor='rgb(127,127,127)',\n",
    "            ticks='outside',\n",
    "            title='Net Value ($)',\n",
    "            zeroline=False\n",
    "        ),\n",
    "        yaxis=YAxis(\n",
    "            gridcolor='rgb(255,255,255)',\n",
    "            range=[0,],\n",
    "            showgrid=True,\n",
    "            showline=False,\n",
    "            showticklabels=True,\n",
    "            tickcolor='rgb(127,127,127)',\n",
    "            ticks='outside',\n",
    "            title='RT (s)',\n",
    "            zeroline=False\n",
    "        ),\n",
    "        title='Subject ' + str(subject_num),\n",
    "    )\n",
    "\n",
    "    # updatemenus=list([\n",
    "    #     dict(\n",
    "    #         buttons=list([   \n",
    "    #             dict(\n",
    "    #                 label='00',\n",
    "    #                 method='update',\n",
    "    #                 args=[extract_subj_data(0, subject_data)]\n",
    "    #             ),\n",
    "    #             dict(\n",
    "    #                 label='01',\n",
    "    #                 method='update',\n",
    "    #                 args=[extract_subj_data(1, subject_data)]\n",
    "    #             )             \n",
    "    #         ]),\n",
    "    #         direction = 'down',\n",
    "    #         pad = {'r': 10, 't': 10},\n",
    "    #         showactive = True,\n",
    "    #         x = 0.1,\n",
    "    #         xanchor = 'left',\n",
    "    #         y = 1.1,\n",
    "    #         yanchor = 'top' \n",
    "    #     ),\n",
    "    # ])\n",
    "\n",
    "    # annotations = list([\n",
    "    #     dict(text='Subject:' + str(subject_num), x=0, y=1.085, yref='paper', align='left', showarrow=False)\n",
    "    # ])\n",
    "\n",
    "\n",
    "    # layout['updatemenus'] = updatemenus\n",
    "    # layout['annotations'] = annotations\n",
    "\n",
    "    fig = Figure(data=data, layout=layout)\n",
    "    plotly.offline.iplot(fig, filename= 'shaded_lines')   "
   ]
  },
  {
   "cell_type": "code",
   "execution_count": 15,
   "metadata": {
    "hidden": true
   },
   "outputs": [],
   "source": [
    "def plotly_choice(subject_num=0, subject_data=subject_data):\n",
    "\n",
    "    plotly.offline.init_notebook_mode(connected=True)\n",
    "\n",
    "    subject = extract_subj_data(subject_num, subject_data)\n",
    "\n",
    "    x = subject.quantile_means \n",
    "    x_rev = x[::-1]\n",
    "\n",
    "    # Test Data: RT Means\n",
    "    y1 = subject.test_choice_means         # mean RT\n",
    "    y1_upper = subject.test_choice_means + subject.test_choice_sems  # add SEM\n",
    "    y1_lower = subject.test_choice_means - subject.test_choice_sems  # subtract SEM\n",
    "    y1_lower = y1_lower[::-1] # necessary??\n",
    "\n",
    "    # Sim Data: RT Means\n",
    "    y2 = subject.sim_choice_means\n",
    "    y2_upper = subject.sim_choice_means + subject.sim_choice_sems\n",
    "    y2_lower = subject.sim_choice_means - subject.sim_choice_sems\n",
    "    y2_lower = y2_lower[::-1]\n",
    "\n",
    "\n",
    "    # Test Data\n",
    "    trace1 = Scatter(\n",
    "        x=x,\n",
    "        y=y1,\n",
    "        error_y=dict(\n",
    "                type='data',\n",
    "                array=subject.test_choice_sems,\n",
    "                visible=True\n",
    "        ),\n",
    "        line=Line(color='rgb(0,100,80)'),\n",
    "        mode='lines+markers',\n",
    "        name='Test Data',\n",
    "    )\n",
    "\n",
    "    # Sim Data\n",
    "    trace2 = Scatter(\n",
    "        x=x,\n",
    "        y=y2,\n",
    "        error_y=dict(\n",
    "                type='data',\n",
    "                array=subject.sim_choice_sems,\n",
    "                visible=True\n",
    "        ),\n",
    "        line=Line(color='rgb(0,176,246)'),\n",
    "        mode='lines+markers',\n",
    "        name='Sim Data',\n",
    "    )\n",
    "\n",
    "\n",
    "    data = Data([trace1, trace2])\n",
    "\n",
    "    layout = Layout(\n",
    "        paper_bgcolor='rgb(255,255,255)',\n",
    "        plot_bgcolor='rgb(229,229,229)',\n",
    "        xaxis=XAxis(\n",
    "            gridcolor='rgb(255,255,255)',\n",
    "            range=[-2,2],\n",
    "            showgrid=True,\n",
    "            showline=False,\n",
    "            showticklabels=True,\n",
    "            tickcolor='rgb(127,127,127)',\n",
    "            ticks='outside',\n",
    "            title='Net Value ($)',\n",
    "            zeroline=False\n",
    "        ),\n",
    "        yaxis=YAxis(\n",
    "            gridcolor='rgb(255,255,255)',\n",
    "            range=[0,],\n",
    "            showgrid=True,\n",
    "            showline=False,\n",
    "            showticklabels=True,\n",
    "            tickcolor='rgb(127,127,127)',\n",
    "            ticks='outside',\n",
    "            title='p(accept)',\n",
    "            zeroline=False\n",
    "        ),\n",
    "        title='Subject ' + str(subject_num),\n",
    "    )\n",
    "\n",
    "    # updatemenus=list([\n",
    "    #     dict(\n",
    "    #         buttons=list([   \n",
    "    #             dict(\n",
    "    #                 label='00',\n",
    "    #                 method='update',\n",
    "    #                 args=[extract_subj_data(0, subject_data)]\n",
    "    #             ),\n",
    "    #             dict(\n",
    "    #                 label='01',\n",
    "    #                 method='update',\n",
    "    #                 args=[extract_subj_data(1, subject_data)]\n",
    "    #             )             \n",
    "    #         ]),\n",
    "    #         direction = 'down',\n",
    "    #         pad = {'r': 10, 't': 10},\n",
    "    #         showactive = True,\n",
    "    #         x = 0.1,\n",
    "    #         xanchor = 'left',\n",
    "    #         y = 1.1,\n",
    "    #         yanchor = 'top' \n",
    "    #     ),\n",
    "    # ])\n",
    "\n",
    "    # annotations = list([\n",
    "    #     dict(text='Subject:' + str(subject_num), x=0, y=1.085, yref='paper', align='left', showarrow=False)\n",
    "    # ])\n",
    "\n",
    "\n",
    "    # layout['updatemenus'] = updatemenus\n",
    "    # layout['annotations'] = annotations\n",
    "\n",
    "    fig = Figure(data=data, layout=layout)\n",
    "    plotly.offline.iplot(fig, filename= 'shaded_lines')   "
   ]
  },
  {
   "cell_type": "code",
   "execution_count": 11,
   "metadata": {
    "collapsed": true,
    "hidden": true
   },
   "outputs": [],
   "source": [
    "# format data\n",
    "def format_for_plotting(subjects, test_expdata, subj_params_df):\n",
    "    \"\"\"\n",
    "    \"\"\"\n",
    "    \n",
    "    test_data = test_expdata\n",
    "    # Create the variables (summed value) that we are using for our quantiles\n",
    "    x = subjects.summed_val\n",
    "    x1 = test_data.summed_val\n",
    "\n",
    "    # Define quantiles - bins are [a, b) \n",
    "    bins = np.array([-4, -1., -0.5, -0.15, 0.15, 0.5, 1., 4])\n",
    "\n",
    "    # Create column which indicates quantile of row\n",
    "    subjects['quantile'] = np.digitize(x, bins)\n",
    "    test_data['quantile'] = np.digitize(x1, bins)\n",
    "    # recode -1 response (reject) as 0 for probability of acceptance calculation\n",
    "    subjects.resp[subjects.resp == -1.] = 0\n",
    "    subjects.sim_resp[subjects.sim_resp == -1.] = 0\n",
    "    test_data.resp[test_data.resp == -1.] = 0\n",
    "    \n",
    "    \n",
    "    #--------------------------------#\n",
    "    # descriptive stats by subject   #\n",
    "    #--------------------------------#\n",
    "    \n",
    "    test_rt_stats = pd.DataFrame(test_data.groupby(['subject', 'quantile']).rt.agg(['mean', 'median', 'std', 'sem']))\n",
    "    test_choice_stats = pd.DataFrame(test_data.groupby(['subject', 'quantile']).resp.agg(['mean', 'std', 'sem']))\n",
    "\n",
    "    sim_rt_stats = pd.DataFrame(subjects.groupby(['subject', 'quantile']).sim_rt.agg(['mean', 'median', 'std', 'sem']))\n",
    "    sim_choice_stats = pd.DataFrame(subjects.groupby(['subject', 'quantile']).sim_resp.agg(['mean', 'std', 'sem']))\n",
    "\n",
    "    summed_val_sim = pd.DataFrame(subjects.groupby(['subject', 'quantile']).summed_val.agg(['mean']))\n",
    "    summed_val_test = pd.DataFrame(test_data.groupby(['subject', 'quantile']).summed_val.agg(['mean']))\n",
    "\n",
    "    test_rt_stats.rename(index=str, columns={\"mean\": \"test_rt_mean\", \"median\": \"test_rt_median\", \"std\": \"test_rt_std\", \"sem\": \"test_rt_sem\"}, inplace=True)\n",
    "    test_choice_stats.rename(index=str, columns={\"mean\": \"test_choice_mean\", \"median\": \"test_choice_median\", \"std\": \"test_choice_std\", \"sem\": \"test_choice_sem\"}, inplace=True)\n",
    "\n",
    "    sim_rt_stats.rename(index=str, columns={\"mean\": \"sim_rt_mean\", \"median\": \"sim_rt_median\", \"std\": \"sim_rt_std\", \"sem\": \"sim_rt_sem\"}, inplace=True)\n",
    "    sim_choice_stats.rename(index=str, columns={\"mean\": \"sim_choice_mean\", \"median\": \"sim_choice_median\", \"std\": \"sim_choice_std\", \"sem\": \"sim_choice_sem\"}, inplace=True)\n",
    "\n",
    "    summed_val_test.rename(index=str, columns={\"mean\": \"test_summed_val_mean\"}, inplace=True)\n",
    "    summed_val_sim.rename(index=str, columns={\"mean\": \"sim_summed_val_mean\"}, inplace=True)\n",
    "    \n",
    "    \n",
    "    #--------------------------------#\n",
    "    # merge rt and choice stats      #\n",
    "    #--------------------------------#\n",
    "    \n",
    "    test_quantized_subj_stats = pd.concat([test_rt_stats, test_choice_stats, summed_val_test], axis = 1)\n",
    "    sim_quantized_subj_stats = pd.concat([sim_rt_stats, sim_choice_stats, summed_val_sim], axis = 1)\n",
    "    test_sim_data = pd.concat([test_quantized_subj_stats, sim_quantized_subj_stats], axis = 1)\n",
    "    \n",
    "    return test_sim_data"
   ]
  },
  {
   "cell_type": "code",
   "execution_count": 16,
   "metadata": {
    "collapsed": true,
    "hidden": true
   },
   "outputs": [],
   "source": [
    "def extract_subj_data(subj_num, data):\n",
    "    \"\"\"\n",
    "    \"\"\"\n",
    "    \n",
    "    subject = str(subj_num)\n",
    "\n",
    "    quantile_means = data.loc[subject, 'test_summed_val_mean'] # maps to quantile means\n",
    "\n",
    "    # RTs\n",
    "    # Test\n",
    "    test_rt_means = data.loc[subject, 'test_rt_mean']\n",
    "    test_rt_sems = data.loc[subject, 'test_rt_sem']\n",
    "    # Sim\n",
    "    sim_rt_means = data.loc[subject, 'sim_rt_mean']\n",
    "    sim_rt_sems = data.loc[subject, 'sim_rt_sem']\n",
    "\n",
    "    # Choices\n",
    "    # Test\n",
    "    test_choice_means = data.loc[subject, 'test_choice_mean']\n",
    "    test_choice_sems = data.loc[subject, 'test_choice_sem']\n",
    "    # Sim\n",
    "    sim_choice_means = data.loc[subject, 'sim_choice_mean']\n",
    "    sim_choice_sems = data.loc[subject, 'sim_choice_sem']\n",
    "    \n",
    "    \n",
    "    #--------------------------------------------#\n",
    "    # Create DF with stats from single subject   #\n",
    "    #--------------------------------------------#\n",
    "    \n",
    "    subject_stats = pd.DataFrame(quantile_means)\n",
    "\n",
    "    # RT\n",
    "    subject_stats['test_rt_means'] = test_rt_means\n",
    "    subject_stats['test_rt_sems'] = test_rt_sems\n",
    "    subject_stats['sim_rt_means'] = sim_rt_means\n",
    "    subject_stats['sim_rt_sems'] = sim_rt_sems\n",
    "\n",
    "    # Choice\n",
    "    subject_stats['test_choice_means'] = test_choice_means\n",
    "    subject_stats['test_choice_sems'] = test_choice_sems\n",
    "    subject_stats['sim_choice_means'] = sim_choice_means\n",
    "    subject_stats['sim_choice_sems'] = sim_choice_sems\n",
    "\n",
    "    subject_stats = subject_stats.rename(columns = {\n",
    "        'test_summed_val_mean':'quantile_means'\n",
    "    })\n",
    "    #subject_stats.reset_index(drop=True, inplace=True)\n",
    "    return subject_stats"
   ]
  },
  {
   "cell_type": "markdown",
   "metadata": {},
   "source": [
    "# Plot All Individuals"
   ]
  },
  {
   "cell_type": "code",
   "execution_count": 18,
   "metadata": {
    "scrolled": false
   },
   "outputs": [
    {
     "data": {
      "text/html": [
       "<script>requirejs.config({paths: { 'plotly': ['https://cdn.plot.ly/plotly-latest.min']},});if(!window.Plotly) {{require(['plotly'],function(plotly) {window.Plotly=plotly;});}}</script>"
      ],
      "text/vnd.plotly.v1+html": [
       "<script>requirejs.config({paths: { 'plotly': ['https://cdn.plot.ly/plotly-latest.min']},});if(!window.Plotly) {{require(['plotly'],function(plotly) {window.Plotly=plotly;});}}</script>"
      ]
     },
     "metadata": {},
     "output_type": "display_data"
    },
    {
     "data": {
      "application/vnd.plotly.v1+json": {
       "data": [
        {
         "error_y": {
          "array": [
           0.26691156466118776,
           0.5625841894881555,
           0.3092635890278254,
           0.16773999036033826,
           0.22250602510869272,
           0.3783604602105652,
           0.3959290719366735
          ],
          "color": "rgb(0,170,80)",
          "type": "data",
          "visible": true
         },
         "line": {
          "color": "rgb(0,100,80)"
         },
         "mode": "lines+markers",
         "name": "Test Data",
         "type": "scatter",
         "x": [
          -1.7333333333333336,
          -0.7562499999999999,
          -0.3029166666666668,
          0.04949999999999995,
          0.30600000000000005,
          0.7723809523809525,
          1.9495238095238094
         ],
         "y": [
          3.0015640740833374,
          3.702286981255382,
          3.472419469435408,
          3.123474994549179,
          2.8109845845370725,
          2.8382288735062646,
          3.0082048231450322
         ]
        },
        {
         "error_y": {
          "array": [
           0.0118471037760524,
           0.01844899826505483,
           0.015982869896293075,
           0.01766577707239647,
           0.017319602368644844,
           0.01610866002897754,
           0.012365460239607846
          ],
          "color": "rgb(0,100,246)",
          "type": "data",
          "visible": true
         },
         "line": {
          "color": "rgb(0,176,246)"
         },
         "mode": "lines+markers",
         "name": "Sim Data",
         "type": "scatter",
         "x": [
          -1.7333333333333336,
          -0.7562499999999999,
          -0.3029166666666668,
          0.04949999999999995,
          0.30600000000000005,
          0.7723809523809525,
          1.9495238095238094
         ],
         "y": [
          3.5513814828881203,
          4.424096707128987,
          4.640438756686919,
          4.676017038154284,
          4.6248961355331595,
          4.4155200529316145,
          3.3952003280111716
         ]
        },
        {
         "error_y": {
          "array": [
           0.04166666666666667,
           0.08539125638299665,
           0.0982946374365981,
           0.10942433098048308,
           0.06882472016116851,
           0.0878051853075513,
           0.047619047619047616
          ],
          "color": "rgb(0,170,80)",
          "type": "data",
          "visible": true
         },
         "line": {
          "color": "rgb(0,100,80)"
         },
         "mode": "lines+markers",
         "name": "Test Data",
         "type": "scatter",
         "x": [
          -1.7333333333333336,
          -0.7562499999999999,
          -0.3029166666666668,
          0.04949999999999995,
          0.30600000000000005,
          0.7723809523809525,
          1.9495238095238094
         ],
         "xaxis": "x2",
         "y": [
          0.041666666666666664,
          0.125,
          0.3333333333333333,
          0.65,
          0.9,
          0.8095238095238095,
          0.9523809523809523
         ],
         "yaxis": "y2"
        },
        {
         "error_y": {
          "array": [
           0.0013726501952742547,
           0.0032876325112710285,
           0.0032573212650373884,
           0.0037356644017694637,
           0.0035869257000855303,
           0.0028217542811184884,
           0.0014265882449994846
          ],
          "color": "rgb(0,100,246)",
          "type": "data",
          "visible": true
         },
         "line": {
          "color": "rgb(0,176,246)"
         },
         "mode": "lines+markers",
         "name": "Sim Data",
         "type": "scatter",
         "x": [
          -1.7333333333333336,
          -0.7562499999999999,
          -0.3029166666666668,
          0.04949999999999995,
          0.30600000000000005,
          0.7723809523809525,
          1.9495238095238094
         ],
         "xaxis": "x2",
         "y": [
          0.046841372325610836,
          0.20193145999597611,
          0.3587898911639919,
          0.5142170828445338,
          0.6327649208282582,
          0.8058835504885994,
          0.9558632000385896
         ],
         "yaxis": "y2"
        }
       ],
       "layout": {
        "annotations": [
         {
          "showarrow": false,
          "text": "PARAMETERS: v: 0.046, a: 0.221, θ: 0.82",
          "x": 0.01,
          "xref": "paper",
          "y": 1.12,
          "yref": "paper"
         },
         {
          "showarrow": false,
          "text": "MLE: 689.15",
          "x": 0.01,
          "xref": "paper",
          "y": 1.08,
          "yref": "paper"
         },
         {
          "font": {
           "family": "Arial, sans-serif",
           "size": 22
          },
          "showarrow": false,
          "text": "SUBJECT: 0",
          "x": 0.01,
          "xref": "paper",
          "y": 1.2,
          "yref": "paper"
         }
        ],
        "paper_bgcolor": "rgb(255,255,255)",
        "plot_bgcolor": "rgb(229,229,229)",
        "xaxis": {
         "domain": [
          0,
          0.45
         ],
         "gridcolor": "rgb(255,255,255)",
         "range": [
          -2,
          2
         ],
         "showgrid": true,
         "showline": false,
         "showticklabels": true,
         "tickcolor": "rgb(127,127,127)",
         "ticks": "outside",
         "title": "Net Value ($)",
         "zeroline": false
        },
        "xaxis2": {
         "domain": [
          0.55,
          1
         ],
         "gridcolor": "rgb(255,255,255)",
         "range": [
          -2,
          2
         ],
         "showgrid": true,
         "showline": false,
         "showticklabels": true,
         "tickcolor": "rgb(127,127,127)",
         "ticks": "outside",
         "title": "Net Value ($)",
         "zeroline": false
        },
        "yaxis1": {
         "anchor": "x1",
         "gridcolor": "rgb(255,255,255)",
         "range": [
          0
         ],
         "showgrid": true,
         "showline": false,
         "showticklabels": true,
         "tickcolor": "rgb(127,127,127)",
         "ticks": "outside",
         "title": "RT (s)",
         "zeroline": false
        },
        "yaxis2": {
         "anchor": "x2",
         "gridcolor": "rgb(255,255,255)",
         "range": [
          0
         ],
         "showgrid": true,
         "showline": false,
         "showticklabels": true,
         "tickcolor": "rgb(127,127,127)",
         "ticks": "outside",
         "title": "p (accept)",
         "zeroline": false
        }
       }
      },
      "text/html": [
       "<div id=\"4ec890c2-566f-4e25-b197-6b60005998b3\" style=\"height: 525px; width: 100%;\" class=\"plotly-graph-div\"></div><script type=\"text/javascript\">require([\"plotly\"], function(Plotly) { window.PLOTLYENV=window.PLOTLYENV || {};window.PLOTLYENV.BASE_URL=\"https://plot.ly\";Plotly.newPlot(\"4ec890c2-566f-4e25-b197-6b60005998b3\", [{\"type\": \"scatter\", \"x\": [-1.7333333333333336, -0.7562499999999999, -0.3029166666666668, 0.04949999999999995, 0.30600000000000005, 0.7723809523809525, 1.9495238095238094], \"y\": [3.0015640740833374, 3.702286981255382, 3.472419469435408, 3.123474994549179, 2.8109845845370725, 2.8382288735062646, 3.0082048231450322], \"error_y\": {\"type\": \"data\", \"array\": [0.26691156466118776, 0.5625841894881555, 0.3092635890278254, 0.16773999036033826, 0.22250602510869272, 0.3783604602105652, 0.3959290719366735], \"color\": \"rgb(0,170,80)\", \"visible\": true}, \"line\": {\"color\": \"rgb(0,100,80)\"}, \"mode\": \"lines+markers\", \"name\": \"Test Data\"}, {\"type\": \"scatter\", \"x\": [-1.7333333333333336, -0.7562499999999999, -0.3029166666666668, 0.04949999999999995, 0.30600000000000005, 0.7723809523809525, 1.9495238095238094], \"y\": [3.5513814828881203, 4.424096707128987, 4.640438756686919, 4.676017038154284, 4.6248961355331595, 4.4155200529316145, 3.3952003280111716], \"error_y\": {\"type\": \"data\", \"array\": [0.0118471037760524, 0.01844899826505483, 0.015982869896293075, 0.01766577707239647, 0.017319602368644844, 0.01610866002897754, 0.012365460239607846], \"color\": \"rgb(0,100,246)\", \"visible\": true}, \"line\": {\"color\": \"rgb(0,176,246)\"}, \"mode\": \"lines+markers\", \"name\": \"Sim Data\"}, {\"type\": \"scatter\", \"x\": [-1.7333333333333336, -0.7562499999999999, -0.3029166666666668, 0.04949999999999995, 0.30600000000000005, 0.7723809523809525, 1.9495238095238094], \"y\": [0.041666666666666664, 0.125, 0.3333333333333333, 0.65, 0.9, 0.8095238095238095, 0.9523809523809523], \"error_y\": {\"type\": \"data\", \"array\": [0.04166666666666667, 0.08539125638299665, 0.0982946374365981, 0.10942433098048308, 0.06882472016116851, 0.0878051853075513, 0.047619047619047616], \"color\": \"rgb(0,170,80)\", \"visible\": true}, \"line\": {\"color\": \"rgb(0,100,80)\"}, \"mode\": \"lines+markers\", \"name\": \"Test Data\", \"xaxis\": \"x2\", \"yaxis\": \"y2\"}, {\"type\": \"scatter\", \"x\": [-1.7333333333333336, -0.7562499999999999, -0.3029166666666668, 0.04949999999999995, 0.30600000000000005, 0.7723809523809525, 1.9495238095238094], \"y\": [0.046841372325610836, 0.20193145999597611, 0.3587898911639919, 0.5142170828445338, 0.6327649208282582, 0.8058835504885994, 0.9558632000385896], \"error_y\": {\"type\": \"data\", \"array\": [0.0013726501952742547, 0.0032876325112710285, 0.0032573212650373884, 0.0037356644017694637, 0.0035869257000855303, 0.0028217542811184884, 0.0014265882449994846], \"color\": \"rgb(0,100,246)\", \"visible\": true}, \"line\": {\"color\": \"rgb(0,176,246)\"}, \"mode\": \"lines+markers\", \"name\": \"Sim Data\", \"xaxis\": \"x2\", \"yaxis\": \"y2\"}], {\"paper_bgcolor\": \"rgb(255,255,255)\", \"plot_bgcolor\": \"rgb(229,229,229)\", \"xaxis\": {\"gridcolor\": \"rgb(255,255,255)\", \"range\": [-2, 2], \"domain\": [0, 0.45], \"showgrid\": true, \"showline\": false, \"showticklabels\": true, \"tickcolor\": \"rgb(127,127,127)\", \"ticks\": \"outside\", \"title\": \"Net Value ($)\", \"zeroline\": false}, \"xaxis2\": {\"gridcolor\": \"rgb(255,255,255)\", \"range\": [-2, 2], \"domain\": [0.55, 1], \"showgrid\": true, \"showline\": false, \"showticklabels\": true, \"tickcolor\": \"rgb(127,127,127)\", \"ticks\": \"outside\", \"title\": \"Net Value ($)\", \"zeroline\": false}, \"yaxis1\": {\"gridcolor\": \"rgb(255,255,255)\", \"range\": [0], \"showgrid\": true, \"showline\": false, \"showticklabels\": true, \"tickcolor\": \"rgb(127,127,127)\", \"ticks\": \"outside\", \"title\": \"RT (s)\", \"anchor\": \"x1\", \"zeroline\": false}, \"yaxis2\": {\"gridcolor\": \"rgb(255,255,255)\", \"range\": [0], \"showgrid\": true, \"showline\": false, \"showticklabels\": true, \"tickcolor\": \"rgb(127,127,127)\", \"ticks\": \"outside\", \"title\": \"p (accept)\", \"anchor\": \"x2\", \"zeroline\": false}, \"annotations\": [{\"x\": 0.01, \"y\": 1.12, \"showarrow\": false, \"text\": \"PARAMETERS: v: 0.046, a: 0.221, \\u03b8: 0.82\", \"xref\": \"paper\", \"yref\": \"paper\"}, {\"x\": 0.01, \"y\": 1.08, \"showarrow\": false, \"text\": \"MLE: 689.15\", \"xref\": \"paper\", \"yref\": \"paper\"}, {\"x\": 0.01, \"y\": 1.2, \"showarrow\": false, \"text\": \"SUBJECT: 0\", \"font\": {\"family\": \"Arial, sans-serif\", \"size\": 22}, \"xref\": \"paper\", \"yref\": \"paper\"}]}, {\"showLink\": true, \"linkText\": \"Export to plot.ly\"})});</script>"
      ],
      "text/vnd.plotly.v1+html": [
       "<div id=\"4ec890c2-566f-4e25-b197-6b60005998b3\" style=\"height: 525px; width: 100%;\" class=\"plotly-graph-div\"></div><script type=\"text/javascript\">require([\"plotly\"], function(Plotly) { window.PLOTLYENV=window.PLOTLYENV || {};window.PLOTLYENV.BASE_URL=\"https://plot.ly\";Plotly.newPlot(\"4ec890c2-566f-4e25-b197-6b60005998b3\", [{\"type\": \"scatter\", \"x\": [-1.7333333333333336, -0.7562499999999999, -0.3029166666666668, 0.04949999999999995, 0.30600000000000005, 0.7723809523809525, 1.9495238095238094], \"y\": [3.0015640740833374, 3.702286981255382, 3.472419469435408, 3.123474994549179, 2.8109845845370725, 2.8382288735062646, 3.0082048231450322], \"error_y\": {\"type\": \"data\", \"array\": [0.26691156466118776, 0.5625841894881555, 0.3092635890278254, 0.16773999036033826, 0.22250602510869272, 0.3783604602105652, 0.3959290719366735], \"color\": \"rgb(0,170,80)\", \"visible\": true}, \"line\": {\"color\": \"rgb(0,100,80)\"}, \"mode\": \"lines+markers\", \"name\": \"Test Data\"}, {\"type\": \"scatter\", \"x\": [-1.7333333333333336, -0.7562499999999999, -0.3029166666666668, 0.04949999999999995, 0.30600000000000005, 0.7723809523809525, 1.9495238095238094], \"y\": [3.5513814828881203, 4.424096707128987, 4.640438756686919, 4.676017038154284, 4.6248961355331595, 4.4155200529316145, 3.3952003280111716], \"error_y\": {\"type\": \"data\", \"array\": [0.0118471037760524, 0.01844899826505483, 0.015982869896293075, 0.01766577707239647, 0.017319602368644844, 0.01610866002897754, 0.012365460239607846], \"color\": \"rgb(0,100,246)\", \"visible\": true}, \"line\": {\"color\": \"rgb(0,176,246)\"}, \"mode\": \"lines+markers\", \"name\": \"Sim Data\"}, {\"type\": \"scatter\", \"x\": [-1.7333333333333336, -0.7562499999999999, -0.3029166666666668, 0.04949999999999995, 0.30600000000000005, 0.7723809523809525, 1.9495238095238094], \"y\": [0.041666666666666664, 0.125, 0.3333333333333333, 0.65, 0.9, 0.8095238095238095, 0.9523809523809523], \"error_y\": {\"type\": \"data\", \"array\": [0.04166666666666667, 0.08539125638299665, 0.0982946374365981, 0.10942433098048308, 0.06882472016116851, 0.0878051853075513, 0.047619047619047616], \"color\": \"rgb(0,170,80)\", \"visible\": true}, \"line\": {\"color\": \"rgb(0,100,80)\"}, \"mode\": \"lines+markers\", \"name\": \"Test Data\", \"xaxis\": \"x2\", \"yaxis\": \"y2\"}, {\"type\": \"scatter\", \"x\": [-1.7333333333333336, -0.7562499999999999, -0.3029166666666668, 0.04949999999999995, 0.30600000000000005, 0.7723809523809525, 1.9495238095238094], \"y\": [0.046841372325610836, 0.20193145999597611, 0.3587898911639919, 0.5142170828445338, 0.6327649208282582, 0.8058835504885994, 0.9558632000385896], \"error_y\": {\"type\": \"data\", \"array\": [0.0013726501952742547, 0.0032876325112710285, 0.0032573212650373884, 0.0037356644017694637, 0.0035869257000855303, 0.0028217542811184884, 0.0014265882449994846], \"color\": \"rgb(0,100,246)\", \"visible\": true}, \"line\": {\"color\": \"rgb(0,176,246)\"}, \"mode\": \"lines+markers\", \"name\": \"Sim Data\", \"xaxis\": \"x2\", \"yaxis\": \"y2\"}], {\"paper_bgcolor\": \"rgb(255,255,255)\", \"plot_bgcolor\": \"rgb(229,229,229)\", \"xaxis\": {\"gridcolor\": \"rgb(255,255,255)\", \"range\": [-2, 2], \"domain\": [0, 0.45], \"showgrid\": true, \"showline\": false, \"showticklabels\": true, \"tickcolor\": \"rgb(127,127,127)\", \"ticks\": \"outside\", \"title\": \"Net Value ($)\", \"zeroline\": false}, \"xaxis2\": {\"gridcolor\": \"rgb(255,255,255)\", \"range\": [-2, 2], \"domain\": [0.55, 1], \"showgrid\": true, \"showline\": false, \"showticklabels\": true, \"tickcolor\": \"rgb(127,127,127)\", \"ticks\": \"outside\", \"title\": \"Net Value ($)\", \"zeroline\": false}, \"yaxis1\": {\"gridcolor\": \"rgb(255,255,255)\", \"range\": [0], \"showgrid\": true, \"showline\": false, \"showticklabels\": true, \"tickcolor\": \"rgb(127,127,127)\", \"ticks\": \"outside\", \"title\": \"RT (s)\", \"anchor\": \"x1\", \"zeroline\": false}, \"yaxis2\": {\"gridcolor\": \"rgb(255,255,255)\", \"range\": [0], \"showgrid\": true, \"showline\": false, \"showticklabels\": true, \"tickcolor\": \"rgb(127,127,127)\", \"ticks\": \"outside\", \"title\": \"p (accept)\", \"anchor\": \"x2\", \"zeroline\": false}, \"annotations\": [{\"x\": 0.01, \"y\": 1.12, \"showarrow\": false, \"text\": \"PARAMETERS: v: 0.046, a: 0.221, \\u03b8: 0.82\", \"xref\": \"paper\", \"yref\": \"paper\"}, {\"x\": 0.01, \"y\": 1.08, \"showarrow\": false, \"text\": \"MLE: 689.15\", \"xref\": \"paper\", \"yref\": \"paper\"}, {\"x\": 0.01, \"y\": 1.2, \"showarrow\": false, \"text\": \"SUBJECT: 0\", \"font\": {\"family\": \"Arial, sans-serif\", \"size\": 22}, \"xref\": \"paper\", \"yref\": \"paper\"}]}, {\"showLink\": true, \"linkText\": \"Export to plot.ly\"})});</script>"
      ]
     },
     "metadata": {},
     "output_type": "display_data"
    },
    {
     "data": {
      "text/html": [
       "<script>requirejs.config({paths: { 'plotly': ['https://cdn.plot.ly/plotly-latest.min']},});if(!window.Plotly) {{require(['plotly'],function(plotly) {window.Plotly=plotly;});}}</script>"
      ],
      "text/vnd.plotly.v1+html": [
       "<script>requirejs.config({paths: { 'plotly': ['https://cdn.plot.ly/plotly-latest.min']},});if(!window.Plotly) {{require(['plotly'],function(plotly) {window.Plotly=plotly;});}}</script>"
      ]
     },
     "metadata": {},
     "output_type": "display_data"
    },
    {
     "data": {
      "application/vnd.plotly.v1+json": {
       "data": [
        {
         "error_y": {
          "array": [
           0.4080944006773091,
           0.5084614914940523,
           0.49150129399063086,
           0.5531281982759294,
           0.6189654615809154,
           0.373291714372552,
           0.2537480456638595
          ],
          "color": "rgb(0,170,80)",
          "type": "data",
          "visible": true
         },
         "line": {
          "color": "rgb(0,100,80)"
         },
         "mode": "lines+markers",
         "name": "Test Data",
         "type": "scatter",
         "x": [
          -1.698125,
          -0.768421052631579,
          -0.34869565217391296,
          0.045555555555555495,
          0.2916666666666667,
          0.7814814814814816,
          1.7706666666666668
         ],
         "y": [
          3.579329921616591,
          4.736999820868828,
          4.934196604947236,
          4.939064011094161,
          5.70155291512492,
          4.290933009638037,
          2.884620733535849
         ]
        },
        {
         "error_y": {
          "array": [
           0.019692227729689645,
           0.018186044808297577,
           0.016380312175652004,
           0.0185497098017696,
           0.022674270190660747,
           0.015095991663088608,
           0.020415981441434302
          ],
          "color": "rgb(0,100,246)",
          "type": "data",
          "visible": true
         },
         "line": {
          "color": "rgb(0,176,246)"
         },
         "mode": "lines+markers",
         "name": "Sim Data",
         "type": "scatter",
         "x": [
          -1.698125,
          -0.768421052631579,
          -0.34869565217391296,
          0.045555555555555495,
          0.2916666666666667,
          0.7814814814814816,
          1.7706666666666668
         ],
         "y": [
          4.716840363128477,
          4.709505776787256,
          4.6893457379444925,
          4.66737395140746,
          4.692355740463748,
          4.6889779821052935,
          4.686706895266469
         ]
        },
        {
         "error_y": {
          "array": [
           0,
           0.07233518641434492,
           0.07180198468215396,
           0.11823563735376173,
           0.1305582419667734,
           0.0696696254167378,
           0
          ],
          "color": "rgb(0,170,80)",
          "type": "data",
          "visible": true
         },
         "line": {
          "color": "rgb(0,100,80)"
         },
         "mode": "lines+markers",
         "name": "Test Data",
         "type": "scatter",
         "x": [
          -1.698125,
          -0.768421052631579,
          -0.34869565217391296,
          0.045555555555555495,
          0.2916666666666667,
          0.7814814814814816,
          1.7706666666666668
         ],
         "xaxis": "x2",
         "y": [
          0,
          0.10526315789473684,
          0.13043478260869565,
          0.6111111111111112,
          0.75,
          0.8518518518518519,
          1
         ],
         "yaxis": "y2"
        },
        {
         "error_y": {
          "array": [
           0.004156541393299295,
           0.003822932592222134,
           0.0034896183141608465,
           0.003941476435701412,
           0.004832620829734617,
           0.0032064817104140142,
           0.004284903755156772
          ],
          "color": "rgb(0,100,246)",
          "type": "data",
          "visible": true
         },
         "line": {
          "color": "rgb(0,176,246)"
         },
         "mode": "lines+markers",
         "name": "Sim Data",
         "type": "scatter",
         "x": [
          -1.698125,
          -0.768421052631579,
          -0.34869565217391296,
          0.045555555555555495,
          0.2916666666666667,
          0.7814814814814816,
          1.7706666666666668
         ],
         "xaxis": "x2",
         "y": [
          0.4488826815642458,
          0.471409301507243,
          0.4969313200194837,
          0.5026408997700864,
          0.5150523560209425,
          0.5255432317651425,
          0.5609392471114424
         ],
         "yaxis": "y2"
        }
       ],
       "layout": {
        "annotations": [
         {
          "showarrow": false,
          "text": "PARAMETERS: v: 0.005, a: 0.221, θ: 0.1",
          "x": 0.01,
          "xref": "paper",
          "y": 1.12,
          "yref": "paper"
         },
         {
          "showarrow": false,
          "text": "MLE: 651.44",
          "x": 0.01,
          "xref": "paper",
          "y": 1.08,
          "yref": "paper"
         },
         {
          "font": {
           "family": "Arial, sans-serif",
           "size": 22
          },
          "showarrow": false,
          "text": "SUBJECT: 1",
          "x": 0.01,
          "xref": "paper",
          "y": 1.2,
          "yref": "paper"
         }
        ],
        "paper_bgcolor": "rgb(255,255,255)",
        "plot_bgcolor": "rgb(229,229,229)",
        "xaxis": {
         "domain": [
          0,
          0.45
         ],
         "gridcolor": "rgb(255,255,255)",
         "range": [
          -2,
          2
         ],
         "showgrid": true,
         "showline": false,
         "showticklabels": true,
         "tickcolor": "rgb(127,127,127)",
         "ticks": "outside",
         "title": "Net Value ($)",
         "zeroline": false
        },
        "xaxis2": {
         "domain": [
          0.55,
          1
         ],
         "gridcolor": "rgb(255,255,255)",
         "range": [
          -2,
          2
         ],
         "showgrid": true,
         "showline": false,
         "showticklabels": true,
         "tickcolor": "rgb(127,127,127)",
         "ticks": "outside",
         "title": "Net Value ($)",
         "zeroline": false
        },
        "yaxis1": {
         "anchor": "x1",
         "gridcolor": "rgb(255,255,255)",
         "range": [
          0
         ],
         "showgrid": true,
         "showline": false,
         "showticklabels": true,
         "tickcolor": "rgb(127,127,127)",
         "ticks": "outside",
         "title": "RT (s)",
         "zeroline": false
        },
        "yaxis2": {
         "anchor": "x2",
         "gridcolor": "rgb(255,255,255)",
         "range": [
          0
         ],
         "showgrid": true,
         "showline": false,
         "showticklabels": true,
         "tickcolor": "rgb(127,127,127)",
         "ticks": "outside",
         "title": "p (accept)",
         "zeroline": false
        }
       }
      },
      "text/html": [
       "<div id=\"ad2ac4ff-63a5-4cf7-9eac-161041a5048a\" style=\"height: 525px; width: 100%;\" class=\"plotly-graph-div\"></div><script type=\"text/javascript\">require([\"plotly\"], function(Plotly) { window.PLOTLYENV=window.PLOTLYENV || {};window.PLOTLYENV.BASE_URL=\"https://plot.ly\";Plotly.newPlot(\"ad2ac4ff-63a5-4cf7-9eac-161041a5048a\", [{\"type\": \"scatter\", \"x\": [-1.698125, -0.768421052631579, -0.34869565217391296, 0.045555555555555495, 0.2916666666666667, 0.7814814814814816, 1.7706666666666668], \"y\": [3.579329921616591, 4.736999820868828, 4.934196604947236, 4.939064011094161, 5.70155291512492, 4.290933009638037, 2.884620733535849], \"error_y\": {\"type\": \"data\", \"array\": [0.4080944006773091, 0.5084614914940523, 0.49150129399063086, 0.5531281982759294, 0.6189654615809154, 0.373291714372552, 0.2537480456638595], \"color\": \"rgb(0,170,80)\", \"visible\": true}, \"line\": {\"color\": \"rgb(0,100,80)\"}, \"mode\": \"lines+markers\", \"name\": \"Test Data\"}, {\"type\": \"scatter\", \"x\": [-1.698125, -0.768421052631579, -0.34869565217391296, 0.045555555555555495, 0.2916666666666667, 0.7814814814814816, 1.7706666666666668], \"y\": [4.716840363128477, 4.709505776787256, 4.6893457379444925, 4.66737395140746, 4.692355740463748, 4.6889779821052935, 4.686706895266469], \"error_y\": {\"type\": \"data\", \"array\": [0.019692227729689645, 0.018186044808297577, 0.016380312175652004, 0.0185497098017696, 0.022674270190660747, 0.015095991663088608, 0.020415981441434302], \"color\": \"rgb(0,100,246)\", \"visible\": true}, \"line\": {\"color\": \"rgb(0,176,246)\"}, \"mode\": \"lines+markers\", \"name\": \"Sim Data\"}, {\"type\": \"scatter\", \"x\": [-1.698125, -0.768421052631579, -0.34869565217391296, 0.045555555555555495, 0.2916666666666667, 0.7814814814814816, 1.7706666666666668], \"y\": [0.0, 0.10526315789473684, 0.13043478260869565, 0.6111111111111112, 0.75, 0.8518518518518519, 1.0], \"error_y\": {\"type\": \"data\", \"array\": [0.0, 0.07233518641434492, 0.07180198468215396, 0.11823563735376173, 0.1305582419667734, 0.0696696254167378, 0.0], \"color\": \"rgb(0,170,80)\", \"visible\": true}, \"line\": {\"color\": \"rgb(0,100,80)\"}, \"mode\": \"lines+markers\", \"name\": \"Test Data\", \"xaxis\": \"x2\", \"yaxis\": \"y2\"}, {\"type\": \"scatter\", \"x\": [-1.698125, -0.768421052631579, -0.34869565217391296, 0.045555555555555495, 0.2916666666666667, 0.7814814814814816, 1.7706666666666668], \"y\": [0.4488826815642458, 0.471409301507243, 0.4969313200194837, 0.5026408997700864, 0.5150523560209425, 0.5255432317651425, 0.5609392471114424], \"error_y\": {\"type\": \"data\", \"array\": [0.004156541393299295, 0.003822932592222134, 0.0034896183141608465, 0.003941476435701412, 0.004832620829734617, 0.0032064817104140142, 0.004284903755156772], \"color\": \"rgb(0,100,246)\", \"visible\": true}, \"line\": {\"color\": \"rgb(0,176,246)\"}, \"mode\": \"lines+markers\", \"name\": \"Sim Data\", \"xaxis\": \"x2\", \"yaxis\": \"y2\"}], {\"paper_bgcolor\": \"rgb(255,255,255)\", \"plot_bgcolor\": \"rgb(229,229,229)\", \"xaxis\": {\"gridcolor\": \"rgb(255,255,255)\", \"range\": [-2, 2], \"domain\": [0, 0.45], \"showgrid\": true, \"showline\": false, \"showticklabels\": true, \"tickcolor\": \"rgb(127,127,127)\", \"ticks\": \"outside\", \"title\": \"Net Value ($)\", \"zeroline\": false}, \"xaxis2\": {\"gridcolor\": \"rgb(255,255,255)\", \"range\": [-2, 2], \"domain\": [0.55, 1], \"showgrid\": true, \"showline\": false, \"showticklabels\": true, \"tickcolor\": \"rgb(127,127,127)\", \"ticks\": \"outside\", \"title\": \"Net Value ($)\", \"zeroline\": false}, \"yaxis1\": {\"gridcolor\": \"rgb(255,255,255)\", \"range\": [0], \"showgrid\": true, \"showline\": false, \"showticklabels\": true, \"tickcolor\": \"rgb(127,127,127)\", \"ticks\": \"outside\", \"title\": \"RT (s)\", \"anchor\": \"x1\", \"zeroline\": false}, \"yaxis2\": {\"gridcolor\": \"rgb(255,255,255)\", \"range\": [0], \"showgrid\": true, \"showline\": false, \"showticklabels\": true, \"tickcolor\": \"rgb(127,127,127)\", \"ticks\": \"outside\", \"title\": \"p (accept)\", \"anchor\": \"x2\", \"zeroline\": false}, \"annotations\": [{\"x\": 0.01, \"y\": 1.12, \"showarrow\": false, \"text\": \"PARAMETERS: v: 0.005, a: 0.221, \\u03b8: 0.1\", \"xref\": \"paper\", \"yref\": \"paper\"}, {\"x\": 0.01, \"y\": 1.08, \"showarrow\": false, \"text\": \"MLE: 651.44\", \"xref\": \"paper\", \"yref\": \"paper\"}, {\"x\": 0.01, \"y\": 1.2, \"showarrow\": false, \"text\": \"SUBJECT: 1\", \"font\": {\"family\": \"Arial, sans-serif\", \"size\": 22}, \"xref\": \"paper\", \"yref\": \"paper\"}]}, {\"showLink\": true, \"linkText\": \"Export to plot.ly\"})});</script>"
      ],
      "text/vnd.plotly.v1+html": [
       "<div id=\"ad2ac4ff-63a5-4cf7-9eac-161041a5048a\" style=\"height: 525px; width: 100%;\" class=\"plotly-graph-div\"></div><script type=\"text/javascript\">require([\"plotly\"], function(Plotly) { window.PLOTLYENV=window.PLOTLYENV || {};window.PLOTLYENV.BASE_URL=\"https://plot.ly\";Plotly.newPlot(\"ad2ac4ff-63a5-4cf7-9eac-161041a5048a\", [{\"type\": \"scatter\", \"x\": [-1.698125, -0.768421052631579, -0.34869565217391296, 0.045555555555555495, 0.2916666666666667, 0.7814814814814816, 1.7706666666666668], \"y\": [3.579329921616591, 4.736999820868828, 4.934196604947236, 4.939064011094161, 5.70155291512492, 4.290933009638037, 2.884620733535849], \"error_y\": {\"type\": \"data\", \"array\": [0.4080944006773091, 0.5084614914940523, 0.49150129399063086, 0.5531281982759294, 0.6189654615809154, 0.373291714372552, 0.2537480456638595], \"color\": \"rgb(0,170,80)\", \"visible\": true}, \"line\": {\"color\": \"rgb(0,100,80)\"}, \"mode\": \"lines+markers\", \"name\": \"Test Data\"}, {\"type\": \"scatter\", \"x\": [-1.698125, -0.768421052631579, -0.34869565217391296, 0.045555555555555495, 0.2916666666666667, 0.7814814814814816, 1.7706666666666668], \"y\": [4.716840363128477, 4.709505776787256, 4.6893457379444925, 4.66737395140746, 4.692355740463748, 4.6889779821052935, 4.686706895266469], \"error_y\": {\"type\": \"data\", \"array\": [0.019692227729689645, 0.018186044808297577, 0.016380312175652004, 0.0185497098017696, 0.022674270190660747, 0.015095991663088608, 0.020415981441434302], \"color\": \"rgb(0,100,246)\", \"visible\": true}, \"line\": {\"color\": \"rgb(0,176,246)\"}, \"mode\": \"lines+markers\", \"name\": \"Sim Data\"}, {\"type\": \"scatter\", \"x\": [-1.698125, -0.768421052631579, -0.34869565217391296, 0.045555555555555495, 0.2916666666666667, 0.7814814814814816, 1.7706666666666668], \"y\": [0.0, 0.10526315789473684, 0.13043478260869565, 0.6111111111111112, 0.75, 0.8518518518518519, 1.0], \"error_y\": {\"type\": \"data\", \"array\": [0.0, 0.07233518641434492, 0.07180198468215396, 0.11823563735376173, 0.1305582419667734, 0.0696696254167378, 0.0], \"color\": \"rgb(0,170,80)\", \"visible\": true}, \"line\": {\"color\": \"rgb(0,100,80)\"}, \"mode\": \"lines+markers\", \"name\": \"Test Data\", \"xaxis\": \"x2\", \"yaxis\": \"y2\"}, {\"type\": \"scatter\", \"x\": [-1.698125, -0.768421052631579, -0.34869565217391296, 0.045555555555555495, 0.2916666666666667, 0.7814814814814816, 1.7706666666666668], \"y\": [0.4488826815642458, 0.471409301507243, 0.4969313200194837, 0.5026408997700864, 0.5150523560209425, 0.5255432317651425, 0.5609392471114424], \"error_y\": {\"type\": \"data\", \"array\": [0.004156541393299295, 0.003822932592222134, 0.0034896183141608465, 0.003941476435701412, 0.004832620829734617, 0.0032064817104140142, 0.004284903755156772], \"color\": \"rgb(0,100,246)\", \"visible\": true}, \"line\": {\"color\": \"rgb(0,176,246)\"}, \"mode\": \"lines+markers\", \"name\": \"Sim Data\", \"xaxis\": \"x2\", \"yaxis\": \"y2\"}], {\"paper_bgcolor\": \"rgb(255,255,255)\", \"plot_bgcolor\": \"rgb(229,229,229)\", \"xaxis\": {\"gridcolor\": \"rgb(255,255,255)\", \"range\": [-2, 2], \"domain\": [0, 0.45], \"showgrid\": true, \"showline\": false, \"showticklabels\": true, \"tickcolor\": \"rgb(127,127,127)\", \"ticks\": \"outside\", \"title\": \"Net Value ($)\", \"zeroline\": false}, \"xaxis2\": {\"gridcolor\": \"rgb(255,255,255)\", \"range\": [-2, 2], \"domain\": [0.55, 1], \"showgrid\": true, \"showline\": false, \"showticklabels\": true, \"tickcolor\": \"rgb(127,127,127)\", \"ticks\": \"outside\", \"title\": \"Net Value ($)\", \"zeroline\": false}, \"yaxis1\": {\"gridcolor\": \"rgb(255,255,255)\", \"range\": [0], \"showgrid\": true, \"showline\": false, \"showticklabels\": true, \"tickcolor\": \"rgb(127,127,127)\", \"ticks\": \"outside\", \"title\": \"RT (s)\", \"anchor\": \"x1\", \"zeroline\": false}, \"yaxis2\": {\"gridcolor\": \"rgb(255,255,255)\", \"range\": [0], \"showgrid\": true, \"showline\": false, \"showticklabels\": true, \"tickcolor\": \"rgb(127,127,127)\", \"ticks\": \"outside\", \"title\": \"p (accept)\", \"anchor\": \"x2\", \"zeroline\": false}, \"annotations\": [{\"x\": 0.01, \"y\": 1.12, \"showarrow\": false, \"text\": \"PARAMETERS: v: 0.005, a: 0.221, \\u03b8: 0.1\", \"xref\": \"paper\", \"yref\": \"paper\"}, {\"x\": 0.01, \"y\": 1.08, \"showarrow\": false, \"text\": \"MLE: 651.44\", \"xref\": \"paper\", \"yref\": \"paper\"}, {\"x\": 0.01, \"y\": 1.2, \"showarrow\": false, \"text\": \"SUBJECT: 1\", \"font\": {\"family\": \"Arial, sans-serif\", \"size\": 22}, \"xref\": \"paper\", \"yref\": \"paper\"}]}, {\"showLink\": true, \"linkText\": \"Export to plot.ly\"})});</script>"
      ]
     },
     "metadata": {},
     "output_type": "display_data"
    },
    {
     "data": {
      "text/html": [
       "<script>requirejs.config({paths: { 'plotly': ['https://cdn.plot.ly/plotly-latest.min']},});if(!window.Plotly) {{require(['plotly'],function(plotly) {window.Plotly=plotly;});}}</script>"
      ],
      "text/vnd.plotly.v1+html": [
       "<script>requirejs.config({paths: { 'plotly': ['https://cdn.plot.ly/plotly-latest.min']},});if(!window.Plotly) {{require(['plotly'],function(plotly) {window.Plotly=plotly;});}}</script>"
      ]
     },
     "metadata": {},
     "output_type": "display_data"
    },
    {
     "data": {
      "application/vnd.plotly.v1+json": {
       "data": [
        {
         "error_y": {
          "array": [
           0.10879429279426972,
           0.25402595724407784,
           0.3409129329043157,
           0.2260598981907746,
           0.24480488295898126,
           0.16771570062318283,
           0.05381930759782264
          ],
          "color": "rgb(0,170,80)",
          "type": "data",
          "visible": true
         },
         "line": {
          "color": "rgb(0,100,80)"
         },
         "mode": "lines+markers",
         "name": "Test Data",
         "type": "scatter",
         "x": [
          -1.686923076923077,
          -0.8123809523809523,
          -0.2756521739130436,
          0.02799999999999996,
          0.27105263157894727,
          0.7813636363636364,
          1.5395238095238095
         ],
         "y": [
          1.638579470857692,
          1.9859039087147852,
          2.2414704256630302,
          2.171842512818209,
          1.7782342430743348,
          1.6221177481771023,
          1.2644601382947134
         ]
        },
        {
         "error_y": {
          "array": [
           0.008424637716545938,
           0.008736790614472637,
           0.009590294993761652,
           0.008005870280126332,
           0.010296536245678879,
           0.008424118137647856,
           0.006263124336253246
          ],
          "color": "rgb(0,100,246)",
          "type": "data",
          "visible": true
         },
         "line": {
          "color": "rgb(0,176,246)"
         },
         "mode": "lines+markers",
         "name": "Sim Data",
         "type": "scatter",
         "x": [
          -1.686923076923077,
          -0.8123809523809523,
          -0.2756521739130436,
          0.02799999999999996,
          0.27105263157894727,
          0.7813636363636364,
          1.5395238095238095
         ],
         "y": [
          2.0274071538461524,
          2.4127860852990293,
          2.6235966126785106,
          2.5024206433958436,
          2.5927344894839446,
          2.3744884059289,
          2.0226153443184973
         ]
        },
        {
         "error_y": {
          "array": [
           0.07692307692307691,
           0.06563832739090582,
           0.09810018692482893,
           0.09264111117062016,
           0.10379087338771255,
           0.06273323266748675,
           0
          ],
          "color": "rgb(0,170,80)",
          "type": "data",
          "visible": true
         },
         "line": {
          "color": "rgb(0,100,80)"
         },
         "mode": "lines+markers",
         "name": "Test Data",
         "type": "scatter",
         "x": [
          -1.686923076923077,
          -0.8123809523809523,
          -0.2756521739130436,
          0.02799999999999996,
          0.27105263157894727,
          0.7813636363636364,
          1.5395238095238095
         ],
         "xaxis": "x2",
         "y": [
          0.07692307692307693,
          0.09523809523809523,
          0.30434782608695654,
          0.5333333333333333,
          0.7368421052631579,
          0.9090909090909091,
          1
         ],
         "yaxis": "y2"
        },
        {
         "error_y": {
          "array": [
           0.002643822531222562,
           0.0029169578992903674,
           0.003214466929683212,
           0.0028833364214977367,
           0.0035178076864458814,
           0.0027711164133496762,
           0.0017850296838306534
          ],
          "color": "rgb(0,100,246)",
          "type": "data",
          "visible": true
         },
         "line": {
          "color": "rgb(0,176,246)"
         },
         "mode": "lines+markers",
         "name": "Sim Data",
         "type": "scatter",
         "x": [
          -1.686923076923077,
          -0.8123809523809523,
          -0.2756521739130436,
          0.02799999999999996,
          0.27105263157894727,
          0.7813636363636364,
          1.5395238095238095
         ],
         "xaxis": "x2",
         "y": [
          0.10107692307692308,
          0.23269001667857994,
          0.3873650296064089,
          0.529700327037309,
          0.6234779400137052,
          0.7848049468036737,
          0.9278978950376227
         ],
         "yaxis": "y2"
        }
       ],
       "layout": {
        "annotations": [
         {
          "showarrow": false,
          "text": "PARAMETERS: v: 0.088, a: 0.136, θ: 0.46",
          "x": 0.01,
          "xref": "paper",
          "y": 1.12,
          "yref": "paper"
         },
         {
          "showarrow": false,
          "text": "MLE: 575.75",
          "x": 0.01,
          "xref": "paper",
          "y": 1.08,
          "yref": "paper"
         },
         {
          "font": {
           "family": "Arial, sans-serif",
           "size": 22
          },
          "showarrow": false,
          "text": "SUBJECT: 2",
          "x": 0.01,
          "xref": "paper",
          "y": 1.2,
          "yref": "paper"
         }
        ],
        "paper_bgcolor": "rgb(255,255,255)",
        "plot_bgcolor": "rgb(229,229,229)",
        "xaxis": {
         "domain": [
          0,
          0.45
         ],
         "gridcolor": "rgb(255,255,255)",
         "range": [
          -2,
          2
         ],
         "showgrid": true,
         "showline": false,
         "showticklabels": true,
         "tickcolor": "rgb(127,127,127)",
         "ticks": "outside",
         "title": "Net Value ($)",
         "zeroline": false
        },
        "xaxis2": {
         "domain": [
          0.55,
          1
         ],
         "gridcolor": "rgb(255,255,255)",
         "range": [
          -2,
          2
         ],
         "showgrid": true,
         "showline": false,
         "showticklabels": true,
         "tickcolor": "rgb(127,127,127)",
         "ticks": "outside",
         "title": "Net Value ($)",
         "zeroline": false
        },
        "yaxis1": {
         "anchor": "x1",
         "gridcolor": "rgb(255,255,255)",
         "range": [
          0
         ],
         "showgrid": true,
         "showline": false,
         "showticklabels": true,
         "tickcolor": "rgb(127,127,127)",
         "ticks": "outside",
         "title": "RT (s)",
         "zeroline": false
        },
        "yaxis2": {
         "anchor": "x2",
         "gridcolor": "rgb(255,255,255)",
         "range": [
          0
         ],
         "showgrid": true,
         "showline": false,
         "showticklabels": true,
         "tickcolor": "rgb(127,127,127)",
         "ticks": "outside",
         "title": "p (accept)",
         "zeroline": false
        }
       }
      },
      "text/html": [
       "<div id=\"665c8df4-c6d1-463e-a32b-3ffdcdb637fe\" style=\"height: 525px; width: 100%;\" class=\"plotly-graph-div\"></div><script type=\"text/javascript\">require([\"plotly\"], function(Plotly) { window.PLOTLYENV=window.PLOTLYENV || {};window.PLOTLYENV.BASE_URL=\"https://plot.ly\";Plotly.newPlot(\"665c8df4-c6d1-463e-a32b-3ffdcdb637fe\", [{\"type\": \"scatter\", \"x\": [-1.686923076923077, -0.8123809523809523, -0.2756521739130436, 0.02799999999999996, 0.27105263157894727, 0.7813636363636364, 1.5395238095238095], \"y\": [1.638579470857692, 1.9859039087147852, 2.2414704256630302, 2.171842512818209, 1.7782342430743348, 1.6221177481771023, 1.2644601382947134], \"error_y\": {\"type\": \"data\", \"array\": [0.10879429279426972, 0.25402595724407784, 0.3409129329043157, 0.2260598981907746, 0.24480488295898126, 0.16771570062318283, 0.05381930759782264], \"color\": \"rgb(0,170,80)\", \"visible\": true}, \"line\": {\"color\": \"rgb(0,100,80)\"}, \"mode\": \"lines+markers\", \"name\": \"Test Data\"}, {\"type\": \"scatter\", \"x\": [-1.686923076923077, -0.8123809523809523, -0.2756521739130436, 0.02799999999999996, 0.27105263157894727, 0.7813636363636364, 1.5395238095238095], \"y\": [2.0274071538461524, 2.4127860852990293, 2.6235966126785106, 2.5024206433958436, 2.5927344894839446, 2.3744884059289, 2.0226153443184973], \"error_y\": {\"type\": \"data\", \"array\": [0.008424637716545938, 0.008736790614472637, 0.009590294993761652, 0.008005870280126332, 0.010296536245678879, 0.008424118137647856, 0.006263124336253246], \"color\": \"rgb(0,100,246)\", \"visible\": true}, \"line\": {\"color\": \"rgb(0,176,246)\"}, \"mode\": \"lines+markers\", \"name\": \"Sim Data\"}, {\"type\": \"scatter\", \"x\": [-1.686923076923077, -0.8123809523809523, -0.2756521739130436, 0.02799999999999996, 0.27105263157894727, 0.7813636363636364, 1.5395238095238095], \"y\": [0.07692307692307693, 0.09523809523809523, 0.30434782608695654, 0.5333333333333333, 0.7368421052631579, 0.9090909090909091, 1.0], \"error_y\": {\"type\": \"data\", \"array\": [0.07692307692307691, 0.06563832739090582, 0.09810018692482893, 0.09264111117062016, 0.10379087338771255, 0.06273323266748675, 0.0], \"color\": \"rgb(0,170,80)\", \"visible\": true}, \"line\": {\"color\": \"rgb(0,100,80)\"}, \"mode\": \"lines+markers\", \"name\": \"Test Data\", \"xaxis\": \"x2\", \"yaxis\": \"y2\"}, {\"type\": \"scatter\", \"x\": [-1.686923076923077, -0.8123809523809523, -0.2756521739130436, 0.02799999999999996, 0.27105263157894727, 0.7813636363636364, 1.5395238095238095], \"y\": [0.10107692307692308, 0.23269001667857994, 0.3873650296064089, 0.529700327037309, 0.6234779400137052, 0.7848049468036737, 0.9278978950376227], \"error_y\": {\"type\": \"data\", \"array\": [0.002643822531222562, 0.0029169578992903674, 0.003214466929683212, 0.0028833364214977367, 0.0035178076864458814, 0.0027711164133496762, 0.0017850296838306534], \"color\": \"rgb(0,100,246)\", \"visible\": true}, \"line\": {\"color\": \"rgb(0,176,246)\"}, \"mode\": \"lines+markers\", \"name\": \"Sim Data\", \"xaxis\": \"x2\", \"yaxis\": \"y2\"}], {\"paper_bgcolor\": \"rgb(255,255,255)\", \"plot_bgcolor\": \"rgb(229,229,229)\", \"xaxis\": {\"gridcolor\": \"rgb(255,255,255)\", \"range\": [-2, 2], \"domain\": [0, 0.45], \"showgrid\": true, \"showline\": false, \"showticklabels\": true, \"tickcolor\": \"rgb(127,127,127)\", \"ticks\": \"outside\", \"title\": \"Net Value ($)\", \"zeroline\": false}, \"xaxis2\": {\"gridcolor\": \"rgb(255,255,255)\", \"range\": [-2, 2], \"domain\": [0.55, 1], \"showgrid\": true, \"showline\": false, \"showticklabels\": true, \"tickcolor\": \"rgb(127,127,127)\", \"ticks\": \"outside\", \"title\": \"Net Value ($)\", \"zeroline\": false}, \"yaxis1\": {\"gridcolor\": \"rgb(255,255,255)\", \"range\": [0], \"showgrid\": true, \"showline\": false, \"showticklabels\": true, \"tickcolor\": \"rgb(127,127,127)\", \"ticks\": \"outside\", \"title\": \"RT (s)\", \"anchor\": \"x1\", \"zeroline\": false}, \"yaxis2\": {\"gridcolor\": \"rgb(255,255,255)\", \"range\": [0], \"showgrid\": true, \"showline\": false, \"showticklabels\": true, \"tickcolor\": \"rgb(127,127,127)\", \"ticks\": \"outside\", \"title\": \"p (accept)\", \"anchor\": \"x2\", \"zeroline\": false}, \"annotations\": [{\"x\": 0.01, \"y\": 1.12, \"showarrow\": false, \"text\": \"PARAMETERS: v: 0.088, a: 0.136, \\u03b8: 0.46\", \"xref\": \"paper\", \"yref\": \"paper\"}, {\"x\": 0.01, \"y\": 1.08, \"showarrow\": false, \"text\": \"MLE: 575.75\", \"xref\": \"paper\", \"yref\": \"paper\"}, {\"x\": 0.01, \"y\": 1.2, \"showarrow\": false, \"text\": \"SUBJECT: 2\", \"font\": {\"family\": \"Arial, sans-serif\", \"size\": 22}, \"xref\": \"paper\", \"yref\": \"paper\"}]}, {\"showLink\": true, \"linkText\": \"Export to plot.ly\"})});</script>"
      ],
      "text/vnd.plotly.v1+html": [
       "<div id=\"665c8df4-c6d1-463e-a32b-3ffdcdb637fe\" style=\"height: 525px; width: 100%;\" class=\"plotly-graph-div\"></div><script type=\"text/javascript\">require([\"plotly\"], function(Plotly) { window.PLOTLYENV=window.PLOTLYENV || {};window.PLOTLYENV.BASE_URL=\"https://plot.ly\";Plotly.newPlot(\"665c8df4-c6d1-463e-a32b-3ffdcdb637fe\", [{\"type\": \"scatter\", \"x\": [-1.686923076923077, -0.8123809523809523, -0.2756521739130436, 0.02799999999999996, 0.27105263157894727, 0.7813636363636364, 1.5395238095238095], \"y\": [1.638579470857692, 1.9859039087147852, 2.2414704256630302, 2.171842512818209, 1.7782342430743348, 1.6221177481771023, 1.2644601382947134], \"error_y\": {\"type\": \"data\", \"array\": [0.10879429279426972, 0.25402595724407784, 0.3409129329043157, 0.2260598981907746, 0.24480488295898126, 0.16771570062318283, 0.05381930759782264], \"color\": \"rgb(0,170,80)\", \"visible\": true}, \"line\": {\"color\": \"rgb(0,100,80)\"}, \"mode\": \"lines+markers\", \"name\": \"Test Data\"}, {\"type\": \"scatter\", \"x\": [-1.686923076923077, -0.8123809523809523, -0.2756521739130436, 0.02799999999999996, 0.27105263157894727, 0.7813636363636364, 1.5395238095238095], \"y\": [2.0274071538461524, 2.4127860852990293, 2.6235966126785106, 2.5024206433958436, 2.5927344894839446, 2.3744884059289, 2.0226153443184973], \"error_y\": {\"type\": \"data\", \"array\": [0.008424637716545938, 0.008736790614472637, 0.009590294993761652, 0.008005870280126332, 0.010296536245678879, 0.008424118137647856, 0.006263124336253246], \"color\": \"rgb(0,100,246)\", \"visible\": true}, \"line\": {\"color\": \"rgb(0,176,246)\"}, \"mode\": \"lines+markers\", \"name\": \"Sim Data\"}, {\"type\": \"scatter\", \"x\": [-1.686923076923077, -0.8123809523809523, -0.2756521739130436, 0.02799999999999996, 0.27105263157894727, 0.7813636363636364, 1.5395238095238095], \"y\": [0.07692307692307693, 0.09523809523809523, 0.30434782608695654, 0.5333333333333333, 0.7368421052631579, 0.9090909090909091, 1.0], \"error_y\": {\"type\": \"data\", \"array\": [0.07692307692307691, 0.06563832739090582, 0.09810018692482893, 0.09264111117062016, 0.10379087338771255, 0.06273323266748675, 0.0], \"color\": \"rgb(0,170,80)\", \"visible\": true}, \"line\": {\"color\": \"rgb(0,100,80)\"}, \"mode\": \"lines+markers\", \"name\": \"Test Data\", \"xaxis\": \"x2\", \"yaxis\": \"y2\"}, {\"type\": \"scatter\", \"x\": [-1.686923076923077, -0.8123809523809523, -0.2756521739130436, 0.02799999999999996, 0.27105263157894727, 0.7813636363636364, 1.5395238095238095], \"y\": [0.10107692307692308, 0.23269001667857994, 0.3873650296064089, 0.529700327037309, 0.6234779400137052, 0.7848049468036737, 0.9278978950376227], \"error_y\": {\"type\": \"data\", \"array\": [0.002643822531222562, 0.0029169578992903674, 0.003214466929683212, 0.0028833364214977367, 0.0035178076864458814, 0.0027711164133496762, 0.0017850296838306534], \"color\": \"rgb(0,100,246)\", \"visible\": true}, \"line\": {\"color\": \"rgb(0,176,246)\"}, \"mode\": \"lines+markers\", \"name\": \"Sim Data\", \"xaxis\": \"x2\", \"yaxis\": \"y2\"}], {\"paper_bgcolor\": \"rgb(255,255,255)\", \"plot_bgcolor\": \"rgb(229,229,229)\", \"xaxis\": {\"gridcolor\": \"rgb(255,255,255)\", \"range\": [-2, 2], \"domain\": [0, 0.45], \"showgrid\": true, \"showline\": false, \"showticklabels\": true, \"tickcolor\": \"rgb(127,127,127)\", \"ticks\": \"outside\", \"title\": \"Net Value ($)\", \"zeroline\": false}, \"xaxis2\": {\"gridcolor\": \"rgb(255,255,255)\", \"range\": [-2, 2], \"domain\": [0.55, 1], \"showgrid\": true, \"showline\": false, \"showticklabels\": true, \"tickcolor\": \"rgb(127,127,127)\", \"ticks\": \"outside\", \"title\": \"Net Value ($)\", \"zeroline\": false}, \"yaxis1\": {\"gridcolor\": \"rgb(255,255,255)\", \"range\": [0], \"showgrid\": true, \"showline\": false, \"showticklabels\": true, \"tickcolor\": \"rgb(127,127,127)\", \"ticks\": \"outside\", \"title\": \"RT (s)\", \"anchor\": \"x1\", \"zeroline\": false}, \"yaxis2\": {\"gridcolor\": \"rgb(255,255,255)\", \"range\": [0], \"showgrid\": true, \"showline\": false, \"showticklabels\": true, \"tickcolor\": \"rgb(127,127,127)\", \"ticks\": \"outside\", \"title\": \"p (accept)\", \"anchor\": \"x2\", \"zeroline\": false}, \"annotations\": [{\"x\": 0.01, \"y\": 1.12, \"showarrow\": false, \"text\": \"PARAMETERS: v: 0.088, a: 0.136, \\u03b8: 0.46\", \"xref\": \"paper\", \"yref\": \"paper\"}, {\"x\": 0.01, \"y\": 1.08, \"showarrow\": false, \"text\": \"MLE: 575.75\", \"xref\": \"paper\", \"yref\": \"paper\"}, {\"x\": 0.01, \"y\": 1.2, \"showarrow\": false, \"text\": \"SUBJECT: 2\", \"font\": {\"family\": \"Arial, sans-serif\", \"size\": 22}, \"xref\": \"paper\", \"yref\": \"paper\"}]}, {\"showLink\": true, \"linkText\": \"Export to plot.ly\"})});</script>"
      ]
     },
     "metadata": {},
     "output_type": "display_data"
    },
    {
     "data": {
      "text/html": [
       "<script>requirejs.config({paths: { 'plotly': ['https://cdn.plot.ly/plotly-latest.min']},});if(!window.Plotly) {{require(['plotly'],function(plotly) {window.Plotly=plotly;});}}</script>"
      ],
      "text/vnd.plotly.v1+html": [
       "<script>requirejs.config({paths: { 'plotly': ['https://cdn.plot.ly/plotly-latest.min']},});if(!window.Plotly) {{require(['plotly'],function(plotly) {window.Plotly=plotly;});}}</script>"
      ]
     },
     "metadata": {},
     "output_type": "display_data"
    },
    {
     "data": {
      "application/vnd.plotly.v1+json": {
       "data": [
        {
         "error_y": {
          "array": [
           0.1102701021747477,
           0.32080609297211565,
           0.273288008346219,
           0.22112527698932793,
           0.4312362408282256,
           0.20907660220046495,
           0.32466589321716044
          ],
          "color": "rgb(0,170,80)",
          "type": "data",
          "visible": true
         },
         "line": {
          "color": "rgb(0,100,80)"
         },
         "mode": "lines+markers",
         "name": "Test Data",
         "type": "scatter",
         "x": [
          -1.6504999999999999,
          -0.8216666666666667,
          -0.3322222222222222,
          0.031379310344827556,
          0.31399999999999995,
          0.7887500000000003,
          1.5991304347826085
         ],
         "y": [
          1.6242911497538437,
          2.3176755745274327,
          2.431576300043768,
          2.3799502586921806,
          2.4389645597664638,
          2.132048700916736,
          2.195744744593115
         ]
        },
        {
         "error_y": {
          "array": [
           0.00593327186616315,
           0.00850713914018013,
           0.010313280911012574,
           0.007537503841245459,
           0.011225123399037387,
           0.007645495549451136,
           0.005720118502155566
          ],
          "color": "rgb(0,100,246)",
          "type": "data",
          "visible": true
         },
         "line": {
          "color": "rgb(0,176,246)"
         },
         "mode": "lines+markers",
         "name": "Sim Data",
         "type": "scatter",
         "x": [
          -1.6504999999999999,
          -0.8216666666666667,
          -0.3322222222222222,
          0.031379310344827556,
          0.31399999999999995,
          0.7887500000000003,
          1.5991304347826085
         ],
         "y": [
          1.8800214021402215,
          2.2210000555864364,
          2.539813566861257,
          2.3263400635052096,
          2.501693411654777,
          2.2670554259043136,
          1.9564446956521784
         ]
        },
        {
         "error_y": {
          "array": [
           0.06882472016116853,
           0.10863248456597818,
           0.10863248456597818,
           0.08446516354424752,
           0.06666666666666665,
           0.05763033956734372,
           0.043478260869565216
          ],
          "color": "rgb(0,170,80)",
          "type": "data",
          "visible": true
         },
         "line": {
          "color": "rgb(0,100,80)"
         },
         "mode": "lines+markers",
         "name": "Test Data",
         "type": "scatter",
         "x": [
          -1.6504999999999999,
          -0.8216666666666667,
          -0.3322222222222222,
          0.031379310344827556,
          0.31399999999999995,
          0.7887500000000003,
          1.5991304347826085
         ],
         "xaxis": "x2",
         "y": [
          0.1,
          0.2777777777777778,
          0.2777777777777778,
          0.7241379310344828,
          0.9333333333333333,
          0.9166666666666666,
          0.9565217391304348
         ],
         "yaxis": "y2"
        },
        {
         "error_y": {
          "array": [
           0.0016563561651331271,
           0.0029479138447693464,
           0.0035835482167452756,
           0.0029374587529870733,
           0.003882808032733848,
           0.00267238468446254,
           0.0016915726382498812
          ],
          "color": "rgb(0,100,246)",
          "type": "data",
          "visible": true
         },
         "line": {
          "color": "rgb(0,176,246)"
         },
         "mode": "lines+markers",
         "name": "Sim Data",
         "type": "scatter",
         "x": [
          -1.6504999999999999,
          -0.8216666666666667,
          -0.3322222222222222,
          0.031379310344827556,
          0.31399999999999995,
          0.7887500000000003,
          1.5991304347826085
         ],
         "xaxis": "x2",
         "y": [
          0.058255825582558256,
          0.19394107837687605,
          0.36196830692243537,
          0.5013115206737074,
          0.6554302116013617,
          0.7804217369561594,
          0.9291739130434783
         ],
         "yaxis": "y2"
        }
       ],
       "layout": {
        "annotations": [
         {
          "showarrow": false,
          "text": "PARAMETERS: v: 0.109, a: 0.136, θ: 0.28",
          "x": 0.01,
          "xref": "paper",
          "y": 1.12,
          "yref": "paper"
         },
         {
          "showarrow": false,
          "text": "MLE: 615.75",
          "x": 0.01,
          "xref": "paper",
          "y": 1.08,
          "yref": "paper"
         },
         {
          "font": {
           "family": "Arial, sans-serif",
           "size": 22
          },
          "showarrow": false,
          "text": "SUBJECT: 3",
          "x": 0.01,
          "xref": "paper",
          "y": 1.2,
          "yref": "paper"
         }
        ],
        "paper_bgcolor": "rgb(255,255,255)",
        "plot_bgcolor": "rgb(229,229,229)",
        "xaxis": {
         "domain": [
          0,
          0.45
         ],
         "gridcolor": "rgb(255,255,255)",
         "range": [
          -2,
          2
         ],
         "showgrid": true,
         "showline": false,
         "showticklabels": true,
         "tickcolor": "rgb(127,127,127)",
         "ticks": "outside",
         "title": "Net Value ($)",
         "zeroline": false
        },
        "xaxis2": {
         "domain": [
          0.55,
          1
         ],
         "gridcolor": "rgb(255,255,255)",
         "range": [
          -2,
          2
         ],
         "showgrid": true,
         "showline": false,
         "showticklabels": true,
         "tickcolor": "rgb(127,127,127)",
         "ticks": "outside",
         "title": "Net Value ($)",
         "zeroline": false
        },
        "yaxis1": {
         "anchor": "x1",
         "gridcolor": "rgb(255,255,255)",
         "range": [
          0
         ],
         "showgrid": true,
         "showline": false,
         "showticklabels": true,
         "tickcolor": "rgb(127,127,127)",
         "ticks": "outside",
         "title": "RT (s)",
         "zeroline": false
        },
        "yaxis2": {
         "anchor": "x2",
         "gridcolor": "rgb(255,255,255)",
         "range": [
          0
         ],
         "showgrid": true,
         "showline": false,
         "showticklabels": true,
         "tickcolor": "rgb(127,127,127)",
         "ticks": "outside",
         "title": "p (accept)",
         "zeroline": false
        }
       }
      },
      "text/html": [
       "<div id=\"9429d5fb-04ef-4032-92bf-f5db3ef46a94\" style=\"height: 525px; width: 100%;\" class=\"plotly-graph-div\"></div><script type=\"text/javascript\">require([\"plotly\"], function(Plotly) { window.PLOTLYENV=window.PLOTLYENV || {};window.PLOTLYENV.BASE_URL=\"https://plot.ly\";Plotly.newPlot(\"9429d5fb-04ef-4032-92bf-f5db3ef46a94\", [{\"type\": \"scatter\", \"x\": [-1.6504999999999999, -0.8216666666666667, -0.3322222222222222, 0.031379310344827556, 0.31399999999999995, 0.7887500000000003, 1.5991304347826085], \"y\": [1.6242911497538437, 2.3176755745274327, 2.431576300043768, 2.3799502586921806, 2.4389645597664638, 2.132048700916736, 2.195744744593115], \"error_y\": {\"type\": \"data\", \"array\": [0.1102701021747477, 0.32080609297211565, 0.273288008346219, 0.22112527698932793, 0.4312362408282256, 0.20907660220046495, 0.32466589321716044], \"color\": \"rgb(0,170,80)\", \"visible\": true}, \"line\": {\"color\": \"rgb(0,100,80)\"}, \"mode\": \"lines+markers\", \"name\": \"Test Data\"}, {\"type\": \"scatter\", \"x\": [-1.6504999999999999, -0.8216666666666667, -0.3322222222222222, 0.031379310344827556, 0.31399999999999995, 0.7887500000000003, 1.5991304347826085], \"y\": [1.8800214021402215, 2.2210000555864364, 2.539813566861257, 2.3263400635052096, 2.501693411654777, 2.2670554259043136, 1.9564446956521784], \"error_y\": {\"type\": \"data\", \"array\": [0.00593327186616315, 0.00850713914018013, 0.010313280911012574, 0.007537503841245459, 0.011225123399037387, 0.007645495549451136, 0.005720118502155566], \"color\": \"rgb(0,100,246)\", \"visible\": true}, \"line\": {\"color\": \"rgb(0,176,246)\"}, \"mode\": \"lines+markers\", \"name\": \"Sim Data\"}, {\"type\": \"scatter\", \"x\": [-1.6504999999999999, -0.8216666666666667, -0.3322222222222222, 0.031379310344827556, 0.31399999999999995, 0.7887500000000003, 1.5991304347826085], \"y\": [0.1, 0.2777777777777778, 0.2777777777777778, 0.7241379310344828, 0.9333333333333333, 0.9166666666666666, 0.9565217391304348], \"error_y\": {\"type\": \"data\", \"array\": [0.06882472016116853, 0.10863248456597818, 0.10863248456597818, 0.08446516354424752, 0.06666666666666665, 0.05763033956734372, 0.043478260869565216], \"color\": \"rgb(0,170,80)\", \"visible\": true}, \"line\": {\"color\": \"rgb(0,100,80)\"}, \"mode\": \"lines+markers\", \"name\": \"Test Data\", \"xaxis\": \"x2\", \"yaxis\": \"y2\"}, {\"type\": \"scatter\", \"x\": [-1.6504999999999999, -0.8216666666666667, -0.3322222222222222, 0.031379310344827556, 0.31399999999999995, 0.7887500000000003, 1.5991304347826085], \"y\": [0.058255825582558256, 0.19394107837687605, 0.36196830692243537, 0.5013115206737074, 0.6554302116013617, 0.7804217369561594, 0.9291739130434783], \"error_y\": {\"type\": \"data\", \"array\": [0.0016563561651331271, 0.0029479138447693464, 0.0035835482167452756, 0.0029374587529870733, 0.003882808032733848, 0.00267238468446254, 0.0016915726382498812], \"color\": \"rgb(0,100,246)\", \"visible\": true}, \"line\": {\"color\": \"rgb(0,176,246)\"}, \"mode\": \"lines+markers\", \"name\": \"Sim Data\", \"xaxis\": \"x2\", \"yaxis\": \"y2\"}], {\"paper_bgcolor\": \"rgb(255,255,255)\", \"plot_bgcolor\": \"rgb(229,229,229)\", \"xaxis\": {\"gridcolor\": \"rgb(255,255,255)\", \"range\": [-2, 2], \"domain\": [0, 0.45], \"showgrid\": true, \"showline\": false, \"showticklabels\": true, \"tickcolor\": \"rgb(127,127,127)\", \"ticks\": \"outside\", \"title\": \"Net Value ($)\", \"zeroline\": false}, \"xaxis2\": {\"gridcolor\": \"rgb(255,255,255)\", \"range\": [-2, 2], \"domain\": [0.55, 1], \"showgrid\": true, \"showline\": false, \"showticklabels\": true, \"tickcolor\": \"rgb(127,127,127)\", \"ticks\": \"outside\", \"title\": \"Net Value ($)\", \"zeroline\": false}, \"yaxis1\": {\"gridcolor\": \"rgb(255,255,255)\", \"range\": [0], \"showgrid\": true, \"showline\": false, \"showticklabels\": true, \"tickcolor\": \"rgb(127,127,127)\", \"ticks\": \"outside\", \"title\": \"RT (s)\", \"anchor\": \"x1\", \"zeroline\": false}, \"yaxis2\": {\"gridcolor\": \"rgb(255,255,255)\", \"range\": [0], \"showgrid\": true, \"showline\": false, \"showticklabels\": true, \"tickcolor\": \"rgb(127,127,127)\", \"ticks\": \"outside\", \"title\": \"p (accept)\", \"anchor\": \"x2\", \"zeroline\": false}, \"annotations\": [{\"x\": 0.01, \"y\": 1.12, \"showarrow\": false, \"text\": \"PARAMETERS: v: 0.109, a: 0.136, \\u03b8: 0.28\", \"xref\": \"paper\", \"yref\": \"paper\"}, {\"x\": 0.01, \"y\": 1.08, \"showarrow\": false, \"text\": \"MLE: 615.75\", \"xref\": \"paper\", \"yref\": \"paper\"}, {\"x\": 0.01, \"y\": 1.2, \"showarrow\": false, \"text\": \"SUBJECT: 3\", \"font\": {\"family\": \"Arial, sans-serif\", \"size\": 22}, \"xref\": \"paper\", \"yref\": \"paper\"}]}, {\"showLink\": true, \"linkText\": \"Export to plot.ly\"})});</script>"
      ],
      "text/vnd.plotly.v1+html": [
       "<div id=\"9429d5fb-04ef-4032-92bf-f5db3ef46a94\" style=\"height: 525px; width: 100%;\" class=\"plotly-graph-div\"></div><script type=\"text/javascript\">require([\"plotly\"], function(Plotly) { window.PLOTLYENV=window.PLOTLYENV || {};window.PLOTLYENV.BASE_URL=\"https://plot.ly\";Plotly.newPlot(\"9429d5fb-04ef-4032-92bf-f5db3ef46a94\", [{\"type\": \"scatter\", \"x\": [-1.6504999999999999, -0.8216666666666667, -0.3322222222222222, 0.031379310344827556, 0.31399999999999995, 0.7887500000000003, 1.5991304347826085], \"y\": [1.6242911497538437, 2.3176755745274327, 2.431576300043768, 2.3799502586921806, 2.4389645597664638, 2.132048700916736, 2.195744744593115], \"error_y\": {\"type\": \"data\", \"array\": [0.1102701021747477, 0.32080609297211565, 0.273288008346219, 0.22112527698932793, 0.4312362408282256, 0.20907660220046495, 0.32466589321716044], \"color\": \"rgb(0,170,80)\", \"visible\": true}, \"line\": {\"color\": \"rgb(0,100,80)\"}, \"mode\": \"lines+markers\", \"name\": \"Test Data\"}, {\"type\": \"scatter\", \"x\": [-1.6504999999999999, -0.8216666666666667, -0.3322222222222222, 0.031379310344827556, 0.31399999999999995, 0.7887500000000003, 1.5991304347826085], \"y\": [1.8800214021402215, 2.2210000555864364, 2.539813566861257, 2.3263400635052096, 2.501693411654777, 2.2670554259043136, 1.9564446956521784], \"error_y\": {\"type\": \"data\", \"array\": [0.00593327186616315, 0.00850713914018013, 0.010313280911012574, 0.007537503841245459, 0.011225123399037387, 0.007645495549451136, 0.005720118502155566], \"color\": \"rgb(0,100,246)\", \"visible\": true}, \"line\": {\"color\": \"rgb(0,176,246)\"}, \"mode\": \"lines+markers\", \"name\": \"Sim Data\"}, {\"type\": \"scatter\", \"x\": [-1.6504999999999999, -0.8216666666666667, -0.3322222222222222, 0.031379310344827556, 0.31399999999999995, 0.7887500000000003, 1.5991304347826085], \"y\": [0.1, 0.2777777777777778, 0.2777777777777778, 0.7241379310344828, 0.9333333333333333, 0.9166666666666666, 0.9565217391304348], \"error_y\": {\"type\": \"data\", \"array\": [0.06882472016116853, 0.10863248456597818, 0.10863248456597818, 0.08446516354424752, 0.06666666666666665, 0.05763033956734372, 0.043478260869565216], \"color\": \"rgb(0,170,80)\", \"visible\": true}, \"line\": {\"color\": \"rgb(0,100,80)\"}, \"mode\": \"lines+markers\", \"name\": \"Test Data\", \"xaxis\": \"x2\", \"yaxis\": \"y2\"}, {\"type\": \"scatter\", \"x\": [-1.6504999999999999, -0.8216666666666667, -0.3322222222222222, 0.031379310344827556, 0.31399999999999995, 0.7887500000000003, 1.5991304347826085], \"y\": [0.058255825582558256, 0.19394107837687605, 0.36196830692243537, 0.5013115206737074, 0.6554302116013617, 0.7804217369561594, 0.9291739130434783], \"error_y\": {\"type\": \"data\", \"array\": [0.0016563561651331271, 0.0029479138447693464, 0.0035835482167452756, 0.0029374587529870733, 0.003882808032733848, 0.00267238468446254, 0.0016915726382498812], \"color\": \"rgb(0,100,246)\", \"visible\": true}, \"line\": {\"color\": \"rgb(0,176,246)\"}, \"mode\": \"lines+markers\", \"name\": \"Sim Data\", \"xaxis\": \"x2\", \"yaxis\": \"y2\"}], {\"paper_bgcolor\": \"rgb(255,255,255)\", \"plot_bgcolor\": \"rgb(229,229,229)\", \"xaxis\": {\"gridcolor\": \"rgb(255,255,255)\", \"range\": [-2, 2], \"domain\": [0, 0.45], \"showgrid\": true, \"showline\": false, \"showticklabels\": true, \"tickcolor\": \"rgb(127,127,127)\", \"ticks\": \"outside\", \"title\": \"Net Value ($)\", \"zeroline\": false}, \"xaxis2\": {\"gridcolor\": \"rgb(255,255,255)\", \"range\": [-2, 2], \"domain\": [0.55, 1], \"showgrid\": true, \"showline\": false, \"showticklabels\": true, \"tickcolor\": \"rgb(127,127,127)\", \"ticks\": \"outside\", \"title\": \"Net Value ($)\", \"zeroline\": false}, \"yaxis1\": {\"gridcolor\": \"rgb(255,255,255)\", \"range\": [0], \"showgrid\": true, \"showline\": false, \"showticklabels\": true, \"tickcolor\": \"rgb(127,127,127)\", \"ticks\": \"outside\", \"title\": \"RT (s)\", \"anchor\": \"x1\", \"zeroline\": false}, \"yaxis2\": {\"gridcolor\": \"rgb(255,255,255)\", \"range\": [0], \"showgrid\": true, \"showline\": false, \"showticklabels\": true, \"tickcolor\": \"rgb(127,127,127)\", \"ticks\": \"outside\", \"title\": \"p (accept)\", \"anchor\": \"x2\", \"zeroline\": false}, \"annotations\": [{\"x\": 0.01, \"y\": 1.12, \"showarrow\": false, \"text\": \"PARAMETERS: v: 0.109, a: 0.136, \\u03b8: 0.28\", \"xref\": \"paper\", \"yref\": \"paper\"}, {\"x\": 0.01, \"y\": 1.08, \"showarrow\": false, \"text\": \"MLE: 615.75\", \"xref\": \"paper\", \"yref\": \"paper\"}, {\"x\": 0.01, \"y\": 1.2, \"showarrow\": false, \"text\": \"SUBJECT: 3\", \"font\": {\"family\": \"Arial, sans-serif\", \"size\": 22}, \"xref\": \"paper\", \"yref\": \"paper\"}]}, {\"showLink\": true, \"linkText\": \"Export to plot.ly\"})});</script>"
      ]
     },
     "metadata": {},
     "output_type": "display_data"
    },
    {
     "data": {
      "text/html": [
       "<script>requirejs.config({paths: { 'plotly': ['https://cdn.plot.ly/plotly-latest.min']},});if(!window.Plotly) {{require(['plotly'],function(plotly) {window.Plotly=plotly;});}}</script>"
      ],
      "text/vnd.plotly.v1+html": [
       "<script>requirejs.config({paths: { 'plotly': ['https://cdn.plot.ly/plotly-latest.min']},});if(!window.Plotly) {{require(['plotly'],function(plotly) {window.Plotly=plotly;});}}</script>"
      ]
     },
     "metadata": {},
     "output_type": "display_data"
    },
    {
     "data": {
      "application/vnd.plotly.v1+json": {
       "data": [
        {
         "error_y": {
          "array": [
           0.32129862347532606,
           0.4621315558721299,
           0.19224839363799817,
           0.3279100582633189,
           0.4583042004716843,
           0.4294987771298358,
           0.29206220534775756
          ],
          "color": "rgb(0,170,80)",
          "type": "data",
          "visible": true
         },
         "line": {
          "color": "rgb(0,100,80)"
         },
         "mode": "lines+markers",
         "name": "Test Data",
         "type": "scatter",
         "x": [
          -1.8000000000000003,
          -0.794705882352941,
          -0.30916666666666665,
          0.02689655172413791,
          0.36647058823529405,
          0.7600000000000001,
          1.8549999999999998
         ],
         "y": [
          2.7815451622314686,
          2.837450211625068,
          3.147442831504614,
          3.4559793460096695,
          3.6884238950389556,
          3.405157981194673,
          3.008541587551078
         ]
        },
        {
         "error_y": {
          "array": [
           0.01115032862182075,
           0.017075129174770616,
           0.015444090723611255,
           0.014199562464935065,
           0.01855365420593704,
           0.01713512913779344,
           0.011854355275952844
          ],
          "color": "rgb(0,100,246)",
          "type": "data",
          "visible": true
         },
         "line": {
          "color": "rgb(0,176,246)"
         },
         "mode": "lines+markers",
         "name": "Sim Data",
         "type": "scatter",
         "x": [
          -1.8000000000000003,
          -0.794705882352941,
          -0.30916666666666665,
          0.02689655172413791,
          0.36647058823529405,
          0.7600000000000001,
          1.8549999999999998
         ],
         "y": [
          3.373868194146458,
          4.049132066217035,
          4.395308638068994,
          4.373095986559602,
          4.523174684517302,
          4.028937735034835,
          3.1791085607627405
         ]
        },
        {
         "error_y": {
          "array": [
           0,
           0.09530501027070383,
           0.09829463743659811,
           0.09169709590633639,
           0,
           0.058823529411764705,
           0
          ],
          "color": "rgb(0,170,80)",
          "type": "data",
          "visible": true
         },
         "line": {
          "color": "rgb(0,100,80)"
         },
         "mode": "lines+markers",
         "name": "Test Data",
         "type": "scatter",
         "x": [
          -1.8000000000000003,
          -0.794705882352941,
          -0.30916666666666665,
          0.02689655172413791,
          0.36647058823529405,
          0.7600000000000001,
          1.8549999999999998
         ],
         "xaxis": "x2",
         "y": [
          0,
          0.17647058823529413,
          0.3333333333333333,
          0.6206896551724138,
          1,
          0.9411764705882353,
          1
         ],
         "yaxis": "y2"
        },
        {
         "error_y": {
          "array": [
           0.0014061226715003678,
           0.003250781907815624,
           0.0030946558119325112,
           0.003049603479215446,
           0.0037774353585744947,
           0.0030940004797482454,
           0.001309137659857623
          ],
          "color": "rgb(0,100,246)",
          "type": "data",
          "visible": true
         },
         "line": {
          "color": "rgb(0,176,246)"
         },
         "mode": "lines+markers",
         "name": "Sim Data",
         "type": "scatter",
         "x": [
          -1.8000000000000003,
          -0.794705882352941,
          -0.30916666666666665,
          0.02689655172413791,
          0.36647058823529405,
          0.7600000000000001,
          1.8549999999999998
         ],
         "xaxis": "x2",
         "y": [
          0.051491721653240494,
          0.22133660331085223,
          0.30470551010260816,
          0.4698898637296995,
          0.6651079367112933,
          0.8077800382220578,
          0.9647883771376684
         ],
         "yaxis": "y2"
        }
       ],
       "layout": {
        "annotations": [
         {
          "showarrow": false,
          "text": "PARAMETERS: v: 0.088, a: 0.221, θ: 0.1",
          "x": 0.01,
          "xref": "paper",
          "y": 1.12,
          "yref": "paper"
         },
         {
          "showarrow": false,
          "text": "MLE: 652.38",
          "x": 0.01,
          "xref": "paper",
          "y": 1.08,
          "yref": "paper"
         },
         {
          "font": {
           "family": "Arial, sans-serif",
           "size": 22
          },
          "showarrow": false,
          "text": "SUBJECT: 4",
          "x": 0.01,
          "xref": "paper",
          "y": 1.2,
          "yref": "paper"
         }
        ],
        "paper_bgcolor": "rgb(255,255,255)",
        "plot_bgcolor": "rgb(229,229,229)",
        "xaxis": {
         "domain": [
          0,
          0.45
         ],
         "gridcolor": "rgb(255,255,255)",
         "range": [
          -2,
          2
         ],
         "showgrid": true,
         "showline": false,
         "showticklabels": true,
         "tickcolor": "rgb(127,127,127)",
         "ticks": "outside",
         "title": "Net Value ($)",
         "zeroline": false
        },
        "xaxis2": {
         "domain": [
          0.55,
          1
         ],
         "gridcolor": "rgb(255,255,255)",
         "range": [
          -2,
          2
         ],
         "showgrid": true,
         "showline": false,
         "showticklabels": true,
         "tickcolor": "rgb(127,127,127)",
         "ticks": "outside",
         "title": "Net Value ($)",
         "zeroline": false
        },
        "yaxis1": {
         "anchor": "x1",
         "gridcolor": "rgb(255,255,255)",
         "range": [
          0
         ],
         "showgrid": true,
         "showline": false,
         "showticklabels": true,
         "tickcolor": "rgb(127,127,127)",
         "ticks": "outside",
         "title": "RT (s)",
         "zeroline": false
        },
        "yaxis2": {
         "anchor": "x2",
         "gridcolor": "rgb(255,255,255)",
         "range": [
          0
         ],
         "showgrid": true,
         "showline": false,
         "showticklabels": true,
         "tickcolor": "rgb(127,127,127)",
         "ticks": "outside",
         "title": "p (accept)",
         "zeroline": false
        }
       }
      },
      "text/html": [
       "<div id=\"1ac1dbd1-3c51-4d79-9547-28937f8ff7ed\" style=\"height: 525px; width: 100%;\" class=\"plotly-graph-div\"></div><script type=\"text/javascript\">require([\"plotly\"], function(Plotly) { window.PLOTLYENV=window.PLOTLYENV || {};window.PLOTLYENV.BASE_URL=\"https://plot.ly\";Plotly.newPlot(\"1ac1dbd1-3c51-4d79-9547-28937f8ff7ed\", [{\"type\": \"scatter\", \"x\": [-1.8000000000000003, -0.794705882352941, -0.30916666666666665, 0.02689655172413791, 0.36647058823529405, 0.7600000000000001, 1.8549999999999998], \"y\": [2.7815451622314686, 2.837450211625068, 3.147442831504614, 3.4559793460096695, 3.6884238950389556, 3.405157981194673, 3.008541587551078], \"error_y\": {\"type\": \"data\", \"array\": [0.32129862347532606, 0.4621315558721299, 0.19224839363799817, 0.3279100582633189, 0.4583042004716843, 0.4294987771298358, 0.29206220534775756], \"color\": \"rgb(0,170,80)\", \"visible\": true}, \"line\": {\"color\": \"rgb(0,100,80)\"}, \"mode\": \"lines+markers\", \"name\": \"Test Data\"}, {\"type\": \"scatter\", \"x\": [-1.8000000000000003, -0.794705882352941, -0.30916666666666665, 0.02689655172413791, 0.36647058823529405, 0.7600000000000001, 1.8549999999999998], \"y\": [3.373868194146458, 4.049132066217035, 4.395308638068994, 4.373095986559602, 4.523174684517302, 4.028937735034835, 3.1791085607627405], \"error_y\": {\"type\": \"data\", \"array\": [0.01115032862182075, 0.017075129174770616, 0.015444090723611255, 0.014199562464935065, 0.01855365420593704, 0.01713512913779344, 0.011854355275952844], \"color\": \"rgb(0,100,246)\", \"visible\": true}, \"line\": {\"color\": \"rgb(0,176,246)\"}, \"mode\": \"lines+markers\", \"name\": \"Sim Data\"}, {\"type\": \"scatter\", \"x\": [-1.8000000000000003, -0.794705882352941, -0.30916666666666665, 0.02689655172413791, 0.36647058823529405, 0.7600000000000001, 1.8549999999999998], \"y\": [0.0, 0.17647058823529413, 0.3333333333333333, 0.6206896551724138, 1.0, 0.9411764705882353, 1.0], \"error_y\": {\"type\": \"data\", \"array\": [0.0, 0.09530501027070383, 0.09829463743659811, 0.09169709590633639, 0.0, 0.058823529411764705, 0.0], \"color\": \"rgb(0,170,80)\", \"visible\": true}, \"line\": {\"color\": \"rgb(0,100,80)\"}, \"mode\": \"lines+markers\", \"name\": \"Test Data\", \"xaxis\": \"x2\", \"yaxis\": \"y2\"}, {\"type\": \"scatter\", \"x\": [-1.8000000000000003, -0.794705882352941, -0.30916666666666665, 0.02689655172413791, 0.36647058823529405, 0.7600000000000001, 1.8549999999999998], \"y\": [0.051491721653240494, 0.22133660331085223, 0.30470551010260816, 0.4698898637296995, 0.6651079367112933, 0.8077800382220578, 0.9647883771376684], \"error_y\": {\"type\": \"data\", \"array\": [0.0014061226715003678, 0.003250781907815624, 0.0030946558119325112, 0.003049603479215446, 0.0037774353585744947, 0.0030940004797482454, 0.001309137659857623], \"color\": \"rgb(0,100,246)\", \"visible\": true}, \"line\": {\"color\": \"rgb(0,176,246)\"}, \"mode\": \"lines+markers\", \"name\": \"Sim Data\", \"xaxis\": \"x2\", \"yaxis\": \"y2\"}], {\"paper_bgcolor\": \"rgb(255,255,255)\", \"plot_bgcolor\": \"rgb(229,229,229)\", \"xaxis\": {\"gridcolor\": \"rgb(255,255,255)\", \"range\": [-2, 2], \"domain\": [0, 0.45], \"showgrid\": true, \"showline\": false, \"showticklabels\": true, \"tickcolor\": \"rgb(127,127,127)\", \"ticks\": \"outside\", \"title\": \"Net Value ($)\", \"zeroline\": false}, \"xaxis2\": {\"gridcolor\": \"rgb(255,255,255)\", \"range\": [-2, 2], \"domain\": [0.55, 1], \"showgrid\": true, \"showline\": false, \"showticklabels\": true, \"tickcolor\": \"rgb(127,127,127)\", \"ticks\": \"outside\", \"title\": \"Net Value ($)\", \"zeroline\": false}, \"yaxis1\": {\"gridcolor\": \"rgb(255,255,255)\", \"range\": [0], \"showgrid\": true, \"showline\": false, \"showticklabels\": true, \"tickcolor\": \"rgb(127,127,127)\", \"ticks\": \"outside\", \"title\": \"RT (s)\", \"anchor\": \"x1\", \"zeroline\": false}, \"yaxis2\": {\"gridcolor\": \"rgb(255,255,255)\", \"range\": [0], \"showgrid\": true, \"showline\": false, \"showticklabels\": true, \"tickcolor\": \"rgb(127,127,127)\", \"ticks\": \"outside\", \"title\": \"p (accept)\", \"anchor\": \"x2\", \"zeroline\": false}, \"annotations\": [{\"x\": 0.01, \"y\": 1.12, \"showarrow\": false, \"text\": \"PARAMETERS: v: 0.088, a: 0.221, \\u03b8: 0.1\", \"xref\": \"paper\", \"yref\": \"paper\"}, {\"x\": 0.01, \"y\": 1.08, \"showarrow\": false, \"text\": \"MLE: 652.38\", \"xref\": \"paper\", \"yref\": \"paper\"}, {\"x\": 0.01, \"y\": 1.2, \"showarrow\": false, \"text\": \"SUBJECT: 4\", \"font\": {\"family\": \"Arial, sans-serif\", \"size\": 22}, \"xref\": \"paper\", \"yref\": \"paper\"}]}, {\"showLink\": true, \"linkText\": \"Export to plot.ly\"})});</script>"
      ],
      "text/vnd.plotly.v1+html": [
       "<div id=\"1ac1dbd1-3c51-4d79-9547-28937f8ff7ed\" style=\"height: 525px; width: 100%;\" class=\"plotly-graph-div\"></div><script type=\"text/javascript\">require([\"plotly\"], function(Plotly) { window.PLOTLYENV=window.PLOTLYENV || {};window.PLOTLYENV.BASE_URL=\"https://plot.ly\";Plotly.newPlot(\"1ac1dbd1-3c51-4d79-9547-28937f8ff7ed\", [{\"type\": \"scatter\", \"x\": [-1.8000000000000003, -0.794705882352941, -0.30916666666666665, 0.02689655172413791, 0.36647058823529405, 0.7600000000000001, 1.8549999999999998], \"y\": [2.7815451622314686, 2.837450211625068, 3.147442831504614, 3.4559793460096695, 3.6884238950389556, 3.405157981194673, 3.008541587551078], \"error_y\": {\"type\": \"data\", \"array\": [0.32129862347532606, 0.4621315558721299, 0.19224839363799817, 0.3279100582633189, 0.4583042004716843, 0.4294987771298358, 0.29206220534775756], \"color\": \"rgb(0,170,80)\", \"visible\": true}, \"line\": {\"color\": \"rgb(0,100,80)\"}, \"mode\": \"lines+markers\", \"name\": \"Test Data\"}, {\"type\": \"scatter\", \"x\": [-1.8000000000000003, -0.794705882352941, -0.30916666666666665, 0.02689655172413791, 0.36647058823529405, 0.7600000000000001, 1.8549999999999998], \"y\": [3.373868194146458, 4.049132066217035, 4.395308638068994, 4.373095986559602, 4.523174684517302, 4.028937735034835, 3.1791085607627405], \"error_y\": {\"type\": \"data\", \"array\": [0.01115032862182075, 0.017075129174770616, 0.015444090723611255, 0.014199562464935065, 0.01855365420593704, 0.01713512913779344, 0.011854355275952844], \"color\": \"rgb(0,100,246)\", \"visible\": true}, \"line\": {\"color\": \"rgb(0,176,246)\"}, \"mode\": \"lines+markers\", \"name\": \"Sim Data\"}, {\"type\": \"scatter\", \"x\": [-1.8000000000000003, -0.794705882352941, -0.30916666666666665, 0.02689655172413791, 0.36647058823529405, 0.7600000000000001, 1.8549999999999998], \"y\": [0.0, 0.17647058823529413, 0.3333333333333333, 0.6206896551724138, 1.0, 0.9411764705882353, 1.0], \"error_y\": {\"type\": \"data\", \"array\": [0.0, 0.09530501027070383, 0.09829463743659811, 0.09169709590633639, 0.0, 0.058823529411764705, 0.0], \"color\": \"rgb(0,170,80)\", \"visible\": true}, \"line\": {\"color\": \"rgb(0,100,80)\"}, \"mode\": \"lines+markers\", \"name\": \"Test Data\", \"xaxis\": \"x2\", \"yaxis\": \"y2\"}, {\"type\": \"scatter\", \"x\": [-1.8000000000000003, -0.794705882352941, -0.30916666666666665, 0.02689655172413791, 0.36647058823529405, 0.7600000000000001, 1.8549999999999998], \"y\": [0.051491721653240494, 0.22133660331085223, 0.30470551010260816, 0.4698898637296995, 0.6651079367112933, 0.8077800382220578, 0.9647883771376684], \"error_y\": {\"type\": \"data\", \"array\": [0.0014061226715003678, 0.003250781907815624, 0.0030946558119325112, 0.003049603479215446, 0.0037774353585744947, 0.0030940004797482454, 0.001309137659857623], \"color\": \"rgb(0,100,246)\", \"visible\": true}, \"line\": {\"color\": \"rgb(0,176,246)\"}, \"mode\": \"lines+markers\", \"name\": \"Sim Data\", \"xaxis\": \"x2\", \"yaxis\": \"y2\"}], {\"paper_bgcolor\": \"rgb(255,255,255)\", \"plot_bgcolor\": \"rgb(229,229,229)\", \"xaxis\": {\"gridcolor\": \"rgb(255,255,255)\", \"range\": [-2, 2], \"domain\": [0, 0.45], \"showgrid\": true, \"showline\": false, \"showticklabels\": true, \"tickcolor\": \"rgb(127,127,127)\", \"ticks\": \"outside\", \"title\": \"Net Value ($)\", \"zeroline\": false}, \"xaxis2\": {\"gridcolor\": \"rgb(255,255,255)\", \"range\": [-2, 2], \"domain\": [0.55, 1], \"showgrid\": true, \"showline\": false, \"showticklabels\": true, \"tickcolor\": \"rgb(127,127,127)\", \"ticks\": \"outside\", \"title\": \"Net Value ($)\", \"zeroline\": false}, \"yaxis1\": {\"gridcolor\": \"rgb(255,255,255)\", \"range\": [0], \"showgrid\": true, \"showline\": false, \"showticklabels\": true, \"tickcolor\": \"rgb(127,127,127)\", \"ticks\": \"outside\", \"title\": \"RT (s)\", \"anchor\": \"x1\", \"zeroline\": false}, \"yaxis2\": {\"gridcolor\": \"rgb(255,255,255)\", \"range\": [0], \"showgrid\": true, \"showline\": false, \"showticklabels\": true, \"tickcolor\": \"rgb(127,127,127)\", \"ticks\": \"outside\", \"title\": \"p (accept)\", \"anchor\": \"x2\", \"zeroline\": false}, \"annotations\": [{\"x\": 0.01, \"y\": 1.12, \"showarrow\": false, \"text\": \"PARAMETERS: v: 0.088, a: 0.221, \\u03b8: 0.1\", \"xref\": \"paper\", \"yref\": \"paper\"}, {\"x\": 0.01, \"y\": 1.08, \"showarrow\": false, \"text\": \"MLE: 652.38\", \"xref\": \"paper\", \"yref\": \"paper\"}, {\"x\": 0.01, \"y\": 1.2, \"showarrow\": false, \"text\": \"SUBJECT: 4\", \"font\": {\"family\": \"Arial, sans-serif\", \"size\": 22}, \"xref\": \"paper\", \"yref\": \"paper\"}]}, {\"showLink\": true, \"linkText\": \"Export to plot.ly\"})});</script>"
      ]
     },
     "metadata": {},
     "output_type": "display_data"
    },
    {
     "data": {
      "text/html": [
       "<script>requirejs.config({paths: { 'plotly': ['https://cdn.plot.ly/plotly-latest.min']},});if(!window.Plotly) {{require(['plotly'],function(plotly) {window.Plotly=plotly;});}}</script>"
      ],
      "text/vnd.plotly.v1+html": [
       "<script>requirejs.config({paths: { 'plotly': ['https://cdn.plot.ly/plotly-latest.min']},});if(!window.Plotly) {{require(['plotly'],function(plotly) {window.Plotly=plotly;});}}</script>"
      ]
     },
     "metadata": {},
     "output_type": "display_data"
    },
    {
     "data": {
      "application/vnd.plotly.v1+json": {
       "data": [
        {
         "error_y": {
          "array": [
           0.43652290284311895,
           0.4588543594408193,
           0.6510247468906654,
           0.4874124659011055,
           0.5617907614621263,
           0.5107022575949373,
           0.36889572077866983
          ],
          "color": "rgb(0,170,80)",
          "type": "data",
          "visible": true
         },
         "line": {
          "color": "rgb(0,100,80)"
         },
         "mode": "lines+markers",
         "name": "Test Data",
         "type": "scatter",
         "x": [
          -1.4966666666666668,
          -0.783846153846154,
          -0.30333333333333334,
          0.03388888888888884,
          0.2921052631578947,
          0.8042105263157895,
          1.7595652173913043
         ],
         "y": [
          3.423899667376167,
          3.401024153188212,
          4.407860365049903,
          3.541552219000348,
          5.122741953856109,
          3.9032685718492233,
          3.2135488630439952
         ]
        },
        {
         "error_y": {
          "array": [
           0.017812997979046497,
           0.021604690324941726,
           0.02040017110979464,
           0.018501255301401894,
           0.01795186417073371,
           0.017751265055129625,
           0.015607070666187536
          ],
          "color": "rgb(0,100,246)",
          "type": "data",
          "visible": true
         },
         "line": {
          "color": "rgb(0,176,246)"
         },
         "mode": "lines+markers",
         "name": "Sim Data",
         "type": "scatter",
         "x": [
          -1.4966666666666668,
          -0.783846153846154,
          -0.30333333333333334,
          0.03388888888888884,
          0.2921052631578947,
          0.8042105263157895,
          1.7595652173913043
         ],
         "y": [
          4.505323692790722,
          4.623776101694928,
          4.65484278503562,
          4.650291041550889,
          4.675271188419325,
          4.641186088474985,
          4.449372685944606
         ]
        },
        {
         "error_y": {
          "array": [
           0.05555555555555556,
           0.13323467750529824,
           0.06666666666666665,
           0.1086324845659782,
           0.1176877882894626,
           0.0723351864143449,
           0.08081046758996394
          ],
          "color": "rgb(0,170,80)",
          "type": "data",
          "visible": true
         },
         "line": {
          "color": "rgb(0,100,80)"
         },
         "mode": "lines+markers",
         "name": "Test Data",
         "type": "scatter",
         "x": [
          -1.4966666666666668,
          -0.783846153846154,
          -0.30333333333333334,
          0.03388888888888884,
          0.2921052631578947,
          0.8042105263157895,
          1.7595652173913043
         ],
         "xaxis": "x2",
         "y": [
          0.05555555555555555,
          0.3076923076923077,
          0.06666666666666667,
          0.7222222222222222,
          0.47368421052631576,
          0.8947368421052632,
          0.8260869565217391
         ],
         "yaxis": "y2"
        },
        {
         "error_y": {
          "array": [
           0.003403802782148626,
           0.004448312269936476,
           0.004275905170976557,
           0.003928626753210491,
           0.003798134054484153,
           0.0036664701903444514,
           0.0028556738716283077
          ],
          "color": "rgb(0,100,246)",
          "type": "data",
          "visible": true
         },
         "line": {
          "color": "rgb(0,176,246)"
         },
         "mode": "lines+markers",
         "name": "Sim Data",
         "type": "scatter",
         "x": [
          -1.4966666666666668,
          -0.783846153846154,
          -0.30333333333333334,
          0.03388888888888884,
          0.2921052631578947,
          0.8042105263157895,
          1.7595652173913043
         ],
         "xaxis": "x2",
         "y": [
          0.2589059292355996,
          0.3714406779661017,
          0.4391330166270784,
          0.49459776501821323,
          0.5535839364931123,
          0.6380675203725262,
          0.7756948024558279
         ],
         "yaxis": "y2"
        }
       ],
       "layout": {
        "annotations": [
         {
          "showarrow": false,
          "text": "PARAMETERS: v: 0.026, a: 0.221, θ: 0.28",
          "x": 0.01,
          "xref": "paper",
          "y": 1.12,
          "yref": "paper"
         },
         {
          "showarrow": false,
          "text": "MLE: 735.64",
          "x": 0.01,
          "xref": "paper",
          "y": 1.08,
          "yref": "paper"
         },
         {
          "font": {
           "family": "Arial, sans-serif",
           "size": 22
          },
          "showarrow": false,
          "text": "SUBJECT: 5",
          "x": 0.01,
          "xref": "paper",
          "y": 1.2,
          "yref": "paper"
         }
        ],
        "paper_bgcolor": "rgb(255,255,255)",
        "plot_bgcolor": "rgb(229,229,229)",
        "xaxis": {
         "domain": [
          0,
          0.45
         ],
         "gridcolor": "rgb(255,255,255)",
         "range": [
          -2,
          2
         ],
         "showgrid": true,
         "showline": false,
         "showticklabels": true,
         "tickcolor": "rgb(127,127,127)",
         "ticks": "outside",
         "title": "Net Value ($)",
         "zeroline": false
        },
        "xaxis2": {
         "domain": [
          0.55,
          1
         ],
         "gridcolor": "rgb(255,255,255)",
         "range": [
          -2,
          2
         ],
         "showgrid": true,
         "showline": false,
         "showticklabels": true,
         "tickcolor": "rgb(127,127,127)",
         "ticks": "outside",
         "title": "Net Value ($)",
         "zeroline": false
        },
        "yaxis1": {
         "anchor": "x1",
         "gridcolor": "rgb(255,255,255)",
         "range": [
          0
         ],
         "showgrid": true,
         "showline": false,
         "showticklabels": true,
         "tickcolor": "rgb(127,127,127)",
         "ticks": "outside",
         "title": "RT (s)",
         "zeroline": false
        },
        "yaxis2": {
         "anchor": "x2",
         "gridcolor": "rgb(255,255,255)",
         "range": [
          0
         ],
         "showgrid": true,
         "showline": false,
         "showticklabels": true,
         "tickcolor": "rgb(127,127,127)",
         "ticks": "outside",
         "title": "p (accept)",
         "zeroline": false
        }
       }
      },
      "text/html": [
       "<div id=\"fd968ba8-a123-4ba1-b1d3-36993c91b253\" style=\"height: 525px; width: 100%;\" class=\"plotly-graph-div\"></div><script type=\"text/javascript\">require([\"plotly\"], function(Plotly) { window.PLOTLYENV=window.PLOTLYENV || {};window.PLOTLYENV.BASE_URL=\"https://plot.ly\";Plotly.newPlot(\"fd968ba8-a123-4ba1-b1d3-36993c91b253\", [{\"type\": \"scatter\", \"x\": [-1.4966666666666668, -0.783846153846154, -0.30333333333333334, 0.03388888888888884, 0.2921052631578947, 0.8042105263157895, 1.7595652173913043], \"y\": [3.423899667376167, 3.401024153188212, 4.407860365049903, 3.541552219000348, 5.122741953856109, 3.9032685718492233, 3.2135488630439952], \"error_y\": {\"type\": \"data\", \"array\": [0.43652290284311895, 0.4588543594408193, 0.6510247468906654, 0.4874124659011055, 0.5617907614621263, 0.5107022575949373, 0.36889572077866983], \"color\": \"rgb(0,170,80)\", \"visible\": true}, \"line\": {\"color\": \"rgb(0,100,80)\"}, \"mode\": \"lines+markers\", \"name\": \"Test Data\"}, {\"type\": \"scatter\", \"x\": [-1.4966666666666668, -0.783846153846154, -0.30333333333333334, 0.03388888888888884, 0.2921052631578947, 0.8042105263157895, 1.7595652173913043], \"y\": [4.505323692790722, 4.623776101694928, 4.65484278503562, 4.650291041550889, 4.675271188419325, 4.641186088474985, 4.449372685944606], \"error_y\": {\"type\": \"data\", \"array\": [0.017812997979046497, 0.021604690324941726, 0.02040017110979464, 0.018501255301401894, 0.01795186417073371, 0.017751265055129625, 0.015607070666187536], \"color\": \"rgb(0,100,246)\", \"visible\": true}, \"line\": {\"color\": \"rgb(0,176,246)\"}, \"mode\": \"lines+markers\", \"name\": \"Sim Data\"}, {\"type\": \"scatter\", \"x\": [-1.4966666666666668, -0.783846153846154, -0.30333333333333334, 0.03388888888888884, 0.2921052631578947, 0.8042105263157895, 1.7595652173913043], \"y\": [0.05555555555555555, 0.3076923076923077, 0.06666666666666667, 0.7222222222222222, 0.47368421052631576, 0.8947368421052632, 0.8260869565217391], \"error_y\": {\"type\": \"data\", \"array\": [0.05555555555555556, 0.13323467750529824, 0.06666666666666665, 0.1086324845659782, 0.1176877882894626, 0.0723351864143449, 0.08081046758996394], \"color\": \"rgb(0,170,80)\", \"visible\": true}, \"line\": {\"color\": \"rgb(0,100,80)\"}, \"mode\": \"lines+markers\", \"name\": \"Test Data\", \"xaxis\": \"x2\", \"yaxis\": \"y2\"}, {\"type\": \"scatter\", \"x\": [-1.4966666666666668, -0.783846153846154, -0.30333333333333334, 0.03388888888888884, 0.2921052631578947, 0.8042105263157895, 1.7595652173913043], \"y\": [0.2589059292355996, 0.3714406779661017, 0.4391330166270784, 0.49459776501821323, 0.5535839364931123, 0.6380675203725262, 0.7756948024558279], \"error_y\": {\"type\": \"data\", \"array\": [0.003403802782148626, 0.004448312269936476, 0.004275905170976557, 0.003928626753210491, 0.003798134054484153, 0.0036664701903444514, 0.0028556738716283077], \"color\": \"rgb(0,100,246)\", \"visible\": true}, \"line\": {\"color\": \"rgb(0,176,246)\"}, \"mode\": \"lines+markers\", \"name\": \"Sim Data\", \"xaxis\": \"x2\", \"yaxis\": \"y2\"}], {\"paper_bgcolor\": \"rgb(255,255,255)\", \"plot_bgcolor\": \"rgb(229,229,229)\", \"xaxis\": {\"gridcolor\": \"rgb(255,255,255)\", \"range\": [-2, 2], \"domain\": [0, 0.45], \"showgrid\": true, \"showline\": false, \"showticklabels\": true, \"tickcolor\": \"rgb(127,127,127)\", \"ticks\": \"outside\", \"title\": \"Net Value ($)\", \"zeroline\": false}, \"xaxis2\": {\"gridcolor\": \"rgb(255,255,255)\", \"range\": [-2, 2], \"domain\": [0.55, 1], \"showgrid\": true, \"showline\": false, \"showticklabels\": true, \"tickcolor\": \"rgb(127,127,127)\", \"ticks\": \"outside\", \"title\": \"Net Value ($)\", \"zeroline\": false}, \"yaxis1\": {\"gridcolor\": \"rgb(255,255,255)\", \"range\": [0], \"showgrid\": true, \"showline\": false, \"showticklabels\": true, \"tickcolor\": \"rgb(127,127,127)\", \"ticks\": \"outside\", \"title\": \"RT (s)\", \"anchor\": \"x1\", \"zeroline\": false}, \"yaxis2\": {\"gridcolor\": \"rgb(255,255,255)\", \"range\": [0], \"showgrid\": true, \"showline\": false, \"showticklabels\": true, \"tickcolor\": \"rgb(127,127,127)\", \"ticks\": \"outside\", \"title\": \"p (accept)\", \"anchor\": \"x2\", \"zeroline\": false}, \"annotations\": [{\"x\": 0.01, \"y\": 1.12, \"showarrow\": false, \"text\": \"PARAMETERS: v: 0.026, a: 0.221, \\u03b8: 0.28\", \"xref\": \"paper\", \"yref\": \"paper\"}, {\"x\": 0.01, \"y\": 1.08, \"showarrow\": false, \"text\": \"MLE: 735.64\", \"xref\": \"paper\", \"yref\": \"paper\"}, {\"x\": 0.01, \"y\": 1.2, \"showarrow\": false, \"text\": \"SUBJECT: 5\", \"font\": {\"family\": \"Arial, sans-serif\", \"size\": 22}, \"xref\": \"paper\", \"yref\": \"paper\"}]}, {\"showLink\": true, \"linkText\": \"Export to plot.ly\"})});</script>"
      ],
      "text/vnd.plotly.v1+html": [
       "<div id=\"fd968ba8-a123-4ba1-b1d3-36993c91b253\" style=\"height: 525px; width: 100%;\" class=\"plotly-graph-div\"></div><script type=\"text/javascript\">require([\"plotly\"], function(Plotly) { window.PLOTLYENV=window.PLOTLYENV || {};window.PLOTLYENV.BASE_URL=\"https://plot.ly\";Plotly.newPlot(\"fd968ba8-a123-4ba1-b1d3-36993c91b253\", [{\"type\": \"scatter\", \"x\": [-1.4966666666666668, -0.783846153846154, -0.30333333333333334, 0.03388888888888884, 0.2921052631578947, 0.8042105263157895, 1.7595652173913043], \"y\": [3.423899667376167, 3.401024153188212, 4.407860365049903, 3.541552219000348, 5.122741953856109, 3.9032685718492233, 3.2135488630439952], \"error_y\": {\"type\": \"data\", \"array\": [0.43652290284311895, 0.4588543594408193, 0.6510247468906654, 0.4874124659011055, 0.5617907614621263, 0.5107022575949373, 0.36889572077866983], \"color\": \"rgb(0,170,80)\", \"visible\": true}, \"line\": {\"color\": \"rgb(0,100,80)\"}, \"mode\": \"lines+markers\", \"name\": \"Test Data\"}, {\"type\": \"scatter\", \"x\": [-1.4966666666666668, -0.783846153846154, -0.30333333333333334, 0.03388888888888884, 0.2921052631578947, 0.8042105263157895, 1.7595652173913043], \"y\": [4.505323692790722, 4.623776101694928, 4.65484278503562, 4.650291041550889, 4.675271188419325, 4.641186088474985, 4.449372685944606], \"error_y\": {\"type\": \"data\", \"array\": [0.017812997979046497, 0.021604690324941726, 0.02040017110979464, 0.018501255301401894, 0.01795186417073371, 0.017751265055129625, 0.015607070666187536], \"color\": \"rgb(0,100,246)\", \"visible\": true}, \"line\": {\"color\": \"rgb(0,176,246)\"}, \"mode\": \"lines+markers\", \"name\": \"Sim Data\"}, {\"type\": \"scatter\", \"x\": [-1.4966666666666668, -0.783846153846154, -0.30333333333333334, 0.03388888888888884, 0.2921052631578947, 0.8042105263157895, 1.7595652173913043], \"y\": [0.05555555555555555, 0.3076923076923077, 0.06666666666666667, 0.7222222222222222, 0.47368421052631576, 0.8947368421052632, 0.8260869565217391], \"error_y\": {\"type\": \"data\", \"array\": [0.05555555555555556, 0.13323467750529824, 0.06666666666666665, 0.1086324845659782, 0.1176877882894626, 0.0723351864143449, 0.08081046758996394], \"color\": \"rgb(0,170,80)\", \"visible\": true}, \"line\": {\"color\": \"rgb(0,100,80)\"}, \"mode\": \"lines+markers\", \"name\": \"Test Data\", \"xaxis\": \"x2\", \"yaxis\": \"y2\"}, {\"type\": \"scatter\", \"x\": [-1.4966666666666668, -0.783846153846154, -0.30333333333333334, 0.03388888888888884, 0.2921052631578947, 0.8042105263157895, 1.7595652173913043], \"y\": [0.2589059292355996, 0.3714406779661017, 0.4391330166270784, 0.49459776501821323, 0.5535839364931123, 0.6380675203725262, 0.7756948024558279], \"error_y\": {\"type\": \"data\", \"array\": [0.003403802782148626, 0.004448312269936476, 0.004275905170976557, 0.003928626753210491, 0.003798134054484153, 0.0036664701903444514, 0.0028556738716283077], \"color\": \"rgb(0,100,246)\", \"visible\": true}, \"line\": {\"color\": \"rgb(0,176,246)\"}, \"mode\": \"lines+markers\", \"name\": \"Sim Data\", \"xaxis\": \"x2\", \"yaxis\": \"y2\"}], {\"paper_bgcolor\": \"rgb(255,255,255)\", \"plot_bgcolor\": \"rgb(229,229,229)\", \"xaxis\": {\"gridcolor\": \"rgb(255,255,255)\", \"range\": [-2, 2], \"domain\": [0, 0.45], \"showgrid\": true, \"showline\": false, \"showticklabels\": true, \"tickcolor\": \"rgb(127,127,127)\", \"ticks\": \"outside\", \"title\": \"Net Value ($)\", \"zeroline\": false}, \"xaxis2\": {\"gridcolor\": \"rgb(255,255,255)\", \"range\": [-2, 2], \"domain\": [0.55, 1], \"showgrid\": true, \"showline\": false, \"showticklabels\": true, \"tickcolor\": \"rgb(127,127,127)\", \"ticks\": \"outside\", \"title\": \"Net Value ($)\", \"zeroline\": false}, \"yaxis1\": {\"gridcolor\": \"rgb(255,255,255)\", \"range\": [0], \"showgrid\": true, \"showline\": false, \"showticklabels\": true, \"tickcolor\": \"rgb(127,127,127)\", \"ticks\": \"outside\", \"title\": \"RT (s)\", \"anchor\": \"x1\", \"zeroline\": false}, \"yaxis2\": {\"gridcolor\": \"rgb(255,255,255)\", \"range\": [0], \"showgrid\": true, \"showline\": false, \"showticklabels\": true, \"tickcolor\": \"rgb(127,127,127)\", \"ticks\": \"outside\", \"title\": \"p (accept)\", \"anchor\": \"x2\", \"zeroline\": false}, \"annotations\": [{\"x\": 0.01, \"y\": 1.12, \"showarrow\": false, \"text\": \"PARAMETERS: v: 0.026, a: 0.221, \\u03b8: 0.28\", \"xref\": \"paper\", \"yref\": \"paper\"}, {\"x\": 0.01, \"y\": 1.08, \"showarrow\": false, \"text\": \"MLE: 735.64\", \"xref\": \"paper\", \"yref\": \"paper\"}, {\"x\": 0.01, \"y\": 1.2, \"showarrow\": false, \"text\": \"SUBJECT: 5\", \"font\": {\"family\": \"Arial, sans-serif\", \"size\": 22}, \"xref\": \"paper\", \"yref\": \"paper\"}]}, {\"showLink\": true, \"linkText\": \"Export to plot.ly\"})});</script>"
      ]
     },
     "metadata": {},
     "output_type": "display_data"
    },
    {
     "data": {
      "text/html": [
       "<script>requirejs.config({paths: { 'plotly': ['https://cdn.plot.ly/plotly-latest.min']},});if(!window.Plotly) {{require(['plotly'],function(plotly) {window.Plotly=plotly;});}}</script>"
      ],
      "text/vnd.plotly.v1+html": [
       "<script>requirejs.config({paths: { 'plotly': ['https://cdn.plot.ly/plotly-latest.min']},});if(!window.Plotly) {{require(['plotly'],function(plotly) {window.Plotly=plotly;});}}</script>"
      ]
     },
     "metadata": {},
     "output_type": "display_data"
    },
    {
     "data": {
      "application/vnd.plotly.v1+json": {
       "data": [
        {
         "error_y": {
          "array": [
           0.45266461126802543,
           0.5820686014296277,
           0.2925565576390161,
           0.38239940827710045,
           0.37396278789496307,
           0.3540266022245862,
           0.29760271919607933
          ],
          "color": "rgb(0,170,80)",
          "type": "data",
          "visible": true
         },
         "line": {
          "color": "rgb(0,100,80)"
         },
         "mode": "lines+markers",
         "name": "Test Data",
         "type": "scatter",
         "x": [
          -1.5533333333333337,
          -0.8073333333333333,
          -0.2930434782608696,
          0.018999999999999972,
          0.2958333333333334,
          0.7423809523809526,
          1.5522222222222217
         ],
         "y": [
          3.4658348341654346,
          4.5258351827066985,
          4.0977258159384835,
          4.511248517947024,
          3.7386210568985607,
          3.5870816074018967,
          3.2126224060278523
         ]
        },
        {
         "error_y": {
          "array": [
           0.01657866630198982,
           0.01925297218828962,
           0.016355001183129925,
           0.017646010441558037,
           0.015908787326784798,
           0.016547673046603747,
           0.01251977807638715
          ],
          "color": "rgb(0,100,246)",
          "type": "data",
          "visible": true
         },
         "line": {
          "color": "rgb(0,176,246)"
         },
         "mode": "lines+markers",
         "name": "Sim Data",
         "type": "scatter",
         "x": [
          -1.5533333333333337,
          -0.8073333333333333,
          -0.2930434782608696,
          0.018999999999999972,
          0.2958333333333334,
          0.7423809523809526,
          1.5522222222222217
         ],
         "y": [
          3.854295208761104,
          4.466307493725332,
          4.65235691115953,
          4.68029379978834,
          4.644375648388322,
          4.515565181475543,
          3.843549620648893
         ]
        },
        {
         "error_y": {
          "array": [
           0,
           0.06666666666666665,
           0.0981001869248289,
           0.11413288653790231,
           0.0902893898143269,
           0.06563832739090582,
           0.037037037037037035
          ],
          "color": "rgb(0,170,80)",
          "type": "data",
          "visible": true
         },
         "line": {
          "color": "rgb(0,100,80)"
         },
         "mode": "lines+markers",
         "name": "Test Data",
         "type": "scatter",
         "x": [
          -1.5533333333333337,
          -0.8073333333333333,
          -0.2930434782608696,
          0.018999999999999972,
          0.2958333333333334,
          0.7423809523809526,
          1.5522222222222217
         ],
         "xaxis": "x2",
         "y": [
          0,
          0.06666666666666667,
          0.30434782608695654,
          0.55,
          0.75,
          0.9047619047619048,
          0.9629629629629629
         ],
         "yaxis": "y2"
        },
        {
         "error_y": {
          "array": [
           0.0021188624585696063,
           0.003513815880755862,
           0.003377764947306679,
           0.0037309885565510277,
           0.0033137780856757294,
           0.003024878746942552,
           0.0017222043576644126
          ],
          "color": "rgb(0,100,246)",
          "type": "data",
          "visible": true
         },
         "line": {
          "color": "rgb(0,176,246)"
         },
         "mode": "lines+markers",
         "name": "Sim Data",
         "type": "scatter",
         "x": [
          -1.5533333333333337,
          -0.8073333333333333,
          -0.2930434782608696,
          0.018999999999999972,
          0.2958333333333334,
          0.7423809523809526,
          1.5522222222222217
         ],
         "xaxis": "x2",
         "y": [
          0.07056810403832992,
          0.22101111509501614,
          0.3801984991527475,
          0.5114478302044454,
          0.6136068914412746,
          0.7697867726779906,
          0.9149796027298029
         ],
         "yaxis": "y2"
        }
       ],
       "layout": {
        "annotations": [
         {
          "showarrow": false,
          "text": "PARAMETERS: v: 0.046, a: 0.221, θ: 0.64",
          "x": 0.01,
          "xref": "paper",
          "y": 1.12,
          "yref": "paper"
         },
         {
          "showarrow": false,
          "text": "MLE: 680.05",
          "x": 0.01,
          "xref": "paper",
          "y": 1.08,
          "yref": "paper"
         },
         {
          "font": {
           "family": "Arial, sans-serif",
           "size": 22
          },
          "showarrow": false,
          "text": "SUBJECT: 6",
          "x": 0.01,
          "xref": "paper",
          "y": 1.2,
          "yref": "paper"
         }
        ],
        "paper_bgcolor": "rgb(255,255,255)",
        "plot_bgcolor": "rgb(229,229,229)",
        "xaxis": {
         "domain": [
          0,
          0.45
         ],
         "gridcolor": "rgb(255,255,255)",
         "range": [
          -2,
          2
         ],
         "showgrid": true,
         "showline": false,
         "showticklabels": true,
         "tickcolor": "rgb(127,127,127)",
         "ticks": "outside",
         "title": "Net Value ($)",
         "zeroline": false
        },
        "xaxis2": {
         "domain": [
          0.55,
          1
         ],
         "gridcolor": "rgb(255,255,255)",
         "range": [
          -2,
          2
         ],
         "showgrid": true,
         "showline": false,
         "showticklabels": true,
         "tickcolor": "rgb(127,127,127)",
         "ticks": "outside",
         "title": "Net Value ($)",
         "zeroline": false
        },
        "yaxis1": {
         "anchor": "x1",
         "gridcolor": "rgb(255,255,255)",
         "range": [
          0
         ],
         "showgrid": true,
         "showline": false,
         "showticklabels": true,
         "tickcolor": "rgb(127,127,127)",
         "ticks": "outside",
         "title": "RT (s)",
         "zeroline": false
        },
        "yaxis2": {
         "anchor": "x2",
         "gridcolor": "rgb(255,255,255)",
         "range": [
          0
         ],
         "showgrid": true,
         "showline": false,
         "showticklabels": true,
         "tickcolor": "rgb(127,127,127)",
         "ticks": "outside",
         "title": "p (accept)",
         "zeroline": false
        }
       }
      },
      "text/html": [
       "<div id=\"bd445c6f-a141-43c1-867d-c236f8fafbe8\" style=\"height: 525px; width: 100%;\" class=\"plotly-graph-div\"></div><script type=\"text/javascript\">require([\"plotly\"], function(Plotly) { window.PLOTLYENV=window.PLOTLYENV || {};window.PLOTLYENV.BASE_URL=\"https://plot.ly\";Plotly.newPlot(\"bd445c6f-a141-43c1-867d-c236f8fafbe8\", [{\"type\": \"scatter\", \"x\": [-1.5533333333333337, -0.8073333333333333, -0.2930434782608696, 0.018999999999999972, 0.2958333333333334, 0.7423809523809526, 1.5522222222222217], \"y\": [3.4658348341654346, 4.5258351827066985, 4.0977258159384835, 4.511248517947024, 3.7386210568985607, 3.5870816074018967, 3.2126224060278523], \"error_y\": {\"type\": \"data\", \"array\": [0.45266461126802543, 0.5820686014296277, 0.2925565576390161, 0.38239940827710045, 0.37396278789496307, 0.3540266022245862, 0.29760271919607933], \"color\": \"rgb(0,170,80)\", \"visible\": true}, \"line\": {\"color\": \"rgb(0,100,80)\"}, \"mode\": \"lines+markers\", \"name\": \"Test Data\"}, {\"type\": \"scatter\", \"x\": [-1.5533333333333337, -0.8073333333333333, -0.2930434782608696, 0.018999999999999972, 0.2958333333333334, 0.7423809523809526, 1.5522222222222217], \"y\": [3.854295208761104, 4.466307493725332, 4.65235691115953, 4.68029379978834, 4.644375648388322, 4.515565181475543, 3.843549620648893], \"error_y\": {\"type\": \"data\", \"array\": [0.01657866630198982, 0.01925297218828962, 0.016355001183129925, 0.017646010441558037, 0.015908787326784798, 0.016547673046603747, 0.01251977807638715], \"color\": \"rgb(0,100,246)\", \"visible\": true}, \"line\": {\"color\": \"rgb(0,176,246)\"}, \"mode\": \"lines+markers\", \"name\": \"Sim Data\"}, {\"type\": \"scatter\", \"x\": [-1.5533333333333337, -0.8073333333333333, -0.2930434782608696, 0.018999999999999972, 0.2958333333333334, 0.7423809523809526, 1.5522222222222217], \"y\": [0.0, 0.06666666666666667, 0.30434782608695654, 0.55, 0.75, 0.9047619047619048, 0.9629629629629629], \"error_y\": {\"type\": \"data\", \"array\": [0.0, 0.06666666666666665, 0.0981001869248289, 0.11413288653790231, 0.0902893898143269, 0.06563832739090582, 0.037037037037037035], \"color\": \"rgb(0,170,80)\", \"visible\": true}, \"line\": {\"color\": \"rgb(0,100,80)\"}, \"mode\": \"lines+markers\", \"name\": \"Test Data\", \"xaxis\": \"x2\", \"yaxis\": \"y2\"}, {\"type\": \"scatter\", \"x\": [-1.5533333333333337, -0.8073333333333333, -0.2930434782608696, 0.018999999999999972, 0.2958333333333334, 0.7423809523809526, 1.5522222222222217], \"y\": [0.07056810403832992, 0.22101111509501614, 0.3801984991527475, 0.5114478302044454, 0.6136068914412746, 0.7697867726779906, 0.9149796027298029], \"error_y\": {\"type\": \"data\", \"array\": [0.0021188624585696063, 0.003513815880755862, 0.003377764947306679, 0.0037309885565510277, 0.0033137780856757294, 0.003024878746942552, 0.0017222043576644126], \"color\": \"rgb(0,100,246)\", \"visible\": true}, \"line\": {\"color\": \"rgb(0,176,246)\"}, \"mode\": \"lines+markers\", \"name\": \"Sim Data\", \"xaxis\": \"x2\", \"yaxis\": \"y2\"}], {\"paper_bgcolor\": \"rgb(255,255,255)\", \"plot_bgcolor\": \"rgb(229,229,229)\", \"xaxis\": {\"gridcolor\": \"rgb(255,255,255)\", \"range\": [-2, 2], \"domain\": [0, 0.45], \"showgrid\": true, \"showline\": false, \"showticklabels\": true, \"tickcolor\": \"rgb(127,127,127)\", \"ticks\": \"outside\", \"title\": \"Net Value ($)\", \"zeroline\": false}, \"xaxis2\": {\"gridcolor\": \"rgb(255,255,255)\", \"range\": [-2, 2], \"domain\": [0.55, 1], \"showgrid\": true, \"showline\": false, \"showticklabels\": true, \"tickcolor\": \"rgb(127,127,127)\", \"ticks\": \"outside\", \"title\": \"Net Value ($)\", \"zeroline\": false}, \"yaxis1\": {\"gridcolor\": \"rgb(255,255,255)\", \"range\": [0], \"showgrid\": true, \"showline\": false, \"showticklabels\": true, \"tickcolor\": \"rgb(127,127,127)\", \"ticks\": \"outside\", \"title\": \"RT (s)\", \"anchor\": \"x1\", \"zeroline\": false}, \"yaxis2\": {\"gridcolor\": \"rgb(255,255,255)\", \"range\": [0], \"showgrid\": true, \"showline\": false, \"showticklabels\": true, \"tickcolor\": \"rgb(127,127,127)\", \"ticks\": \"outside\", \"title\": \"p (accept)\", \"anchor\": \"x2\", \"zeroline\": false}, \"annotations\": [{\"x\": 0.01, \"y\": 1.12, \"showarrow\": false, \"text\": \"PARAMETERS: v: 0.046, a: 0.221, \\u03b8: 0.64\", \"xref\": \"paper\", \"yref\": \"paper\"}, {\"x\": 0.01, \"y\": 1.08, \"showarrow\": false, \"text\": \"MLE: 680.05\", \"xref\": \"paper\", \"yref\": \"paper\"}, {\"x\": 0.01, \"y\": 1.2, \"showarrow\": false, \"text\": \"SUBJECT: 6\", \"font\": {\"family\": \"Arial, sans-serif\", \"size\": 22}, \"xref\": \"paper\", \"yref\": \"paper\"}]}, {\"showLink\": true, \"linkText\": \"Export to plot.ly\"})});</script>"
      ],
      "text/vnd.plotly.v1+html": [
       "<div id=\"bd445c6f-a141-43c1-867d-c236f8fafbe8\" style=\"height: 525px; width: 100%;\" class=\"plotly-graph-div\"></div><script type=\"text/javascript\">require([\"plotly\"], function(Plotly) { window.PLOTLYENV=window.PLOTLYENV || {};window.PLOTLYENV.BASE_URL=\"https://plot.ly\";Plotly.newPlot(\"bd445c6f-a141-43c1-867d-c236f8fafbe8\", [{\"type\": \"scatter\", \"x\": [-1.5533333333333337, -0.8073333333333333, -0.2930434782608696, 0.018999999999999972, 0.2958333333333334, 0.7423809523809526, 1.5522222222222217], \"y\": [3.4658348341654346, 4.5258351827066985, 4.0977258159384835, 4.511248517947024, 3.7386210568985607, 3.5870816074018967, 3.2126224060278523], \"error_y\": {\"type\": \"data\", \"array\": [0.45266461126802543, 0.5820686014296277, 0.2925565576390161, 0.38239940827710045, 0.37396278789496307, 0.3540266022245862, 0.29760271919607933], \"color\": \"rgb(0,170,80)\", \"visible\": true}, \"line\": {\"color\": \"rgb(0,100,80)\"}, \"mode\": \"lines+markers\", \"name\": \"Test Data\"}, {\"type\": \"scatter\", \"x\": [-1.5533333333333337, -0.8073333333333333, -0.2930434782608696, 0.018999999999999972, 0.2958333333333334, 0.7423809523809526, 1.5522222222222217], \"y\": [3.854295208761104, 4.466307493725332, 4.65235691115953, 4.68029379978834, 4.644375648388322, 4.515565181475543, 3.843549620648893], \"error_y\": {\"type\": \"data\", \"array\": [0.01657866630198982, 0.01925297218828962, 0.016355001183129925, 0.017646010441558037, 0.015908787326784798, 0.016547673046603747, 0.01251977807638715], \"color\": \"rgb(0,100,246)\", \"visible\": true}, \"line\": {\"color\": \"rgb(0,176,246)\"}, \"mode\": \"lines+markers\", \"name\": \"Sim Data\"}, {\"type\": \"scatter\", \"x\": [-1.5533333333333337, -0.8073333333333333, -0.2930434782608696, 0.018999999999999972, 0.2958333333333334, 0.7423809523809526, 1.5522222222222217], \"y\": [0.0, 0.06666666666666667, 0.30434782608695654, 0.55, 0.75, 0.9047619047619048, 0.9629629629629629], \"error_y\": {\"type\": \"data\", \"array\": [0.0, 0.06666666666666665, 0.0981001869248289, 0.11413288653790231, 0.0902893898143269, 0.06563832739090582, 0.037037037037037035], \"color\": \"rgb(0,170,80)\", \"visible\": true}, \"line\": {\"color\": \"rgb(0,100,80)\"}, \"mode\": \"lines+markers\", \"name\": \"Test Data\", \"xaxis\": \"x2\", \"yaxis\": \"y2\"}, {\"type\": \"scatter\", \"x\": [-1.5533333333333337, -0.8073333333333333, -0.2930434782608696, 0.018999999999999972, 0.2958333333333334, 0.7423809523809526, 1.5522222222222217], \"y\": [0.07056810403832992, 0.22101111509501614, 0.3801984991527475, 0.5114478302044454, 0.6136068914412746, 0.7697867726779906, 0.9149796027298029], \"error_y\": {\"type\": \"data\", \"array\": [0.0021188624585696063, 0.003513815880755862, 0.003377764947306679, 0.0037309885565510277, 0.0033137780856757294, 0.003024878746942552, 0.0017222043576644126], \"color\": \"rgb(0,100,246)\", \"visible\": true}, \"line\": {\"color\": \"rgb(0,176,246)\"}, \"mode\": \"lines+markers\", \"name\": \"Sim Data\", \"xaxis\": \"x2\", \"yaxis\": \"y2\"}], {\"paper_bgcolor\": \"rgb(255,255,255)\", \"plot_bgcolor\": \"rgb(229,229,229)\", \"xaxis\": {\"gridcolor\": \"rgb(255,255,255)\", \"range\": [-2, 2], \"domain\": [0, 0.45], \"showgrid\": true, \"showline\": false, \"showticklabels\": true, \"tickcolor\": \"rgb(127,127,127)\", \"ticks\": \"outside\", \"title\": \"Net Value ($)\", \"zeroline\": false}, \"xaxis2\": {\"gridcolor\": \"rgb(255,255,255)\", \"range\": [-2, 2], \"domain\": [0.55, 1], \"showgrid\": true, \"showline\": false, \"showticklabels\": true, \"tickcolor\": \"rgb(127,127,127)\", \"ticks\": \"outside\", \"title\": \"Net Value ($)\", \"zeroline\": false}, \"yaxis1\": {\"gridcolor\": \"rgb(255,255,255)\", \"range\": [0], \"showgrid\": true, \"showline\": false, \"showticklabels\": true, \"tickcolor\": \"rgb(127,127,127)\", \"ticks\": \"outside\", \"title\": \"RT (s)\", \"anchor\": \"x1\", \"zeroline\": false}, \"yaxis2\": {\"gridcolor\": \"rgb(255,255,255)\", \"range\": [0], \"showgrid\": true, \"showline\": false, \"showticklabels\": true, \"tickcolor\": \"rgb(127,127,127)\", \"ticks\": \"outside\", \"title\": \"p (accept)\", \"anchor\": \"x2\", \"zeroline\": false}, \"annotations\": [{\"x\": 0.01, \"y\": 1.12, \"showarrow\": false, \"text\": \"PARAMETERS: v: 0.046, a: 0.221, \\u03b8: 0.64\", \"xref\": \"paper\", \"yref\": \"paper\"}, {\"x\": 0.01, \"y\": 1.08, \"showarrow\": false, \"text\": \"MLE: 680.05\", \"xref\": \"paper\", \"yref\": \"paper\"}, {\"x\": 0.01, \"y\": 1.2, \"showarrow\": false, \"text\": \"SUBJECT: 6\", \"font\": {\"family\": \"Arial, sans-serif\", \"size\": 22}, \"xref\": \"paper\", \"yref\": \"paper\"}]}, {\"showLink\": true, \"linkText\": \"Export to plot.ly\"})});</script>"
      ]
     },
     "metadata": {},
     "output_type": "display_data"
    },
    {
     "data": {
      "text/html": [
       "<script>requirejs.config({paths: { 'plotly': ['https://cdn.plot.ly/plotly-latest.min']},});if(!window.Plotly) {{require(['plotly'],function(plotly) {window.Plotly=plotly;});}}</script>"
      ],
      "text/vnd.plotly.v1+html": [
       "<script>requirejs.config({paths: { 'plotly': ['https://cdn.plot.ly/plotly-latest.min']},});if(!window.Plotly) {{require(['plotly'],function(plotly) {window.Plotly=plotly;});}}</script>"
      ]
     },
     "metadata": {},
     "output_type": "display_data"
    },
    {
     "data": {
      "application/vnd.plotly.v1+json": {
       "data": [
        {
         "error_y": {
          "array": [
           0.21285109200996552,
           0.37714213911916256,
           0.2695708175541002,
           0.2886556556927408,
           0.5229150251484915,
           0.28322585932055555,
           0.37203030071021026
          ],
          "color": "rgb(0,170,80)",
          "type": "data",
          "visible": true
         },
         "line": {
          "color": "rgb(0,100,80)"
         },
         "mode": "lines+markers",
         "name": "Test Data",
         "type": "scatter",
         "x": [
          -1.5631578947368423,
          -0.8114285714285714,
          -0.3247826086956522,
          0.0283333333333333,
          0.30428571428571427,
          0.754,
          1.8863636363636358
         ],
         "y": [
          2.3779431322494173,
          2.821205532013014,
          2.9857144204576356,
          3.3635180042749804,
          3.790879182359278,
          2.77466733810943,
          2.865143027417533
         ]
        },
        {
         "error_y": {
          "array": [
           0.008255570173215827,
           0.011434248761208002,
           0.013349375035474353,
           0.012204994515007873,
           0.01715792491704547,
           0.01213382336116342,
           0.006510739933109581
          ],
          "color": "rgb(0,100,246)",
          "type": "data",
          "visible": true
         },
         "line": {
          "color": "rgb(0,176,246)"
         },
         "mode": "lines+markers",
         "name": "Sim Data",
         "type": "scatter",
         "x": [
          -1.5631578947368423,
          -0.8114285714285714,
          -0.3247826086956522,
          0.0283333333333333,
          0.30428571428571427,
          0.754,
          1.8863636363636358
         ],
         "y": [
          2.330981939764111,
          3.1032816389048494,
          3.624868013318536,
          3.7650636787600495,
          3.6102033984830633,
          3.1537186367297836,
          2.096448086189642
         ]
        },
        {
         "error_y": {
          "array": [
           0,
           0,
           0.060073850409370216,
           0.08211756827352527,
           0.11380392954509881,
           0.04999999999999999,
           0.04545454545454545
          ],
          "color": "rgb(0,170,80)",
          "type": "data",
          "visible": true
         },
         "line": {
          "color": "rgb(0,100,80)"
         },
         "mode": "lines+markers",
         "name": "Test Data",
         "type": "scatter",
         "x": [
          -1.5631578947368423,
          -0.8114285714285714,
          -0.3247826086956522,
          0.0283333333333333,
          0.30428571428571427,
          0.754,
          1.8863636363636358
         ],
         "xaxis": "x2",
         "y": [
          0,
          0,
          0.08695652173913043,
          0.26666666666666666,
          0.7857142857142857,
          0.95,
          0.9545454545454546
         ],
         "yaxis": "y2"
        },
        {
         "error_y": {
          "array": [
           0.0011226365296833401,
           0.0020581678908425985,
           0.0029977863217273302,
           0.002925801217060135,
           0.0038845049018218485,
           0.0022267257973172926,
           0.0007491371301008246
          ],
          "color": "rgb(0,100,246)",
          "type": "data",
          "visible": true
         },
         "line": {
          "color": "rgb(0,176,246)"
         },
         "mode": "lines+markers",
         "name": "Sim Data",
         "type": "scatter",
         "x": [
          -1.5631578947368423,
          -0.8114285714285714,
          -0.3247826086956522,
          0.0283333333333333,
          0.30428571428571427,
          0.754,
          1.8863636363636358
         ],
         "xaxis": "x2",
         "y": [
          0.02453664700926706,
          0.09812368370668198,
          0.2818645948945616,
          0.5193059460942322,
          0.7076283547257877,
          0.8892468787756745,
          0.9874988635330485
         ],
         "yaxis": "y2"
        }
       ],
       "layout": {
        "annotations": [
         {
          "showarrow": false,
          "text": "PARAMETERS: v: 0.088, a: 0.179, θ: 0.82",
          "x": 0.01,
          "xref": "paper",
          "y": 1.12,
          "yref": "paper"
         },
         {
          "showarrow": false,
          "text": "MLE: 612.24",
          "x": 0.01,
          "xref": "paper",
          "y": 1.08,
          "yref": "paper"
         },
         {
          "font": {
           "family": "Arial, sans-serif",
           "size": 22
          },
          "showarrow": false,
          "text": "SUBJECT: 7",
          "x": 0.01,
          "xref": "paper",
          "y": 1.2,
          "yref": "paper"
         }
        ],
        "paper_bgcolor": "rgb(255,255,255)",
        "plot_bgcolor": "rgb(229,229,229)",
        "xaxis": {
         "domain": [
          0,
          0.45
         ],
         "gridcolor": "rgb(255,255,255)",
         "range": [
          -2,
          2
         ],
         "showgrid": true,
         "showline": false,
         "showticklabels": true,
         "tickcolor": "rgb(127,127,127)",
         "ticks": "outside",
         "title": "Net Value ($)",
         "zeroline": false
        },
        "xaxis2": {
         "domain": [
          0.55,
          1
         ],
         "gridcolor": "rgb(255,255,255)",
         "range": [
          -2,
          2
         ],
         "showgrid": true,
         "showline": false,
         "showticklabels": true,
         "tickcolor": "rgb(127,127,127)",
         "ticks": "outside",
         "title": "Net Value ($)",
         "zeroline": false
        },
        "yaxis1": {
         "anchor": "x1",
         "gridcolor": "rgb(255,255,255)",
         "range": [
          0
         ],
         "showgrid": true,
         "showline": false,
         "showticklabels": true,
         "tickcolor": "rgb(127,127,127)",
         "ticks": "outside",
         "title": "RT (s)",
         "zeroline": false
        },
        "yaxis2": {
         "anchor": "x2",
         "gridcolor": "rgb(255,255,255)",
         "range": [
          0
         ],
         "showgrid": true,
         "showline": false,
         "showticklabels": true,
         "tickcolor": "rgb(127,127,127)",
         "ticks": "outside",
         "title": "p (accept)",
         "zeroline": false
        }
       }
      },
      "text/html": [
       "<div id=\"1688e2a4-29c4-4aee-b20d-12dd5da7610f\" style=\"height: 525px; width: 100%;\" class=\"plotly-graph-div\"></div><script type=\"text/javascript\">require([\"plotly\"], function(Plotly) { window.PLOTLYENV=window.PLOTLYENV || {};window.PLOTLYENV.BASE_URL=\"https://plot.ly\";Plotly.newPlot(\"1688e2a4-29c4-4aee-b20d-12dd5da7610f\", [{\"type\": \"scatter\", \"x\": [-1.5631578947368423, -0.8114285714285714, -0.3247826086956522, 0.0283333333333333, 0.30428571428571427, 0.754, 1.8863636363636358], \"y\": [2.3779431322494173, 2.821205532013014, 2.9857144204576356, 3.3635180042749804, 3.790879182359278, 2.77466733810943, 2.865143027417533], \"error_y\": {\"type\": \"data\", \"array\": [0.21285109200996552, 0.37714213911916256, 0.2695708175541002, 0.2886556556927408, 0.5229150251484915, 0.28322585932055555, 0.37203030071021026], \"color\": \"rgb(0,170,80)\", \"visible\": true}, \"line\": {\"color\": \"rgb(0,100,80)\"}, \"mode\": \"lines+markers\", \"name\": \"Test Data\"}, {\"type\": \"scatter\", \"x\": [-1.5631578947368423, -0.8114285714285714, -0.3247826086956522, 0.0283333333333333, 0.30428571428571427, 0.754, 1.8863636363636358], \"y\": [2.330981939764111, 3.1032816389048494, 3.624868013318536, 3.7650636787600495, 3.6102033984830633, 3.1537186367297836, 2.096448086189642], \"error_y\": {\"type\": \"data\", \"array\": [0.008255570173215827, 0.011434248761208002, 0.013349375035474353, 0.012204994515007873, 0.01715792491704547, 0.01213382336116342, 0.006510739933109581], \"color\": \"rgb(0,100,246)\", \"visible\": true}, \"line\": {\"color\": \"rgb(0,176,246)\"}, \"mode\": \"lines+markers\", \"name\": \"Sim Data\"}, {\"type\": \"scatter\", \"x\": [-1.5631578947368423, -0.8114285714285714, -0.3247826086956522, 0.0283333333333333, 0.30428571428571427, 0.754, 1.8863636363636358], \"y\": [0.0, 0.0, 0.08695652173913043, 0.26666666666666666, 0.7857142857142857, 0.95, 0.9545454545454546], \"error_y\": {\"type\": \"data\", \"array\": [0.0, 0.0, 0.060073850409370216, 0.08211756827352527, 0.11380392954509881, 0.04999999999999999, 0.04545454545454545], \"color\": \"rgb(0,170,80)\", \"visible\": true}, \"line\": {\"color\": \"rgb(0,100,80)\"}, \"mode\": \"lines+markers\", \"name\": \"Test Data\", \"xaxis\": \"x2\", \"yaxis\": \"y2\"}, {\"type\": \"scatter\", \"x\": [-1.5631578947368423, -0.8114285714285714, -0.3247826086956522, 0.0283333333333333, 0.30428571428571427, 0.754, 1.8863636363636358], \"y\": [0.02453664700926706, 0.09812368370668198, 0.2818645948945616, 0.5193059460942322, 0.7076283547257877, 0.8892468787756745, 0.9874988635330485], \"error_y\": {\"type\": \"data\", \"array\": [0.0011226365296833401, 0.0020581678908425985, 0.0029977863217273302, 0.002925801217060135, 0.0038845049018218485, 0.0022267257973172926, 0.0007491371301008246], \"color\": \"rgb(0,100,246)\", \"visible\": true}, \"line\": {\"color\": \"rgb(0,176,246)\"}, \"mode\": \"lines+markers\", \"name\": \"Sim Data\", \"xaxis\": \"x2\", \"yaxis\": \"y2\"}], {\"paper_bgcolor\": \"rgb(255,255,255)\", \"plot_bgcolor\": \"rgb(229,229,229)\", \"xaxis\": {\"gridcolor\": \"rgb(255,255,255)\", \"range\": [-2, 2], \"domain\": [0, 0.45], \"showgrid\": true, \"showline\": false, \"showticklabels\": true, \"tickcolor\": \"rgb(127,127,127)\", \"ticks\": \"outside\", \"title\": \"Net Value ($)\", \"zeroline\": false}, \"xaxis2\": {\"gridcolor\": \"rgb(255,255,255)\", \"range\": [-2, 2], \"domain\": [0.55, 1], \"showgrid\": true, \"showline\": false, \"showticklabels\": true, \"tickcolor\": \"rgb(127,127,127)\", \"ticks\": \"outside\", \"title\": \"Net Value ($)\", \"zeroline\": false}, \"yaxis1\": {\"gridcolor\": \"rgb(255,255,255)\", \"range\": [0], \"showgrid\": true, \"showline\": false, \"showticklabels\": true, \"tickcolor\": \"rgb(127,127,127)\", \"ticks\": \"outside\", \"title\": \"RT (s)\", \"anchor\": \"x1\", \"zeroline\": false}, \"yaxis2\": {\"gridcolor\": \"rgb(255,255,255)\", \"range\": [0], \"showgrid\": true, \"showline\": false, \"showticklabels\": true, \"tickcolor\": \"rgb(127,127,127)\", \"ticks\": \"outside\", \"title\": \"p (accept)\", \"anchor\": \"x2\", \"zeroline\": false}, \"annotations\": [{\"x\": 0.01, \"y\": 1.12, \"showarrow\": false, \"text\": \"PARAMETERS: v: 0.088, a: 0.179, \\u03b8: 0.82\", \"xref\": \"paper\", \"yref\": \"paper\"}, {\"x\": 0.01, \"y\": 1.08, \"showarrow\": false, \"text\": \"MLE: 612.24\", \"xref\": \"paper\", \"yref\": \"paper\"}, {\"x\": 0.01, \"y\": 1.2, \"showarrow\": false, \"text\": \"SUBJECT: 7\", \"font\": {\"family\": \"Arial, sans-serif\", \"size\": 22}, \"xref\": \"paper\", \"yref\": \"paper\"}]}, {\"showLink\": true, \"linkText\": \"Export to plot.ly\"})});</script>"
      ],
      "text/vnd.plotly.v1+html": [
       "<div id=\"1688e2a4-29c4-4aee-b20d-12dd5da7610f\" style=\"height: 525px; width: 100%;\" class=\"plotly-graph-div\"></div><script type=\"text/javascript\">require([\"plotly\"], function(Plotly) { window.PLOTLYENV=window.PLOTLYENV || {};window.PLOTLYENV.BASE_URL=\"https://plot.ly\";Plotly.newPlot(\"1688e2a4-29c4-4aee-b20d-12dd5da7610f\", [{\"type\": \"scatter\", \"x\": [-1.5631578947368423, -0.8114285714285714, -0.3247826086956522, 0.0283333333333333, 0.30428571428571427, 0.754, 1.8863636363636358], \"y\": [2.3779431322494173, 2.821205532013014, 2.9857144204576356, 3.3635180042749804, 3.790879182359278, 2.77466733810943, 2.865143027417533], \"error_y\": {\"type\": \"data\", \"array\": [0.21285109200996552, 0.37714213911916256, 0.2695708175541002, 0.2886556556927408, 0.5229150251484915, 0.28322585932055555, 0.37203030071021026], \"color\": \"rgb(0,170,80)\", \"visible\": true}, \"line\": {\"color\": \"rgb(0,100,80)\"}, \"mode\": \"lines+markers\", \"name\": \"Test Data\"}, {\"type\": \"scatter\", \"x\": [-1.5631578947368423, -0.8114285714285714, -0.3247826086956522, 0.0283333333333333, 0.30428571428571427, 0.754, 1.8863636363636358], \"y\": [2.330981939764111, 3.1032816389048494, 3.624868013318536, 3.7650636787600495, 3.6102033984830633, 3.1537186367297836, 2.096448086189642], \"error_y\": {\"type\": \"data\", \"array\": [0.008255570173215827, 0.011434248761208002, 0.013349375035474353, 0.012204994515007873, 0.01715792491704547, 0.01213382336116342, 0.006510739933109581], \"color\": \"rgb(0,100,246)\", \"visible\": true}, \"line\": {\"color\": \"rgb(0,176,246)\"}, \"mode\": \"lines+markers\", \"name\": \"Sim Data\"}, {\"type\": \"scatter\", \"x\": [-1.5631578947368423, -0.8114285714285714, -0.3247826086956522, 0.0283333333333333, 0.30428571428571427, 0.754, 1.8863636363636358], \"y\": [0.0, 0.0, 0.08695652173913043, 0.26666666666666666, 0.7857142857142857, 0.95, 0.9545454545454546], \"error_y\": {\"type\": \"data\", \"array\": [0.0, 0.0, 0.060073850409370216, 0.08211756827352527, 0.11380392954509881, 0.04999999999999999, 0.04545454545454545], \"color\": \"rgb(0,170,80)\", \"visible\": true}, \"line\": {\"color\": \"rgb(0,100,80)\"}, \"mode\": \"lines+markers\", \"name\": \"Test Data\", \"xaxis\": \"x2\", \"yaxis\": \"y2\"}, {\"type\": \"scatter\", \"x\": [-1.5631578947368423, -0.8114285714285714, -0.3247826086956522, 0.0283333333333333, 0.30428571428571427, 0.754, 1.8863636363636358], \"y\": [0.02453664700926706, 0.09812368370668198, 0.2818645948945616, 0.5193059460942322, 0.7076283547257877, 0.8892468787756745, 0.9874988635330485], \"error_y\": {\"type\": \"data\", \"array\": [0.0011226365296833401, 0.0020581678908425985, 0.0029977863217273302, 0.002925801217060135, 0.0038845049018218485, 0.0022267257973172926, 0.0007491371301008246], \"color\": \"rgb(0,100,246)\", \"visible\": true}, \"line\": {\"color\": \"rgb(0,176,246)\"}, \"mode\": \"lines+markers\", \"name\": \"Sim Data\", \"xaxis\": \"x2\", \"yaxis\": \"y2\"}], {\"paper_bgcolor\": \"rgb(255,255,255)\", \"plot_bgcolor\": \"rgb(229,229,229)\", \"xaxis\": {\"gridcolor\": \"rgb(255,255,255)\", \"range\": [-2, 2], \"domain\": [0, 0.45], \"showgrid\": true, \"showline\": false, \"showticklabels\": true, \"tickcolor\": \"rgb(127,127,127)\", \"ticks\": \"outside\", \"title\": \"Net Value ($)\", \"zeroline\": false}, \"xaxis2\": {\"gridcolor\": \"rgb(255,255,255)\", \"range\": [-2, 2], \"domain\": [0.55, 1], \"showgrid\": true, \"showline\": false, \"showticklabels\": true, \"tickcolor\": \"rgb(127,127,127)\", \"ticks\": \"outside\", \"title\": \"Net Value ($)\", \"zeroline\": false}, \"yaxis1\": {\"gridcolor\": \"rgb(255,255,255)\", \"range\": [0], \"showgrid\": true, \"showline\": false, \"showticklabels\": true, \"tickcolor\": \"rgb(127,127,127)\", \"ticks\": \"outside\", \"title\": \"RT (s)\", \"anchor\": \"x1\", \"zeroline\": false}, \"yaxis2\": {\"gridcolor\": \"rgb(255,255,255)\", \"range\": [0], \"showgrid\": true, \"showline\": false, \"showticklabels\": true, \"tickcolor\": \"rgb(127,127,127)\", \"ticks\": \"outside\", \"title\": \"p (accept)\", \"anchor\": \"x2\", \"zeroline\": false}, \"annotations\": [{\"x\": 0.01, \"y\": 1.12, \"showarrow\": false, \"text\": \"PARAMETERS: v: 0.088, a: 0.179, \\u03b8: 0.82\", \"xref\": \"paper\", \"yref\": \"paper\"}, {\"x\": 0.01, \"y\": 1.08, \"showarrow\": false, \"text\": \"MLE: 612.24\", \"xref\": \"paper\", \"yref\": \"paper\"}, {\"x\": 0.01, \"y\": 1.2, \"showarrow\": false, \"text\": \"SUBJECT: 7\", \"font\": {\"family\": \"Arial, sans-serif\", \"size\": 22}, \"xref\": \"paper\", \"yref\": \"paper\"}]}, {\"showLink\": true, \"linkText\": \"Export to plot.ly\"})});</script>"
      ]
     },
     "metadata": {},
     "output_type": "display_data"
    },
    {
     "data": {
      "text/html": [
       "<script>requirejs.config({paths: { 'plotly': ['https://cdn.plot.ly/plotly-latest.min']},});if(!window.Plotly) {{require(['plotly'],function(plotly) {window.Plotly=plotly;});}}</script>"
      ],
      "text/vnd.plotly.v1+html": [
       "<script>requirejs.config({paths: { 'plotly': ['https://cdn.plot.ly/plotly-latest.min']},});if(!window.Plotly) {{require(['plotly'],function(plotly) {window.Plotly=plotly;});}}</script>"
      ]
     },
     "metadata": {},
     "output_type": "display_data"
    },
    {
     "data": {
      "application/vnd.plotly.v1+json": {
       "data": [
        {
         "error_y": {
          "array": [
           0.27050941425998043,
           0.28770960590492894,
           0.18240159910635725,
           0.23948529280393824,
           0.270817086073925,
           0.32586465298263884,
           0.10178122567525187
          ],
          "color": "rgb(0,170,80)",
          "type": "data",
          "visible": true
         },
         "line": {
          "color": "rgb(0,100,80)"
         },
         "mode": "lines+markers",
         "name": "Test Data",
         "type": "scatter",
         "x": [
          -1.7345,
          -0.8091666666666667,
          -0.286,
          0.025161290322580618,
          0.3271428571428571,
          0.7461111111111111,
          1.5722222222222217
         ],
         "y": [
          2.5601258025313673,
          3.0063551905454915,
          2.7211679010491934,
          3.1543780296791915,
          2.6131890266302187,
          2.5056769166332944,
          2.170454257731629
         ]
        },
        {
         "error_y": {
          "array": [
           0.013933489539249186,
           0.013580492420503163,
           0.017313308319354195,
           0.01207420078008861,
           0.017802570723634403,
           0.015502084214738759,
           0.01225977628739258
          ],
          "color": "rgb(0,100,246)",
          "type": "data",
          "visible": true
         },
         "line": {
          "color": "rgb(0,176,246)"
         },
         "mode": "lines+markers",
         "name": "Sim Data",
         "type": "scatter",
         "x": [
          -1.7345,
          -0.8091666666666667,
          -0.286,
          0.025161290322580618,
          0.3271428571428571,
          0.7461111111111111,
          1.5722222222222217
         ],
         "y": [
          3.550294294447282,
          3.736972594527463,
          3.765614346396262,
          3.7716696671759724,
          3.749265562913902,
          3.72793772851921,
          3.5968600959903094
         ]
        },
        {
         "error_y": {
          "array": [
           0,
           0.05763033956734372,
           0.06666666666666665,
           0.09123958466923195,
           0.11380392954509881,
           0.0762215933966706,
           0.037037037037037035
          ],
          "color": "rgb(0,170,80)",
          "type": "data",
          "visible": true
         },
         "line": {
          "color": "rgb(0,100,80)"
         },
         "mode": "lines+markers",
         "name": "Test Data",
         "type": "scatter",
         "x": [
          -1.7345,
          -0.8091666666666667,
          -0.286,
          0.025161290322580618,
          0.3271428571428571,
          0.7461111111111111,
          1.5722222222222217
         ],
         "xaxis": "x2",
         "y": [
          0,
          0.08333333333333333,
          0.06666666666666667,
          0.5161290322580645,
          0.7857142857142857,
          0.8888888888888888,
          0.9629629629629629
         ],
         "yaxis": "y2"
        },
        {
         "error_y": {
          "array": [
           0.0030349056421867453,
           0.003165778422706825,
           0.004122188320323834,
           0.0028815375253669335,
           0.004259144169197942,
           0.0036497536718946674,
           0.0027209818324583613
          ],
          "color": "rgb(0,100,246)",
          "type": "data",
          "visible": true
         },
         "line": {
          "color": "rgb(0,176,246)"
         },
         "mode": "lines+markers",
         "name": "Sim Data",
         "type": "scatter",
         "x": [
          -1.7345,
          -0.8091666666666667,
          -0.286,
          0.025161290322580618,
          0.3271428571428571,
          0.7461111111111111,
          1.5722222222222217
         ],
         "xaxis": "x2",
         "y": [
          0.2369332654100866,
          0.3736564895302531,
          0.45533022745957796,
          0.49448614894041054,
          0.5590875643855776,
          0.629798903107861,
          0.7325875817240467
         ],
         "yaxis": "y2"
        }
       ],
       "layout": {
        "annotations": [
         {
          "showarrow": false,
          "text": "PARAMETERS: v: 0.026, a: 0.179, θ: 0.46",
          "x": 0.01,
          "xref": "paper",
          "y": 1.12,
          "yref": "paper"
         },
         {
          "showarrow": false,
          "text": "MLE: 661.42",
          "x": 0.01,
          "xref": "paper",
          "y": 1.08,
          "yref": "paper"
         },
         {
          "font": {
           "family": "Arial, sans-serif",
           "size": 22
          },
          "showarrow": false,
          "text": "SUBJECT: 8",
          "x": 0.01,
          "xref": "paper",
          "y": 1.2,
          "yref": "paper"
         }
        ],
        "paper_bgcolor": "rgb(255,255,255)",
        "plot_bgcolor": "rgb(229,229,229)",
        "xaxis": {
         "domain": [
          0,
          0.45
         ],
         "gridcolor": "rgb(255,255,255)",
         "range": [
          -2,
          2
         ],
         "showgrid": true,
         "showline": false,
         "showticklabels": true,
         "tickcolor": "rgb(127,127,127)",
         "ticks": "outside",
         "title": "Net Value ($)",
         "zeroline": false
        },
        "xaxis2": {
         "domain": [
          0.55,
          1
         ],
         "gridcolor": "rgb(255,255,255)",
         "range": [
          -2,
          2
         ],
         "showgrid": true,
         "showline": false,
         "showticklabels": true,
         "tickcolor": "rgb(127,127,127)",
         "ticks": "outside",
         "title": "Net Value ($)",
         "zeroline": false
        },
        "yaxis1": {
         "anchor": "x1",
         "gridcolor": "rgb(255,255,255)",
         "range": [
          0
         ],
         "showgrid": true,
         "showline": false,
         "showticklabels": true,
         "tickcolor": "rgb(127,127,127)",
         "ticks": "outside",
         "title": "RT (s)",
         "zeroline": false
        },
        "yaxis2": {
         "anchor": "x2",
         "gridcolor": "rgb(255,255,255)",
         "range": [
          0
         ],
         "showgrid": true,
         "showline": false,
         "showticklabels": true,
         "tickcolor": "rgb(127,127,127)",
         "ticks": "outside",
         "title": "p (accept)",
         "zeroline": false
        }
       }
      },
      "text/html": [
       "<div id=\"c44a0325-8387-4350-8671-33b44f455dc0\" style=\"height: 525px; width: 100%;\" class=\"plotly-graph-div\"></div><script type=\"text/javascript\">require([\"plotly\"], function(Plotly) { window.PLOTLYENV=window.PLOTLYENV || {};window.PLOTLYENV.BASE_URL=\"https://plot.ly\";Plotly.newPlot(\"c44a0325-8387-4350-8671-33b44f455dc0\", [{\"type\": \"scatter\", \"x\": [-1.7345, -0.8091666666666667, -0.286, 0.025161290322580618, 0.3271428571428571, 0.7461111111111111, 1.5722222222222217], \"y\": [2.5601258025313673, 3.0063551905454915, 2.7211679010491934, 3.1543780296791915, 2.6131890266302187, 2.5056769166332944, 2.170454257731629], \"error_y\": {\"type\": \"data\", \"array\": [0.27050941425998043, 0.28770960590492894, 0.18240159910635725, 0.23948529280393824, 0.270817086073925, 0.32586465298263884, 0.10178122567525187], \"color\": \"rgb(0,170,80)\", \"visible\": true}, \"line\": {\"color\": \"rgb(0,100,80)\"}, \"mode\": \"lines+markers\", \"name\": \"Test Data\"}, {\"type\": \"scatter\", \"x\": [-1.7345, -0.8091666666666667, -0.286, 0.025161290322580618, 0.3271428571428571, 0.7461111111111111, 1.5722222222222217], \"y\": [3.550294294447282, 3.736972594527463, 3.765614346396262, 3.7716696671759724, 3.749265562913902, 3.72793772851921, 3.5968600959903094], \"error_y\": {\"type\": \"data\", \"array\": [0.013933489539249186, 0.013580492420503163, 0.017313308319354195, 0.01207420078008861, 0.017802570723634403, 0.015502084214738759, 0.01225977628739258], \"color\": \"rgb(0,100,246)\", \"visible\": true}, \"line\": {\"color\": \"rgb(0,176,246)\"}, \"mode\": \"lines+markers\", \"name\": \"Sim Data\"}, {\"type\": \"scatter\", \"x\": [-1.7345, -0.8091666666666667, -0.286, 0.025161290322580618, 0.3271428571428571, 0.7461111111111111, 1.5722222222222217], \"y\": [0.0, 0.08333333333333333, 0.06666666666666667, 0.5161290322580645, 0.7857142857142857, 0.8888888888888888, 0.9629629629629629], \"error_y\": {\"type\": \"data\", \"array\": [0.0, 0.05763033956734372, 0.06666666666666665, 0.09123958466923195, 0.11380392954509881, 0.0762215933966706, 0.037037037037037035], \"color\": \"rgb(0,170,80)\", \"visible\": true}, \"line\": {\"color\": \"rgb(0,100,80)\"}, \"mode\": \"lines+markers\", \"name\": \"Test Data\", \"xaxis\": \"x2\", \"yaxis\": \"y2\"}, {\"type\": \"scatter\", \"x\": [-1.7345, -0.8091666666666667, -0.286, 0.025161290322580618, 0.3271428571428571, 0.7461111111111111, 1.5722222222222217], \"y\": [0.2369332654100866, 0.3736564895302531, 0.45533022745957796, 0.49448614894041054, 0.5590875643855776, 0.629798903107861, 0.7325875817240467], \"error_y\": {\"type\": \"data\", \"array\": [0.0030349056421867453, 0.003165778422706825, 0.004122188320323834, 0.0028815375253669335, 0.004259144169197942, 0.0036497536718946674, 0.0027209818324583613], \"color\": \"rgb(0,100,246)\", \"visible\": true}, \"line\": {\"color\": \"rgb(0,176,246)\"}, \"mode\": \"lines+markers\", \"name\": \"Sim Data\", \"xaxis\": \"x2\", \"yaxis\": \"y2\"}], {\"paper_bgcolor\": \"rgb(255,255,255)\", \"plot_bgcolor\": \"rgb(229,229,229)\", \"xaxis\": {\"gridcolor\": \"rgb(255,255,255)\", \"range\": [-2, 2], \"domain\": [0, 0.45], \"showgrid\": true, \"showline\": false, \"showticklabels\": true, \"tickcolor\": \"rgb(127,127,127)\", \"ticks\": \"outside\", \"title\": \"Net Value ($)\", \"zeroline\": false}, \"xaxis2\": {\"gridcolor\": \"rgb(255,255,255)\", \"range\": [-2, 2], \"domain\": [0.55, 1], \"showgrid\": true, \"showline\": false, \"showticklabels\": true, \"tickcolor\": \"rgb(127,127,127)\", \"ticks\": \"outside\", \"title\": \"Net Value ($)\", \"zeroline\": false}, \"yaxis1\": {\"gridcolor\": \"rgb(255,255,255)\", \"range\": [0], \"showgrid\": true, \"showline\": false, \"showticklabels\": true, \"tickcolor\": \"rgb(127,127,127)\", \"ticks\": \"outside\", \"title\": \"RT (s)\", \"anchor\": \"x1\", \"zeroline\": false}, \"yaxis2\": {\"gridcolor\": \"rgb(255,255,255)\", \"range\": [0], \"showgrid\": true, \"showline\": false, \"showticklabels\": true, \"tickcolor\": \"rgb(127,127,127)\", \"ticks\": \"outside\", \"title\": \"p (accept)\", \"anchor\": \"x2\", \"zeroline\": false}, \"annotations\": [{\"x\": 0.01, \"y\": 1.12, \"showarrow\": false, \"text\": \"PARAMETERS: v: 0.026, a: 0.179, \\u03b8: 0.46\", \"xref\": \"paper\", \"yref\": \"paper\"}, {\"x\": 0.01, \"y\": 1.08, \"showarrow\": false, \"text\": \"MLE: 661.42\", \"xref\": \"paper\", \"yref\": \"paper\"}, {\"x\": 0.01, \"y\": 1.2, \"showarrow\": false, \"text\": \"SUBJECT: 8\", \"font\": {\"family\": \"Arial, sans-serif\", \"size\": 22}, \"xref\": \"paper\", \"yref\": \"paper\"}]}, {\"showLink\": true, \"linkText\": \"Export to plot.ly\"})});</script>"
      ],
      "text/vnd.plotly.v1+html": [
       "<div id=\"c44a0325-8387-4350-8671-33b44f455dc0\" style=\"height: 525px; width: 100%;\" class=\"plotly-graph-div\"></div><script type=\"text/javascript\">require([\"plotly\"], function(Plotly) { window.PLOTLYENV=window.PLOTLYENV || {};window.PLOTLYENV.BASE_URL=\"https://plot.ly\";Plotly.newPlot(\"c44a0325-8387-4350-8671-33b44f455dc0\", [{\"type\": \"scatter\", \"x\": [-1.7345, -0.8091666666666667, -0.286, 0.025161290322580618, 0.3271428571428571, 0.7461111111111111, 1.5722222222222217], \"y\": [2.5601258025313673, 3.0063551905454915, 2.7211679010491934, 3.1543780296791915, 2.6131890266302187, 2.5056769166332944, 2.170454257731629], \"error_y\": {\"type\": \"data\", \"array\": [0.27050941425998043, 0.28770960590492894, 0.18240159910635725, 0.23948529280393824, 0.270817086073925, 0.32586465298263884, 0.10178122567525187], \"color\": \"rgb(0,170,80)\", \"visible\": true}, \"line\": {\"color\": \"rgb(0,100,80)\"}, \"mode\": \"lines+markers\", \"name\": \"Test Data\"}, {\"type\": \"scatter\", \"x\": [-1.7345, -0.8091666666666667, -0.286, 0.025161290322580618, 0.3271428571428571, 0.7461111111111111, 1.5722222222222217], \"y\": [3.550294294447282, 3.736972594527463, 3.765614346396262, 3.7716696671759724, 3.749265562913902, 3.72793772851921, 3.5968600959903094], \"error_y\": {\"type\": \"data\", \"array\": [0.013933489539249186, 0.013580492420503163, 0.017313308319354195, 0.01207420078008861, 0.017802570723634403, 0.015502084214738759, 0.01225977628739258], \"color\": \"rgb(0,100,246)\", \"visible\": true}, \"line\": {\"color\": \"rgb(0,176,246)\"}, \"mode\": \"lines+markers\", \"name\": \"Sim Data\"}, {\"type\": \"scatter\", \"x\": [-1.7345, -0.8091666666666667, -0.286, 0.025161290322580618, 0.3271428571428571, 0.7461111111111111, 1.5722222222222217], \"y\": [0.0, 0.08333333333333333, 0.06666666666666667, 0.5161290322580645, 0.7857142857142857, 0.8888888888888888, 0.9629629629629629], \"error_y\": {\"type\": \"data\", \"array\": [0.0, 0.05763033956734372, 0.06666666666666665, 0.09123958466923195, 0.11380392954509881, 0.0762215933966706, 0.037037037037037035], \"color\": \"rgb(0,170,80)\", \"visible\": true}, \"line\": {\"color\": \"rgb(0,100,80)\"}, \"mode\": \"lines+markers\", \"name\": \"Test Data\", \"xaxis\": \"x2\", \"yaxis\": \"y2\"}, {\"type\": \"scatter\", \"x\": [-1.7345, -0.8091666666666667, -0.286, 0.025161290322580618, 0.3271428571428571, 0.7461111111111111, 1.5722222222222217], \"y\": [0.2369332654100866, 0.3736564895302531, 0.45533022745957796, 0.49448614894041054, 0.5590875643855776, 0.629798903107861, 0.7325875817240467], \"error_y\": {\"type\": \"data\", \"array\": [0.0030349056421867453, 0.003165778422706825, 0.004122188320323834, 0.0028815375253669335, 0.004259144169197942, 0.0036497536718946674, 0.0027209818324583613], \"color\": \"rgb(0,100,246)\", \"visible\": true}, \"line\": {\"color\": \"rgb(0,176,246)\"}, \"mode\": \"lines+markers\", \"name\": \"Sim Data\", \"xaxis\": \"x2\", \"yaxis\": \"y2\"}], {\"paper_bgcolor\": \"rgb(255,255,255)\", \"plot_bgcolor\": \"rgb(229,229,229)\", \"xaxis\": {\"gridcolor\": \"rgb(255,255,255)\", \"range\": [-2, 2], \"domain\": [0, 0.45], \"showgrid\": true, \"showline\": false, \"showticklabels\": true, \"tickcolor\": \"rgb(127,127,127)\", \"ticks\": \"outside\", \"title\": \"Net Value ($)\", \"zeroline\": false}, \"xaxis2\": {\"gridcolor\": \"rgb(255,255,255)\", \"range\": [-2, 2], \"domain\": [0.55, 1], \"showgrid\": true, \"showline\": false, \"showticklabels\": true, \"tickcolor\": \"rgb(127,127,127)\", \"ticks\": \"outside\", \"title\": \"Net Value ($)\", \"zeroline\": false}, \"yaxis1\": {\"gridcolor\": \"rgb(255,255,255)\", \"range\": [0], \"showgrid\": true, \"showline\": false, \"showticklabels\": true, \"tickcolor\": \"rgb(127,127,127)\", \"ticks\": \"outside\", \"title\": \"RT (s)\", \"anchor\": \"x1\", \"zeroline\": false}, \"yaxis2\": {\"gridcolor\": \"rgb(255,255,255)\", \"range\": [0], \"showgrid\": true, \"showline\": false, \"showticklabels\": true, \"tickcolor\": \"rgb(127,127,127)\", \"ticks\": \"outside\", \"title\": \"p (accept)\", \"anchor\": \"x2\", \"zeroline\": false}, \"annotations\": [{\"x\": 0.01, \"y\": 1.12, \"showarrow\": false, \"text\": \"PARAMETERS: v: 0.026, a: 0.179, \\u03b8: 0.46\", \"xref\": \"paper\", \"yref\": \"paper\"}, {\"x\": 0.01, \"y\": 1.08, \"showarrow\": false, \"text\": \"MLE: 661.42\", \"xref\": \"paper\", \"yref\": \"paper\"}, {\"x\": 0.01, \"y\": 1.2, \"showarrow\": false, \"text\": \"SUBJECT: 8\", \"font\": {\"family\": \"Arial, sans-serif\", \"size\": 22}, \"xref\": \"paper\", \"yref\": \"paper\"}]}, {\"showLink\": true, \"linkText\": \"Export to plot.ly\"})});</script>"
      ]
     },
     "metadata": {},
     "output_type": "display_data"
    },
    {
     "data": {
      "text/html": [
       "<script>requirejs.config({paths: { 'plotly': ['https://cdn.plot.ly/plotly-latest.min']},});if(!window.Plotly) {{require(['plotly'],function(plotly) {window.Plotly=plotly;});}}</script>"
      ],
      "text/vnd.plotly.v1+html": [
       "<script>requirejs.config({paths: { 'plotly': ['https://cdn.plot.ly/plotly-latest.min']},});if(!window.Plotly) {{require(['plotly'],function(plotly) {window.Plotly=plotly;});}}</script>"
      ]
     },
     "metadata": {},
     "output_type": "display_data"
    },
    {
     "data": {
      "application/vnd.plotly.v1+json": {
       "data": [
        {
         "error_y": {
          "array": [
           0.20399141919352085,
           0.2601934750729377,
           0.5465874954199383,
           0.27742531679976895,
           0.479598191779937,
           0.2319815272773067,
           0.2543544269306552
          ],
          "color": "rgb(0,170,80)",
          "type": "data",
          "visible": true
         },
         "line": {
          "color": "rgb(0,100,80)"
         },
         "mode": "lines+markers",
         "name": "Test Data",
         "type": "scatter",
         "x": [
          -1.6516666666666668,
          -0.7999999999999999,
          -0.3061111111111112,
          0.021999999999999974,
          0.3085714285714286,
          0.755,
          1.6012499999999996
         ],
         "y": [
          2.2320420636266745,
          3.1515045656874707,
          3.8372014102181606,
          3.679312936441177,
          3.66939570704874,
          3.2465464065336915,
          2.6207960178538383
         ]
        },
        {
         "error_y": {
          "array": [
           0.015804060372441548,
           0.015393545730182784,
           0.015876713177665695,
           0.012382307825066902,
           0.01794863405995985,
           0.014312650666209112,
           0.013726531240156211
          ],
          "color": "rgb(0,100,246)",
          "type": "data",
          "visible": true
         },
         "line": {
          "color": "rgb(0,176,246)"
         },
         "mode": "lines+markers",
         "name": "Sim Data",
         "type": "scatter",
         "x": [
          -1.6516666666666668,
          -0.7999999999999999,
          -0.3061111111111112,
          0.021999999999999974,
          0.3085714285714286,
          0.755,
          1.6012499999999996
         ],
         "y": [
          3.79293533645608,
          3.77232182410423,
          3.814987532170435,
          3.783042803030275,
          3.7801193139997133,
          3.7788022879647554,
          3.778936326215564
         ]
        },
        {
         "error_y": {
          "array": [
           0,
           0.0723351864143449,
           0.05555555555555556,
           0.0875376219064817,
           0.13725270326150324,
           0.10163945352271771,
           0.041666666666666664
          ],
          "color": "rgb(0,170,80)",
          "type": "data",
          "visible": true
         },
         "line": {
          "color": "rgb(0,100,80)"
         },
         "mode": "lines+markers",
         "name": "Test Data",
         "type": "scatter",
         "x": [
          -1.6516666666666668,
          -0.7999999999999999,
          -0.3061111111111112,
          0.021999999999999974,
          0.3085714285714286,
          0.755,
          1.6012499999999996
         ],
         "xaxis": "x2",
         "y": [
          0,
          0.10526315789473684,
          0.05555555555555555,
          0.3333333333333333,
          0.5714285714285714,
          0.6818181818181818,
          0.9583333333333334
         ],
         "yaxis": "y2"
        },
        {
         "error_y": {
          "array": [
           0.003758035074936139,
           0.003681362941290514,
           0.003781315565159567,
           0.002934127246098991,
           0.004287349941097604,
           0.0034204448846819674,
           0.003260165370976313
          ],
          "color": "rgb(0,100,246)",
          "type": "data",
          "visible": true
         },
         "line": {
          "color": "rgb(0,176,246)"
         },
         "mode": "lines+markers",
         "name": "Sim Data",
         "type": "scatter",
         "x": [
          -1.6516666666666668,
          -0.7999999999999999,
          -0.3061111111111112,
          0.021999999999999974,
          0.3085714285714286,
          0.755,
          1.6012499999999996
         ],
         "xaxis": "x2",
         "y": [
          0.4472752199245973,
          0.4805646036916395,
          0.49722619388046896,
          0.4994834710743802,
          0.5170027969969085,
          0.5217778611280416,
          0.5461366949661264
         ],
         "yaxis": "y2"
        }
       ],
       "layout": {
        "annotations": [
         {
          "showarrow": false,
          "text": "PARAMETERS: v: 0.005, a: 0.179, θ: 0.28",
          "x": 0.01,
          "xref": "paper",
          "y": 1.12,
          "yref": "paper"
         },
         {
          "showarrow": false,
          "text": "MLE: 689.4",
          "x": 0.01,
          "xref": "paper",
          "y": 1.08,
          "yref": "paper"
         },
         {
          "font": {
           "family": "Arial, sans-serif",
           "size": 22
          },
          "showarrow": false,
          "text": "SUBJECT: 9",
          "x": 0.01,
          "xref": "paper",
          "y": 1.2,
          "yref": "paper"
         }
        ],
        "paper_bgcolor": "rgb(255,255,255)",
        "plot_bgcolor": "rgb(229,229,229)",
        "xaxis": {
         "domain": [
          0,
          0.45
         ],
         "gridcolor": "rgb(255,255,255)",
         "range": [
          -2,
          2
         ],
         "showgrid": true,
         "showline": false,
         "showticklabels": true,
         "tickcolor": "rgb(127,127,127)",
         "ticks": "outside",
         "title": "Net Value ($)",
         "zeroline": false
        },
        "xaxis2": {
         "domain": [
          0.55,
          1
         ],
         "gridcolor": "rgb(255,255,255)",
         "range": [
          -2,
          2
         ],
         "showgrid": true,
         "showline": false,
         "showticklabels": true,
         "tickcolor": "rgb(127,127,127)",
         "ticks": "outside",
         "title": "Net Value ($)",
         "zeroline": false
        },
        "yaxis1": {
         "anchor": "x1",
         "gridcolor": "rgb(255,255,255)",
         "range": [
          0
         ],
         "showgrid": true,
         "showline": false,
         "showticklabels": true,
         "tickcolor": "rgb(127,127,127)",
         "ticks": "outside",
         "title": "RT (s)",
         "zeroline": false
        },
        "yaxis2": {
         "anchor": "x2",
         "gridcolor": "rgb(255,255,255)",
         "range": [
          0
         ],
         "showgrid": true,
         "showline": false,
         "showticklabels": true,
         "tickcolor": "rgb(127,127,127)",
         "ticks": "outside",
         "title": "p (accept)",
         "zeroline": false
        }
       }
      },
      "text/html": [
       "<div id=\"be037fec-4081-412e-89af-09c51a24a544\" style=\"height: 525px; width: 100%;\" class=\"plotly-graph-div\"></div><script type=\"text/javascript\">require([\"plotly\"], function(Plotly) { window.PLOTLYENV=window.PLOTLYENV || {};window.PLOTLYENV.BASE_URL=\"https://plot.ly\";Plotly.newPlot(\"be037fec-4081-412e-89af-09c51a24a544\", [{\"type\": \"scatter\", \"x\": [-1.6516666666666668, -0.7999999999999999, -0.3061111111111112, 0.021999999999999974, 0.3085714285714286, 0.755, 1.6012499999999996], \"y\": [2.2320420636266745, 3.1515045656874707, 3.8372014102181606, 3.679312936441177, 3.66939570704874, 3.2465464065336915, 2.6207960178538383], \"error_y\": {\"type\": \"data\", \"array\": [0.20399141919352085, 0.2601934750729377, 0.5465874954199383, 0.27742531679976895, 0.479598191779937, 0.2319815272773067, 0.2543544269306552], \"color\": \"rgb(0,170,80)\", \"visible\": true}, \"line\": {\"color\": \"rgb(0,100,80)\"}, \"mode\": \"lines+markers\", \"name\": \"Test Data\"}, {\"type\": \"scatter\", \"x\": [-1.6516666666666668, -0.7999999999999999, -0.3061111111111112, 0.021999999999999974, 0.3085714285714286, 0.755, 1.6012499999999996], \"y\": [3.79293533645608, 3.77232182410423, 3.814987532170435, 3.783042803030275, 3.7801193139997133, 3.7788022879647554, 3.778936326215564], \"error_y\": {\"type\": \"data\", \"array\": [0.015804060372441548, 0.015393545730182784, 0.015876713177665695, 0.012382307825066902, 0.01794863405995985, 0.014312650666209112, 0.013726531240156211], \"color\": \"rgb(0,100,246)\", \"visible\": true}, \"line\": {\"color\": \"rgb(0,176,246)\"}, \"mode\": \"lines+markers\", \"name\": \"Sim Data\"}, {\"type\": \"scatter\", \"x\": [-1.6516666666666668, -0.7999999999999999, -0.3061111111111112, 0.021999999999999974, 0.3085714285714286, 0.755, 1.6012499999999996], \"y\": [0.0, 0.10526315789473684, 0.05555555555555555, 0.3333333333333333, 0.5714285714285714, 0.6818181818181818, 0.9583333333333334], \"error_y\": {\"type\": \"data\", \"array\": [0.0, 0.0723351864143449, 0.05555555555555556, 0.0875376219064817, 0.13725270326150324, 0.10163945352271771, 0.041666666666666664], \"color\": \"rgb(0,170,80)\", \"visible\": true}, \"line\": {\"color\": \"rgb(0,100,80)\"}, \"mode\": \"lines+markers\", \"name\": \"Test Data\", \"xaxis\": \"x2\", \"yaxis\": \"y2\"}, {\"type\": \"scatter\", \"x\": [-1.6516666666666668, -0.7999999999999999, -0.3061111111111112, 0.021999999999999974, 0.3085714285714286, 0.755, 1.6012499999999996], \"y\": [0.4472752199245973, 0.4805646036916395, 0.49722619388046896, 0.4994834710743802, 0.5170027969969085, 0.5217778611280416, 0.5461366949661264], \"error_y\": {\"type\": \"data\", \"array\": [0.003758035074936139, 0.003681362941290514, 0.003781315565159567, 0.002934127246098991, 0.004287349941097604, 0.0034204448846819674, 0.003260165370976313], \"color\": \"rgb(0,100,246)\", \"visible\": true}, \"line\": {\"color\": \"rgb(0,176,246)\"}, \"mode\": \"lines+markers\", \"name\": \"Sim Data\", \"xaxis\": \"x2\", \"yaxis\": \"y2\"}], {\"paper_bgcolor\": \"rgb(255,255,255)\", \"plot_bgcolor\": \"rgb(229,229,229)\", \"xaxis\": {\"gridcolor\": \"rgb(255,255,255)\", \"range\": [-2, 2], \"domain\": [0, 0.45], \"showgrid\": true, \"showline\": false, \"showticklabels\": true, \"tickcolor\": \"rgb(127,127,127)\", \"ticks\": \"outside\", \"title\": \"Net Value ($)\", \"zeroline\": false}, \"xaxis2\": {\"gridcolor\": \"rgb(255,255,255)\", \"range\": [-2, 2], \"domain\": [0.55, 1], \"showgrid\": true, \"showline\": false, \"showticklabels\": true, \"tickcolor\": \"rgb(127,127,127)\", \"ticks\": \"outside\", \"title\": \"Net Value ($)\", \"zeroline\": false}, \"yaxis1\": {\"gridcolor\": \"rgb(255,255,255)\", \"range\": [0], \"showgrid\": true, \"showline\": false, \"showticklabels\": true, \"tickcolor\": \"rgb(127,127,127)\", \"ticks\": \"outside\", \"title\": \"RT (s)\", \"anchor\": \"x1\", \"zeroline\": false}, \"yaxis2\": {\"gridcolor\": \"rgb(255,255,255)\", \"range\": [0], \"showgrid\": true, \"showline\": false, \"showticklabels\": true, \"tickcolor\": \"rgb(127,127,127)\", \"ticks\": \"outside\", \"title\": \"p (accept)\", \"anchor\": \"x2\", \"zeroline\": false}, \"annotations\": [{\"x\": 0.01, \"y\": 1.12, \"showarrow\": false, \"text\": \"PARAMETERS: v: 0.005, a: 0.179, \\u03b8: 0.28\", \"xref\": \"paper\", \"yref\": \"paper\"}, {\"x\": 0.01, \"y\": 1.08, \"showarrow\": false, \"text\": \"MLE: 689.4\", \"xref\": \"paper\", \"yref\": \"paper\"}, {\"x\": 0.01, \"y\": 1.2, \"showarrow\": false, \"text\": \"SUBJECT: 9\", \"font\": {\"family\": \"Arial, sans-serif\", \"size\": 22}, \"xref\": \"paper\", \"yref\": \"paper\"}]}, {\"showLink\": true, \"linkText\": \"Export to plot.ly\"})});</script>"
      ],
      "text/vnd.plotly.v1+html": [
       "<div id=\"be037fec-4081-412e-89af-09c51a24a544\" style=\"height: 525px; width: 100%;\" class=\"plotly-graph-div\"></div><script type=\"text/javascript\">require([\"plotly\"], function(Plotly) { window.PLOTLYENV=window.PLOTLYENV || {};window.PLOTLYENV.BASE_URL=\"https://plot.ly\";Plotly.newPlot(\"be037fec-4081-412e-89af-09c51a24a544\", [{\"type\": \"scatter\", \"x\": [-1.6516666666666668, -0.7999999999999999, -0.3061111111111112, 0.021999999999999974, 0.3085714285714286, 0.755, 1.6012499999999996], \"y\": [2.2320420636266745, 3.1515045656874707, 3.8372014102181606, 3.679312936441177, 3.66939570704874, 3.2465464065336915, 2.6207960178538383], \"error_y\": {\"type\": \"data\", \"array\": [0.20399141919352085, 0.2601934750729377, 0.5465874954199383, 0.27742531679976895, 0.479598191779937, 0.2319815272773067, 0.2543544269306552], \"color\": \"rgb(0,170,80)\", \"visible\": true}, \"line\": {\"color\": \"rgb(0,100,80)\"}, \"mode\": \"lines+markers\", \"name\": \"Test Data\"}, {\"type\": \"scatter\", \"x\": [-1.6516666666666668, -0.7999999999999999, -0.3061111111111112, 0.021999999999999974, 0.3085714285714286, 0.755, 1.6012499999999996], \"y\": [3.79293533645608, 3.77232182410423, 3.814987532170435, 3.783042803030275, 3.7801193139997133, 3.7788022879647554, 3.778936326215564], \"error_y\": {\"type\": \"data\", \"array\": [0.015804060372441548, 0.015393545730182784, 0.015876713177665695, 0.012382307825066902, 0.01794863405995985, 0.014312650666209112, 0.013726531240156211], \"color\": \"rgb(0,100,246)\", \"visible\": true}, \"line\": {\"color\": \"rgb(0,176,246)\"}, \"mode\": \"lines+markers\", \"name\": \"Sim Data\"}, {\"type\": \"scatter\", \"x\": [-1.6516666666666668, -0.7999999999999999, -0.3061111111111112, 0.021999999999999974, 0.3085714285714286, 0.755, 1.6012499999999996], \"y\": [0.0, 0.10526315789473684, 0.05555555555555555, 0.3333333333333333, 0.5714285714285714, 0.6818181818181818, 0.9583333333333334], \"error_y\": {\"type\": \"data\", \"array\": [0.0, 0.0723351864143449, 0.05555555555555556, 0.0875376219064817, 0.13725270326150324, 0.10163945352271771, 0.041666666666666664], \"color\": \"rgb(0,170,80)\", \"visible\": true}, \"line\": {\"color\": \"rgb(0,100,80)\"}, \"mode\": \"lines+markers\", \"name\": \"Test Data\", \"xaxis\": \"x2\", \"yaxis\": \"y2\"}, {\"type\": \"scatter\", \"x\": [-1.6516666666666668, -0.7999999999999999, -0.3061111111111112, 0.021999999999999974, 0.3085714285714286, 0.755, 1.6012499999999996], \"y\": [0.4472752199245973, 0.4805646036916395, 0.49722619388046896, 0.4994834710743802, 0.5170027969969085, 0.5217778611280416, 0.5461366949661264], \"error_y\": {\"type\": \"data\", \"array\": [0.003758035074936139, 0.003681362941290514, 0.003781315565159567, 0.002934127246098991, 0.004287349941097604, 0.0034204448846819674, 0.003260165370976313], \"color\": \"rgb(0,100,246)\", \"visible\": true}, \"line\": {\"color\": \"rgb(0,176,246)\"}, \"mode\": \"lines+markers\", \"name\": \"Sim Data\", \"xaxis\": \"x2\", \"yaxis\": \"y2\"}], {\"paper_bgcolor\": \"rgb(255,255,255)\", \"plot_bgcolor\": \"rgb(229,229,229)\", \"xaxis\": {\"gridcolor\": \"rgb(255,255,255)\", \"range\": [-2, 2], \"domain\": [0, 0.45], \"showgrid\": true, \"showline\": false, \"showticklabels\": true, \"tickcolor\": \"rgb(127,127,127)\", \"ticks\": \"outside\", \"title\": \"Net Value ($)\", \"zeroline\": false}, \"xaxis2\": {\"gridcolor\": \"rgb(255,255,255)\", \"range\": [-2, 2], \"domain\": [0.55, 1], \"showgrid\": true, \"showline\": false, \"showticklabels\": true, \"tickcolor\": \"rgb(127,127,127)\", \"ticks\": \"outside\", \"title\": \"Net Value ($)\", \"zeroline\": false}, \"yaxis1\": {\"gridcolor\": \"rgb(255,255,255)\", \"range\": [0], \"showgrid\": true, \"showline\": false, \"showticklabels\": true, \"tickcolor\": \"rgb(127,127,127)\", \"ticks\": \"outside\", \"title\": \"RT (s)\", \"anchor\": \"x1\", \"zeroline\": false}, \"yaxis2\": {\"gridcolor\": \"rgb(255,255,255)\", \"range\": [0], \"showgrid\": true, \"showline\": false, \"showticklabels\": true, \"tickcolor\": \"rgb(127,127,127)\", \"ticks\": \"outside\", \"title\": \"p (accept)\", \"anchor\": \"x2\", \"zeroline\": false}, \"annotations\": [{\"x\": 0.01, \"y\": 1.12, \"showarrow\": false, \"text\": \"PARAMETERS: v: 0.005, a: 0.179, \\u03b8: 0.28\", \"xref\": \"paper\", \"yref\": \"paper\"}, {\"x\": 0.01, \"y\": 1.08, \"showarrow\": false, \"text\": \"MLE: 689.4\", \"xref\": \"paper\", \"yref\": \"paper\"}, {\"x\": 0.01, \"y\": 1.2, \"showarrow\": false, \"text\": \"SUBJECT: 9\", \"font\": {\"family\": \"Arial, sans-serif\", \"size\": 22}, \"xref\": \"paper\", \"yref\": \"paper\"}]}, {\"showLink\": true, \"linkText\": \"Export to plot.ly\"})});</script>"
      ]
     },
     "metadata": {},
     "output_type": "display_data"
    },
    {
     "data": {
      "text/html": [
       "<script>requirejs.config({paths: { 'plotly': ['https://cdn.plot.ly/plotly-latest.min']},});if(!window.Plotly) {{require(['plotly'],function(plotly) {window.Plotly=plotly;});}}</script>"
      ],
      "text/vnd.plotly.v1+html": [
       "<script>requirejs.config({paths: { 'plotly': ['https://cdn.plot.ly/plotly-latest.min']},});if(!window.Plotly) {{require(['plotly'],function(plotly) {window.Plotly=plotly;});}}</script>"
      ]
     },
     "metadata": {},
     "output_type": "display_data"
    },
    {
     "data": {
      "application/vnd.plotly.v1+json": {
       "data": [
        {
         "error_y": {
          "array": [
           0.07616604737317792,
           0.14438549468242168,
           0.14458000890355516,
           0.10787687796187027,
           0.07093739696586357,
           0.10126798438306985,
           0.16481247459750326
          ],
          "color": "rgb(0,170,80)",
          "type": "data",
          "visible": true
         },
         "line": {
          "color": "rgb(0,100,80)"
         },
         "mode": "lines+markers",
         "name": "Test Data",
         "type": "scatter",
         "x": [
          -1.7031249999999998,
          -0.7686956521739132,
          -0.3030434782608696,
          0.03931034482758616,
          0.30571428571428566,
          0.8077777777777778,
          1.543703703703704
         ],
         "y": [
          1.4046127560495743,
          1.5821645455308386,
          1.6670572126288032,
          1.6898470153256342,
          1.364798731411741,
          1.4487807321679107,
          1.5888184394258404
         ]
        },
        {
         "error_y": {
          "array": [
           0.003270944133404315,
           0.0056861816305923,
           0.008737662291099567,
           0.008591715171971149,
           0.011059367090802916,
           0.006180638662920065,
           0.002856119414725339
          ],
          "color": "rgb(0,100,246)",
          "type": "data",
          "visible": true
         },
         "line": {
          "color": "rgb(0,176,246)"
         },
         "mode": "lines+markers",
         "name": "Sim Data",
         "type": "scatter",
         "x": [
          -1.7031249999999998,
          -0.7686956521739132,
          -0.3030434782608696,
          0.03931034482758616,
          0.30571428571428566,
          0.8077777777777778,
          1.543703703703704
         ],
         "y": [
          1.422425374999997,
          1.9705825217391337,
          2.496396353668087,
          2.630344743022927,
          2.492641458184426,
          1.9257294999999968,
          1.4919712962962934
         ]
        },
        {
         "error_y": {
          "array": [
           0,
           0.043478260869565216,
           0.07180198468215396,
           0.09443492370778726,
           0.12529400275814703,
           0.0762215933966706,
           0
          ],
          "color": "rgb(0,170,80)",
          "type": "data",
          "visible": true
         },
         "line": {
          "color": "rgb(0,100,80)"
         },
         "mode": "lines+markers",
         "name": "Test Data",
         "type": "scatter",
         "x": [
          -1.7031249999999998,
          -0.7686956521739132,
          -0.3030434782608696,
          0.03931034482758616,
          0.30571428571428566,
          0.8077777777777778,
          1.543703703703704
         ],
         "xaxis": "x2",
         "y": [
          0,
          0.043478260869565216,
          0.13043478260869565,
          0.4827586206896552,
          0.7142857142857143,
          0.8888888888888888,
          1
         ],
         "yaxis": "y2"
        },
        {
         "error_y": {
          "array": [
           0.00047920063497705156,
           0.0014971183981544029,
           0.0028576230534492564,
           0.002933088019876518,
           0.003643983940135538,
           0.001547920378127194,
           0.0004785678944854018
          ],
          "color": "rgb(0,100,246)",
          "type": "data",
          "visible": true
         },
         "line": {
          "color": "rgb(0,176,246)"
         },
         "mode": "lines+markers",
         "name": "Sim Data",
         "type": "scatter",
         "x": [
          -1.7031249999999998,
          -0.7686956521739132,
          -0.3030434782608696,
          0.03931034482758616,
          0.30571428571428566,
          0.8077777777777778,
          1.543703703703704
         ],
         "xaxis": "x2",
         "y": [
          0.0036875,
          0.05452173913043478,
          0.25032634235488643,
          0.5305678364189003,
          0.7534667619728378,
          0.9548333333333333,
          0.9937777777777778
         ],
         "yaxis": "y2"
        }
       ],
       "layout": {
        "annotations": [
         {
          "showarrow": false,
          "text": "PARAMETERS: v: 0.15, a: 0.136, θ: 0.82",
          "x": 0.01,
          "xref": "paper",
          "y": 1.12,
          "yref": "paper"
         },
         {
          "showarrow": false,
          "text": "MLE: 586.67",
          "x": 0.01,
          "xref": "paper",
          "y": 1.08,
          "yref": "paper"
         },
         {
          "font": {
           "family": "Arial, sans-serif",
           "size": 22
          },
          "showarrow": false,
          "text": "SUBJECT: 10",
          "x": 0.01,
          "xref": "paper",
          "y": 1.2,
          "yref": "paper"
         }
        ],
        "paper_bgcolor": "rgb(255,255,255)",
        "plot_bgcolor": "rgb(229,229,229)",
        "xaxis": {
         "domain": [
          0,
          0.45
         ],
         "gridcolor": "rgb(255,255,255)",
         "range": [
          -2,
          2
         ],
         "showgrid": true,
         "showline": false,
         "showticklabels": true,
         "tickcolor": "rgb(127,127,127)",
         "ticks": "outside",
         "title": "Net Value ($)",
         "zeroline": false
        },
        "xaxis2": {
         "domain": [
          0.55,
          1
         ],
         "gridcolor": "rgb(255,255,255)",
         "range": [
          -2,
          2
         ],
         "showgrid": true,
         "showline": false,
         "showticklabels": true,
         "tickcolor": "rgb(127,127,127)",
         "ticks": "outside",
         "title": "Net Value ($)",
         "zeroline": false
        },
        "yaxis1": {
         "anchor": "x1",
         "gridcolor": "rgb(255,255,255)",
         "range": [
          0
         ],
         "showgrid": true,
         "showline": false,
         "showticklabels": true,
         "tickcolor": "rgb(127,127,127)",
         "ticks": "outside",
         "title": "RT (s)",
         "zeroline": false
        },
        "yaxis2": {
         "anchor": "x2",
         "gridcolor": "rgb(255,255,255)",
         "range": [
          0
         ],
         "showgrid": true,
         "showline": false,
         "showticklabels": true,
         "tickcolor": "rgb(127,127,127)",
         "ticks": "outside",
         "title": "p (accept)",
         "zeroline": false
        }
       }
      },
      "text/html": [
       "<div id=\"8c0cf8b0-d3f2-40c9-a068-4f4424998eff\" style=\"height: 525px; width: 100%;\" class=\"plotly-graph-div\"></div><script type=\"text/javascript\">require([\"plotly\"], function(Plotly) { window.PLOTLYENV=window.PLOTLYENV || {};window.PLOTLYENV.BASE_URL=\"https://plot.ly\";Plotly.newPlot(\"8c0cf8b0-d3f2-40c9-a068-4f4424998eff\", [{\"type\": \"scatter\", \"x\": [-1.7031249999999998, -0.7686956521739132, -0.3030434782608696, 0.03931034482758616, 0.30571428571428566, 0.8077777777777778, 1.543703703703704], \"y\": [1.4046127560495743, 1.5821645455308386, 1.6670572126288032, 1.6898470153256342, 1.364798731411741, 1.4487807321679107, 1.5888184394258404], \"error_y\": {\"type\": \"data\", \"array\": [0.07616604737317792, 0.14438549468242168, 0.14458000890355516, 0.10787687796187027, 0.07093739696586357, 0.10126798438306985, 0.16481247459750326], \"color\": \"rgb(0,170,80)\", \"visible\": true}, \"line\": {\"color\": \"rgb(0,100,80)\"}, \"mode\": \"lines+markers\", \"name\": \"Test Data\"}, {\"type\": \"scatter\", \"x\": [-1.7031249999999998, -0.7686956521739132, -0.3030434782608696, 0.03931034482758616, 0.30571428571428566, 0.8077777777777778, 1.543703703703704], \"y\": [1.422425374999997, 1.9705825217391337, 2.496396353668087, 2.630344743022927, 2.492641458184426, 1.9257294999999968, 1.4919712962962934], \"error_y\": {\"type\": \"data\", \"array\": [0.003270944133404315, 0.0056861816305923, 0.008737662291099567, 0.008591715171971149, 0.011059367090802916, 0.006180638662920065, 0.002856119414725339], \"color\": \"rgb(0,100,246)\", \"visible\": true}, \"line\": {\"color\": \"rgb(0,176,246)\"}, \"mode\": \"lines+markers\", \"name\": \"Sim Data\"}, {\"type\": \"scatter\", \"x\": [-1.7031249999999998, -0.7686956521739132, -0.3030434782608696, 0.03931034482758616, 0.30571428571428566, 0.8077777777777778, 1.543703703703704], \"y\": [0.0, 0.043478260869565216, 0.13043478260869565, 0.4827586206896552, 0.7142857142857143, 0.8888888888888888, 1.0], \"error_y\": {\"type\": \"data\", \"array\": [0.0, 0.043478260869565216, 0.07180198468215396, 0.09443492370778726, 0.12529400275814703, 0.0762215933966706, 0.0], \"color\": \"rgb(0,170,80)\", \"visible\": true}, \"line\": {\"color\": \"rgb(0,100,80)\"}, \"mode\": \"lines+markers\", \"name\": \"Test Data\", \"xaxis\": \"x2\", \"yaxis\": \"y2\"}, {\"type\": \"scatter\", \"x\": [-1.7031249999999998, -0.7686956521739132, -0.3030434782608696, 0.03931034482758616, 0.30571428571428566, 0.8077777777777778, 1.543703703703704], \"y\": [0.0036875, 0.05452173913043478, 0.25032634235488643, 0.5305678364189003, 0.7534667619728378, 0.9548333333333333, 0.9937777777777778], \"error_y\": {\"type\": \"data\", \"array\": [0.00047920063497705156, 0.0014971183981544029, 0.0028576230534492564, 0.002933088019876518, 0.003643983940135538, 0.001547920378127194, 0.0004785678944854018], \"color\": \"rgb(0,100,246)\", \"visible\": true}, \"line\": {\"color\": \"rgb(0,176,246)\"}, \"mode\": \"lines+markers\", \"name\": \"Sim Data\", \"xaxis\": \"x2\", \"yaxis\": \"y2\"}], {\"paper_bgcolor\": \"rgb(255,255,255)\", \"plot_bgcolor\": \"rgb(229,229,229)\", \"xaxis\": {\"gridcolor\": \"rgb(255,255,255)\", \"range\": [-2, 2], \"domain\": [0, 0.45], \"showgrid\": true, \"showline\": false, \"showticklabels\": true, \"tickcolor\": \"rgb(127,127,127)\", \"ticks\": \"outside\", \"title\": \"Net Value ($)\", \"zeroline\": false}, \"xaxis2\": {\"gridcolor\": \"rgb(255,255,255)\", \"range\": [-2, 2], \"domain\": [0.55, 1], \"showgrid\": true, \"showline\": false, \"showticklabels\": true, \"tickcolor\": \"rgb(127,127,127)\", \"ticks\": \"outside\", \"title\": \"Net Value ($)\", \"zeroline\": false}, \"yaxis1\": {\"gridcolor\": \"rgb(255,255,255)\", \"range\": [0], \"showgrid\": true, \"showline\": false, \"showticklabels\": true, \"tickcolor\": \"rgb(127,127,127)\", \"ticks\": \"outside\", \"title\": \"RT (s)\", \"anchor\": \"x1\", \"zeroline\": false}, \"yaxis2\": {\"gridcolor\": \"rgb(255,255,255)\", \"range\": [0], \"showgrid\": true, \"showline\": false, \"showticklabels\": true, \"tickcolor\": \"rgb(127,127,127)\", \"ticks\": \"outside\", \"title\": \"p (accept)\", \"anchor\": \"x2\", \"zeroline\": false}, \"annotations\": [{\"x\": 0.01, \"y\": 1.12, \"showarrow\": false, \"text\": \"PARAMETERS: v: 0.15, a: 0.136, \\u03b8: 0.82\", \"xref\": \"paper\", \"yref\": \"paper\"}, {\"x\": 0.01, \"y\": 1.08, \"showarrow\": false, \"text\": \"MLE: 586.67\", \"xref\": \"paper\", \"yref\": \"paper\"}, {\"x\": 0.01, \"y\": 1.2, \"showarrow\": false, \"text\": \"SUBJECT: 10\", \"font\": {\"family\": \"Arial, sans-serif\", \"size\": 22}, \"xref\": \"paper\", \"yref\": \"paper\"}]}, {\"showLink\": true, \"linkText\": \"Export to plot.ly\"})});</script>"
      ],
      "text/vnd.plotly.v1+html": [
       "<div id=\"8c0cf8b0-d3f2-40c9-a068-4f4424998eff\" style=\"height: 525px; width: 100%;\" class=\"plotly-graph-div\"></div><script type=\"text/javascript\">require([\"plotly\"], function(Plotly) { window.PLOTLYENV=window.PLOTLYENV || {};window.PLOTLYENV.BASE_URL=\"https://plot.ly\";Plotly.newPlot(\"8c0cf8b0-d3f2-40c9-a068-4f4424998eff\", [{\"type\": \"scatter\", \"x\": [-1.7031249999999998, -0.7686956521739132, -0.3030434782608696, 0.03931034482758616, 0.30571428571428566, 0.8077777777777778, 1.543703703703704], \"y\": [1.4046127560495743, 1.5821645455308386, 1.6670572126288032, 1.6898470153256342, 1.364798731411741, 1.4487807321679107, 1.5888184394258404], \"error_y\": {\"type\": \"data\", \"array\": [0.07616604737317792, 0.14438549468242168, 0.14458000890355516, 0.10787687796187027, 0.07093739696586357, 0.10126798438306985, 0.16481247459750326], \"color\": \"rgb(0,170,80)\", \"visible\": true}, \"line\": {\"color\": \"rgb(0,100,80)\"}, \"mode\": \"lines+markers\", \"name\": \"Test Data\"}, {\"type\": \"scatter\", \"x\": [-1.7031249999999998, -0.7686956521739132, -0.3030434782608696, 0.03931034482758616, 0.30571428571428566, 0.8077777777777778, 1.543703703703704], \"y\": [1.422425374999997, 1.9705825217391337, 2.496396353668087, 2.630344743022927, 2.492641458184426, 1.9257294999999968, 1.4919712962962934], \"error_y\": {\"type\": \"data\", \"array\": [0.003270944133404315, 0.0056861816305923, 0.008737662291099567, 0.008591715171971149, 0.011059367090802916, 0.006180638662920065, 0.002856119414725339], \"color\": \"rgb(0,100,246)\", \"visible\": true}, \"line\": {\"color\": \"rgb(0,176,246)\"}, \"mode\": \"lines+markers\", \"name\": \"Sim Data\"}, {\"type\": \"scatter\", \"x\": [-1.7031249999999998, -0.7686956521739132, -0.3030434782608696, 0.03931034482758616, 0.30571428571428566, 0.8077777777777778, 1.543703703703704], \"y\": [0.0, 0.043478260869565216, 0.13043478260869565, 0.4827586206896552, 0.7142857142857143, 0.8888888888888888, 1.0], \"error_y\": {\"type\": \"data\", \"array\": [0.0, 0.043478260869565216, 0.07180198468215396, 0.09443492370778726, 0.12529400275814703, 0.0762215933966706, 0.0], \"color\": \"rgb(0,170,80)\", \"visible\": true}, \"line\": {\"color\": \"rgb(0,100,80)\"}, \"mode\": \"lines+markers\", \"name\": \"Test Data\", \"xaxis\": \"x2\", \"yaxis\": \"y2\"}, {\"type\": \"scatter\", \"x\": [-1.7031249999999998, -0.7686956521739132, -0.3030434782608696, 0.03931034482758616, 0.30571428571428566, 0.8077777777777778, 1.543703703703704], \"y\": [0.0036875, 0.05452173913043478, 0.25032634235488643, 0.5305678364189003, 0.7534667619728378, 0.9548333333333333, 0.9937777777777778], \"error_y\": {\"type\": \"data\", \"array\": [0.00047920063497705156, 0.0014971183981544029, 0.0028576230534492564, 0.002933088019876518, 0.003643983940135538, 0.001547920378127194, 0.0004785678944854018], \"color\": \"rgb(0,100,246)\", \"visible\": true}, \"line\": {\"color\": \"rgb(0,176,246)\"}, \"mode\": \"lines+markers\", \"name\": \"Sim Data\", \"xaxis\": \"x2\", \"yaxis\": \"y2\"}], {\"paper_bgcolor\": \"rgb(255,255,255)\", \"plot_bgcolor\": \"rgb(229,229,229)\", \"xaxis\": {\"gridcolor\": \"rgb(255,255,255)\", \"range\": [-2, 2], \"domain\": [0, 0.45], \"showgrid\": true, \"showline\": false, \"showticklabels\": true, \"tickcolor\": \"rgb(127,127,127)\", \"ticks\": \"outside\", \"title\": \"Net Value ($)\", \"zeroline\": false}, \"xaxis2\": {\"gridcolor\": \"rgb(255,255,255)\", \"range\": [-2, 2], \"domain\": [0.55, 1], \"showgrid\": true, \"showline\": false, \"showticklabels\": true, \"tickcolor\": \"rgb(127,127,127)\", \"ticks\": \"outside\", \"title\": \"Net Value ($)\", \"zeroline\": false}, \"yaxis1\": {\"gridcolor\": \"rgb(255,255,255)\", \"range\": [0], \"showgrid\": true, \"showline\": false, \"showticklabels\": true, \"tickcolor\": \"rgb(127,127,127)\", \"ticks\": \"outside\", \"title\": \"RT (s)\", \"anchor\": \"x1\", \"zeroline\": false}, \"yaxis2\": {\"gridcolor\": \"rgb(255,255,255)\", \"range\": [0], \"showgrid\": true, \"showline\": false, \"showticklabels\": true, \"tickcolor\": \"rgb(127,127,127)\", \"ticks\": \"outside\", \"title\": \"p (accept)\", \"anchor\": \"x2\", \"zeroline\": false}, \"annotations\": [{\"x\": 0.01, \"y\": 1.12, \"showarrow\": false, \"text\": \"PARAMETERS: v: 0.15, a: 0.136, \\u03b8: 0.82\", \"xref\": \"paper\", \"yref\": \"paper\"}, {\"x\": 0.01, \"y\": 1.08, \"showarrow\": false, \"text\": \"MLE: 586.67\", \"xref\": \"paper\", \"yref\": \"paper\"}, {\"x\": 0.01, \"y\": 1.2, \"showarrow\": false, \"text\": \"SUBJECT: 10\", \"font\": {\"family\": \"Arial, sans-serif\", \"size\": 22}, \"xref\": \"paper\", \"yref\": \"paper\"}]}, {\"showLink\": true, \"linkText\": \"Export to plot.ly\"})});</script>"
      ]
     },
     "metadata": {},
     "output_type": "display_data"
    },
    {
     "data": {
      "text/html": [
       "<script>requirejs.config({paths: { 'plotly': ['https://cdn.plot.ly/plotly-latest.min']},});if(!window.Plotly) {{require(['plotly'],function(plotly) {window.Plotly=plotly;});}}</script>"
      ],
      "text/vnd.plotly.v1+html": [
       "<script>requirejs.config({paths: { 'plotly': ['https://cdn.plot.ly/plotly-latest.min']},});if(!window.Plotly) {{require(['plotly'],function(plotly) {window.Plotly=plotly;});}}</script>"
      ]
     },
     "metadata": {},
     "output_type": "display_data"
    },
    {
     "data": {
      "application/vnd.plotly.v1+json": {
       "data": [
        {
         "error_y": {
          "array": [
           0.16542461317500906,
           0.14250108799010788,
           0.26415835088107037,
           0.21216393868880468,
           0.19879899545356386,
           0.5476666366092845,
           0.3157779737433651
          ],
          "color": "rgb(0,170,80)",
          "type": "data",
          "visible": true
         },
         "line": {
          "color": "rgb(0,100,80)"
         },
         "mode": "lines+markers",
         "name": "Test Data",
         "type": "scatter",
         "x": [
          -1.597931034482759,
          -0.8205,
          -0.33473684210526317,
          0.024615384615384595,
          0.325,
          0.7692857142857144,
          1.6470588235294117
         ],
         "y": [
          1.7674789144306298,
          1.8286884014582026,
          2.3832794208245005,
          2.3723446789976705,
          1.9930844648079074,
          1.8234070319220872,
          1.733123961601556
         ]
        },
        {
         "error_y": {
          "array": [
           0.007030989976984835,
           0.009749750920502448,
           0.010542681845105288,
           0.009190744954690166,
           0.009427054583960462,
           0.011856354020958885,
           0.009297731712730519
          ],
          "color": "rgb(0,100,246)",
          "type": "data",
          "visible": true
         },
         "line": {
          "color": "rgb(0,176,246)"
         },
         "mode": "lines+markers",
         "name": "Sim Data",
         "type": "scatter",
         "x": [
          -1.597931034482759,
          -0.8205,
          -0.33473684210526317,
          0.024615384615384595,
          0.325,
          0.7692857142857144,
          1.6470588235294117
         ],
         "y": [
          2.336654753691187,
          2.55961003803042,
          2.658676211569902,
          2.6499879049343167,
          2.651215048827303,
          2.5943148677626904,
          2.3421766749087403
         ]
        },
        {
         "error_y": {
          "array": [
           0.034482758620689655,
           0.08191780219091253,
           0.085947008518708,
           0.10000000000000002,
           0.04166666666666667,
           0.07142857142857144,
           0
          ],
          "color": "rgb(0,170,80)",
          "type": "data",
          "visible": true
         },
         "line": {
          "color": "rgb(0,100,80)"
         },
         "mode": "lines+markers",
         "name": "Test Data",
         "type": "scatter",
         "x": [
          -1.597931034482759,
          -0.8205,
          -0.33473684210526317,
          0.024615384615384595,
          0.325,
          0.7692857142857144,
          1.6470588235294117
         ],
         "xaxis": "x2",
         "y": [
          0.034482758620689655,
          0.15,
          0.15789473684210525,
          0.5,
          0.9583333333333334,
          0.9285714285714286,
          1
         ],
         "yaxis": "y2"
        },
        {
         "error_y": {
          "array": [
           0.002173158491689831,
           0.003272722923953634,
           0.0035617203380686868,
           0.0031022564369430432,
           0.0031899687209271553,
           0.003985803891603802,
           0.002920302230637846
          ],
          "color": "rgb(0,100,246)",
          "type": "data",
          "visible": true
         },
         "line": {
          "color": "rgb(0,176,246)"
         },
         "mode": "lines+markers",
         "name": "Sim Data",
         "type": "scatter",
         "x": [
          -1.597931034482759,
          -0.8205,
          -0.33473684210526317,
          0.024615384615384595,
          0.325,
          0.7692857142857144,
          1.6470588235294117
         ],
         "xaxis": "x2",
         "y": [
          0.16368842279563958,
          0.3103482786228983,
          0.4027843695617782,
          0.5126921150957205,
          0.5785827560303815,
          0.6666190135811294,
          0.8242670434475451
         ],
         "yaxis": "y2"
        }
       ],
       "layout": {
        "annotations": [
         {
          "showarrow": false,
          "text": "PARAMETERS: v: 0.046, a: 0.136, θ: 0.64",
          "x": 0.01,
          "xref": "paper",
          "y": 1.12,
          "yref": "paper"
         },
         {
          "showarrow": false,
          "text": "MLE: 674.83",
          "x": 0.01,
          "xref": "paper",
          "y": 1.08,
          "yref": "paper"
         },
         {
          "font": {
           "family": "Arial, sans-serif",
           "size": 22
          },
          "showarrow": false,
          "text": "SUBJECT: 11",
          "x": 0.01,
          "xref": "paper",
          "y": 1.2,
          "yref": "paper"
         }
        ],
        "paper_bgcolor": "rgb(255,255,255)",
        "plot_bgcolor": "rgb(229,229,229)",
        "xaxis": {
         "domain": [
          0,
          0.45
         ],
         "gridcolor": "rgb(255,255,255)",
         "range": [
          -2,
          2
         ],
         "showgrid": true,
         "showline": false,
         "showticklabels": true,
         "tickcolor": "rgb(127,127,127)",
         "ticks": "outside",
         "title": "Net Value ($)",
         "zeroline": false
        },
        "xaxis2": {
         "domain": [
          0.55,
          1
         ],
         "gridcolor": "rgb(255,255,255)",
         "range": [
          -2,
          2
         ],
         "showgrid": true,
         "showline": false,
         "showticklabels": true,
         "tickcolor": "rgb(127,127,127)",
         "ticks": "outside",
         "title": "Net Value ($)",
         "zeroline": false
        },
        "yaxis1": {
         "anchor": "x1",
         "gridcolor": "rgb(255,255,255)",
         "range": [
          0
         ],
         "showgrid": true,
         "showline": false,
         "showticklabels": true,
         "tickcolor": "rgb(127,127,127)",
         "ticks": "outside",
         "title": "RT (s)",
         "zeroline": false
        },
        "yaxis2": {
         "anchor": "x2",
         "gridcolor": "rgb(255,255,255)",
         "range": [
          0
         ],
         "showgrid": true,
         "showline": false,
         "showticklabels": true,
         "tickcolor": "rgb(127,127,127)",
         "ticks": "outside",
         "title": "p (accept)",
         "zeroline": false
        }
       }
      },
      "text/html": [
       "<div id=\"ea1e5fb7-5e70-4c80-8418-76340ed6f7f6\" style=\"height: 525px; width: 100%;\" class=\"plotly-graph-div\"></div><script type=\"text/javascript\">require([\"plotly\"], function(Plotly) { window.PLOTLYENV=window.PLOTLYENV || {};window.PLOTLYENV.BASE_URL=\"https://plot.ly\";Plotly.newPlot(\"ea1e5fb7-5e70-4c80-8418-76340ed6f7f6\", [{\"type\": \"scatter\", \"x\": [-1.597931034482759, -0.8205, -0.33473684210526317, 0.024615384615384595, 0.325, 0.7692857142857144, 1.6470588235294117], \"y\": [1.7674789144306298, 1.8286884014582026, 2.3832794208245005, 2.3723446789976705, 1.9930844648079074, 1.8234070319220872, 1.733123961601556], \"error_y\": {\"type\": \"data\", \"array\": [0.16542461317500906, 0.14250108799010788, 0.26415835088107037, 0.21216393868880468, 0.19879899545356386, 0.5476666366092845, 0.3157779737433651], \"color\": \"rgb(0,170,80)\", \"visible\": true}, \"line\": {\"color\": \"rgb(0,100,80)\"}, \"mode\": \"lines+markers\", \"name\": \"Test Data\"}, {\"type\": \"scatter\", \"x\": [-1.597931034482759, -0.8205, -0.33473684210526317, 0.024615384615384595, 0.325, 0.7692857142857144, 1.6470588235294117], \"y\": [2.336654753691187, 2.55961003803042, 2.658676211569902, 2.6499879049343167, 2.651215048827303, 2.5943148677626904, 2.3421766749087403], \"error_y\": {\"type\": \"data\", \"array\": [0.007030989976984835, 0.009749750920502448, 0.010542681845105288, 0.009190744954690166, 0.009427054583960462, 0.011856354020958885, 0.009297731712730519], \"color\": \"rgb(0,100,246)\", \"visible\": true}, \"line\": {\"color\": \"rgb(0,176,246)\"}, \"mode\": \"lines+markers\", \"name\": \"Sim Data\"}, {\"type\": \"scatter\", \"x\": [-1.597931034482759, -0.8205, -0.33473684210526317, 0.024615384615384595, 0.325, 0.7692857142857144, 1.6470588235294117], \"y\": [0.034482758620689655, 0.15, 0.15789473684210525, 0.5, 0.9583333333333334, 0.9285714285714286, 1.0], \"error_y\": {\"type\": \"data\", \"array\": [0.034482758620689655, 0.08191780219091253, 0.085947008518708, 0.10000000000000002, 0.04166666666666667, 0.07142857142857144, 0.0], \"color\": \"rgb(0,170,80)\", \"visible\": true}, \"line\": {\"color\": \"rgb(0,100,80)\"}, \"mode\": \"lines+markers\", \"name\": \"Test Data\", \"xaxis\": \"x2\", \"yaxis\": \"y2\"}, {\"type\": \"scatter\", \"x\": [-1.597931034482759, -0.8205, -0.33473684210526317, 0.024615384615384595, 0.325, 0.7692857142857144, 1.6470588235294117], \"y\": [0.16368842279563958, 0.3103482786228983, 0.4027843695617782, 0.5126921150957205, 0.5785827560303815, 0.6666190135811294, 0.8242670434475451], \"error_y\": {\"type\": \"data\", \"array\": [0.002173158491689831, 0.003272722923953634, 0.0035617203380686868, 0.0031022564369430432, 0.0031899687209271553, 0.003985803891603802, 0.002920302230637846], \"color\": \"rgb(0,100,246)\", \"visible\": true}, \"line\": {\"color\": \"rgb(0,176,246)\"}, \"mode\": \"lines+markers\", \"name\": \"Sim Data\", \"xaxis\": \"x2\", \"yaxis\": \"y2\"}], {\"paper_bgcolor\": \"rgb(255,255,255)\", \"plot_bgcolor\": \"rgb(229,229,229)\", \"xaxis\": {\"gridcolor\": \"rgb(255,255,255)\", \"range\": [-2, 2], \"domain\": [0, 0.45], \"showgrid\": true, \"showline\": false, \"showticklabels\": true, \"tickcolor\": \"rgb(127,127,127)\", \"ticks\": \"outside\", \"title\": \"Net Value ($)\", \"zeroline\": false}, \"xaxis2\": {\"gridcolor\": \"rgb(255,255,255)\", \"range\": [-2, 2], \"domain\": [0.55, 1], \"showgrid\": true, \"showline\": false, \"showticklabels\": true, \"tickcolor\": \"rgb(127,127,127)\", \"ticks\": \"outside\", \"title\": \"Net Value ($)\", \"zeroline\": false}, \"yaxis1\": {\"gridcolor\": \"rgb(255,255,255)\", \"range\": [0], \"showgrid\": true, \"showline\": false, \"showticklabels\": true, \"tickcolor\": \"rgb(127,127,127)\", \"ticks\": \"outside\", \"title\": \"RT (s)\", \"anchor\": \"x1\", \"zeroline\": false}, \"yaxis2\": {\"gridcolor\": \"rgb(255,255,255)\", \"range\": [0], \"showgrid\": true, \"showline\": false, \"showticklabels\": true, \"tickcolor\": \"rgb(127,127,127)\", \"ticks\": \"outside\", \"title\": \"p (accept)\", \"anchor\": \"x2\", \"zeroline\": false}, \"annotations\": [{\"x\": 0.01, \"y\": 1.12, \"showarrow\": false, \"text\": \"PARAMETERS: v: 0.046, a: 0.136, \\u03b8: 0.64\", \"xref\": \"paper\", \"yref\": \"paper\"}, {\"x\": 0.01, \"y\": 1.08, \"showarrow\": false, \"text\": \"MLE: 674.83\", \"xref\": \"paper\", \"yref\": \"paper\"}, {\"x\": 0.01, \"y\": 1.2, \"showarrow\": false, \"text\": \"SUBJECT: 11\", \"font\": {\"family\": \"Arial, sans-serif\", \"size\": 22}, \"xref\": \"paper\", \"yref\": \"paper\"}]}, {\"showLink\": true, \"linkText\": \"Export to plot.ly\"})});</script>"
      ],
      "text/vnd.plotly.v1+html": [
       "<div id=\"ea1e5fb7-5e70-4c80-8418-76340ed6f7f6\" style=\"height: 525px; width: 100%;\" class=\"plotly-graph-div\"></div><script type=\"text/javascript\">require([\"plotly\"], function(Plotly) { window.PLOTLYENV=window.PLOTLYENV || {};window.PLOTLYENV.BASE_URL=\"https://plot.ly\";Plotly.newPlot(\"ea1e5fb7-5e70-4c80-8418-76340ed6f7f6\", [{\"type\": \"scatter\", \"x\": [-1.597931034482759, -0.8205, -0.33473684210526317, 0.024615384615384595, 0.325, 0.7692857142857144, 1.6470588235294117], \"y\": [1.7674789144306298, 1.8286884014582026, 2.3832794208245005, 2.3723446789976705, 1.9930844648079074, 1.8234070319220872, 1.733123961601556], \"error_y\": {\"type\": \"data\", \"array\": [0.16542461317500906, 0.14250108799010788, 0.26415835088107037, 0.21216393868880468, 0.19879899545356386, 0.5476666366092845, 0.3157779737433651], \"color\": \"rgb(0,170,80)\", \"visible\": true}, \"line\": {\"color\": \"rgb(0,100,80)\"}, \"mode\": \"lines+markers\", \"name\": \"Test Data\"}, {\"type\": \"scatter\", \"x\": [-1.597931034482759, -0.8205, -0.33473684210526317, 0.024615384615384595, 0.325, 0.7692857142857144, 1.6470588235294117], \"y\": [2.336654753691187, 2.55961003803042, 2.658676211569902, 2.6499879049343167, 2.651215048827303, 2.5943148677626904, 2.3421766749087403], \"error_y\": {\"type\": \"data\", \"array\": [0.007030989976984835, 0.009749750920502448, 0.010542681845105288, 0.009190744954690166, 0.009427054583960462, 0.011856354020958885, 0.009297731712730519], \"color\": \"rgb(0,100,246)\", \"visible\": true}, \"line\": {\"color\": \"rgb(0,176,246)\"}, \"mode\": \"lines+markers\", \"name\": \"Sim Data\"}, {\"type\": \"scatter\", \"x\": [-1.597931034482759, -0.8205, -0.33473684210526317, 0.024615384615384595, 0.325, 0.7692857142857144, 1.6470588235294117], \"y\": [0.034482758620689655, 0.15, 0.15789473684210525, 0.5, 0.9583333333333334, 0.9285714285714286, 1.0], \"error_y\": {\"type\": \"data\", \"array\": [0.034482758620689655, 0.08191780219091253, 0.085947008518708, 0.10000000000000002, 0.04166666666666667, 0.07142857142857144, 0.0], \"color\": \"rgb(0,170,80)\", \"visible\": true}, \"line\": {\"color\": \"rgb(0,100,80)\"}, \"mode\": \"lines+markers\", \"name\": \"Test Data\", \"xaxis\": \"x2\", \"yaxis\": \"y2\"}, {\"type\": \"scatter\", \"x\": [-1.597931034482759, -0.8205, -0.33473684210526317, 0.024615384615384595, 0.325, 0.7692857142857144, 1.6470588235294117], \"y\": [0.16368842279563958, 0.3103482786228983, 0.4027843695617782, 0.5126921150957205, 0.5785827560303815, 0.6666190135811294, 0.8242670434475451], \"error_y\": {\"type\": \"data\", \"array\": [0.002173158491689831, 0.003272722923953634, 0.0035617203380686868, 0.0031022564369430432, 0.0031899687209271553, 0.003985803891603802, 0.002920302230637846], \"color\": \"rgb(0,100,246)\", \"visible\": true}, \"line\": {\"color\": \"rgb(0,176,246)\"}, \"mode\": \"lines+markers\", \"name\": \"Sim Data\", \"xaxis\": \"x2\", \"yaxis\": \"y2\"}], {\"paper_bgcolor\": \"rgb(255,255,255)\", \"plot_bgcolor\": \"rgb(229,229,229)\", \"xaxis\": {\"gridcolor\": \"rgb(255,255,255)\", \"range\": [-2, 2], \"domain\": [0, 0.45], \"showgrid\": true, \"showline\": false, \"showticklabels\": true, \"tickcolor\": \"rgb(127,127,127)\", \"ticks\": \"outside\", \"title\": \"Net Value ($)\", \"zeroline\": false}, \"xaxis2\": {\"gridcolor\": \"rgb(255,255,255)\", \"range\": [-2, 2], \"domain\": [0.55, 1], \"showgrid\": true, \"showline\": false, \"showticklabels\": true, \"tickcolor\": \"rgb(127,127,127)\", \"ticks\": \"outside\", \"title\": \"Net Value ($)\", \"zeroline\": false}, \"yaxis1\": {\"gridcolor\": \"rgb(255,255,255)\", \"range\": [0], \"showgrid\": true, \"showline\": false, \"showticklabels\": true, \"tickcolor\": \"rgb(127,127,127)\", \"ticks\": \"outside\", \"title\": \"RT (s)\", \"anchor\": \"x1\", \"zeroline\": false}, \"yaxis2\": {\"gridcolor\": \"rgb(255,255,255)\", \"range\": [0], \"showgrid\": true, \"showline\": false, \"showticklabels\": true, \"tickcolor\": \"rgb(127,127,127)\", \"ticks\": \"outside\", \"title\": \"p (accept)\", \"anchor\": \"x2\", \"zeroline\": false}, \"annotations\": [{\"x\": 0.01, \"y\": 1.12, \"showarrow\": false, \"text\": \"PARAMETERS: v: 0.046, a: 0.136, \\u03b8: 0.64\", \"xref\": \"paper\", \"yref\": \"paper\"}, {\"x\": 0.01, \"y\": 1.08, \"showarrow\": false, \"text\": \"MLE: 674.83\", \"xref\": \"paper\", \"yref\": \"paper\"}, {\"x\": 0.01, \"y\": 1.2, \"showarrow\": false, \"text\": \"SUBJECT: 11\", \"font\": {\"family\": \"Arial, sans-serif\", \"size\": 22}, \"xref\": \"paper\", \"yref\": \"paper\"}]}, {\"showLink\": true, \"linkText\": \"Export to plot.ly\"})});</script>"
      ]
     },
     "metadata": {},
     "output_type": "display_data"
    },
    {
     "data": {
      "text/html": [
       "<script>requirejs.config({paths: { 'plotly': ['https://cdn.plot.ly/plotly-latest.min']},});if(!window.Plotly) {{require(['plotly'],function(plotly) {window.Plotly=plotly;});}}</script>"
      ],
      "text/vnd.plotly.v1+html": [
       "<script>requirejs.config({paths: { 'plotly': ['https://cdn.plot.ly/plotly-latest.min']},});if(!window.Plotly) {{require(['plotly'],function(plotly) {window.Plotly=plotly;});}}</script>"
      ]
     },
     "metadata": {},
     "output_type": "display_data"
    },
    {
     "data": {
      "application/vnd.plotly.v1+json": {
       "data": [
        {
         "error_y": {
          "array": [
           0.10609880159574052,
           0.1488715426815066,
           0.25316036154916904,
           0.22382898810538016,
           0.1427101860349365,
           0.11909295856362125,
           0.15002263903662438
          ],
          "color": "rgb(0,170,80)",
          "type": "data",
          "visible": true
         },
         "line": {
          "color": "rgb(0,100,80)"
         },
         "mode": "lines+markers",
         "name": "Test Data",
         "type": "scatter",
         "x": [
          -1.9057142857142857,
          -0.7792857142857142,
          -0.32714285714285724,
          0.03241379310344826,
          0.3111111111111111,
          0.8163157894736842,
          1.6485714285714284
         ],
         "y": [
          1.4269307483648717,
          1.3549157306697457,
          2.125731202156333,
          2.0357956772866848,
          1.6631095707739905,
          1.3957581082833805,
          1.5227779725454245
         ]
        },
        {
         "error_y": {
          "array": [
           0.0037801013047748674,
           0.005993331431627694,
           0.00437549084785012,
           0.00424690297107884,
           0.0053540419097053114,
           0.00507850661060604,
           0.005470144731760716
          ],
          "color": "rgb(0,100,246)",
          "type": "data",
          "visible": true
         },
         "line": {
          "color": "rgb(0,176,246)"
         },
         "mode": "lines+markers",
         "name": "Sim Data",
         "type": "scatter",
         "x": [
          -1.9057142857142857,
          -0.7792857142857142,
          -0.32714285714285724,
          0.03241379310344826,
          0.3111111111111111,
          0.8163157894736842,
          1.6485714285714284
         ],
         "y": [
          1.58761575,
          1.6690422857142944,
          1.6952452857142952,
          1.6902246896551738,
          1.691374833333338,
          1.6743433684210494,
          1.6045567142857164
         ]
        },
        {
         "error_y": {
          "array": [
           0.04956347617776506,
           0.09705231721239392,
           0.08987898137227082,
           0.08742975048915688,
           0.05555555555555555,
           0.05263157894736841,
           0
          ],
          "color": "rgb(0,170,80)",
          "type": "data",
          "visible": true
         },
         "line": {
          "color": "rgb(0,100,80)"
         },
         "mode": "lines+markers",
         "name": "Test Data",
         "type": "scatter",
         "x": [
          -1.9057142857142857,
          -0.7792857142857142,
          -0.32714285714285724,
          0.03241379310344826,
          0.3111111111111111,
          0.8163157894736842,
          1.6485714285714284
         ],
         "xaxis": "x2",
         "y": [
          0.07142857142857142,
          0.14285714285714285,
          0.32142857142857145,
          0.6896551724137931,
          0.9444444444444444,
          0.9473684210526315,
          1
         ],
         "yaxis": "y2"
        },
        {
         "error_y": {
          "array": [
           0.0024321978178969603,
           0.004043954081491999,
           0.002969155443797159,
           0.002935869606773691,
           0.0037025870021326333,
           0.0034900624792799473,
           0.0036063268472994346
          ],
          "color": "rgb(0,100,246)",
          "type": "data",
          "visible": true
         },
         "line": {
          "color": "rgb(0,176,246)"
         },
         "mode": "lines+markers",
         "name": "Sim Data",
         "type": "scatter",
         "x": [
          -1.9057142857142857,
          -0.7792857142857142,
          -0.32714285714285724,
          0.03241379310344826,
          0.3111111111111111,
          0.8163157894736842,
          1.6485714285714284
         ],
         "xaxis": "x2",
         "y": [
          0.2095357142857143,
          0.35485714285714287,
          0.44375,
          0.4930689655172414,
          0.557,
          0.6363157894736842,
          0.7606428571428572
         ],
         "yaxis": "y2"
        }
       ],
       "layout": {
        "annotations": [
         {
          "showarrow": false,
          "text": "PARAMETERS: v: 0.046, a: 0.093, θ: 0.64",
          "x": 0.01,
          "xref": "paper",
          "y": 1.12,
          "yref": "paper"
         },
         {
          "showarrow": false,
          "text": "MLE: 550.85",
          "x": 0.01,
          "xref": "paper",
          "y": 1.08,
          "yref": "paper"
         },
         {
          "font": {
           "family": "Arial, sans-serif",
           "size": 22
          },
          "showarrow": false,
          "text": "SUBJECT: 12",
          "x": 0.01,
          "xref": "paper",
          "y": 1.2,
          "yref": "paper"
         }
        ],
        "paper_bgcolor": "rgb(255,255,255)",
        "plot_bgcolor": "rgb(229,229,229)",
        "xaxis": {
         "domain": [
          0,
          0.45
         ],
         "gridcolor": "rgb(255,255,255)",
         "range": [
          -2,
          2
         ],
         "showgrid": true,
         "showline": false,
         "showticklabels": true,
         "tickcolor": "rgb(127,127,127)",
         "ticks": "outside",
         "title": "Net Value ($)",
         "zeroline": false
        },
        "xaxis2": {
         "domain": [
          0.55,
          1
         ],
         "gridcolor": "rgb(255,255,255)",
         "range": [
          -2,
          2
         ],
         "showgrid": true,
         "showline": false,
         "showticklabels": true,
         "tickcolor": "rgb(127,127,127)",
         "ticks": "outside",
         "title": "Net Value ($)",
         "zeroline": false
        },
        "yaxis1": {
         "anchor": "x1",
         "gridcolor": "rgb(255,255,255)",
         "range": [
          0
         ],
         "showgrid": true,
         "showline": false,
         "showticklabels": true,
         "tickcolor": "rgb(127,127,127)",
         "ticks": "outside",
         "title": "RT (s)",
         "zeroline": false
        },
        "yaxis2": {
         "anchor": "x2",
         "gridcolor": "rgb(255,255,255)",
         "range": [
          0
         ],
         "showgrid": true,
         "showline": false,
         "showticklabels": true,
         "tickcolor": "rgb(127,127,127)",
         "ticks": "outside",
         "title": "p (accept)",
         "zeroline": false
        }
       }
      },
      "text/html": [
       "<div id=\"2260a77a-c8f7-4c52-abca-0e5ef14b760c\" style=\"height: 525px; width: 100%;\" class=\"plotly-graph-div\"></div><script type=\"text/javascript\">require([\"plotly\"], function(Plotly) { window.PLOTLYENV=window.PLOTLYENV || {};window.PLOTLYENV.BASE_URL=\"https://plot.ly\";Plotly.newPlot(\"2260a77a-c8f7-4c52-abca-0e5ef14b760c\", [{\"type\": \"scatter\", \"x\": [-1.9057142857142857, -0.7792857142857142, -0.32714285714285724, 0.03241379310344826, 0.3111111111111111, 0.8163157894736842, 1.6485714285714284], \"y\": [1.4269307483648717, 1.3549157306697457, 2.125731202156333, 2.0357956772866848, 1.6631095707739905, 1.3957581082833805, 1.5227779725454245], \"error_y\": {\"type\": \"data\", \"array\": [0.10609880159574052, 0.1488715426815066, 0.25316036154916904, 0.22382898810538016, 0.1427101860349365, 0.11909295856362125, 0.15002263903662438], \"color\": \"rgb(0,170,80)\", \"visible\": true}, \"line\": {\"color\": \"rgb(0,100,80)\"}, \"mode\": \"lines+markers\", \"name\": \"Test Data\"}, {\"type\": \"scatter\", \"x\": [-1.9057142857142857, -0.7792857142857142, -0.32714285714285724, 0.03241379310344826, 0.3111111111111111, 0.8163157894736842, 1.6485714285714284], \"y\": [1.58761575, 1.6690422857142944, 1.6952452857142952, 1.6902246896551738, 1.691374833333338, 1.6743433684210494, 1.6045567142857164], \"error_y\": {\"type\": \"data\", \"array\": [0.0037801013047748674, 0.005993331431627694, 0.00437549084785012, 0.00424690297107884, 0.0053540419097053114, 0.00507850661060604, 0.005470144731760716], \"color\": \"rgb(0,100,246)\", \"visible\": true}, \"line\": {\"color\": \"rgb(0,176,246)\"}, \"mode\": \"lines+markers\", \"name\": \"Sim Data\"}, {\"type\": \"scatter\", \"x\": [-1.9057142857142857, -0.7792857142857142, -0.32714285714285724, 0.03241379310344826, 0.3111111111111111, 0.8163157894736842, 1.6485714285714284], \"y\": [0.07142857142857142, 0.14285714285714285, 0.32142857142857145, 0.6896551724137931, 0.9444444444444444, 0.9473684210526315, 1.0], \"error_y\": {\"type\": \"data\", \"array\": [0.04956347617776506, 0.09705231721239392, 0.08987898137227082, 0.08742975048915688, 0.05555555555555555, 0.05263157894736841, 0.0], \"color\": \"rgb(0,170,80)\", \"visible\": true}, \"line\": {\"color\": \"rgb(0,100,80)\"}, \"mode\": \"lines+markers\", \"name\": \"Test Data\", \"xaxis\": \"x2\", \"yaxis\": \"y2\"}, {\"type\": \"scatter\", \"x\": [-1.9057142857142857, -0.7792857142857142, -0.32714285714285724, 0.03241379310344826, 0.3111111111111111, 0.8163157894736842, 1.6485714285714284], \"y\": [0.2095357142857143, 0.35485714285714287, 0.44375, 0.4930689655172414, 0.557, 0.6363157894736842, 0.7606428571428572], \"error_y\": {\"type\": \"data\", \"array\": [0.0024321978178969603, 0.004043954081491999, 0.002969155443797159, 0.002935869606773691, 0.0037025870021326333, 0.0034900624792799473, 0.0036063268472994346], \"color\": \"rgb(0,100,246)\", \"visible\": true}, \"line\": {\"color\": \"rgb(0,176,246)\"}, \"mode\": \"lines+markers\", \"name\": \"Sim Data\", \"xaxis\": \"x2\", \"yaxis\": \"y2\"}], {\"paper_bgcolor\": \"rgb(255,255,255)\", \"plot_bgcolor\": \"rgb(229,229,229)\", \"xaxis\": {\"gridcolor\": \"rgb(255,255,255)\", \"range\": [-2, 2], \"domain\": [0, 0.45], \"showgrid\": true, \"showline\": false, \"showticklabels\": true, \"tickcolor\": \"rgb(127,127,127)\", \"ticks\": \"outside\", \"title\": \"Net Value ($)\", \"zeroline\": false}, \"xaxis2\": {\"gridcolor\": \"rgb(255,255,255)\", \"range\": [-2, 2], \"domain\": [0.55, 1], \"showgrid\": true, \"showline\": false, \"showticklabels\": true, \"tickcolor\": \"rgb(127,127,127)\", \"ticks\": \"outside\", \"title\": \"Net Value ($)\", \"zeroline\": false}, \"yaxis1\": {\"gridcolor\": \"rgb(255,255,255)\", \"range\": [0], \"showgrid\": true, \"showline\": false, \"showticklabels\": true, \"tickcolor\": \"rgb(127,127,127)\", \"ticks\": \"outside\", \"title\": \"RT (s)\", \"anchor\": \"x1\", \"zeroline\": false}, \"yaxis2\": {\"gridcolor\": \"rgb(255,255,255)\", \"range\": [0], \"showgrid\": true, \"showline\": false, \"showticklabels\": true, \"tickcolor\": \"rgb(127,127,127)\", \"ticks\": \"outside\", \"title\": \"p (accept)\", \"anchor\": \"x2\", \"zeroline\": false}, \"annotations\": [{\"x\": 0.01, \"y\": 1.12, \"showarrow\": false, \"text\": \"PARAMETERS: v: 0.046, a: 0.093, \\u03b8: 0.64\", \"xref\": \"paper\", \"yref\": \"paper\"}, {\"x\": 0.01, \"y\": 1.08, \"showarrow\": false, \"text\": \"MLE: 550.85\", \"xref\": \"paper\", \"yref\": \"paper\"}, {\"x\": 0.01, \"y\": 1.2, \"showarrow\": false, \"text\": \"SUBJECT: 12\", \"font\": {\"family\": \"Arial, sans-serif\", \"size\": 22}, \"xref\": \"paper\", \"yref\": \"paper\"}]}, {\"showLink\": true, \"linkText\": \"Export to plot.ly\"})});</script>"
      ],
      "text/vnd.plotly.v1+html": [
       "<div id=\"2260a77a-c8f7-4c52-abca-0e5ef14b760c\" style=\"height: 525px; width: 100%;\" class=\"plotly-graph-div\"></div><script type=\"text/javascript\">require([\"plotly\"], function(Plotly) { window.PLOTLYENV=window.PLOTLYENV || {};window.PLOTLYENV.BASE_URL=\"https://plot.ly\";Plotly.newPlot(\"2260a77a-c8f7-4c52-abca-0e5ef14b760c\", [{\"type\": \"scatter\", \"x\": [-1.9057142857142857, -0.7792857142857142, -0.32714285714285724, 0.03241379310344826, 0.3111111111111111, 0.8163157894736842, 1.6485714285714284], \"y\": [1.4269307483648717, 1.3549157306697457, 2.125731202156333, 2.0357956772866848, 1.6631095707739905, 1.3957581082833805, 1.5227779725454245], \"error_y\": {\"type\": \"data\", \"array\": [0.10609880159574052, 0.1488715426815066, 0.25316036154916904, 0.22382898810538016, 0.1427101860349365, 0.11909295856362125, 0.15002263903662438], \"color\": \"rgb(0,170,80)\", \"visible\": true}, \"line\": {\"color\": \"rgb(0,100,80)\"}, \"mode\": \"lines+markers\", \"name\": \"Test Data\"}, {\"type\": \"scatter\", \"x\": [-1.9057142857142857, -0.7792857142857142, -0.32714285714285724, 0.03241379310344826, 0.3111111111111111, 0.8163157894736842, 1.6485714285714284], \"y\": [1.58761575, 1.6690422857142944, 1.6952452857142952, 1.6902246896551738, 1.691374833333338, 1.6743433684210494, 1.6045567142857164], \"error_y\": {\"type\": \"data\", \"array\": [0.0037801013047748674, 0.005993331431627694, 0.00437549084785012, 0.00424690297107884, 0.0053540419097053114, 0.00507850661060604, 0.005470144731760716], \"color\": \"rgb(0,100,246)\", \"visible\": true}, \"line\": {\"color\": \"rgb(0,176,246)\"}, \"mode\": \"lines+markers\", \"name\": \"Sim Data\"}, {\"type\": \"scatter\", \"x\": [-1.9057142857142857, -0.7792857142857142, -0.32714285714285724, 0.03241379310344826, 0.3111111111111111, 0.8163157894736842, 1.6485714285714284], \"y\": [0.07142857142857142, 0.14285714285714285, 0.32142857142857145, 0.6896551724137931, 0.9444444444444444, 0.9473684210526315, 1.0], \"error_y\": {\"type\": \"data\", \"array\": [0.04956347617776506, 0.09705231721239392, 0.08987898137227082, 0.08742975048915688, 0.05555555555555555, 0.05263157894736841, 0.0], \"color\": \"rgb(0,170,80)\", \"visible\": true}, \"line\": {\"color\": \"rgb(0,100,80)\"}, \"mode\": \"lines+markers\", \"name\": \"Test Data\", \"xaxis\": \"x2\", \"yaxis\": \"y2\"}, {\"type\": \"scatter\", \"x\": [-1.9057142857142857, -0.7792857142857142, -0.32714285714285724, 0.03241379310344826, 0.3111111111111111, 0.8163157894736842, 1.6485714285714284], \"y\": [0.2095357142857143, 0.35485714285714287, 0.44375, 0.4930689655172414, 0.557, 0.6363157894736842, 0.7606428571428572], \"error_y\": {\"type\": \"data\", \"array\": [0.0024321978178969603, 0.004043954081491999, 0.002969155443797159, 0.002935869606773691, 0.0037025870021326333, 0.0034900624792799473, 0.0036063268472994346], \"color\": \"rgb(0,100,246)\", \"visible\": true}, \"line\": {\"color\": \"rgb(0,176,246)\"}, \"mode\": \"lines+markers\", \"name\": \"Sim Data\", \"xaxis\": \"x2\", \"yaxis\": \"y2\"}], {\"paper_bgcolor\": \"rgb(255,255,255)\", \"plot_bgcolor\": \"rgb(229,229,229)\", \"xaxis\": {\"gridcolor\": \"rgb(255,255,255)\", \"range\": [-2, 2], \"domain\": [0, 0.45], \"showgrid\": true, \"showline\": false, \"showticklabels\": true, \"tickcolor\": \"rgb(127,127,127)\", \"ticks\": \"outside\", \"title\": \"Net Value ($)\", \"zeroline\": false}, \"xaxis2\": {\"gridcolor\": \"rgb(255,255,255)\", \"range\": [-2, 2], \"domain\": [0.55, 1], \"showgrid\": true, \"showline\": false, \"showticklabels\": true, \"tickcolor\": \"rgb(127,127,127)\", \"ticks\": \"outside\", \"title\": \"Net Value ($)\", \"zeroline\": false}, \"yaxis1\": {\"gridcolor\": \"rgb(255,255,255)\", \"range\": [0], \"showgrid\": true, \"showline\": false, \"showticklabels\": true, \"tickcolor\": \"rgb(127,127,127)\", \"ticks\": \"outside\", \"title\": \"RT (s)\", \"anchor\": \"x1\", \"zeroline\": false}, \"yaxis2\": {\"gridcolor\": \"rgb(255,255,255)\", \"range\": [0], \"showgrid\": true, \"showline\": false, \"showticklabels\": true, \"tickcolor\": \"rgb(127,127,127)\", \"ticks\": \"outside\", \"title\": \"p (accept)\", \"anchor\": \"x2\", \"zeroline\": false}, \"annotations\": [{\"x\": 0.01, \"y\": 1.12, \"showarrow\": false, \"text\": \"PARAMETERS: v: 0.046, a: 0.093, \\u03b8: 0.64\", \"xref\": \"paper\", \"yref\": \"paper\"}, {\"x\": 0.01, \"y\": 1.08, \"showarrow\": false, \"text\": \"MLE: 550.85\", \"xref\": \"paper\", \"yref\": \"paper\"}, {\"x\": 0.01, \"y\": 1.2, \"showarrow\": false, \"text\": \"SUBJECT: 12\", \"font\": {\"family\": \"Arial, sans-serif\", \"size\": 22}, \"xref\": \"paper\", \"yref\": \"paper\"}]}, {\"showLink\": true, \"linkText\": \"Export to plot.ly\"})});</script>"
      ]
     },
     "metadata": {},
     "output_type": "display_data"
    },
    {
     "data": {
      "text/html": [
       "<script>requirejs.config({paths: { 'plotly': ['https://cdn.plot.ly/plotly-latest.min']},});if(!window.Plotly) {{require(['plotly'],function(plotly) {window.Plotly=plotly;});}}</script>"
      ],
      "text/vnd.plotly.v1+html": [
       "<script>requirejs.config({paths: { 'plotly': ['https://cdn.plot.ly/plotly-latest.min']},});if(!window.Plotly) {{require(['plotly'],function(plotly) {window.Plotly=plotly;});}}</script>"
      ]
     },
     "metadata": {},
     "output_type": "display_data"
    },
    {
     "data": {
      "application/vnd.plotly.v1+json": {
       "data": [
        {
         "error_y": {
          "array": [
           0.5229255577916007,
           0.3617012844609333,
           0.5102230924375099,
           0.32157018381381625,
           0.5974705875773418,
           0.4628035693556721,
           0.4056975441536435
          ],
          "color": "rgb(0,170,80)",
          "type": "data",
          "visible": true
         },
         "line": {
          "color": "rgb(0,100,80)"
         },
         "mode": "lines+markers",
         "name": "Test Data",
         "type": "scatter",
         "x": [
          -1.671764705882353,
          -0.8362499999999999,
          -0.34800000000000003,
          0.021818181818181775,
          0.26076923076923075,
          0.7109090909090908,
          1.6181249999999998
         ],
         "y": [
          4.923762330146822,
          4.66318481280905,
          6.524016877422886,
          4.5971211614074,
          5.280876333341719,
          4.638104213602756,
          4.002202647474404
         ]
        },
        {
         "error_y": {
          "array": [
           0.018501688462012923,
           0.022119038119028968,
           0.023818919651887815,
           0.019983072129000842,
           0.02564222161931139,
           0.027131261269062748,
           0.019425905327614353
          ],
          "color": "rgb(0,100,246)",
          "type": "data",
          "visible": true
         },
         "line": {
          "color": "rgb(0,176,246)"
         },
         "mode": "lines+markers",
         "name": "Sim Data",
         "type": "scatter",
         "x": [
          -1.671764705882353,
          -0.8362499999999999,
          -0.34800000000000003,
          0.021818181818181775,
          0.26076923076923075,
          0.7109090909090908,
          1.6181249999999998
         ],
         "y": [
          5.172246316790002,
          5.706669923716471,
          5.928515272112199,
          5.877482413769651,
          5.842050383097272,
          5.648416719442694,
          5.233183934043492
         ]
        },
        {
         "error_y": {
          "array": [
           0.058823529411764705,
           0,
           0.12598815766974242,
           0.10865714630312667,
           0.10415433852097386,
           0,
           0
          ],
          "color": "rgb(0,170,80)",
          "type": "data",
          "visible": true
         },
         "line": {
          "color": "rgb(0,100,80)"
         },
         "mode": "lines+markers",
         "name": "Test Data",
         "type": "scatter",
         "x": [
          -1.671764705882353,
          -0.8362499999999999,
          -0.34800000000000003,
          0.021818181818181775,
          0.26076923076923075,
          0.7109090909090908,
          1.6181249999999998
         ],
         "xaxis": "x2",
         "y": [
          0.058823529411764705,
          0,
          0.3333333333333333,
          0.5454545454545454,
          0.8461538461538461,
          1,
          1
         ],
         "yaxis": "y2"
        },
        {
         "error_y": {
          "array": [
           0.0018773650498750054,
           0.003710272341761461,
           0.0047800413959915794,
           0.0041212913549676326,
           0.005165059298332789,
           0.004576226356663369,
           0.002060213114144553
          ],
          "color": "rgb(0,100,246)",
          "type": "data",
          "visible": true
         },
         "line": {
          "color": "rgb(0,176,246)"
         },
         "mode": "lines+markers",
         "name": "Sim Data",
         "type": "scatter",
         "x": [
          -1.671764705882353,
          -0.8362499999999999,
          -0.34800000000000003,
          0.021818181818181775,
          0.26076923076923075,
          0.7109090909090908,
          1.6181249999999998
         ],
         "xaxis": "x2",
         "y": [
          0.05492565686740444,
          0.2009942573069341,
          0.3572778827977316,
          0.5188108034560174,
          0.6422103552356628,
          0.7910069664344522,
          0.9379833649496571
         ],
         "yaxis": "y2"
        }
       ],
       "layout": {
        "annotations": [
         {
          "showarrow": false,
          "text": "PARAMETERS: v: 0.046, a: 0.307, θ: 0.28",
          "x": 0.01,
          "xref": "paper",
          "y": 1.12,
          "yref": "paper"
         },
         {
          "showarrow": false,
          "text": "MLE: 592.58",
          "x": 0.01,
          "xref": "paper",
          "y": 1.08,
          "yref": "paper"
         },
         {
          "font": {
           "family": "Arial, sans-serif",
           "size": 22
          },
          "showarrow": false,
          "text": "SUBJECT: 13",
          "x": 0.01,
          "xref": "paper",
          "y": 1.2,
          "yref": "paper"
         }
        ],
        "paper_bgcolor": "rgb(255,255,255)",
        "plot_bgcolor": "rgb(229,229,229)",
        "xaxis": {
         "domain": [
          0,
          0.45
         ],
         "gridcolor": "rgb(255,255,255)",
         "range": [
          -2,
          2
         ],
         "showgrid": true,
         "showline": false,
         "showticklabels": true,
         "tickcolor": "rgb(127,127,127)",
         "ticks": "outside",
         "title": "Net Value ($)",
         "zeroline": false
        },
        "xaxis2": {
         "domain": [
          0.55,
          1
         ],
         "gridcolor": "rgb(255,255,255)",
         "range": [
          -2,
          2
         ],
         "showgrid": true,
         "showline": false,
         "showticklabels": true,
         "tickcolor": "rgb(127,127,127)",
         "ticks": "outside",
         "title": "Net Value ($)",
         "zeroline": false
        },
        "yaxis1": {
         "anchor": "x1",
         "gridcolor": "rgb(255,255,255)",
         "range": [
          0
         ],
         "showgrid": true,
         "showline": false,
         "showticklabels": true,
         "tickcolor": "rgb(127,127,127)",
         "ticks": "outside",
         "title": "RT (s)",
         "zeroline": false
        },
        "yaxis2": {
         "anchor": "x2",
         "gridcolor": "rgb(255,255,255)",
         "range": [
          0
         ],
         "showgrid": true,
         "showline": false,
         "showticklabels": true,
         "tickcolor": "rgb(127,127,127)",
         "ticks": "outside",
         "title": "p (accept)",
         "zeroline": false
        }
       }
      },
      "text/html": [
       "<div id=\"3f9248ac-1807-47a6-a828-34d9084a4580\" style=\"height: 525px; width: 100%;\" class=\"plotly-graph-div\"></div><script type=\"text/javascript\">require([\"plotly\"], function(Plotly) { window.PLOTLYENV=window.PLOTLYENV || {};window.PLOTLYENV.BASE_URL=\"https://plot.ly\";Plotly.newPlot(\"3f9248ac-1807-47a6-a828-34d9084a4580\", [{\"type\": \"scatter\", \"x\": [-1.671764705882353, -0.8362499999999999, -0.34800000000000003, 0.021818181818181775, 0.26076923076923075, 0.7109090909090908, 1.6181249999999998], \"y\": [4.923762330146822, 4.66318481280905, 6.524016877422886, 4.5971211614074, 5.280876333341719, 4.638104213602756, 4.002202647474404], \"error_y\": {\"type\": \"data\", \"array\": [0.5229255577916007, 0.3617012844609333, 0.5102230924375099, 0.32157018381381625, 0.5974705875773418, 0.4628035693556721, 0.4056975441536435], \"color\": \"rgb(0,170,80)\", \"visible\": true}, \"line\": {\"color\": \"rgb(0,100,80)\"}, \"mode\": \"lines+markers\", \"name\": \"Test Data\"}, {\"type\": \"scatter\", \"x\": [-1.671764705882353, -0.8362499999999999, -0.34800000000000003, 0.021818181818181775, 0.26076923076923075, 0.7109090909090908, 1.6181249999999998], \"y\": [5.172246316790002, 5.706669923716471, 5.928515272112199, 5.877482413769651, 5.842050383097272, 5.648416719442694, 5.233183934043492], \"error_y\": {\"type\": \"data\", \"array\": [0.018501688462012923, 0.022119038119028968, 0.023818919651887815, 0.019983072129000842, 0.02564222161931139, 0.027131261269062748, 0.019425905327614353], \"color\": \"rgb(0,100,246)\", \"visible\": true}, \"line\": {\"color\": \"rgb(0,176,246)\"}, \"mode\": \"lines+markers\", \"name\": \"Sim Data\"}, {\"type\": \"scatter\", \"x\": [-1.671764705882353, -0.8362499999999999, -0.34800000000000003, 0.021818181818181775, 0.26076923076923075, 0.7109090909090908, 1.6181249999999998], \"y\": [0.058823529411764705, 0.0, 0.3333333333333333, 0.5454545454545454, 0.8461538461538461, 1.0, 1.0], \"error_y\": {\"type\": \"data\", \"array\": [0.058823529411764705, 0.0, 0.12598815766974242, 0.10865714630312667, 0.10415433852097386, 0.0, 0.0], \"color\": \"rgb(0,170,80)\", \"visible\": true}, \"line\": {\"color\": \"rgb(0,100,80)\"}, \"mode\": \"lines+markers\", \"name\": \"Test Data\", \"xaxis\": \"x2\", \"yaxis\": \"y2\"}, {\"type\": \"scatter\", \"x\": [-1.671764705882353, -0.8362499999999999, -0.34800000000000003, 0.021818181818181775, 0.26076923076923075, 0.7109090909090908, 1.6181249999999998], \"y\": [0.05492565686740444, 0.2009942573069341, 0.3572778827977316, 0.5188108034560174, 0.6422103552356628, 0.7910069664344522, 0.9379833649496571], \"error_y\": {\"type\": \"data\", \"array\": [0.0018773650498750054, 0.003710272341761461, 0.0047800413959915794, 0.0041212913549676326, 0.005165059298332789, 0.004576226356663369, 0.002060213114144553], \"color\": \"rgb(0,100,246)\", \"visible\": true}, \"line\": {\"color\": \"rgb(0,176,246)\"}, \"mode\": \"lines+markers\", \"name\": \"Sim Data\", \"xaxis\": \"x2\", \"yaxis\": \"y2\"}], {\"paper_bgcolor\": \"rgb(255,255,255)\", \"plot_bgcolor\": \"rgb(229,229,229)\", \"xaxis\": {\"gridcolor\": \"rgb(255,255,255)\", \"range\": [-2, 2], \"domain\": [0, 0.45], \"showgrid\": true, \"showline\": false, \"showticklabels\": true, \"tickcolor\": \"rgb(127,127,127)\", \"ticks\": \"outside\", \"title\": \"Net Value ($)\", \"zeroline\": false}, \"xaxis2\": {\"gridcolor\": \"rgb(255,255,255)\", \"range\": [-2, 2], \"domain\": [0.55, 1], \"showgrid\": true, \"showline\": false, \"showticklabels\": true, \"tickcolor\": \"rgb(127,127,127)\", \"ticks\": \"outside\", \"title\": \"Net Value ($)\", \"zeroline\": false}, \"yaxis1\": {\"gridcolor\": \"rgb(255,255,255)\", \"range\": [0], \"showgrid\": true, \"showline\": false, \"showticklabels\": true, \"tickcolor\": \"rgb(127,127,127)\", \"ticks\": \"outside\", \"title\": \"RT (s)\", \"anchor\": \"x1\", \"zeroline\": false}, \"yaxis2\": {\"gridcolor\": \"rgb(255,255,255)\", \"range\": [0], \"showgrid\": true, \"showline\": false, \"showticklabels\": true, \"tickcolor\": \"rgb(127,127,127)\", \"ticks\": \"outside\", \"title\": \"p (accept)\", \"anchor\": \"x2\", \"zeroline\": false}, \"annotations\": [{\"x\": 0.01, \"y\": 1.12, \"showarrow\": false, \"text\": \"PARAMETERS: v: 0.046, a: 0.307, \\u03b8: 0.28\", \"xref\": \"paper\", \"yref\": \"paper\"}, {\"x\": 0.01, \"y\": 1.08, \"showarrow\": false, \"text\": \"MLE: 592.58\", \"xref\": \"paper\", \"yref\": \"paper\"}, {\"x\": 0.01, \"y\": 1.2, \"showarrow\": false, \"text\": \"SUBJECT: 13\", \"font\": {\"family\": \"Arial, sans-serif\", \"size\": 22}, \"xref\": \"paper\", \"yref\": \"paper\"}]}, {\"showLink\": true, \"linkText\": \"Export to plot.ly\"})});</script>"
      ],
      "text/vnd.plotly.v1+html": [
       "<div id=\"3f9248ac-1807-47a6-a828-34d9084a4580\" style=\"height: 525px; width: 100%;\" class=\"plotly-graph-div\"></div><script type=\"text/javascript\">require([\"plotly\"], function(Plotly) { window.PLOTLYENV=window.PLOTLYENV || {};window.PLOTLYENV.BASE_URL=\"https://plot.ly\";Plotly.newPlot(\"3f9248ac-1807-47a6-a828-34d9084a4580\", [{\"type\": \"scatter\", \"x\": [-1.671764705882353, -0.8362499999999999, -0.34800000000000003, 0.021818181818181775, 0.26076923076923075, 0.7109090909090908, 1.6181249999999998], \"y\": [4.923762330146822, 4.66318481280905, 6.524016877422886, 4.5971211614074, 5.280876333341719, 4.638104213602756, 4.002202647474404], \"error_y\": {\"type\": \"data\", \"array\": [0.5229255577916007, 0.3617012844609333, 0.5102230924375099, 0.32157018381381625, 0.5974705875773418, 0.4628035693556721, 0.4056975441536435], \"color\": \"rgb(0,170,80)\", \"visible\": true}, \"line\": {\"color\": \"rgb(0,100,80)\"}, \"mode\": \"lines+markers\", \"name\": \"Test Data\"}, {\"type\": \"scatter\", \"x\": [-1.671764705882353, -0.8362499999999999, -0.34800000000000003, 0.021818181818181775, 0.26076923076923075, 0.7109090909090908, 1.6181249999999998], \"y\": [5.172246316790002, 5.706669923716471, 5.928515272112199, 5.877482413769651, 5.842050383097272, 5.648416719442694, 5.233183934043492], \"error_y\": {\"type\": \"data\", \"array\": [0.018501688462012923, 0.022119038119028968, 0.023818919651887815, 0.019983072129000842, 0.02564222161931139, 0.027131261269062748, 0.019425905327614353], \"color\": \"rgb(0,100,246)\", \"visible\": true}, \"line\": {\"color\": \"rgb(0,176,246)\"}, \"mode\": \"lines+markers\", \"name\": \"Sim Data\"}, {\"type\": \"scatter\", \"x\": [-1.671764705882353, -0.8362499999999999, -0.34800000000000003, 0.021818181818181775, 0.26076923076923075, 0.7109090909090908, 1.6181249999999998], \"y\": [0.058823529411764705, 0.0, 0.3333333333333333, 0.5454545454545454, 0.8461538461538461, 1.0, 1.0], \"error_y\": {\"type\": \"data\", \"array\": [0.058823529411764705, 0.0, 0.12598815766974242, 0.10865714630312667, 0.10415433852097386, 0.0, 0.0], \"color\": \"rgb(0,170,80)\", \"visible\": true}, \"line\": {\"color\": \"rgb(0,100,80)\"}, \"mode\": \"lines+markers\", \"name\": \"Test Data\", \"xaxis\": \"x2\", \"yaxis\": \"y2\"}, {\"type\": \"scatter\", \"x\": [-1.671764705882353, -0.8362499999999999, -0.34800000000000003, 0.021818181818181775, 0.26076923076923075, 0.7109090909090908, 1.6181249999999998], \"y\": [0.05492565686740444, 0.2009942573069341, 0.3572778827977316, 0.5188108034560174, 0.6422103552356628, 0.7910069664344522, 0.9379833649496571], \"error_y\": {\"type\": \"data\", \"array\": [0.0018773650498750054, 0.003710272341761461, 0.0047800413959915794, 0.0041212913549676326, 0.005165059298332789, 0.004576226356663369, 0.002060213114144553], \"color\": \"rgb(0,100,246)\", \"visible\": true}, \"line\": {\"color\": \"rgb(0,176,246)\"}, \"mode\": \"lines+markers\", \"name\": \"Sim Data\", \"xaxis\": \"x2\", \"yaxis\": \"y2\"}], {\"paper_bgcolor\": \"rgb(255,255,255)\", \"plot_bgcolor\": \"rgb(229,229,229)\", \"xaxis\": {\"gridcolor\": \"rgb(255,255,255)\", \"range\": [-2, 2], \"domain\": [0, 0.45], \"showgrid\": true, \"showline\": false, \"showticklabels\": true, \"tickcolor\": \"rgb(127,127,127)\", \"ticks\": \"outside\", \"title\": \"Net Value ($)\", \"zeroline\": false}, \"xaxis2\": {\"gridcolor\": \"rgb(255,255,255)\", \"range\": [-2, 2], \"domain\": [0.55, 1], \"showgrid\": true, \"showline\": false, \"showticklabels\": true, \"tickcolor\": \"rgb(127,127,127)\", \"ticks\": \"outside\", \"title\": \"Net Value ($)\", \"zeroline\": false}, \"yaxis1\": {\"gridcolor\": \"rgb(255,255,255)\", \"range\": [0], \"showgrid\": true, \"showline\": false, \"showticklabels\": true, \"tickcolor\": \"rgb(127,127,127)\", \"ticks\": \"outside\", \"title\": \"RT (s)\", \"anchor\": \"x1\", \"zeroline\": false}, \"yaxis2\": {\"gridcolor\": \"rgb(255,255,255)\", \"range\": [0], \"showgrid\": true, \"showline\": false, \"showticklabels\": true, \"tickcolor\": \"rgb(127,127,127)\", \"ticks\": \"outside\", \"title\": \"p (accept)\", \"anchor\": \"x2\", \"zeroline\": false}, \"annotations\": [{\"x\": 0.01, \"y\": 1.12, \"showarrow\": false, \"text\": \"PARAMETERS: v: 0.046, a: 0.307, \\u03b8: 0.28\", \"xref\": \"paper\", \"yref\": \"paper\"}, {\"x\": 0.01, \"y\": 1.08, \"showarrow\": false, \"text\": \"MLE: 592.58\", \"xref\": \"paper\", \"yref\": \"paper\"}, {\"x\": 0.01, \"y\": 1.2, \"showarrow\": false, \"text\": \"SUBJECT: 13\", \"font\": {\"family\": \"Arial, sans-serif\", \"size\": 22}, \"xref\": \"paper\", \"yref\": \"paper\"}]}, {\"showLink\": true, \"linkText\": \"Export to plot.ly\"})});</script>"
      ]
     },
     "metadata": {},
     "output_type": "display_data"
    },
    {
     "data": {
      "text/html": [
       "<script>requirejs.config({paths: { 'plotly': ['https://cdn.plot.ly/plotly-latest.min']},});if(!window.Plotly) {{require(['plotly'],function(plotly) {window.Plotly=plotly;});}}</script>"
      ],
      "text/vnd.plotly.v1+html": [
       "<script>requirejs.config({paths: { 'plotly': ['https://cdn.plot.ly/plotly-latest.min']},});if(!window.Plotly) {{require(['plotly'],function(plotly) {window.Plotly=plotly;});}}</script>"
      ]
     },
     "metadata": {},
     "output_type": "display_data"
    },
    {
     "data": {
      "application/vnd.plotly.v1+json": {
       "data": [
        {
         "error_y": {
          "array": [
           0.35021592608518126,
           0.3766742051351146,
           0.5542082213227633,
           0.33901965010363483,
           0.5045817465963701,
           0.5152689778264671,
           0.28194392957871334
          ],
          "color": "rgb(0,170,80)",
          "type": "data",
          "visible": true
         },
         "line": {
          "color": "rgb(0,100,80)"
         },
         "mode": "lines+markers",
         "name": "Test Data",
         "type": "scatter",
         "x": [
          -1.5835294117647063,
          -0.8089473684210526,
          -0.2995,
          0.01899999999999998,
          0.31941176470588234,
          0.804375,
          1.5968
         ],
         "y": [
          3.4976711634799904,
          4.129546045803612,
          4.544472419338126,
          4.305603327703041,
          4.2611871013667795,
          4.102034559846287,
          3.235373271243879
         ]
        },
        {
         "error_y": {
          "array": [
           0.017785532613756795,
           0.017537488987804835,
           0.017656363349449342,
           0.014328734714638544,
           0.019136493710601298,
           0.019338607921452748,
           0.014485940477541466
          ],
          "color": "rgb(0,100,246)",
          "type": "data",
          "visible": true
         },
         "line": {
          "color": "rgb(0,176,246)"
         },
         "mode": "lines+markers",
         "name": "Sim Data",
         "type": "scatter",
         "x": [
          -1.5835294117647063,
          -0.8089473684210526,
          -0.2995,
          0.01899999999999998,
          0.31941176470588234,
          0.804375,
          1.5968
         ],
         "y": [
          4.368367950654573,
          4.589993493667967,
          4.690404519521238,
          4.6643725219853795,
          4.683425411826505,
          4.613986910994764,
          4.339027298359546
         ]
        },
        {
         "error_y": {
          "array": [
           0.08054743492723031,
           0.0960916767552923,
           0.10513149660756937,
           0.0875376219064817,
           0.058823529411764705,
           0.10077822185373188,
           0
          ],
          "color": "rgb(0,170,80)",
          "type": "data",
          "visible": true
         },
         "line": {
          "color": "rgb(0,100,80)"
         },
         "mode": "lines+markers",
         "name": "Test Data",
         "type": "scatter",
         "x": [
          -1.5835294117647063,
          -0.8089473684210526,
          -0.2995,
          0.01899999999999998,
          0.31941176470588234,
          0.804375,
          1.5968
         ],
         "xaxis": "x2",
         "y": [
          0.11764705882352941,
          0.21052631578947367,
          0.3,
          0.6666666666666666,
          0.9411764705882353,
          0.8125,
          1
         ],
         "yaxis": "y2"
        },
        {
         "error_y": {
          "array": [
           0.0031340369502410935,
           0.003550093895516761,
           0.0037031306384789826,
           0.0030519279342830032,
           0.004008334653082348,
           0.0038654051216811553,
           0.00253992912496429
          ],
          "color": "rgb(0,100,246)",
          "type": "data",
          "visible": true
         },
         "line": {
          "color": "rgb(0,176,246)"
         },
         "mode": "lines+markers",
         "name": "Sim Data",
         "type": "scatter",
         "x": [
          -1.5835294117647063,
          -0.8089473684210526,
          -0.2995,
          0.01899999999999998,
          0.31941176470588234,
          0.804375,
          1.5968
         ],
         "xaxis": "x2",
         "y": [
          0.19347935548841894,
          0.31817125595445567,
          0.4303613379572659,
          0.5071918318676405,
          0.5721598739909431,
          0.6820060622761092,
          0.814636021872864
         ],
         "yaxis": "y2"
        }
       ],
       "layout": {
        "annotations": [
         {
          "showarrow": false,
          "text": "PARAMETERS: v: 0.026, a: 0.221, θ: 0.64",
          "x": 0.01,
          "xref": "paper",
          "y": 1.12,
          "yref": "paper"
         },
         {
          "showarrow": false,
          "text": "MLE: 663.38",
          "x": 0.01,
          "xref": "paper",
          "y": 1.08,
          "yref": "paper"
         },
         {
          "font": {
           "family": "Arial, sans-serif",
           "size": 22
          },
          "showarrow": false,
          "text": "SUBJECT: 14",
          "x": 0.01,
          "xref": "paper",
          "y": 1.2,
          "yref": "paper"
         }
        ],
        "paper_bgcolor": "rgb(255,255,255)",
        "plot_bgcolor": "rgb(229,229,229)",
        "xaxis": {
         "domain": [
          0,
          0.45
         ],
         "gridcolor": "rgb(255,255,255)",
         "range": [
          -2,
          2
         ],
         "showgrid": true,
         "showline": false,
         "showticklabels": true,
         "tickcolor": "rgb(127,127,127)",
         "ticks": "outside",
         "title": "Net Value ($)",
         "zeroline": false
        },
        "xaxis2": {
         "domain": [
          0.55,
          1
         ],
         "gridcolor": "rgb(255,255,255)",
         "range": [
          -2,
          2
         ],
         "showgrid": true,
         "showline": false,
         "showticklabels": true,
         "tickcolor": "rgb(127,127,127)",
         "ticks": "outside",
         "title": "Net Value ($)",
         "zeroline": false
        },
        "yaxis1": {
         "anchor": "x1",
         "gridcolor": "rgb(255,255,255)",
         "range": [
          0
         ],
         "showgrid": true,
         "showline": false,
         "showticklabels": true,
         "tickcolor": "rgb(127,127,127)",
         "ticks": "outside",
         "title": "RT (s)",
         "zeroline": false
        },
        "yaxis2": {
         "anchor": "x2",
         "gridcolor": "rgb(255,255,255)",
         "range": [
          0
         ],
         "showgrid": true,
         "showline": false,
         "showticklabels": true,
         "tickcolor": "rgb(127,127,127)",
         "ticks": "outside",
         "title": "p (accept)",
         "zeroline": false
        }
       }
      },
      "text/html": [
       "<div id=\"ef5ccbd3-4d4d-4a08-bdd3-b77291f9e7dc\" style=\"height: 525px; width: 100%;\" class=\"plotly-graph-div\"></div><script type=\"text/javascript\">require([\"plotly\"], function(Plotly) { window.PLOTLYENV=window.PLOTLYENV || {};window.PLOTLYENV.BASE_URL=\"https://plot.ly\";Plotly.newPlot(\"ef5ccbd3-4d4d-4a08-bdd3-b77291f9e7dc\", [{\"type\": \"scatter\", \"x\": [-1.5835294117647063, -0.8089473684210526, -0.2995, 0.01899999999999998, 0.31941176470588234, 0.804375, 1.5968], \"y\": [3.4976711634799904, 4.129546045803612, 4.544472419338126, 4.305603327703041, 4.2611871013667795, 4.102034559846287, 3.235373271243879], \"error_y\": {\"type\": \"data\", \"array\": [0.35021592608518126, 0.3766742051351146, 0.5542082213227633, 0.33901965010363483, 0.5045817465963701, 0.5152689778264671, 0.28194392957871334], \"color\": \"rgb(0,170,80)\", \"visible\": true}, \"line\": {\"color\": \"rgb(0,100,80)\"}, \"mode\": \"lines+markers\", \"name\": \"Test Data\"}, {\"type\": \"scatter\", \"x\": [-1.5835294117647063, -0.8089473684210526, -0.2995, 0.01899999999999998, 0.31941176470588234, 0.804375, 1.5968], \"y\": [4.368367950654573, 4.589993493667967, 4.690404519521238, 4.6643725219853795, 4.683425411826505, 4.613986910994764, 4.339027298359546], \"error_y\": {\"type\": \"data\", \"array\": [0.017785532613756795, 0.017537488987804835, 0.017656363349449342, 0.014328734714638544, 0.019136493710601298, 0.019338607921452748, 0.014485940477541466], \"color\": \"rgb(0,100,246)\", \"visible\": true}, \"line\": {\"color\": \"rgb(0,176,246)\"}, \"mode\": \"lines+markers\", \"name\": \"Sim Data\"}, {\"type\": \"scatter\", \"x\": [-1.5835294117647063, -0.8089473684210526, -0.2995, 0.01899999999999998, 0.31941176470588234, 0.804375, 1.5968], \"y\": [0.11764705882352941, 0.21052631578947367, 0.3, 0.6666666666666666, 0.9411764705882353, 0.8125, 1.0], \"error_y\": {\"type\": \"data\", \"array\": [0.08054743492723031, 0.0960916767552923, 0.10513149660756937, 0.0875376219064817, 0.058823529411764705, 0.10077822185373188, 0.0], \"color\": \"rgb(0,170,80)\", \"visible\": true}, \"line\": {\"color\": \"rgb(0,100,80)\"}, \"mode\": \"lines+markers\", \"name\": \"Test Data\", \"xaxis\": \"x2\", \"yaxis\": \"y2\"}, {\"type\": \"scatter\", \"x\": [-1.5835294117647063, -0.8089473684210526, -0.2995, 0.01899999999999998, 0.31941176470588234, 0.804375, 1.5968], \"y\": [0.19347935548841894, 0.31817125595445567, 0.4303613379572659, 0.5071918318676405, 0.5721598739909431, 0.6820060622761092, 0.814636021872864], \"error_y\": {\"type\": \"data\", \"array\": [0.0031340369502410935, 0.003550093895516761, 0.0037031306384789826, 0.0030519279342830032, 0.004008334653082348, 0.0038654051216811553, 0.00253992912496429], \"color\": \"rgb(0,100,246)\", \"visible\": true}, \"line\": {\"color\": \"rgb(0,176,246)\"}, \"mode\": \"lines+markers\", \"name\": \"Sim Data\", \"xaxis\": \"x2\", \"yaxis\": \"y2\"}], {\"paper_bgcolor\": \"rgb(255,255,255)\", \"plot_bgcolor\": \"rgb(229,229,229)\", \"xaxis\": {\"gridcolor\": \"rgb(255,255,255)\", \"range\": [-2, 2], \"domain\": [0, 0.45], \"showgrid\": true, \"showline\": false, \"showticklabels\": true, \"tickcolor\": \"rgb(127,127,127)\", \"ticks\": \"outside\", \"title\": \"Net Value ($)\", \"zeroline\": false}, \"xaxis2\": {\"gridcolor\": \"rgb(255,255,255)\", \"range\": [-2, 2], \"domain\": [0.55, 1], \"showgrid\": true, \"showline\": false, \"showticklabels\": true, \"tickcolor\": \"rgb(127,127,127)\", \"ticks\": \"outside\", \"title\": \"Net Value ($)\", \"zeroline\": false}, \"yaxis1\": {\"gridcolor\": \"rgb(255,255,255)\", \"range\": [0], \"showgrid\": true, \"showline\": false, \"showticklabels\": true, \"tickcolor\": \"rgb(127,127,127)\", \"ticks\": \"outside\", \"title\": \"RT (s)\", \"anchor\": \"x1\", \"zeroline\": false}, \"yaxis2\": {\"gridcolor\": \"rgb(255,255,255)\", \"range\": [0], \"showgrid\": true, \"showline\": false, \"showticklabels\": true, \"tickcolor\": \"rgb(127,127,127)\", \"ticks\": \"outside\", \"title\": \"p (accept)\", \"anchor\": \"x2\", \"zeroline\": false}, \"annotations\": [{\"x\": 0.01, \"y\": 1.12, \"showarrow\": false, \"text\": \"PARAMETERS: v: 0.026, a: 0.221, \\u03b8: 0.64\", \"xref\": \"paper\", \"yref\": \"paper\"}, {\"x\": 0.01, \"y\": 1.08, \"showarrow\": false, \"text\": \"MLE: 663.38\", \"xref\": \"paper\", \"yref\": \"paper\"}, {\"x\": 0.01, \"y\": 1.2, \"showarrow\": false, \"text\": \"SUBJECT: 14\", \"font\": {\"family\": \"Arial, sans-serif\", \"size\": 22}, \"xref\": \"paper\", \"yref\": \"paper\"}]}, {\"showLink\": true, \"linkText\": \"Export to plot.ly\"})});</script>"
      ],
      "text/vnd.plotly.v1+html": [
       "<div id=\"ef5ccbd3-4d4d-4a08-bdd3-b77291f9e7dc\" style=\"height: 525px; width: 100%;\" class=\"plotly-graph-div\"></div><script type=\"text/javascript\">require([\"plotly\"], function(Plotly) { window.PLOTLYENV=window.PLOTLYENV || {};window.PLOTLYENV.BASE_URL=\"https://plot.ly\";Plotly.newPlot(\"ef5ccbd3-4d4d-4a08-bdd3-b77291f9e7dc\", [{\"type\": \"scatter\", \"x\": [-1.5835294117647063, -0.8089473684210526, -0.2995, 0.01899999999999998, 0.31941176470588234, 0.804375, 1.5968], \"y\": [3.4976711634799904, 4.129546045803612, 4.544472419338126, 4.305603327703041, 4.2611871013667795, 4.102034559846287, 3.235373271243879], \"error_y\": {\"type\": \"data\", \"array\": [0.35021592608518126, 0.3766742051351146, 0.5542082213227633, 0.33901965010363483, 0.5045817465963701, 0.5152689778264671, 0.28194392957871334], \"color\": \"rgb(0,170,80)\", \"visible\": true}, \"line\": {\"color\": \"rgb(0,100,80)\"}, \"mode\": \"lines+markers\", \"name\": \"Test Data\"}, {\"type\": \"scatter\", \"x\": [-1.5835294117647063, -0.8089473684210526, -0.2995, 0.01899999999999998, 0.31941176470588234, 0.804375, 1.5968], \"y\": [4.368367950654573, 4.589993493667967, 4.690404519521238, 4.6643725219853795, 4.683425411826505, 4.613986910994764, 4.339027298359546], \"error_y\": {\"type\": \"data\", \"array\": [0.017785532613756795, 0.017537488987804835, 0.017656363349449342, 0.014328734714638544, 0.019136493710601298, 0.019338607921452748, 0.014485940477541466], \"color\": \"rgb(0,100,246)\", \"visible\": true}, \"line\": {\"color\": \"rgb(0,176,246)\"}, \"mode\": \"lines+markers\", \"name\": \"Sim Data\"}, {\"type\": \"scatter\", \"x\": [-1.5835294117647063, -0.8089473684210526, -0.2995, 0.01899999999999998, 0.31941176470588234, 0.804375, 1.5968], \"y\": [0.11764705882352941, 0.21052631578947367, 0.3, 0.6666666666666666, 0.9411764705882353, 0.8125, 1.0], \"error_y\": {\"type\": \"data\", \"array\": [0.08054743492723031, 0.0960916767552923, 0.10513149660756937, 0.0875376219064817, 0.058823529411764705, 0.10077822185373188, 0.0], \"color\": \"rgb(0,170,80)\", \"visible\": true}, \"line\": {\"color\": \"rgb(0,100,80)\"}, \"mode\": \"lines+markers\", \"name\": \"Test Data\", \"xaxis\": \"x2\", \"yaxis\": \"y2\"}, {\"type\": \"scatter\", \"x\": [-1.5835294117647063, -0.8089473684210526, -0.2995, 0.01899999999999998, 0.31941176470588234, 0.804375, 1.5968], \"y\": [0.19347935548841894, 0.31817125595445567, 0.4303613379572659, 0.5071918318676405, 0.5721598739909431, 0.6820060622761092, 0.814636021872864], \"error_y\": {\"type\": \"data\", \"array\": [0.0031340369502410935, 0.003550093895516761, 0.0037031306384789826, 0.0030519279342830032, 0.004008334653082348, 0.0038654051216811553, 0.00253992912496429], \"color\": \"rgb(0,100,246)\", \"visible\": true}, \"line\": {\"color\": \"rgb(0,176,246)\"}, \"mode\": \"lines+markers\", \"name\": \"Sim Data\", \"xaxis\": \"x2\", \"yaxis\": \"y2\"}], {\"paper_bgcolor\": \"rgb(255,255,255)\", \"plot_bgcolor\": \"rgb(229,229,229)\", \"xaxis\": {\"gridcolor\": \"rgb(255,255,255)\", \"range\": [-2, 2], \"domain\": [0, 0.45], \"showgrid\": true, \"showline\": false, \"showticklabels\": true, \"tickcolor\": \"rgb(127,127,127)\", \"ticks\": \"outside\", \"title\": \"Net Value ($)\", \"zeroline\": false}, \"xaxis2\": {\"gridcolor\": \"rgb(255,255,255)\", \"range\": [-2, 2], \"domain\": [0.55, 1], \"showgrid\": true, \"showline\": false, \"showticklabels\": true, \"tickcolor\": \"rgb(127,127,127)\", \"ticks\": \"outside\", \"title\": \"Net Value ($)\", \"zeroline\": false}, \"yaxis1\": {\"gridcolor\": \"rgb(255,255,255)\", \"range\": [0], \"showgrid\": true, \"showline\": false, \"showticklabels\": true, \"tickcolor\": \"rgb(127,127,127)\", \"ticks\": \"outside\", \"title\": \"RT (s)\", \"anchor\": \"x1\", \"zeroline\": false}, \"yaxis2\": {\"gridcolor\": \"rgb(255,255,255)\", \"range\": [0], \"showgrid\": true, \"showline\": false, \"showticklabels\": true, \"tickcolor\": \"rgb(127,127,127)\", \"ticks\": \"outside\", \"title\": \"p (accept)\", \"anchor\": \"x2\", \"zeroline\": false}, \"annotations\": [{\"x\": 0.01, \"y\": 1.12, \"showarrow\": false, \"text\": \"PARAMETERS: v: 0.026, a: 0.221, \\u03b8: 0.64\", \"xref\": \"paper\", \"yref\": \"paper\"}, {\"x\": 0.01, \"y\": 1.08, \"showarrow\": false, \"text\": \"MLE: 663.38\", \"xref\": \"paper\", \"yref\": \"paper\"}, {\"x\": 0.01, \"y\": 1.2, \"showarrow\": false, \"text\": \"SUBJECT: 14\", \"font\": {\"family\": \"Arial, sans-serif\", \"size\": 22}, \"xref\": \"paper\", \"yref\": \"paper\"}]}, {\"showLink\": true, \"linkText\": \"Export to plot.ly\"})});</script>"
      ]
     },
     "metadata": {},
     "output_type": "display_data"
    },
    {
     "data": {
      "text/html": [
       "<script>requirejs.config({paths: { 'plotly': ['https://cdn.plot.ly/plotly-latest.min']},});if(!window.Plotly) {{require(['plotly'],function(plotly) {window.Plotly=plotly;});}}</script>"
      ],
      "text/vnd.plotly.v1+html": [
       "<script>requirejs.config({paths: { 'plotly': ['https://cdn.plot.ly/plotly-latest.min']},});if(!window.Plotly) {{require(['plotly'],function(plotly) {window.Plotly=plotly;});}}</script>"
      ]
     },
     "metadata": {},
     "output_type": "display_data"
    },
    {
     "data": {
      "application/vnd.plotly.v1+json": {
       "data": [
        {
         "error_y": {
          "array": [
           0.3567010076126107,
           0.2103499017404514,
           0.23592121519616596,
           0.14616530230162392,
           0.1637560550610461,
           0.20646263968004017,
           0.15110877526032843
          ],
          "color": "rgb(0,170,80)",
          "type": "data",
          "visible": true
         },
         "line": {
          "color": "rgb(0,100,80)"
         },
         "mode": "lines+markers",
         "name": "Test Data",
         "type": "scatter",
         "x": [
          -1.9084615384615384,
          -0.7883333333333333,
          -0.28647058823529414,
          0.029210526315789458,
          0.3188888888888888,
          0.7157894736842105,
          1.679230769230769
         ],
         "y": [
          2.9552737949953354,
          2.3677408923168626,
          2.4658561379029003,
          2.5238267371215017,
          2.289951914292436,
          2.5536627034874226,
          2.1475658100937896
         ]
        },
        {
         "error_y": {
          "array": [
           0.010369513717334113,
           0.01485597140918067,
           0.018493499187527122,
           0.01222124778792813,
           0.017062477841434463,
           0.015053861316035148,
           0.00824775121533467
          ],
          "color": "rgb(0,100,246)",
          "type": "data",
          "visible": true
         },
         "line": {
          "color": "rgb(0,176,246)"
         },
         "mode": "lines+markers",
         "name": "Sim Data",
         "type": "scatter",
         "x": [
          -1.9084615384615384,
          -0.7883333333333333,
          -0.28647058823529414,
          0.029210526315789458,
          0.3188888888888888,
          0.7157894736842105,
          1.679230769230769
         ],
         "y": [
          2.4851261642675655,
          3.6740392524426126,
          4.420995747111845,
          4.265204780763802,
          4.2913227833096235,
          3.7982085587535157,
          2.6854351830443273
         ]
        },
        {
         "error_y": {
          "array": [
           0,
           0.11823563735376173,
           0.11391127488845344,
           0.0793021898421983,
           0.0903876907577734,
           0.10956136839295434,
           0
          ],
          "color": "rgb(0,170,80)",
          "type": "data",
          "visible": true
         },
         "line": {
          "color": "rgb(0,100,80)"
         },
         "mode": "lines+markers",
         "name": "Test Data",
         "type": "scatter",
         "x": [
          -1.9084615384615384,
          -0.7883333333333333,
          -0.28647058823529414,
          0.029210526315789458,
          0.3188888888888888,
          0.7157894736842105,
          1.679230769230769
         ],
         "xaxis": "x2",
         "y": [
          0,
          0.3888888888888889,
          0.29411764705882354,
          0.631578947368421,
          0.8333333333333334,
          0.6842105263157895,
          1
         ],
         "yaxis": "y2"
        },
        {
         "error_y": {
          "array": [
           0.0009766211370936457,
           0.00223324543020893,
           0.003620757768475708,
           0.0026135062047055522,
           0.0032804665785862515,
           0.0021984632045945374,
           0.0006310678041407116
          ],
          "color": "rgb(0,100,246)",
          "type": "data",
          "visible": true
         },
         "line": {
          "color": "rgb(0,176,246)"
         },
         "mode": "lines+markers",
         "name": "Sim Data",
         "type": "scatter",
         "x": [
          -1.9084615384615384,
          -0.7883333333333333,
          -0.28647058823529414,
          0.029210526315789458,
          0.3188888888888888,
          0.7157894736842105,
          1.679230769230769
         ],
         "xaxis": "x2",
         "y": [
          0.012547148025556154,
          0.09725062485798681,
          0.29148152850069825,
          0.5924752475247524,
          0.7616168800379327,
          0.9008331529971868,
          0.9895568400770713
         ],
         "yaxis": "y2"
        }
       ],
       "layout": {
        "annotations": [
         {
          "showarrow": false,
          "text": "PARAMETERS: v: 0.109, a: 0.221, θ: 0.28",
          "x": 0.01,
          "xref": "paper",
          "y": 1.12,
          "yref": "paper"
         },
         {
          "showarrow": false,
          "text": "MLE: 650.03",
          "x": 0.01,
          "xref": "paper",
          "y": 1.08,
          "yref": "paper"
         },
         {
          "font": {
           "family": "Arial, sans-serif",
           "size": 22
          },
          "showarrow": false,
          "text": "SUBJECT: 15",
          "x": 0.01,
          "xref": "paper",
          "y": 1.2,
          "yref": "paper"
         }
        ],
        "paper_bgcolor": "rgb(255,255,255)",
        "plot_bgcolor": "rgb(229,229,229)",
        "xaxis": {
         "domain": [
          0,
          0.45
         ],
         "gridcolor": "rgb(255,255,255)",
         "range": [
          -2,
          2
         ],
         "showgrid": true,
         "showline": false,
         "showticklabels": true,
         "tickcolor": "rgb(127,127,127)",
         "ticks": "outside",
         "title": "Net Value ($)",
         "zeroline": false
        },
        "xaxis2": {
         "domain": [
          0.55,
          1
         ],
         "gridcolor": "rgb(255,255,255)",
         "range": [
          -2,
          2
         ],
         "showgrid": true,
         "showline": false,
         "showticklabels": true,
         "tickcolor": "rgb(127,127,127)",
         "ticks": "outside",
         "title": "Net Value ($)",
         "zeroline": false
        },
        "yaxis1": {
         "anchor": "x1",
         "gridcolor": "rgb(255,255,255)",
         "range": [
          0
         ],
         "showgrid": true,
         "showline": false,
         "showticklabels": true,
         "tickcolor": "rgb(127,127,127)",
         "ticks": "outside",
         "title": "RT (s)",
         "zeroline": false
        },
        "yaxis2": {
         "anchor": "x2",
         "gridcolor": "rgb(255,255,255)",
         "range": [
          0
         ],
         "showgrid": true,
         "showline": false,
         "showticklabels": true,
         "tickcolor": "rgb(127,127,127)",
         "ticks": "outside",
         "title": "p (accept)",
         "zeroline": false
        }
       }
      },
      "text/html": [
       "<div id=\"daa2c78d-53d5-4cd5-83fe-15330f03d7db\" style=\"height: 525px; width: 100%;\" class=\"plotly-graph-div\"></div><script type=\"text/javascript\">require([\"plotly\"], function(Plotly) { window.PLOTLYENV=window.PLOTLYENV || {};window.PLOTLYENV.BASE_URL=\"https://plot.ly\";Plotly.newPlot(\"daa2c78d-53d5-4cd5-83fe-15330f03d7db\", [{\"type\": \"scatter\", \"x\": [-1.9084615384615384, -0.7883333333333333, -0.28647058823529414, 0.029210526315789458, 0.3188888888888888, 0.7157894736842105, 1.679230769230769], \"y\": [2.9552737949953354, 2.3677408923168626, 2.4658561379029003, 2.5238267371215017, 2.289951914292436, 2.5536627034874226, 2.1475658100937896], \"error_y\": {\"type\": \"data\", \"array\": [0.3567010076126107, 0.2103499017404514, 0.23592121519616596, 0.14616530230162392, 0.1637560550610461, 0.20646263968004017, 0.15110877526032843], \"color\": \"rgb(0,170,80)\", \"visible\": true}, \"line\": {\"color\": \"rgb(0,100,80)\"}, \"mode\": \"lines+markers\", \"name\": \"Test Data\"}, {\"type\": \"scatter\", \"x\": [-1.9084615384615384, -0.7883333333333333, -0.28647058823529414, 0.029210526315789458, 0.3188888888888888, 0.7157894736842105, 1.679230769230769], \"y\": [2.4851261642675655, 3.6740392524426126, 4.420995747111845, 4.265204780763802, 4.2913227833096235, 3.7982085587535157, 2.6854351830443273], \"error_y\": {\"type\": \"data\", \"array\": [0.010369513717334113, 0.01485597140918067, 0.018493499187527122, 0.01222124778792813, 0.017062477841434463, 0.015053861316035148, 0.00824775121533467], \"color\": \"rgb(0,100,246)\", \"visible\": true}, \"line\": {\"color\": \"rgb(0,176,246)\"}, \"mode\": \"lines+markers\", \"name\": \"Sim Data\"}, {\"type\": \"scatter\", \"x\": [-1.9084615384615384, -0.7883333333333333, -0.28647058823529414, 0.029210526315789458, 0.3188888888888888, 0.7157894736842105, 1.679230769230769], \"y\": [0.0, 0.3888888888888889, 0.29411764705882354, 0.631578947368421, 0.8333333333333334, 0.6842105263157895, 1.0], \"error_y\": {\"type\": \"data\", \"array\": [0.0, 0.11823563735376173, 0.11391127488845344, 0.0793021898421983, 0.0903876907577734, 0.10956136839295434, 0.0], \"color\": \"rgb(0,170,80)\", \"visible\": true}, \"line\": {\"color\": \"rgb(0,100,80)\"}, \"mode\": \"lines+markers\", \"name\": \"Test Data\", \"xaxis\": \"x2\", \"yaxis\": \"y2\"}, {\"type\": \"scatter\", \"x\": [-1.9084615384615384, -0.7883333333333333, -0.28647058823529414, 0.029210526315789458, 0.3188888888888888, 0.7157894736842105, 1.679230769230769], \"y\": [0.012547148025556154, 0.09725062485798681, 0.29148152850069825, 0.5924752475247524, 0.7616168800379327, 0.9008331529971868, 0.9895568400770713], \"error_y\": {\"type\": \"data\", \"array\": [0.0009766211370936457, 0.00223324543020893, 0.003620757768475708, 0.0026135062047055522, 0.0032804665785862515, 0.0021984632045945374, 0.0006310678041407116], \"color\": \"rgb(0,100,246)\", \"visible\": true}, \"line\": {\"color\": \"rgb(0,176,246)\"}, \"mode\": \"lines+markers\", \"name\": \"Sim Data\", \"xaxis\": \"x2\", \"yaxis\": \"y2\"}], {\"paper_bgcolor\": \"rgb(255,255,255)\", \"plot_bgcolor\": \"rgb(229,229,229)\", \"xaxis\": {\"gridcolor\": \"rgb(255,255,255)\", \"range\": [-2, 2], \"domain\": [0, 0.45], \"showgrid\": true, \"showline\": false, \"showticklabels\": true, \"tickcolor\": \"rgb(127,127,127)\", \"ticks\": \"outside\", \"title\": \"Net Value ($)\", \"zeroline\": false}, \"xaxis2\": {\"gridcolor\": \"rgb(255,255,255)\", \"range\": [-2, 2], \"domain\": [0.55, 1], \"showgrid\": true, \"showline\": false, \"showticklabels\": true, \"tickcolor\": \"rgb(127,127,127)\", \"ticks\": \"outside\", \"title\": \"Net Value ($)\", \"zeroline\": false}, \"yaxis1\": {\"gridcolor\": \"rgb(255,255,255)\", \"range\": [0], \"showgrid\": true, \"showline\": false, \"showticklabels\": true, \"tickcolor\": \"rgb(127,127,127)\", \"ticks\": \"outside\", \"title\": \"RT (s)\", \"anchor\": \"x1\", \"zeroline\": false}, \"yaxis2\": {\"gridcolor\": \"rgb(255,255,255)\", \"range\": [0], \"showgrid\": true, \"showline\": false, \"showticklabels\": true, \"tickcolor\": \"rgb(127,127,127)\", \"ticks\": \"outside\", \"title\": \"p (accept)\", \"anchor\": \"x2\", \"zeroline\": false}, \"annotations\": [{\"x\": 0.01, \"y\": 1.12, \"showarrow\": false, \"text\": \"PARAMETERS: v: 0.109, a: 0.221, \\u03b8: 0.28\", \"xref\": \"paper\", \"yref\": \"paper\"}, {\"x\": 0.01, \"y\": 1.08, \"showarrow\": false, \"text\": \"MLE: 650.03\", \"xref\": \"paper\", \"yref\": \"paper\"}, {\"x\": 0.01, \"y\": 1.2, \"showarrow\": false, \"text\": \"SUBJECT: 15\", \"font\": {\"family\": \"Arial, sans-serif\", \"size\": 22}, \"xref\": \"paper\", \"yref\": \"paper\"}]}, {\"showLink\": true, \"linkText\": \"Export to plot.ly\"})});</script>"
      ],
      "text/vnd.plotly.v1+html": [
       "<div id=\"daa2c78d-53d5-4cd5-83fe-15330f03d7db\" style=\"height: 525px; width: 100%;\" class=\"plotly-graph-div\"></div><script type=\"text/javascript\">require([\"plotly\"], function(Plotly) { window.PLOTLYENV=window.PLOTLYENV || {};window.PLOTLYENV.BASE_URL=\"https://plot.ly\";Plotly.newPlot(\"daa2c78d-53d5-4cd5-83fe-15330f03d7db\", [{\"type\": \"scatter\", \"x\": [-1.9084615384615384, -0.7883333333333333, -0.28647058823529414, 0.029210526315789458, 0.3188888888888888, 0.7157894736842105, 1.679230769230769], \"y\": [2.9552737949953354, 2.3677408923168626, 2.4658561379029003, 2.5238267371215017, 2.289951914292436, 2.5536627034874226, 2.1475658100937896], \"error_y\": {\"type\": \"data\", \"array\": [0.3567010076126107, 0.2103499017404514, 0.23592121519616596, 0.14616530230162392, 0.1637560550610461, 0.20646263968004017, 0.15110877526032843], \"color\": \"rgb(0,170,80)\", \"visible\": true}, \"line\": {\"color\": \"rgb(0,100,80)\"}, \"mode\": \"lines+markers\", \"name\": \"Test Data\"}, {\"type\": \"scatter\", \"x\": [-1.9084615384615384, -0.7883333333333333, -0.28647058823529414, 0.029210526315789458, 0.3188888888888888, 0.7157894736842105, 1.679230769230769], \"y\": [2.4851261642675655, 3.6740392524426126, 4.420995747111845, 4.265204780763802, 4.2913227833096235, 3.7982085587535157, 2.6854351830443273], \"error_y\": {\"type\": \"data\", \"array\": [0.010369513717334113, 0.01485597140918067, 0.018493499187527122, 0.01222124778792813, 0.017062477841434463, 0.015053861316035148, 0.00824775121533467], \"color\": \"rgb(0,100,246)\", \"visible\": true}, \"line\": {\"color\": \"rgb(0,176,246)\"}, \"mode\": \"lines+markers\", \"name\": \"Sim Data\"}, {\"type\": \"scatter\", \"x\": [-1.9084615384615384, -0.7883333333333333, -0.28647058823529414, 0.029210526315789458, 0.3188888888888888, 0.7157894736842105, 1.679230769230769], \"y\": [0.0, 0.3888888888888889, 0.29411764705882354, 0.631578947368421, 0.8333333333333334, 0.6842105263157895, 1.0], \"error_y\": {\"type\": \"data\", \"array\": [0.0, 0.11823563735376173, 0.11391127488845344, 0.0793021898421983, 0.0903876907577734, 0.10956136839295434, 0.0], \"color\": \"rgb(0,170,80)\", \"visible\": true}, \"line\": {\"color\": \"rgb(0,100,80)\"}, \"mode\": \"lines+markers\", \"name\": \"Test Data\", \"xaxis\": \"x2\", \"yaxis\": \"y2\"}, {\"type\": \"scatter\", \"x\": [-1.9084615384615384, -0.7883333333333333, -0.28647058823529414, 0.029210526315789458, 0.3188888888888888, 0.7157894736842105, 1.679230769230769], \"y\": [0.012547148025556154, 0.09725062485798681, 0.29148152850069825, 0.5924752475247524, 0.7616168800379327, 0.9008331529971868, 0.9895568400770713], \"error_y\": {\"type\": \"data\", \"array\": [0.0009766211370936457, 0.00223324543020893, 0.003620757768475708, 0.0026135062047055522, 0.0032804665785862515, 0.0021984632045945374, 0.0006310678041407116], \"color\": \"rgb(0,100,246)\", \"visible\": true}, \"line\": {\"color\": \"rgb(0,176,246)\"}, \"mode\": \"lines+markers\", \"name\": \"Sim Data\", \"xaxis\": \"x2\", \"yaxis\": \"y2\"}], {\"paper_bgcolor\": \"rgb(255,255,255)\", \"plot_bgcolor\": \"rgb(229,229,229)\", \"xaxis\": {\"gridcolor\": \"rgb(255,255,255)\", \"range\": [-2, 2], \"domain\": [0, 0.45], \"showgrid\": true, \"showline\": false, \"showticklabels\": true, \"tickcolor\": \"rgb(127,127,127)\", \"ticks\": \"outside\", \"title\": \"Net Value ($)\", \"zeroline\": false}, \"xaxis2\": {\"gridcolor\": \"rgb(255,255,255)\", \"range\": [-2, 2], \"domain\": [0.55, 1], \"showgrid\": true, \"showline\": false, \"showticklabels\": true, \"tickcolor\": \"rgb(127,127,127)\", \"ticks\": \"outside\", \"title\": \"Net Value ($)\", \"zeroline\": false}, \"yaxis1\": {\"gridcolor\": \"rgb(255,255,255)\", \"range\": [0], \"showgrid\": true, \"showline\": false, \"showticklabels\": true, \"tickcolor\": \"rgb(127,127,127)\", \"ticks\": \"outside\", \"title\": \"RT (s)\", \"anchor\": \"x1\", \"zeroline\": false}, \"yaxis2\": {\"gridcolor\": \"rgb(255,255,255)\", \"range\": [0], \"showgrid\": true, \"showline\": false, \"showticklabels\": true, \"tickcolor\": \"rgb(127,127,127)\", \"ticks\": \"outside\", \"title\": \"p (accept)\", \"anchor\": \"x2\", \"zeroline\": false}, \"annotations\": [{\"x\": 0.01, \"y\": 1.12, \"showarrow\": false, \"text\": \"PARAMETERS: v: 0.109, a: 0.221, \\u03b8: 0.28\", \"xref\": \"paper\", \"yref\": \"paper\"}, {\"x\": 0.01, \"y\": 1.08, \"showarrow\": false, \"text\": \"MLE: 650.03\", \"xref\": \"paper\", \"yref\": \"paper\"}, {\"x\": 0.01, \"y\": 1.2, \"showarrow\": false, \"text\": \"SUBJECT: 15\", \"font\": {\"family\": \"Arial, sans-serif\", \"size\": 22}, \"xref\": \"paper\", \"yref\": \"paper\"}]}, {\"showLink\": true, \"linkText\": \"Export to plot.ly\"})});</script>"
      ]
     },
     "metadata": {},
     "output_type": "display_data"
    },
    {
     "data": {
      "text/html": [
       "<script>requirejs.config({paths: { 'plotly': ['https://cdn.plot.ly/plotly-latest.min']},});if(!window.Plotly) {{require(['plotly'],function(plotly) {window.Plotly=plotly;});}}</script>"
      ],
      "text/vnd.plotly.v1+html": [
       "<script>requirejs.config({paths: { 'plotly': ['https://cdn.plot.ly/plotly-latest.min']},});if(!window.Plotly) {{require(['plotly'],function(plotly) {window.Plotly=plotly;});}}</script>"
      ]
     },
     "metadata": {},
     "output_type": "display_data"
    },
    {
     "data": {
      "application/vnd.plotly.v1+json": {
       "data": [
        {
         "error_y": {
          "array": [
           0.5155993844089763,
           0.4371406107692443,
           0.42851767156685155,
           0.3827105295676191,
           0.573180326126223,
           0.4453286957032869,
           0.2816722892419483
          ],
          "color": "rgb(0,170,80)",
          "type": "data",
          "visible": true
         },
         "line": {
          "color": "rgb(0,100,80)"
         },
         "mode": "lines+markers",
         "name": "Test Data",
         "type": "scatter",
         "x": [
          -1.596538461538462,
          -0.79375,
          -0.26629629629629636,
          0.03636363636363631,
          0.3371428571428572,
          0.7925000000000001,
          1.5489473684210522
         ],
         "y": [
          3.9572576339246908,
          3.201245195330557,
          4.084760400667114,
          4.246452928061692,
          3.614466961847419,
          3.3151928501989447,
          2.693178288522177
         ]
        },
        {
         "error_y": {
          "array": [
           0.009833087524023995,
           0.01684980892852581,
           0.014422695379251413,
           0.015388343840283184,
           0.020024046126816488,
           0.015101308703994757,
           0.011200461693143574
          ],
          "color": "rgb(0,100,246)",
          "type": "data",
          "visible": true
         },
         "line": {
          "color": "rgb(0,176,246)"
         },
         "mode": "lines+markers",
         "name": "Sim Data",
         "type": "scatter",
         "x": [
          -1.596538461538462,
          -0.79375,
          -0.26629629629629636,
          0.03636363636363631,
          0.3371428571428572,
          0.7925000000000001,
          1.5489473684210522
         ],
         "y": [
          3.0798007420003075,
          3.759198511484675,
          4.4522603850455456,
          4.088662338284624,
          4.265855140186898,
          3.848305758354798,
          2.8735524187152905
         ]
        },
        {
         "error_y": {
          "array": [
           0.038461538461538464,
           0.0625,
           0.07618086585254095,
           0.10729033533674225,
           0.11380392954509881,
           0,
           0.05263157894736841
          ],
          "color": "rgb(0,170,80)",
          "type": "data",
          "visible": true
         },
         "line": {
          "color": "rgb(0,100,80)"
         },
         "mode": "lines+markers",
         "name": "Test Data",
         "type": "scatter",
         "x": [
          -1.596538461538462,
          -0.79375,
          -0.26629629629629636,
          0.03636363636363631,
          0.3371428571428572,
          0.7925000000000001,
          1.5489473684210522
         ],
         "xaxis": "x2",
         "y": [
          0.038461538461538464,
          0.0625,
          0.18518518518518517,
          0.5909090909090909,
          0.7857142857142857,
          1,
          0.9473684210526315
         ],
         "yaxis": "y2"
        },
        {
         "error_y": {
          "array": [
           0.001042929585862344,
           0.0029290770238601972,
           0.00303047958067987,
           0.0034514821828941526,
           0.003659776879512231,
           0.0025947854049451946,
           0.0012152561021091808
          ],
          "color": "rgb(0,100,246)",
          "type": "data",
          "visible": true
         },
         "line": {
          "color": "rgb(0,176,246)"
         },
         "mode": "lines+markers",
         "name": "Sim Data",
         "type": "scatter",
         "x": [
          -1.596538461538462,
          -0.79375,
          -0.26629629629629636,
          0.03636363636363631,
          0.3371428571428572,
          0.7925000000000001,
          1.5489473684210522
         ],
         "xaxis": "x2",
         "y": [
          0.028984387076827947,
          0.15898883613499296,
          0.3582840709378495,
          0.46267369429803545,
          0.774168837138042,
          0.8450385604113111,
          0.9712397568067671
         ],
         "yaxis": "y2"
        }
       ],
       "layout": {
        "annotations": [
         {
          "showarrow": false,
          "text": "PARAMETERS: v: 0.109, a: 0.221, θ: 0.1",
          "x": 0.01,
          "xref": "paper",
          "y": 1.12,
          "yref": "paper"
         },
         {
          "showarrow": false,
          "text": "MLE: 647.15",
          "x": 0.01,
          "xref": "paper",
          "y": 1.08,
          "yref": "paper"
         },
         {
          "font": {
           "family": "Arial, sans-serif",
           "size": 22
          },
          "showarrow": false,
          "text": "SUBJECT: 16",
          "x": 0.01,
          "xref": "paper",
          "y": 1.2,
          "yref": "paper"
         }
        ],
        "paper_bgcolor": "rgb(255,255,255)",
        "plot_bgcolor": "rgb(229,229,229)",
        "xaxis": {
         "domain": [
          0,
          0.45
         ],
         "gridcolor": "rgb(255,255,255)",
         "range": [
          -2,
          2
         ],
         "showgrid": true,
         "showline": false,
         "showticklabels": true,
         "tickcolor": "rgb(127,127,127)",
         "ticks": "outside",
         "title": "Net Value ($)",
         "zeroline": false
        },
        "xaxis2": {
         "domain": [
          0.55,
          1
         ],
         "gridcolor": "rgb(255,255,255)",
         "range": [
          -2,
          2
         ],
         "showgrid": true,
         "showline": false,
         "showticklabels": true,
         "tickcolor": "rgb(127,127,127)",
         "ticks": "outside",
         "title": "Net Value ($)",
         "zeroline": false
        },
        "yaxis1": {
         "anchor": "x1",
         "gridcolor": "rgb(255,255,255)",
         "range": [
          0
         ],
         "showgrid": true,
         "showline": false,
         "showticklabels": true,
         "tickcolor": "rgb(127,127,127)",
         "ticks": "outside",
         "title": "RT (s)",
         "zeroline": false
        },
        "yaxis2": {
         "anchor": "x2",
         "gridcolor": "rgb(255,255,255)",
         "range": [
          0
         ],
         "showgrid": true,
         "showline": false,
         "showticklabels": true,
         "tickcolor": "rgb(127,127,127)",
         "ticks": "outside",
         "title": "p (accept)",
         "zeroline": false
        }
       }
      },
      "text/html": [
       "<div id=\"5cd11165-631b-4e5a-ac42-6a33652c0017\" style=\"height: 525px; width: 100%;\" class=\"plotly-graph-div\"></div><script type=\"text/javascript\">require([\"plotly\"], function(Plotly) { window.PLOTLYENV=window.PLOTLYENV || {};window.PLOTLYENV.BASE_URL=\"https://plot.ly\";Plotly.newPlot(\"5cd11165-631b-4e5a-ac42-6a33652c0017\", [{\"type\": \"scatter\", \"x\": [-1.596538461538462, -0.79375, -0.26629629629629636, 0.03636363636363631, 0.3371428571428572, 0.7925000000000001, 1.5489473684210522], \"y\": [3.9572576339246908, 3.201245195330557, 4.084760400667114, 4.246452928061692, 3.614466961847419, 3.3151928501989447, 2.693178288522177], \"error_y\": {\"type\": \"data\", \"array\": [0.5155993844089763, 0.4371406107692443, 0.42851767156685155, 0.3827105295676191, 0.573180326126223, 0.4453286957032869, 0.2816722892419483], \"color\": \"rgb(0,170,80)\", \"visible\": true}, \"line\": {\"color\": \"rgb(0,100,80)\"}, \"mode\": \"lines+markers\", \"name\": \"Test Data\"}, {\"type\": \"scatter\", \"x\": [-1.596538461538462, -0.79375, -0.26629629629629636, 0.03636363636363631, 0.3371428571428572, 0.7925000000000001, 1.5489473684210522], \"y\": [3.0798007420003075, 3.759198511484675, 4.4522603850455456, 4.088662338284624, 4.265855140186898, 3.848305758354798, 2.8735524187152905], \"error_y\": {\"type\": \"data\", \"array\": [0.009833087524023995, 0.01684980892852581, 0.014422695379251413, 0.015388343840283184, 0.020024046126816488, 0.015101308703994757, 0.011200461693143574], \"color\": \"rgb(0,100,246)\", \"visible\": true}, \"line\": {\"color\": \"rgb(0,176,246)\"}, \"mode\": \"lines+markers\", \"name\": \"Sim Data\"}, {\"type\": \"scatter\", \"x\": [-1.596538461538462, -0.79375, -0.26629629629629636, 0.03636363636363631, 0.3371428571428572, 0.7925000000000001, 1.5489473684210522], \"y\": [0.038461538461538464, 0.0625, 0.18518518518518517, 0.5909090909090909, 0.7857142857142857, 1.0, 0.9473684210526315], \"error_y\": {\"type\": \"data\", \"array\": [0.038461538461538464, 0.0625, 0.07618086585254095, 0.10729033533674225, 0.11380392954509881, 0.0, 0.05263157894736841], \"color\": \"rgb(0,170,80)\", \"visible\": true}, \"line\": {\"color\": \"rgb(0,100,80)\"}, \"mode\": \"lines+markers\", \"name\": \"Test Data\", \"xaxis\": \"x2\", \"yaxis\": \"y2\"}, {\"type\": \"scatter\", \"x\": [-1.596538461538462, -0.79375, -0.26629629629629636, 0.03636363636363631, 0.3371428571428572, 0.7925000000000001, 1.5489473684210522], \"y\": [0.028984387076827947, 0.15898883613499296, 0.3582840709378495, 0.46267369429803545, 0.774168837138042, 0.8450385604113111, 0.9712397568067671], \"error_y\": {\"type\": \"data\", \"array\": [0.001042929585862344, 0.0029290770238601972, 0.00303047958067987, 0.0034514821828941526, 0.003659776879512231, 0.0025947854049451946, 0.0012152561021091808], \"color\": \"rgb(0,100,246)\", \"visible\": true}, \"line\": {\"color\": \"rgb(0,176,246)\"}, \"mode\": \"lines+markers\", \"name\": \"Sim Data\", \"xaxis\": \"x2\", \"yaxis\": \"y2\"}], {\"paper_bgcolor\": \"rgb(255,255,255)\", \"plot_bgcolor\": \"rgb(229,229,229)\", \"xaxis\": {\"gridcolor\": \"rgb(255,255,255)\", \"range\": [-2, 2], \"domain\": [0, 0.45], \"showgrid\": true, \"showline\": false, \"showticklabels\": true, \"tickcolor\": \"rgb(127,127,127)\", \"ticks\": \"outside\", \"title\": \"Net Value ($)\", \"zeroline\": false}, \"xaxis2\": {\"gridcolor\": \"rgb(255,255,255)\", \"range\": [-2, 2], \"domain\": [0.55, 1], \"showgrid\": true, \"showline\": false, \"showticklabels\": true, \"tickcolor\": \"rgb(127,127,127)\", \"ticks\": \"outside\", \"title\": \"Net Value ($)\", \"zeroline\": false}, \"yaxis1\": {\"gridcolor\": \"rgb(255,255,255)\", \"range\": [0], \"showgrid\": true, \"showline\": false, \"showticklabels\": true, \"tickcolor\": \"rgb(127,127,127)\", \"ticks\": \"outside\", \"title\": \"RT (s)\", \"anchor\": \"x1\", \"zeroline\": false}, \"yaxis2\": {\"gridcolor\": \"rgb(255,255,255)\", \"range\": [0], \"showgrid\": true, \"showline\": false, \"showticklabels\": true, \"tickcolor\": \"rgb(127,127,127)\", \"ticks\": \"outside\", \"title\": \"p (accept)\", \"anchor\": \"x2\", \"zeroline\": false}, \"annotations\": [{\"x\": 0.01, \"y\": 1.12, \"showarrow\": false, \"text\": \"PARAMETERS: v: 0.109, a: 0.221, \\u03b8: 0.1\", \"xref\": \"paper\", \"yref\": \"paper\"}, {\"x\": 0.01, \"y\": 1.08, \"showarrow\": false, \"text\": \"MLE: 647.15\", \"xref\": \"paper\", \"yref\": \"paper\"}, {\"x\": 0.01, \"y\": 1.2, \"showarrow\": false, \"text\": \"SUBJECT: 16\", \"font\": {\"family\": \"Arial, sans-serif\", \"size\": 22}, \"xref\": \"paper\", \"yref\": \"paper\"}]}, {\"showLink\": true, \"linkText\": \"Export to plot.ly\"})});</script>"
      ],
      "text/vnd.plotly.v1+html": [
       "<div id=\"5cd11165-631b-4e5a-ac42-6a33652c0017\" style=\"height: 525px; width: 100%;\" class=\"plotly-graph-div\"></div><script type=\"text/javascript\">require([\"plotly\"], function(Plotly) { window.PLOTLYENV=window.PLOTLYENV || {};window.PLOTLYENV.BASE_URL=\"https://plot.ly\";Plotly.newPlot(\"5cd11165-631b-4e5a-ac42-6a33652c0017\", [{\"type\": \"scatter\", \"x\": [-1.596538461538462, -0.79375, -0.26629629629629636, 0.03636363636363631, 0.3371428571428572, 0.7925000000000001, 1.5489473684210522], \"y\": [3.9572576339246908, 3.201245195330557, 4.084760400667114, 4.246452928061692, 3.614466961847419, 3.3151928501989447, 2.693178288522177], \"error_y\": {\"type\": \"data\", \"array\": [0.5155993844089763, 0.4371406107692443, 0.42851767156685155, 0.3827105295676191, 0.573180326126223, 0.4453286957032869, 0.2816722892419483], \"color\": \"rgb(0,170,80)\", \"visible\": true}, \"line\": {\"color\": \"rgb(0,100,80)\"}, \"mode\": \"lines+markers\", \"name\": \"Test Data\"}, {\"type\": \"scatter\", \"x\": [-1.596538461538462, -0.79375, -0.26629629629629636, 0.03636363636363631, 0.3371428571428572, 0.7925000000000001, 1.5489473684210522], \"y\": [3.0798007420003075, 3.759198511484675, 4.4522603850455456, 4.088662338284624, 4.265855140186898, 3.848305758354798, 2.8735524187152905], \"error_y\": {\"type\": \"data\", \"array\": [0.009833087524023995, 0.01684980892852581, 0.014422695379251413, 0.015388343840283184, 0.020024046126816488, 0.015101308703994757, 0.011200461693143574], \"color\": \"rgb(0,100,246)\", \"visible\": true}, \"line\": {\"color\": \"rgb(0,176,246)\"}, \"mode\": \"lines+markers\", \"name\": \"Sim Data\"}, {\"type\": \"scatter\", \"x\": [-1.596538461538462, -0.79375, -0.26629629629629636, 0.03636363636363631, 0.3371428571428572, 0.7925000000000001, 1.5489473684210522], \"y\": [0.038461538461538464, 0.0625, 0.18518518518518517, 0.5909090909090909, 0.7857142857142857, 1.0, 0.9473684210526315], \"error_y\": {\"type\": \"data\", \"array\": [0.038461538461538464, 0.0625, 0.07618086585254095, 0.10729033533674225, 0.11380392954509881, 0.0, 0.05263157894736841], \"color\": \"rgb(0,170,80)\", \"visible\": true}, \"line\": {\"color\": \"rgb(0,100,80)\"}, \"mode\": \"lines+markers\", \"name\": \"Test Data\", \"xaxis\": \"x2\", \"yaxis\": \"y2\"}, {\"type\": \"scatter\", \"x\": [-1.596538461538462, -0.79375, -0.26629629629629636, 0.03636363636363631, 0.3371428571428572, 0.7925000000000001, 1.5489473684210522], \"y\": [0.028984387076827947, 0.15898883613499296, 0.3582840709378495, 0.46267369429803545, 0.774168837138042, 0.8450385604113111, 0.9712397568067671], \"error_y\": {\"type\": \"data\", \"array\": [0.001042929585862344, 0.0029290770238601972, 0.00303047958067987, 0.0034514821828941526, 0.003659776879512231, 0.0025947854049451946, 0.0012152561021091808], \"color\": \"rgb(0,100,246)\", \"visible\": true}, \"line\": {\"color\": \"rgb(0,176,246)\"}, \"mode\": \"lines+markers\", \"name\": \"Sim Data\", \"xaxis\": \"x2\", \"yaxis\": \"y2\"}], {\"paper_bgcolor\": \"rgb(255,255,255)\", \"plot_bgcolor\": \"rgb(229,229,229)\", \"xaxis\": {\"gridcolor\": \"rgb(255,255,255)\", \"range\": [-2, 2], \"domain\": [0, 0.45], \"showgrid\": true, \"showline\": false, \"showticklabels\": true, \"tickcolor\": \"rgb(127,127,127)\", \"ticks\": \"outside\", \"title\": \"Net Value ($)\", \"zeroline\": false}, \"xaxis2\": {\"gridcolor\": \"rgb(255,255,255)\", \"range\": [-2, 2], \"domain\": [0.55, 1], \"showgrid\": true, \"showline\": false, \"showticklabels\": true, \"tickcolor\": \"rgb(127,127,127)\", \"ticks\": \"outside\", \"title\": \"Net Value ($)\", \"zeroline\": false}, \"yaxis1\": {\"gridcolor\": \"rgb(255,255,255)\", \"range\": [0], \"showgrid\": true, \"showline\": false, \"showticklabels\": true, \"tickcolor\": \"rgb(127,127,127)\", \"ticks\": \"outside\", \"title\": \"RT (s)\", \"anchor\": \"x1\", \"zeroline\": false}, \"yaxis2\": {\"gridcolor\": \"rgb(255,255,255)\", \"range\": [0], \"showgrid\": true, \"showline\": false, \"showticklabels\": true, \"tickcolor\": \"rgb(127,127,127)\", \"ticks\": \"outside\", \"title\": \"p (accept)\", \"anchor\": \"x2\", \"zeroline\": false}, \"annotations\": [{\"x\": 0.01, \"y\": 1.12, \"showarrow\": false, \"text\": \"PARAMETERS: v: 0.109, a: 0.221, \\u03b8: 0.1\", \"xref\": \"paper\", \"yref\": \"paper\"}, {\"x\": 0.01, \"y\": 1.08, \"showarrow\": false, \"text\": \"MLE: 647.15\", \"xref\": \"paper\", \"yref\": \"paper\"}, {\"x\": 0.01, \"y\": 1.2, \"showarrow\": false, \"text\": \"SUBJECT: 16\", \"font\": {\"family\": \"Arial, sans-serif\", \"size\": 22}, \"xref\": \"paper\", \"yref\": \"paper\"}]}, {\"showLink\": true, \"linkText\": \"Export to plot.ly\"})});</script>"
      ]
     },
     "metadata": {},
     "output_type": "display_data"
    },
    {
     "data": {
      "text/html": [
       "<script>requirejs.config({paths: { 'plotly': ['https://cdn.plot.ly/plotly-latest.min']},});if(!window.Plotly) {{require(['plotly'],function(plotly) {window.Plotly=plotly;});}}</script>"
      ],
      "text/vnd.plotly.v1+html": [
       "<script>requirejs.config({paths: { 'plotly': ['https://cdn.plot.ly/plotly-latest.min']},});if(!window.Plotly) {{require(['plotly'],function(plotly) {window.Plotly=plotly;});}}</script>"
      ]
     },
     "metadata": {},
     "output_type": "display_data"
    },
    {
     "data": {
      "application/vnd.plotly.v1+json": {
       "data": [
        {
         "error_y": {
          "array": [
           0.3186301028894171,
           0.33573353920319327,
           0.5125059552199829,
           0.2558821801821235,
           0.31212419771003,
           0.3220052859472622,
           0.060707629484974435
          ],
          "color": "rgb(0,170,80)",
          "type": "data",
          "visible": true
         },
         "line": {
          "color": "rgb(0,100,80)"
         },
         "mode": "lines+markers",
         "name": "Test Data",
         "type": "scatter",
         "x": [
          -1.8164285714285715,
          -0.763181818181818,
          -0.3170588235294118,
          0.023181818181818147,
          0.324,
          0.8175000000000001,
          1.630434782608696
         ],
         "y": [
          2.088870704373611,
          2.7569758453887934,
          3.795318903062519,
          2.4751631152890194,
          2.5676745259319445,
          2.361632085216116,
          1.311077429497938
         ]
        },
        {
         "error_y": {
          "array": [
           0.004340777754786573,
           0.008010161540390756,
           0.01088754839822688,
           0.010007124333664881,
           0.01012284705597363,
           0.009123450873727259,
           0.005209922717634729
          ],
          "color": "rgb(0,100,246)",
          "type": "data",
          "visible": true
         },
         "line": {
          "color": "rgb(0,176,246)"
         },
         "mode": "lines+markers",
         "name": "Sim Data",
         "type": "scatter",
         "x": [
          -1.8164285714285715,
          -0.763181818181818,
          -0.3170588235294118,
          0.023181818181818147,
          0.324,
          0.8175000000000001,
          1.630434782608696
         ],
         "y": [
          1.7591717500000037,
          2.3343571136270542,
          2.5840419905771537,
          2.668371161731187,
          2.6029700200200176,
          2.286595486653733,
          1.8402314347826099
         ]
        },
        {
         "error_y": {
          "array": [
           0,
           0.04545454545454545,
           0.11947115300935236,
           0.1049727762162956,
           0.08191780219091252,
           0,
           0
          ],
          "color": "rgb(0,170,80)",
          "type": "data",
          "visible": true
         },
         "line": {
          "color": "rgb(0,100,80)"
         },
         "mode": "lines+markers",
         "name": "Test Data",
         "type": "scatter",
         "x": [
          -1.8164285714285715,
          -0.763181818181818,
          -0.3170588235294118,
          0.023181818181818147,
          0.324,
          0.8175000000000001,
          1.630434782608696
         ],
         "xaxis": "x2",
         "y": [
          0,
          0.045454545454545456,
          0.35294117647058826,
          0.6363636363636364,
          0.85,
          1,
          1
         ],
         "yaxis": "y2"
        },
        {
         "error_y": {
          "array": [
           0.0010597316545640169,
           0.0024543746829798936,
           0.0036247123869317444,
           0.0033747216315761453,
           0.003334834246335344,
           0.0028283038613870115,
           0.0013200528307264199
          ],
          "color": "rgb(0,100,246)",
          "type": "data",
          "visible": true
         },
         "line": {
          "color": "rgb(0,176,246)"
         },
         "mode": "lines+markers",
         "name": "Sim Data",
         "type": "scatter",
         "x": [
          -1.8164285714285715,
          -0.763181818181818,
          -0.3170588235294118,
          0.023181818181818147,
          0.324,
          0.8175000000000001,
          1.630434782608696
         ],
         "xaxis": "x2",
         "y": [
          0.0325,
          0.15718637748374484,
          0.335924617196702,
          0.5053302961275626,
          0.6667667667667667,
          0.8493467525160968,
          0.9581739130434782
         ],
         "yaxis": "y2"
        }
       ],
       "layout": {
        "annotations": [
         {
          "showarrow": false,
          "text": "PARAMETERS: v: 0.088, a: 0.136, θ: 0.82",
          "x": 0.01,
          "xref": "paper",
          "y": 1.12,
          "yref": "paper"
         },
         {
          "showarrow": false,
          "text": "MLE: 606.35",
          "x": 0.01,
          "xref": "paper",
          "y": 1.08,
          "yref": "paper"
         },
         {
          "font": {
           "family": "Arial, sans-serif",
           "size": 22
          },
          "showarrow": false,
          "text": "SUBJECT: 17",
          "x": 0.01,
          "xref": "paper",
          "y": 1.2,
          "yref": "paper"
         }
        ],
        "paper_bgcolor": "rgb(255,255,255)",
        "plot_bgcolor": "rgb(229,229,229)",
        "xaxis": {
         "domain": [
          0,
          0.45
         ],
         "gridcolor": "rgb(255,255,255)",
         "range": [
          -2,
          2
         ],
         "showgrid": true,
         "showline": false,
         "showticklabels": true,
         "tickcolor": "rgb(127,127,127)",
         "ticks": "outside",
         "title": "Net Value ($)",
         "zeroline": false
        },
        "xaxis2": {
         "domain": [
          0.55,
          1
         ],
         "gridcolor": "rgb(255,255,255)",
         "range": [
          -2,
          2
         ],
         "showgrid": true,
         "showline": false,
         "showticklabels": true,
         "tickcolor": "rgb(127,127,127)",
         "ticks": "outside",
         "title": "Net Value ($)",
         "zeroline": false
        },
        "yaxis1": {
         "anchor": "x1",
         "gridcolor": "rgb(255,255,255)",
         "range": [
          0
         ],
         "showgrid": true,
         "showline": false,
         "showticklabels": true,
         "tickcolor": "rgb(127,127,127)",
         "ticks": "outside",
         "title": "RT (s)",
         "zeroline": false
        },
        "yaxis2": {
         "anchor": "x2",
         "gridcolor": "rgb(255,255,255)",
         "range": [
          0
         ],
         "showgrid": true,
         "showline": false,
         "showticklabels": true,
         "tickcolor": "rgb(127,127,127)",
         "ticks": "outside",
         "title": "p (accept)",
         "zeroline": false
        }
       }
      },
      "text/html": [
       "<div id=\"ec36aca7-00e2-4d19-8539-256856dd4cf4\" style=\"height: 525px; width: 100%;\" class=\"plotly-graph-div\"></div><script type=\"text/javascript\">require([\"plotly\"], function(Plotly) { window.PLOTLYENV=window.PLOTLYENV || {};window.PLOTLYENV.BASE_URL=\"https://plot.ly\";Plotly.newPlot(\"ec36aca7-00e2-4d19-8539-256856dd4cf4\", [{\"type\": \"scatter\", \"x\": [-1.8164285714285715, -0.763181818181818, -0.3170588235294118, 0.023181818181818147, 0.324, 0.8175000000000001, 1.630434782608696], \"y\": [2.088870704373611, 2.7569758453887934, 3.795318903062519, 2.4751631152890194, 2.5676745259319445, 2.361632085216116, 1.311077429497938], \"error_y\": {\"type\": \"data\", \"array\": [0.3186301028894171, 0.33573353920319327, 0.5125059552199829, 0.2558821801821235, 0.31212419771003, 0.3220052859472622, 0.060707629484974435], \"color\": \"rgb(0,170,80)\", \"visible\": true}, \"line\": {\"color\": \"rgb(0,100,80)\"}, \"mode\": \"lines+markers\", \"name\": \"Test Data\"}, {\"type\": \"scatter\", \"x\": [-1.8164285714285715, -0.763181818181818, -0.3170588235294118, 0.023181818181818147, 0.324, 0.8175000000000001, 1.630434782608696], \"y\": [1.7591717500000037, 2.3343571136270542, 2.5840419905771537, 2.668371161731187, 2.6029700200200176, 2.286595486653733, 1.8402314347826099], \"error_y\": {\"type\": \"data\", \"array\": [0.004340777754786573, 0.008010161540390756, 0.01088754839822688, 0.010007124333664881, 0.01012284705597363, 0.009123450873727259, 0.005209922717634729], \"color\": \"rgb(0,100,246)\", \"visible\": true}, \"line\": {\"color\": \"rgb(0,176,246)\"}, \"mode\": \"lines+markers\", \"name\": \"Sim Data\"}, {\"type\": \"scatter\", \"x\": [-1.8164285714285715, -0.763181818181818, -0.3170588235294118, 0.023181818181818147, 0.324, 0.8175000000000001, 1.630434782608696], \"y\": [0.0, 0.045454545454545456, 0.35294117647058826, 0.6363636363636364, 0.85, 1.0, 1.0], \"error_y\": {\"type\": \"data\", \"array\": [0.0, 0.04545454545454545, 0.11947115300935236, 0.1049727762162956, 0.08191780219091252, 0.0, 0.0], \"color\": \"rgb(0,170,80)\", \"visible\": true}, \"line\": {\"color\": \"rgb(0,100,80)\"}, \"mode\": \"lines+markers\", \"name\": \"Test Data\", \"xaxis\": \"x2\", \"yaxis\": \"y2\"}, {\"type\": \"scatter\", \"x\": [-1.8164285714285715, -0.763181818181818, -0.3170588235294118, 0.023181818181818147, 0.324, 0.8175000000000001, 1.630434782608696], \"y\": [0.0325, 0.15718637748374484, 0.335924617196702, 0.5053302961275626, 0.6667667667667667, 0.8493467525160968, 0.9581739130434782], \"error_y\": {\"type\": \"data\", \"array\": [0.0010597316545640169, 0.0024543746829798936, 0.0036247123869317444, 0.0033747216315761453, 0.003334834246335344, 0.0028283038613870115, 0.0013200528307264199], \"color\": \"rgb(0,100,246)\", \"visible\": true}, \"line\": {\"color\": \"rgb(0,176,246)\"}, \"mode\": \"lines+markers\", \"name\": \"Sim Data\", \"xaxis\": \"x2\", \"yaxis\": \"y2\"}], {\"paper_bgcolor\": \"rgb(255,255,255)\", \"plot_bgcolor\": \"rgb(229,229,229)\", \"xaxis\": {\"gridcolor\": \"rgb(255,255,255)\", \"range\": [-2, 2], \"domain\": [0, 0.45], \"showgrid\": true, \"showline\": false, \"showticklabels\": true, \"tickcolor\": \"rgb(127,127,127)\", \"ticks\": \"outside\", \"title\": \"Net Value ($)\", \"zeroline\": false}, \"xaxis2\": {\"gridcolor\": \"rgb(255,255,255)\", \"range\": [-2, 2], \"domain\": [0.55, 1], \"showgrid\": true, \"showline\": false, \"showticklabels\": true, \"tickcolor\": \"rgb(127,127,127)\", \"ticks\": \"outside\", \"title\": \"Net Value ($)\", \"zeroline\": false}, \"yaxis1\": {\"gridcolor\": \"rgb(255,255,255)\", \"range\": [0], \"showgrid\": true, \"showline\": false, \"showticklabels\": true, \"tickcolor\": \"rgb(127,127,127)\", \"ticks\": \"outside\", \"title\": \"RT (s)\", \"anchor\": \"x1\", \"zeroline\": false}, \"yaxis2\": {\"gridcolor\": \"rgb(255,255,255)\", \"range\": [0], \"showgrid\": true, \"showline\": false, \"showticklabels\": true, \"tickcolor\": \"rgb(127,127,127)\", \"ticks\": \"outside\", \"title\": \"p (accept)\", \"anchor\": \"x2\", \"zeroline\": false}, \"annotations\": [{\"x\": 0.01, \"y\": 1.12, \"showarrow\": false, \"text\": \"PARAMETERS: v: 0.088, a: 0.136, \\u03b8: 0.82\", \"xref\": \"paper\", \"yref\": \"paper\"}, {\"x\": 0.01, \"y\": 1.08, \"showarrow\": false, \"text\": \"MLE: 606.35\", \"xref\": \"paper\", \"yref\": \"paper\"}, {\"x\": 0.01, \"y\": 1.2, \"showarrow\": false, \"text\": \"SUBJECT: 17\", \"font\": {\"family\": \"Arial, sans-serif\", \"size\": 22}, \"xref\": \"paper\", \"yref\": \"paper\"}]}, {\"showLink\": true, \"linkText\": \"Export to plot.ly\"})});</script>"
      ],
      "text/vnd.plotly.v1+html": [
       "<div id=\"ec36aca7-00e2-4d19-8539-256856dd4cf4\" style=\"height: 525px; width: 100%;\" class=\"plotly-graph-div\"></div><script type=\"text/javascript\">require([\"plotly\"], function(Plotly) { window.PLOTLYENV=window.PLOTLYENV || {};window.PLOTLYENV.BASE_URL=\"https://plot.ly\";Plotly.newPlot(\"ec36aca7-00e2-4d19-8539-256856dd4cf4\", [{\"type\": \"scatter\", \"x\": [-1.8164285714285715, -0.763181818181818, -0.3170588235294118, 0.023181818181818147, 0.324, 0.8175000000000001, 1.630434782608696], \"y\": [2.088870704373611, 2.7569758453887934, 3.795318903062519, 2.4751631152890194, 2.5676745259319445, 2.361632085216116, 1.311077429497938], \"error_y\": {\"type\": \"data\", \"array\": [0.3186301028894171, 0.33573353920319327, 0.5125059552199829, 0.2558821801821235, 0.31212419771003, 0.3220052859472622, 0.060707629484974435], \"color\": \"rgb(0,170,80)\", \"visible\": true}, \"line\": {\"color\": \"rgb(0,100,80)\"}, \"mode\": \"lines+markers\", \"name\": \"Test Data\"}, {\"type\": \"scatter\", \"x\": [-1.8164285714285715, -0.763181818181818, -0.3170588235294118, 0.023181818181818147, 0.324, 0.8175000000000001, 1.630434782608696], \"y\": [1.7591717500000037, 2.3343571136270542, 2.5840419905771537, 2.668371161731187, 2.6029700200200176, 2.286595486653733, 1.8402314347826099], \"error_y\": {\"type\": \"data\", \"array\": [0.004340777754786573, 0.008010161540390756, 0.01088754839822688, 0.010007124333664881, 0.01012284705597363, 0.009123450873727259, 0.005209922717634729], \"color\": \"rgb(0,100,246)\", \"visible\": true}, \"line\": {\"color\": \"rgb(0,176,246)\"}, \"mode\": \"lines+markers\", \"name\": \"Sim Data\"}, {\"type\": \"scatter\", \"x\": [-1.8164285714285715, -0.763181818181818, -0.3170588235294118, 0.023181818181818147, 0.324, 0.8175000000000001, 1.630434782608696], \"y\": [0.0, 0.045454545454545456, 0.35294117647058826, 0.6363636363636364, 0.85, 1.0, 1.0], \"error_y\": {\"type\": \"data\", \"array\": [0.0, 0.04545454545454545, 0.11947115300935236, 0.1049727762162956, 0.08191780219091252, 0.0, 0.0], \"color\": \"rgb(0,170,80)\", \"visible\": true}, \"line\": {\"color\": \"rgb(0,100,80)\"}, \"mode\": \"lines+markers\", \"name\": \"Test Data\", \"xaxis\": \"x2\", \"yaxis\": \"y2\"}, {\"type\": \"scatter\", \"x\": [-1.8164285714285715, -0.763181818181818, -0.3170588235294118, 0.023181818181818147, 0.324, 0.8175000000000001, 1.630434782608696], \"y\": [0.0325, 0.15718637748374484, 0.335924617196702, 0.5053302961275626, 0.6667667667667667, 0.8493467525160968, 0.9581739130434782], \"error_y\": {\"type\": \"data\", \"array\": [0.0010597316545640169, 0.0024543746829798936, 0.0036247123869317444, 0.0033747216315761453, 0.003334834246335344, 0.0028283038613870115, 0.0013200528307264199], \"color\": \"rgb(0,100,246)\", \"visible\": true}, \"line\": {\"color\": \"rgb(0,176,246)\"}, \"mode\": \"lines+markers\", \"name\": \"Sim Data\", \"xaxis\": \"x2\", \"yaxis\": \"y2\"}], {\"paper_bgcolor\": \"rgb(255,255,255)\", \"plot_bgcolor\": \"rgb(229,229,229)\", \"xaxis\": {\"gridcolor\": \"rgb(255,255,255)\", \"range\": [-2, 2], \"domain\": [0, 0.45], \"showgrid\": true, \"showline\": false, \"showticklabels\": true, \"tickcolor\": \"rgb(127,127,127)\", \"ticks\": \"outside\", \"title\": \"Net Value ($)\", \"zeroline\": false}, \"xaxis2\": {\"gridcolor\": \"rgb(255,255,255)\", \"range\": [-2, 2], \"domain\": [0.55, 1], \"showgrid\": true, \"showline\": false, \"showticklabels\": true, \"tickcolor\": \"rgb(127,127,127)\", \"ticks\": \"outside\", \"title\": \"Net Value ($)\", \"zeroline\": false}, \"yaxis1\": {\"gridcolor\": \"rgb(255,255,255)\", \"range\": [0], \"showgrid\": true, \"showline\": false, \"showticklabels\": true, \"tickcolor\": \"rgb(127,127,127)\", \"ticks\": \"outside\", \"title\": \"RT (s)\", \"anchor\": \"x1\", \"zeroline\": false}, \"yaxis2\": {\"gridcolor\": \"rgb(255,255,255)\", \"range\": [0], \"showgrid\": true, \"showline\": false, \"showticklabels\": true, \"tickcolor\": \"rgb(127,127,127)\", \"ticks\": \"outside\", \"title\": \"p (accept)\", \"anchor\": \"x2\", \"zeroline\": false}, \"annotations\": [{\"x\": 0.01, \"y\": 1.12, \"showarrow\": false, \"text\": \"PARAMETERS: v: 0.088, a: 0.136, \\u03b8: 0.82\", \"xref\": \"paper\", \"yref\": \"paper\"}, {\"x\": 0.01, \"y\": 1.08, \"showarrow\": false, \"text\": \"MLE: 606.35\", \"xref\": \"paper\", \"yref\": \"paper\"}, {\"x\": 0.01, \"y\": 1.2, \"showarrow\": false, \"text\": \"SUBJECT: 17\", \"font\": {\"family\": \"Arial, sans-serif\", \"size\": 22}, \"xref\": \"paper\", \"yref\": \"paper\"}]}, {\"showLink\": true, \"linkText\": \"Export to plot.ly\"})});</script>"
      ]
     },
     "metadata": {},
     "output_type": "display_data"
    },
    {
     "data": {
      "text/html": [
       "<script>requirejs.config({paths: { 'plotly': ['https://cdn.plot.ly/plotly-latest.min']},});if(!window.Plotly) {{require(['plotly'],function(plotly) {window.Plotly=plotly;});}}</script>"
      ],
      "text/vnd.plotly.v1+html": [
       "<script>requirejs.config({paths: { 'plotly': ['https://cdn.plot.ly/plotly-latest.min']},});if(!window.Plotly) {{require(['plotly'],function(plotly) {window.Plotly=plotly;});}}</script>"
      ]
     },
     "metadata": {},
     "output_type": "display_data"
    },
    {
     "data": {
      "application/vnd.plotly.v1+json": {
       "data": [
        {
         "error_y": {
          "array": [
           0.3680509445291431,
           0.5755129816209081,
           0.38509362436182015,
           0.4491275041257742,
           0.852034916485681,
           0.5095410975414276,
           0.7068623972539727
          ],
          "color": "rgb(0,170,80)",
          "type": "data",
          "visible": true
         },
         "line": {
          "color": "rgb(0,100,80)"
         },
         "mode": "lines+markers",
         "name": "Test Data",
         "type": "scatter",
         "x": [
          -1.772083333333333,
          -0.8838461538461537,
          -0.33421052631578957,
          0.024333333333333297,
          0.3725,
          0.8125000000000002,
          1.83
         ],
         "y": [
          4.605736603489882,
          3.8519637532299393,
          5.324609208156624,
          5.217001316884611,
          5.507023673424556,
          4.792930399005855,
          4.728539617575007
         ]
        },
        {
         "error_y": {
          "array": [
           0.014918159179700163,
           0.024122110545903977,
           0.02132686126480415,
           0.01700317826138178,
           0.03236151085009144,
           0.021401796388746393,
           0.023476523438405256
          ],
          "color": "rgb(0,100,246)",
          "type": "data",
          "visible": true
         },
         "line": {
          "color": "rgb(0,176,246)"
         },
         "mode": "lines+markers",
         "name": "Sim Data",
         "type": "scatter",
         "x": [
          -1.772083333333333,
          -0.8838461538461537,
          -0.33421052631578957,
          0.024333333333333297,
          0.3725,
          0.8125000000000002,
          1.83
         ],
         "y": [
          4.909037192950006,
          5.649673540220513,
          5.889870446923029,
          5.884258618086665,
          5.918288138754207,
          5.681622112211187,
          4.878784473279095
         ]
        },
        {
         "error_y": {
          "array": [
           0,
           0,
           0.09609167675529229,
           0.08509629433967632,
           0.1889822365046136,
           0.11180339887498951,
           0.09999999999999999
          ],
          "color": "rgb(0,170,80)",
          "type": "data",
          "visible": true
         },
         "line": {
          "color": "rgb(0,100,80)"
         },
         "mode": "lines+markers",
         "name": "Test Data",
         "type": "scatter",
         "x": [
          -1.772083333333333,
          -0.8838461538461537,
          -0.33421052631578957,
          0.024333333333333297,
          0.3725,
          0.8125000000000002,
          1.83
         ],
         "xaxis": "x2",
         "y": [
          0,
          0,
          0.21052631578947367,
          0.3,
          0.5,
          0.75,
          0.9
         ],
         "yaxis": "y2"
        },
        {
         "error_y": {
          "array": [
           0.0013054158444164609,
           0.0034947861784243675,
           0.004144364507667153,
           0.003545081883227647,
           0.00634620771628736,
           0.003328638788379925,
           0.0018364412488851112
          ],
          "color": "rgb(0,100,246)",
          "type": "data",
          "visible": true
         },
         "line": {
          "color": "rgb(0,176,246)"
         },
         "mode": "lines+markers",
         "name": "Sim Data",
         "type": "scatter",
         "x": [
          -1.772083333333333,
          -0.8838461538461537,
          -0.33421052631578957,
          0.024333333333333297,
          0.3725,
          0.8125000000000002,
          1.83
         ],
         "xaxis": "x2",
         "y": [
          0.03830318730628672,
          0.138934258881176,
          0.32735356056469855,
          0.5167832519752403,
          0.6846325997762029,
          0.8401815181518152,
          0.9683307675390367
         ],
         "yaxis": "y2"
        }
       ],
       "layout": {
        "annotations": [
         {
          "showarrow": false,
          "text": "PARAMETERS: v: 0.046, a: 0.307, θ: 0.46",
          "x": 0.01,
          "xref": "paper",
          "y": 1.12,
          "yref": "paper"
         },
         {
          "showarrow": false,
          "text": "MLE: 541.23",
          "x": 0.01,
          "xref": "paper",
          "y": 1.08,
          "yref": "paper"
         },
         {
          "font": {
           "family": "Arial, sans-serif",
           "size": 22
          },
          "showarrow": false,
          "text": "SUBJECT: 18",
          "x": 0.01,
          "xref": "paper",
          "y": 1.2,
          "yref": "paper"
         }
        ],
        "paper_bgcolor": "rgb(255,255,255)",
        "plot_bgcolor": "rgb(229,229,229)",
        "xaxis": {
         "domain": [
          0,
          0.45
         ],
         "gridcolor": "rgb(255,255,255)",
         "range": [
          -2,
          2
         ],
         "showgrid": true,
         "showline": false,
         "showticklabels": true,
         "tickcolor": "rgb(127,127,127)",
         "ticks": "outside",
         "title": "Net Value ($)",
         "zeroline": false
        },
        "xaxis2": {
         "domain": [
          0.55,
          1
         ],
         "gridcolor": "rgb(255,255,255)",
         "range": [
          -2,
          2
         ],
         "showgrid": true,
         "showline": false,
         "showticklabels": true,
         "tickcolor": "rgb(127,127,127)",
         "ticks": "outside",
         "title": "Net Value ($)",
         "zeroline": false
        },
        "yaxis1": {
         "anchor": "x1",
         "gridcolor": "rgb(255,255,255)",
         "range": [
          0
         ],
         "showgrid": true,
         "showline": false,
         "showticklabels": true,
         "tickcolor": "rgb(127,127,127)",
         "ticks": "outside",
         "title": "RT (s)",
         "zeroline": false
        },
        "yaxis2": {
         "anchor": "x2",
         "gridcolor": "rgb(255,255,255)",
         "range": [
          0
         ],
         "showgrid": true,
         "showline": false,
         "showticklabels": true,
         "tickcolor": "rgb(127,127,127)",
         "ticks": "outside",
         "title": "p (accept)",
         "zeroline": false
        }
       }
      },
      "text/html": [
       "<div id=\"6c552f95-31aa-4783-9b17-eb0ff0b24433\" style=\"height: 525px; width: 100%;\" class=\"plotly-graph-div\"></div><script type=\"text/javascript\">require([\"plotly\"], function(Plotly) { window.PLOTLYENV=window.PLOTLYENV || {};window.PLOTLYENV.BASE_URL=\"https://plot.ly\";Plotly.newPlot(\"6c552f95-31aa-4783-9b17-eb0ff0b24433\", [{\"type\": \"scatter\", \"x\": [-1.772083333333333, -0.8838461538461537, -0.33421052631578957, 0.024333333333333297, 0.3725, 0.8125000000000002, 1.83], \"y\": [4.605736603489882, 3.8519637532299393, 5.324609208156624, 5.217001316884611, 5.507023673424556, 4.792930399005855, 4.728539617575007], \"error_y\": {\"type\": \"data\", \"array\": [0.3680509445291431, 0.5755129816209081, 0.38509362436182015, 0.4491275041257742, 0.852034916485681, 0.5095410975414276, 0.7068623972539727], \"color\": \"rgb(0,170,80)\", \"visible\": true}, \"line\": {\"color\": \"rgb(0,100,80)\"}, \"mode\": \"lines+markers\", \"name\": \"Test Data\"}, {\"type\": \"scatter\", \"x\": [-1.772083333333333, -0.8838461538461537, -0.33421052631578957, 0.024333333333333297, 0.3725, 0.8125000000000002, 1.83], \"y\": [4.909037192950006, 5.649673540220513, 5.889870446923029, 5.884258618086665, 5.918288138754207, 5.681622112211187, 4.878784473279095], \"error_y\": {\"type\": \"data\", \"array\": [0.014918159179700163, 0.024122110545903977, 0.02132686126480415, 0.01700317826138178, 0.03236151085009144, 0.021401796388746393, 0.023476523438405256], \"color\": \"rgb(0,100,246)\", \"visible\": true}, \"line\": {\"color\": \"rgb(0,176,246)\"}, \"mode\": \"lines+markers\", \"name\": \"Sim Data\"}, {\"type\": \"scatter\", \"x\": [-1.772083333333333, -0.8838461538461537, -0.33421052631578957, 0.024333333333333297, 0.3725, 0.8125000000000002, 1.83], \"y\": [0.0, 0.0, 0.21052631578947367, 0.3, 0.5, 0.75, 0.9], \"error_y\": {\"type\": \"data\", \"array\": [0.0, 0.0, 0.09609167675529229, 0.08509629433967632, 0.1889822365046136, 0.11180339887498951, 0.09999999999999999], \"color\": \"rgb(0,170,80)\", \"visible\": true}, \"line\": {\"color\": \"rgb(0,100,80)\"}, \"mode\": \"lines+markers\", \"name\": \"Test Data\", \"xaxis\": \"x2\", \"yaxis\": \"y2\"}, {\"type\": \"scatter\", \"x\": [-1.772083333333333, -0.8838461538461537, -0.33421052631578957, 0.024333333333333297, 0.3725, 0.8125000000000002, 1.83], \"y\": [0.03830318730628672, 0.138934258881176, 0.32735356056469855, 0.5167832519752403, 0.6846325997762029, 0.8401815181518152, 0.9683307675390367], \"error_y\": {\"type\": \"data\", \"array\": [0.0013054158444164609, 0.0034947861784243675, 0.004144364507667153, 0.003545081883227647, 0.00634620771628736, 0.003328638788379925, 0.0018364412488851112], \"color\": \"rgb(0,100,246)\", \"visible\": true}, \"line\": {\"color\": \"rgb(0,176,246)\"}, \"mode\": \"lines+markers\", \"name\": \"Sim Data\", \"xaxis\": \"x2\", \"yaxis\": \"y2\"}], {\"paper_bgcolor\": \"rgb(255,255,255)\", \"plot_bgcolor\": \"rgb(229,229,229)\", \"xaxis\": {\"gridcolor\": \"rgb(255,255,255)\", \"range\": [-2, 2], \"domain\": [0, 0.45], \"showgrid\": true, \"showline\": false, \"showticklabels\": true, \"tickcolor\": \"rgb(127,127,127)\", \"ticks\": \"outside\", \"title\": \"Net Value ($)\", \"zeroline\": false}, \"xaxis2\": {\"gridcolor\": \"rgb(255,255,255)\", \"range\": [-2, 2], \"domain\": [0.55, 1], \"showgrid\": true, \"showline\": false, \"showticklabels\": true, \"tickcolor\": \"rgb(127,127,127)\", \"ticks\": \"outside\", \"title\": \"Net Value ($)\", \"zeroline\": false}, \"yaxis1\": {\"gridcolor\": \"rgb(255,255,255)\", \"range\": [0], \"showgrid\": true, \"showline\": false, \"showticklabels\": true, \"tickcolor\": \"rgb(127,127,127)\", \"ticks\": \"outside\", \"title\": \"RT (s)\", \"anchor\": \"x1\", \"zeroline\": false}, \"yaxis2\": {\"gridcolor\": \"rgb(255,255,255)\", \"range\": [0], \"showgrid\": true, \"showline\": false, \"showticklabels\": true, \"tickcolor\": \"rgb(127,127,127)\", \"ticks\": \"outside\", \"title\": \"p (accept)\", \"anchor\": \"x2\", \"zeroline\": false}, \"annotations\": [{\"x\": 0.01, \"y\": 1.12, \"showarrow\": false, \"text\": \"PARAMETERS: v: 0.046, a: 0.307, \\u03b8: 0.46\", \"xref\": \"paper\", \"yref\": \"paper\"}, {\"x\": 0.01, \"y\": 1.08, \"showarrow\": false, \"text\": \"MLE: 541.23\", \"xref\": \"paper\", \"yref\": \"paper\"}, {\"x\": 0.01, \"y\": 1.2, \"showarrow\": false, \"text\": \"SUBJECT: 18\", \"font\": {\"family\": \"Arial, sans-serif\", \"size\": 22}, \"xref\": \"paper\", \"yref\": \"paper\"}]}, {\"showLink\": true, \"linkText\": \"Export to plot.ly\"})});</script>"
      ],
      "text/vnd.plotly.v1+html": [
       "<div id=\"6c552f95-31aa-4783-9b17-eb0ff0b24433\" style=\"height: 525px; width: 100%;\" class=\"plotly-graph-div\"></div><script type=\"text/javascript\">require([\"plotly\"], function(Plotly) { window.PLOTLYENV=window.PLOTLYENV || {};window.PLOTLYENV.BASE_URL=\"https://plot.ly\";Plotly.newPlot(\"6c552f95-31aa-4783-9b17-eb0ff0b24433\", [{\"type\": \"scatter\", \"x\": [-1.772083333333333, -0.8838461538461537, -0.33421052631578957, 0.024333333333333297, 0.3725, 0.8125000000000002, 1.83], \"y\": [4.605736603489882, 3.8519637532299393, 5.324609208156624, 5.217001316884611, 5.507023673424556, 4.792930399005855, 4.728539617575007], \"error_y\": {\"type\": \"data\", \"array\": [0.3680509445291431, 0.5755129816209081, 0.38509362436182015, 0.4491275041257742, 0.852034916485681, 0.5095410975414276, 0.7068623972539727], \"color\": \"rgb(0,170,80)\", \"visible\": true}, \"line\": {\"color\": \"rgb(0,100,80)\"}, \"mode\": \"lines+markers\", \"name\": \"Test Data\"}, {\"type\": \"scatter\", \"x\": [-1.772083333333333, -0.8838461538461537, -0.33421052631578957, 0.024333333333333297, 0.3725, 0.8125000000000002, 1.83], \"y\": [4.909037192950006, 5.649673540220513, 5.889870446923029, 5.884258618086665, 5.918288138754207, 5.681622112211187, 4.878784473279095], \"error_y\": {\"type\": \"data\", \"array\": [0.014918159179700163, 0.024122110545903977, 0.02132686126480415, 0.01700317826138178, 0.03236151085009144, 0.021401796388746393, 0.023476523438405256], \"color\": \"rgb(0,100,246)\", \"visible\": true}, \"line\": {\"color\": \"rgb(0,176,246)\"}, \"mode\": \"lines+markers\", \"name\": \"Sim Data\"}, {\"type\": \"scatter\", \"x\": [-1.772083333333333, -0.8838461538461537, -0.33421052631578957, 0.024333333333333297, 0.3725, 0.8125000000000002, 1.83], \"y\": [0.0, 0.0, 0.21052631578947367, 0.3, 0.5, 0.75, 0.9], \"error_y\": {\"type\": \"data\", \"array\": [0.0, 0.0, 0.09609167675529229, 0.08509629433967632, 0.1889822365046136, 0.11180339887498951, 0.09999999999999999], \"color\": \"rgb(0,170,80)\", \"visible\": true}, \"line\": {\"color\": \"rgb(0,100,80)\"}, \"mode\": \"lines+markers\", \"name\": \"Test Data\", \"xaxis\": \"x2\", \"yaxis\": \"y2\"}, {\"type\": \"scatter\", \"x\": [-1.772083333333333, -0.8838461538461537, -0.33421052631578957, 0.024333333333333297, 0.3725, 0.8125000000000002, 1.83], \"y\": [0.03830318730628672, 0.138934258881176, 0.32735356056469855, 0.5167832519752403, 0.6846325997762029, 0.8401815181518152, 0.9683307675390367], \"error_y\": {\"type\": \"data\", \"array\": [0.0013054158444164609, 0.0034947861784243675, 0.004144364507667153, 0.003545081883227647, 0.00634620771628736, 0.003328638788379925, 0.0018364412488851112], \"color\": \"rgb(0,100,246)\", \"visible\": true}, \"line\": {\"color\": \"rgb(0,176,246)\"}, \"mode\": \"lines+markers\", \"name\": \"Sim Data\", \"xaxis\": \"x2\", \"yaxis\": \"y2\"}], {\"paper_bgcolor\": \"rgb(255,255,255)\", \"plot_bgcolor\": \"rgb(229,229,229)\", \"xaxis\": {\"gridcolor\": \"rgb(255,255,255)\", \"range\": [-2, 2], \"domain\": [0, 0.45], \"showgrid\": true, \"showline\": false, \"showticklabels\": true, \"tickcolor\": \"rgb(127,127,127)\", \"ticks\": \"outside\", \"title\": \"Net Value ($)\", \"zeroline\": false}, \"xaxis2\": {\"gridcolor\": \"rgb(255,255,255)\", \"range\": [-2, 2], \"domain\": [0.55, 1], \"showgrid\": true, \"showline\": false, \"showticklabels\": true, \"tickcolor\": \"rgb(127,127,127)\", \"ticks\": \"outside\", \"title\": \"Net Value ($)\", \"zeroline\": false}, \"yaxis1\": {\"gridcolor\": \"rgb(255,255,255)\", \"range\": [0], \"showgrid\": true, \"showline\": false, \"showticklabels\": true, \"tickcolor\": \"rgb(127,127,127)\", \"ticks\": \"outside\", \"title\": \"RT (s)\", \"anchor\": \"x1\", \"zeroline\": false}, \"yaxis2\": {\"gridcolor\": \"rgb(255,255,255)\", \"range\": [0], \"showgrid\": true, \"showline\": false, \"showticklabels\": true, \"tickcolor\": \"rgb(127,127,127)\", \"ticks\": \"outside\", \"title\": \"p (accept)\", \"anchor\": \"x2\", \"zeroline\": false}, \"annotations\": [{\"x\": 0.01, \"y\": 1.12, \"showarrow\": false, \"text\": \"PARAMETERS: v: 0.046, a: 0.307, \\u03b8: 0.46\", \"xref\": \"paper\", \"yref\": \"paper\"}, {\"x\": 0.01, \"y\": 1.08, \"showarrow\": false, \"text\": \"MLE: 541.23\", \"xref\": \"paper\", \"yref\": \"paper\"}, {\"x\": 0.01, \"y\": 1.2, \"showarrow\": false, \"text\": \"SUBJECT: 18\", \"font\": {\"family\": \"Arial, sans-serif\", \"size\": 22}, \"xref\": \"paper\", \"yref\": \"paper\"}]}, {\"showLink\": true, \"linkText\": \"Export to plot.ly\"})});</script>"
      ]
     },
     "metadata": {},
     "output_type": "display_data"
    },
    {
     "data": {
      "text/html": [
       "<script>requirejs.config({paths: { 'plotly': ['https://cdn.plot.ly/plotly-latest.min']},});if(!window.Plotly) {{require(['plotly'],function(plotly) {window.Plotly=plotly;});}}</script>"
      ],
      "text/vnd.plotly.v1+html": [
       "<script>requirejs.config({paths: { 'plotly': ['https://cdn.plot.ly/plotly-latest.min']},});if(!window.Plotly) {{require(['plotly'],function(plotly) {window.Plotly=plotly;});}}</script>"
      ]
     },
     "metadata": {},
     "output_type": "display_data"
    },
    {
     "data": {
      "application/vnd.plotly.v1+json": {
       "data": [
        {
         "error_y": {
          "array": [
           0.36347757827473565,
           0.41969449774605894,
           0.5537102022977282,
           0.2719872546244865,
           0.41390432485629164,
           0.1770077216029409,
           0.28954639202011695
          ],
          "color": "rgb(0,170,80)",
          "type": "data",
          "visible": true
         },
         "line": {
          "color": "rgb(0,100,80)"
         },
         "mode": "lines+markers",
         "name": "Test Data",
         "type": "scatter",
         "x": [
          -1.6129629629629632,
          -0.8327777777777777,
          -0.29800000000000004,
          0.027352941176470573,
          0.28411764705882353,
          0.751304347826087,
          1.423125
         ],
         "y": [
          2.6532024520263944,
          2.8353583172073638,
          3.1601166128801794,
          2.749145881909713,
          2.4638971037005413,
          1.8037446145494678,
          2.09285406316485
         ]
        },
        {
         "error_y": {
          "array": [
           0.004267113578424953,
           0.007901860048301467,
           0.011351486052839317,
           0.0077493642347720056,
           0.011033135575173476,
           0.007562387361987231,
           0.005973082128557847
          ],
          "color": "rgb(0,100,246)",
          "type": "data",
          "visible": true
         },
         "line": {
          "color": "rgb(0,176,246)"
         },
         "mode": "lines+markers",
         "name": "Sim Data",
         "type": "scatter",
         "x": [
          -1.6129629629629632,
          -0.8327777777777777,
          -0.29800000000000004,
          0.027352941176470573,
          0.28411764705882353,
          0.751304347826087,
          1.423125
         ],
         "y": [
          1.7596678518518403,
          2.1877121346816457,
          2.556188067271764,
          2.5808777728678716,
          2.584959229364291,
          2.229186616809439,
          1.846440812500013
         ]
        },
        {
         "error_y": {
          "array": [
           0.0513611292801138,
           0.05555555555555555,
           0.09085135251589957,
           0.07679896586280786,
           0.10604562574894086,
           0,
           0.06249999999999999
          ],
          "color": "rgb(0,170,80)",
          "type": "data",
          "visible": true
         },
         "line": {
          "color": "rgb(0,100,80)"
         },
         "mode": "lines+markers",
         "name": "Test Data",
         "type": "scatter",
         "x": [
          -1.6129629629629632,
          -0.8327777777777777,
          -0.29800000000000004,
          0.027352941176470573,
          0.28411764705882353,
          0.751304347826087,
          1.423125
         ],
         "xaxis": "x2",
         "y": [
          0.07407407407407407,
          0.05555555555555555,
          0.13333333333333333,
          0.7352941176470589,
          0.7647058823529411,
          1,
          0.9375
         ],
         "yaxis": "y2"
        },
        {
         "error_y": {
          "array": [
           0.001031948527201195,
           0.002420499943981371,
           0.0037850526359265307,
           0.002712075672054218,
           0.0036037293889118233,
           0.0022857238354889757,
           0.0015722378444401998
          ],
          "color": "rgb(0,100,246)",
          "type": "data",
          "visible": true
         },
         "line": {
          "color": "rgb(0,176,246)"
         },
         "mode": "lines+markers",
         "name": "Sim Data",
         "type": "scatter",
         "x": [
          -1.6129629629629632,
          -0.8327777777777777,
          -0.29800000000000004,
          0.027352941176470573,
          0.28411764705882353,
          0.751304347826087,
          1.423125
         ],
         "xaxis": "x2",
         "y": [
          0.02962962962962963,
          0.1197910878986554,
          0.31199946609717033,
          0.5181617322138754,
          0.6720084840629235,
          0.8603417539893039,
          0.95875
         ],
         "yaxis": "y2"
        }
       ],
       "layout": {
        "annotations": [
         {
          "showarrow": false,
          "text": "PARAMETERS: v: 0.109, a: 0.136, θ: 0.64",
          "x": 0.01,
          "xref": "paper",
          "y": 1.12,
          "yref": "paper"
         },
         {
          "showarrow": false,
          "text": "MLE: 726.22",
          "x": 0.01,
          "xref": "paper",
          "y": 1.08,
          "yref": "paper"
         },
         {
          "font": {
           "family": "Arial, sans-serif",
           "size": 22
          },
          "showarrow": false,
          "text": "SUBJECT: 19",
          "x": 0.01,
          "xref": "paper",
          "y": 1.2,
          "yref": "paper"
         }
        ],
        "paper_bgcolor": "rgb(255,255,255)",
        "plot_bgcolor": "rgb(229,229,229)",
        "xaxis": {
         "domain": [
          0,
          0.45
         ],
         "gridcolor": "rgb(255,255,255)",
         "range": [
          -2,
          2
         ],
         "showgrid": true,
         "showline": false,
         "showticklabels": true,
         "tickcolor": "rgb(127,127,127)",
         "ticks": "outside",
         "title": "Net Value ($)",
         "zeroline": false
        },
        "xaxis2": {
         "domain": [
          0.55,
          1
         ],
         "gridcolor": "rgb(255,255,255)",
         "range": [
          -2,
          2
         ],
         "showgrid": true,
         "showline": false,
         "showticklabels": true,
         "tickcolor": "rgb(127,127,127)",
         "ticks": "outside",
         "title": "Net Value ($)",
         "zeroline": false
        },
        "yaxis1": {
         "anchor": "x1",
         "gridcolor": "rgb(255,255,255)",
         "range": [
          0
         ],
         "showgrid": true,
         "showline": false,
         "showticklabels": true,
         "tickcolor": "rgb(127,127,127)",
         "ticks": "outside",
         "title": "RT (s)",
         "zeroline": false
        },
        "yaxis2": {
         "anchor": "x2",
         "gridcolor": "rgb(255,255,255)",
         "range": [
          0
         ],
         "showgrid": true,
         "showline": false,
         "showticklabels": true,
         "tickcolor": "rgb(127,127,127)",
         "ticks": "outside",
         "title": "p (accept)",
         "zeroline": false
        }
       }
      },
      "text/html": [
       "<div id=\"74451ec1-9b6f-4ab2-bdf3-6af82520db04\" style=\"height: 525px; width: 100%;\" class=\"plotly-graph-div\"></div><script type=\"text/javascript\">require([\"plotly\"], function(Plotly) { window.PLOTLYENV=window.PLOTLYENV || {};window.PLOTLYENV.BASE_URL=\"https://plot.ly\";Plotly.newPlot(\"74451ec1-9b6f-4ab2-bdf3-6af82520db04\", [{\"type\": \"scatter\", \"x\": [-1.6129629629629632, -0.8327777777777777, -0.29800000000000004, 0.027352941176470573, 0.28411764705882353, 0.751304347826087, 1.423125], \"y\": [2.6532024520263944, 2.8353583172073638, 3.1601166128801794, 2.749145881909713, 2.4638971037005413, 1.8037446145494678, 2.09285406316485], \"error_y\": {\"type\": \"data\", \"array\": [0.36347757827473565, 0.41969449774605894, 0.5537102022977282, 0.2719872546244865, 0.41390432485629164, 0.1770077216029409, 0.28954639202011695], \"color\": \"rgb(0,170,80)\", \"visible\": true}, \"line\": {\"color\": \"rgb(0,100,80)\"}, \"mode\": \"lines+markers\", \"name\": \"Test Data\"}, {\"type\": \"scatter\", \"x\": [-1.6129629629629632, -0.8327777777777777, -0.29800000000000004, 0.027352941176470573, 0.28411764705882353, 0.751304347826087, 1.423125], \"y\": [1.7596678518518403, 2.1877121346816457, 2.556188067271764, 2.5808777728678716, 2.584959229364291, 2.229186616809439, 1.846440812500013], \"error_y\": {\"type\": \"data\", \"array\": [0.004267113578424953, 0.007901860048301467, 0.011351486052839317, 0.0077493642347720056, 0.011033135575173476, 0.007562387361987231, 0.005973082128557847], \"color\": \"rgb(0,100,246)\", \"visible\": true}, \"line\": {\"color\": \"rgb(0,176,246)\"}, \"mode\": \"lines+markers\", \"name\": \"Sim Data\"}, {\"type\": \"scatter\", \"x\": [-1.6129629629629632, -0.8327777777777777, -0.29800000000000004, 0.027352941176470573, 0.28411764705882353, 0.751304347826087, 1.423125], \"y\": [0.07407407407407407, 0.05555555555555555, 0.13333333333333333, 0.7352941176470589, 0.7647058823529411, 1.0, 0.9375], \"error_y\": {\"type\": \"data\", \"array\": [0.0513611292801138, 0.05555555555555555, 0.09085135251589957, 0.07679896586280786, 0.10604562574894086, 0.0, 0.06249999999999999], \"color\": \"rgb(0,170,80)\", \"visible\": true}, \"line\": {\"color\": \"rgb(0,100,80)\"}, \"mode\": \"lines+markers\", \"name\": \"Test Data\", \"xaxis\": \"x2\", \"yaxis\": \"y2\"}, {\"type\": \"scatter\", \"x\": [-1.6129629629629632, -0.8327777777777777, -0.29800000000000004, 0.027352941176470573, 0.28411764705882353, 0.751304347826087, 1.423125], \"y\": [0.02962962962962963, 0.1197910878986554, 0.31199946609717033, 0.5181617322138754, 0.6720084840629235, 0.8603417539893039, 0.95875], \"error_y\": {\"type\": \"data\", \"array\": [0.001031948527201195, 0.002420499943981371, 0.0037850526359265307, 0.002712075672054218, 0.0036037293889118233, 0.0022857238354889757, 0.0015722378444401998], \"color\": \"rgb(0,100,246)\", \"visible\": true}, \"line\": {\"color\": \"rgb(0,176,246)\"}, \"mode\": \"lines+markers\", \"name\": \"Sim Data\", \"xaxis\": \"x2\", \"yaxis\": \"y2\"}], {\"paper_bgcolor\": \"rgb(255,255,255)\", \"plot_bgcolor\": \"rgb(229,229,229)\", \"xaxis\": {\"gridcolor\": \"rgb(255,255,255)\", \"range\": [-2, 2], \"domain\": [0, 0.45], \"showgrid\": true, \"showline\": false, \"showticklabels\": true, \"tickcolor\": \"rgb(127,127,127)\", \"ticks\": \"outside\", \"title\": \"Net Value ($)\", \"zeroline\": false}, \"xaxis2\": {\"gridcolor\": \"rgb(255,255,255)\", \"range\": [-2, 2], \"domain\": [0.55, 1], \"showgrid\": true, \"showline\": false, \"showticklabels\": true, \"tickcolor\": \"rgb(127,127,127)\", \"ticks\": \"outside\", \"title\": \"Net Value ($)\", \"zeroline\": false}, \"yaxis1\": {\"gridcolor\": \"rgb(255,255,255)\", \"range\": [0], \"showgrid\": true, \"showline\": false, \"showticklabels\": true, \"tickcolor\": \"rgb(127,127,127)\", \"ticks\": \"outside\", \"title\": \"RT (s)\", \"anchor\": \"x1\", \"zeroline\": false}, \"yaxis2\": {\"gridcolor\": \"rgb(255,255,255)\", \"range\": [0], \"showgrid\": true, \"showline\": false, \"showticklabels\": true, \"tickcolor\": \"rgb(127,127,127)\", \"ticks\": \"outside\", \"title\": \"p (accept)\", \"anchor\": \"x2\", \"zeroline\": false}, \"annotations\": [{\"x\": 0.01, \"y\": 1.12, \"showarrow\": false, \"text\": \"PARAMETERS: v: 0.109, a: 0.136, \\u03b8: 0.64\", \"xref\": \"paper\", \"yref\": \"paper\"}, {\"x\": 0.01, \"y\": 1.08, \"showarrow\": false, \"text\": \"MLE: 726.22\", \"xref\": \"paper\", \"yref\": \"paper\"}, {\"x\": 0.01, \"y\": 1.2, \"showarrow\": false, \"text\": \"SUBJECT: 19\", \"font\": {\"family\": \"Arial, sans-serif\", \"size\": 22}, \"xref\": \"paper\", \"yref\": \"paper\"}]}, {\"showLink\": true, \"linkText\": \"Export to plot.ly\"})});</script>"
      ],
      "text/vnd.plotly.v1+html": [
       "<div id=\"74451ec1-9b6f-4ab2-bdf3-6af82520db04\" style=\"height: 525px; width: 100%;\" class=\"plotly-graph-div\"></div><script type=\"text/javascript\">require([\"plotly\"], function(Plotly) { window.PLOTLYENV=window.PLOTLYENV || {};window.PLOTLYENV.BASE_URL=\"https://plot.ly\";Plotly.newPlot(\"74451ec1-9b6f-4ab2-bdf3-6af82520db04\", [{\"type\": \"scatter\", \"x\": [-1.6129629629629632, -0.8327777777777777, -0.29800000000000004, 0.027352941176470573, 0.28411764705882353, 0.751304347826087, 1.423125], \"y\": [2.6532024520263944, 2.8353583172073638, 3.1601166128801794, 2.749145881909713, 2.4638971037005413, 1.8037446145494678, 2.09285406316485], \"error_y\": {\"type\": \"data\", \"array\": [0.36347757827473565, 0.41969449774605894, 0.5537102022977282, 0.2719872546244865, 0.41390432485629164, 0.1770077216029409, 0.28954639202011695], \"color\": \"rgb(0,170,80)\", \"visible\": true}, \"line\": {\"color\": \"rgb(0,100,80)\"}, \"mode\": \"lines+markers\", \"name\": \"Test Data\"}, {\"type\": \"scatter\", \"x\": [-1.6129629629629632, -0.8327777777777777, -0.29800000000000004, 0.027352941176470573, 0.28411764705882353, 0.751304347826087, 1.423125], \"y\": [1.7596678518518403, 2.1877121346816457, 2.556188067271764, 2.5808777728678716, 2.584959229364291, 2.229186616809439, 1.846440812500013], \"error_y\": {\"type\": \"data\", \"array\": [0.004267113578424953, 0.007901860048301467, 0.011351486052839317, 0.0077493642347720056, 0.011033135575173476, 0.007562387361987231, 0.005973082128557847], \"color\": \"rgb(0,100,246)\", \"visible\": true}, \"line\": {\"color\": \"rgb(0,176,246)\"}, \"mode\": \"lines+markers\", \"name\": \"Sim Data\"}, {\"type\": \"scatter\", \"x\": [-1.6129629629629632, -0.8327777777777777, -0.29800000000000004, 0.027352941176470573, 0.28411764705882353, 0.751304347826087, 1.423125], \"y\": [0.07407407407407407, 0.05555555555555555, 0.13333333333333333, 0.7352941176470589, 0.7647058823529411, 1.0, 0.9375], \"error_y\": {\"type\": \"data\", \"array\": [0.0513611292801138, 0.05555555555555555, 0.09085135251589957, 0.07679896586280786, 0.10604562574894086, 0.0, 0.06249999999999999], \"color\": \"rgb(0,170,80)\", \"visible\": true}, \"line\": {\"color\": \"rgb(0,100,80)\"}, \"mode\": \"lines+markers\", \"name\": \"Test Data\", \"xaxis\": \"x2\", \"yaxis\": \"y2\"}, {\"type\": \"scatter\", \"x\": [-1.6129629629629632, -0.8327777777777777, -0.29800000000000004, 0.027352941176470573, 0.28411764705882353, 0.751304347826087, 1.423125], \"y\": [0.02962962962962963, 0.1197910878986554, 0.31199946609717033, 0.5181617322138754, 0.6720084840629235, 0.8603417539893039, 0.95875], \"error_y\": {\"type\": \"data\", \"array\": [0.001031948527201195, 0.002420499943981371, 0.0037850526359265307, 0.002712075672054218, 0.0036037293889118233, 0.0022857238354889757, 0.0015722378444401998], \"color\": \"rgb(0,100,246)\", \"visible\": true}, \"line\": {\"color\": \"rgb(0,176,246)\"}, \"mode\": \"lines+markers\", \"name\": \"Sim Data\", \"xaxis\": \"x2\", \"yaxis\": \"y2\"}], {\"paper_bgcolor\": \"rgb(255,255,255)\", \"plot_bgcolor\": \"rgb(229,229,229)\", \"xaxis\": {\"gridcolor\": \"rgb(255,255,255)\", \"range\": [-2, 2], \"domain\": [0, 0.45], \"showgrid\": true, \"showline\": false, \"showticklabels\": true, \"tickcolor\": \"rgb(127,127,127)\", \"ticks\": \"outside\", \"title\": \"Net Value ($)\", \"zeroline\": false}, \"xaxis2\": {\"gridcolor\": \"rgb(255,255,255)\", \"range\": [-2, 2], \"domain\": [0.55, 1], \"showgrid\": true, \"showline\": false, \"showticklabels\": true, \"tickcolor\": \"rgb(127,127,127)\", \"ticks\": \"outside\", \"title\": \"Net Value ($)\", \"zeroline\": false}, \"yaxis1\": {\"gridcolor\": \"rgb(255,255,255)\", \"range\": [0], \"showgrid\": true, \"showline\": false, \"showticklabels\": true, \"tickcolor\": \"rgb(127,127,127)\", \"ticks\": \"outside\", \"title\": \"RT (s)\", \"anchor\": \"x1\", \"zeroline\": false}, \"yaxis2\": {\"gridcolor\": \"rgb(255,255,255)\", \"range\": [0], \"showgrid\": true, \"showline\": false, \"showticklabels\": true, \"tickcolor\": \"rgb(127,127,127)\", \"ticks\": \"outside\", \"title\": \"p (accept)\", \"anchor\": \"x2\", \"zeroline\": false}, \"annotations\": [{\"x\": 0.01, \"y\": 1.12, \"showarrow\": false, \"text\": \"PARAMETERS: v: 0.109, a: 0.136, \\u03b8: 0.64\", \"xref\": \"paper\", \"yref\": \"paper\"}, {\"x\": 0.01, \"y\": 1.08, \"showarrow\": false, \"text\": \"MLE: 726.22\", \"xref\": \"paper\", \"yref\": \"paper\"}, {\"x\": 0.01, \"y\": 1.2, \"showarrow\": false, \"text\": \"SUBJECT: 19\", \"font\": {\"family\": \"Arial, sans-serif\", \"size\": 22}, \"xref\": \"paper\", \"yref\": \"paper\"}]}, {\"showLink\": true, \"linkText\": \"Export to plot.ly\"})});</script>"
      ]
     },
     "metadata": {},
     "output_type": "display_data"
    },
    {
     "data": {
      "text/html": [
       "<script>requirejs.config({paths: { 'plotly': ['https://cdn.plot.ly/plotly-latest.min']},});if(!window.Plotly) {{require(['plotly'],function(plotly) {window.Plotly=plotly;});}}</script>"
      ],
      "text/vnd.plotly.v1+html": [
       "<script>requirejs.config({paths: { 'plotly': ['https://cdn.plot.ly/plotly-latest.min']},});if(!window.Plotly) {{require(['plotly'],function(plotly) {window.Plotly=plotly;});}}</script>"
      ]
     },
     "metadata": {},
     "output_type": "display_data"
    },
    {
     "data": {
      "application/vnd.plotly.v1+json": {
       "data": [
        {
         "error_y": {
          "array": [
           0.23889616603511812,
           0.26260143411660414,
           0.27200450372357604,
           0.1516952073407089,
           0.3579844042768868,
           0.4669457882395253,
           0.13479441445887105
          ],
          "color": "rgb(0,170,80)",
          "type": "data",
          "visible": true
         },
         "line": {
          "color": "rgb(0,100,80)"
         },
         "mode": "lines+markers",
         "name": "Test Data",
         "type": "scatter",
         "x": [
          -1.6838888888888888,
          -0.7804347826086955,
          -0.29956521739130443,
          0.044074074074074036,
          0.30272727272727273,
          0.7600000000000001,
          1.7135000000000002
         ],
         "y": [
          2.228803497292878,
          2.7841644772131047,
          2.653716179795319,
          2.532181894794727,
          2.858446059481304,
          2.591218919741611,
          1.8051307235728018
         ]
        },
        {
         "error_y": {
          "array": [
           0.010355118177706561,
           0.009810695293305218,
           0.009734000139349918,
           0.009004886928406319,
           0.010019298615045457,
           0.012241312398759505,
           0.009918075175752257
          ],
          "color": "rgb(0,100,246)",
          "type": "data",
          "visible": true
         },
         "line": {
          "color": "rgb(0,176,246)"
         },
         "mode": "lines+markers",
         "name": "Sim Data",
         "type": "scatter",
         "x": [
          -1.6838888888888888,
          -0.7804347826086955,
          -0.29956521739130443,
          0.044074074074074036,
          0.30272727272727273,
          0.7600000000000001,
          1.7135000000000002
         ],
         "y": [
          2.566161345939942,
          2.6587402648314393,
          2.669009580629697,
          2.657320026712173,
          2.6671788332802016,
          2.6789231950844896,
          2.561164447336795
         ]
        },
        {
         "error_y": {
          "array": [
           0.05555555555555555,
           0.04347826086956522,
           0.10568965974008647,
           0.09470524295495533,
           0.04545454545454545,
           0.06666666666666665,
           0
          ],
          "color": "rgb(0,170,80)",
          "type": "data",
          "visible": true
         },
         "line": {
          "color": "rgb(0,100,80)"
         },
         "mode": "lines+markers",
         "name": "Test Data",
         "type": "scatter",
         "x": [
          -1.6838888888888888,
          -0.7804347826086955,
          -0.29956521739130443,
          0.044074074074074036,
          0.30272727272727273,
          0.7600000000000001,
          1.7135000000000002
         ],
         "xaxis": "x2",
         "y": [
          0.05555555555555555,
          0.043478260869565216,
          0.5652173913043478,
          0.6296296296296297,
          0.9545454545454546,
          0.9333333333333333,
          1
         ],
         "yaxis": "y2"
        },
        {
         "error_y": {
          "array": [
           0.0034109052907172416,
           0.00322809683811269,
           0.003289756827646396,
           0.003043788155832569,
           0.003365083680603311,
           0.004032618109115327,
           0.0032222629727247177
          ],
          "color": "rgb(0,100,246)",
          "type": "data",
          "visible": true
         },
         "line": {
          "color": "rgb(0,176,246)"
         },
         "mode": "lines+markers",
         "name": "Sim Data",
         "type": "scatter",
         "x": [
          -1.6838888888888888,
          -0.7804347826086955,
          -0.29956521739130443,
          0.044074074074074036,
          0.30272727272727273,
          0.7600000000000001,
          1.7135000000000002
         ],
         "xaxis": "x2",
         "y": [
          0.29794215795328144,
          0.3962017597351686,
          0.4613508687889213,
          0.5170290123914818,
          0.5367730770982285,
          0.580778735056435,
          0.7063976772126552
         ],
         "yaxis": "y2"
        }
       ],
       "layout": {
        "annotations": [
         {
          "showarrow": false,
          "text": "PARAMETERS: v: 0.026, a: 0.136, θ: 0.46",
          "x": 0.01,
          "xref": "paper",
          "y": 1.12,
          "yref": "paper"
         },
         {
          "showarrow": false,
          "text": "MLE: 627.37",
          "x": 0.01,
          "xref": "paper",
          "y": 1.08,
          "yref": "paper"
         },
         {
          "font": {
           "family": "Arial, sans-serif",
           "size": 22
          },
          "showarrow": false,
          "text": "SUBJECT: 20",
          "x": 0.01,
          "xref": "paper",
          "y": 1.2,
          "yref": "paper"
         }
        ],
        "paper_bgcolor": "rgb(255,255,255)",
        "plot_bgcolor": "rgb(229,229,229)",
        "xaxis": {
         "domain": [
          0,
          0.45
         ],
         "gridcolor": "rgb(255,255,255)",
         "range": [
          -2,
          2
         ],
         "showgrid": true,
         "showline": false,
         "showticklabels": true,
         "tickcolor": "rgb(127,127,127)",
         "ticks": "outside",
         "title": "Net Value ($)",
         "zeroline": false
        },
        "xaxis2": {
         "domain": [
          0.55,
          1
         ],
         "gridcolor": "rgb(255,255,255)",
         "range": [
          -2,
          2
         ],
         "showgrid": true,
         "showline": false,
         "showticklabels": true,
         "tickcolor": "rgb(127,127,127)",
         "ticks": "outside",
         "title": "Net Value ($)",
         "zeroline": false
        },
        "yaxis1": {
         "anchor": "x1",
         "gridcolor": "rgb(255,255,255)",
         "range": [
          0
         ],
         "showgrid": true,
         "showline": false,
         "showticklabels": true,
         "tickcolor": "rgb(127,127,127)",
         "ticks": "outside",
         "title": "RT (s)",
         "zeroline": false
        },
        "yaxis2": {
         "anchor": "x2",
         "gridcolor": "rgb(255,255,255)",
         "range": [
          0
         ],
         "showgrid": true,
         "showline": false,
         "showticklabels": true,
         "tickcolor": "rgb(127,127,127)",
         "ticks": "outside",
         "title": "p (accept)",
         "zeroline": false
        }
       }
      },
      "text/html": [
       "<div id=\"33d9176f-823a-42cf-b9cd-68d9c67af496\" style=\"height: 525px; width: 100%;\" class=\"plotly-graph-div\"></div><script type=\"text/javascript\">require([\"plotly\"], function(Plotly) { window.PLOTLYENV=window.PLOTLYENV || {};window.PLOTLYENV.BASE_URL=\"https://plot.ly\";Plotly.newPlot(\"33d9176f-823a-42cf-b9cd-68d9c67af496\", [{\"type\": \"scatter\", \"x\": [-1.6838888888888888, -0.7804347826086955, -0.29956521739130443, 0.044074074074074036, 0.30272727272727273, 0.7600000000000001, 1.7135000000000002], \"y\": [2.228803497292878, 2.7841644772131047, 2.653716179795319, 2.532181894794727, 2.858446059481304, 2.591218919741611, 1.8051307235728018], \"error_y\": {\"type\": \"data\", \"array\": [0.23889616603511812, 0.26260143411660414, 0.27200450372357604, 0.1516952073407089, 0.3579844042768868, 0.4669457882395253, 0.13479441445887105], \"color\": \"rgb(0,170,80)\", \"visible\": true}, \"line\": {\"color\": \"rgb(0,100,80)\"}, \"mode\": \"lines+markers\", \"name\": \"Test Data\"}, {\"type\": \"scatter\", \"x\": [-1.6838888888888888, -0.7804347826086955, -0.29956521739130443, 0.044074074074074036, 0.30272727272727273, 0.7600000000000001, 1.7135000000000002], \"y\": [2.566161345939942, 2.6587402648314393, 2.669009580629697, 2.657320026712173, 2.6671788332802016, 2.6789231950844896, 2.561164447336795], \"error_y\": {\"type\": \"data\", \"array\": [0.010355118177706561, 0.009810695293305218, 0.009734000139349918, 0.009004886928406319, 0.010019298615045457, 0.012241312398759505, 0.009918075175752257], \"color\": \"rgb(0,100,246)\", \"visible\": true}, \"line\": {\"color\": \"rgb(0,176,246)\"}, \"mode\": \"lines+markers\", \"name\": \"Sim Data\"}, {\"type\": \"scatter\", \"x\": [-1.6838888888888888, -0.7804347826086955, -0.29956521739130443, 0.044074074074074036, 0.30272727272727273, 0.7600000000000001, 1.7135000000000002], \"y\": [0.05555555555555555, 0.043478260869565216, 0.5652173913043478, 0.6296296296296297, 0.9545454545454546, 0.9333333333333333, 1.0], \"error_y\": {\"type\": \"data\", \"array\": [0.05555555555555555, 0.04347826086956522, 0.10568965974008647, 0.09470524295495533, 0.04545454545454545, 0.06666666666666665, 0.0], \"color\": \"rgb(0,170,80)\", \"visible\": true}, \"line\": {\"color\": \"rgb(0,100,80)\"}, \"mode\": \"lines+markers\", \"name\": \"Test Data\", \"xaxis\": \"x2\", \"yaxis\": \"y2\"}, {\"type\": \"scatter\", \"x\": [-1.6838888888888888, -0.7804347826086955, -0.29956521739130443, 0.044074074074074036, 0.30272727272727273, 0.7600000000000001, 1.7135000000000002], \"y\": [0.29794215795328144, 0.3962017597351686, 0.4613508687889213, 0.5170290123914818, 0.5367730770982285, 0.580778735056435, 0.7063976772126552], \"error_y\": {\"type\": \"data\", \"array\": [0.0034109052907172416, 0.00322809683811269, 0.003289756827646396, 0.003043788155832569, 0.003365083680603311, 0.004032618109115327, 0.0032222629727247177], \"color\": \"rgb(0,100,246)\", \"visible\": true}, \"line\": {\"color\": \"rgb(0,176,246)\"}, \"mode\": \"lines+markers\", \"name\": \"Sim Data\", \"xaxis\": \"x2\", \"yaxis\": \"y2\"}], {\"paper_bgcolor\": \"rgb(255,255,255)\", \"plot_bgcolor\": \"rgb(229,229,229)\", \"xaxis\": {\"gridcolor\": \"rgb(255,255,255)\", \"range\": [-2, 2], \"domain\": [0, 0.45], \"showgrid\": true, \"showline\": false, \"showticklabels\": true, \"tickcolor\": \"rgb(127,127,127)\", \"ticks\": \"outside\", \"title\": \"Net Value ($)\", \"zeroline\": false}, \"xaxis2\": {\"gridcolor\": \"rgb(255,255,255)\", \"range\": [-2, 2], \"domain\": [0.55, 1], \"showgrid\": true, \"showline\": false, \"showticklabels\": true, \"tickcolor\": \"rgb(127,127,127)\", \"ticks\": \"outside\", \"title\": \"Net Value ($)\", \"zeroline\": false}, \"yaxis1\": {\"gridcolor\": \"rgb(255,255,255)\", \"range\": [0], \"showgrid\": true, \"showline\": false, \"showticklabels\": true, \"tickcolor\": \"rgb(127,127,127)\", \"ticks\": \"outside\", \"title\": \"RT (s)\", \"anchor\": \"x1\", \"zeroline\": false}, \"yaxis2\": {\"gridcolor\": \"rgb(255,255,255)\", \"range\": [0], \"showgrid\": true, \"showline\": false, \"showticklabels\": true, \"tickcolor\": \"rgb(127,127,127)\", \"ticks\": \"outside\", \"title\": \"p (accept)\", \"anchor\": \"x2\", \"zeroline\": false}, \"annotations\": [{\"x\": 0.01, \"y\": 1.12, \"showarrow\": false, \"text\": \"PARAMETERS: v: 0.026, a: 0.136, \\u03b8: 0.46\", \"xref\": \"paper\", \"yref\": \"paper\"}, {\"x\": 0.01, \"y\": 1.08, \"showarrow\": false, \"text\": \"MLE: 627.37\", \"xref\": \"paper\", \"yref\": \"paper\"}, {\"x\": 0.01, \"y\": 1.2, \"showarrow\": false, \"text\": \"SUBJECT: 20\", \"font\": {\"family\": \"Arial, sans-serif\", \"size\": 22}, \"xref\": \"paper\", \"yref\": \"paper\"}]}, {\"showLink\": true, \"linkText\": \"Export to plot.ly\"})});</script>"
      ],
      "text/vnd.plotly.v1+html": [
       "<div id=\"33d9176f-823a-42cf-b9cd-68d9c67af496\" style=\"height: 525px; width: 100%;\" class=\"plotly-graph-div\"></div><script type=\"text/javascript\">require([\"plotly\"], function(Plotly) { window.PLOTLYENV=window.PLOTLYENV || {};window.PLOTLYENV.BASE_URL=\"https://plot.ly\";Plotly.newPlot(\"33d9176f-823a-42cf-b9cd-68d9c67af496\", [{\"type\": \"scatter\", \"x\": [-1.6838888888888888, -0.7804347826086955, -0.29956521739130443, 0.044074074074074036, 0.30272727272727273, 0.7600000000000001, 1.7135000000000002], \"y\": [2.228803497292878, 2.7841644772131047, 2.653716179795319, 2.532181894794727, 2.858446059481304, 2.591218919741611, 1.8051307235728018], \"error_y\": {\"type\": \"data\", \"array\": [0.23889616603511812, 0.26260143411660414, 0.27200450372357604, 0.1516952073407089, 0.3579844042768868, 0.4669457882395253, 0.13479441445887105], \"color\": \"rgb(0,170,80)\", \"visible\": true}, \"line\": {\"color\": \"rgb(0,100,80)\"}, \"mode\": \"lines+markers\", \"name\": \"Test Data\"}, {\"type\": \"scatter\", \"x\": [-1.6838888888888888, -0.7804347826086955, -0.29956521739130443, 0.044074074074074036, 0.30272727272727273, 0.7600000000000001, 1.7135000000000002], \"y\": [2.566161345939942, 2.6587402648314393, 2.669009580629697, 2.657320026712173, 2.6671788332802016, 2.6789231950844896, 2.561164447336795], \"error_y\": {\"type\": \"data\", \"array\": [0.010355118177706561, 0.009810695293305218, 0.009734000139349918, 0.009004886928406319, 0.010019298615045457, 0.012241312398759505, 0.009918075175752257], \"color\": \"rgb(0,100,246)\", \"visible\": true}, \"line\": {\"color\": \"rgb(0,176,246)\"}, \"mode\": \"lines+markers\", \"name\": \"Sim Data\"}, {\"type\": \"scatter\", \"x\": [-1.6838888888888888, -0.7804347826086955, -0.29956521739130443, 0.044074074074074036, 0.30272727272727273, 0.7600000000000001, 1.7135000000000002], \"y\": [0.05555555555555555, 0.043478260869565216, 0.5652173913043478, 0.6296296296296297, 0.9545454545454546, 0.9333333333333333, 1.0], \"error_y\": {\"type\": \"data\", \"array\": [0.05555555555555555, 0.04347826086956522, 0.10568965974008647, 0.09470524295495533, 0.04545454545454545, 0.06666666666666665, 0.0], \"color\": \"rgb(0,170,80)\", \"visible\": true}, \"line\": {\"color\": \"rgb(0,100,80)\"}, \"mode\": \"lines+markers\", \"name\": \"Test Data\", \"xaxis\": \"x2\", \"yaxis\": \"y2\"}, {\"type\": \"scatter\", \"x\": [-1.6838888888888888, -0.7804347826086955, -0.29956521739130443, 0.044074074074074036, 0.30272727272727273, 0.7600000000000001, 1.7135000000000002], \"y\": [0.29794215795328144, 0.3962017597351686, 0.4613508687889213, 0.5170290123914818, 0.5367730770982285, 0.580778735056435, 0.7063976772126552], \"error_y\": {\"type\": \"data\", \"array\": [0.0034109052907172416, 0.00322809683811269, 0.003289756827646396, 0.003043788155832569, 0.003365083680603311, 0.004032618109115327, 0.0032222629727247177], \"color\": \"rgb(0,100,246)\", \"visible\": true}, \"line\": {\"color\": \"rgb(0,176,246)\"}, \"mode\": \"lines+markers\", \"name\": \"Sim Data\", \"xaxis\": \"x2\", \"yaxis\": \"y2\"}], {\"paper_bgcolor\": \"rgb(255,255,255)\", \"plot_bgcolor\": \"rgb(229,229,229)\", \"xaxis\": {\"gridcolor\": \"rgb(255,255,255)\", \"range\": [-2, 2], \"domain\": [0, 0.45], \"showgrid\": true, \"showline\": false, \"showticklabels\": true, \"tickcolor\": \"rgb(127,127,127)\", \"ticks\": \"outside\", \"title\": \"Net Value ($)\", \"zeroline\": false}, \"xaxis2\": {\"gridcolor\": \"rgb(255,255,255)\", \"range\": [-2, 2], \"domain\": [0.55, 1], \"showgrid\": true, \"showline\": false, \"showticklabels\": true, \"tickcolor\": \"rgb(127,127,127)\", \"ticks\": \"outside\", \"title\": \"Net Value ($)\", \"zeroline\": false}, \"yaxis1\": {\"gridcolor\": \"rgb(255,255,255)\", \"range\": [0], \"showgrid\": true, \"showline\": false, \"showticklabels\": true, \"tickcolor\": \"rgb(127,127,127)\", \"ticks\": \"outside\", \"title\": \"RT (s)\", \"anchor\": \"x1\", \"zeroline\": false}, \"yaxis2\": {\"gridcolor\": \"rgb(255,255,255)\", \"range\": [0], \"showgrid\": true, \"showline\": false, \"showticklabels\": true, \"tickcolor\": \"rgb(127,127,127)\", \"ticks\": \"outside\", \"title\": \"p (accept)\", \"anchor\": \"x2\", \"zeroline\": false}, \"annotations\": [{\"x\": 0.01, \"y\": 1.12, \"showarrow\": false, \"text\": \"PARAMETERS: v: 0.026, a: 0.136, \\u03b8: 0.46\", \"xref\": \"paper\", \"yref\": \"paper\"}, {\"x\": 0.01, \"y\": 1.08, \"showarrow\": false, \"text\": \"MLE: 627.37\", \"xref\": \"paper\", \"yref\": \"paper\"}, {\"x\": 0.01, \"y\": 1.2, \"showarrow\": false, \"text\": \"SUBJECT: 20\", \"font\": {\"family\": \"Arial, sans-serif\", \"size\": 22}, \"xref\": \"paper\", \"yref\": \"paper\"}]}, {\"showLink\": true, \"linkText\": \"Export to plot.ly\"})});</script>"
      ]
     },
     "metadata": {},
     "output_type": "display_data"
    },
    {
     "data": {
      "text/html": [
       "<script>requirejs.config({paths: { 'plotly': ['https://cdn.plot.ly/plotly-latest.min']},});if(!window.Plotly) {{require(['plotly'],function(plotly) {window.Plotly=plotly;});}}</script>"
      ],
      "text/vnd.plotly.v1+html": [
       "<script>requirejs.config({paths: { 'plotly': ['https://cdn.plot.ly/plotly-latest.min']},});if(!window.Plotly) {{require(['plotly'],function(plotly) {window.Plotly=plotly;});}}</script>"
      ]
     },
     "metadata": {},
     "output_type": "display_data"
    },
    {
     "data": {
      "application/vnd.plotly.v1+json": {
       "data": [
        {
         "error_y": {
          "array": [
           0.3118077256767805,
           0.4157580477162434,
           0.48536925440411977,
           0.30685050502357003,
           0.4993361362191596,
           0.4065925022607889,
           0.40756992153804006
          ],
          "color": "rgb(0,170,80)",
          "type": "data",
          "visible": true
         },
         "line": {
          "color": "rgb(0,100,80)"
         },
         "mode": "lines+markers",
         "name": "Test Data",
         "type": "scatter",
         "x": [
          -1.6585000000000005,
          -0.7378947368421054,
          -0.32650000000000007,
          0.029642857142857113,
          0.2914285714285714,
          0.796875,
          1.8939285714285716
         ],
         "y": [
          3.1716958259727117,
          2.8424107588913397,
          3.361843893039624,
          2.794557229453597,
          2.400198578547652,
          2.568326822467496,
          2.657539971324566
         ]
        },
        {
         "error_y": {
          "array": [
           0.014228598174543028,
           0.015321683779453922,
           0.014977853564889568,
           0.012786690618200747,
           0.01805971733498196,
           0.01669918356758537,
           0.011868755775478374
          ],
          "color": "rgb(0,100,246)",
          "type": "data",
          "visible": true
         },
         "line": {
          "color": "rgb(0,176,246)"
         },
         "mode": "lines+markers",
         "name": "Sim Data",
         "type": "scatter",
         "x": [
          -1.6585000000000005,
          -0.7378947368421054,
          -0.32650000000000007,
          0.029642857142857113,
          0.2914285714285714,
          0.796875,
          1.8939285714285716
         ],
         "y": [
          3.594933778548111,
          3.750120904625696,
          3.777328106524097,
          3.7936921126139005,
          3.8069036845983613,
          3.753241370460654,
          3.559769803238214
         ]
        },
        {
         "error_y": {
          "array": [
           0.06882472016116851,
           0.07233518641434492,
           0.10942433098048311,
           0.09597925890831607,
           0.11380392954509881,
           0.11967838846954225,
           0.06734350297014739
          ],
          "color": "rgb(0,170,80)",
          "type": "data",
          "visible": true
         },
         "line": {
          "color": "rgb(0,100,80)"
         },
         "mode": "lines+markers",
         "name": "Test Data",
         "type": "scatter",
         "x": [
          -1.6585000000000005,
          -0.7378947368421054,
          -0.32650000000000007,
          0.029642857142857113,
          0.2914285714285714,
          0.796875,
          1.8939285714285716
         ],
         "xaxis": "x2",
         "y": [
          0.1,
          0.10526315789473684,
          0.65,
          0.5357142857142857,
          0.7857142857142857,
          0.6875,
          0.8571428571428571
         ],
         "yaxis": "y2"
        },
        {
         "error_y": {
          "array": [
           0.003184230869937931,
           0.0035923295912021072,
           0.003576047236274279,
           0.0030303528276625765,
           0.004281469847697128,
           0.0038878579116194173,
           0.0026003228178231577
          ],
          "color": "rgb(0,100,246)",
          "type": "data",
          "visible": true
         },
         "line": {
          "color": "rgb(0,176,246)"
         },
         "mode": "lines+markers",
         "name": "Sim Data",
         "type": "scatter",
         "x": [
          -1.6585000000000005,
          -0.7378947368421054,
          -0.32650000000000007,
          0.029642857142857113,
          0.2914285714285714,
          0.796875,
          1.8939285714285716
         ],
         "xaxis": "x2",
         "y": [
          0.2739090538336052,
          0.3954768715928105,
          0.464346306102514,
          0.5125330785063217,
          0.535593220338983,
          0.6201077890414475,
          0.7524867494373049
         ],
         "yaxis": "y2"
        }
       ],
       "layout": {
        "annotations": [
         {
          "showarrow": false,
          "text": "PARAMETERS: v: 0.026, a: 0.179, θ: 0.28",
          "x": 0.01,
          "xref": "paper",
          "y": 1.12,
          "yref": "paper"
         },
         {
          "showarrow": false,
          "text": "MLE: 1092.43",
          "x": 0.01,
          "xref": "paper",
          "y": 1.08,
          "yref": "paper"
         },
         {
          "font": {
           "family": "Arial, sans-serif",
           "size": 22
          },
          "showarrow": false,
          "text": "SUBJECT: 21",
          "x": 0.01,
          "xref": "paper",
          "y": 1.2,
          "yref": "paper"
         }
        ],
        "paper_bgcolor": "rgb(255,255,255)",
        "plot_bgcolor": "rgb(229,229,229)",
        "xaxis": {
         "domain": [
          0,
          0.45
         ],
         "gridcolor": "rgb(255,255,255)",
         "range": [
          -2,
          2
         ],
         "showgrid": true,
         "showline": false,
         "showticklabels": true,
         "tickcolor": "rgb(127,127,127)",
         "ticks": "outside",
         "title": "Net Value ($)",
         "zeroline": false
        },
        "xaxis2": {
         "domain": [
          0.55,
          1
         ],
         "gridcolor": "rgb(255,255,255)",
         "range": [
          -2,
          2
         ],
         "showgrid": true,
         "showline": false,
         "showticklabels": true,
         "tickcolor": "rgb(127,127,127)",
         "ticks": "outside",
         "title": "Net Value ($)",
         "zeroline": false
        },
        "yaxis1": {
         "anchor": "x1",
         "gridcolor": "rgb(255,255,255)",
         "range": [
          0
         ],
         "showgrid": true,
         "showline": false,
         "showticklabels": true,
         "tickcolor": "rgb(127,127,127)",
         "ticks": "outside",
         "title": "RT (s)",
         "zeroline": false
        },
        "yaxis2": {
         "anchor": "x2",
         "gridcolor": "rgb(255,255,255)",
         "range": [
          0
         ],
         "showgrid": true,
         "showline": false,
         "showticklabels": true,
         "tickcolor": "rgb(127,127,127)",
         "ticks": "outside",
         "title": "p (accept)",
         "zeroline": false
        }
       }
      },
      "text/html": [
       "<div id=\"93d5e892-fbcf-4b33-8a47-e659276d3f4a\" style=\"height: 525px; width: 100%;\" class=\"plotly-graph-div\"></div><script type=\"text/javascript\">require([\"plotly\"], function(Plotly) { window.PLOTLYENV=window.PLOTLYENV || {};window.PLOTLYENV.BASE_URL=\"https://plot.ly\";Plotly.newPlot(\"93d5e892-fbcf-4b33-8a47-e659276d3f4a\", [{\"type\": \"scatter\", \"x\": [-1.6585000000000005, -0.7378947368421054, -0.32650000000000007, 0.029642857142857113, 0.2914285714285714, 0.796875, 1.8939285714285716], \"y\": [3.1716958259727117, 2.8424107588913397, 3.361843893039624, 2.794557229453597, 2.400198578547652, 2.568326822467496, 2.657539971324566], \"error_y\": {\"type\": \"data\", \"array\": [0.3118077256767805, 0.4157580477162434, 0.48536925440411977, 0.30685050502357003, 0.4993361362191596, 0.4065925022607889, 0.40756992153804006], \"color\": \"rgb(0,170,80)\", \"visible\": true}, \"line\": {\"color\": \"rgb(0,100,80)\"}, \"mode\": \"lines+markers\", \"name\": \"Test Data\"}, {\"type\": \"scatter\", \"x\": [-1.6585000000000005, -0.7378947368421054, -0.32650000000000007, 0.029642857142857113, 0.2914285714285714, 0.796875, 1.8939285714285716], \"y\": [3.594933778548111, 3.750120904625696, 3.777328106524097, 3.7936921126139005, 3.8069036845983613, 3.753241370460654, 3.559769803238214], \"error_y\": {\"type\": \"data\", \"array\": [0.014228598174543028, 0.015321683779453922, 0.014977853564889568, 0.012786690618200747, 0.01805971733498196, 0.01669918356758537, 0.011868755775478374], \"color\": \"rgb(0,100,246)\", \"visible\": true}, \"line\": {\"color\": \"rgb(0,176,246)\"}, \"mode\": \"lines+markers\", \"name\": \"Sim Data\"}, {\"type\": \"scatter\", \"x\": [-1.6585000000000005, -0.7378947368421054, -0.32650000000000007, 0.029642857142857113, 0.2914285714285714, 0.796875, 1.8939285714285716], \"y\": [0.1, 0.10526315789473684, 0.65, 0.5357142857142857, 0.7857142857142857, 0.6875, 0.8571428571428571], \"error_y\": {\"type\": \"data\", \"array\": [0.06882472016116851, 0.07233518641434492, 0.10942433098048311, 0.09597925890831607, 0.11380392954509881, 0.11967838846954225, 0.06734350297014739], \"color\": \"rgb(0,170,80)\", \"visible\": true}, \"line\": {\"color\": \"rgb(0,100,80)\"}, \"mode\": \"lines+markers\", \"name\": \"Test Data\", \"xaxis\": \"x2\", \"yaxis\": \"y2\"}, {\"type\": \"scatter\", \"x\": [-1.6585000000000005, -0.7378947368421054, -0.32650000000000007, 0.029642857142857113, 0.2914285714285714, 0.796875, 1.8939285714285716], \"y\": [0.2739090538336052, 0.3954768715928105, 0.464346306102514, 0.5125330785063217, 0.535593220338983, 0.6201077890414475, 0.7524867494373049], \"error_y\": {\"type\": \"data\", \"array\": [0.003184230869937931, 0.0035923295912021072, 0.003576047236274279, 0.0030303528276625765, 0.004281469847697128, 0.0038878579116194173, 0.0026003228178231577], \"color\": \"rgb(0,100,246)\", \"visible\": true}, \"line\": {\"color\": \"rgb(0,176,246)\"}, \"mode\": \"lines+markers\", \"name\": \"Sim Data\", \"xaxis\": \"x2\", \"yaxis\": \"y2\"}], {\"paper_bgcolor\": \"rgb(255,255,255)\", \"plot_bgcolor\": \"rgb(229,229,229)\", \"xaxis\": {\"gridcolor\": \"rgb(255,255,255)\", \"range\": [-2, 2], \"domain\": [0, 0.45], \"showgrid\": true, \"showline\": false, \"showticklabels\": true, \"tickcolor\": \"rgb(127,127,127)\", \"ticks\": \"outside\", \"title\": \"Net Value ($)\", \"zeroline\": false}, \"xaxis2\": {\"gridcolor\": \"rgb(255,255,255)\", \"range\": [-2, 2], \"domain\": [0.55, 1], \"showgrid\": true, \"showline\": false, \"showticklabels\": true, \"tickcolor\": \"rgb(127,127,127)\", \"ticks\": \"outside\", \"title\": \"Net Value ($)\", \"zeroline\": false}, \"yaxis1\": {\"gridcolor\": \"rgb(255,255,255)\", \"range\": [0], \"showgrid\": true, \"showline\": false, \"showticklabels\": true, \"tickcolor\": \"rgb(127,127,127)\", \"ticks\": \"outside\", \"title\": \"RT (s)\", \"anchor\": \"x1\", \"zeroline\": false}, \"yaxis2\": {\"gridcolor\": \"rgb(255,255,255)\", \"range\": [0], \"showgrid\": true, \"showline\": false, \"showticklabels\": true, \"tickcolor\": \"rgb(127,127,127)\", \"ticks\": \"outside\", \"title\": \"p (accept)\", \"anchor\": \"x2\", \"zeroline\": false}, \"annotations\": [{\"x\": 0.01, \"y\": 1.12, \"showarrow\": false, \"text\": \"PARAMETERS: v: 0.026, a: 0.179, \\u03b8: 0.28\", \"xref\": \"paper\", \"yref\": \"paper\"}, {\"x\": 0.01, \"y\": 1.08, \"showarrow\": false, \"text\": \"MLE: 1092.43\", \"xref\": \"paper\", \"yref\": \"paper\"}, {\"x\": 0.01, \"y\": 1.2, \"showarrow\": false, \"text\": \"SUBJECT: 21\", \"font\": {\"family\": \"Arial, sans-serif\", \"size\": 22}, \"xref\": \"paper\", \"yref\": \"paper\"}]}, {\"showLink\": true, \"linkText\": \"Export to plot.ly\"})});</script>"
      ],
      "text/vnd.plotly.v1+html": [
       "<div id=\"93d5e892-fbcf-4b33-8a47-e659276d3f4a\" style=\"height: 525px; width: 100%;\" class=\"plotly-graph-div\"></div><script type=\"text/javascript\">require([\"plotly\"], function(Plotly) { window.PLOTLYENV=window.PLOTLYENV || {};window.PLOTLYENV.BASE_URL=\"https://plot.ly\";Plotly.newPlot(\"93d5e892-fbcf-4b33-8a47-e659276d3f4a\", [{\"type\": \"scatter\", \"x\": [-1.6585000000000005, -0.7378947368421054, -0.32650000000000007, 0.029642857142857113, 0.2914285714285714, 0.796875, 1.8939285714285716], \"y\": [3.1716958259727117, 2.8424107588913397, 3.361843893039624, 2.794557229453597, 2.400198578547652, 2.568326822467496, 2.657539971324566], \"error_y\": {\"type\": \"data\", \"array\": [0.3118077256767805, 0.4157580477162434, 0.48536925440411977, 0.30685050502357003, 0.4993361362191596, 0.4065925022607889, 0.40756992153804006], \"color\": \"rgb(0,170,80)\", \"visible\": true}, \"line\": {\"color\": \"rgb(0,100,80)\"}, \"mode\": \"lines+markers\", \"name\": \"Test Data\"}, {\"type\": \"scatter\", \"x\": [-1.6585000000000005, -0.7378947368421054, -0.32650000000000007, 0.029642857142857113, 0.2914285714285714, 0.796875, 1.8939285714285716], \"y\": [3.594933778548111, 3.750120904625696, 3.777328106524097, 3.7936921126139005, 3.8069036845983613, 3.753241370460654, 3.559769803238214], \"error_y\": {\"type\": \"data\", \"array\": [0.014228598174543028, 0.015321683779453922, 0.014977853564889568, 0.012786690618200747, 0.01805971733498196, 0.01669918356758537, 0.011868755775478374], \"color\": \"rgb(0,100,246)\", \"visible\": true}, \"line\": {\"color\": \"rgb(0,176,246)\"}, \"mode\": \"lines+markers\", \"name\": \"Sim Data\"}, {\"type\": \"scatter\", \"x\": [-1.6585000000000005, -0.7378947368421054, -0.32650000000000007, 0.029642857142857113, 0.2914285714285714, 0.796875, 1.8939285714285716], \"y\": [0.1, 0.10526315789473684, 0.65, 0.5357142857142857, 0.7857142857142857, 0.6875, 0.8571428571428571], \"error_y\": {\"type\": \"data\", \"array\": [0.06882472016116851, 0.07233518641434492, 0.10942433098048311, 0.09597925890831607, 0.11380392954509881, 0.11967838846954225, 0.06734350297014739], \"color\": \"rgb(0,170,80)\", \"visible\": true}, \"line\": {\"color\": \"rgb(0,100,80)\"}, \"mode\": \"lines+markers\", \"name\": \"Test Data\", \"xaxis\": \"x2\", \"yaxis\": \"y2\"}, {\"type\": \"scatter\", \"x\": [-1.6585000000000005, -0.7378947368421054, -0.32650000000000007, 0.029642857142857113, 0.2914285714285714, 0.796875, 1.8939285714285716], \"y\": [0.2739090538336052, 0.3954768715928105, 0.464346306102514, 0.5125330785063217, 0.535593220338983, 0.6201077890414475, 0.7524867494373049], \"error_y\": {\"type\": \"data\", \"array\": [0.003184230869937931, 0.0035923295912021072, 0.003576047236274279, 0.0030303528276625765, 0.004281469847697128, 0.0038878579116194173, 0.0026003228178231577], \"color\": \"rgb(0,100,246)\", \"visible\": true}, \"line\": {\"color\": \"rgb(0,176,246)\"}, \"mode\": \"lines+markers\", \"name\": \"Sim Data\", \"xaxis\": \"x2\", \"yaxis\": \"y2\"}], {\"paper_bgcolor\": \"rgb(255,255,255)\", \"plot_bgcolor\": \"rgb(229,229,229)\", \"xaxis\": {\"gridcolor\": \"rgb(255,255,255)\", \"range\": [-2, 2], \"domain\": [0, 0.45], \"showgrid\": true, \"showline\": false, \"showticklabels\": true, \"tickcolor\": \"rgb(127,127,127)\", \"ticks\": \"outside\", \"title\": \"Net Value ($)\", \"zeroline\": false}, \"xaxis2\": {\"gridcolor\": \"rgb(255,255,255)\", \"range\": [-2, 2], \"domain\": [0.55, 1], \"showgrid\": true, \"showline\": false, \"showticklabels\": true, \"tickcolor\": \"rgb(127,127,127)\", \"ticks\": \"outside\", \"title\": \"Net Value ($)\", \"zeroline\": false}, \"yaxis1\": {\"gridcolor\": \"rgb(255,255,255)\", \"range\": [0], \"showgrid\": true, \"showline\": false, \"showticklabels\": true, \"tickcolor\": \"rgb(127,127,127)\", \"ticks\": \"outside\", \"title\": \"RT (s)\", \"anchor\": \"x1\", \"zeroline\": false}, \"yaxis2\": {\"gridcolor\": \"rgb(255,255,255)\", \"range\": [0], \"showgrid\": true, \"showline\": false, \"showticklabels\": true, \"tickcolor\": \"rgb(127,127,127)\", \"ticks\": \"outside\", \"title\": \"p (accept)\", \"anchor\": \"x2\", \"zeroline\": false}, \"annotations\": [{\"x\": 0.01, \"y\": 1.12, \"showarrow\": false, \"text\": \"PARAMETERS: v: 0.026, a: 0.179, \\u03b8: 0.28\", \"xref\": \"paper\", \"yref\": \"paper\"}, {\"x\": 0.01, \"y\": 1.08, \"showarrow\": false, \"text\": \"MLE: 1092.43\", \"xref\": \"paper\", \"yref\": \"paper\"}, {\"x\": 0.01, \"y\": 1.2, \"showarrow\": false, \"text\": \"SUBJECT: 21\", \"font\": {\"family\": \"Arial, sans-serif\", \"size\": 22}, \"xref\": \"paper\", \"yref\": \"paper\"}]}, {\"showLink\": true, \"linkText\": \"Export to plot.ly\"})});</script>"
      ]
     },
     "metadata": {},
     "output_type": "display_data"
    },
    {
     "data": {
      "text/html": [
       "<script>requirejs.config({paths: { 'plotly': ['https://cdn.plot.ly/plotly-latest.min']},});if(!window.Plotly) {{require(['plotly'],function(plotly) {window.Plotly=plotly;});}}</script>"
      ],
      "text/vnd.plotly.v1+html": [
       "<script>requirejs.config({paths: { 'plotly': ['https://cdn.plot.ly/plotly-latest.min']},});if(!window.Plotly) {{require(['plotly'],function(plotly) {window.Plotly=plotly;});}}</script>"
      ]
     },
     "metadata": {},
     "output_type": "display_data"
    },
    {
     "data": {
      "application/vnd.plotly.v1+json": {
       "data": [
        {
         "error_y": {
          "array": [
           0.19173348011571628,
           0.5611668883511371,
           0.3445719090842054,
           0.3016608943141484,
           0.1986324750225816,
           0.376504634637793,
           0.20831930727925804
          ],
          "color": "rgb(0,170,80)",
          "type": "data",
          "visible": true
         },
         "line": {
          "color": "rgb(0,100,80)"
         },
         "mode": "lines+markers",
         "name": "Test Data",
         "type": "scatter",
         "x": [
          -1.6217391304347828,
          -0.765,
          -0.32772727272727276,
          0.036399999999999946,
          0.30249999999999994,
          0.7152941176470591,
          1.5676
         ],
         "y": [
          2.216818046609304,
          3.108484979552616,
          3.016053792057474,
          3.3867811144399464,
          2.9161136444114777,
          2.415822366468252,
          2.1334348148759457
         ]
        },
        {
         "error_y": {
          "array": [
           0.010321103219867258,
           0.015992979886309034,
           0.014105328934003444,
           0.012832030681003458,
           0.013351902976701404,
           0.014931489887932066,
           0.010333337901090627
          ],
          "color": "rgb(0,100,246)",
          "type": "data",
          "visible": true
         },
         "line": {
          "color": "rgb(0,176,246)"
         },
         "mode": "lines+markers",
         "name": "Sim Data",
         "type": "scatter",
         "x": [
          -1.6217391304347828,
          -0.765,
          -0.32772727272727276,
          0.036399999999999946,
          0.30249999999999994,
          0.7152941176470591,
          1.5676
         ],
         "y": [
          2.944993143805398,
          3.415272595701554,
          3.7192748412401797,
          3.5372472015687766,
          3.6750726907973186,
          3.4265868617497945,
          2.9923729999195925
         ]
        },
        {
         "error_y": {
          "array": [
           0,
           0.09705231721239391,
           0.09144861547306322,
           0.09165151389911681,
           0.09477598811252413,
           0,
           0.04
          ],
          "color": "rgb(0,170,80)",
          "type": "data",
          "visible": true
         },
         "line": {
          "color": "rgb(0,100,80)"
         },
         "mode": "lines+markers",
         "name": "Test Data",
         "type": "scatter",
         "x": [
          -1.6217391304347828,
          -0.765,
          -0.32772727272727276,
          0.036399999999999946,
          0.30249999999999994,
          0.7152941176470591,
          1.5676
         ],
         "xaxis": "x2",
         "y": [
          0,
          0.14285714285714285,
          0.22727272727272727,
          0.72,
          0.7083333333333334,
          1,
          0.96
         ],
         "yaxis": "y2"
        },
        {
         "error_y": {
          "array": [
           0.0018674748156105537,
           0.003567566430662596,
           0.003323757154976305,
           0.003194515783540956,
           0.0031835115349378228,
           0.0032685537544664767,
           0.0018205401383264107
          ],
          "color": "rgb(0,100,246)",
          "type": "data",
          "visible": true
         },
         "line": {
          "color": "rgb(0,176,246)"
         },
         "mode": "lines+markers",
         "name": "Sim Data",
         "type": "scatter",
         "x": [
          -1.6217391304347828,
          -0.765,
          -0.32772727272727276,
          0.036399999999999946,
          0.30249999999999994,
          0.7152941176470591,
          1.5676
         ],
         "xaxis": "x2",
         "y": [
          0.08751473863487488,
          0.22772993704320138,
          0.38415203586103847,
          0.4853746221096495,
          0.6121307836776507,
          0.7666766198865332,
          0.9093430891694139
         ],
         "yaxis": "y2"
        }
       ],
       "layout": {
        "annotations": [
         {
          "showarrow": false,
          "text": "PARAMETERS: v: 0.067, a: 0.179, θ: 0.28",
          "x": 0.01,
          "xref": "paper",
          "y": 1.12,
          "yref": "paper"
         },
         {
          "showarrow": false,
          "text": "MLE: 633.3",
          "x": 0.01,
          "xref": "paper",
          "y": 1.08,
          "yref": "paper"
         },
         {
          "font": {
           "family": "Arial, sans-serif",
           "size": 22
          },
          "showarrow": false,
          "text": "SUBJECT: 22",
          "x": 0.01,
          "xref": "paper",
          "y": 1.2,
          "yref": "paper"
         }
        ],
        "paper_bgcolor": "rgb(255,255,255)",
        "plot_bgcolor": "rgb(229,229,229)",
        "xaxis": {
         "domain": [
          0,
          0.45
         ],
         "gridcolor": "rgb(255,255,255)",
         "range": [
          -2,
          2
         ],
         "showgrid": true,
         "showline": false,
         "showticklabels": true,
         "tickcolor": "rgb(127,127,127)",
         "ticks": "outside",
         "title": "Net Value ($)",
         "zeroline": false
        },
        "xaxis2": {
         "domain": [
          0.55,
          1
         ],
         "gridcolor": "rgb(255,255,255)",
         "range": [
          -2,
          2
         ],
         "showgrid": true,
         "showline": false,
         "showticklabels": true,
         "tickcolor": "rgb(127,127,127)",
         "ticks": "outside",
         "title": "Net Value ($)",
         "zeroline": false
        },
        "yaxis1": {
         "anchor": "x1",
         "gridcolor": "rgb(255,255,255)",
         "range": [
          0
         ],
         "showgrid": true,
         "showline": false,
         "showticklabels": true,
         "tickcolor": "rgb(127,127,127)",
         "ticks": "outside",
         "title": "RT (s)",
         "zeroline": false
        },
        "yaxis2": {
         "anchor": "x2",
         "gridcolor": "rgb(255,255,255)",
         "range": [
          0
         ],
         "showgrid": true,
         "showline": false,
         "showticklabels": true,
         "tickcolor": "rgb(127,127,127)",
         "ticks": "outside",
         "title": "p (accept)",
         "zeroline": false
        }
       }
      },
      "text/html": [
       "<div id=\"178d4143-9e1a-4369-a5b9-db83e6eeba5e\" style=\"height: 525px; width: 100%;\" class=\"plotly-graph-div\"></div><script type=\"text/javascript\">require([\"plotly\"], function(Plotly) { window.PLOTLYENV=window.PLOTLYENV || {};window.PLOTLYENV.BASE_URL=\"https://plot.ly\";Plotly.newPlot(\"178d4143-9e1a-4369-a5b9-db83e6eeba5e\", [{\"type\": \"scatter\", \"x\": [-1.6217391304347828, -0.765, -0.32772727272727276, 0.036399999999999946, 0.30249999999999994, 0.7152941176470591, 1.5676], \"y\": [2.216818046609304, 3.108484979552616, 3.016053792057474, 3.3867811144399464, 2.9161136444114777, 2.415822366468252, 2.1334348148759457], \"error_y\": {\"type\": \"data\", \"array\": [0.19173348011571628, 0.5611668883511371, 0.3445719090842054, 0.3016608943141484, 0.1986324750225816, 0.376504634637793, 0.20831930727925804], \"color\": \"rgb(0,170,80)\", \"visible\": true}, \"line\": {\"color\": \"rgb(0,100,80)\"}, \"mode\": \"lines+markers\", \"name\": \"Test Data\"}, {\"type\": \"scatter\", \"x\": [-1.6217391304347828, -0.765, -0.32772727272727276, 0.036399999999999946, 0.30249999999999994, 0.7152941176470591, 1.5676], \"y\": [2.944993143805398, 3.415272595701554, 3.7192748412401797, 3.5372472015687766, 3.6750726907973186, 3.4265868617497945, 2.9923729999195925], \"error_y\": {\"type\": \"data\", \"array\": [0.010321103219867258, 0.015992979886309034, 0.014105328934003444, 0.012832030681003458, 0.013351902976701404, 0.014931489887932066, 0.010333337901090627], \"color\": \"rgb(0,100,246)\", \"visible\": true}, \"line\": {\"color\": \"rgb(0,176,246)\"}, \"mode\": \"lines+markers\", \"name\": \"Sim Data\"}, {\"type\": \"scatter\", \"x\": [-1.6217391304347828, -0.765, -0.32772727272727276, 0.036399999999999946, 0.30249999999999994, 0.7152941176470591, 1.5676], \"y\": [0.0, 0.14285714285714285, 0.22727272727272727, 0.72, 0.7083333333333334, 1.0, 0.96], \"error_y\": {\"type\": \"data\", \"array\": [0.0, 0.09705231721239391, 0.09144861547306322, 0.09165151389911681, 0.09477598811252413, 0.0, 0.04], \"color\": \"rgb(0,170,80)\", \"visible\": true}, \"line\": {\"color\": \"rgb(0,100,80)\"}, \"mode\": \"lines+markers\", \"name\": \"Test Data\", \"xaxis\": \"x2\", \"yaxis\": \"y2\"}, {\"type\": \"scatter\", \"x\": [-1.6217391304347828, -0.765, -0.32772727272727276, 0.036399999999999946, 0.30249999999999994, 0.7152941176470591, 1.5676], \"y\": [0.08751473863487488, 0.22772993704320138, 0.38415203586103847, 0.4853746221096495, 0.6121307836776507, 0.7666766198865332, 0.9093430891694139], \"error_y\": {\"type\": \"data\", \"array\": [0.0018674748156105537, 0.003567566430662596, 0.003323757154976305, 0.003194515783540956, 0.0031835115349378228, 0.0032685537544664767, 0.0018205401383264107], \"color\": \"rgb(0,100,246)\", \"visible\": true}, \"line\": {\"color\": \"rgb(0,176,246)\"}, \"mode\": \"lines+markers\", \"name\": \"Sim Data\", \"xaxis\": \"x2\", \"yaxis\": \"y2\"}], {\"paper_bgcolor\": \"rgb(255,255,255)\", \"plot_bgcolor\": \"rgb(229,229,229)\", \"xaxis\": {\"gridcolor\": \"rgb(255,255,255)\", \"range\": [-2, 2], \"domain\": [0, 0.45], \"showgrid\": true, \"showline\": false, \"showticklabels\": true, \"tickcolor\": \"rgb(127,127,127)\", \"ticks\": \"outside\", \"title\": \"Net Value ($)\", \"zeroline\": false}, \"xaxis2\": {\"gridcolor\": \"rgb(255,255,255)\", \"range\": [-2, 2], \"domain\": [0.55, 1], \"showgrid\": true, \"showline\": false, \"showticklabels\": true, \"tickcolor\": \"rgb(127,127,127)\", \"ticks\": \"outside\", \"title\": \"Net Value ($)\", \"zeroline\": false}, \"yaxis1\": {\"gridcolor\": \"rgb(255,255,255)\", \"range\": [0], \"showgrid\": true, \"showline\": false, \"showticklabels\": true, \"tickcolor\": \"rgb(127,127,127)\", \"ticks\": \"outside\", \"title\": \"RT (s)\", \"anchor\": \"x1\", \"zeroline\": false}, \"yaxis2\": {\"gridcolor\": \"rgb(255,255,255)\", \"range\": [0], \"showgrid\": true, \"showline\": false, \"showticklabels\": true, \"tickcolor\": \"rgb(127,127,127)\", \"ticks\": \"outside\", \"title\": \"p (accept)\", \"anchor\": \"x2\", \"zeroline\": false}, \"annotations\": [{\"x\": 0.01, \"y\": 1.12, \"showarrow\": false, \"text\": \"PARAMETERS: v: 0.067, a: 0.179, \\u03b8: 0.28\", \"xref\": \"paper\", \"yref\": \"paper\"}, {\"x\": 0.01, \"y\": 1.08, \"showarrow\": false, \"text\": \"MLE: 633.3\", \"xref\": \"paper\", \"yref\": \"paper\"}, {\"x\": 0.01, \"y\": 1.2, \"showarrow\": false, \"text\": \"SUBJECT: 22\", \"font\": {\"family\": \"Arial, sans-serif\", \"size\": 22}, \"xref\": \"paper\", \"yref\": \"paper\"}]}, {\"showLink\": true, \"linkText\": \"Export to plot.ly\"})});</script>"
      ],
      "text/vnd.plotly.v1+html": [
       "<div id=\"178d4143-9e1a-4369-a5b9-db83e6eeba5e\" style=\"height: 525px; width: 100%;\" class=\"plotly-graph-div\"></div><script type=\"text/javascript\">require([\"plotly\"], function(Plotly) { window.PLOTLYENV=window.PLOTLYENV || {};window.PLOTLYENV.BASE_URL=\"https://plot.ly\";Plotly.newPlot(\"178d4143-9e1a-4369-a5b9-db83e6eeba5e\", [{\"type\": \"scatter\", \"x\": [-1.6217391304347828, -0.765, -0.32772727272727276, 0.036399999999999946, 0.30249999999999994, 0.7152941176470591, 1.5676], \"y\": [2.216818046609304, 3.108484979552616, 3.016053792057474, 3.3867811144399464, 2.9161136444114777, 2.415822366468252, 2.1334348148759457], \"error_y\": {\"type\": \"data\", \"array\": [0.19173348011571628, 0.5611668883511371, 0.3445719090842054, 0.3016608943141484, 0.1986324750225816, 0.376504634637793, 0.20831930727925804], \"color\": \"rgb(0,170,80)\", \"visible\": true}, \"line\": {\"color\": \"rgb(0,100,80)\"}, \"mode\": \"lines+markers\", \"name\": \"Test Data\"}, {\"type\": \"scatter\", \"x\": [-1.6217391304347828, -0.765, -0.32772727272727276, 0.036399999999999946, 0.30249999999999994, 0.7152941176470591, 1.5676], \"y\": [2.944993143805398, 3.415272595701554, 3.7192748412401797, 3.5372472015687766, 3.6750726907973186, 3.4265868617497945, 2.9923729999195925], \"error_y\": {\"type\": \"data\", \"array\": [0.010321103219867258, 0.015992979886309034, 0.014105328934003444, 0.012832030681003458, 0.013351902976701404, 0.014931489887932066, 0.010333337901090627], \"color\": \"rgb(0,100,246)\", \"visible\": true}, \"line\": {\"color\": \"rgb(0,176,246)\"}, \"mode\": \"lines+markers\", \"name\": \"Sim Data\"}, {\"type\": \"scatter\", \"x\": [-1.6217391304347828, -0.765, -0.32772727272727276, 0.036399999999999946, 0.30249999999999994, 0.7152941176470591, 1.5676], \"y\": [0.0, 0.14285714285714285, 0.22727272727272727, 0.72, 0.7083333333333334, 1.0, 0.96], \"error_y\": {\"type\": \"data\", \"array\": [0.0, 0.09705231721239391, 0.09144861547306322, 0.09165151389911681, 0.09477598811252413, 0.0, 0.04], \"color\": \"rgb(0,170,80)\", \"visible\": true}, \"line\": {\"color\": \"rgb(0,100,80)\"}, \"mode\": \"lines+markers\", \"name\": \"Test Data\", \"xaxis\": \"x2\", \"yaxis\": \"y2\"}, {\"type\": \"scatter\", \"x\": [-1.6217391304347828, -0.765, -0.32772727272727276, 0.036399999999999946, 0.30249999999999994, 0.7152941176470591, 1.5676], \"y\": [0.08751473863487488, 0.22772993704320138, 0.38415203586103847, 0.4853746221096495, 0.6121307836776507, 0.7666766198865332, 0.9093430891694139], \"error_y\": {\"type\": \"data\", \"array\": [0.0018674748156105537, 0.003567566430662596, 0.003323757154976305, 0.003194515783540956, 0.0031835115349378228, 0.0032685537544664767, 0.0018205401383264107], \"color\": \"rgb(0,100,246)\", \"visible\": true}, \"line\": {\"color\": \"rgb(0,176,246)\"}, \"mode\": \"lines+markers\", \"name\": \"Sim Data\", \"xaxis\": \"x2\", \"yaxis\": \"y2\"}], {\"paper_bgcolor\": \"rgb(255,255,255)\", \"plot_bgcolor\": \"rgb(229,229,229)\", \"xaxis\": {\"gridcolor\": \"rgb(255,255,255)\", \"range\": [-2, 2], \"domain\": [0, 0.45], \"showgrid\": true, \"showline\": false, \"showticklabels\": true, \"tickcolor\": \"rgb(127,127,127)\", \"ticks\": \"outside\", \"title\": \"Net Value ($)\", \"zeroline\": false}, \"xaxis2\": {\"gridcolor\": \"rgb(255,255,255)\", \"range\": [-2, 2], \"domain\": [0.55, 1], \"showgrid\": true, \"showline\": false, \"showticklabels\": true, \"tickcolor\": \"rgb(127,127,127)\", \"ticks\": \"outside\", \"title\": \"Net Value ($)\", \"zeroline\": false}, \"yaxis1\": {\"gridcolor\": \"rgb(255,255,255)\", \"range\": [0], \"showgrid\": true, \"showline\": false, \"showticklabels\": true, \"tickcolor\": \"rgb(127,127,127)\", \"ticks\": \"outside\", \"title\": \"RT (s)\", \"anchor\": \"x1\", \"zeroline\": false}, \"yaxis2\": {\"gridcolor\": \"rgb(255,255,255)\", \"range\": [0], \"showgrid\": true, \"showline\": false, \"showticklabels\": true, \"tickcolor\": \"rgb(127,127,127)\", \"ticks\": \"outside\", \"title\": \"p (accept)\", \"anchor\": \"x2\", \"zeroline\": false}, \"annotations\": [{\"x\": 0.01, \"y\": 1.12, \"showarrow\": false, \"text\": \"PARAMETERS: v: 0.067, a: 0.179, \\u03b8: 0.28\", \"xref\": \"paper\", \"yref\": \"paper\"}, {\"x\": 0.01, \"y\": 1.08, \"showarrow\": false, \"text\": \"MLE: 633.3\", \"xref\": \"paper\", \"yref\": \"paper\"}, {\"x\": 0.01, \"y\": 1.2, \"showarrow\": false, \"text\": \"SUBJECT: 22\", \"font\": {\"family\": \"Arial, sans-serif\", \"size\": 22}, \"xref\": \"paper\", \"yref\": \"paper\"}]}, {\"showLink\": true, \"linkText\": \"Export to plot.ly\"})});</script>"
      ]
     },
     "metadata": {},
     "output_type": "display_data"
    }
   ],
   "source": [
    "for i in range(23):\n",
    "    plotly_combined(i)"
   ]
  },
  {
   "cell_type": "code",
   "execution_count": null,
   "metadata": {
    "collapsed": true
   },
   "outputs": [],
   "source": []
  }
 ],
 "metadata": {
  "anaconda-cloud": {},
  "kernelspec": {
   "display_name": "Python [conda env:python3]",
   "language": "python",
   "name": "conda-env-python3-py"
  },
  "language_info": {
   "codemirror_mode": {
    "name": "ipython",
    "version": 3
   },
   "file_extension": ".py",
   "mimetype": "text/x-python",
   "name": "python",
   "nbconvert_exporter": "python",
   "pygments_lexer": "ipython3",
   "version": "3.6.1"
  },
  "toc": {
   "nav_menu": {},
   "number_sections": true,
   "sideBar": true,
   "skip_h1_title": false,
   "title_cell": "Table of Contents",
   "title_sidebar": "Contents",
   "toc_cell": true,
   "toc_position": {},
   "toc_section_display": true,
   "toc_window_display": true
  }
 },
 "nbformat": 4,
 "nbformat_minor": 2
}
