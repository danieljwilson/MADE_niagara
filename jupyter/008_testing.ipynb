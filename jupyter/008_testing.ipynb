{
 "cells": [
  {
   "cell_type": "markdown",
   "metadata": {},
   "source": [
    "# Adding synthetic RT dist"
   ]
  },
  {
   "cell_type": "code",
   "execution_count": 2,
   "metadata": {},
   "outputs": [],
   "source": [
    "import sys\n",
    "import os\n",
    "import collections\n",
    "import time\n",
    "import datetime\n",
    "import multiprocessing\n",
    "import concurrent.futures\n",
    "import numpy as np\n",
    "import pandas as pd\n",
    "import pickle\n",
    "sys.path.append('/scratch/c/chutcher/wilsodj/MADE/')\n",
    "import modules.utils_addm_008 as utils_addm     # for importing custom module\n",
    "import importlib"
   ]
  },
  {
   "cell_type": "code",
   "execution_count": 118,
   "metadata": {
    "scrolled": true
   },
   "outputs": [
    {
     "data": {
      "text/plain": [
       "<module 'modules.utils_addm_008' from '/scratch/c/chutcher/wilsodj/MADE/modules/utils_addm_008.py'>"
      ]
     },
     "execution_count": 118,
     "metadata": {},
     "output_type": "execute_result"
    }
   ],
   "source": [
    "importlib.reload(utils_addm)"
   ]
  },
  {
   "cell_type": "code",
   "execution_count": 104,
   "metadata": {},
   "outputs": [
    {
     "name": "stdout",
     "output_type": "stream",
     "text": [
      "008/output/sub_1_2018_11_11_13_01a_sim\n"
     ]
    }
   ],
   "source": [
    "version_num = \"008/\"  # version\n",
    "node_num = 1          # which node\n",
    "script = \"01a_sim\"      # which script\n",
    "\n",
    "subject=str(1)   # which subject\n",
    "\n",
    "# Date\n",
    "now = datetime.datetime.now().strftime('%Y_%m_%d_%H_')\n",
    "print(version_num + \"output/\" + \"sub_\" + subject + \"_\" + now + script)\n",
    "\n",
    "# Path\n",
    "save_path = \"MADE/\" + \"version/\" + version_num + \"output/\" + \"sub_\" + subject + \"/\" + now + script + \"/\" \n",
    "# Make directory\n",
    "os.makedirs(save_path, exist_ok=True)"
   ]
  },
  {
   "cell_type": "code",
   "execution_count": 105,
   "metadata": {},
   "outputs": [],
   "source": [
    "# Project Path\n",
    "path = \"/scratch/c/chutcher/wilsodj/MADE/\"\n",
    "# Trial Data\n",
    "expdata_file_name = path + \"data/made_v2/expdata.csv\"\n",
    "# Fixation Data\n",
    "fixations_file_name = path + \"data/made_v2/fixations.csv\"\n",
    "# Synth First Fixations \n",
    "## Need eno\n",
    "first_fix_synth_dist = pickle.load(open(path + \"version/008/files/first_fix_synth_dist.p\", \"rb\"), encoding='bytes')\n",
    "# Synth Mid Fixations\n",
    "mid_fix_synth_dist = pickle.load(open(path + \"version/008/files/mid_fix_synth_dist.p\", \"rb\"), encoding='bytes')"
   ]
  },
  {
   "cell_type": "code",
   "execution_count": 106,
   "metadata": {},
   "outputs": [
    {
     "name": "stdout",
     "output_type": "stream",
     "text": [
      "Your parameter search space is size: (21504, 4).\n",
      "You will run 1000 simulations for each of 81 value combinations for a total of 81000 simulations.\n"
     ]
    }
   ],
   "source": [
    "# SCALING VALUE FOR DRIFT\n",
    "drift_weight = np.linspace(0.005, 0.15, 16)\n",
    "# BOUNDARY VALUE\n",
    "upper_boundary = np.linspace(0.05, 0.35, 16)\n",
    "# THETA VALUE\n",
    "theta = np.linspace(0.1, 1, 12)\n",
    "# START BIAS VALUE\n",
    "sp_bias = np.linspace(-0.3, 0.3, 7)\n",
    "parameter_combos = utils_addm.parameter_values(drift_weight, upper_boundary, theta, sp_bias)\n",
    "# To save search space later\n",
    "parameter_search_space = {\"drift_weight\": drift_weight,\n",
    "                          \"upper_boundary\": upper_boundary,\n",
    "                          \"theta\": theta,\n",
    "                          \"sp_bias\": sp_bias}\n",
    "\n",
    "\n",
    "#----------------#\n",
    "# VALUES ARRAY   #\n",
    "#----------------#\n",
    "sims_per_val = 1000\n",
    "# Get left and right values from data\n",
    "values_array_addm = utils_addm.values_for_simulation_addm(expdata_file_name, sims_per_val)\n",
    "# Create num_sims var\n",
    "num_sims = values_array_addm.shape[1]\n",
    "\n",
    "input_vals = utils_addm.Input_Values(\n",
    "    parameter_combos=parameter_combos,\n",
    "    values_array=values_array_addm,\n",
    "    num_sims=num_sims,\n",
    "    max_fix = 21,           # max number of fixations for simulation array\n",
    "    \n",
    "    startVar=0,\n",
    "    nonDec=0.3,\n",
    "    nonDecVar=0,\n",
    "    driftVar=0,\n",
    "    maxRT=10,\n",
    "    precision=0.001,        # ms precision\n",
    "    s=0.1,                  # scaling factor (Ratcliff) (check if variance or SD)\n",
    ")"
   ]
  },
  {
   "cell_type": "code",
   "execution_count": 107,
   "metadata": {},
   "outputs": [],
   "source": [
    "subject = int(subject)"
   ]
  },
  {
   "cell_type": "code",
   "execution_count": 121,
   "metadata": {},
   "outputs": [],
   "source": [
    "def rt_dist_sim(parameters):\n",
    "    # NEXT: dwell_array would be by individual\n",
    "    dwell_array = utils_addm.create_synth_dwell_array(input_vals, \n",
    "                                                      first_fix_synth_dist[subject], \n",
    "                                                      mid_fix_synth_dist[subject])\n",
    "    \n",
    "    print(dwell_array.shape)\n",
    "    # Run simulations\n",
    "    rtDist = utils_addm.simul_addm_rt_dist(parameters, input_vals, dwell_array, 'percent')\n",
    "\n",
    "    return rtDist"
   ]
  },
  {
   "cell_type": "code",
   "execution_count": 178,
   "metadata": {},
   "outputs": [
    {
     "name": "stdout",
     "output_type": "stream",
     "text": [
      "(21, 81000)\n"
     ]
    }
   ],
   "source": [
    "x3 = rt_dist_sim(parameter_combos[5000])"
   ]
  }
 ],
 "metadata": {
  "kernelspec": {
   "display_name": "Python 3",
   "language": "python",
   "name": "python3"
  },
  "language_info": {
   "codemirror_mode": {
    "name": "ipython",
    "version": 3
   },
   "file_extension": ".py",
   "mimetype": "text/x-python",
   "name": "python",
   "nbconvert_exporter": "python",
   "pygments_lexer": "ipython3",
   "version": "3.6.4"
  }
 },
 "nbformat": 4,
 "nbformat_minor": 2
}
